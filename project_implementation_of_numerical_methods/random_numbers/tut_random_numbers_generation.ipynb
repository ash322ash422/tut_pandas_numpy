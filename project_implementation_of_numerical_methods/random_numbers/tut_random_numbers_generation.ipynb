{
 "cells": [
  {
   "cell_type": "markdown",
   "id": "fa2efce6-f793-4405-80e0-3d4c4c994b9f",
   "metadata": {},
   "source": [
    "# Random Number Generation\n",
    "Here I use python and numpy\n",
    "- Linear Congruential Generator\n",
    "- Middle Square Method\n",
    "- Blum Blum Shub"
   ]
  },
  {
   "cell_type": "code",
   "execution_count": 12,
   "id": "5ab75549-3378-4a62-8302-d59b9b5a40fa",
   "metadata": {},
   "outputs": [],
   "source": [
    "import numpy as np"
   ]
  },
  {
   "cell_type": "markdown",
   "id": "c858e184-d7cf-46b6-96f8-0eaba7d761ec",
   "metadata": {},
   "source": [
    "Here I show 3 simple function that are used for random number generation.\n",
    "\n",
    "## 1. Linear Congruential Generator (LCG):\n",
    "```\n",
    "𝑋(n+1) = (a * X(n) + c ) mod m\n",
    "\n",
    "Let a=5, c=3, m=16\n",
    "\n",
    "and start with seed X(0) = 7\n",
    "\n",
    "So,\n",
    "\n",
    "X(1) = (5*7+3) mod16 = (35+3) mod16 = 38 mod16 = 6\n",
    "\n",
    "X(2) = (5*6+3) mod16 = (30+3) mod16 = 33 mod16 = 1\n",
    "\n",
    "X(3) = (5*1+3) mod16 = (5+3) mod16 = 8 mod16 = 8\n",
    "\n",
    "X(4) = 11 and so on\n",
    "\n",
    "So the random sequence with seed=7 is 7, 6, 1, 8, 11, …\n",
    "```"
   ]
  },
  {
   "cell_type": "code",
   "execution_count": 13,
   "id": "b046a7cb-8084-4147-8ece-f7c3070b127f",
   "metadata": {},
   "outputs": [
    {
     "name": "stdout",
     "output_type": "stream",
     "text": [
      "[7, 6, 1, 8, 11, 10, 5, 12, 15, 14]\n"
     ]
    }
   ],
   "source": [
    "# Linear Congruential Generator (LCG)\n",
    "# step1: Using plain python\n",
    "\n",
    "def lcg(seed, a=5, c=3, m=16, n=10):\n",
    "    numbers = [seed]\n",
    "    x = seed\n",
    "    for _ in range(n-1):\n",
    "        x = (a * x + c) % m\n",
    "        numbers.append(x)\n",
    "    return numbers\n",
    "\n",
    "\n",
    "# Call above. Generate 10 random numbers\n",
    "sequence = lcg(seed=7, n=10)\n",
    "print(sequence)\n",
    "\n",
    "# Above is OK for upto 10K random numbers. The speed would go down as numbers increase"
   ]
  },
  {
   "cell_type": "code",
   "execution_count": 14,
   "id": "19f63fcf-2507-4d52-86bc-fbbdac0e811c",
   "metadata": {},
   "outputs": [
    {
     "name": "stdout",
     "output_type": "stream",
     "text": [
      "[ 7  6  1  8 11 10  5 12 15 14]\n"
     ]
    }
   ],
   "source": [
    "# step2: Using numpy for generating 1 million+ random numbers\n",
    "\n",
    "def lcg_numpy(seed, a=5, c=3, m=16, n=10):\n",
    "    numbers = np.empty(n, dtype=np.int64)\n",
    "    numbers[0] = seed\n",
    "    for i in range(1, n):\n",
    "        numbers[i] = (a * numbers[i-1] + c) % m\n",
    "    return numbers\n",
    "\n",
    "# Call above. Generate 10 random numbers\n",
    "sequence = lcg_numpy(7, n=10)\n",
    "print(sequence)"
   ]
  },
  {
   "cell_type": "code",
   "execution_count": null,
   "id": "87dc0f73-0078-4e74-97d1-e0b188adfad2",
   "metadata": {},
   "outputs": [],
   "source": []
  },
  {
   "cell_type": "code",
   "execution_count": null,
   "id": "8034d61f-f8a3-4e72-a65c-29f99b1561af",
   "metadata": {},
   "outputs": [],
   "source": []
  },
  {
   "cell_type": "code",
   "execution_count": null,
   "id": "e1a74f88-90d7-489d-87d9-b16fcf180039",
   "metadata": {},
   "outputs": [],
   "source": []
  },
  {
   "cell_type": "code",
   "execution_count": null,
   "id": "d57f9569-60e6-4458-a0d1-0c881cd1c0ce",
   "metadata": {},
   "outputs": [],
   "source": []
  },
  {
   "cell_type": "markdown",
   "id": "b539625c-6048-4c43-b065-e8b5c8b43a5e",
   "metadata": {},
   "source": [
    "## 2. Middle Square Method\n",
    "```\n",
    "Start with a seed 𝑋(0). Square it. Take the middle digits as the next number. And keep repeating\n",
    "\n",
    "Example:\n",
    "\n",
    "Seed = 5735\n",
    "\n",
    "Square of 5735 = 32890225\n",
    "\n",
    "Middle 4 digits = 8902\n",
    "\n",
    "Next seed = 8902 → repeat.\n",
    "```"
   ]
  },
  {
   "cell_type": "code",
   "execution_count": 15,
   "id": "a5cb1765-cf5f-43ec-94f0-c16d35697629",
   "metadata": {},
   "outputs": [
    {
     "name": "stdout",
     "output_type": "stream",
     "text": [
      "[5735 8902 2456  319 1017  342 1169 3665 4322 6796]\n"
     ]
    }
   ],
   "source": [
    "# Middle Square Method\n",
    "\n",
    "def middle_square(seed, n=10, width=4):\n",
    "    \"\"\"\n",
    "    seed  : initial seed (int)\n",
    "    n     : number of random numbers to generate\n",
    "    width : number of digits to keep (e.g., 4 → middle 4 digits)\n",
    "    \"\"\"\n",
    "    numbers = np.empty(n, dtype=np.int64)\n",
    "    x = seed\n",
    "    for i in range(n):\n",
    "        numbers[i] = x\n",
    "        sq = str(x * x).zfill(width * 2)  # ensure enough digits with leading zeros\n",
    "        mid = len(sq) // 2\n",
    "        x = int(sq[mid - width//2 : mid + width//2])\n",
    "    return numbers\n",
    "\n",
    "sequence = middle_square(seed=5735, n=10, width=4)\n",
    "print(sequence)\n"
   ]
  },
  {
   "cell_type": "code",
   "execution_count": null,
   "id": "6bf79718-8c8c-4122-b1d2-695183c82f5a",
   "metadata": {},
   "outputs": [],
   "source": []
  },
  {
   "cell_type": "code",
   "execution_count": null,
   "id": "4753f387-c181-49c6-b4d4-9ec906856fff",
   "metadata": {},
   "outputs": [],
   "source": []
  },
  {
   "cell_type": "code",
   "execution_count": null,
   "id": "d7d4364a-b403-4a62-a1f7-ebd944fd43bd",
   "metadata": {},
   "outputs": [],
   "source": []
  },
  {
   "cell_type": "markdown",
   "id": "766aae21-70b2-4a2d-870c-78a2107987b8",
   "metadata": {},
   "source": [
    "## 3. Blum Blum Shub (BBS)\n",
    "```\n",
    "X(n+1) = X(n)² mod M\n",
    "where M = p*q, with p,q being large prime numbers.\n",
    "\n",
    "Example (small primes):\n",
    "p=7, q=11 -> M = 77\n",
    "Seed X(0) = 5\n",
    "X(1) = 5² mod77 = 25\n",
    "X(2) = 25² mod77 = 9\n",
    "X(3) = 9² mod77 = 4,\n",
    "\n",
    "Sequence: 5, 25, 9, 4, …\n",
    "```"
   ]
  },
  {
   "cell_type": "code",
   "execution_count": 16,
   "id": "bf6c664d-076f-42e1-8109-ab34e44cc1c9",
   "metadata": {},
   "outputs": [
    {
     "name": "stdout",
     "output_type": "stream",
     "text": [
      "[ 5 25  9  4 16 25  9  4 16 25]\n"
     ]
    }
   ],
   "source": [
    "# Blum Blum Shub\n",
    "\n",
    "def bbs(seed, p, q, n=10):\n",
    "    \"\"\"\n",
    "    seed : initial value\n",
    "    p, q : large primes\n",
    "    n    : how many numbers to generate\n",
    "    \"\"\"\n",
    "    M = p * q\n",
    "    numbers = np.empty(n, dtype=np.int64)\n",
    "    x = seed\n",
    "    for i in range(n):\n",
    "        numbers[i] = x\n",
    "        x = (x * x) % M\n",
    "    return numbers\n",
    "\n",
    "sequence = bbs(seed=5, p=7, q=11, n=10)\n",
    "print(sequence)\n"
   ]
  },
  {
   "cell_type": "code",
   "execution_count": null,
   "id": "6e8aca30-4b95-4e02-9a11-c3b77aa0f60b",
   "metadata": {},
   "outputs": [],
   "source": []
  }
 ],
 "metadata": {
  "kernelspec": {
   "display_name": "Python 3 (ipykernel)",
   "language": "python",
   "name": "python3"
  },
  "language_info": {
   "codemirror_mode": {
    "name": "ipython",
    "version": 3
   },
   "file_extension": ".py",
   "mimetype": "text/x-python",
   "name": "python",
   "nbconvert_exporter": "python",
   "pygments_lexer": "ipython3",
   "version": "3.9.9"
  }
 },
 "nbformat": 4,
 "nbformat_minor": 5
}
