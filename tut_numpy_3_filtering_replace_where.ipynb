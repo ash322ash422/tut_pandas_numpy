{
 "cells": [
  {
   "cell_type": "markdown",
   "id": "03ca8900-c0fb-4134-b398-096a68c54825",
   "metadata": {
    "id": "03ca8900-c0fb-4134-b398-096a68c54825"
   },
   "source": [
    "### Topics covered:\n",
    "- filtering\n",
    "- where()"
   ]
  },
  {
   "cell_type": "code",
   "execution_count": 3,
   "id": "e8a2b924",
   "metadata": {},
   "outputs": [
    {
     "name": "stdout",
     "output_type": "stream",
     "text": [
      "Requirement already satisfied: numpy in c:\\users\\uct\\anaconda3\\lib\\site-packages (1.26.4)\n"
     ]
    }
   ],
   "source": [
    "# !pip install numpy"
   ]
  },
  {
   "cell_type": "code",
   "execution_count": 1,
   "id": "ea74990e",
   "metadata": {},
   "outputs": [],
   "source": [
    "import numpy as np"
   ]
  },
  {
   "cell_type": "code",
   "execution_count": null,
   "id": "2fb6f1dd-14f6-4751-baae-3bfafeddc022",
   "metadata": {},
   "outputs": [
    {
     "name": "stdout",
     "output_type": "stream",
     "text": [
      "[3 3]\n",
      "2\n",
      "[4 7 2 9 6 2 1 7]\n",
      "[4 7 3 9 3 6 7]\n",
      "[4 3 3]\n",
      "[7 9 6 1 7]\n"
     ]
    }
   ],
   "source": [
    "# On 1D\n",
    "\n",
    "cont = [4, 7, 2, 3, 9, 3, 6, 2, 1, 7] # water contaminant reading\n",
    "a = np.array(cont)\n",
    "\n",
    "# Filter: select elements equal to 3\n",
    "mask = (a == 3)\n",
    "# print(mask)\n",
    "print(a[mask]) \n",
    "print(len(a[mask])) # gives count\n",
    "################################\n",
    "\n",
    "# Filter: All elements not equal to 3\n",
    "mask = (a != 3)\n",
    "print(a[mask]) \n",
    "################################\n",
    "\n",
    "# Filter: All elem > 2 # UNHEALTHY water\n",
    "mask = (a > 2)\n",
    "print(a[mask])     \n",
    "################################\n",
    "\n",
    "# Filter: All elem > 2 and < 5 # MODERATE\n",
    "mask = (a > 2) & (a < 5)\n",
    "print(a[mask]) \n",
    "################################\n",
    "\n",
    "# select elements less than 2 or greater than 4:\n",
    "mask = (a < 2) | (a > 4)\n",
    "print(a[mask])\n",
    "################################"
   ]
  },
  {
   "cell_type": "code",
   "execution_count": 6,
   "id": "dd979410-edb4-4995-a5ac-0a9a9d0b49c1",
   "metadata": {},
   "outputs": [
    {
     "name": "stdout",
     "output_type": "stream",
     "text": [
      "[ 0  0  0 25 30  0 45]\n"
     ]
    }
   ],
   "source": [
    "# filter and replace: Replace values less than 20 with 0\n",
    "arr = np.array([5, 12, 18, 25, 30, 3, 45])\n",
    "\n",
    "\n",
    "arr[arr < 20] = 0\n",
    "print(arr) "
   ]
  },
  {
   "cell_type": "markdown",
   "id": "0041683c-bf16-4625-bc69-bab8b7839d96",
   "metadata": {},
   "source": [
    "### where()\n",
    "- np.where():  find the indices of elements in an array that satisfy certain condition. It can also be used to create new arrays based on conditions\n",
    "- np.where(condition, x, y)  → Returns x if condition is True, else y."
   ]
  },
  {
   "cell_type": "code",
   "execution_count": 4,
   "id": "ae65e78c-2008-423a-b32b-f0cb0a71ffb3",
   "metadata": {},
   "outputs": [
    {
     "name": "stdout",
     "output_type": "stream",
     "text": [
      "(array([0, 2, 4, 6], dtype=int64),)\n",
      "[70 50 50 30]\n"
     ]
    }
   ],
   "source": [
    "arr = np.array([70, 20, 50, 20, 50, 10, 30])\n",
    "\n",
    "# Indices where condition is true\n",
    "indices = np.where(arr > 25)\n",
    "print(indices)      # (array([2, 3, 4]),)\n",
    "print(arr[indices]) # [30 40 50]"
   ]
  },
  {
   "cell_type": "code",
   "execution_count": 2,
   "id": "44889ed0-61bf-41f4-92b7-fd24ec966aa2",
   "metadata": {},
   "outputs": [
    {
     "name": "stdout",
     "output_type": "stream",
     "text": [
      "Scores: [78 45 62 33 90 50]\n",
      "Results: ['Pass' 'Fail' 'Pass' 'Fail' 'Pass' 'Pass']\n",
      "*****************************\n",
      "Temperature readings: [28 33 31 25 29 35 30]\n",
      "Classification: ['30 or less' 'Greater than 30' 'Greater than 30' '30 or less'\n",
      " '30 or less' 'Greater than 30' '30 or less']\n",
      "^^^^^^^^^^^^^^^^^^^^^^^^^^^^^^^^^^^^\n",
      "Temperature readings:\n",
      " [[22 26 24]\n",
      " [23 27 26]\n",
      " [25 28 23]\n",
      " [21 24 27]]\n",
      "\n",
      "Status:\n",
      " [['Normal' 'Alert' 'Normal']\n",
      " ['Normal' 'Alert' 'Alert']\n",
      " ['Normal' 'Alert' 'Normal']\n",
      " ['Normal' 'Normal' 'Alert']]\n"
     ]
    }
   ],
   "source": [
    "# where()\n",
    "\n",
    "# Application1: Assigning Letter Grades Based on Scores\n",
    "scores = np.array([78, 45, 62, 33, 90, 50]) # Student scores\n",
    "results = np.where(scores >= 50, \"Pass\", \"Fail\") # Use np.where to assign \"Pass\" or \"Fail\"\n",
    "\n",
    "print(\"Scores:\", scores)\n",
    "print(\"Results:\", results)\n",
    "\n",
    "print(\"*****************************\")\n",
    "# Application2: Daily temperatures (°C) recorded over a week\n",
    "temperatures = np.array([28, 33, 31, 25, 29, 35, 30])\n",
    "\n",
    "temp_classification = np.where(temperatures > 30, 'Greater than 30', '30 or less')\n",
    "\n",
    "print(\"Temperature readings:\", temperatures)\n",
    "print(\"Classification:\", temp_classification)\n",
    "print(\"^^^^^^^^^^^^^^^^^^^^^^^^^^^^^^^^^^^^\")\n",
    "\n",
    "# Create a 2D NumPy array\n",
    "# Temperatures (°C) recorded hourly in 3 rooms over 4 hours\n",
    "temps = np.array([\n",
    "    # Room1, Room2, Room3\n",
    "    [22, 26, 24],  # Hour 1\n",
    "    [23, 27, 26],  # Hour 2\n",
    "    [25, 28, 23],  # Hour 3\n",
    "    [21, 24, 27]   # Hour 4\n",
    "])\n",
    "\n",
    "# Flag temperatures above 25°C as \"Alert\", else \"Normal\"\n",
    "status = np.where(temps > 25, \"Alert\", \"Normal\")\n",
    "\n",
    "print(\"Temperature readings:\\n\", temps)\n",
    "print(\"\\nStatus:\\n\", status)\n"
   ]
  },
  {
   "cell_type": "code",
   "execution_count": null,
   "id": "3d63e98a-5ab2-4a85-aa14-9aa80e62bbf8",
   "metadata": {},
   "outputs": [],
   "source": []
  }
 ],
 "metadata": {
  "colab": {
   "provenance": []
  },
  "kernelspec": {
   "display_name": "Python 3 (ipykernel)",
   "language": "python",
   "name": "python3"
  },
  "language_info": {
   "codemirror_mode": {
    "name": "ipython",
    "version": 3
   },
   "file_extension": ".py",
   "mimetype": "text/x-python",
   "name": "python",
   "nbconvert_exporter": "python",
   "pygments_lexer": "ipython3",
   "version": "3.12.7"
  }
 },
 "nbformat": 4,
 "nbformat_minor": 5
}
