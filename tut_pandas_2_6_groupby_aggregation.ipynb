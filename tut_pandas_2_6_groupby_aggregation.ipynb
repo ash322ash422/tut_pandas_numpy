{
 "cells": [
  {
   "cell_type": "markdown",
   "id": "e2ffbad3-8eac-4b42-95cb-7c3fbda71af2",
   "metadata": {},
   "source": [
    "# Pandas\n",
    "Topics covered:\n",
    "- groupby\n",
    "- aggregation"
   ]
  },
  {
   "cell_type": "markdown",
   "id": "948c0b76-481f-4670-ab8e-542fbeca3a46",
   "metadata": {},
   "source": [
    "##  groupby and aggregation\n",
    "Following are all the aggregation functions:\n",
    "\n",
    "| Function Name | Description                   |\n",
    "| ------------- | ----------------------------- |\n",
    "| `mean`        | Average value                 |\n",
    "| `max`         | Maximum value                 |\n",
    "| `min`         | Minimum value                 |\n",
    "| `sum`         | Sum of values                 |\n",
    "| `count`       | Number of non-NA/null entries |\n",
    "| `median`      | Median (middle value)         |\n",
    "| `std`         | Standard deviation            |\n",
    "| `var`         | Variance                      |\n",
    "| `first`       | First value                   |\n",
    "| `last`        | Last value                    |\n",
    "| `nunique`     | Number of unique values       |\n",
    "| `prod`        | Product of values             |\n",
    "| `size`        | Size of group (including NA)  |\n",
    "| `sem`         | Standard error of the mean    |\n",
    "| `mad`         | Mean absolute deviation       |\n",
    "\n",
    "\n",
    "- we explore few of the above stats"
   ]
  },
  {
   "cell_type": "code",
   "execution_count": 19,
   "id": "b9862a0c-15e8-4200-beb2-101cdf84777a",
   "metadata": {},
   "outputs": [],
   "source": [
    "import pandas as pd\n",
    "\n",
    "import warnings\n",
    "\n",
    "# Suppress all FutureWarnings\n",
    "warnings.simplefilter(action='ignore', category=FutureWarning)"
   ]
  },
  {
   "cell_type": "code",
   "execution_count": 20,
   "id": "9bd39221-25f9-4c17-a228-11d791d1ed5f",
   "metadata": {
    "scrolled": true
   },
   "outputs": [
    {
     "name": "stdout",
     "output_type": "stream",
     "text": [
      "Original Data:\n",
      "   Department     Employee   Salary  Experience Region\n",
      "0         HR        Rahim  60000.0           2   East\n",
      "1         IT      Vanessa  75000.0           5   West\n",
      "2    Finance         Cory  82000.0           7   East\n",
      "3         HR        David  58000.0           3    NaN\n",
      "4         IT         Neha  79000.0           4   East\n",
      "5    Finance        Frank      NaN           9   West\n",
      "6         HR        Grace  62000.0           2   East\n",
      "7         IT        Helen  73000.0           6   East\n",
      "8    Finance          Ian  88000.0           8   West\n",
      "9    Finance  Shamlodhiya  56000.0           2   West\n",
      "########################\n",
      "Department\n",
      "Finance    4\n",
      "HR         3\n",
      "IT         3\n",
      "dtype: int64\n"
     ]
    }
   ],
   "source": [
    "# groupby and aggregation\n",
    "\n",
    "df = pd.read_csv('data_groupby_aggregation.csv')\n",
    "print(\"Original Data:\\n\", df)"
   ]
  },
  {
   "cell_type": "code",
   "execution_count": 30,
   "id": "783ed45e-35c8-45be-b67c-e74fa0e1f2c4",
   "metadata": {},
   "outputs": [
    {
     "name": "stdout",
     "output_type": "stream",
     "text": [
      "Original Data:\n",
      "   Department     Employee   Salary  Experience Region\n",
      "0         HR        Rahim  60000.0           2   East\n",
      "1         IT      Vanessa  75000.0           5   West\n",
      "2    Finance         Cory  82000.0           7   East\n",
      "3         HR        David  58000.0           3    NaN\n",
      "4         IT         Neha  79000.0           4   East\n",
      "5    Finance        Frank      NaN           9   West\n",
      "6         HR        Grace  62000.0           2   East\n",
      "7         IT        Helen  73000.0           6   East\n",
      "8    Finance          Ian  88000.0           8   West\n",
      "9    Finance  Shamlodhiya  56000.0           2   West\n",
      "##################\n",
      "Department\n",
      "Finance    4\n",
      "HR         3\n",
      "IT         3\n",
      "dtype: int64\n"
     ]
    }
   ],
   "source": [
    "# Group by Department: Tell me how many employees are for each department\n",
    "print(\"Original Data:\\n\", df)\n",
    "print(\"##################\")\n",
    "grouped = df.groupby(['Department',]).size() # size() total rows in each group: Includes NaN values\n",
    "print(grouped)"
   ]
  },
  {
   "cell_type": "code",
   "execution_count": 21,
   "id": "71cdb377-3168-46d5-936f-04b7fa43389c",
   "metadata": {},
   "outputs": [
    {
     "name": "stdout",
     "output_type": "stream",
     "text": [
      "Original Data:\n",
      "   Department     Employee   Salary  Experience Region\n",
      "0         HR        Rahim  60000.0           2   East\n",
      "1         IT      Vanessa  75000.0           5   West\n",
      "2    Finance         Cory  82000.0           7   East\n",
      "3         HR        David  58000.0           3    NaN\n",
      "4         IT         Neha  79000.0           4   East\n",
      "5    Finance        Frank      NaN           9   West\n",
      "6         HR        Grace  62000.0           2   East\n",
      "7         IT        Helen  73000.0           6   East\n",
      "8    Finance          Ian  88000.0           8   West\n",
      "9    Finance  Shamlodhiya  56000.0           2   West\n",
      "##################\n",
      "            Employee  Salary  Experience  Region\n",
      "Department                                      \n",
      "Finance            4       3           4       4\n",
      "HR                 3       3           3       2\n",
      "IT                 3       3           3       3\n"
     ]
    }
   ],
   "source": [
    "# Now give me total count of non-null in each group\n",
    "print(\"Original Data:\\n\", df)\n",
    "print(\"##################\")\n",
    "grouped = df.groupby(['Department',]).count() \n",
    "print(grouped)"
   ]
  },
  {
   "cell_type": "code",
   "execution_count": 22,
   "id": "e40ef024-bdeb-49cc-9b2e-be5487bfda1b",
   "metadata": {},
   "outputs": [
    {
     "name": "stdout",
     "output_type": "stream",
     "text": [
      "Original Data:\n",
      "   Department     Employee   Salary  Experience Region\n",
      "0         HR        Rahim  60000.0           2   East\n",
      "1         IT      Vanessa  75000.0           5   West\n",
      "2    Finance         Cory  82000.0           7   East\n",
      "3         HR        David  58000.0           3    NaN\n",
      "4         IT         Neha  79000.0           4   East\n",
      "5    Finance        Frank      NaN           9   West\n",
      "6         HR        Grace  62000.0           2   East\n",
      "7         IT        Helen  73000.0           6   East\n",
      "8    Finance          Ian  88000.0           8   West\n",
      "9    Finance  Shamlodhiya  56000.0           2   West\n",
      "##################\n",
      "Region\n",
      "East    5\n",
      "West    4\n",
      "dtype: int64\n"
     ]
    }
   ],
   "source": [
    "# Group by Region and give me size\n",
    "print(\"Original Data:\\n\", df)\n",
    "print(\"##################\")\n",
    "grouped = df.groupby(['Region',]).size()\n",
    "print(grouped)"
   ]
  },
  {
   "cell_type": "code",
   "execution_count": 23,
   "id": "24357ce6-e4bf-4dd1-b81e-94fdc839ff42",
   "metadata": {},
   "outputs": [
    {
     "name": "stdout",
     "output_type": "stream",
     "text": [
      "Original Data:\n",
      "   Department     Employee   Salary  Experience Region\n",
      "0         HR        Rahim  60000.0           2   East\n",
      "1         IT      Vanessa  75000.0           5   West\n",
      "2    Finance         Cory  82000.0           7   East\n",
      "3         HR        David  58000.0           3    NaN\n",
      "4         IT         Neha  79000.0           4   East\n",
      "5    Finance        Frank      NaN           9   West\n",
      "6         HR        Grace  62000.0           2   East\n",
      "7         IT        Helen  73000.0           6   East\n",
      "8    Finance          Ian  88000.0           8   West\n",
      "9    Finance  Shamlodhiya  56000.0           2   West\n",
      "##################\n",
      "Department  Region\n",
      "Finance     East      1\n",
      "            West      3\n",
      "HR          East      2\n",
      "IT          East      2\n",
      "            West      1\n",
      "dtype: int64\n"
     ]
    }
   ],
   "source": [
    "# Group by Department and Region and give me size of each\n",
    "print(\"Original Data:\\n\", df)\n",
    "print(\"##################\")\n",
    "grouped = df.groupby(['Department', 'Region']).size()\n",
    "print(grouped)"
   ]
  },
  {
   "cell_type": "code",
   "execution_count": 24,
   "id": "dcb84618-a184-46b1-8791-b4dcdeb20f44",
   "metadata": {},
   "outputs": [
    {
     "name": "stdout",
     "output_type": "stream",
     "text": [
      "Original Data:\n",
      "   Department     Employee   Salary  Experience Region\n",
      "0         HR        Rahim  60000.0           2   East\n",
      "1         IT      Vanessa  75000.0           5   West\n",
      "2    Finance         Cory  82000.0           7   East\n",
      "3         HR        David  58000.0           3    NaN\n",
      "4         IT         Neha  79000.0           4   East\n",
      "5    Finance        Frank      NaN           9   West\n",
      "6         HR        Grace  62000.0           2   East\n",
      "7         IT        Helen  73000.0           6   East\n",
      "8    Finance          Ian  88000.0           8   West\n",
      "9    Finance  Shamlodhiya  56000.0           2   West\n",
      "##################\n",
      "Department\n",
      "Finance    226000.0\n",
      "HR         180000.0\n",
      "IT         227000.0\n",
      "Name: Salary, dtype: float64\n"
     ]
    }
   ],
   "source": [
    "# group by dept and calculate sum of all salaries awarded to employees in each dept\n",
    "print(\"Original Data:\\n\", df)\n",
    "print(\"##################\")\n",
    "grouped = df.groupby(['Department'])['Salary'].sum()\n",
    "print(grouped)"
   ]
  },
  {
   "cell_type": "code",
   "execution_count": 25,
   "id": "136f7b5f-215c-43d4-b9e3-597a13ca3a90",
   "metadata": {},
   "outputs": [
    {
     "name": "stdout",
     "output_type": "stream",
     "text": [
      "Original Data:\n",
      "   Department     Employee   Salary  Experience Region\n",
      "0         HR        Rahim  60000.0           2   East\n",
      "1         IT      Vanessa  75000.0           5   West\n",
      "2    Finance         Cory  82000.0           7   East\n",
      "3         HR        David  58000.0           3    NaN\n",
      "4         IT         Neha  79000.0           4   East\n",
      "5    Finance        Frank      NaN           9   West\n",
      "6         HR        Grace  62000.0           2   East\n",
      "7         IT        Helen  73000.0           6   East\n",
      "8    Finance          Ian  88000.0           8   West\n",
      "9    Finance  Shamlodhiya  56000.0           2   West\n",
      "##################\n",
      "Department\n",
      "Finance    75333.333333\n",
      "HR         60000.000000\n",
      "IT         75666.666667\n",
      "Name: Salary, dtype: float64\n"
     ]
    }
   ],
   "source": [
    "# Group by department and calculate mean salary for each dept\n",
    "print(\"Original Data:\\n\", df)\n",
    "print(\"##################\")\n",
    "grouped = df.groupby('Department')['Salary'].mean()\n",
    "print(grouped)"
   ]
  },
  {
   "cell_type": "code",
   "execution_count": 26,
   "id": "ba588665-0d51-440a-a347-c8903dcec888",
   "metadata": {},
   "outputs": [
    {
     "name": "stdout",
     "output_type": "stream",
     "text": [
      "Original Data:\n",
      "   Department     Employee   Salary  Experience Region\n",
      "0         HR        Rahim  60000.0           2   East\n",
      "1         IT      Vanessa  75000.0           5   West\n",
      "2    Finance         Cory  82000.0           7   East\n",
      "3         HR        David  58000.0           3    NaN\n",
      "4         IT         Neha  79000.0           4   East\n",
      "5    Finance        Frank      NaN           9   West\n",
      "6         HR        Grace  62000.0           2   East\n",
      "7         IT        Helen  73000.0           6   East\n",
      "8    Finance          Ian  88000.0           8   West\n",
      "9    Finance  Shamlodhiya  56000.0           2   West\n",
      "##################\n",
      "Department  Region\n",
      "Finance     East      82000.0\n",
      "            West      72000.0\n",
      "HR          East      61000.0\n",
      "IT          East      76000.0\n",
      "            West      75000.0\n",
      "Name: Salary, dtype: float64\n"
     ]
    }
   ],
   "source": [
    "# Group by multiple columns and give me the mean of salary\n",
    "print(\"Original Data:\\n\", df)\n",
    "print(\"##################\")\n",
    "# groupby by Department and Region and calculate mean salary for each department and region\n",
    "grouped = df.groupby(['Department', 'Region'])['Salary'].mean()\n",
    "print(grouped)"
   ]
  },
  {
   "cell_type": "code",
   "execution_count": 27,
   "id": "fdbba7cc-be96-425b-a287-1b9bb2d9247e",
   "metadata": {},
   "outputs": [
    {
     "name": "stdout",
     "output_type": "stream",
     "text": [
      "Original Data:\n",
      "   Department     Employee   Salary  Experience Region\n",
      "0         HR        Rahim  60000.0           2   East\n",
      "1         IT      Vanessa  75000.0           5   West\n",
      "2    Finance         Cory  82000.0           7   East\n",
      "3         HR        David  58000.0           3    NaN\n",
      "4         IT         Neha  79000.0           4   East\n",
      "5    Finance        Frank      NaN           9   West\n",
      "6         HR        Grace  62000.0           2   East\n",
      "7         IT        Helen  73000.0           6   East\n",
      "8    Finance          Ian  88000.0           8   West\n",
      "9    Finance  Shamlodhiya  56000.0           2   West\n",
      "##################\n",
      "\n",
      "Multiple Aggregations by Department:\n",
      "                   Salary                             Experience      \n",
      "                    mean      max      min       sum       mean count\n",
      "Department                                                           \n",
      "Finance     75333.333333  88000.0  56000.0  226000.0   6.500000     4\n",
      "HR          60000.000000  62000.0  58000.0  180000.0   2.333333     3\n",
      "IT          75666.666667  79000.0  73000.0  227000.0   5.000000     3\n"
     ]
    }
   ],
   "source": [
    "#### Aggregation: Group by department and get multiple stats like mean, max, min, etc\n",
    "print(\"Original Data:\\n\", df)\n",
    "print(\"##################\")\n",
    "multi_stats = df.groupby('Department').agg({\n",
    "    'Salary': ['mean', 'max', 'min', 'sum'],\n",
    "    'Experience': ['mean', 'count']\n",
    "})\n",
    "print(\"\\nMultiple Aggregations by Department:\\n\", multi_stats)"
   ]
  },
  {
   "cell_type": "code",
   "execution_count": 31,
   "id": "22e43686-4f22-4400-8cfa-a8afde953a53",
   "metadata": {},
   "outputs": [
    {
     "name": "stdout",
     "output_type": "stream",
     "text": [
      "\n",
      "Department: Finance\n",
      "  Department     Employee   Salary  Experience Region\n",
      "2    Finance         Cory  82000.0           7   East\n",
      "5    Finance        Frank      NaN           9   West\n",
      "8    Finance          Ian  88000.0           8   West\n",
      "9    Finance  Shamlodhiya  56000.0           2   West\n",
      "\n",
      "Department: HR\n",
      "  Department Employee   Salary  Experience Region\n",
      "0         HR    Rahim  60000.0           2   East\n",
      "3         HR    David  58000.0           3    NaN\n",
      "6         HR    Grace  62000.0           2   East\n",
      "\n",
      "Department: IT\n",
      "  Department Employee   Salary  Experience Region\n",
      "1         IT  Vanessa  75000.0           5   West\n",
      "4         IT     Neha  79000.0           4   East\n",
      "7         IT    Helen  73000.0           6   East\n"
     ]
    }
   ],
   "source": [
    "# ADVANCED: (OPTIONAL)You can also iterate over groups\n",
    "grouped = df.groupby('Department')\n",
    "for name, group in grouped:\n",
    "    print(f\"\\nDepartment: {name}\")\n",
    "    print(group)\n",
    "    print(type(name), type(group))\n",
    "    print(\"*******\")"
   ]
  },
  {
   "cell_type": "code",
   "execution_count": null,
   "id": "801ebc45-4be7-4416-8594-e66540a4605a",
   "metadata": {},
   "outputs": [],
   "source": []
  },
  {
   "cell_type": "markdown",
   "id": "eb86b15b-e785-4926-b957-0ff93da569e9",
   "metadata": {},
   "source": [
    "# STOP"
   ]
  },
  {
   "cell_type": "code",
   "execution_count": null,
   "id": "504259d4-0bfa-44d1-ba9d-11f03065c1c1",
   "metadata": {},
   "outputs": [],
   "source": []
  },
  {
   "cell_type": "code",
   "execution_count": null,
   "id": "988840e9-02f9-4b80-a3b8-9702d7dc8395",
   "metadata": {},
   "outputs": [],
   "source": []
  },
  {
   "cell_type": "code",
   "execution_count": null,
   "id": "d5baf02c-07c1-4d3d-8313-979bbd1ee285",
   "metadata": {},
   "outputs": [],
   "source": []
  },
  {
   "cell_type": "code",
   "execution_count": null,
   "id": "11f3802c-2596-46ff-a7cb-abe63a161e9d",
   "metadata": {},
   "outputs": [],
   "source": []
  },
  {
   "cell_type": "code",
   "execution_count": null,
   "id": "d548989c-452d-4ac7-bdab-6492b21e9430",
   "metadata": {},
   "outputs": [],
   "source": []
  },
  {
   "cell_type": "code",
   "execution_count": null,
   "id": "4d717312-705f-4e01-9aa7-d8e3c8c6659d",
   "metadata": {},
   "outputs": [],
   "source": []
  },
  {
   "cell_type": "code",
   "execution_count": null,
   "id": "b89fb44d-49f5-480e-a00a-563efb1a4425",
   "metadata": {},
   "outputs": [],
   "source": []
  },
  {
   "cell_type": "code",
   "execution_count": 29,
   "id": "ed2158ee-e9b9-4514-9a2c-bc07e938415c",
   "metadata": {},
   "outputs": [
    {
     "ename": "HTTPError",
     "evalue": "HTTP Error 404: Not Found",
     "output_type": "error",
     "traceback": [
      "\u001b[1;31m---------------------------------------------------------------------------\u001b[0m",
      "\u001b[1;31mHTTPError\u001b[0m                                 Traceback (most recent call last)",
      "Cell \u001b[1;32mIn[29], line 3\u001b[0m\n\u001b[0;32m      1\u001b[0m \u001b[38;5;66;03m# SKIP: Example 2\u001b[39;00m\n\u001b[1;32m----> 3\u001b[0m df \u001b[38;5;241m=\u001b[39m \u001b[43mpd\u001b[49m\u001b[38;5;241;43m.\u001b[39;49m\u001b[43mread_csv\u001b[49m\u001b[43m(\u001b[49m\u001b[38;5;124;43m'\u001b[39;49m\u001b[38;5;124;43mhttps://raw.githubusercontent.com/ash322ash422/tut_pandas_numpy/refs/heads/master/titanic.csv\u001b[39;49m\u001b[38;5;124;43m'\u001b[39;49m\u001b[43m,\u001b[49m\u001b[43m \u001b[49m\u001b[43msep\u001b[49m\u001b[38;5;241;43m=\u001b[39;49m\u001b[38;5;124;43m'\u001b[39;49m\u001b[38;5;124;43m,\u001b[39;49m\u001b[38;5;124;43m'\u001b[39;49m\u001b[43m)\u001b[49m\n\u001b[0;32m      4\u001b[0m \u001b[38;5;28mprint\u001b[39m(df\u001b[38;5;241m.\u001b[39mhead(\u001b[38;5;241m5\u001b[39m))\n\u001b[0;32m      5\u001b[0m \u001b[38;5;28mprint\u001b[39m(\u001b[38;5;124m\"\u001b[39m\u001b[38;5;124m111111111111111111111111\u001b[39m\u001b[38;5;124m\"\u001b[39m)\n",
      "File \u001b[1;32m~\\AppData\\Local\\Programs\\Python\\Python39\\lib\\site-packages\\pandas\\io\\parsers\\readers.py:1024\u001b[0m, in \u001b[0;36mread_csv\u001b[1;34m(filepath_or_buffer, sep, delimiter, header, names, index_col, usecols, dtype, engine, converters, true_values, false_values, skipinitialspace, skiprows, skipfooter, nrows, na_values, keep_default_na, na_filter, verbose, skip_blank_lines, parse_dates, infer_datetime_format, keep_date_col, date_parser, date_format, dayfirst, cache_dates, iterator, chunksize, compression, thousands, decimal, lineterminator, quotechar, quoting, doublequote, escapechar, comment, encoding, encoding_errors, dialect, on_bad_lines, delim_whitespace, low_memory, memory_map, float_precision, storage_options, dtype_backend)\u001b[0m\n\u001b[0;32m   1011\u001b[0m kwds_defaults \u001b[38;5;241m=\u001b[39m _refine_defaults_read(\n\u001b[0;32m   1012\u001b[0m     dialect,\n\u001b[0;32m   1013\u001b[0m     delimiter,\n\u001b[1;32m   (...)\u001b[0m\n\u001b[0;32m   1020\u001b[0m     dtype_backend\u001b[38;5;241m=\u001b[39mdtype_backend,\n\u001b[0;32m   1021\u001b[0m )\n\u001b[0;32m   1022\u001b[0m kwds\u001b[38;5;241m.\u001b[39mupdate(kwds_defaults)\n\u001b[1;32m-> 1024\u001b[0m \u001b[38;5;28;01mreturn\u001b[39;00m \u001b[43m_read\u001b[49m\u001b[43m(\u001b[49m\u001b[43mfilepath_or_buffer\u001b[49m\u001b[43m,\u001b[49m\u001b[43m \u001b[49m\u001b[43mkwds\u001b[49m\u001b[43m)\u001b[49m\n",
      "File \u001b[1;32m~\\AppData\\Local\\Programs\\Python\\Python39\\lib\\site-packages\\pandas\\io\\parsers\\readers.py:618\u001b[0m, in \u001b[0;36m_read\u001b[1;34m(filepath_or_buffer, kwds)\u001b[0m\n\u001b[0;32m    615\u001b[0m _validate_names(kwds\u001b[38;5;241m.\u001b[39mget(\u001b[38;5;124m\"\u001b[39m\u001b[38;5;124mnames\u001b[39m\u001b[38;5;124m\"\u001b[39m, \u001b[38;5;28;01mNone\u001b[39;00m))\n\u001b[0;32m    617\u001b[0m \u001b[38;5;66;03m# Create the parser.\u001b[39;00m\n\u001b[1;32m--> 618\u001b[0m parser \u001b[38;5;241m=\u001b[39m TextFileReader(filepath_or_buffer, \u001b[38;5;241m*\u001b[39m\u001b[38;5;241m*\u001b[39mkwds)\n\u001b[0;32m    620\u001b[0m \u001b[38;5;28;01mif\u001b[39;00m chunksize \u001b[38;5;129;01mor\u001b[39;00m iterator:\n\u001b[0;32m    621\u001b[0m     \u001b[38;5;28;01mreturn\u001b[39;00m parser\n",
      "File \u001b[1;32m~\\AppData\\Local\\Programs\\Python\\Python39\\lib\\site-packages\\pandas\\io\\parsers\\readers.py:1618\u001b[0m, in \u001b[0;36mTextFileReader.__init__\u001b[1;34m(self, f, engine, **kwds)\u001b[0m\n\u001b[0;32m   1615\u001b[0m     \u001b[38;5;28mself\u001b[39m\u001b[38;5;241m.\u001b[39moptions[\u001b[38;5;124m\"\u001b[39m\u001b[38;5;124mhas_index_names\u001b[39m\u001b[38;5;124m\"\u001b[39m] \u001b[38;5;241m=\u001b[39m kwds[\u001b[38;5;124m\"\u001b[39m\u001b[38;5;124mhas_index_names\u001b[39m\u001b[38;5;124m\"\u001b[39m]\n\u001b[0;32m   1617\u001b[0m \u001b[38;5;28mself\u001b[39m\u001b[38;5;241m.\u001b[39mhandles: IOHandles \u001b[38;5;241m|\u001b[39m \u001b[38;5;28;01mNone\u001b[39;00m \u001b[38;5;241m=\u001b[39m \u001b[38;5;28;01mNone\u001b[39;00m\n\u001b[1;32m-> 1618\u001b[0m \u001b[38;5;28mself\u001b[39m\u001b[38;5;241m.\u001b[39m_engine \u001b[38;5;241m=\u001b[39m \u001b[38;5;28;43mself\u001b[39;49m\u001b[38;5;241;43m.\u001b[39;49m\u001b[43m_make_engine\u001b[49m\u001b[43m(\u001b[49m\u001b[43mf\u001b[49m\u001b[43m,\u001b[49m\u001b[43m \u001b[49m\u001b[38;5;28;43mself\u001b[39;49m\u001b[38;5;241;43m.\u001b[39;49m\u001b[43mengine\u001b[49m\u001b[43m)\u001b[49m\n",
      "File \u001b[1;32m~\\AppData\\Local\\Programs\\Python\\Python39\\lib\\site-packages\\pandas\\io\\parsers\\readers.py:1878\u001b[0m, in \u001b[0;36mTextFileReader._make_engine\u001b[1;34m(self, f, engine)\u001b[0m\n\u001b[0;32m   1876\u001b[0m     \u001b[38;5;28;01mif\u001b[39;00m \u001b[38;5;124m\"\u001b[39m\u001b[38;5;124mb\u001b[39m\u001b[38;5;124m\"\u001b[39m \u001b[38;5;129;01mnot\u001b[39;00m \u001b[38;5;129;01min\u001b[39;00m mode:\n\u001b[0;32m   1877\u001b[0m         mode \u001b[38;5;241m+\u001b[39m\u001b[38;5;241m=\u001b[39m \u001b[38;5;124m\"\u001b[39m\u001b[38;5;124mb\u001b[39m\u001b[38;5;124m\"\u001b[39m\n\u001b[1;32m-> 1878\u001b[0m \u001b[38;5;28mself\u001b[39m\u001b[38;5;241m.\u001b[39mhandles \u001b[38;5;241m=\u001b[39m \u001b[43mget_handle\u001b[49m\u001b[43m(\u001b[49m\n\u001b[0;32m   1879\u001b[0m \u001b[43m    \u001b[49m\u001b[43mf\u001b[49m\u001b[43m,\u001b[49m\n\u001b[0;32m   1880\u001b[0m \u001b[43m    \u001b[49m\u001b[43mmode\u001b[49m\u001b[43m,\u001b[49m\n\u001b[0;32m   1881\u001b[0m \u001b[43m    \u001b[49m\u001b[43mencoding\u001b[49m\u001b[38;5;241;43m=\u001b[39;49m\u001b[38;5;28;43mself\u001b[39;49m\u001b[38;5;241;43m.\u001b[39;49m\u001b[43moptions\u001b[49m\u001b[38;5;241;43m.\u001b[39;49m\u001b[43mget\u001b[49m\u001b[43m(\u001b[49m\u001b[38;5;124;43m\"\u001b[39;49m\u001b[38;5;124;43mencoding\u001b[39;49m\u001b[38;5;124;43m\"\u001b[39;49m\u001b[43m,\u001b[49m\u001b[43m \u001b[49m\u001b[38;5;28;43;01mNone\u001b[39;49;00m\u001b[43m)\u001b[49m\u001b[43m,\u001b[49m\n\u001b[0;32m   1882\u001b[0m \u001b[43m    \u001b[49m\u001b[43mcompression\u001b[49m\u001b[38;5;241;43m=\u001b[39;49m\u001b[38;5;28;43mself\u001b[39;49m\u001b[38;5;241;43m.\u001b[39;49m\u001b[43moptions\u001b[49m\u001b[38;5;241;43m.\u001b[39;49m\u001b[43mget\u001b[49m\u001b[43m(\u001b[49m\u001b[38;5;124;43m\"\u001b[39;49m\u001b[38;5;124;43mcompression\u001b[39;49m\u001b[38;5;124;43m\"\u001b[39;49m\u001b[43m,\u001b[49m\u001b[43m \u001b[49m\u001b[38;5;28;43;01mNone\u001b[39;49;00m\u001b[43m)\u001b[49m\u001b[43m,\u001b[49m\n\u001b[0;32m   1883\u001b[0m \u001b[43m    \u001b[49m\u001b[43mmemory_map\u001b[49m\u001b[38;5;241;43m=\u001b[39;49m\u001b[38;5;28;43mself\u001b[39;49m\u001b[38;5;241;43m.\u001b[39;49m\u001b[43moptions\u001b[49m\u001b[38;5;241;43m.\u001b[39;49m\u001b[43mget\u001b[49m\u001b[43m(\u001b[49m\u001b[38;5;124;43m\"\u001b[39;49m\u001b[38;5;124;43mmemory_map\u001b[39;49m\u001b[38;5;124;43m\"\u001b[39;49m\u001b[43m,\u001b[49m\u001b[43m \u001b[49m\u001b[38;5;28;43;01mFalse\u001b[39;49;00m\u001b[43m)\u001b[49m\u001b[43m,\u001b[49m\n\u001b[0;32m   1884\u001b[0m \u001b[43m    \u001b[49m\u001b[43mis_text\u001b[49m\u001b[38;5;241;43m=\u001b[39;49m\u001b[43mis_text\u001b[49m\u001b[43m,\u001b[49m\n\u001b[0;32m   1885\u001b[0m \u001b[43m    \u001b[49m\u001b[43merrors\u001b[49m\u001b[38;5;241;43m=\u001b[39;49m\u001b[38;5;28;43mself\u001b[39;49m\u001b[38;5;241;43m.\u001b[39;49m\u001b[43moptions\u001b[49m\u001b[38;5;241;43m.\u001b[39;49m\u001b[43mget\u001b[49m\u001b[43m(\u001b[49m\u001b[38;5;124;43m\"\u001b[39;49m\u001b[38;5;124;43mencoding_errors\u001b[39;49m\u001b[38;5;124;43m\"\u001b[39;49m\u001b[43m,\u001b[49m\u001b[43m \u001b[49m\u001b[38;5;124;43m\"\u001b[39;49m\u001b[38;5;124;43mstrict\u001b[39;49m\u001b[38;5;124;43m\"\u001b[39;49m\u001b[43m)\u001b[49m\u001b[43m,\u001b[49m\n\u001b[0;32m   1886\u001b[0m \u001b[43m    \u001b[49m\u001b[43mstorage_options\u001b[49m\u001b[38;5;241;43m=\u001b[39;49m\u001b[38;5;28;43mself\u001b[39;49m\u001b[38;5;241;43m.\u001b[39;49m\u001b[43moptions\u001b[49m\u001b[38;5;241;43m.\u001b[39;49m\u001b[43mget\u001b[49m\u001b[43m(\u001b[49m\u001b[38;5;124;43m\"\u001b[39;49m\u001b[38;5;124;43mstorage_options\u001b[39;49m\u001b[38;5;124;43m\"\u001b[39;49m\u001b[43m,\u001b[49m\u001b[43m \u001b[49m\u001b[38;5;28;43;01mNone\u001b[39;49;00m\u001b[43m)\u001b[49m\u001b[43m,\u001b[49m\n\u001b[0;32m   1887\u001b[0m \u001b[43m\u001b[49m\u001b[43m)\u001b[49m\n\u001b[0;32m   1888\u001b[0m \u001b[38;5;28;01massert\u001b[39;00m \u001b[38;5;28mself\u001b[39m\u001b[38;5;241m.\u001b[39mhandles \u001b[38;5;129;01mis\u001b[39;00m \u001b[38;5;129;01mnot\u001b[39;00m \u001b[38;5;28;01mNone\u001b[39;00m\n\u001b[0;32m   1889\u001b[0m f \u001b[38;5;241m=\u001b[39m \u001b[38;5;28mself\u001b[39m\u001b[38;5;241m.\u001b[39mhandles\u001b[38;5;241m.\u001b[39mhandle\n",
      "File \u001b[1;32m~\\AppData\\Local\\Programs\\Python\\Python39\\lib\\site-packages\\pandas\\io\\common.py:728\u001b[0m, in \u001b[0;36mget_handle\u001b[1;34m(path_or_buf, mode, encoding, compression, memory_map, is_text, errors, storage_options)\u001b[0m\n\u001b[0;32m    725\u001b[0m     codecs\u001b[38;5;241m.\u001b[39mlookup_error(errors)\n\u001b[0;32m    727\u001b[0m \u001b[38;5;66;03m# open URLs\u001b[39;00m\n\u001b[1;32m--> 728\u001b[0m ioargs \u001b[38;5;241m=\u001b[39m \u001b[43m_get_filepath_or_buffer\u001b[49m\u001b[43m(\u001b[49m\n\u001b[0;32m    729\u001b[0m \u001b[43m    \u001b[49m\u001b[43mpath_or_buf\u001b[49m\u001b[43m,\u001b[49m\n\u001b[0;32m    730\u001b[0m \u001b[43m    \u001b[49m\u001b[43mencoding\u001b[49m\u001b[38;5;241;43m=\u001b[39;49m\u001b[43mencoding\u001b[49m\u001b[43m,\u001b[49m\n\u001b[0;32m    731\u001b[0m \u001b[43m    \u001b[49m\u001b[43mcompression\u001b[49m\u001b[38;5;241;43m=\u001b[39;49m\u001b[43mcompression\u001b[49m\u001b[43m,\u001b[49m\n\u001b[0;32m    732\u001b[0m \u001b[43m    \u001b[49m\u001b[43mmode\u001b[49m\u001b[38;5;241;43m=\u001b[39;49m\u001b[43mmode\u001b[49m\u001b[43m,\u001b[49m\n\u001b[0;32m    733\u001b[0m \u001b[43m    \u001b[49m\u001b[43mstorage_options\u001b[49m\u001b[38;5;241;43m=\u001b[39;49m\u001b[43mstorage_options\u001b[49m\u001b[43m,\u001b[49m\n\u001b[0;32m    734\u001b[0m \u001b[43m\u001b[49m\u001b[43m)\u001b[49m\n\u001b[0;32m    736\u001b[0m handle \u001b[38;5;241m=\u001b[39m ioargs\u001b[38;5;241m.\u001b[39mfilepath_or_buffer\n\u001b[0;32m    737\u001b[0m handles: \u001b[38;5;28mlist\u001b[39m[BaseBuffer]\n",
      "File \u001b[1;32m~\\AppData\\Local\\Programs\\Python\\Python39\\lib\\site-packages\\pandas\\io\\common.py:384\u001b[0m, in \u001b[0;36m_get_filepath_or_buffer\u001b[1;34m(filepath_or_buffer, encoding, compression, mode, storage_options)\u001b[0m\n\u001b[0;32m    382\u001b[0m \u001b[38;5;66;03m# assuming storage_options is to be interpreted as headers\u001b[39;00m\n\u001b[0;32m    383\u001b[0m req_info \u001b[38;5;241m=\u001b[39m urllib\u001b[38;5;241m.\u001b[39mrequest\u001b[38;5;241m.\u001b[39mRequest(filepath_or_buffer, headers\u001b[38;5;241m=\u001b[39mstorage_options)\n\u001b[1;32m--> 384\u001b[0m \u001b[38;5;28;01mwith\u001b[39;00m \u001b[43murlopen\u001b[49m\u001b[43m(\u001b[49m\u001b[43mreq_info\u001b[49m\u001b[43m)\u001b[49m \u001b[38;5;28;01mas\u001b[39;00m req:\n\u001b[0;32m    385\u001b[0m     content_encoding \u001b[38;5;241m=\u001b[39m req\u001b[38;5;241m.\u001b[39mheaders\u001b[38;5;241m.\u001b[39mget(\u001b[38;5;124m\"\u001b[39m\u001b[38;5;124mContent-Encoding\u001b[39m\u001b[38;5;124m\"\u001b[39m, \u001b[38;5;28;01mNone\u001b[39;00m)\n\u001b[0;32m    386\u001b[0m     \u001b[38;5;28;01mif\u001b[39;00m content_encoding \u001b[38;5;241m==\u001b[39m \u001b[38;5;124m\"\u001b[39m\u001b[38;5;124mgzip\u001b[39m\u001b[38;5;124m\"\u001b[39m:\n\u001b[0;32m    387\u001b[0m         \u001b[38;5;66;03m# Override compression based on Content-Encoding header\u001b[39;00m\n",
      "File \u001b[1;32m~\\AppData\\Local\\Programs\\Python\\Python39\\lib\\site-packages\\pandas\\io\\common.py:289\u001b[0m, in \u001b[0;36murlopen\u001b[1;34m(*args, **kwargs)\u001b[0m\n\u001b[0;32m    283\u001b[0m \u001b[38;5;250m\u001b[39m\u001b[38;5;124;03m\"\"\"\u001b[39;00m\n\u001b[0;32m    284\u001b[0m \u001b[38;5;124;03mLazy-import wrapper for stdlib urlopen, as that imports a big chunk of\u001b[39;00m\n\u001b[0;32m    285\u001b[0m \u001b[38;5;124;03mthe stdlib.\u001b[39;00m\n\u001b[0;32m    286\u001b[0m \u001b[38;5;124;03m\"\"\"\u001b[39;00m\n\u001b[0;32m    287\u001b[0m \u001b[38;5;28;01mimport\u001b[39;00m \u001b[38;5;21;01murllib\u001b[39;00m\u001b[38;5;21;01m.\u001b[39;00m\u001b[38;5;21;01mrequest\u001b[39;00m\n\u001b[1;32m--> 289\u001b[0m \u001b[38;5;28;01mreturn\u001b[39;00m urllib\u001b[38;5;241m.\u001b[39mrequest\u001b[38;5;241m.\u001b[39murlopen(\u001b[38;5;241m*\u001b[39margs, \u001b[38;5;241m*\u001b[39m\u001b[38;5;241m*\u001b[39mkwargs)\n",
      "File \u001b[1;32m~\\AppData\\Local\\Programs\\Python\\Python39\\lib\\urllib\\request.py:214\u001b[0m, in \u001b[0;36murlopen\u001b[1;34m(url, data, timeout, cafile, capath, cadefault, context)\u001b[0m\n\u001b[0;32m    212\u001b[0m \u001b[38;5;28;01melse\u001b[39;00m:\n\u001b[0;32m    213\u001b[0m     opener \u001b[38;5;241m=\u001b[39m _opener\n\u001b[1;32m--> 214\u001b[0m \u001b[38;5;28;01mreturn\u001b[39;00m \u001b[43mopener\u001b[49m\u001b[38;5;241;43m.\u001b[39;49m\u001b[43mopen\u001b[49m\u001b[43m(\u001b[49m\u001b[43murl\u001b[49m\u001b[43m,\u001b[49m\u001b[43m \u001b[49m\u001b[43mdata\u001b[49m\u001b[43m,\u001b[49m\u001b[43m \u001b[49m\u001b[43mtimeout\u001b[49m\u001b[43m)\u001b[49m\n",
      "File \u001b[1;32m~\\AppData\\Local\\Programs\\Python\\Python39\\lib\\urllib\\request.py:523\u001b[0m, in \u001b[0;36mOpenerDirector.open\u001b[1;34m(self, fullurl, data, timeout)\u001b[0m\n\u001b[0;32m    521\u001b[0m \u001b[38;5;28;01mfor\u001b[39;00m processor \u001b[38;5;129;01min\u001b[39;00m \u001b[38;5;28mself\u001b[39m\u001b[38;5;241m.\u001b[39mprocess_response\u001b[38;5;241m.\u001b[39mget(protocol, []):\n\u001b[0;32m    522\u001b[0m     meth \u001b[38;5;241m=\u001b[39m \u001b[38;5;28mgetattr\u001b[39m(processor, meth_name)\n\u001b[1;32m--> 523\u001b[0m     response \u001b[38;5;241m=\u001b[39m \u001b[43mmeth\u001b[49m\u001b[43m(\u001b[49m\u001b[43mreq\u001b[49m\u001b[43m,\u001b[49m\u001b[43m \u001b[49m\u001b[43mresponse\u001b[49m\u001b[43m)\u001b[49m\n\u001b[0;32m    525\u001b[0m \u001b[38;5;28;01mreturn\u001b[39;00m response\n",
      "File \u001b[1;32m~\\AppData\\Local\\Programs\\Python\\Python39\\lib\\urllib\\request.py:632\u001b[0m, in \u001b[0;36mHTTPErrorProcessor.http_response\u001b[1;34m(self, request, response)\u001b[0m\n\u001b[0;32m    629\u001b[0m \u001b[38;5;66;03m# According to RFC 2616, \"2xx\" code indicates that the client's\u001b[39;00m\n\u001b[0;32m    630\u001b[0m \u001b[38;5;66;03m# request was successfully received, understood, and accepted.\u001b[39;00m\n\u001b[0;32m    631\u001b[0m \u001b[38;5;28;01mif\u001b[39;00m \u001b[38;5;129;01mnot\u001b[39;00m (\u001b[38;5;241m200\u001b[39m \u001b[38;5;241m<\u001b[39m\u001b[38;5;241m=\u001b[39m code \u001b[38;5;241m<\u001b[39m \u001b[38;5;241m300\u001b[39m):\n\u001b[1;32m--> 632\u001b[0m     response \u001b[38;5;241m=\u001b[39m \u001b[38;5;28;43mself\u001b[39;49m\u001b[38;5;241;43m.\u001b[39;49m\u001b[43mparent\u001b[49m\u001b[38;5;241;43m.\u001b[39;49m\u001b[43merror\u001b[49m\u001b[43m(\u001b[49m\n\u001b[0;32m    633\u001b[0m \u001b[43m        \u001b[49m\u001b[38;5;124;43m'\u001b[39;49m\u001b[38;5;124;43mhttp\u001b[39;49m\u001b[38;5;124;43m'\u001b[39;49m\u001b[43m,\u001b[49m\u001b[43m \u001b[49m\u001b[43mrequest\u001b[49m\u001b[43m,\u001b[49m\u001b[43m \u001b[49m\u001b[43mresponse\u001b[49m\u001b[43m,\u001b[49m\u001b[43m \u001b[49m\u001b[43mcode\u001b[49m\u001b[43m,\u001b[49m\u001b[43m \u001b[49m\u001b[43mmsg\u001b[49m\u001b[43m,\u001b[49m\u001b[43m \u001b[49m\u001b[43mhdrs\u001b[49m\u001b[43m)\u001b[49m\n\u001b[0;32m    635\u001b[0m \u001b[38;5;28;01mreturn\u001b[39;00m response\n",
      "File \u001b[1;32m~\\AppData\\Local\\Programs\\Python\\Python39\\lib\\urllib\\request.py:561\u001b[0m, in \u001b[0;36mOpenerDirector.error\u001b[1;34m(self, proto, *args)\u001b[0m\n\u001b[0;32m    559\u001b[0m \u001b[38;5;28;01mif\u001b[39;00m http_err:\n\u001b[0;32m    560\u001b[0m     args \u001b[38;5;241m=\u001b[39m (\u001b[38;5;28mdict\u001b[39m, \u001b[38;5;124m'\u001b[39m\u001b[38;5;124mdefault\u001b[39m\u001b[38;5;124m'\u001b[39m, \u001b[38;5;124m'\u001b[39m\u001b[38;5;124mhttp_error_default\u001b[39m\u001b[38;5;124m'\u001b[39m) \u001b[38;5;241m+\u001b[39m orig_args\n\u001b[1;32m--> 561\u001b[0m     \u001b[38;5;28;01mreturn\u001b[39;00m \u001b[38;5;28;43mself\u001b[39;49m\u001b[38;5;241;43m.\u001b[39;49m\u001b[43m_call_chain\u001b[49m\u001b[43m(\u001b[49m\u001b[38;5;241;43m*\u001b[39;49m\u001b[43margs\u001b[49m\u001b[43m)\u001b[49m\n",
      "File \u001b[1;32m~\\AppData\\Local\\Programs\\Python\\Python39\\lib\\urllib\\request.py:494\u001b[0m, in \u001b[0;36mOpenerDirector._call_chain\u001b[1;34m(self, chain, kind, meth_name, *args)\u001b[0m\n\u001b[0;32m    492\u001b[0m \u001b[38;5;28;01mfor\u001b[39;00m handler \u001b[38;5;129;01min\u001b[39;00m handlers:\n\u001b[0;32m    493\u001b[0m     func \u001b[38;5;241m=\u001b[39m \u001b[38;5;28mgetattr\u001b[39m(handler, meth_name)\n\u001b[1;32m--> 494\u001b[0m     result \u001b[38;5;241m=\u001b[39m \u001b[43mfunc\u001b[49m\u001b[43m(\u001b[49m\u001b[38;5;241;43m*\u001b[39;49m\u001b[43margs\u001b[49m\u001b[43m)\u001b[49m\n\u001b[0;32m    495\u001b[0m     \u001b[38;5;28;01mif\u001b[39;00m result \u001b[38;5;129;01mis\u001b[39;00m \u001b[38;5;129;01mnot\u001b[39;00m \u001b[38;5;28;01mNone\u001b[39;00m:\n\u001b[0;32m    496\u001b[0m         \u001b[38;5;28;01mreturn\u001b[39;00m result\n",
      "File \u001b[1;32m~\\AppData\\Local\\Programs\\Python\\Python39\\lib\\urllib\\request.py:641\u001b[0m, in \u001b[0;36mHTTPDefaultErrorHandler.http_error_default\u001b[1;34m(self, req, fp, code, msg, hdrs)\u001b[0m\n\u001b[0;32m    640\u001b[0m \u001b[38;5;28;01mdef\u001b[39;00m \u001b[38;5;21mhttp_error_default\u001b[39m(\u001b[38;5;28mself\u001b[39m, req, fp, code, msg, hdrs):\n\u001b[1;32m--> 641\u001b[0m     \u001b[38;5;28;01mraise\u001b[39;00m HTTPError(req\u001b[38;5;241m.\u001b[39mfull_url, code, msg, hdrs, fp)\n",
      "\u001b[1;31mHTTPError\u001b[0m: HTTP Error 404: Not Found"
     ]
    }
   ],
   "source": [
    "# SKIP: Example 2\n",
    "\n",
    "df = pd.read_csv('https://raw.githubusercontent.com/ash322ash422/tut_pandas_numpy/refs/heads/master/titanic.csv', sep=',')\n",
    "print(df.head(5))\n",
    "print(\"111111111111111111111111\")\n",
    "\n",
    "print(df.groupby('Sex').count())\n",
    "print(\"222222222222222222222222\")\n",
    "\n",
    "print(df.groupby('Sex')['Fare'].mean()) # .mean() for 'Fare' gives the average fare paid by male vs. female passengers.\n",
    "print(\"333333333333333333333333\")\n",
    "\n",
    "########### Aggregation #####################\n",
    "df.groupby('Sex').agg({\n",
    "    'Fare': ['mean', 'median', 'max', 'min'],\n",
    "    'Survived': 'mean'\n",
    "})"
   ]
  },
  {
   "cell_type": "code",
   "execution_count": null,
   "id": "433f6c84-fd73-4cbc-95fe-8b030c47bf5c",
   "metadata": {},
   "outputs": [],
   "source": [
    "# SKIP: example 3\n",
    "df = pd.read_csv(\"data_tips.csv\")\n",
    "print(df.head(10))\n",
    "print(\"00000000000000000000\")\n",
    "\n",
    "print(df.groupby(['day'], observed=False).size())\n",
    "print(\"1111111111111111111111\")\n",
    "\n",
    "print(df.groupby(['time'], observed=False).size())\n",
    "print(\"222222222222222222222\")\n",
    "\n",
    "# Group by 'day' and 'time' to see how many entries there are\n",
    "print(df.groupby(['day', 'time'], observed=False).size())\n",
    "print(\"33333333333333333333\")\n",
    "\n",
    "print(df.groupby(['day', 'time'], observed=False)['tip'].describe())\n",
    "print(\"44444444444444444444444444\")\n",
    "\n",
    "#################################################\n",
    "########### Aggregation #####################\n",
    "tip_by_day = df.groupby('day').agg({\n",
    "    'tip': ['mean', 'max', 'min', 'count']\n",
    "}).reset_index()\n",
    "\n",
    "tip_by_day.columns = ['Day', 'Avg_Tip', 'Max_Tip', 'Min_Tip', 'Count']\n",
    "print(tip_by_day)"
   ]
  },
  {
   "cell_type": "code",
   "execution_count": null,
   "id": "73460c02-f62d-489c-bdc3-655da663d6cc",
   "metadata": {},
   "outputs": [],
   "source": [
    "# SKIP: example 4\n",
    "# tips_groupby_examples.py\n",
    "\n",
    "# Load the tips dataset\n",
    "df = pd.read_csv(\"data_tips.csv\")\n",
    "print(df.head(10))\n",
    "\n",
    "# 1. Average tip by day\n",
    "avg_tip_by_day = df.groupby(\"day\")[\"tip\"].mean()\n",
    "print(\"\\n1. Average tip by day:\")\n",
    "print(avg_tip_by_day)\n",
    "print(\"1111111111111111111111\")\n",
    "\n",
    "# 2. Total bill and tip by smoker vs non-smoker\n",
    "total_by_smoker = df.groupby(\"smoker\")[[\"total_bill\", \"tip\"]].sum()\n",
    "print(\"\\n2. Total bill and tip (Smoker vs Non-Smoker):\")\n",
    "print(total_by_smoker)\n",
    "\n",
    "# 3. Tip percentage by gender\n",
    "df['tip_pct'] = df['tip'] / df['total_bill']\n",
    "avg_tip_pct_by_sex = df.groupby(\"sex\")[\"tip_pct\"].mean()\n",
    "print(\"\\n3. Average tip percentage by gender:\")\n",
    "print(avg_tip_pct_by_sex)\n",
    "\n",
    "# 4. Median tip by day and time (multi-index group)\n",
    "median_tip_by_day_time = df.groupby([\"day\", \"time\"])[\"tip\"].median()\n",
    "print(\"\\n4. Median tip by day and time:\")\n",
    "print(median_tip_by_day_time)\n",
    "\n",
    "\n",
    "### Aggregation\n",
    "# 5. Group by table size and find count, average total_bill, and max tip\n",
    "stats_by_size = df.groupby(\"size\").agg({\n",
    "    \"total_bill\": \"mean\",\n",
    "    \"tip\": \"max\",\n",
    "    \"sex\": \"count\"  # Just to see how many entries per group\n",
    "}).rename(columns={\"sex\": \"count\"})\n",
    "print(\"\\n5. Stats by table size (count, average total bill, max tip):\")\n",
    "print(stats_by_size)\n"
   ]
  }
 ],
 "metadata": {
  "kernelspec": {
   "display_name": "Python 3 (ipykernel)",
   "language": "python",
   "name": "python3"
  },
  "language_info": {
   "codemirror_mode": {
    "name": "ipython",
    "version": 3
   },
   "file_extension": ".py",
   "mimetype": "text/x-python",
   "name": "python",
   "nbconvert_exporter": "python",
   "pygments_lexer": "ipython3",
   "version": "3.9.9"
  }
 },
 "nbformat": 4,
 "nbformat_minor": 5
}
