{
 "cells": [
  {
   "cell_type": "markdown",
   "id": "c5ada5e5-8de8-497f-b42f-f2f200df58c0",
   "metadata": {},
   "source": [
    "### Topics covered:\n",
    "- random library\n"
   ]
  },
  {
   "cell_type": "code",
   "execution_count": 1,
   "id": "272dbb10-7337-48d1-a29b-51cce3e94c42",
   "metadata": {},
   "outputs": [],
   "source": [
    "import numpy as np"
   ]
  },
  {
   "cell_type": "code",
   "execution_count": null,
   "id": "e0ff1714-a5aa-4d7d-8562-5c312b957b39",
   "metadata": {},
   "outputs": [],
   "source": []
  },
  {
   "cell_type": "code",
   "execution_count": null,
   "id": "14578158-27a9-45e7-b850-ef4eb2e87a89",
   "metadata": {},
   "outputs": [],
   "source": []
  },
  {
   "cell_type": "code",
   "execution_count": 2,
   "id": "ffd9249a-7101-462d-84d0-75690ead6c7e",
   "metadata": {},
   "outputs": [
    {
     "name": "stdout",
     "output_type": "stream",
     "text": [
      "Sample values: [  829   194   980  1855    98    98  1911  1099  -137   875  -130  -133\n",
      "   574 -1580 -1392  -229  -680   646  -575 -1079  1798   106   400 -1092\n",
      "  -211   443  -818   708  -268    40  -269  2184   319  -725  1155  -888\n",
      "   541 -1627  -995   529  1070   503   216    31 -1146  -387  -128  1389\n",
      "   676 -1430]\n",
      "Sample mean: 106.96\n"
     ]
    }
   ],
   "source": [
    "# generate a random sample of size 50 with a mean of 107 using NumPy. Also the distribution should be normal\n",
    "\n",
    "np.random.seed(42) # for reproducibilty  \n",
    "\n",
    "# Set the desired parameters\n",
    "sample_size = 50\n",
    "desired_mean = 107\n",
    "\n",
    "# Generate random values (e.g., from a normal distribution)\n",
    "# We'll generate a sample with mean 0, then shift it to desired mean\n",
    "# scale controls how much your sample would vary around the mean\n",
    "random_sample = np.random.normal(loc=0, scale=1000, size=sample_size)\n",
    "\n",
    "# Shift the sample to have the desired mean because the above sample may not have the desired mean\n",
    "# due to small sample size.\n",
    "adjusted_sample = random_sample - np.mean(random_sample) + desired_mean\n",
    "adjusted_sample = np.round(adjusted_sample,1).astype(int)\n",
    "\n",
    "# Print the sample and its mean\n",
    "print(\"Sample values:\", adjusted_sample)\n",
    "print(\"Sample mean:\", np.mean(adjusted_sample))"
   ]
  },
  {
   "cell_type": "code",
   "execution_count": null,
   "id": "e015ec9a-8ea9-4728-b1bd-b961e7baadca",
   "metadata": {},
   "outputs": [],
   "source": []
  }
 ],
 "metadata": {
  "kernelspec": {
   "display_name": "Python 3 (ipykernel)",
   "language": "python",
   "name": "python3"
  },
  "language_info": {
   "codemirror_mode": {
    "name": "ipython",
    "version": 3
   },
   "file_extension": ".py",
   "mimetype": "text/x-python",
   "name": "python",
   "nbconvert_exporter": "python",
   "pygments_lexer": "ipython3",
   "version": "3.9.9"
  }
 },
 "nbformat": 4,
 "nbformat_minor": 5
}
