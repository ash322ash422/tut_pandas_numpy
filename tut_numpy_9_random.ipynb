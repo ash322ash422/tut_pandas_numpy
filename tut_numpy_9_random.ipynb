{
 "cells": [
  {
   "cell_type": "markdown",
   "id": "d7059fb0-80ea-43f7-876a-31990baae906",
   "metadata": {},
   "source": [
    "### Topics covered:\n",
    "random library\n",
    "\n",
    "\n",
    "- np.random.rand()\n",
    "- np.random.randint()\n",
    "- np.random.choice()\n",
    "- np.random.shuffle()\n",
    "- np.random.randn()\n",
    "- np.random.normal()"
   ]
  },
  {
   "cell_type": "code",
   "execution_count": 2,
   "id": "902a8938-9799-4b90-af5c-746901d7b5fe",
   "metadata": {},
   "outputs": [],
   "source": [
    "import numpy as np\n",
    "# print(np.__version__)"
   ]
  },
  {
   "cell_type": "code",
   "execution_count": 3,
   "id": "ed70e6ea-e5c4-4b50-ac52-03614773ce23",
   "metadata": {},
   "outputs": [
    {
     "name": "stdout",
     "output_type": "stream",
     "text": [
      "Random numbers without seed: [0.69322171 0.44885037 0.44721384 0.42260852 0.31299775]\n"
     ]
    }
   ],
   "source": [
    "# Lets generate 5 random numbers\n",
    "# step1: Without random seed ( Each run produces different output -> not reproducible)\n",
    "\n",
    "print(\"Random numbers without seed:\", np.random.rand(5))\n",
    "\n",
    "# Each time when I run my output is diff. If I want same output on each run, then this is a problem"
   ]
  },
  {
   "cell_type": "code",
   "execution_count": 4,
   "id": "572ac808-5988-458c-a223-ef5a8a82bf7d",
   "metadata": {},
   "outputs": [
    {
     "name": "stdout",
     "output_type": "stream",
     "text": [
      "Random numbers with seed 78: [0.04818123 0.68096301 0.79869607 0.80010859 0.96529725]\n"
     ]
    }
   ],
   "source": [
    "# step2: With random seed. (Each run produces same output -> reproducible)\n",
    "\n",
    "np.random.seed(78) # seed number produces unique set of numbers\n",
    "print(\"Random numbers with seed 78:\", np.random.rand(5))"
   ]
  },
  {
   "cell_type": "code",
   "execution_count": 5,
   "id": "2266fc0d-24ae-4fd7-97b0-3920956533a8",
   "metadata": {},
   "outputs": [
    {
     "name": "stdout",
     "output_type": "stream",
     "text": [
      "Random numbers with seed 43: [0.11505457 0.60906654 0.13339096 0.24058962 0.32713906]\n"
     ]
    }
   ],
   "source": [
    "# step3: Now I want different set of numbers. So change seed value\n",
    "\n",
    "np.random.seed(43)\n",
    "print(\"Random numbers with seed 43:\", np.random.rand(5))"
   ]
  },
  {
   "cell_type": "code",
   "execution_count": null,
   "id": "50c5a17d-b92c-41d1-841c-aeee9572e1b3",
   "metadata": {},
   "outputs": [],
   "source": []
  },
  {
   "cell_type": "code",
   "execution_count": 6,
   "id": "bbdc7e57-a604-4580-9151-514233160486",
   "metadata": {},
   "outputs": [
    {
     "name": "stdout",
     "output_type": "stream",
     "text": [
      "\n",
      "Random integers (1–10): [3 8 1 4 3 2 3 3 4 6 5 5 1 6 9 1 1 3 1 5 5 9 8 5 9 6 1 4 3 1 7 6 6 6 9 8 4\n",
      " 7 4 3 5 3 8 4 7 9 4 7 8 5]\n"
     ]
    }
   ],
   "source": [
    "# I want random integers (low, high, size): generate 50 random int from numbers 1,2,3,..9\n",
    "\n",
    "print(\"\\nRandom integers (1–10):\", np.random.randint(1, 10, size=50))"
   ]
  },
  {
   "cell_type": "code",
   "execution_count": null,
   "id": "565eb975-0846-452b-ac8b-5412beab0b6e",
   "metadata": {},
   "outputs": [],
   "source": []
  },
  {
   "cell_type": "code",
   "execution_count": 7,
   "id": "ba75ffad-2a5b-448f-8f52-8e8915204c78",
   "metadata": {},
   "outputs": [
    {
     "name": "stdout",
     "output_type": "stream",
     "text": [
      "\n",
      "Uniform [0,1): [0.80451079 0.91686895 0.53243387 0.30795656 0.60483604]\n"
     ]
    }
   ],
   "source": [
    "# I want random numbers between [0, 1) from uniform distribution \n",
    "\n",
    "print(\"\\nUniform [0,1):\", np.random.rand(5))"
   ]
  },
  {
   "cell_type": "code",
   "execution_count": null,
   "id": "aa461f04-465c-45e9-a0c8-0400b333aa86",
   "metadata": {},
   "outputs": [],
   "source": []
  },
  {
   "cell_type": "code",
   "execution_count": 8,
   "id": "44ba2f73-66fb-43ed-b191-bc93d679d8db",
   "metadata": {},
   "outputs": [
    {
     "name": "stdout",
     "output_type": "stream",
     "text": [
      "\n",
      "Random choice from list: ['cherry' 'banana' 'cherry' 'kiwi' 'kiwi' 'kiwi']\n",
      "Sample without replacement: [9 6 2 4 0 5]\n"
     ]
    }
   ],
   "source": [
    "# Random choices\n",
    "\n",
    "items = ['kiwi', 'banana', 'cherry', 'apple']\n",
    "\n",
    "# Random choice from list with replacement\n",
    "print(\"\\nRandom choice from list:\", np.random.choice(items, size=6, replace=True))\n"
   ]
  },
  {
   "cell_type": "code",
   "execution_count": 18,
   "id": "7ebd0ee9-ba8e-4f56-b98c-6e29af8a0e1a",
   "metadata": {},
   "outputs": [
    {
     "name": "stdout",
     "output_type": "stream",
     "text": [
      "Sample without replacement: [0 2 9 8 4 7]\n"
     ]
    }
   ],
   "source": [
    "# Without replacement (like lottery)\n",
    "print(\"Sample without replacement:\", np.random.choice(10, size=6, replace=False))\n"
   ]
  },
  {
   "cell_type": "code",
   "execution_count": 9,
   "id": "a2aa71df-31c6-420d-8ea9-892ab8d97d92",
   "metadata": {},
   "outputs": [
    {
     "name": "stdout",
     "output_type": "stream",
     "text": [
      "Random samples: ['H' 'H' 'H' 'H' 'H' 'H' 'H' 'H' 'T' 'T' 'H' 'H' 'T' 'H' 'T' 'H' 'H' 'T'\n",
      " 'T' 'H']\n"
     ]
    }
   ],
   "source": [
    "# Lets generate a random samples of H and T, head and tail with 70% chance of head.\n",
    "\n",
    "outcomes = ['H', 'T']\n",
    "\n",
    "# Define probabilities (H = 0.7, T = 0.3)\n",
    "probabilities = [0.7, 0.3] # This should sum to 1 else ERROR\n",
    "\n",
    "samples = np.random.choice(outcomes, size=20, p=probabilities)\n",
    "\n",
    "print(\"Random samples:\", samples)"
   ]
  },
  {
   "cell_type": "code",
   "execution_count": 10,
   "id": "31067e17-d6ec-417b-9487-9129aa026388",
   "metadata": {},
   "outputs": [
    {
     "name": "stdout",
     "output_type": "stream",
     "text": [
      "arr           : [0 1 2 3 4 5 6 7 8 9]\n",
      "Shuffled array: [0 8 5 9 7 6 2 4 1 3]\n",
      "items         : ['kiwi', 'banana', 'cherry', 'apple']\n",
      "Shuffled items: ['banana', 'kiwi', 'cherry', 'apple']\n"
     ]
    }
   ],
   "source": [
    "# Now lets shuffle an array of numbers or items\n",
    "arr = np.arange(10)\n",
    "print(\"arr           :\", arr)\n",
    "np.random.shuffle(arr)\n",
    "print(\"Shuffled array:\", arr)\n",
    "######################\n",
    "\n",
    "items = ['kiwi', 'banana', 'cherry', 'apple']\n",
    "print(\"items         :\", items)\n",
    "np.random.shuffle(items)\n",
    "print(\"Shuffled items:\", items)"
   ]
  },
  {
   "cell_type": "code",
   "execution_count": null,
   "id": "c4afc492-02dd-4cac-9d36-a2dd084674a5",
   "metadata": {},
   "outputs": [],
   "source": []
  },
  {
   "cell_type": "markdown",
   "id": "420d75bd-b1aa-448c-8154-ea77007d5b0f",
   "metadata": {},
   "source": [
    "## samples from distibution"
   ]
  },
  {
   "cell_type": "code",
   "execution_count": 11,
   "id": "4a88f03c-a83e-45c5-8afa-6e053b74bc39",
   "metadata": {},
   "outputs": [
    {
     "name": "stdout",
     "output_type": "stream",
     "text": [
      "\n",
      "Standard Normal: [-0.76799264  0.58427282  0.97587786 -0.16518804 -0.37387355]\n",
      "mean: 0.05061928922219109\n",
      "std_dev: 0.6384014373833165\n"
     ]
    }
   ],
   "source": [
    "# Sampling from normal distribution (mean=0, std=1)\n",
    "\n",
    "# step 1: Lets use small size 5\n",
    "\n",
    "a_rand = np.random.randn(5)\n",
    "print(\"\\nStandard Normal:\", a_rand)\n",
    "print(\"mean:\", np.mean(a_rand))\n",
    "print(\"std_dev:\", np.std(a_rand))\n",
    "\n",
    "# The mean is not equal to 0 and std is not closer to 1. This is a problem that happens with small samples"
   ]
  },
  {
   "cell_type": "code",
   "execution_count": 12,
   "id": "457ea23d-66a4-48e1-ad15-6f16684b5e1e",
   "metadata": {},
   "outputs": [
    {
     "name": "stdout",
     "output_type": "stream",
     "text": [
      "\n",
      "Standard Normal: [-1.61555954 -0.83595238  0.24644992 -0.61116699 -0.01327632  1.09022045\n",
      " -0.81482242  0.23764734  0.115983   -0.6879369   0.66891016  0.11520484\n",
      "  0.89267006 -0.37220529  1.15726664 -1.35460994  1.97626792 -0.15270655\n",
      "  1.93603813  0.34433867 -0.88663779  0.65711753 -0.79214973  0.13113672\n",
      " -0.0462532  -0.71764187  1.67096637  0.47545313  0.2652677   0.04556048\n",
      " -0.26206173 -0.93346391  1.02690621  1.35276405  0.09795017 -1.6957209\n",
      "  1.34500498 -0.02540228 -0.81954629 -1.32924956 -0.1327562   0.01518299\n",
      " -0.77689254 -1.10543894 -0.65105506  1.05913697 -0.46959225  0.2227536\n",
      "  0.54354519 -0.00809603  0.19546409 -0.42030895 -1.07374076  0.98985994\n",
      " -0.11766632  0.15262632 -0.0595765  -0.00392414  0.13956628 -0.06815286\n",
      " -0.58608879  0.86870144  1.44822106 -0.66777529  0.26474225 -1.35576027\n",
      "  0.42179517 -0.58140301  1.14605691  1.89583686  0.02269423  0.36035333\n",
      " -1.17089564  0.33618529 -0.34996608  0.5528918  -1.98080236 -0.62179499\n",
      " -0.26052251 -3.25073824 -0.65331403 -0.94738003  0.14207841  0.23947458\n",
      "  0.82926367 -1.05887575 -0.47105814 -0.12121043 -0.31758601 -0.31428177\n",
      " -2.19869231 -0.646367    0.2481736  -0.94626592 -0.64946597  0.93792971\n",
      "  1.84968707 -1.05929211  0.68033189  1.04050341]\n",
      "mean: -0.06610920258588371\n",
      "std_dev: 0.9277448420540161\n"
     ]
    }
   ],
   "source": [
    "# step 2: Lets use big size 100\n",
    "\n",
    "a_rand = np.random.randn(100)\n",
    "print(\"\\nStandard Normal:\", a_rand)\n",
    "print(\"mean:\", np.mean(a_rand))\n",
    "print(\"std_dev:\", np.std(a_rand))\n",
    "\n",
    "# The bigger the sample is, the closer the mean would be to 0 and std would be to 1"
   ]
  },
  {
   "cell_type": "code",
   "execution_count": null,
   "id": "584cfd45-996d-4b19-b767-03f26098a483",
   "metadata": {},
   "outputs": [],
   "source": []
  },
  {
   "cell_type": "code",
   "execution_count": null,
   "id": "38e0892b-2eac-4b28-8876-9d47534b91d2",
   "metadata": {},
   "outputs": [],
   "source": []
  },
  {
   "cell_type": "code",
   "execution_count": 19,
   "id": "c78bf470-e045-4b67-89ea-104731106448",
   "metadata": {},
   "outputs": [
    {
     "name": "stdout",
     "output_type": "stream",
     "text": [
      "\n",
      "Normal (mean=50, std=10): [42.67315809 55.05427147 55.99994208 41.89926916 45.4156306 ]\n"
     ]
    }
   ],
   "source": [
    "# Sampling from normal distribution with mean=50, std=10 and 5 samples\n",
    "\n",
    "print(\"\\nNormal (mean=50, std=10):\", np.random.normal(loc=50, scale=10, size=5))"
   ]
  },
  {
   "cell_type": "code",
   "execution_count": null,
   "id": "2c80753a-a352-4524-a385-d45588c37355",
   "metadata": {},
   "outputs": [],
   "source": []
  },
  {
   "cell_type": "code",
   "execution_count": 20,
   "id": "9735a5e2-b244-40c9-992f-494a971e52e1",
   "metadata": {},
   "outputs": [
    {
     "name": "stdout",
     "output_type": "stream",
     "text": [
      "\n",
      "Binomial: [8 4 6 8 4 2 4 7 7 6]\n",
      "\n",
      "Poisson: [3 5 5 1 7 3 4 3 3 6]\n",
      "\n",
      "Uniform [5,15): [ 6.48991856 10.26623797  7.46069659  9.76695475  8.94365324]\n"
     ]
    }
   ],
   "source": [
    "# Sampling from  Binomial / Poisson / Uniform distribution\n",
    "\n",
    "# Binomial distribution (n=10 trials, p=0.5, size=10 samples)\n",
    "print(\"\\nBinomial:\", np.random.binomial(n=10, p=0.5, size=10))\n",
    "\n",
    "# Poisson distribution (lambda=3, 10 samples)\n",
    "print(\"\\nPoisson:\", np.random.poisson(lam=3, size=10))\n",
    "\n",
    "# Uniform distribution between [low, high)\n",
    "print(\"\\nUniform [5,15):\", np.random.uniform(5, 15, 5))"
   ]
  },
  {
   "cell_type": "code",
   "execution_count": null,
   "id": "a1cdc198-26ad-4c57-8690-9fcfcdc89580",
   "metadata": {},
   "outputs": [],
   "source": []
  },
  {
   "cell_type": "markdown",
   "id": "ca46fdbf-06f1-45f6-9a94-b82247110710",
   "metadata": {},
   "source": [
    "# STOP"
   ]
  },
  {
   "cell_type": "code",
   "execution_count": null,
   "id": "e8656772-f4c1-4b8b-a8b7-5d80d7619802",
   "metadata": {},
   "outputs": [],
   "source": []
  },
  {
   "cell_type": "code",
   "execution_count": null,
   "id": "07eadbe5-bd05-4cf7-9f1a-151c42c7bb17",
   "metadata": {},
   "outputs": [],
   "source": []
  },
  {
   "cell_type": "code",
   "execution_count": null,
   "id": "097c83e4-ba72-4f67-911f-322a1aa1d8f2",
   "metadata": {},
   "outputs": [],
   "source": []
  },
  {
   "cell_type": "code",
   "execution_count": null,
   "id": "d764b277-68f3-4f0f-a834-1265140e0825",
   "metadata": {},
   "outputs": [],
   "source": []
  },
  {
   "cell_type": "code",
   "execution_count": 14,
   "id": "65f1a08f-e2b6-446e-966e-2d7655116cad",
   "metadata": {},
   "outputs": [
    {
     "name": "stdout",
     "output_type": "stream",
     "text": [
      "Sample values: [  829   194   980  1855    98    98  1911  1099  -137   875  -130  -133\n",
      "   574 -1580 -1392  -229  -680   646  -575 -1079  1798   106   400 -1092\n",
      "  -211   443  -818   708  -268    40  -269  2184   319  -725  1155  -888\n",
      "   541 -1627  -995   529  1070   503   216    31 -1146  -387  -128  1389\n",
      "   676 -1430]\n",
      "Sample mean: 106.96\n"
     ]
    }
   ],
   "source": [
    "# Lets generate a random sample of \"integers\" of small size 50 with a mean of 107 using NumPy.\n",
    "# Also the distribution should be normal\n",
    "# Following show to do this for small size\n",
    "\n",
    "np.random.seed(42) # for reproducibilty  \n",
    "\n",
    "# Set the desired parameters\n",
    "sample_size = 50\n",
    "desired_mean = 107\n",
    "\n",
    "# Generate random values (e.g., from a normal distribution)\n",
    "# We'll generate a sample with mean 0, then shift it to desired mean\n",
    "# scale controls how much your sample would vary around the mean\n",
    "random_sample = np.random.normal(loc=0, scale=1000, size=sample_size)\n",
    "\n",
    "# Shift the sample to have the desired mean because the above sample may not have the desired mean\n",
    "# due to small sample size.\n",
    "adjusted_sample = random_sample - np.mean(random_sample) + desired_mean\n",
    "adjusted_sample = np.round(adjusted_sample,1).astype(int)\n",
    "\n",
    "# Print the sample and its mean\n",
    "print(\"Sample values:\", adjusted_sample)\n",
    "print(\"Sample mean:\", np.mean(adjusted_sample))"
   ]
  },
  {
   "cell_type": "code",
   "execution_count": null,
   "id": "00b353a7-7773-4504-833a-612222eb4b77",
   "metadata": {},
   "outputs": [],
   "source": []
  },
  {
   "cell_type": "code",
   "execution_count": null,
   "id": "77ab2e13-43e1-4279-b39a-eed9c540e64d",
   "metadata": {},
   "outputs": [],
   "source": []
  },
  {
   "cell_type": "code",
   "execution_count": 16,
   "id": "56a0a00f-00fc-409f-8b6c-c3f6eecd90d6",
   "metadata": {},
   "outputs": [
    {
     "name": "stdout",
     "output_type": "stream",
     "text": [
      "[ 1.37186213  0.17555329 -0.30928855  0.6731255  -0.25663018 -0.36782572\n",
      "  1.27373362 -0.29195267 -2.65517605  0.34551794]\n"
     ]
    },
    {
     "data": {
      "image/png": "[encoded data removed]",
      "text/plain": [
       "<Figure size 640x480 with 1 Axes>"
      ]
     },
     "metadata": {},
     "output_type": "display_data"
    }
   ],
   "source": [
    "# Visualization of distributions\n",
    "\n",
    "import matplotlib.pyplot as plt\n",
    "\n",
    "# Histogram of normal distribution\n",
    "data = np.random.normal(0, 1, 1000)  # mean=0, std=1, 1000 samples\n",
    "print(data[0:10])\n",
    "\n",
    "plt.hist(data, bins=30, density=True, alpha=0.6, color='g')\n",
    "plt.title(\"Histogram of Normal Distribution (mean=0, std=1)\")\n",
    "plt.show()"
   ]
  },
  {
   "cell_type": "code",
   "execution_count": null,
   "id": "62d4f90c-342b-4498-9457-8bd283a82ea5",
   "metadata": {},
   "outputs": [],
   "source": []
  },
  {
   "cell_type": "code",
   "execution_count": 17,
   "id": "c7e7e981-a6ed-4415-9067-c813c96784a3",
   "metadata": {},
   "outputs": [
    {
     "name": "stdout",
     "output_type": "stream",
     "text": [
      "\n",
      "New Generator API:\n",
      "Uniform [0,1): [0.68235186 0.05382102 0.22035987 0.18437181 0.1759059 ]\n",
      "Normal(0,1): [ 0.57710379 -0.63646365  0.54195222 -0.31659545 -0.32238912]\n",
      "Integers 1–10: [1 5 3 3 3]\n"
     ]
    }
   ],
   "source": [
    "# OPTIONAL\n",
    "# 6. Random Generator (new API in numpy >=1.17)\n",
    "# ================================\n",
    "\n",
    "rng = np.random.default_rng(seed=123)\n",
    "\n",
    "print(\"\\nNew Generator API:\")\n",
    "\n",
    "# Uniform random floats\n",
    "print(\"Uniform [0,1):\", rng.random(5))\n",
    "\n",
    "# Normal distribution\n",
    "print(\"Normal(0,1):\", rng.normal(0, 1, 5))\n",
    "\n",
    "# Integers\n",
    "print(\"Integers 1–10:\", rng.integers(1, 10, size=5))\n"
   ]
  },
  {
   "cell_type": "code",
   "execution_count": null,
   "id": "e6d1ffdf-f42c-4947-8eff-b5c934466ba5",
   "metadata": {},
   "outputs": [],
   "source": []
  },
  {
   "cell_type": "code",
   "execution_count": null,
   "id": "9f5024f8-7eeb-4798-8740-be4370f7206d",
   "metadata": {},
   "outputs": [],
   "source": []
  }
 ],
 "metadata": {
  "kernelspec": {
   "display_name": "Python 3 (ipykernel)",
   "language": "python",
   "name": "python3"
  },
  "language_info": {
   "codemirror_mode": {
    "name": "ipython",
    "version": 3
   },
   "file_extension": ".py",
   "mimetype": "text/x-python",
   "name": "python",
   "nbconvert_exporter": "python",
   "pygments_lexer": "ipython3",
   "version": "3.9.9"
  }
 },
 "nbformat": 4,
 "nbformat_minor": 5
}
