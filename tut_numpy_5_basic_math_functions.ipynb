{
 "cells": [
  {
   "cell_type": "markdown",
   "id": "c5ada5e5-8de8-497f-b42f-f2f200df58c0",
   "metadata": {},
   "source": [
    "# Basic math using numpy\n",
    "\n",
    "### Topics covered:\n",
    "- math: elementwise add, subtract, multiply, divide, square, root, power, log, exp, round, ceil, floor\n",
    "- math: prod, cumsum, cumprod, diff\n",
    "- sum:  "
   ]
  },
  {
   "cell_type": "markdown",
   "id": "c400fc41-ed89-4cb9-b5a3-7418b180a53f",
   "metadata": {},
   "source": [
    "## Array math\n",
    "Basic mathematical functions operate **elementwise** on arrays, and are available both as operator overloads and as functions in the numpy module:"
   ]
  },
  {
   "cell_type": "code",
   "execution_count": 25,
   "id": "ff00d256-b458-4a23-8a5d-b5eb98c8a336",
   "metadata": {},
   "outputs": [],
   "source": [
    "import numpy as np"
   ]
  },
  {
   "cell_type": "code",
   "execution_count": 26,
   "id": "7f4112ec-81b9-4201-bd11-1b1721b70e3a",
   "metadata": {},
   "outputs": [
    {
     "name": "stdout",
     "output_type": "stream",
     "text": [
      "Add filter (brightness boost):\n",
      " [[105. 160.]\n",
      " [155. 220.]]\n",
      "Add 50 to all pixels (brightness adjustment):\n",
      " [[150. 200.]\n",
      " [190. 250.]]\n",
      "Subtract filter (change detection):\n",
      " [[ 95. 140.]\n",
      " [125. 180.]]\n"
     ]
    }
   ],
   "source": [
    "# Here x could be an image of size 2X2.\n",
    "\n",
    "# Elementwise addition (e.g., applying a brightness mask y)\n",
    "x = np.array([[100, 150],\n",
    "              [140, 200]], dtype=np.float64\n",
    ")\n",
    "\n",
    "y = np.array([[5, 10],\n",
    "              [15, 20]], dtype=np.float64\n",
    ")\n",
    "\n",
    "res = x + y\n",
    "# res = np.add(x, y)\n",
    "print(\"Add filter (brightness boost):\\n\", res)\n",
    "########################\n",
    "\n",
    "# Adding a constant (increase brightness uniformly)\n",
    "x = np.array([[100, 150],\n",
    "              [140, 200]], dtype=np.float64\n",
    ")\n",
    "\n",
    "res = x + 50\n",
    "print(\"Add 50 to all pixels (brightness adjustment):\\n\", res)\n",
    "########################\n",
    "\n",
    "# Element-wise subtraction (e.g., remove background or detect changes from 1 frame to another)\n",
    "# x could be one frame and y could be another frame\n",
    "x = np.array([[100, 150],\n",
    "              [140, 200]], dtype=np.float64\n",
    ")\n",
    "\n",
    "y = np.array([[5, 10],\n",
    "              [15, 20]], dtype=np.float64\n",
    ")\n",
    "\n",
    "res = x - y\n",
    "# res = np.subtract(x, y)\n",
    "print(\"Subtract filter (change detection):\\n\", res)"
   ]
  },
  {
   "cell_type": "code",
   "execution_count": 27,
   "id": "9a66de03-5a0f-4231-99fd-d3aed20a2320",
   "metadata": {},
   "outputs": [
    {
     "name": "stdout",
     "output_type": "stream",
     "text": [
      "Pixel-wise blending (weighted effect):\n",
      " [[50. 15.]\n",
      " [21. 40.]]\n"
     ]
    }
   ],
   "source": [
    "# Element-wise multiplication (e.g., applying a weight y or blending mask y to image x)\n",
    "\n",
    "x = np.array([[100, 150],\n",
    "              [140, 200]], dtype=np.float64\n",
    ")\n",
    "\n",
    "y = np.array([[.5, .10],\n",
    "              [.15, .20]], dtype=np.float64\n",
    ")\n",
    "\n",
    "res = x * y\n",
    "# res = np.multiply(x, y)\n",
    "print(\"Pixel-wise blending (weighted effect):\\n\", res)"
   ]
  },
  {
   "cell_type": "code",
   "execution_count": 28,
   "id": "949a569f-1bbd-4170-baf2-cf0214ed097a",
   "metadata": {},
   "outputs": [
    {
     "name": "stdout",
     "output_type": "stream",
     "text": [
      "[[ 200.         1500.        ]\n",
      " [ 866.66666667  100.        ]]\n"
     ]
    }
   ],
   "source": [
    "# Now lets perform element-wise division\n",
    "x = np.array([[100, 150],\n",
    "              [130, 20]], dtype=np.float64\n",
    ")\n",
    "\n",
    "y = np.array([[.5, .10],\n",
    "              [.15, .20]], dtype=np.float64\n",
    ")\n",
    "\n",
    "res = x / y\n",
    "# res = np.divide(x, y)\n",
    "print(res)"
   ]
  },
  {
   "cell_type": "code",
   "execution_count": null,
   "id": "2980fd12-8b70-4f93-b305-99062966840d",
   "metadata": {},
   "outputs": [],
   "source": []
  },
  {
   "cell_type": "code",
   "execution_count": null,
   "id": "82be981e-9aa2-40ef-ac93-ae9592b67c02",
   "metadata": {},
   "outputs": [],
   "source": []
  },
  {
   "cell_type": "code",
   "execution_count": null,
   "id": "0b9aa66d-7847-4ed4-997c-161a1d8ddfcb",
   "metadata": {},
   "outputs": [],
   "source": []
  },
  {
   "cell_type": "code",
   "execution_count": null,
   "id": "b229d12f-bf18-48e4-8395-dab3a1831b2b",
   "metadata": {},
   "outputs": [],
   "source": []
  },
  {
   "cell_type": "code",
   "execution_count": 29,
   "id": "aa0177f0-084f-4320-9276-bf86c5881f32",
   "metadata": {},
   "outputs": [
    {
     "name": "stdout",
     "output_type": "stream",
     "text": [
      "Square:\n",
      " [[1.         1.41421356 1.73205081]\n",
      " [2.         2.23606798 2.44948974]]\n",
      "Power:\n",
      " [[ 1.  4.  9.]\n",
      " [16. 25. 36.]]\n",
      "Exponential:\n",
      " [[  2.71828183   7.3890561   20.08553692]\n",
      " [ 54.59815003 148.4131591  403.42879349]]\n",
      "Natural Logarithm:\n",
      " [[0.         0.69314718 1.09861229]\n",
      " [1.38629436 1.60943791 1.79175947]]\n",
      "Base-10 Logarithm:\n",
      " [[0.         0.30103    0.47712125]\n",
      " [0.60205999 0.69897    0.77815125]]\n",
      "Floor:\n",
      " [[1. 2. 3.]\n",
      " [4. 5. 6.]]\n",
      "Ceil:\n",
      " [[2. 3. 4.]\n",
      " [5. 6. 7.]]\n",
      "Round:\n",
      " [[2. 2. 4.]\n",
      " [4. 6. 6.]]\n"
     ]
    }
   ],
   "source": [
    "# Elementwise operation: sqrt, power, exp, log, floor, ceil, round\n",
    "\n",
    "x = np.array([[1, 2, 3],\n",
    "              [4, 5, 6]], dtype=np.float64\n",
    ") # 2D array of shape 2X3\n",
    "\n",
    "square_result = np.sqrt(x)\n",
    "print(\"Square:\\n\", square_result)\n",
    "######################\n",
    "\n",
    "x = np.array([[1, 2, 3],\n",
    "              [4, 5, 6]], dtype=np.float64\n",
    ") # 2D array of shape 2X3\n",
    "\n",
    "power_result = np.power(x, 2)  # Raises each element to the power of 2\n",
    "print(\"Power:\\n\", power_result)\n",
    "######################\n",
    "\n",
    "x = np.array([[1, 2, 3],\n",
    "              [4, 5, 6]], dtype=np.float64\n",
    ") # 2D array of shape 2X3\n",
    "\n",
    "exp_result = np.exp(x)  # Computes e^x for each element\n",
    "print(\"Exponential:\\n\", exp_result)\n",
    "######################\n",
    "\n",
    "x = np.array([[1, 2, 3],\n",
    "              [4, 5, 6]], dtype=np.float64\n",
    ") # 2D array of shape 2X3\n",
    "\n",
    "log_result = np.log(x)  # Computes the natural logarithm\n",
    "print(\"Natural Logarithm:\\n\", log_result)\n",
    "######################\n",
    "\n",
    "x = np.array([[1, 2, 3],\n",
    "              [4, 5, 6]], dtype=np.float64\n",
    ") # 2D array of shape 2X3\n",
    "\n",
    "log10_result = np.log10(x)  # Computes the base-10 logarithm\n",
    "print(\"Base-10 Logarithm:\\n\", log10_result)\n",
    "######################\n",
    "\n",
    "x = np.array([[1, 2, 3],\n",
    "              [4, 5, 6]], dtype=np.float64\n",
    ") # 2D array of shape 2X3\n",
    "\n",
    "floor_result = np.floor(x + 0.5)  # Rounds down\n",
    "print(\"Floor:\\n\", floor_result)\n",
    "######################\n",
    "\n",
    "x = np.array([[1, 2, 3],\n",
    "              [4, 5, 6]], dtype=np.float64\n",
    ") # 2D array of shape 2X3\n",
    "\n",
    "ceil_result = np.ceil(x + 0.5)    # Rounds up\n",
    "print(\"Ceil:\\n\", ceil_result)\n",
    "######################\n",
    "\n",
    "x = np.array([[1, 2, 3],\n",
    "              [4, 5, 6]], dtype=np.float64\n",
    ") # 2D array of shape 2X3\n",
    "\n",
    "round_result = np.round(x + 0.5)   # Rounds to nearest integer\n",
    "print(\"Round:\\n\", round_result)"
   ]
  },
  {
   "cell_type": "code",
   "execution_count": 30,
   "id": "61442c36",
   "metadata": {},
   "outputs": [
    {
     "name": "stdout",
     "output_type": "stream",
     "text": [
      "[[7.        7.8284273]\n",
      " [8.464102  9.       ]]\n"
     ]
    }
   ],
   "source": [
    "# A simple application: chaining\n",
    "# Suppose you have to sqrt all numbers, then multiply by 2 and then add 5 to all elements\n",
    "\n",
    "x = np.array(\n",
    "    [[1,2],\n",
    "     [3,4]\n",
    "    ], dtype = np.uint16\n",
    ")\n",
    "\n",
    "res =  (np.sqrt(x) * 2 ) + 5\n",
    "print(res)"
   ]
  },
  {
   "cell_type": "code",
   "execution_count": 31,
   "id": "afe6a2e4-dd1d-40a7-8ef7-217ca40b31df",
   "metadata": {},
   "outputs": [
    {
     "name": "stdout",
     "output_type": "stream",
     "text": [
      "[8 9 4]\n",
      "[1 6 6]\n",
      "[3 2 3]\n"
     ]
    }
   ],
   "source": [
    "# Lets say you want to raise every number in an array by some number that is in different array\n",
    "a = np.array([2, 3, 4])\n",
    "b = np.array([3, 2, 1])\n",
    "\n",
    "result = np.power(a, b)\n",
    "print(result)  # Output: [8 9 4] → [2^3, 3^2, 4^1]\n",
    "##########################################\n",
    "\n",
    "a = np.array([10, 20, 30])\n",
    "b = np.array([3, 7, 8])\n",
    "\n",
    "# rem = np.remainder(a, b)\n",
    "rem = np.mod(a, b)\n",
    "print(rem)  # Output: [1 6 6]\n",
    "##########################################\n",
    "\n",
    "a = np.array([10, 20, 30])\n",
    "b = np.array([3, 7, 8])\n",
    "\n",
    "result = np.floor_divide(a, b)\n",
    "print(result)  # Output: [3 2 3] → [10//3, 20//7, 30//8]"
   ]
  },
  {
   "cell_type": "code",
   "execution_count": 32,
   "id": "85b58b1d-082f-4e10-a995-60ec3ed2bdb0",
   "metadata": {},
   "outputs": [
    {
     "name": "stdout",
     "output_type": "stream",
     "text": [
      "16\n"
     ]
    }
   ],
   "source": [
    "# sum\n",
    "\n",
    "x = np.array([3, 2, 2, 4, -1 ,6]) \n",
    "\n",
    "print(np.sum(x)) "
   ]
  },
  {
   "cell_type": "code",
   "execution_count": 33,
   "id": "261da40b-e809-48c9-b24e-0426ee50ee54",
   "metadata": {},
   "outputs": [
    {
     "name": "stdout",
     "output_type": "stream",
     "text": [
      "24\n",
      "[100 250 450 700]\n",
      "[1.1     1.155   1.1319  1.35828]\n",
      "[ 5 15 -5  6]\n"
     ]
    }
   ],
   "source": [
    "# prod(), cumsum(), cumprod(), diff()\n",
    "\n",
    "# Application:A person 3 outfit_options:  2 shirts, 3 pants, and 4 pairs of shoes.\n",
    "# Finding all possible combinations of items from different categories.\n",
    "arr = np.array([2, 3, 4]) \n",
    "result = np.prod(arr) # Total combinations = 2 * 3 * 4 = 24\n",
    "print(result)  # Output: 24 → 2*3*4\n",
    "##################\n",
    "\n",
    "# Tracking savings growth over time.\n",
    "arr = np.array([100, 150, 200, 250]) # monthly_savings\n",
    "result = np.cumsum(arr) # Calculate cumulative monthly savings.\n",
    "print(result)  \n",
    "#######################\n",
    "\n",
    "# Calculate cumulative return on investment where gains compound.\n",
    "# this is a return: # Example: Yearly return multipliers (e.g., 10% gain → 1.10)\n",
    "arr = np.array([1.10, 1.05, 0.98, 1.20]) \n",
    "result = np.cumprod(arr) # Cumulative compounded return\n",
    "print(result)  \n",
    "####################################\n",
    "\n",
    "# Use Case: Calculate daily increase in website traffic.\n",
    "arr = np.array([10, 15, 30, 25, 31]) # i.e. visitors \n",
    "result = np.diff(arr) # daily increase\n",
    "print(result)  \n"
   ]
  },
  {
   "cell_type": "markdown",
   "id": "c12fcef1-28da-4b75-a26a-194a01edc507",
   "metadata": {},
   "source": [
    "# stop"
   ]
  },
  {
   "cell_type": "code",
   "execution_count": null,
   "id": "98496310-7f81-421a-9b07-4508d7dd909f",
   "metadata": {},
   "outputs": [],
   "source": []
  },
  {
   "cell_type": "code",
   "execution_count": null,
   "id": "da33dfbd-5ce3-4303-8df7-daf9e98624cb",
   "metadata": {},
   "outputs": [],
   "source": []
  },
  {
   "cell_type": "code",
   "execution_count": null,
   "id": "2142175a-fc47-4811-88e7-a95931f15736",
   "metadata": {},
   "outputs": [],
   "source": []
  },
  {
   "cell_type": "code",
   "execution_count": null,
   "id": "03078f61-d030-4a49-ae5b-2e6cef42c56b",
   "metadata": {},
   "outputs": [],
   "source": []
  },
  {
   "cell_type": "code",
   "execution_count": 34,
   "id": "bd641e49-b16e-4c26-a065-d8c9b7c130ee",
   "metadata": {},
   "outputs": [
    {
     "data": {
      "image/png": "[encoded data removed]",
      "text/plain": [
       "<Figure size 640x480 with 1 Axes>"
      ]
     },
     "metadata": {},
     "output_type": "display_data"
    }
   ],
   "source": [
    "# Preliminary: Lets say we have an image of size 2X2. This can be represented as numpy array.\n",
    "# !pip install matplotlib\n",
    "import matplotlib.pyplot as plt\n",
    "\n",
    "# Define the 2x2 image patch: 0 - 255.\n",
    "x = np.array( [[250, 150],\n",
    "               [200, 10]], dtype=np.uint8\n",
    ")\n",
    "\n",
    "plt.imshow(x, cmap='gray') # gray image\n",
    "# plt.imshow(x) # colored image\n",
    "plt.show()"
   ]
  },
  {
   "cell_type": "code",
   "execution_count": null,
   "id": "e0ff1714-a5aa-4d7d-8562-5c312b957b39",
   "metadata": {},
   "outputs": [],
   "source": []
  },
  {
   "cell_type": "code",
   "execution_count": 35,
   "id": "296b67c7-9555-4db6-90a3-d32a6eb557b7",
   "metadata": {},
   "outputs": [
    {
     "name": "stdout",
     "output_type": "stream",
     "text": [
      "21\n",
      "[5 7 9]\n",
      "[ 6 15]\n",
      "#######################################\n"
     ]
    }
   ],
   "source": [
    "# ADVANCED: SUM\n",
    "\n",
    "# Rows = stores, Columns = products, values = units sold\n",
    "x = np.array([\n",
    "    #prod1,prod2,prod3\n",
    "    [1, 2, 3], # store1\n",
    "    [4, 5 ,6]] # store2\n",
    ")\n",
    "\n",
    "print(np.sum(x))  # Compute sum of all elements: Total units sold across all products and stores\n",
    "\n",
    "# Compute sum of each column: Calculate total sales of each product across all stores.\n",
    "print(np.sum(x, axis=0)) \n",
    "\n",
    "# Calculate total sales per store.\n",
    "print(np.sum(x, axis=1))  # Compute sum of each row\n",
    "\n",
    "print(\"#######################################\")\n"
   ]
  },
  {
   "cell_type": "code",
   "execution_count": null,
   "id": "e2cb1fbd-5bb7-48f7-b356-34b4843f71fe",
   "metadata": {},
   "outputs": [],
   "source": []
  }
 ],
 "metadata": {
  "kernelspec": {
   "display_name": "Python 3 (ipykernel)",
   "language": "python",
   "name": "python3"
  },
  "language_info": {
   "codemirror_mode": {
    "name": "ipython",
    "version": 3
   },
   "file_extension": ".py",
   "mimetype": "text/x-python",
   "name": "python",
   "nbconvert_exporter": "python",
   "pygments_lexer": "ipython3",
   "version": "3.9.9"
  }
 },
 "nbformat": 4,
 "nbformat_minor": 5
}
