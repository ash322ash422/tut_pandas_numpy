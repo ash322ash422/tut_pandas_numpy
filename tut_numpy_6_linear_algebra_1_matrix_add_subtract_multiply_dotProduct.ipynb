{
 "cells": [
  {
   "cell_type": "markdown",
   "id": "f068114f-ffbc-4ef4-a265-167705e3342d",
   "metadata": {},
   "source": [
    "## Linear Algebra"
   ]
  },
  {
   "cell_type": "markdown",
   "id": "0a235da4-2ed5-4175-900e-4606eab29ccc",
   "metadata": {},
   "source": [
    "## Topics\n",
    "- Matrix Addition, Subtraction, Multiplication\n"
   ]
  },
  {
   "cell_type": "code",
   "execution_count": 35,
   "id": "9b6180cc-b4fe-4269-8683-ceed048e0313",
   "metadata": {},
   "outputs": [],
   "source": [
    "import numpy as np"
   ]
  },
  {
   "cell_type": "markdown",
   "id": "47a65bee-63ba-41ca-aae7-18284ebeb477",
   "metadata": {},
   "source": [
    "### Matrix addition and subtraction\n",
    "- Both matrix should have same shape\n",
    "- Perform element-wise addition / subtraction\n",
    "\n",
    "\n",
    "#### e.g. Addition\n",
    "```\n",
    "A = [[1, 2, 3],\n",
    "     [4, 5, 6]]\n",
    "A is 2×3\n",
    "\n",
    "B = [[5, 7, 9],\n",
    "     [2, 3, 8]]\n",
    "B is 2×3\n",
    "\n",
    "A + B \n",
    "= [ (1+5)   (2+7)   (3+9)\n",
    "    (4+2)   (5+3)   (6+8)\n",
    "  ]\n",
    "\n",
    "= [   6       9      12\n",
    "      6       8      14\n",
    "  ] \n",
    "\n",
    "```"
   ]
  },
  {
   "cell_type": "code",
   "execution_count": 36,
   "id": "8e6b8565-b40c-4ce8-b642-b8d5152f0f75",
   "metadata": {},
   "outputs": [
    {
     "name": "stdout",
     "output_type": "stream",
     "text": [
      "[[ 6  9 12]\n",
      " [ 6  8 14]]\n"
     ]
    }
   ],
   "source": [
    "# Addition: A is 2x3 matrix, and B is 2X3 matrix\n",
    "\n",
    "A = np.array([[1, 2, 3],\n",
    "              [4, 5, 6]]\n",
    ") \n",
    "\n",
    "B = np.array([[5, 7, 9],\n",
    "              [2, 3, 8]]\n",
    ") \n",
    "\n",
    "result = A + B\n",
    "print(result)"
   ]
  },
  {
   "cell_type": "markdown",
   "id": "a60c652d-9c61-4f84-a186-c60ad0505810",
   "metadata": {},
   "source": [
    "\n",
    "#### e.g. Subtraction\n",
    "```\n",
    "A = [[1, 2, 3],\n",
    "     [4, 5, 6]]\n",
    "A is 2×3\n",
    "\n",
    "B = [[5, 7, 9],\n",
    "     [2, 3, 8]]\n",
    "B is 2×3\n",
    "\n",
    "A - B \n",
    "= [ (1-5)   (2-7)   (3-9)\n",
    "    (4-2)   (5-3)   (6-8)\n",
    "  ]\n",
    "\n",
    "= [   -4      -5     -6\n",
    "       2       2     -2\n",
    "  ] \n",
    "\n",
    "```"
   ]
  },
  {
   "cell_type": "code",
   "execution_count": 37,
   "id": "6d62a6a6-0207-4214-952d-fc0551574cfe",
   "metadata": {},
   "outputs": [
    {
     "name": "stdout",
     "output_type": "stream",
     "text": [
      "[[-4 -5 -6]\n",
      " [ 2  2 -2]]\n"
     ]
    }
   ],
   "source": [
    "# Subtraction: A is 2x3 matrix, and B is 2X3 matrix\n",
    "\n",
    "A = np.array([[1, 2, 3],\n",
    "              [4, 5, 6]]\n",
    ") \n",
    "\n",
    "B = np.array([[5, 7, 9],\n",
    "              [2, 3, 8]]\n",
    ") \n",
    "\n",
    "result = A - B\n",
    "print(result)"
   ]
  },
  {
   "cell_type": "code",
   "execution_count": null,
   "id": "d8e1afe9-31fc-4929-970c-31818b96e692",
   "metadata": {},
   "outputs": [],
   "source": []
  },
  {
   "cell_type": "markdown",
   "id": "b6d30367-0726-4bfd-9aaa-e67de70cce42",
   "metadata": {},
   "source": [
    "### Matrix multiplication and dot product\n",
    "- Matrix multiplication requires that the **number of columns in the first matrix must match the number of rows in the second matrix**\n",
    "- If A is **n X m** matrix and B is **m X p** matrix, then matrix multiplication **A*B** gives **n X p** matrix\n",
    "\n",
    "e.g.1\n",
    "```\n",
    "A = [[1, 2, 3],\n",
    "     [4, 5, 6]]\n",
    "A is 2×3\n",
    "\n",
    "B = [[7, 8],\n",
    "     [9, 10],\n",
    "     [11, 12]]\n",
    "B is 3×2\n",
    "\n",
    "A @ B \n",
    "= [ (1×7+2×9+3×11)   (1×8+2×10+3×12)\n",
    "    (4×7+5×9+6×11)   (4×8+5×10+6×12)\n",
    "  ]\n",
    "= [ 58   64\n",
    "    139  154\n",
    "  ] \n",
    "\n",
    "```\n",
    "\n",
    "e.g.2:\n",
    "```\n",
    "A = [[1, 2],\n",
    "     [3, 4],\n",
    "     [5, 6]]\n",
    " 3x2 matrix\n",
    "\n",
    "B = [[7, 8, 9],\n",
    "     [10, 11, 12]]\n",
    " 2x3 matrix\n",
    "\n",
    "A @ B\n",
    "= [ \n",
    "    (1×7+2×10)   (1×8+2×11)   (1×9+2×12)\n",
    "    (3×7+4×10)   (3×8+4×11)   (3×9+4×12) \n",
    "    (5×7+6×10)   (5×8+6×11)   (5×9+6×12)\n",
    " ]\n",
    "\n",
    "= [[ 27  30  33]\n",
    "   [ 61  68  75]\n",
    "   [ 95 106 117]]\n",
    "```\n",
    "\n",
    "e.g.3:\n",
    "```\n",
    "A = [[1, 2],\n",
    "     [3, 4],\n",
    "     [5, 6]]\n",
    " 3x2 matrix\n",
    "\n",
    "B = [[7,  8,  9,  3, 1],\n",
    "     [10, 11, 12, 2, 1]]\n",
    "2x5 matrix\n",
    "\n",
    "A @ B is a 3X5 matrix\n",
    "A @ B =\n",
    "    [[ 27  30  33   7   3]\n",
    "     [ 61  68  75  17   7]\n",
    "     [ 95 106 117  27  11]]\n",
    "\n",
    "```"
   ]
  },
  {
   "cell_type": "code",
   "execution_count": 38,
   "id": "bad2ae8e-96c7-4b7a-8d62-a6ca57b7fed0",
   "metadata": {},
   "outputs": [
    {
     "name": "stdout",
     "output_type": "stream",
     "text": [
      "Matrix multiplication:\n",
      " [[ 58  64]\n",
      " [139 154]]\n"
     ]
    }
   ],
   "source": [
    "# Multiplication e.g.1: A is 2x3 matrix, and B is 3X2 matrix. The product would be 2X2 matrix\n",
    "\n",
    "A = np.array([[1, 2, 3],\n",
    "              [4, 5, 6]])  # 2x3 matrix\n",
    "\n",
    "B = np.array([[7, 8],\n",
    "              [9, 10],\n",
    "              [11, 12]])    # 3x2 matrix\n",
    "\n",
    "# 3 ways to perform Matrix multiplication \n",
    "result = A @ B \n",
    "# result = np.matmul(A, B) \n",
    "# result = np.dot(A, B) # not a good way\n",
    "\n",
    "print(\"Matrix multiplication:\\n\", result)"
   ]
  },
  {
   "cell_type": "code",
   "execution_count": 39,
   "id": "2f722ace-d753-42a4-8317-6a0dcec74e16",
   "metadata": {},
   "outputs": [
    {
     "name": "stdout",
     "output_type": "stream",
     "text": [
      "Matrix multiplication:\n",
      " [[ 27  30  33]\n",
      " [ 61  68  75]\n",
      " [ 95 106 117]]\n"
     ]
    }
   ],
   "source": [
    "# Multiplication e.g.2: A is 3x2 matrix, and B is 2X3 matrix. The product would be 3X3 matrix\n",
    "\n",
    "A = np.array([[1, 2],\n",
    "              [3, 4],\n",
    "              [5, 6]])  # 3x2 matrix\n",
    "\n",
    "B = np.array([[7, 8, 9],\n",
    "              [10, 11, 12]])  # 2x3 matrix\n",
    "\n",
    "# 3 ways to perform Matrix multiplication \n",
    "result = A @ B \n",
    "# result = np.matmul(A, B) \n",
    "# result = np.dot(A, B) # not a good way\n",
    "\n",
    "print(\"Matrix multiplication:\\n\", result)"
   ]
  },
  {
   "cell_type": "code",
   "execution_count": 40,
   "id": "8a198287-2ef0-4084-a853-5f8c4f9dfef2",
   "metadata": {},
   "outputs": [
    {
     "name": "stdout",
     "output_type": "stream",
     "text": [
      "Matrix multiplication:\n",
      " [[ 27  30  33   7   3]\n",
      " [ 61  68  75  17   7]\n",
      " [ 95 106 117  27  11]]\n"
     ]
    }
   ],
   "source": [
    "# Multiplication e.g.3: A is 3x2 matrix, and B is 2X5 matrix. The product would be 3X5 matrix\n",
    "\n",
    "A = np.array([[1, 2],\n",
    "              [3, 4],\n",
    "              [5, 6]])  # 3x2 matrix\n",
    "\n",
    "B = np.array([[7,  8,  9,  3, 1],\n",
    "              [10, 11, 12, 2, 1]]\n",
    "            \n",
    "            )  # 2x5 matrix\n",
    "\n",
    "# 3 ways to perform Matrix multiplication \n",
    "result = A @ B \n",
    "# result = np.matmul(A, B) \n",
    "# result = np.dot(A, B) # not a good way\n",
    "\n",
    "print(\"Matrix multiplication:\\n\", result)"
   ]
  },
  {
   "cell_type": "code",
   "execution_count": null,
   "id": "f7a810c3-5e2c-47d1-aba4-a1fc1e478b47",
   "metadata": {},
   "outputs": [],
   "source": []
  },
  {
   "cell_type": "markdown",
   "id": "ea7cb1ac-3ad0-45cc-82bd-608fe751a8bb",
   "metadata": {},
   "source": [
    "####  dot product of vectors\n",
    "- We use the **dot function  (a) to compute inner products of 2 vectors, (b) to multiply a vector by a matrix, and (c) to multiply matrices**.\n",
    "- dot is available both as a function in the numpy module and as an instance method of array objects"
   ]
  },
  {
   "cell_type": "code",
   "execution_count": 41,
   "id": "e2daf68a-83c3-464c-b9aa-0d5265c3f785",
   "metadata": {},
   "outputs": [
    {
     "name": "stdout",
     "output_type": "stream",
     "text": [
      "8.0\n",
      "8.0\n"
     ]
    }
   ],
   "source": [
    "# Here we perform dot product between two vectors\n",
    "\n",
    "v = np.array([7,    8,    9]) # Candidate's scores on 3 subjects\n",
    "w = np.array([0.1, 0.8, 0.1]) #  Weights for each subject\n",
    "\n",
    "# Inner product of vectors; both produce same result\n",
    "print(np.dot(v, w)) # Weighted score calculation using dot product\n",
    "print(v.dot(w))"
   ]
  },
  {
   "cell_type": "code",
   "execution_count": 42,
   "id": "b55ea998-0543-4beb-9fc8-5e4eea5790fe",
   "metadata": {},
   "outputs": [
    {
     "name": "stdout",
     "output_type": "stream",
     "text": [
      "[23 53 83]\n"
     ]
    }
   ],
   "source": [
    "# Dot product between matrix and vector (order matters): A*x\n",
    "# If A is (m, n) and x is (n,), then np.dot(A, x) would have shape=(m,)\n",
    "\n",
    "A = np.array([[1, 2],\n",
    "              [3, 4],\n",
    "              [5, 6]])   # 3x2 matrix\n",
    "x = np.array([7, 8])     # 2-dimensional vector\n",
    "\n",
    "result = np.dot(A, x)    # shape: (3,)\n",
    "print(result)  "
   ]
  },
  {
   "cell_type": "code",
   "execution_count": null,
   "id": "ec2929d5-0185-4e9e-82d8-c0c08f443f40",
   "metadata": {},
   "outputs": [],
   "source": []
  },
  {
   "cell_type": "code",
   "execution_count": null,
   "id": "e79b7e81-4f8f-449e-aa72-9bcc3a1533ba",
   "metadata": {},
   "outputs": [],
   "source": []
  },
  {
   "cell_type": "code",
   "execution_count": null,
   "id": "e0ff1714-a5aa-4d7d-8562-5c312b957b39",
   "metadata": {},
   "outputs": [],
   "source": []
  },
  {
   "cell_type": "code",
   "execution_count": null,
   "id": "cd43875e-9ce3-4cf0-9606-10fdd57796b6",
   "metadata": {},
   "outputs": [],
   "source": []
  }
 ],
 "metadata": {
  "kernelspec": {
   "display_name": "Python 3 (ipykernel)",
   "language": "python",
   "name": "python3"
  },
  "language_info": {
   "codemirror_mode": {
    "name": "ipython",
    "version": 3
   },
   "file_extension": ".py",
   "mimetype": "text/x-python",
   "name": "python",
   "nbconvert_exporter": "python",
   "pygments_lexer": "ipython3",
   "version": "3.9.9"
  }
 },
 "nbformat": 4,
 "nbformat_minor": 5
}
