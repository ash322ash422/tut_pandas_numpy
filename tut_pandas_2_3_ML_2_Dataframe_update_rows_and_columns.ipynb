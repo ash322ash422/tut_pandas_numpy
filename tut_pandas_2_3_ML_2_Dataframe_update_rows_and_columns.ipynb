{
 "cells": [
  {
   "cell_type": "code",
   "execution_count": 4,
   "id": "82321ca1-d41b-4f06-b17d-a058594bd760",
   "metadata": {},
   "outputs": [
    {
     "name": "stdout",
     "output_type": "stream",
     "text": [
      "Requirement already satisfied: pandas in c:\\users\\hi\\appdata\\local\\programs\\python\\python39\\lib\\site-packages (2.2.0)\n",
      "Requirement already satisfied: numpy<2,>=1.22.4 in c:\\users\\hi\\appdata\\local\\programs\\python\\python39\\lib\\site-packages (from pandas) (1.26.4)\n",
      "Requirement already satisfied: python-dateutil>=2.8.2 in c:\\users\\hi\\appdata\\local\\programs\\python\\python39\\lib\\site-packages (from pandas) (2.8.2)\n",
      "Requirement already satisfied: pytz>=2020.1 in c:\\users\\hi\\appdata\\local\\programs\\python\\python39\\lib\\site-packages (from pandas) (2020.1)\n",
      "Requirement already satisfied: tzdata>=2022.7 in c:\\users\\hi\\appdata\\local\\programs\\python\\python39\\lib\\site-packages (from pandas) (2024.1)\n",
      "Requirement already satisfied: six>=1.5 in c:\\users\\hi\\appdata\\local\\programs\\python\\python39\\lib\\site-packages (from python-dateutil>=2.8.2->pandas) (1.16.0)\n"
     ]
    },
    {
     "name": "stderr",
     "output_type": "stream",
     "text": [
      "WARNING: Ignoring invalid distribution -eras (c:\\users\\hi\\appdata\\local\\programs\\python\\python39\\lib\\site-packages)\n",
      "WARNING: Ignoring invalid distribution -eras (c:\\users\\hi\\appdata\\local\\programs\\python\\python39\\lib\\site-packages)\n",
      "WARNING: Ignoring invalid distribution -eras (c:\\users\\hi\\appdata\\local\\programs\\python\\python39\\lib\\site-packages)\n",
      "\n",
      "[notice] A new release of pip is available: 24.2 -> 25.2\n",
      "[notice] To update, run: python.exe -m pip install --upgrade pip\n"
     ]
    }
   ],
   "source": [
    "# make sure you have pandas installed\n",
    "!pip install pandas"
   ]
  },
  {
   "cell_type": "code",
   "execution_count": 5,
   "id": "eeac7e81-4866-4be2-9189-743d1683c30a",
   "metadata": {},
   "outputs": [
    {
     "name": "stderr",
     "output_type": "stream",
     "text": [
      "C:\\Users\\hi\\AppData\\Local\\Temp\\ipykernel_2692\\4268121431.py:1: DeprecationWarning: \n",
      "Pyarrow will become a required dependency of pandas in the next major release of pandas (pandas 3.0),\n",
      "(to allow more performant data types, such as the Arrow string type, and better interoperability with other libraries)\n",
      "but was not found to be installed on your system.\n",
      "If this would cause problems for you,\n",
      "please provide us feedback at https://github.com/pandas-dev/pandas/issues/54466\n",
      "        \n",
      "  import pandas as pd\n"
     ]
    }
   ],
   "source": [
    "import pandas as pd\n",
    "\n",
    "import warnings\n",
    "warnings.filterwarnings(action='ignore')\n",
    "\n",
    "# print(pd.__version__)\n",
    "data_file = 'data.csv' # NOTE: make sure you have this file"
   ]
  },
  {
   "cell_type": "code",
   "execution_count": 6,
   "id": "8203c93f-cba2-4d36-aaa2-7378346882db",
   "metadata": {},
   "outputs": [],
   "source": [
    "# use following so that all data gets displayed in one line\n",
    "pd.set_option(\"display.expand_frame_repr\", False)\n",
    "# also optional: widen display so columns don’t get truncated\n",
    "pd.set_option(\"display.max_columns\", None)\n",
    "pd.set_option(\"display.width\", 1000)\n"
   ]
  },
  {
   "cell_type": "code",
   "execution_count": null,
   "id": "c866f948-f1f9-4e59-b132-06dae3c7989e",
   "metadata": {},
   "outputs": [],
   "source": []
  },
  {
   "cell_type": "code",
   "execution_count": null,
   "id": "2da6a1e0-9718-481c-8045-6efdda5883a1",
   "metadata": {},
   "outputs": [],
   "source": []
  },
  {
   "cell_type": "markdown",
   "id": "e77cd9a0-85fb-4daf-af03-b220bea242e8",
   "metadata": {},
   "source": [
    "## Access columns"
   ]
  },
  {
   "cell_type": "code",
   "execution_count": 7,
   "id": "b911a743-3282-4f6c-90ac-814b394a50df",
   "metadata": {},
   "outputs": [
    {
     "name": "stdout",
     "output_type": "stream",
     "text": [
      "       Name  Age         City  Exp  Exp2   Salary passport  bonus  hours\n",
      "0     Alice   25      Chicago    2     2  70000.0      a43   1000    100\n",
      "1       Bob   30  Los Angeles    5     5  80000.0      a44   3000    150\n",
      "2   Charlie   35      Chicago    7     7      NaN      a45      0    200\n",
      "3     David   40      Houston   10    10  90000.0      a46   7000    100\n",
      "4       Eva   22      Houston    1     1  48000.0      a47   2555    120\n",
      "5     Frank   28          NaN    3     3  72000.0      a48      0    100\n",
      "6     Grace   32  San Antonio    6     6  85000.0      a49      0    200\n",
      "7     Helen   26    San Diego    2     2  62000.0      a50   9000    100\n",
      "8     Helen   26    San Diego    2     2  62000.0      a51      0     80\n",
      "9     Helen   26    San Diego    2     2  62000.0      a52   3000    100\n",
      "10    Jerry   23      Phoenix    6     6  78000.0      a53      0     80\n",
      "###########################\n",
      "['Name', 'Age', 'City', 'Exp', 'Exp2', 'Salary', 'passport', 'bonus', 'hours']\n"
     ]
    }
   ],
   "source": [
    "# access columns\n",
    "data_file = 'data.csv'\n",
    "df = pd.read_csv(data_file)\n",
    "print(df)\n",
    "print(\"###########################\")\n",
    "\n",
    "# I want to print column names\n",
    "names_of_col = df.columns.tolist()\n",
    "print(names_of_col)"
   ]
  },
  {
   "cell_type": "code",
   "execution_count": 8,
   "id": "3fbfb6be-57ff-4261-a5d1-a09a7043fad7",
   "metadata": {},
   "outputs": [
    {
     "name": "stdout",
     "output_type": "stream",
     "text": [
      "       Name  Age         City  Exp  Exp2   Salary passport  bonus  hours\n",
      "0     Alice   25      Chicago    2     2  70000.0      a43   1000    100\n",
      "1       Bob   30  Los Angeles    5     5  80000.0      a44   3000    150\n",
      "2   Charlie   35      Chicago    7     7      NaN      a45      0    200\n",
      "3     David   40      Houston   10    10  90000.0      a46   7000    100\n",
      "4       Eva   22      Houston    1     1  48000.0      a47   2555    120\n",
      "5     Frank   28          NaN    3     3  72000.0      a48      0    100\n",
      "6     Grace   32  San Antonio    6     6  85000.0      a49      0    200\n",
      "7     Helen   26    San Diego    2     2  62000.0      a50   9000    100\n",
      "8     Helen   26    San Diego    2     2  62000.0      a51      0     80\n",
      "9     Helen   26    San Diego    2     2  62000.0      a52   3000    100\n",
      "10    Jerry   23      Phoenix    6     6  78000.0      a53      0     80\n",
      "###########################\n",
      "0     25\n",
      "1     30\n",
      "2     35\n",
      "3     40\n",
      "4     22\n",
      "5     28\n",
      "6     32\n",
      "7     26\n",
      "8     26\n",
      "9     26\n",
      "10    23\n",
      "Name: Age, dtype: int64\n",
      "<class 'pandas.core.series.Series'>\n"
     ]
    }
   ],
   "source": [
    "# access data for 1 column: Age\n",
    "\n",
    "df = pd.read_csv(data_file)\n",
    "print(df)\n",
    "print(\"###########################\")\n",
    "\n",
    "\n",
    "age = df['Age']\n",
    "# age = df.Age # or use this\n",
    "\n",
    "print(age)\n",
    "print(type(age)) # <class 'pandas.core.series.Series'>"
   ]
  },
  {
   "cell_type": "code",
   "execution_count": 9,
   "id": "43cd3466-5338-4446-84a3-1cb3e80a1e22",
   "metadata": {},
   "outputs": [
    {
     "name": "stdout",
     "output_type": "stream",
     "text": [
      "       Name  Age         City  Exp  Exp2   Salary passport  bonus  hours\n",
      "0     Alice   25      Chicago    2     2  70000.0      a43   1000    100\n",
      "1       Bob   30  Los Angeles    5     5  80000.0      a44   3000    150\n",
      "2   Charlie   35      Chicago    7     7      NaN      a45      0    200\n",
      "3     David   40      Houston   10    10  90000.0      a46   7000    100\n",
      "4       Eva   22      Houston    1     1  48000.0      a47   2555    120\n",
      "5     Frank   28          NaN    3     3  72000.0      a48      0    100\n",
      "6     Grace   32  San Antonio    6     6  85000.0      a49      0    200\n",
      "7     Helen   26    San Diego    2     2  62000.0      a50   9000    100\n",
      "8     Helen   26    San Diego    2     2  62000.0      a51      0     80\n",
      "9     Helen   26    San Diego    2     2  62000.0      a52   3000    100\n",
      "10    Jerry   23      Phoenix    6     6  78000.0      a53      0     80\n",
      "####################\n",
      "       Name         City\n",
      "0     Alice      Chicago\n",
      "1       Bob  Los Angeles\n",
      "2   Charlie      Chicago\n",
      "3     David      Houston\n",
      "4       Eva      Houston\n",
      "5     Frank          NaN\n",
      "6     Grace  San Antonio\n",
      "7     Helen    San Diego\n",
      "8     Helen    San Diego\n",
      "9     Helen    San Diego\n",
      "10    Jerry      Phoenix\n"
     ]
    }
   ],
   "source": [
    "# I want to access dataframe for 2 columns: 'Name', 'City'\n",
    "print(df)\n",
    "print(\"####################\")\n",
    "\n",
    "df_temp = df[['Name', 'City']]\n",
    "print(df_temp)"
   ]
  },
  {
   "cell_type": "code",
   "execution_count": null,
   "id": "fc43d082-385b-46c8-a7a1-ab586b8f71cb",
   "metadata": {},
   "outputs": [],
   "source": []
  },
  {
   "cell_type": "markdown",
   "id": "6f554580-183b-4067-befd-3ffe8a198950",
   "metadata": {},
   "source": [
    "## Add rows/ columns ; remove rows / columns "
   ]
  },
  {
   "cell_type": "code",
   "execution_count": 10,
   "id": "fca6ce91-db1e-4c87-a4fb-d8a2a1300e29",
   "metadata": {},
   "outputs": [
    {
     "name": "stdout",
     "output_type": "stream",
     "text": [
      "       Name  Age         City  Exp  Exp2   Salary passport  bonus  hours\n",
      "0     Alice   25      Chicago    2     2  70000.0      a43   1000    100\n",
      "1       Bob   30  Los Angeles    5     5  80000.0      a44   3000    150\n",
      "2   Charlie   35      Chicago    7     7      NaN      a45      0    200\n",
      "3     David   40      Houston   10    10  90000.0      a46   7000    100\n",
      "4       Eva   22      Houston    1     1  48000.0      a47   2555    120\n",
      "5     Frank   28          NaN    3     3  72000.0      a48      0    100\n",
      "6     Grace   32  San Antonio    6     6  85000.0      a49      0    200\n",
      "7     Helen   26    San Diego    2     2  62000.0      a50   9000    100\n",
      "8     Helen   26    San Diego    2     2  62000.0      a51      0     80\n",
      "9     Helen   26    San Diego    2     2  62000.0      a52   3000    100\n",
      "10    Jerry   23      Phoenix    6     6  78000.0      a53      0     80\n",
      "####################\n",
      "       Name  Age         City  Exp  Exp2   Salary passport  bonus  hours\n",
      "0     Alice   25      Chicago    2     2  70000.0      a43   1000    100\n",
      "1       Bob   30  Los Angeles    5     5  80000.0      a44   3000    150\n",
      "2   Charlie   35      Chicago    7     7      NaN      a45      0    200\n",
      "3     David   40      Houston   10    10  90000.0      a46   7000    100\n",
      "4       Eva   22      Houston    1     1  48000.0      a47   2555    120\n",
      "5     Frank   28          NaN    3     3  72000.0      a48      0    100\n",
      "6     Grace   32  San Antonio    6     6  85000.0      a49      0    200\n",
      "7     Helen   26    San Diego    2     2  62000.0      a50   9000    100\n",
      "8     Helen   26    San Diego    2     2  62000.0      a51      0     80\n",
      "9     Helen   26    San Diego    2     2  62000.0      a52   3000    100\n",
      "10    Jerry   23      Phoenix    6     6  78000.0      a53      0     80\n",
      "11      Kim   29        Tokyo    4     4  67000.0      m33      0     90\n"
     ]
    }
   ],
   "source": [
    "# Now lets add a row\n",
    "df = pd.read_csv('data.csv')\n",
    "print(df)\n",
    "\n",
    "print(\"####################\")\n",
    "# add a row\n",
    "# df.loc[len(df)] = ['Kim', 29, 'Tokyo', 4, 4, 67000.0, 'm33'] # INCOREECT because the number of records do not match\n",
    "df.loc[len(df)] = ['Kim', 29, 'Tokyo', 4, 4, 67000.0, 'm33', 0, 90]\n",
    "print(df)"
   ]
  },
  {
   "cell_type": "code",
   "execution_count": 11,
   "id": "c9110558-6f0e-4ed5-ae56-5f54558944d7",
   "metadata": {},
   "outputs": [
    {
     "name": "stdout",
     "output_type": "stream",
     "text": [
      "     Name  Age         City  Exp  Exp2   Salary passport  bonus  hours\n",
      "0   Alice   25      Chicago    2     2  70000.0      a43   1000    100\n",
      "1     Bob   30  Los Angeles    5     5  80000.0      a44   3000    150\n",
      "3   David   40      Houston   10    10  90000.0      a46   7000    100\n",
      "4     Eva   22      Houston    1     1  48000.0      a47   2555    120\n",
      "5   Frank   28          NaN    3     3  72000.0      a48      0    100\n",
      "6   Grace   32  San Antonio    6     6  85000.0      a49      0    200\n",
      "7   Helen   26    San Diego    2     2  62000.0      a50   9000    100\n",
      "8   Helen   26    San Diego    2     2  62000.0      a51      0     80\n",
      "9   Helen   26    San Diego    2     2  62000.0      a52   3000    100\n",
      "10  Jerry   23      Phoenix    6     6  78000.0      a53      0     80\n"
     ]
    }
   ],
   "source": [
    "# lets drop 2 rows based on index, idx=2, 11\n",
    "df = df.drop([2, 11,])\n",
    "print(df)"
   ]
  },
  {
   "cell_type": "code",
   "execution_count": 12,
   "id": "a9e9c9bd-5104-4f2f-9a32-8fff4972e66c",
   "metadata": {},
   "outputs": [
    {
     "name": "stdout",
     "output_type": "stream",
     "text": [
      "\n",
      "After :\n",
      "      Name  Age         City  Exp  Exp2   Salary passport  bonus  hours                          company\n",
      "0   Alice   25      Chicago    2     2  70000.0      a43   1000    100  Lucent Shamlodhiya Technologies\n",
      "1     Bob   30  Los Angeles    5     5  80000.0      a44   3000    150  Lucent Shamlodhiya Technologies\n",
      "3   David   40      Houston   10    10  90000.0      a46   7000    100  Lucent Shamlodhiya Technologies\n",
      "4     Eva   22      Houston    1     1  48000.0      a47   2555    120  Lucent Shamlodhiya Technologies\n",
      "5   Frank   28          NaN    3     3  72000.0      a48      0    100  Lucent Shamlodhiya Technologies\n",
      "6   Grace   32  San Antonio    6     6  85000.0      a49      0    200  Lucent Shamlodhiya Technologies\n",
      "7   Helen   26    San Diego    2     2  62000.0      a50   9000    100  Lucent Shamlodhiya Technologies\n",
      "8   Helen   26    San Diego    2     2  62000.0      a51      0     80  Lucent Shamlodhiya Technologies\n",
      "9   Helen   26    San Diego    2     2  62000.0      a52   3000    100  Lucent Shamlodhiya Technologies\n",
      "10  Jerry   23      Phoenix    6     6  78000.0      a53      0     80  Lucent Shamlodhiya Technologies\n"
     ]
    }
   ],
   "source": [
    "# lets create a new column 'company' with same values all across rows\n",
    "\n",
    "df['company'] = \"Lucent Shamlodhiya Technologies\" \n",
    "print(\"\\nAfter :\\n\",df)"
   ]
  },
  {
   "cell_type": "code",
   "execution_count": 13,
   "id": "6461527f-dde5-4abe-a764-6169b371b3d8",
   "metadata": {},
   "outputs": [
    {
     "name": "stdout",
     "output_type": "stream",
     "text": [
      "     Name  Age         City  Exp  Exp2   Salary passport  bonus  hours                          company\n",
      "0   Alice   25      Chicago    2     2  70000.0      a43   1000    100  Lucent Shamlodhiya Technologies\n",
      "1     Bob   30  Los Angeles    5     5  80000.0      a44   3000    150  Lucent Shamlodhiya Technologies\n",
      "3   David   40      Houston   10    10  90000.0      a46   7000    100  Lucent Shamlodhiya Technologies\n",
      "4     Eva   22      Houston    1     1  48000.0      a47   2555    120  Lucent Shamlodhiya Technologies\n",
      "5   Frank   28          NaN    3     3  72000.0      a48      0    100  Lucent Shamlodhiya Technologies\n",
      "6   Grace   32  San Antonio    6     6  85000.0      a49      0    200  Lucent Shamlodhiya Technologies\n",
      "7   Helen   26    San Diego    2     2  62000.0      a50   9000    100  Lucent Shamlodhiya Technologies\n",
      "8   Helen   26    San Diego    2     2  62000.0      a51      0     80  Lucent Shamlodhiya Technologies\n",
      "9   Helen   26    San Diego    2     2  62000.0      a52   3000    100  Lucent Shamlodhiya Technologies\n",
      "10  Jerry   23      Phoenix    6     6  78000.0      a53      0     80  Lucent Shamlodhiya Technologies\n",
      "#####################\n",
      "\n",
      "After dropping a column:\n",
      "      Name  Age         City  Exp   Salary passport  bonus  hours\n",
      "0   Alice   25      Chicago    2  70000.0      a43   1000    100\n",
      "1     Bob   30  Los Angeles    5  80000.0      a44   3000    150\n",
      "3   David   40      Houston   10  90000.0      a46   7000    100\n",
      "4     Eva   22      Houston    1  48000.0      a47   2555    120\n",
      "5   Frank   28          NaN    3  72000.0      a48      0    100\n",
      "6   Grace   32  San Antonio    6  85000.0      a49      0    200\n",
      "7   Helen   26    San Diego    2  62000.0      a50   9000    100\n",
      "8   Helen   26    San Diego    2  62000.0      a51      0     80\n",
      "9   Helen   26    San Diego    2  62000.0      a52   3000    100\n",
      "10  Jerry   23      Phoenix    6  78000.0      a53      0     80\n"
     ]
    }
   ],
   "source": [
    "# Lets drop 2 columns that we do not need: 'company','Exp2'\n",
    "print(df)\n",
    "print(\"#####################\")\n",
    "\n",
    "df.drop(columns=['company','Exp2'], inplace=True)\n",
    "print(\"\\nAfter dropping a column:\\n\",df)"
   ]
  },
  {
   "cell_type": "code",
   "execution_count": 14,
   "id": "3f30e001-7fae-4b0b-8c3b-292b42fa6703",
   "metadata": {},
   "outputs": [
    {
     "name": "stdout",
     "output_type": "stream",
     "text": [
      "     Name  Age         City  Exp   Salary passport  bonus  hours\n",
      "0   Alice   25      Chicago    2  70000.0      a43   1000    100\n",
      "1     Bob   30           LA    5  80000.0      a44   3000    150\n",
      "3   David   40      Houston   10  90000.0      a46   7000    100\n",
      "4     Eva   22      Houston    1  48000.0      a47   2555    120\n",
      "5   Frank   28          NaN    3  72000.0      a48      0    100\n",
      "6   Grace   32  San Antonio    6  85000.0      a49      0    200\n",
      "7   Helen   26           SD    2  62000.0      a50   9000    100\n",
      "8   Helen   26           SD    2  62000.0      a51      0     80\n",
      "9   Helen   26           SD    2  62000.0      a52   3000    100\n",
      "10  Jerry   23      Phoenix    6  78000.0      a53      0     80\n"
     ]
    }
   ],
   "source": [
    "# lets replace values of column City\n",
    "df['City'] = df['City'].replace({\n",
    "    'Los Angeles': 'LA',\n",
    "    'San Diego': 'SD'\n",
    "})\n",
    "print(df)"
   ]
  },
  {
   "cell_type": "code",
   "execution_count": 15,
   "id": "e11030ba",
   "metadata": {},
   "outputs": [
    {
     "name": "stdout",
     "output_type": "stream",
     "text": [
      "     Name  Age         City  Exp   Salary passport  bonus  hours  total_salary\n",
      "0   Alice   25      Chicago    2  70000.0      a43   1000    100       71000.0\n",
      "1     Bob   30           LA    5  80000.0      a44   3000    150       83000.0\n",
      "3   David   40      Houston   10  90000.0      a46   7000    100       97000.0\n",
      "4     Eva   22      Houston    1  48000.0      a47   2555    120       50555.0\n",
      "5   Frank   28          NaN    3  72000.0      a48      0    100       72000.0\n",
      "6   Grace   32  San Antonio    6  85000.0      a49      0    200       85000.0\n",
      "7   Helen   26           SD    2  62000.0      a50   9000    100       71000.0\n",
      "8   Helen   26           SD    2  62000.0      a51      0     80       62000.0\n",
      "9   Helen   26           SD    2  62000.0      a52   3000    100       65000.0\n",
      "10  Jerry   23      Phoenix    6  78000.0      a53      0     80       78000.0\n"
     ]
    }
   ],
   "source": [
    "# creating a column by adding values from 2 columns: total_salary = Salary + bonus\n",
    "df['total_salary'] = df['Salary'] + df['bonus']\n",
    "print(df)"
   ]
  },
  {
   "cell_type": "code",
   "execution_count": 16,
   "id": "bf47670e-e776-4986-9719-8512440e8e89",
   "metadata": {},
   "outputs": [
    {
     "name": "stdout",
     "output_type": "stream",
     "text": [
      "     Name  Age         City  Exp   Salary passport  bonus  hours  total_salary  tax_10percent\n",
      "0   Alice   25      Chicago    2  70000.0      a43   1000    100       71000.0         7100.0\n",
      "1     Bob   30           LA    5  80000.0      a44   3000    150       83000.0         8300.0\n",
      "3   David   40      Houston   10  90000.0      a46   7000    100       97000.0         9700.0\n",
      "4     Eva   22      Houston    1  48000.0      a47   2555    120       50555.0         5055.5\n",
      "5   Frank   28          NaN    3  72000.0      a48      0    100       72000.0         7200.0\n",
      "6   Grace   32  San Antonio    6  85000.0      a49      0    200       85000.0         8500.0\n",
      "7   Helen   26           SD    2  62000.0      a50   9000    100       71000.0         7100.0\n",
      "8   Helen   26           SD    2  62000.0      a51      0     80       62000.0         6200.0\n",
      "9   Helen   26           SD    2  62000.0      a52   3000    100       65000.0         6500.0\n",
      "10  Jerry   23      Phoenix    6  78000.0      a53      0     80       78000.0         7800.0\n"
     ]
    }
   ],
   "source": [
    "# lets create a column that shows 10% tax for each person \n",
    "\n",
    "df['tax_10percent'] = df['total_salary'] * 0.1\n",
    "print(df)"
   ]
  },
  {
   "cell_type": "code",
   "execution_count": 17,
   "id": "c50b1387-98b1-4026-b382-1a33addbe867",
   "metadata": {},
   "outputs": [
    {
     "name": "stdout",
     "output_type": "stream",
     "text": [
      "     Name  Age         City  Exp   Salary passport  bonus  hours  total_salary  tax_10percent  total_salary_bonus\n",
      "0   Alice   25      Chicago    2  70000.0      a43   1000    100       71000.0         7100.0             72000.0\n",
      "1     Bob   30           LA    5  80000.0      a44   3000    150       83000.0         8300.0             84000.0\n",
      "3   David   40      Houston   10  90000.0      a46   7000    100       97000.0         9700.0             98000.0\n",
      "4     Eva   22      Houston    1  48000.0      a47   2555    120       50555.0         5055.5             51555.0\n",
      "5   Frank   28          NaN    3  72000.0      a48      0    100       72000.0         7200.0             73000.0\n",
      "6   Grace   32  San Antonio    6  85000.0      a49      0    200       85000.0         8500.0             86000.0\n",
      "7   Helen   26           SD    2  62000.0      a50   9000    100       71000.0         7100.0             72000.0\n",
      "8   Helen   26           SD    2  62000.0      a51      0     80       62000.0         6200.0             63000.0\n",
      "9   Helen   26           SD    2  62000.0      a52   3000    100       65000.0         6500.0             66000.0\n",
      "10  Jerry   23      Phoenix    6  78000.0      a53      0     80       78000.0         7800.0             79000.0\n"
     ]
    }
   ],
   "source": [
    "########################\n",
    "# lets create a column that shows total_salary + festival bonus of 1000 to each person \n",
    "df['total_salary_bonus'] = df['total_salary'] + 1000\n",
    "print(df)"
   ]
  },
  {
   "cell_type": "code",
   "execution_count": 18,
   "id": "98c0b748-5383-48b7-bae7-f42034ead14e",
   "metadata": {},
   "outputs": [
    {
     "name": "stdout",
     "output_type": "stream",
     "text": [
      "     Name  Age         City  Exp   Salary passport  bonus  hours  total_salary  tax_10percent  total_salary_bonus  sal_per_hr\n",
      "0   Alice   25      Chicago    2  70000.0      a43   1000    100       71000.0         7100.0             72000.0  710.000000\n",
      "1     Bob   30           LA    5  80000.0      a44   3000    150       83000.0         8300.0             84000.0  553.333333\n",
      "3   David   40      Houston   10  90000.0      a46   7000    100       97000.0         9700.0             98000.0  970.000000\n",
      "4     Eva   22      Houston    1  48000.0      a47   2555    120       50555.0         5055.5             51555.0  421.291667\n",
      "5   Frank   28          NaN    3  72000.0      a48      0    100       72000.0         7200.0             73000.0  720.000000\n",
      "6   Grace   32  San Antonio    6  85000.0      a49      0    200       85000.0         8500.0             86000.0  425.000000\n",
      "7   Helen   26           SD    2  62000.0      a50   9000    100       71000.0         7100.0             72000.0  710.000000\n",
      "8   Helen   26           SD    2  62000.0      a51      0     80       62000.0         6200.0             63000.0  775.000000\n",
      "9   Helen   26           SD    2  62000.0      a52   3000    100       65000.0         6500.0             66000.0  650.000000\n",
      "10  Jerry   23      Phoenix    6  78000.0      a53      0     80       78000.0         7800.0             79000.0  975.000000\n"
     ]
    }
   ],
   "source": [
    "#######################\n",
    "# lets create a column that shows salary per hours for each  person \n",
    "df['sal_per_hr'] = df['total_salary'] / df['hours']\n",
    "print(df)"
   ]
  },
  {
   "cell_type": "markdown",
   "id": "0b489aa5-f3a1-42bf-b773-85dde188e3a0",
   "metadata": {},
   "source": [
    "# STOP"
   ]
  },
  {
   "cell_type": "code",
   "execution_count": null,
   "id": "c3154864-5038-4e08-aa03-5cfeff662596",
   "metadata": {},
   "outputs": [],
   "source": []
  },
  {
   "cell_type": "code",
   "execution_count": null,
   "id": "05a6016e-a5bd-4d4c-905f-dd2d6c5e5245",
   "metadata": {},
   "outputs": [],
   "source": []
  },
  {
   "cell_type": "code",
   "execution_count": null,
   "id": "62edcbf0-56b5-42d9-95cd-a29918f08c65",
   "metadata": {},
   "outputs": [],
   "source": []
  }
 ],
 "metadata": {
  "kernelspec": {
   "display_name": "Python 3 (ipykernel)",
   "language": "python",
   "name": "python3"
  },
  "language_info": {
   "codemirror_mode": {
    "name": "ipython",
    "version": 3
   },
   "file_extension": ".py",
   "mimetype": "text/x-python",
   "name": "python",
   "nbconvert_exporter": "python",
   "pygments_lexer": "ipython3",
   "version": "3.9.9"
  }
 },
 "nbformat": 4,
 "nbformat_minor": 5
}
