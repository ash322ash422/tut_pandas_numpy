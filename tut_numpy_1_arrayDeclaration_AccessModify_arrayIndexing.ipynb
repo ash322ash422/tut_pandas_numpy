{
 "cells": [
  {
   "cell_type": "markdown",
   "id": "c6dc53ad-3ae1-4f09-8ee1-f81a2e69b60f",
   "metadata": {},
   "source": [
    "# NumPy\n",
    "Numpy is the core library for **scientific computing in Python**. It provides a **high-performance multidimensional array object, and tools for working with these arrays**."
   ]
  },
  {
   "cell_type": "markdown",
   "id": "03ca8900-c0fb-4134-b398-096a68c54825",
   "metadata": {},
   "source": [
    "### Topics covered:\n",
    "- creating/accessing/modifying arrays\n",
    "- np methods to create arrays: zeros , ones, full, eye, random, randomint, arrange\n",
    "- array indexing / slicing: integer array indexing, boolean array indexing\n",
    "- where"
   ]
  },
  {
   "cell_type": "markdown",
   "id": "34d2ec3e-7cfb-4103-98a2-9cb5c5bc2fd8",
   "metadata": {},
   "source": [
    "## Arrays\n",
    "A numpy array is a grid of values, all of the same type, and is indexed by a tuple of nonnegative integers. **The number of dimensions is the rank of the array**; the shape of an array is a tuple of integers giving the size of the array along each dimension.\n",
    "\n",
    "A rank 1 array (also known as a 1-dimensional array) is essentially a list of values.\n",
    "\n",
    "We can initialize numpy arrays from nested Python lists, and access elements using square brackets:"
   ]
  },
  {
   "cell_type": "code",
   "execution_count": 8,
   "id": "9a49dc5a-9216-4bd3-811c-0307b4adc1ac",
   "metadata": {},
   "outputs": [],
   "source": [
    "import numpy as np"
   ]
  },
  {
   "cell_type": "code",
   "execution_count": 38,
   "id": "0a01720d-ec45-46aa-8615-672ff2e51e3e",
   "metadata": {},
   "outputs": [
    {
     "name": "stdout",
     "output_type": "stream",
     "text": [
      "<class 'numpy.ndarray'> 1\n",
      "(3,)\n",
      "[1 2 3]\n",
      "<class 'numpy.ndarray'> 2\n",
      "(2, 3)\n",
      "[[1 2 3]\n",
      " [4 5 6]]\n",
      "<class 'numpy.ndarray'> 2\n",
      "(2, 3)\n",
      "[[1 2 3]\n",
      " [4 5 6]]\n",
      "<class 'numpy.ndarray'> 3\n",
      "(2, 3, 5)\n",
      "[[[ 1  2  3  4  5]\n",
      "  [ 6  7  8  9 10]\n",
      "  [11 12 13 14 15]]\n",
      "\n",
      " [[16 17 18 19 20]\n",
      "  [21 22 23 24 25]\n",
      "  [26 27 28 29 30]]]\n",
      "<class 'numpy.ndarray'> 3\n",
      "(2, 2, 2)\n",
      "[[[1 2]\n",
      "  [3 4]]\n",
      "\n",
      " [[5 6]\n",
      "  [7 8]]]\n"
     ]
    }
   ],
   "source": [
    "a = np.array([1, 2, 3])   # Create a rank 1(i.e. 1D) array\n",
    "print(type(a), a.ndim)    # <class 'numpy.ndarray'> 1\n",
    "print(a.shape)            # (3,)\n",
    "print(a)                 \n",
    "\n",
    "b = np.array([[1,2,3],\n",
    "              [4,5,6]]\n",
    ")    # Create a rank 2 array\n",
    "print(type(b), b.ndim)    # <class 'numpy.ndarray'> 2     \n",
    "print(b.shape)            # (2, 3)\n",
    "print(b)             \n",
    "\n",
    "b = np.array([[1,2,3],\n",
    "              [4,5,6]]\n",
    ")    # Create a rank 2 array\n",
    "print(type(b), b.ndim)    # <class 'numpy.ndarray'> 2     \n",
    "print(b.shape)            # (2, 3)\n",
    "print(b)             \n",
    "\n",
    "# Creating a 3D array with shape (2, 3, 5)\n",
    "b = np.array([\n",
    "    [  # First block (depth index 0)\n",
    "        [1, 2, 3, 4, 5],      # row1\n",
    "        [6, 7, 8, 9, 10],     # row2\n",
    "        [11, 12, 13, 14, 15]  # row3\n",
    "    ],\n",
    "    [  # Second block (depth index 1)\n",
    "        [16, 17, 18, 19, 20], # row1\n",
    "        [21, 22, 23, 24, 25], # row2\n",
    "        [26, 27, 28, 29, 30]  # row3\n",
    "    ]\n",
    "])\n",
    "print(type(b), b.ndim)    # <class 'numpy.ndarray'> 3 \n",
    "print(b.shape)            # (2, 3, 5)\n",
    "print(b)             \n",
    "\n",
    "b = np.array([\n",
    "    [ # First block (depth index 0) \n",
    "        [1, 2],\n",
    "        [3, 4]\n",
    "    ],\n",
    "    [ # Second block (depth index 1)\n",
    "        [5, 6],\n",
    "        [7, 8]\n",
    "    ]\n",
    "])\n",
    "print(type(b), b.ndim)    # <class 'numpy.ndarray'> 3  \n",
    "print(b.shape)            # (2, 2, 2)\n",
    "print(b)             \n"
   ]
  },
  {
   "cell_type": "code",
   "execution_count": 49,
   "id": "442880ce-66ca-4f4e-a447-a4ac894baeb6",
   "metadata": {},
   "outputs": [
    {
     "name": "stdout",
     "output_type": "stream",
     "text": [
      "3\n",
      "1 2 3\n",
      "<class 'numpy.ndarray'> 2\n",
      "(2, 3)\n",
      "1\n",
      "1\n",
      "1 2 4\n",
      "1 2 4\n",
      "[[1 2 9]\n",
      " [4 5 6]]\n",
      "<class 'numpy.ndarray'> 3\n",
      "(2, 3, 5)\n",
      "11\n",
      "11\n",
      "11 12 13\n",
      "11 12 13\n"
     ]
    }
   ],
   "source": [
    "# access elements and modify single element\n",
    "\n",
    "#access 1D array and modify elements\n",
    "a = np.array([1, 2, 3])   # Create a rank 1(i.e. 1D) array\n",
    "print(a[2])\n",
    "print(a[0], a[1], a[2])   # Prints \"1 2 3\"\n",
    "a[0] = 5                  # Change an element of the array\n",
    "\n",
    "#access 2D array and modify elements\n",
    "# Use: b[row_index][column_index]\n",
    "# or   b[row_index, column_index]\n",
    "b = np.array([[1,2,3],\n",
    "              [4,5,6]]\n",
    ")    # Create a rank 2 array\n",
    "print(type(b), b.ndim)            \n",
    "print(b.shape)\n",
    "\n",
    "print(b[0][0])\n",
    "print(b[0, 0])\n",
    "\n",
    "print(b[0][0], b[0][1], b[1][0])   # Prints \"1 2 4\"\n",
    "print(b[0, 0], b[0, 1], b[1, 0])   # Prints \"1 2 4\"\n",
    "\n",
    "b[0,2] = 9 # change an element\n",
    "print(b)\n",
    "\n",
    "#access 3D array and modify elements\n",
    "# Use: b[block_index][row_index][column_index]\n",
    "# or   b[block_index, row_index, column_index]\n",
    "b = np.array([\n",
    "    [  # First block (depth index 0)\n",
    "        [1, 2, 3, 4, 5],      # row1\n",
    "        [6, 7, 8, 9, 10],     # row2\n",
    "        [11, 12, 13, 14, 15]  # row3\n",
    "    ],\n",
    "    [  # Second block (depth index 1)\n",
    "        [16, 17, 18, 19, 20], # row1\n",
    "        [21, 22, 23, 24, 25], # row2\n",
    "        [26, 27, 28, 29, 30]  # row3\n",
    "    ]\n",
    "])\n",
    "print(type(b), b.ndim)    # <class 'numpy.ndarray'> 3 \n",
    "print(b.shape)            # (2, 3, 5)\n",
    "print(b[0][2][0])\n",
    "print(b[0, 2, 0])\n",
    "      \n",
    "print(b[0][2][0], b[0][2][1], b[0] [2] [2])   # print '11 12 13'\n",
    "print(b[0, 2, 0], b[0, 2, 1], b[0, 2, 2])   # print '11 12 13'"
   ]
  },
  {
   "cell_type": "markdown",
   "id": "50920f98-deb8-4708-add2-b053a12b2272",
   "metadata": {},
   "source": [
    "**Numpy also provides many functions to create arrays**"
   ]
  },
  {
   "cell_type": "code",
   "execution_count": 35,
   "id": "54422b87-b2b8-4e0f-95ee-272b9e04de8b",
   "metadata": {},
   "outputs": [
    {
     "name": "stdout",
     "output_type": "stream",
     "text": [
      "[[0. 0.]\n",
      " [0. 0.]]\n",
      "<class 'numpy.ndarray'> 2\n",
      "(2, 2)\n",
      "[[0. 0. 0.]\n",
      " [0. 0. 0.]\n",
      " [0. 0. 0.]]\n",
      "<class 'numpy.ndarray'> 2\n",
      "(3, 3)\n",
      "[[0. 0. 0. 0. 0.]\n",
      " [0. 0. 0. 0. 0.]\n",
      " [0. 0. 0. 0. 0.]]\n",
      "<class 'numpy.ndarray'> 2\n",
      "(3, 5)\n"
     ]
    }
   ],
   "source": [
    "a = np.zeros((2,2))   # Create an array of all zeros\n",
    "print(a)              # Prints \"[[ 0.  0.]\n",
    "                      #          [ 0.  0.]]\"\n",
    "print(type(a), a.ndim)            \n",
    "print(a.shape)            \n",
    "\n",
    "a = np.zeros((3,3))\n",
    "print(a)\n",
    "print(type(a), a.ndim)            \n",
    "print(a.shape)            \n",
    "\n",
    "a = np.zeros((3,5))\n",
    "print(a)\n",
    "print(type(a), a.ndim)            \n",
    "print(a.shape)            \n"
   ]
  },
  {
   "cell_type": "code",
   "execution_count": 23,
   "id": "5b412503",
   "metadata": {},
   "outputs": [
    {
     "name": "stdout",
     "output_type": "stream",
     "text": [
      "[[1. 1.]]\n",
      "[[1. 1. 1. 1. 1.]\n",
      " [1. 1. 1. 1. 1.]\n",
      " [1. 1. 1. 1. 1.]]\n",
      "[[7 7]\n",
      " [7 7]]\n",
      "[[7 7]\n",
      " [7 7]\n",
      " [7 7]\n",
      " [7 7]]\n"
     ]
    }
   ],
   "source": [
    "b = np.ones((1,2))    # Create an array of all ones\n",
    "print(b)              # Prints \"[[ 1.  1.]]\"\n",
    "\n",
    "b = np.ones((3,5))    \n",
    "print(b)              \n",
    "\n",
    "\n",
    "c = np.full((2,2), 7)  # Create a constant array\n",
    "print(c)               # Prints \"[[ 7.  7.]\n",
    "                       #          [ 7.  7.]]\"\n",
    "c = np.full((4,2), 7)  \n",
    "print(c)               "
   ]
  },
  {
   "cell_type": "code",
   "execution_count": 13,
   "id": "4ce4633c-f23a-4c88-93d3-1351bb133045",
   "metadata": {},
   "outputs": [
    {
     "name": "stdout",
     "output_type": "stream",
     "text": [
      "[[1. 0.]\n",
      " [0. 1.]]\n",
      "[[1. 0. 0.]\n",
      " [0. 1. 0.]\n",
      " [0. 0. 1.]]\n",
      "[[1. 0. 0. 0. 0.]\n",
      " [0. 1. 0. 0. 0.]\n",
      " [0. 0. 1. 0. 0.]]\n"
     ]
    }
   ],
   "source": [
    "d = np.eye(2)         # Create a 2x2 identity matrix\n",
    "print(d)              # Prints \"[[ 1.  0.]\n",
    "                      #          [ 0.  1.]]\"\n",
    "\n",
    "d = np.eye(3)\n",
    "print(d)\n",
    "\n",
    "d = np.eye(3, 5)\n",
    "print(d)"
   ]
  },
  {
   "cell_type": "code",
   "execution_count": 30,
   "id": "fdf4a151-f151-4595-a93b-bf860f12d7bb",
   "metadata": {},
   "outputs": [
    {
     "name": "stdout",
     "output_type": "stream",
     "text": [
      "[0.20874337 0.98004769 0.03541812]\n",
      "<class 'numpy.ndarray'> (3,)\n",
      "[[0.23603403 0.54330279]\n",
      " [0.33086741 0.64907614]]\n",
      "<class 'numpy.ndarray'> (2, 2)\n",
      "[[0.01942208 0.02698535 0.48576604 0.96729157]\n",
      " [0.67975986 0.64712068 0.35568155 0.09370702]]\n",
      "<class 'numpy.ndarray'> (2, 4)\n",
      "Random Matrix:\n",
      " [[  6  -3  -4]\n",
      " [  8  -4  -5]\n",
      " [  4   1 -10]]\n"
     ]
    }
   ],
   "source": [
    "e = np.random.random((3))  # Create an 1Darray of size 3 filled with random values\n",
    "print(e)\n",
    "print(type(e), e.shape)\n",
    "\n",
    "e = np.random.random((2,2))  # Create an array filled with random values\n",
    "print(e)                     # Might print \"[[ 0.91940167  0.08143941]\n",
    "                             #               [ 0.68744134  0.87236687]]\"\n",
    "print(type(e), e.shape)\n",
    "\n",
    "e = np.random.random((2,4))  # Create an array filled with random values\n",
    "print(e)                     \n",
    "print(type(e), e.shape)\n",
    "                             \n",
    "\n",
    "# Generate a 3x3 matrix with random integers between -10 (inclusive) and 15 (exclusive)\n",
    "random_data = np.random.randint(-10, 15, size=(3, 3))\n",
    "print(\"Random Matrix:\\n\", random_data)"
   ]
  },
  {
   "cell_type": "code",
   "execution_count": 15,
   "id": "75b6b2f9-a161-49ad-84ec-ca7f423bd2f9",
   "metadata": {},
   "outputs": [
    {
     "name": "stdout",
     "output_type": "stream",
     "text": [
      "Example 1 - Array from 0 to 4:\n",
      "[0 1 2 3 4]\n",
      "\n",
      "Example 2 - Array from 2 to 9:\n",
      "[2 3 4 5 6 7 8 9]\n",
      "\n",
      "Example 3 - Array from 1 to 9 with step of 2:\n",
      "[1 3 5 7 9]\n",
      "\n",
      "Example 4 - Array from 10 to 2 with step of -2:\n",
      "[10  8  6  4  2]\n",
      "\n",
      "Example 5 - Array of floats from 0 to 0.9:\n",
      "[0.  0.1 0.2 0.3 0.4 0.5 0.6 0.7 0.8 0.9]\n"
     ]
    }
   ],
   "source": [
    "# arange\n",
    "\n",
    "# Example 1: Basic usage with start and stop\n",
    "array1 = np.arange(5)  # Creates an array from 0 to 4\n",
    "print(\"Example 1 - Array from 0 to 4:\")\n",
    "print(array1)\n",
    "\n",
    "# Example 2: Specifying start and stop\n",
    "array2 = np.arange(2, 10)  # Creates an array from 2 to 9\n",
    "print(\"\\nExample 2 - Array from 2 to 9:\")\n",
    "print(array2)\n",
    "\n",
    "# Example 3: Specifying start, stop, and step\n",
    "array3 = np.arange(1, 10, 2)  # Creates an array from 1 to 9 with a step of 2\n",
    "print(\"\\nExample 3 - Array from 1 to 9 with step of 2:\")\n",
    "print(array3)\n",
    "\n",
    "# Example 4: Using a negative step\n",
    "array4 = np.arange(10, 0, -2)  # Creates an array from 10 to 2 with a step of -2\n",
    "print(\"\\nExample 4 - Array from 10 to 2 with step of -2:\")\n",
    "print(array4)\n",
    "\n",
    "# Example 5: Specifying dtype\n",
    "array5 = np.arange(0, 1, 0.1, dtype=float)  # Creates an array of floats from 0 to 0.9\n",
    "print(\"\\nExample 5 - Array of floats from 0 to 0.9:\")\n",
    "print(array5)"
   ]
  },
  {
   "cell_type": "markdown",
   "id": "0fc3e079-2a60-418c-a5ed-00812b4119cd",
   "metadata": {},
   "source": [
    "## Array indexing\n",
    "Numpy offers several ways to index into arrays.\n",
    "\n",
    "**Slicing**: Similar to Python lists, numpy arrays can be sliced. Since arrays may be multidimensional, you must **specify a slice for each dimension of the array**:"
   ]
  },
  {
   "cell_type": "code",
   "execution_count": 50,
   "id": "64c78a98-d693-439a-876b-3727514baa75",
   "metadata": {},
   "outputs": [
    {
     "name": "stdout",
     "output_type": "stream",
     "text": [
      "2\n",
      "77\n",
      "[[ 1 77  3  4]\n",
      " [ 5  6  7  8]\n",
      " [ 9 10 11 12]]\n"
     ]
    }
   ],
   "source": [
    "# Create the following rank 2 array with shape (3, 4)\n",
    "a = np.array([[1, 2, 3, 4], \n",
    "              [5, 6, 7, 8],\n",
    "              [9, 10,11,12]\n",
    "             ])\n",
    "\n",
    "# Use slicing to pull out the subarray consisting of the first 2 rows(i.e. rows 0 and 1)\n",
    "# and columns 1 and 2; b is the following array of shape (2, 2):\n",
    "# [[2 3]\n",
    "#  [6 7]]\n",
    "b = a[:2, 1:3]\n",
    "\n",
    "# A slice of an array is a view into the same data, so modifying it\n",
    "# will modify the original array.\n",
    "print(a[0, 1])   # Prints \"2\"\n",
    "b[0, 0] = 77     # b[0, 0] is the same piece of data as a[0, 1]\n",
    "print(a[0, 1])   # Prints \"77\"\n",
    "print(a)"
   ]
  },
  {
   "cell_type": "markdown",
   "id": "54d49955-b8d0-4d25-86ef-b85aa9ed4ee4",
   "metadata": {},
   "source": [
    "You can also mix integer indexing with slice indexing. However, doing so will yield an array of lower rank than the original array."
   ]
  },
  {
   "cell_type": "code",
   "execution_count": 54,
   "id": "21070e68-777e-49a7-b4b8-c4b22d6b346a",
   "metadata": {},
   "outputs": [
    {
     "name": "stdout",
     "output_type": "stream",
     "text": [
      "[5 6 7 8] (4,)\n",
      "[[5 6 7 8]] (1, 4)\n",
      "[ 2  6 10] (3,)\n",
      "[[ 2]\n",
      " [ 6]\n",
      " [10]] (3, 1)\n"
     ]
    }
   ],
   "source": [
    "# Create the following rank 2 array with shape (3, 4)\n",
    "a = np.array([[1,2,3,4],\n",
    "              [5,6,7,8],\n",
    "              [9,10,11,12]]\n",
    ")\n",
    "\n",
    "# Two ways of accessing the data in the middle row of the array.\n",
    "# Mixing integer indexing with slices yields an array of lower rank,\n",
    "# while using only slices yields an array of the same rank as the original array:\n",
    "row_r1 = a[1, :]    # Rank 1 view of the second row of a\n",
    "row_r2 = a[1:2, :]  # Rank 2 view of the second row of a\n",
    "print(row_r1, row_r1.shape)  # Prints \"[5 6 7 8] (4,)\"\n",
    "print(row_r2, row_r2.shape)  # Prints \"[[5 6 7 8]] (1, 4)\"\n",
    "\n",
    "# We can make the same distinction when accessing columns of an array:\n",
    "col_r1 = a[:, 1]\n",
    "col_r2 = a[:, 1:2]\n",
    "print(col_r1, col_r1.shape)  # Prints \"[ 2  6 10] (3,)\"\n",
    "print(col_r2, col_r2.shape)  # Prints \"[[ 2]\n",
    "                             #          [ 6]\n",
    "                             #          [10]] (3, 1)\""
   ]
  },
  {
   "cell_type": "markdown",
   "id": "0b4b1dec-9904-48de-bf25-e8d69a2ff5a0",
   "metadata": {},
   "source": [
    "Integer array indexing: \n",
    "- When you index into numpy arrays using slicing, the resulting array view will always be a subarray of the original array.\n",
    "- In contrast, integer array indexing allows you to construct arbitrary arrays using the data from another array.\n",
    "Here is an example:"
   ]
  },
  {
   "cell_type": "code",
   "execution_count": 18,
   "id": "69faf39f-0158-4418-960d-39b386e58bb8",
   "metadata": {},
   "outputs": [
    {
     "name": "stdout",
     "output_type": "stream",
     "text": [
      "[1 4 5]\n",
      "[2 2]\n"
     ]
    }
   ],
   "source": [
    "a = np.array([[1, 2],\n",
    "              [3, 4],\n",
    "              [5, 6]]\n",
    ")\n",
    "\n",
    "# An example of integer array indexing.\n",
    "# The returned array will have shape (3,) and\n",
    "\n",
    "# The above example of integer array indexing is equivalent to this:\n",
    "print(np.array([a[0, 0], a[1, 1], a[2, 0]]))  # Prints \"[1 4 5]\"\n",
    "# print(a[[0, 1, 2], [0, 1, 0]])  # Prints \"[1 4 5]\"\n"
   ]
  },
  {
   "cell_type": "markdown",
   "id": "fb142e7e-94c9-4005-aaad-6c1f1e6d7a0b",
   "metadata": {},
   "source": [
    "One useful trick with integer array indexing is selecting or mutating one element from each row of a matrix:"
   ]
  },
  {
   "cell_type": "code",
   "execution_count": 57,
   "id": "3a054a05-102f-44ad-9342-8a88898f9d2d",
   "metadata": {},
   "outputs": [
    {
     "name": "stdout",
     "output_type": "stream",
     "text": [
      "[[ 1  2  3]\n",
      " [ 4  5  6]\n",
      " [ 7  8  9]\n",
      " [10 11 12]]\n",
      "[ 1  6  7 11]\n",
      "[[11  2  3]\n",
      " [ 4  5 16]\n",
      " [17  8  9]\n",
      " [10 21 12]]\n"
     ]
    }
   ],
   "source": [
    "# Create a new array from which we will select elements\n",
    "a = np.array([[1,2,3],\n",
    "              [4,5,6],\n",
    "              [7,8,9],\n",
    "              [10, 11, 12]]\n",
    ")\n",
    "\n",
    "print(a)  \n",
    "\n",
    "# Create an array of col_indices\n",
    "col_indices = np.array([0, 2, 0, 1])\n",
    "\n",
    "# Select one element from each row of a using the indices in col_indices\n",
    "print(a[np.arange(4), col_indices])  # Prints \"[ 1  6  7 11]\"\n",
    "\n",
    "# Mutate one element from each row of a using the indices in col_indices\n",
    "a[np.arange(4), col_indices] += 10\n",
    "\n",
    "print(a)  # prints \"array([[11,  2,  3],\n",
    "          #                [ 4,  5, 16],\n",
    "          #                [17,  8,  9],\n",
    "          #                [10, 21, 12]])"
   ]
  },
  {
   "cell_type": "markdown",
   "id": "0b92277a-1113-48c3-af3b-0a68d66608e7",
   "metadata": {},
   "source": [
    "**Boolean array indexing**: Boolean array indexing lets you pick out arbitrary elements of an array. Frequently this type of indexing is used to select the elements of an array that satisfy some condition. \n",
    "\n",
    "Here is an example:"
   ]
  },
  {
   "cell_type": "code",
   "execution_count": 20,
   "id": "af488fc6-1469-4524-8c1b-7f05ed3c5a67",
   "metadata": {},
   "outputs": [
    {
     "name": "stdout",
     "output_type": "stream",
     "text": [
      "[[False False]\n",
      " [ True  True]\n",
      " [ True  True]]\n",
      "[3 4 5 6]\n",
      "[3 4 5 6]\n"
     ]
    }
   ],
   "source": [
    "a = np.array([[1,2],\n",
    "              [3, 4],\n",
    "              [5, 6]]\n",
    ")\n",
    "\n",
    "bool_idx = (a > 2)   # Find the elements of a that are bigger than 2;\n",
    "                     # this returns a numpy array of Booleans of the same\n",
    "                     # shape as a, where each slot of bool_idx tells\n",
    "                     # whether that element of a is > 2.\n",
    "\n",
    "print(bool_idx)      # Prints \"[[False False]\n",
    "                     #          [ True  True]\n",
    "                     #          [ True  True]]\"\n",
    "\n",
    "# We use boolean array indexing to construct a rank 1 array\n",
    "# consisting of the elements of a corresponding to the True values\n",
    "# of bool_idx\n",
    "print(a[bool_idx])  # Prints \"[3 4 5 6]\"\n",
    "\n",
    "# We can do all of the above in a single concise statement:\n",
    "print(a[a > 2])     # Prints \"[3 4 5 6]\""
   ]
  }
 ],
 "metadata": {
  "kernelspec": {
   "display_name": "Python 3 (ipykernel)",
   "language": "python",
   "name": "python3"
  },
  "language_info": {
   "codemirror_mode": {
    "name": "ipython",
    "version": 3
   },
   "file_extension": ".py",
   "mimetype": "text/x-python",
   "name": "python",
   "nbconvert_exporter": "python",
   "pygments_lexer": "ipython3",
   "version": "3.9.9"
  }
 },
 "nbformat": 4,
 "nbformat_minor": 5
}
