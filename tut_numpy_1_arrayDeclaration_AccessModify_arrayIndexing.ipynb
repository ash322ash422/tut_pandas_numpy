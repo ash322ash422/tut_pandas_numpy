{
 "cells": [
  {
   "cell_type": "markdown",
   "id": "c6dc53ad-3ae1-4f09-8ee1-f81a2e69b60f",
   "metadata": {
    "id": "c6dc53ad-3ae1-4f09-8ee1-f81a2e69b60f"
   },
   "source": [
    "# NumPy\n",
    "- Good tutorial on numpy: https://www.machinelearningplus.com/python/numpy-tutorial-part1-array-python-examples/ and https://www.machinelearningplus.com/python/numpy-tutorial-python-part2/\n",
    "- Numpy is the core library for **scientific computing in Python and used for numerical computations**.\n",
    "- Performing numerical operations on numPy arrays are significantly faster than Python lists\n",
    "- NumPy's core feature is the **ndarray, a powerful N-dimensional array object that allows for efficient manipulation of large datasets**. These are **multidimensional array object**"
   ]
  },
  {
   "cell_type": "markdown",
   "id": "03ca8900-c0fb-4134-b398-096a68c54825",
   "metadata": {
    "id": "03ca8900-c0fb-4134-b398-096a68c54825"
   },
   "source": [
    "### Topics covered:\n",
    "- creating/accessing/modifying arrays\n",
    "- np methods to create arrays: zeros , ones, full, eye, random, randomint, arrange\n",
    "- array indexing / slicing: integer array indexing, boolean array indexing"
   ]
  },
  {
   "cell_type": "markdown",
   "id": "34d2ec3e-7cfb-4103-98a2-9cb5c5bc2fd8",
   "metadata": {
    "id": "34d2ec3e-7cfb-4103-98a2-9cb5c5bc2fd8"
   },
   "source": [
    "## Arrays\n",
    "- A numpy array is a grid of values, all of the same type, and is indexed by a tuple of nonnegative integers. \n",
    "- **The number of dimensions is the rank of the array**; the shape of an array is a tuple of integers giving the size of the array along each dimension.\n",
    "- A rank 1 array (also known as a 1-dimensional array) is essentially a list of values.\n",
    "\n",
    "\n",
    "**We can initialize numpy arrays from nested Python lists, and access elements using square brackets:**"
   ]
  },
  {
   "cell_type": "code",
   "execution_count": 2,
   "id": "9a49dc5a-9216-4bd3-811c-0307b4adc1ac",
   "metadata": {
    "id": "9a49dc5a-9216-4bd3-811c-0307b4adc1ac"
   },
   "outputs": [],
   "source": [
    "import numpy as np"
   ]
  },
  {
   "cell_type": "code",
   "execution_count": 3,
   "id": "0a01720d-ec45-46aa-8615-672ff2e51e3e",
   "metadata": {
    "colab": {
     "base_uri": "https://localhost:8080/"
    },
    "id": "0a01720d-ec45-46aa-8615-672ff2e51e3e",
    "outputId": "f07fdb74-ece3-4506-c4ff-3303ae7eff27"
   },
   "outputs": [
    {
     "name": "stdout",
     "output_type": "stream",
     "text": [
      "[5 3 7]\n",
      "<class 'numpy.ndarray'> 1\n",
      "(3,)\n",
      "[[1 2 3]\n",
      " [4 5 6]]\n",
      "<class 'numpy.ndarray'> 2\n",
      "(2, 3)\n",
      "[[[ 1  2  3  4  5]\n",
      "  [ 6  7  8  9 10]\n",
      "  [11 12 13 14 15]]\n",
      "\n",
      " [[16 17 18 19 20]\n",
      "  [21 22 23 24 25]\n",
      "  [26 27 28 29 30]]]\n",
      "<class 'numpy.ndarray'> 3\n",
      "(2, 3, 5)\n",
      "[[[1 2]\n",
      "  [3 4]]\n",
      "\n",
      " [[5 6]\n",
      "  [7 8]]]\n",
      "<class 'numpy.ndarray'> 3\n",
      "(2, 2, 2)\n"
     ]
    }
   ],
   "source": [
    "# create an array of shape (3)\n",
    "a = np.array([5, 3, 7])   # Create a rank 1(i.e. 1D) array\n",
    "# a = np.array([5, 3, 7], dtype=np.int16)   # MORE ON dtype later\n",
    "print(a)\n",
    "\n",
    "print(type(a), a.ndim)    # <class 'numpy.ndarray'> 1\n",
    "print(a.shape)            # (3,)\n",
    "############################\n",
    "# Each row represents a student, each column represents a subject (Math, Science, English)\n",
    "scores = np.array([[85, 90, 78],   # Student 1\n",
    "                   [88, 76, 92]])  # Student 2\n",
    "\n",
    "print(scores)\n",
    "\n",
    "print(type(scores), scores.ndim)    # <class 'numpy.ndarray'> 2\n",
    "print(scores.shape)            # (2, 3)\n",
    "\n",
    "########OPTIONAL##########################################\n",
    "# Creating a 3D array with shape (2, 3, 5)\n",
    "b = np.array([\n",
    "    [  # First block (depth index 0)\n",
    "        [1, 2, 3, 4, 5],      # row1\n",
    "        [6, 7, 8, 9, 10],     # row2\n",
    "        [11, 12, 13, 14, 15]  # row3\n",
    "    ],\n",
    "    [  # Second block (depth index 1)\n",
    "        [16, 17, 18, 19, 20], # row1\n",
    "        [21, 22, 23, 24, 25], # row2\n",
    "        [26, 27, 28, 29, 30]  # row3\n",
    "    ]\n",
    "])\n",
    "print(b)\n",
    "print(type(b), b.ndim)    # <class 'numpy.ndarray'> 3\n",
    "print(b.shape)            # (2, 3, 5)\n",
    "\n",
    "# create an array of shape (2,2,2)\n",
    "b = np.array([\n",
    "    [ # First block (depth index 0)\n",
    "        [1, 2],\n",
    "        [3, 4]\n",
    "    ],\n",
    "    [ # Second block (depth index 1)\n",
    "        [5, 6],\n",
    "        [7, 8]\n",
    "    ]\n",
    "])\n",
    "print(b)\n",
    "print(type(b), b.ndim)    # <class 'numpy.ndarray'> 3\n",
    "print(b.shape)            # (2, 2, 2)\n",
    "##################################################"
   ]
  },
  {
   "cell_type": "code",
   "execution_count": 4,
   "id": "442880ce-66ca-4f4e-a447-a4ac894baeb6",
   "metadata": {
    "id": "442880ce-66ca-4f4e-a447-a4ac894baeb6",
    "outputId": "270b3759-5c97-4ec4-fb4b-500c85a85636"
   },
   "outputs": [
    {
     "name": "stdout",
     "output_type": "stream",
     "text": [
      "2\n",
      "50 3 2\n",
      "1\n",
      "1\n",
      "1 2 4\n",
      "1 2 4\n",
      "[[1 2 9]\n",
      " [4 5 6]]\n",
      "<class 'numpy.ndarray'> 3\n",
      "(2, 3, 5)\n",
      "11\n",
      "11\n",
      "11 12 13\n",
      "11 12 13\n"
     ]
    }
   ],
   "source": [
    "# access elements and modify single element\n",
    "\n",
    "# access 1D array and modify elements\n",
    "a = np.array([50, 3, 2])   # Create a rank 1(i.e. 1D) array\n",
    "print(a[2])\n",
    "print(a[0], a[1], a[2])   \n",
    "a[0] = 5                  # Change an element of the array\n",
    "\n",
    "# access 2D array and modify elements\n",
    "# Use: b[row_index][column_index]\n",
    "# or   b[row_index, column_index]\n",
    "b = np.array([[1,2,3],\n",
    "              [4,5,6]]\n",
    ")    # Create a rank 2 array\n",
    "print(b[0][0])\n",
    "print(b[0, 0])\n",
    "# print(type(b), b.ndim)\n",
    "# print(b.shape)\n",
    "\n",
    "\n",
    "print(b[0][0], b[0][1], b[1][0])   # Prints \"1 2 4\"\n",
    "print(b[0, 0], b[0, 1], b[1, 0])   # Prints \"1 2 4\"\n",
    "\n",
    "b[0,2] = 9 # change an element\n",
    "print(b)\n",
    "\n",
    "#access 3D array and modify elements\n",
    "# Use: b[block_index][row_index][column_index]\n",
    "# or   b[block_index, row_index, column_index]\n",
    "b = np.array([\n",
    "    [  # First block (depth index 0)\n",
    "        [1, 2, 3, 4, 5],      # row1\n",
    "        [6, 7, 8, 9, 10],     # row2\n",
    "        [11, 12, 13, 14, 15]  # row3\n",
    "    ],\n",
    "    [  # Second block (depth index 1)\n",
    "        [16, 17, 18, 19, 20], # row1\n",
    "        [21, 22, 23, 24, 25], # row2\n",
    "        [26, 27, 28, 29, 30]  # row3\n",
    "    ]\n",
    "])\n",
    "print(type(b), b.ndim)    # <class 'numpy.ndarray'> 3\n",
    "print(b.shape)            # (2, 3, 5)\n",
    "print(b[0][2][0])\n",
    "print(b[0, 2, 0])\n",
    "\n",
    "print(b[0][2][0], b[0][2][1], b[0] [2] [2])   # print '11 12 13'\n",
    "print(b[0, 2, 0], b[0, 2, 1], b[0, 2, 2])   # print '11 12 13'"
   ]
  },
  {
   "cell_type": "markdown",
   "id": "50920f98-deb8-4708-add2-b053a12b2272",
   "metadata": {
    "id": "50920f98-deb8-4708-add2-b053a12b2272"
   },
   "source": [
    "**Numpy also provides many special methods to create arrays**"
   ]
  },
  {
   "cell_type": "code",
   "execution_count": 5,
   "id": "54422b87-b2b8-4e0f-95ee-272b9e04de8b",
   "metadata": {
    "id": "54422b87-b2b8-4e0f-95ee-272b9e04de8b",
    "outputId": "e663ad7f-377a-4d05-fa37-1ba3770a233a"
   },
   "outputs": [
    {
     "name": "stdout",
     "output_type": "stream",
     "text": [
      "[0. 0. 0. 0. 0. 0. 0. 0. 0. 0.]\n",
      "[[0. 0.]\n",
      " [0. 0.]]\n",
      "[[0. 0. 0.]\n",
      " [0. 0. 0.]\n",
      " [0. 0. 0.]]\n",
      "[[0. 0. 0. 0. 0.]\n",
      " [0. 0. 0. 0. 0.]\n",
      " [0. 0. 0. 0. 0.]]\n"
     ]
    }
   ],
   "source": [
    "a = np.zeros((10)) # create a 1D array of 10 elements with all 0\n",
    "print(a)\n",
    "# print(type(a), a.ndim)\n",
    "# print(a.shape)\n",
    "\n",
    "\n",
    "a = np.zeros((2,2))   # Create an 2X2 array of all zeros\n",
    "print(a)              # Prints \"[[ 0.  0.]\n",
    "                      #          [ 0.  0.]]\"\n",
    "\n",
    "a = np.zeros((3,3))\n",
    "print(a)\n",
    "\n",
    "a = np.zeros((3,5))\n",
    "print(a)\n"
   ]
  },
  {
   "cell_type": "code",
   "execution_count": 6,
   "id": "5b412503",
   "metadata": {
    "id": "5b412503",
    "outputId": "77a58d3a-b9ee-40ff-cfed-3d59024332d9"
   },
   "outputs": [
    {
     "name": "stdout",
     "output_type": "stream",
     "text": [
      "[1. 1. 1. 1.]\n",
      "[[1. 1. 1. 1. 1.]\n",
      " [1. 1. 1. 1. 1.]\n",
      " [1. 1. 1. 1. 1.]]\n",
      "[5 5 5]\n",
      "[[9 9 9 9]\n",
      " [9 9 9 9]\n",
      " [9 9 9 9]]\n",
      "[[7 7]\n",
      " [7 7]]\n"
     ]
    }
   ],
   "source": [
    "#create arrays of all 1\n",
    "b = np.ones((4))    # Create an array of all ones\n",
    "print(b)           # [1. 1. 1. 1.]   \n",
    "\n",
    "a = np.ones((3,5)) # create 3x5 array of all 1\n",
    "print(a)\n",
    "###############################\n",
    "\n",
    "# fill an array with some constant value\n",
    "a = np.full((3), fill_value=5)\n",
    "print(a)\n",
    "\n",
    "a = np.full((3,4), fill_value=9)\n",
    "print(a)\n",
    "\n",
    "a = np.full((2,2), 7)  # Create a constant array\n",
    "print(a)               # Prints \"[[ 7.  7.]\n",
    "                       #          [ 7.  7.]]\"\n"
   ]
  },
  {
   "cell_type": "code",
   "execution_count": 7,
   "id": "4ce4633c-f23a-4c88-93d3-1351bb133045",
   "metadata": {
    "id": "4ce4633c-f23a-4c88-93d3-1351bb133045",
    "outputId": "031c0ecb-80f6-437f-9221-16b346ac5b75"
   },
   "outputs": [
    {
     "name": "stdout",
     "output_type": "stream",
     "text": [
      "[[1. 0.]\n",
      " [0. 1.]]\n",
      "[[1. 0. 0.]\n",
      " [0. 1. 0.]\n",
      " [0. 0. 1.]]\n",
      "[[1. 0. 0. 0. 0.]\n",
      " [0. 1. 0. 0. 0.]\n",
      " [0. 0. 1. 0. 0.]]\n"
     ]
    }
   ],
   "source": [
    "#  now lets create an array of identity matrix\n",
    "d = np.eye(2)         # Create a 2x2 identity matrix\n",
    "print(d)              # Prints \"[[ 1.  0.]\n",
    "                      #          [ 0.  1.]]\"\n",
    "\n",
    "d = np.eye(3)\n",
    "print(d)\n",
    "\n",
    "d = np.eye(3, 5)\n",
    "print(d)"
   ]
  },
  {
   "cell_type": "code",
   "execution_count": 8,
   "id": "fdf4a151-f151-4595-a93b-bf860f12d7bb",
   "metadata": {
    "colab": {
     "base_uri": "https://localhost:8080/"
    },
    "id": "fdf4a151-f151-4595-a93b-bf860f12d7bb",
    "outputId": "9e6b347d-0009-43ca-f816-d7b52c47f4f0"
   },
   "outputs": [
    {
     "name": "stdout",
     "output_type": "stream",
     "text": [
      "[0.35403177 0.71396044 0.36858589 0.78592146 0.2692566  0.04782898\n",
      " 0.43386793 0.90667118 0.50261776 0.74111145]\n",
      "[[0.69262319 0.89904044]\n",
      " [0.53335934 0.77542707]]\n",
      "[[0.02912825 0.64526763 0.06540659 0.8784934 ]\n",
      " [0.56980707 0.62059308 0.77322786 0.43627029]]\n",
      "[-6  4 -2]\n",
      "[[ 11  -4  12]\n",
      " [  2  -5   6]\n",
      " [ 11 -10   8]]\n"
     ]
    }
   ],
   "source": [
    "e = np.random.random((10))  # Create an 1Darray of size 3 filled with random values\n",
    "print(e)\n",
    "# print(type(e), e.shape)\n",
    "\n",
    "\n",
    "e = np.random.random((2,2))  # Create an array filled with random values\n",
    "print(e)                     # Might print \"[[ 0.91940167  0.08143941]\n",
    "                             #               [ 0.68744134  0.87236687]]\"\n",
    "# print(type(e), e.shape)\n",
    "\n",
    "e = np.random.random((2,4))  # Create an array filled with random values\n",
    "print(e)\n",
    "# print(type(e), e.shape)\n",
    "\n",
    "# Generate a 1D array with 3 elements with random integers between -10 (inclusive) and 15 (exclusive)\n",
    "e = np.random.randint(-10, 15, size=3)\n",
    "print(e)\n",
    "# print(type(e), e.shape)\n",
    "\n",
    "\n",
    "# Generate a 3x3 matrix with random integers between -10 (inclusive) and 15 (exclusive)\n",
    "e = np.random.randint(-10, 15, size=(3, 3))\n",
    "print(e)\n",
    "# print(type(e), e.shape)\n"
   ]
  },
  {
   "cell_type": "code",
   "execution_count": 9,
   "id": "75b6b2f9-a161-49ad-84ec-ca7f423bd2f9",
   "metadata": {
    "id": "75b6b2f9-a161-49ad-84ec-ca7f423bd2f9",
    "outputId": "bccc10fc-e774-43be-ceb6-536e46afebc4"
   },
   "outputs": [
    {
     "name": "stdout",
     "output_type": "stream",
     "text": [
      "Example 1 - Array from 0 to 4:\n",
      "[0 1 2 3 4]\n",
      "\n",
      "Example 2 - Array from 2 to 9:\n",
      "[2 3 4 5 6 7 8 9]\n",
      "\n",
      "Example 3 - Array from 1 to 9 with step of 2:\n",
      "[1 3 5 7 9]\n",
      "\n",
      "Example 4 - Array from 10 to 2 with step of -2:\n",
      "[10  8  6  4  2]\n",
      "\n",
      "Example 5 - Array of floats from 0 to 0.9:\n",
      "[0.  0.1 0.2 0.3 0.4 0.5 0.6 0.7 0.8 0.9]\n"
     ]
    }
   ],
   "source": [
    "# arange\n",
    "\n",
    "# Example 1: Basic usage with start and stop\n",
    "arr = np.arange(5)  # Creates an array from 0 to 4\n",
    "print(\"Example 1 - Array from 0 to 4:\")\n",
    "print(arr)\n",
    "\n",
    "# Example 2: Specifying start and stop\n",
    "arr = np.arange(2, 10)  # Creates an array from 2 to 9\n",
    "print(\"\\nExample 2 - Array from 2 to 9:\")\n",
    "print(arr)\n",
    "\n",
    "# Example 3: Specifying start, stop, and step\n",
    "arr = np.arange(1, 10, 2)  # Creates an array from 1 to 9 with a step of 2\n",
    "print(\"\\nExample 3 - Array from 1 to 9 with step of 2:\")\n",
    "print(arr)\n",
    "\n",
    "# Example 4: Using a negative step\n",
    "arr = np.arange(10, 0, -2)  # Creates an array from 10 to 2 with a step of -2\n",
    "print(\"\\nExample 4 - Array from 10 to 2 with step of -2:\")\n",
    "print(arr)\n",
    "\n",
    "# Example 5: Specifying dtype\n",
    "arr = np.arange(0, 1, 0.1, dtype=float)  # Creates an array of floats from 0 to 0.9\n",
    "print(\"\\nExample 5 - Array of floats from 0 to 0.9:\")\n",
    "print(arr)"
   ]
  },
  {
   "cell_type": "markdown",
   "id": "0fc3e079-2a60-418c-a5ed-00812b4119cd",
   "metadata": {
    "id": "0fc3e079-2a60-418c-a5ed-00812b4119cd"
   },
   "source": [
    "## Array indexing\n",
    "\n",
    "**Slicing**: Similar to Python lists, numpy arrays can be sliced. Since arrays may be multidimensional, you must **specify a slice for each dimension of the array**:"
   ]
  },
  {
   "cell_type": "code",
   "execution_count": 12,
   "id": "64c78a98-d693-439a-876b-3727514baa75",
   "metadata": {
    "id": "64c78a98-d693-439a-876b-3727514baa75",
    "outputId": "586e2ef2-7717-46e6-b714-50b9df5c8fe8"
   },
   "outputs": [
    {
     "name": "stdout",
     "output_type": "stream",
     "text": [
      "[[6 3 7 4 6]\n",
      " [9 2 6 7 4]\n",
      " [3 7 7 2 5]\n",
      " [4 1 7 5 1]]\n",
      "[[3 7]\n",
      " [2 6]]\n",
      "3\n",
      "77\n",
      "[[ 6 77  7  4  6]\n",
      " [ 9  2  6  7  4]\n",
      " [ 3  7  7  2  5]\n",
      " [ 4  1  7  5  1]]\n"
     ]
    }
   ],
   "source": [
    "# Create the following rank 2D array with shape (4, 4)\n",
    "# a = np.array([\n",
    "#      [6 3 7 4 6]\n",
    "#      [9 2 6 7 4]\n",
    "#      [3 7 7 2 5]\n",
    "#      [4 1 7 5 1]]\n",
    "# )\n",
    "\n",
    "np.random.seed(42) # Set the seed for reproducibility\n",
    "\n",
    "a = np.random.randint(0, 10, size=(4, 5))\n",
    "print(a)\n",
    "\n",
    "\n",
    "# Use slicing to pull out the subarray consisting of the first 2 rows(i.e. rows 0 and 1)\n",
    "# and columns 1 and 2; b is the following array of shape (2, 2):\n",
    "# [[3 7]\n",
    "#  [2 6]]\n",
    "b = a[0:2, 1:3] # or b = a[:2, 1:3]\n",
    "print(b)\n",
    "\n",
    "# A slice of an array is a view into the same data, so modifying it\n",
    "# will modify the original array.\n",
    "print(a[0, 1])   # Prints \"2\"\n",
    "b[0, 0] = 77     # b[0, 0] is the same piece of data as a[0, 1]\n",
    "print(a[0, 1])   # Prints \"77\"\n",
    "print(a)"
   ]
  },
  {
   "cell_type": "code",
   "execution_count": null,
   "id": "21070e68-777e-49a7-b4b8-c4b22d6b346a",
   "metadata": {
    "id": "21070e68-777e-49a7-b4b8-c4b22d6b346a",
    "outputId": "98190fdc-cb58-4a13-8aa6-e51988d5daad"
   },
   "outputs": [],
   "source": [
    "# (OPTIONAL) You can also mix integer indexing with slice indexing. However, doing\n",
    "# so will yield an array of lower rank than the original array.\n",
    "\n",
    "# Create the following rank 2 array with shape (3, 4)\n",
    "a = np.array([[1,2,3,4],\n",
    "              [5,6,7,8],\n",
    "              [9,10,11,12]]\n",
    ")\n",
    "\n",
    "# Two ways of accessing the data in the middle row of the array.\n",
    "# Mixing integer indexing with slices yields an array of lower rank,\n",
    "# while using only slices yields an array of the same rank as the original array:\n",
    "row_r1 = a[1, :]    # Rank 1 view of the second row of a\n",
    "row_r2 = a[1:2, :]  # Rank 2 view of the second row of a\n",
    "print(row_r1, row_r1.shape)  # Prints \"[5 6 7 8] (4,)\"\n",
    "print(row_r2, row_r2.shape)  # Prints \"[[5 6 7 8]] (1, 4)\"\n",
    "\n",
    "# We can make the same distinction when accessing columns of an array:\n",
    "col_r1 = a[:, 1]\n",
    "col_r2 = a[:, 1:2]\n",
    "print(col_r1, col_r1.shape)  # Prints \"[ 2  6 10] (3,)\"\n",
    "print(col_r2, col_r2.shape)  # Prints \"[[ 2]\n",
    "                             #          [ 6]\n",
    "                             #          [10]] (3, 1)\""
   ]
  },
  {
   "cell_type": "markdown",
   "id": "0b4b1dec-9904-48de-bf25-e8d69a2ff5a0",
   "metadata": {
    "id": "0b4b1dec-9904-48de-bf25-e8d69a2ff5a0"
   },
   "source": [
    "Integer array indexing:\n",
    "- When you index into numpy arrays using slicing, the resulting array view will always be a subarray of the original array.\n",
    "- In contrast, integer array indexing allows you to construct arbitrary arrays using the data from another array.\n",
    "Here is an example:"
   ]
  },
  {
   "cell_type": "markdown",
   "id": "fb142e7e-94c9-4005-aaad-6c1f1e6d7a0b",
   "metadata": {
    "id": "fb142e7e-94c9-4005-aaad-6c1f1e6d7a0b"
   },
   "source": []
  },
  {
   "cell_type": "code",
   "execution_count": null,
   "id": "3a054a05-102f-44ad-9342-8a88898f9d2d",
   "metadata": {
    "colab": {
     "base_uri": "https://localhost:8080/"
    },
    "id": "3a054a05-102f-44ad-9342-8a88898f9d2d",
    "outputId": "896928e3-f9ab-4111-82e3-a45a18311378"
   },
   "outputs": [],
   "source": [
    "# (SKIP) One useful trick with integer array indexing is selecting or mutating one element from each row of a matrix:\n",
    "\n",
    "# Create a new array from which we will select elements\n",
    "a = np.array([[1,2,3],\n",
    "              [4,5,6],\n",
    "              [7,8,9],\n",
    "              [10, 11, 12]]\n",
    ")\n",
    "\n",
    "print(f\"a: \\n{a}\")\n",
    "\n",
    "# Create an array of col_indices: 0, 2, 0, 1\n",
    "col_indices = np.array([0, 2, 0, 1])\n",
    "\n",
    "# Select one element from each row of a using the indices in col_indices\n",
    "print(a[np.arange(4), col_indices])  # Prints \"[ 1  6  7 11]\"\n",
    "\n",
    "# Mutate one element from each row of a using the indices in col_indices\n",
    "a[np.arange(4), col_indices] += 10\n",
    "\n",
    "print(a)  # prints \"array([[11,  2,  3],\n",
    "          #                [ 4,  5, 16],\n",
    "          #                [17,  8,  9],\n",
    "          #                [10, 21, 12]])"
   ]
  },
  {
   "cell_type": "markdown",
   "id": "0b92277a-1113-48c3-af3b-0a68d66608e7",
   "metadata": {
    "id": "0b92277a-1113-48c3-af3b-0a68d66608e7"
   },
   "source": [
    "**Boolean array indexing**: Boolean array indexing lets you pick out arbitrary elements of an array. Frequently this type of indexing is used to select the elements of an array that satisfy some condition.\n",
    "\n",
    "Here is an example:"
   ]
  },
  {
   "cell_type": "code",
   "execution_count": null,
   "id": "af488fc6-1469-4524-8c1b-7f05ed3c5a67",
   "metadata": {
    "id": "af488fc6-1469-4524-8c1b-7f05ed3c5a67",
    "outputId": "5ecb09c1-06a6-4ebb-b8f4-394b6dcf4937"
   },
   "outputs": [
    {
     "name": "stdout",
     "output_type": "stream",
     "text": [
      "[3 3 3]\n",
      "[1 2 4 4 8]\n",
      "[3 4 3 4 8 3]\n",
      "[3 4 3 4 3]\n",
      "[1 8]\n",
      "[[False False]\n",
      " [ True  True]\n",
      " [ True  True]\n",
      " [ True  True]]\n",
      "[3 4 3 4 8 3]\n"
     ]
    }
   ],
   "source": [
    "\n",
    "a = np.array([\n",
    "      [1, 2], # city1\n",
    "      [3, 4], # city2\n",
    "      [3, 4],\n",
    "      [8, 3],\n",
    "])\n",
    "\n",
    "# select elements equal to 3:\n",
    "print(a[(a == 3)]) \n",
    "# print(len(a[(a == 3)])) # gives count\n",
    "\n",
    "\n",
    "# select elements not equal to 3:\n",
    "print(a[(a != 3)]) \n",
    "# print(a[~(a == 3)])\n",
    "\n",
    "# select all elem > 2 # UNHEALTHY water\n",
    "print(a[a > 2])     # [3 4 5]\n",
    "\n",
    "# select all elem > 2 and < 5 # MODERATE\n",
    "print(a[(a > 2) & (a < 5)]) # [3 4]\n",
    "\n",
    "# select elements less than 2 or greater than 4:\n",
    "print(a[(a < 2) | (a > 4)])\n",
    "\n",
    "\n",
    "\n",
    "#############################\n",
    "#SKIP\n",
    "bool_idx = (a > 2)   # Find the elements of a that are bigger than 2;\n",
    "                     # this returns a numpy array of Booleans of the same\n",
    "                     # shape as a, where each slot of bool_idx tells\n",
    "                     # whether that element of a is > 2.\n",
    "\n",
    "print(bool_idx)      # Prints \"[[False False]\n",
    "                     #          [ True  True]\n",
    "                     #          [ True  True]]\"\n",
    "\n",
    "# We use boolean array indexing to construct a rank 1 array\n",
    "# consisting of the elements of a corresponding to the True values\n",
    "# of bool_idx\n",
    "print(a[bool_idx])  # Prints \"[3 4 5 6]\""
   ]
  },
  {
   "cell_type": "code",
   "execution_count": 23,
   "id": "dd979410-edb4-4995-a5ac-0a9a9d0b49c1",
   "metadata": {},
   "outputs": [
    {
     "name": "stdout",
     "output_type": "stream",
     "text": [
      "Contaminant A readings equal to 3: [3 3]\n",
      "Count of warning-level readings in Contaminant A (== 3): 2\n",
      "Contaminant A values not equal to 3: [1 8]\n",
      "Contaminant A unhealthy levels (>2):\n",
      "[3 3 8]\n",
      "Contaminant A moderate concern levels (>2 and <5):\n",
      "[3 3]\n",
      "Cities where Contaminant A > 3 and Contaminant B > 2: [[8 3]]\n"
     ]
    }
   ],
   "source": [
    "import numpy as np\n",
    "\n",
    "# Contaminant levels for 4 cities (columns: [Contaminant A, Contaminant B])\n",
    "water_data = np.array([\n",
    "    [1, 2],  # City 1\n",
    "    [3, 4],  # City 2\n",
    "    [3, 4],  # City 3\n",
    "    [8, 3],  # City 4\n",
    "])\n",
    "\n",
    "# Select only column 1 (Contaminant A)\n",
    "cont_A = water_data[:, 0]\n",
    "\n",
    "# 1. Contaminant A readings equal to 3 (Warning Level)\n",
    "warning_A = cont_A[cont_A == 3]\n",
    "print(\"Contaminant A readings equal to 3:\", warning_A)\n",
    "\n",
    "# 2. Count how many times warning level 3 appears in Contaminant A\n",
    "print(\"Count of warning-level readings in Contaminant A (== 3):\", np.sum(cont_A == 3))\n",
    "\n",
    "# 3. Readings in Contaminant A NOT equal to 3\n",
    "print(\"Contaminant A values not equal to 3:\", cont_A[cont_A != 3])\n",
    "\n",
    "# 4. Readings in Contaminant A above 2 (considered UNHEALTHY)\n",
    "print(\"Contaminant A unhealthy levels (>2):\", cont_A[cont_A > 2])\n",
    "\n",
    "# 5. Moderate concern levels in Contaminant A (>2 and <5)\n",
    "print(\"Contaminant A moderate concern levels (>2 and <5):\",\n",
    "     cont_A[(cont_A > 2) & (cont_A < 5)]\n",
    ")\n",
    "\n",
    "# 6: Apply condition: A > 3 and B > 2\n",
    "print(\"Cities where Contaminant A > 3 and Contaminant B > 2:\",\n",
    "      water_data[(water_data[:, 0] > 3) & (water_data[:, 1] > 2)]\n",
    ")\n",
    "\n",
    "# OR USE FOLLOWING\n",
    "# mask = (water_data[:, 0] > 3) & (water_data[:, 1] > 2)\n",
    "# print(\"Cities where Contaminant A > 3 and Contaminant B > 2:\", water_data[mask])\n",
    "\n",
    "# 7. OR condition: Contaminant A > 6 OR Contaminant B < 3\n",
    "mask = (water_data[:, 0] > 6) | (water_data[:, 1] < 3)\n",
    "print(\"Cities where Contaminant A > 6 OR Contaminant B < 3:\", water_data[mask])"
   ]
  },
  {
   "cell_type": "code",
   "execution_count": null,
   "id": "3d63e98a-5ab2-4a85-aa14-9aa80e62bbf8",
   "metadata": {},
   "outputs": [],
   "source": []
  }
 ],
 "metadata": {
  "colab": {
   "provenance": []
  },
  "kernelspec": {
   "display_name": "Python 3 (ipykernel)",
   "language": "python",
   "name": "python3"
  },
  "language_info": {
   "codemirror_mode": {
    "name": "ipython",
    "version": 3
   },
   "file_extension": ".py",
   "mimetype": "text/x-python",
   "name": "python",
   "nbconvert_exporter": "python",
   "pygments_lexer": "ipython3",
   "version": "3.11.2"
  }
 },
 "nbformat": 4,
 "nbformat_minor": 5
}
