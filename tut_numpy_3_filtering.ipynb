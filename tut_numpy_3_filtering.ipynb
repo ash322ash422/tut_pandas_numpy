{
 "cells": [
  {
   "cell_type": "markdown",
   "id": "03ca8900-c0fb-4134-b398-096a68c54825",
   "metadata": {
    "id": "03ca8900-c0fb-4134-b398-096a68c54825"
   },
   "source": [
    "### Topics covered:\n",
    "- filtering"
   ]
  },
  {
   "cell_type": "markdown",
   "id": "0b92277a-1113-48c3-af3b-0a68d66608e7",
   "metadata": {
    "id": "0b92277a-1113-48c3-af3b-0a68d66608e7"
   },
   "source": [
    "import numpy as np"
   ]
  },
  {
   "cell_type": "code",
   "execution_count": 3,
   "id": "2fb6f1dd-14f6-4751-baae-3bfafeddc022",
   "metadata": {},
   "outputs": [
    {
     "name": "stdout",
     "output_type": "stream",
     "text": [
      "[3 3]\n",
      "2\n",
      "[4 7 2 9 6 2 1 7]\n",
      "[4 7 3 9 3 6 7]\n",
      "[4 3 3]\n",
      "[7 9 6 1 7]\n"
     ]
    }
   ],
   "source": [
    "# On 1D\n",
    "\n",
    "cont = [4, 7, 2, 3, 9, 3, 6, 2, 1, 7] # water contaminant reading\n",
    "a = np.array(cont)\n",
    "\n",
    "# Filter: select elements equal to 3\n",
    "mask = (a == 3)\n",
    "# print(mask)\n",
    "print(a[mask]) \n",
    "print(len(a[mask])) # gives count\n",
    "################################\n",
    "\n",
    "# Filter: All elements not equal to 3\n",
    "mask = (a != 3)\n",
    "print(a[mask]) \n",
    "################################\n",
    "\n",
    "# Filter: All elem > 2 # UNHEALTHY water\n",
    "mask = (a > 2)\n",
    "print(a[mask])     \n",
    "################################\n",
    "\n",
    "# Filter: All elem > 2 and < 5 # MODERATE\n",
    "mask = (a > 2) & (a < 5)\n",
    "print(a[mask]) \n",
    "################################\n",
    "\n",
    "# select elements less than 2 or greater than 4:\n",
    "mask = (a < 2) | (a > 4)\n",
    "print(a[mask])\n",
    "################################"
   ]
  },
  {
   "cell_type": "code",
   "execution_count": 5,
   "id": "dd979410-edb4-4995-a5ac-0a9a9d0b49c1",
   "metadata": {},
   "outputs": [
    {
     "name": "stdout",
     "output_type": "stream",
     "text": [
      "[3 3]\n",
      "2\n",
      "[1 8]\n",
      "[3 3 8]\n",
      "[3 3]\n",
      "[[8 3]]\n",
      "[[1 2]\n",
      " [8 3]]\n"
     ]
    }
   ],
   "source": [
    "# (ADVANCED) On 2D\n",
    "\n",
    "# Contaminant levels for 4 cities (columns: [Contaminant A, Contaminant B])\n",
    "water_data = np.array([\n",
    "    [1, 2],  # City 1\n",
    "    [3, 4],  # City 2\n",
    "    [3, 4],  # City 3\n",
    "    [8, 3],  # City 4\n",
    "])\n",
    "\n",
    "# Select only column 1 (Contaminant A)\n",
    "cont_A = water_data[:, 0]\n",
    "print(cont_A)\n",
    "\n",
    "# 1. Filter: find all contaminant A readings equal to 3 (Warning Level)\n",
    "mask = (cont_A == 3)\n",
    "print( cont_A[mask])\n",
    "###################################\n",
    "\n",
    "# 2. Count how many times warning level 3 appears in Contaminant A\n",
    "mask = (cont_A == 3)\n",
    "print(np.sum(mask))\n",
    "###################################\n",
    "\n",
    "# 3. Readings in Contaminant A NOT equal to 3\n",
    "mask = (cont_A != 3)\n",
    "print(cont_A[mask])\n",
    "###################################\n",
    "\n",
    "# 4. Readings in Contaminant A above 2 (considered UNHEALTHY)\n",
    "mask = (cont_A > 2)\n",
    "print(cont_A[mask])\n",
    "###################################\n",
    "\n",
    "# 5. Moderate concern levels in Contaminant A (>2 and <5)\n",
    "mask = (cont_A > 2) & (cont_A < 5)\n",
    "print(cont_A[mask])\n",
    "###################################\n",
    "\n",
    "# 6: Apply condition: A > 3 and B > 2\n",
    "mask = (water_data[:, 0] > 3) & (water_data[:, 1] > 2)\n",
    "print( water_data[mask])\n",
    "###################################\n",
    "\n",
    "# 7. OR condition: Contaminant A > 6 OR Contaminant B < 3\n",
    "mask = (water_data[:, 0] > 6) | (water_data[:, 1] < 3)\n",
    "print(water_data[mask])\n"
   ]
  },
  {
   "cell_type": "code",
   "execution_count": null,
   "id": "3d63e98a-5ab2-4a85-aa14-9aa80e62bbf8",
   "metadata": {},
   "outputs": [],
   "source": []
  }
 ],
 "metadata": {
  "colab": {
   "provenance": []
  },
  "kernelspec": {
   "display_name": "Python 3 (ipykernel)",
   "language": "python",
   "name": "python3"
  },
  "language_info": {
   "codemirror_mode": {
    "name": "ipython",
    "version": 3
   },
   "file_extension": ".py",
   "mimetype": "text/x-python",
   "name": "python",
   "nbconvert_exporter": "python",
   "pygments_lexer": "ipython3",
   "version": "3.9.9"
  }
 },
 "nbformat": 4,
 "nbformat_minor": 5
}
