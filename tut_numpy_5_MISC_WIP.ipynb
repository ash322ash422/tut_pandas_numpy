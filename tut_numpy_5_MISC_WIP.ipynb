{
 "cells": [
  {
   "cell_type": "markdown",
   "id": "c5ada5e5-8de8-497f-b42f-f2f200df58c0",
   "metadata": {},
   "source": [
    "### Topics covered:\n",
    "- unique\n",
    "\n",
    "- stat operations: mean, median, min, max, std_dev, var, percentile, describe, corrcoef, cov,\n",
    "\n",
    "- isin, where\n",
    "- set operations\n",
    "\n",
    "**Other operations** (OPTIONAL)\n",
    "- clip\n",
    "- swapaxes\n",
    "- delete\n",
    "- put\n",
    "- cut (TODO)"
   ]
  },
  {
   "cell_type": "code",
   "execution_count": 3,
   "id": "272dbb10-7337-48d1-a29b-51cce3e94c42",
   "metadata": {},
   "outputs": [],
   "source": [
    "import numpy as np"
   ]
  },
  {
   "cell_type": "markdown",
   "id": "f42b2e6d-afbe-4853-b185-7f651b99d614",
   "metadata": {},
   "source": [
    "# STATS "
   ]
  },
  {
   "cell_type": "markdown",
   "id": "233bd29f-a2ba-4733-a141-49d09913ee9f",
   "metadata": {},
   "source": [
    "## miscellaneous\n",
    "- isin\n",
    "- where\n",
    "- set operations"
   ]
  },
  {
   "cell_type": "code",
   "execution_count": 32,
   "id": "4b1af5fd-db06-46ab-823f-bd8ef552a63b",
   "metadata": {},
   "outputs": [
    {
     "name": "stdout",
     "output_type": "stream",
     "text": [
      "Matched Product IDs:\n",
      "[102 104]\n"
     ]
    }
   ],
   "source": [
    "# isin(): inbuilt method. Checks whether each element in the input array is present in a list of values.\n",
    "# It does Membership Testing\n",
    "\n",
    "# Imagine you run a small store and have a list of all available product IDs,\n",
    "# and another list of product IDs purchased by a customer. You want to identify\n",
    "# which of your products this customer actually bought.\n",
    "\n",
    "# All available products in your store (product IDs)\n",
    "available_products = np.array([101, 102, 103, 104, 105])\n",
    "\n",
    "# Products purchased by a customer\n",
    "purchased_products = np.array([102, 104, 106])  # 106 is not in your current inventory\n",
    "\n",
    "# Check which available products were purchased\n",
    "matching = np.isin(available_products, purchased_products)\n",
    "\n",
    "# Get the actual product IDs that were both available and purchased\n",
    "matched_products = available_products[matching]\n",
    "print(\"Matched Product IDs:\")\n",
    "print(matched_products)  # [102 104]\n",
    "\n",
    "\n",
    "# This operation helps in:\n",
    "# 1. Inventory tracking (what's in stock and was sold)\n",
    "# 2. Customer analytics (what’s commonly bought)\n",
    "# 3. Fraud detection (purchases of unavailable items)"
   ]
  },
  {
   "cell_type": "markdown",
   "id": "7aafef94-7031-4ea4-b41c-9420c72b3d1b",
   "metadata": {},
   "source": [
    "### where()\n",
    "The np.where() function in NumPy allows you to find the indices of elements in an array that satisfy acertain condition. It can also be used to create new arrays based on conditions\n",
    "\n",
    "Returns indices (or applies logic) where a condition is True.\n",
    "\n",
    "You can also use: \n",
    "\n",
    "np.where(condition, x, y)  → Returns x if condition is True, else y."
   ]
  },
  {
   "cell_type": "code",
   "execution_count": 33,
   "id": "d986bd7e-8520-4bec-b326-1fe90c659741",
   "metadata": {},
   "outputs": [
    {
     "name": "stdout",
     "output_type": "stream",
     "text": [
      "Scores: [78 45 62 33 90 50]\n",
      "Results: ['Pass' 'Fail' 'Pass' 'Fail' 'Pass' 'Pass']\n",
      "*****************************\n",
      "Temperature readings: [28 33 31 25 29 35 30]\n",
      "Classification: ['30 or less' 'Greater than 30' 'Greater than 30' '30 or less'\n",
      " '30 or less' 'Greater than 30' '30 or less']\n",
      "^^^^^^^^^^^^^^^^^^^^^^^^^^^^^^^^^^^^\n",
      "Temperature readings:\n",
      " [[22 26 24]\n",
      " [23 27 26]\n",
      " [25 28 23]\n",
      " [21 24 27]]\n",
      "\n",
      "Status:\n",
      " [['Normal' 'Alert' 'Normal']\n",
      " ['Normal' 'Alert' 'Alert']\n",
      " ['Normal' 'Alert' 'Normal']\n",
      " ['Normal' 'Normal' 'Alert']]\n"
     ]
    }
   ],
   "source": [
    "# where()\n",
    "\n",
    "# Application1: Assigning Letter Grades Based on Scores\n",
    "scores = np.array([78, 45, 62, 33, 90, 50]) # Student scores\n",
    "results = np.where(scores >= 50, \"Pass\", \"Fail\") # Use np.where to assign \"Pass\" or \"Fail\"\n",
    "\n",
    "print(\"Scores:\", scores)\n",
    "print(\"Results:\", results)\n",
    "\n",
    "print(\"*****************************\")\n",
    "# Application2: Daily temperatures (°C) recorded over a week\n",
    "temperatures = np.array([28, 33, 31, 25, 29, 35, 30])\n",
    "\n",
    "temp_classification = np.where(temperatures > 30, 'Greater than 30', '30 or less')\n",
    "\n",
    "print(\"Temperature readings:\", temperatures)\n",
    "print(\"Classification:\", temp_classification)\n",
    "print(\"^^^^^^^^^^^^^^^^^^^^^^^^^^^^^^^^^^^^\")\n",
    "\n",
    "# Create a 2D NumPy array\n",
    "# Temperatures (°C) recorded hourly in 3 rooms over 4 hours\n",
    "temps = np.array([\n",
    "    # Room1, Room2, Room3\n",
    "    [22, 26, 24],  # Hour 1\n",
    "    [23, 27, 26],  # Hour 2\n",
    "    [25, 28, 23],  # Hour 3\n",
    "    [21, 24, 27]   # Hour 4\n",
    "])\n",
    "\n",
    "# Flag temperatures above 25°C as \"Alert\", else \"Normal\"\n",
    "status = np.where(temps > 25, \"Alert\", \"Normal\")\n",
    "\n",
    "print(\"Temperature readings:\\n\", temps)\n",
    "print(\"\\nStatus:\\n\", status)\n"
   ]
  },
  {
   "cell_type": "code",
   "execution_count": 34,
   "id": "ab507c9b-8857-466f-928c-67219f6ad7fe",
   "metadata": {},
   "outputs": [
    {
     "name": "stdout",
     "output_type": "stream",
     "text": [
      "[3 4]\n",
      "[1 2]\n",
      "[1 2 3 4 5 6]\n"
     ]
    }
   ],
   "source": [
    "# SKIP set operations\n",
    "\n",
    "a = np.array([1, 2, 3, 4])\n",
    "b = np.array([3, 4, 5, 6])\n",
    "\n",
    "print(np.intersect1d(a, b))  # Output: [3 4]  Elements common to both arrays\n",
    "print(np.setdiff1d(a, b))  # Output: [1 2]  Elements in a that are not in b\n",
    "print(np.union1d(a, b))  # Output: [1 2 3 4 5 6] All unique elements from both arrays\n",
    "\n",
    "# and there are many others"
   ]
  },
  {
   "cell_type": "markdown",
   "id": "d9ae2ad6-5a45-434f-a117-8929744b4ffa",
   "metadata": {},
   "source": [
    "## other operations:"
   ]
  },
  {
   "cell_type": "markdown",
   "id": "081a4c0a-871a-4c7a-9f80-770a1c08b5df",
   "metadata": {},
   "source": [
    "### clip\n",
    "np.clip(random_normal, x1, x2)\n",
    "This function clips the values in the array. That means:\n",
    "- Any value less than x1 is set to x1\n",
    "- Any value greater than x2 is set to x2\n",
    "- Values between x1 and x2 stay the same\n",
    "- It's commonly used in image processing, sensor data normalization, or finance to avoid extreme values.\n",
    "\n",
    "This is useful to keep your data within a specific range (like valid scores, age limits, or any bounded system).\n"
   ]
  },
  {
   "cell_type": "code",
   "execution_count": 35,
   "id": "a997f437-b3b9-46d2-bd57-e2c44459ae8b",
   "metadata": {},
   "outputs": [
    {
     "name": "stdout",
     "output_type": "stream",
     "text": [
      "sensor readigs: [ 14  15  25  30  40  45  65  85 155 160 175]\n",
      "safe_readings:  [ 20  20  25  30  40  45  65  85 150 150 150]\n"
     ]
    }
   ],
   "source": [
    "# example 1 of clip: \n",
    "# A sensor should return values between 20-150\n",
    "import numpy as np\n",
    "\n",
    "# Hard-coded values (can be from any distribution or just manually set)\n",
    "readings_sensor = np.array([\n",
    "    14, 15,                                # this 2 would get clipped to 20 \n",
    "    25, 30, 40, 45, 65, 85,  # these values remain same\n",
    "    155, 160, 175                    # these 3 would get clipped to 150\n",
    "])\n",
    "print(f\"sensor readigs: {readings_sensor}\")\n",
    "\n",
    "# Step 3: Clip the values between 20 and 150\n",
    "safe_readings  = np.clip(readings_sensor, 20, 150)\n",
    "print(f\"safe_readings:  {safe_readings }\") # NOTE:Values 10 and 15 would get clipped to 20. Values 155, 160, 175, 200 would clipped to 150 "
   ]
  },
  {
   "cell_type": "code",
   "execution_count": 36,
   "id": "f4943850-a594-4bf4-8b9c-d1f2fb283d43",
   "metadata": {},
   "outputs": [
    {
     "name": "stdout",
     "output_type": "stream",
     "text": [
      "numbers (Before clip): [ 19.5063724   34.37143533  35.31077713  36.0082469   37.03071962\n",
      "  37.16799388  38.31837019  40.92399612  41.87705419  44.68210322\n",
      "  44.81291914  46.23341422  47.12881938  48.03695024  48.4121263\n",
      "  49.38129534  49.61573145  49.69240747  49.95372343  50.5582658\n",
      "  51.79534878  51.98858467  53.85653053  54.07623223  54.22839209\n",
      "  54.47890875  54.99258982  55.0948344   55.21741257  55.78304906\n",
      "  56.22516056  56.42574255  57.34162565  58.05638055  58.22768755\n",
      "  58.44240716  58.55722678  59.67922199  60.23659187  60.63295824\n",
      "  61.554374    62.01439414  62.26531363  62.29939811  62.76213926\n",
      "  62.90356409  63.57106109  63.83015705  64.01956192  64.48294204\n",
      "  64.60474288  64.78765993  64.94306827  65.18698154  65.41866769\n",
      "  65.67936964  66.15659589  66.74083421  67.00389479  67.11740727\n",
      "  67.14121455  67.44867265  67.99938196  68.07694999  68.45533838\n",
      "  68.66676919  68.70999131  68.87200613  69.95733469  69.98403275\n",
      "  70.84255676  70.94281177  71.39043189  71.75599491  72.04324454\n",
      "  72.41310865  72.45607391  72.8659113   73.02064405  73.12636722\n",
      "  73.20170336  73.26314035  73.35675616  73.41455768  73.48403073\n",
      "  73.8371262   74.48386693  75.19729617  75.37294299  76.43213709\n",
      "  76.6374691   76.80844634  76.94846209  77.11826888  77.2696906\n",
      "  77.47240761  77.52481624  77.70765626  78.38357917  78.8652971\n",
      "  79.07953483  79.13532167  79.14616563  79.14657608  79.35559249\n",
      "  79.41343037  79.5082028   80.19097588  80.35852558  80.96785721\n",
      "  81.54339247  82.10879294  82.13158896  83.07245726  83.13885211\n",
      "  83.17927718  83.19974696  84.10434902  84.13220576  84.33715311\n",
      "  84.66256938  85.12783642  85.3250473   86.139296    86.45521796\n",
      "  86.50575525  86.60700048  86.68820512  86.71407437  87.04685348\n",
      "  87.17617671  87.29401941  87.42693873  87.49128413  87.77306474\n",
      "  88.84312765  89.28420703  89.32952315  89.36444532  89.61584646\n",
      "  89.66135787  89.9215309   90.22158988  90.3523436   90.41146474\n",
      "  90.68649837  90.80634243  91.04905679  91.26232126  91.43875977\n",
      "  91.49706986  91.5263818   91.91726998  92.32681183  92.40300693\n",
      "  92.42461683  92.53868356  92.85618331  93.10209923  93.21877774\n",
      "  93.28158579  93.52879937  93.59045724  93.66120524  93.92781429\n",
      "  93.94468401  94.03489014  94.04090063  94.39245046  94.63293449\n",
      "  95.10127142  95.12454277  95.31952317  96.83094061  96.83981077\n",
      "  96.84582302  97.06181038  97.41785383  97.62468197  97.83168583\n",
      "  97.84464877  97.87588168  97.87619216  98.04853914  98.56400109\n",
      "  99.01961316  99.27226277  99.67142735 100.29190722 100.64168369\n",
      " 100.84797556 101.19221345 101.28478128 101.41384022 101.98994372\n",
      " 102.15650476 102.85001235 103.4616645  103.79832582 103.97423051\n",
      " 104.18586823 104.54557179 104.67711509 104.77579868 105.31314556\n",
      " 105.33793043 105.54756261 105.551504   105.5636228  105.67958123\n",
      " 106.31083337 106.40996986 106.64387985 107.88505294 108.28200298\n",
      " 108.85004409 109.08440323 109.21612476 109.38862818 110.08832245\n",
      " 110.77498806 111.3450513  111.42805566 112.07628108 112.22376492\n",
      " 113.389141   113.57057036 113.96488948 117.67856886 118.90600071\n",
      " 120.06985777 121.33835193 121.64121922 121.94735112 123.07574641\n",
      " 123.45091416 123.74836013 124.1160914  124.48032039 129.13635601\n",
      " 131.30695461 131.64436278 132.15464753 132.41982457 138.59860223\n",
      " 139.76139065 142.86646417 146.58105281 153.00422916 181.31828727]\n",
      "numbers (After clip): [ 40  40  40  40  40  40  40  40  41  44  44  46  47  48  48  49  49  49\n",
      "  49  50  51  51  53  54  54  54  54  55  55  55  56  56  57  58  58  58\n",
      "  58  59  60  60  61  62  62  62  62  62  63  63  64  64  64  64  64  65\n",
      "  65  65  66  66  67  67  67  67  67  68  68  68  68  68  69  69  70  70\n",
      "  71  71  72  72  72  72  73  73  73  73  73  73  73  73  74  75  75  76\n",
      "  76  76  76  77  77  77  77  77  78  78  79  79  79  79  79  79  79  80\n",
      "  80  80  81  82  82  83  83  83  83  84  84  84  84  85  85  86  86  86\n",
      "  86  86  86  87  87  87  87  87  87  88  89  89  89  89  89  89  90  90\n",
      "  90  90  90  91  91  91  91  91  91  92  92  92  92  92  93  93  93  93\n",
      "  93  93  93  93  94  94  94  94  95  95  95  96  96  96  97  97  97  97\n",
      "  97  97  97  98  98  99  99  99 100 100 100 101 101 101 101 102 102 103\n",
      " 103 103 104 104 104 104 105 105 105 105 105 105 106 106 106 107 108 108\n",
      " 109 109 109 110 110 111 111 112 112 113 113 113 117 118 120 121 121 121\n",
      " 123 123 123 124 124 129 131 131 132 132 138 139 140 140 140 140]\n"
     ]
    },
    {
     "data": {
      "image/png": "[encoded data removed]",
      "text/plain": [
       "<Figure size 1200x600 with 2 Axes>"
      ]
     },
     "metadata": {},
     "output_type": "display_data"
    }
   ],
   "source": [
    "# Example 2 of clip\n",
    "import numpy as np\n",
    "import matplotlib.pyplot as plt\n",
    "\n",
    "# Step 1: Generate normally distributed data\n",
    "np.random.seed(42)  # for reproducibility\n",
    "random_normal = np.random.normal(loc=85, scale=25, size=250)\n",
    "random_normal = np.sort(random_normal)\n",
    "print(f\"numbers (Before clip): {random_normal}\")\n",
    "\n",
    "# Step 2: Clip the data between 40 and 140, then convert to int\n",
    "clipped_data = np.clip(random_normal, 40, 140).astype(int)\n",
    "clipped_data = np.sort(clipped_data)\n",
    "print(f\"numbers (After clip): {clipped_data}\")\n",
    "\n",
    "\n",
    "#####OPTIONAL#################\n",
    "# Step 3: Plot before and after clipping\n",
    "plt.figure(figsize=(12, 6))\n",
    "\n",
    "# Original data\n",
    "plt.subplot(1, 2, 1)\n",
    "plt.hist(random_normal, bins=30, color='skyblue', edgecolor='black')\n",
    "plt.title('Original Data (Normal Dist.)')\n",
    "plt.xlabel('Value')\n",
    "plt.ylabel('Frequency')\n",
    "\n",
    "# Clipped data\n",
    "plt.subplot(1, 2, 2)\n",
    "plt.hist(clipped_data, bins=30, color='salmon', edgecolor='black')\n",
    "plt.title('Clipped & Converted Data (40 to 140)')\n",
    "plt.xlabel('Value')\n",
    "plt.ylabel('Frequency')\n",
    "\n",
    "plt.tight_layout()\n",
    "plt.show()\n"
   ]
  },
  {
   "cell_type": "markdown",
   "id": "f4fd340a-f5d9-455f-a5c7-48fb67fb613f",
   "metadata": {},
   "source": [
    "### observation\n",
    "Left histogram (original): Shows a typical bell curve, with some values possibly below 40 or above 140.\n",
    "\n",
    "Right histogram (clipped): Shows how all values are forced into the 40–140 range, with sharp spikes at 40 and 140 (from clipped values)."
   ]
  },
  {
   "cell_type": "code",
   "execution_count": null,
   "id": "e0ff1714-a5aa-4d7d-8562-5c312b957b39",
   "metadata": {},
   "outputs": [],
   "source": []
  },
  {
   "cell_type": "code",
   "execution_count": null,
   "id": "296b67c7-9555-4db6-90a3-d32a6eb557b7",
   "metadata": {},
   "outputs": [],
   "source": []
  },
  {
   "cell_type": "code",
   "execution_count": null,
   "id": "e2cb1fbd-5bb7-48f7-b356-34b4843f71fe",
   "metadata": {},
   "outputs": [],
   "source": []
  }
 ],
 "metadata": {
  "kernelspec": {
   "display_name": "Python 3 (ipykernel)",
   "language": "python",
   "name": "python3"
  },
  "language_info": {
   "codemirror_mode": {
    "name": "ipython",
    "version": 3
   },
   "file_extension": ".py",
   "mimetype": "text/x-python",
   "name": "python",
   "nbconvert_exporter": "python",
   "pygments_lexer": "ipython3",
   "version": "3.9.9"
  }
 },
 "nbformat": 4,
 "nbformat_minor": 5
}
