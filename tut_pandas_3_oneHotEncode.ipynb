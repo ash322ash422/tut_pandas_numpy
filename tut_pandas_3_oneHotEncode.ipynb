{
 "cells": [
  {
   "cell_type": "code",
   "execution_count": 2,
   "id": "1567673d-be0b-443b-b5d3-68f9efb9d2c4",
   "metadata": {},
   "outputs": [],
   "source": [
    "import pandas as pd\n",
    "from sklearn.preprocessing import OneHotEncoder"
   ]
  },
  {
   "cell_type": "code",
   "execution_count": 4,
   "id": "bf333a84-d7cb-4ef7-893d-a60986ccc4dd",
   "metadata": {},
   "outputs": [
    {
     "name": "stdout",
     "output_type": "stream",
     "text": [
      "\n",
      "DataFrame:\n",
      "    Unnamed: 0     Name  Age         City   Salary  Experience\n",
      "0           0    Alice   25      Chicago  70000.0           2\n",
      "1           1      Bob   30  Los Angeles     30.0           5\n",
      "2           2  Charlie   35        delhi  66000.0           7\n",
      "3           3    David   40      Houston  90000.0          10\n",
      "4           4      Eva   22      Houston  48000.0           1\n"
     ]
    }
   ],
   "source": [
    "df = pd.read_csv('data_clean.csv')  # Replace 'data.csv' with your actual file path\n",
    "print(\"\\nDataFrame:\\n\", df.head(5))"
   ]
  },
  {
   "cell_type": "markdown",
   "id": "6af4be14-a0db-4771-a0c8-c1ad71330f88",
   "metadata": {},
   "source": [
    "## One-Hot Encoding categorical variables\n",
    "Lets say we have 4 variables: A,B,C and D\n",
    "\n",
    "One hot encoding creates a 4 element vector:\n",
    "\n",
    "A -> (1,0,0,0)\n",
    "\n",
    "B -> (0,1,0,0)\n",
    "\n",
    "C -> (0,0,1,0)\n",
    "\n",
    "D -> (0,0,0,1)"
   ]
  },
  {
   "cell_type": "code",
   "execution_count": 5,
   "id": "51c5be7e-6225-40e8-811b-cb15cc21fcbf",
   "metadata": {},
   "outputs": [
    {
     "name": "stdout",
     "output_type": "stream",
     "text": [
      "\n",
      "DataFrame after one-hot encoding City column:\n",
      "    Unnamed: 0     Name  Age   Salary  Experience  City_Houston  \\\n",
      "0           0    Alice   25  70000.0           2           0.0   \n",
      "1           1      Bob   30     30.0           5           0.0   \n",
      "2           2  Charlie   35  66000.0           7           0.0   \n",
      "3           3    David   40  90000.0          10           1.0   \n",
      "4           4      Eva   22  48000.0           1           1.0   \n",
      "\n",
      "   City_Los Angeles  City_Phoenix  City_San Antonio  City_San Diego  \\\n",
      "0               0.0           0.0               0.0             0.0   \n",
      "1               1.0           0.0               0.0             0.0   \n",
      "2               0.0           0.0               0.0             0.0   \n",
      "3               0.0           0.0               0.0             0.0   \n",
      "4               0.0           0.0               0.0             0.0   \n",
      "\n",
      "   City_Unknown  City_delhi  \n",
      "0           0.0         0.0  \n",
      "1           0.0         0.0  \n",
      "2           0.0         1.0  \n",
      "3           0.0         0.0  \n",
      "4           0.0         0.0  \n"
     ]
    }
   ],
   "source": [
    "# One-Hot Encoding categorical variables\n",
    "encoder = OneHotEncoder(sparse_output=False, drop='first')\n",
    "\n",
    "cities_encoded = encoder.fit_transform(df[['City']])\n",
    "city_columns = encoder.get_feature_names_out(['City'])\n",
    "df_cities = pd.DataFrame(cities_encoded, columns=city_columns)\n",
    "\n",
    "df = pd.concat([df, df_cities], axis=1).drop(columns=['City'])\n",
    "print(\"\\nDataFrame after one-hot encoding City column:\\n\", df.head())"
   ]
  },
  {
   "cell_type": "code",
   "execution_count": null,
   "id": "bd4cfe75-e8d1-40d8-ac30-1303211bfd01",
   "metadata": {},
   "outputs": [],
   "source": []
  }
 ],
 "metadata": {
  "kernelspec": {
   "display_name": "Python 3 (ipykernel)",
   "language": "python",
   "name": "python3"
  },
  "language_info": {
   "codemirror_mode": {
    "name": "ipython",
    "version": 3
   },
   "file_extension": ".py",
   "mimetype": "text/x-python",
   "name": "python",
   "nbconvert_exporter": "python",
   "pygments_lexer": "ipython3",
   "version": "3.11.2"
  }
 },
 "nbformat": 4,
 "nbformat_minor": 5
}
