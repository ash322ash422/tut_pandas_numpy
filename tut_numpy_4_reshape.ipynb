{
 "cells": [
  {
   "cell_type": "markdown",
   "id": "b34a09df-9343-4831-beec-b9ed5af7028f",
   "metadata": {},
   "source": [
    "## Transpose"
   ]
  },
  {
   "cell_type": "code",
   "execution_count": 13,
   "id": "780acabb-d49e-4610-a260-40a1fd23683f",
   "metadata": {},
   "outputs": [],
   "source": [
    "import numpy as np"
   ]
  },
  {
   "cell_type": "code",
   "execution_count": 14,
   "id": "6e422a59-aba0-4992-9888-d092bcbc77b6",
   "metadata": {},
   "outputs": [
    {
     "name": "stdout",
     "output_type": "stream",
     "text": [
      "[[1 2 3]\n",
      " [4 5 6]]\n",
      "[[1 4]\n",
      " [2 5]\n",
      " [3 6]]\n",
      "####################\n",
      "[[1 2]\n",
      " [3 4]\n",
      " [5 6]]\n",
      "[[1 3 5]\n",
      " [2 4 6]]\n",
      "####################\n",
      "[1 2 3]\n",
      "[1 2 3]\n"
     ]
    }
   ],
   "source": [
    "# Transpose\n",
    "# Application:Preparing data for algorithms \n",
    "# like matrix multiplication or PCA (Principal Component Analysis), which\n",
    "# require certain shape conventions.\n",
    "\n",
    "# If shape of x is 2X3. Then shape of x.T is 3X2\n",
    "x = np.array([\n",
    "    [1, 2, 3], \n",
    "    [4, 5 ,6]] \n",
    ")\n",
    "print(x)\n",
    "\n",
    "print(x.T)  \n",
    "print(\"####################\")\n",
    "\n",
    "# If shape of x is 3X2. Then shape of x.T is 2X3\n",
    "x = np.array([[1,2],\n",
    "              [3,4],\n",
    "              [5,6]]\n",
    ")\n",
    "print(x)\n",
    "print(x.T)  \n",
    "print(\"####################\")\n",
    "\n",
    "# Note that taking the transpose of a rank 1 array does nothing:\n",
    "v = np.array([1,2,3])\n",
    "print(v)    \n",
    "print(v.T)  "
   ]
  },
  {
   "cell_type": "code",
   "execution_count": null,
   "id": "0e221d7f-cf2a-45bc-8b68-ca2172d6d8d4",
   "metadata": {},
   "outputs": [],
   "source": []
  },
  {
   "cell_type": "markdown",
   "id": "e3686b6e-a7fe-44b9-b479-26760d9fea93",
   "metadata": {},
   "source": [
    "### flatten\n",
    "**flatten**: Convert a multi-dimensional array into a **one-dimensional array**. This is particularly useful when you want to simplify the structure of your data for processing or analysis. \n",
    "- Many ML models (e.g., logistic regression, decision trees) expect 1D feature vectors, not 2D matrices.\n",
    "- Many CNN model requires 1D data \n",
    "- Suppose Temperature Sensor Grid (e.g., Smart Building or IoT Device) is mounted on a building and uses a 3×3 array of temperature sensors placed in a room (ceiling tiles or wall grid). Each number represents temperature (°C or °F) at a specific grid point. We flatten the data and then calculate mean,std_dev, etc\n",
    "- Touchscreen or Tactile Grid Sensor (e.g., Wearable Tech or Robotics): A grid of touch-sensitive elements or capacitive sensors. The readings might show the force or presence of a finger or object.\n",
    "\n",
    "**In all above cases, the data is  spatially distributed**\n"
   ]
  },
  {
   "cell_type": "code",
   "execution_count": 15,
   "id": "57910916-0ed0-423a-b2e8-b21e9a0459c2",
   "metadata": {},
   "outputs": [
    {
     "name": "stdout",
     "output_type": "stream",
     "text": [
      "Original 2D Array:\n",
      " [[1 2 3]\n",
      " [4 5 6]\n",
      " [7 8 9]]\n",
      "\n",
      "Flattened Array:\n",
      " [1 2 3 4 5 6 7 8 9]\n"
     ]
    }
   ],
   "source": [
    "# lets flatten an array using method flatten():\n",
    "# NOTE: This returns copy\n",
    "\n",
    "# Create a 2D NumPy array (matrix)\n",
    "array_2d = np.array([[1, 2, 3],\n",
    "                     [4, 5, 6],\n",
    "                     [7, 8, 9]])\n",
    "\n",
    "print(\"Original 2D Array:\\n\",array_2d)\n",
    "\n",
    "# Flatten the 2D array into a 1D array\n",
    "flattened_array = array_2d.flatten()\n",
    "\n",
    "print(\"\\nFlattened Array:\\n\", flattened_array)"
   ]
  },
  {
   "cell_type": "markdown",
   "id": "d8099754-6a97-4cb3-93e5-36cca246044b",
   "metadata": {},
   "source": [
    "### ravel\n",
    "Function that returns a flattened view of a multi-dimensional array, i.e. it creates a 1D array that shares the same underlying data buffer as the original array, if possible. **Modifying the raveled array can therefore affect the original array**"
   ]
  },
  {
   "cell_type": "code",
   "execution_count": 16,
   "id": "a68bc36f-0c95-4589-9a73-b6c99286b492",
   "metadata": {},
   "outputs": [
    {
     "name": "stdout",
     "output_type": "stream",
     "text": [
      "[1 2 3 4 5 6]\n",
      "[[99  2  3]\n",
      " [ 4  5  6]]\n"
     ]
    }
   ],
   "source": [
    "# ravel: Modifying the raveled array can affect the original array\n",
    "\n",
    "arr = np.array([[1, 2, 3],\n",
    "                [4, 5, 6]])\n",
    "\n",
    "raveled_arr = arr.ravel()\n",
    "print(raveled_arr)\n",
    "\n",
    "# Modifying raveled_arr effects arr\n",
    "raveled_arr[0] = 99\n",
    "print(arr)"
   ]
  },
  {
   "cell_type": "code",
   "execution_count": null,
   "id": "8c3cfd1b-5642-4fea-bc41-eb9b4d021289",
   "metadata": {},
   "outputs": [],
   "source": []
  },
  {
   "cell_type": "markdown",
   "id": "6c4fb272-1424-482e-bf73-0c42db6a9e41",
   "metadata": {},
   "source": [
    "## reshape\n",
    "\n",
    "**reshape()**: The opposite of the flatten() operation in NumPy is **reshape()**, which reshapes the array to a new shape of the array, as long as the total number of elements remains the same.\n",
    "\n",
    "## Can We Reshape Into any Shape?\n",
    "Yes, as long as the elements required for reshaping are equal in both shapes.\n",
    "\n",
    "###### Why reshape?\n",
    "- Most machine learning libraries (like scikit-learn) expect 2D input: shape (n_samples, n_features).\n",
    "```\n",
    "arr = np.array([5, 10, 15, 20])  # Shape = (4,)\n",
    "\n",
    "# Reshape into (4, 1): 4 samples, 1 feature\n",
    "reshaped = arr.reshape(-1, 1)\n",
    "```\n",
    "  \n",
    "- Convert flat image to 2D or 3D format\n",
    "- You need a 2D structure to do matrix multiplication, transpose, or broadcasting.\n",
    "```\n",
    "a = np.array([1, 2, 3])         # Shape = (3,)\n",
    "b = np.array([4, 5, 6])         # Shape = (3,)\n",
    "\n",
    "# Convert to row and column vectors\n",
    "a_row = a.reshape(1, 3)         # Shape = (1, 3)\n",
    "b_col = b.reshape(3, 1)         # Shape = (3, 1)\n",
    "\n",
    "result = np.dot(a_row, b_col)  # Shape = (1,1) → scalar result\n",
    "```"
   ]
  },
  {
   "cell_type": "code",
   "execution_count": 17,
   "id": "3e525096-b103-4dec-bb9c-f9e8ace20f2b",
   "metadata": {},
   "outputs": [
    {
     "name": "stdout",
     "output_type": "stream",
     "text": [
      "Flattened Array: [ 0  1  2  3  4  5  6  7  8  9 10 11 12 13 14 15 16 17]\n",
      "\n",
      "Reshaped Array (2x9):\n",
      "[[ 0  1  2  3  4  5  6  7  8]\n",
      " [ 9 10 11 12 13 14 15 16 17]]\n",
      "<class 'numpy.ndarray'> 2\n",
      "(2, 9)\n"
     ]
    }
   ],
   "source": [
    "# Reshape: lets reshape a flattened array\n",
    "\n",
    "# Create a flattened array of size 18\n",
    "flattened_array = np.arange(18)  # This creates an array with values from 0 to 17\n",
    "print(\"Flattened Array:\",flattened_array)\n",
    "\n",
    "\n",
    "# Reshape into different sizes\n",
    "\n",
    "# 1. Reshape to 2D array of shape (2, 9)\n",
    "reshaped_2d_2x9 = flattened_array.reshape(2, 9)\n",
    "print(\"\\nReshaped Array (2x9):\\n\",reshaped_2d_2x9)\n",
    "print(type(reshaped_2d_2x9), reshaped_2d_2x9.ndim)\n",
    "print(reshaped_2d_2x9.shape) # (2, 9)          \n"
   ]
  },
  {
   "cell_type": "code",
   "execution_count": 18,
   "id": "9b5ecd36-51e5-4604-a380-7cb43d6740df",
   "metadata": {},
   "outputs": [
    {
     "name": "stdout",
     "output_type": "stream",
     "text": [
      "Flattened Array: [ 0  1  2  3  4  5  6  7  8  9 10 11 12 13 14 15 16 17]\n",
      "\n",
      "Reshaped Array (3x6):\n",
      "[[ 0  1  2  3  4  5]\n",
      " [ 6  7  8  9 10 11]\n",
      " [12 13 14 15 16 17]]\n"
     ]
    }
   ],
   "source": [
    "flattened_array = np.arange(18)  # This creates an array with values from 0 to 17\n",
    "print(\"Flattened Array:\",flattened_array)\n",
    "\n",
    "# 2. Reshape to 2D array of shape (3, 6)\n",
    "reshaped_2d_3x6 = flattened_array.reshape(3, 6)\n",
    "print(\"\\nReshaped Array (3x6):\\n\",reshaped_2d_3x6)\n"
   ]
  },
  {
   "cell_type": "code",
   "execution_count": 19,
   "id": "d873683d-86fc-4353-a02a-79330eb5328e",
   "metadata": {},
   "outputs": [
    {
     "name": "stdout",
     "output_type": "stream",
     "text": [
      "Flattened Array: [ 0  1  2  3  4  5  6  7  8  9 10 11 12 13 14 15 16 17]\n",
      "\n",
      "Reshaped Array (6x3):\n",
      "[[ 0  1  2]\n",
      " [ 3  4  5]\n",
      " [ 6  7  8]\n",
      " [ 9 10 11]\n",
      " [12 13 14]\n",
      " [15 16 17]]\n"
     ]
    }
   ],
   "source": [
    "flattened_array = np.arange(18)  # This creates an array with values from 0 to 17\n",
    "print(\"Flattened Array:\",flattened_array)\n",
    "\n",
    "# 3. Reshape to 2D array of shape (6, 3)\n",
    "reshaped_2d_6x3 = flattened_array.reshape(6, 3)\n",
    "print(\"\\nReshaped Array (6x3):\",reshaped_2d_6x3)\n"
   ]
  },
  {
   "cell_type": "code",
   "execution_count": 20,
   "id": "451ce282-49b5-4e20-b1da-2015d2787169",
   "metadata": {},
   "outputs": [
    {
     "name": "stdout",
     "output_type": "stream",
     "text": [
      "Flattened Array: [ 0  1  2  3  4  5  6  7  8  9 10 11 12 13 14 15 16 17]\n",
      "\n",
      "Reshaped Array (2x3x3):\n",
      "[[[ 0  1  2]\n",
      "  [ 3  4  5]\n",
      "  [ 6  7  8]]\n",
      "\n",
      " [[ 9 10 11]\n",
      "  [12 13 14]\n",
      "  [15 16 17]]]\n"
     ]
    }
   ],
   "source": [
    "flattened_array = np.arange(18)  # This creates an array with values from 0 to 17\n",
    "print(\"Flattened Array:\",flattened_array)\n",
    "\n",
    "# 4. Reshape to 3D array of shape (2, 3, 3)\n",
    "reshaped_3d_2x3x3 = flattened_array.reshape(2, 3, 3)\n",
    "print(\"\\nReshaped Array (2x3x3):\\n\",reshaped_3d_2x3x3)"
   ]
  },
  {
   "cell_type": "code",
   "execution_count": 21,
   "id": "c462baad-62fd-4286-badd-6fa98cc7a2f0",
   "metadata": {},
   "outputs": [
    {
     "name": "stdout",
     "output_type": "stream",
     "text": [
      "Flattened Array: [ 0  1  2  3  4  5  6  7  8  9 10 11 12 13 14 15 16 17]\n",
      "\n",
      "Reshaped Array (3x2x3):\n",
      "[[[ 0  1  2]\n",
      "  [ 3  4  5]]\n",
      "\n",
      " [[ 6  7  8]\n",
      "  [ 9 10 11]]\n",
      "\n",
      " [[12 13 14]\n",
      "  [15 16 17]]]\n"
     ]
    }
   ],
   "source": [
    "\n",
    "flattened_array = np.arange(18)  # This creates an array with values from 0 to 17\n",
    "print(\"Flattened Array:\",flattened_array)\n",
    "\n",
    "# 5. Reshape to 3D array of shape (3, 2, 3)\n",
    "reshaped_3d_3x2x3 = flattened_array.reshape(3, 2, 3)\n",
    "print(\"\\nReshaped Array (3x2x3):\")\n",
    "print(reshaped_3d_3x2x3)\n"
   ]
  },
  {
   "cell_type": "code",
   "execution_count": 22,
   "id": "ab651886-0fe8-40bd-b82b-51785cbf5264",
   "metadata": {},
   "outputs": [
    {
     "name": "stdout",
     "output_type": "stream",
     "text": [
      "[[1 2 3 4 5]\n",
      " [4 5 6 7 8]\n",
      " [7 8 9 3 4]]\n",
      "[1 2 3 4 5 4 5 6 7 8 7 8 9 3 4]\n",
      "[[1 2 3]\n",
      " [4 5 4]\n",
      " [5 6 7]\n",
      " [8 7 8]\n",
      " [9 3 4]]\n",
      "[[1 2 3]\n",
      " [4 5 4]\n",
      " [5 6 7]\n",
      " [8 7 8]\n",
      " [9 3 4]]\n"
     ]
    }
   ],
   "source": [
    "# Another way to flatten is to use reshape with argument -1:\n",
    "# -1 would mean that numpy would figure out the shape\n",
    "\n",
    "# 3D array to 1D array:\n",
    "\n",
    "array = np.array([[1, 2, 3, 4, 5],\n",
    "                  [4, 5, 6, 7, 8],\n",
    "                  [7, 8, 9, 3, 4]])\n",
    "print(array)\n",
    "\n",
    "# convert it into 1D\n",
    "reshaped = array.reshape((-1))\n",
    "print(reshaped)\n",
    "#####################\n",
    "\n",
    "# convert it into 2D of shape 5X3\n",
    "reshaped = array.reshape((-1, 3))\n",
    "print(reshaped)\n",
    "#######################\n",
    "\n",
    "# convert it into 2D of shape 5X3\n",
    "reshaped = array.reshape((5, -1))\n",
    "print(reshaped)\n",
    "######################"
   ]
  },
  {
   "cell_type": "markdown",
   "id": "399b6cff-1f3c-42d8-a99b-b8731002d0ad",
   "metadata": {},
   "source": [
    "### vstack"
   ]
  },
  {
   "cell_type": "code",
   "execution_count": 23,
   "id": "569ad070-1f7f-4fa6-882a-9e8f58b88561",
   "metadata": {},
   "outputs": [
    {
     "name": "stdout",
     "output_type": "stream",
     "text": [
      "[[ 10  20  30  40  50]\n",
      " [ 20  40  60  80 100]\n",
      " [ 18  40  50  20  30]\n",
      " [ 90  82  55  40  20]]\n"
     ]
    }
   ],
   "source": [
    "x1 = np.array([10, 20, 30, 40, 50])  \n",
    "x2 = np.array([20, 40, 60, 80, 100])\n",
    "x3 = np.array([18, 40, 50, 20,  30]) \n",
    "x4 = np.array([90, 82, 55, 40, 20]) \n",
    "\n",
    "X = np.vstack((x1, x2, x3, x4))\n",
    "print(X)"
   ]
  }
 ],
 "metadata": {
  "kernelspec": {
   "display_name": "Python 3 (ipykernel)",
   "language": "python",
   "name": "python3"
  },
  "language_info": {
   "codemirror_mode": {
    "name": "ipython",
    "version": 3
   },
   "file_extension": ".py",
   "mimetype": "text/x-python",
   "name": "python",
   "nbconvert_exporter": "python",
   "pygments_lexer": "ipython3",
   "version": "3.12.7"
  }
 },
 "nbformat": 4,
 "nbformat_minor": 5
}
