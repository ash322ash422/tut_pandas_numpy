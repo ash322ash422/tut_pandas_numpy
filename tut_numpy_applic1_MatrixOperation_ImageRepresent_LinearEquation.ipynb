{
  "cells": [
    {
      "cell_type": "markdown",
      "id": "fe0dbc7a",
      "metadata": {
        "id": "fe0dbc7a"
      },
      "source": [
        "# NumPy Applications in Python"
      ]
    },
    {
      "cell_type": "markdown",
      "id": "54c2c05f",
      "metadata": {
        "id": "54c2c05f"
      },
      "source": [
        "## 1. Array Creation and Basic Operations"
      ]
    },
    {
      "cell_type": "code",
      "execution_count": 1,
      "id": "59cbf502",
      "metadata": {
        "colab": {
          "base_uri": "https://localhost:8080/"
        },
        "id": "59cbf502",
        "outputId": "2e24d7ad-b072-49e1-80fb-03cecfc5cfa9"
      },
      "outputs": [
        {
          "name": "stdout",
          "output_type": "stream",
          "text": [
            "Original array: [1 2 3 4 5]\n",
            "Array + 10: [11 12 13 14 15]\n",
            "Array squared: [ 1  4  9 16 25]\n"
          ]
        }
      ],
      "source": [
        "import numpy as np\n",
        "\n",
        "# Create an array and perform basic operations\n",
        "a = np.array([1, 2, 3, 4, 5])\n",
        "print(\"Original array:\", a)\n",
        "print(\"Array + 10:\", a + 10)\n",
        "print(\"Array squared:\", a ** 2)"
      ]
    },
    {
      "cell_type": "markdown",
      "id": "a5d848e3",
      "metadata": {
        "id": "a5d848e3"
      },
      "source": [
        "## 2. Statistical Calculations"
      ]
    },
    {
      "cell_type": "code",
      "execution_count": 2,
      "id": "088ddf2d",
      "metadata": {
        "colab": {
          "base_uri": "https://localhost:8080/"
        },
        "id": "088ddf2d",
        "outputId": "6ca6764a-50d1-4acd-e273-ee1cd52f22ae"
      },
      "outputs": [
        {
          "name": "stdout",
          "output_type": "stream",
          "text": [
            "Mean: 30.0\n",
            "Median: 30.0\n",
            "Standard Deviation: 14.142135623730951\n"
          ]
        }
      ],
      "source": [
        "import numpy as np\n",
        "\n",
        "data = np.array([10, 20, 30, 40, 50])\n",
        "print(\"Mean:\", np.mean(data))\n",
        "print(\"Median:\", np.median(data))\n",
        "print(\"Standard Deviation:\", np.std(data))"
      ]
    },
    {
      "cell_type": "markdown",
      "id": "d1a48335",
      "metadata": {
        "id": "d1a48335"
      },
      "source": [
        "## 3. Matrix Operations"
      ]
    },
    {
      "cell_type": "code",
      "execution_count": 3,
      "id": "2799670f",
      "metadata": {
        "colab": {
          "base_uri": "https://localhost:8080/"
        },
        "id": "2799670f",
        "outputId": "c368fd17-fea4-4ea9-9cf1-998589720425"
      },
      "outputs": [
        {
          "name": "stdout",
          "output_type": "stream",
          "text": [
            "Matrix multiplication:\n",
            " [[19 22]\n",
            " [43 50]]\n"
          ]
        }
      ],
      "source": [
        "import numpy as np\n",
        "\n",
        "A = np.array([[1, 2], [3, 4]])\n",
        "B = np.array([[5, 6], [7, 8]])\n",
        "\n",
        "# Matrix multiplication\n",
        "C = np.dot(A, B)\n",
        "print(\"Matrix multiplication:\\n\", C)"
      ]
    },
    {
      "cell_type": "markdown",
      "id": "058a8b47",
      "metadata": {
        "id": "058a8b47"
      },
      "source": [
        "## 4. Image Representation (Grayscale Simulation)"
      ]
    },
    {
      "cell_type": "code",
      "execution_count": null,
      "id": "40f49bd9",
      "metadata": {},
      "outputs": [],
      "source": [
        "import numpy as np\n",
        "import matplotlib.pyplot as plt\n",
        "\n",
        "# Create a 10x10 grayscale \"image\" with random pixel values\n",
        "image = np.random.randint(0, 256, size=(10, 10))\n",
        "print(f\"image.shape: {image.shape}\")\n",
        "print(f\"image: \\n{image}\")\n",
        "\n",
        "\n",
        "# Show the image using matplotlib\n",
        "plt.imshow(image, cmap='gray')\n",
        "plt.title(\"Random Grayscale Image\")\n",
        "plt.colorbar()\n",
        "plt.show()"
      ]
    },
    {
      "cell_type": "code",
      "execution_count": null,
      "id": "43a65162",
      "metadata": {
        "colab": {
          "base_uri": "https://localhost:8080/",
          "height": 660
        },
        "id": "43a65162",
        "outputId": "02f44639-8cc6-476d-b4f7-d32e4fcafe85"
      },
      "outputs": [
        {
          "name": "stdout",
          "output_type": "stream",
          "text": [
            "image.shape: (10, 10)\n",
            "image: \n",
            "[[ 53 217 248  85  50 211 248 206 247 225]\n",
            " [189 224  57  24 201 242 180  84 162 197]\n",
            " [120  39 111  44 147 137 179  27  55 175]\n",
            " [ 87 244  19 233 158  84  44 245 207  93]\n",
            " [220  56  26 181 238 224 152 127 193  68]\n",
            " [  1 141 235  61  75 102 146  93  64 231]\n",
            " [ 15  68  88 174 149  45   9   9 196 196]\n",
            " [ 45 129 164 210  99 118  19  73   4 189]\n",
            " [250  97  98 182  81 162 218 250 187 231]\n",
            " [242 102 141 125  97 123  99 151 156 218]]\n"
          ]
        },
        {
          "data": {
            "image/png": "[encoded data removed]",
            "text/plain": [
              "<Figure size 640x480 with 2 Axes>"
            ]
          },
          "metadata": {},
          "output_type": "display_data"
        }
      ],
      "source": [
        "## 4. Image Processing: Brightness Adjustment\n",
        "\n",
        "import numpy as np\n",
        "import matplotlib.pyplot as plt\n",
        "\n",
        "# Simulate a grayscale image (values between 0 and 255)\n",
        "image = np.random.randint(0, 256, (50, 50))\n",
        "print(f\"image= \\n{image}\")\n",
        "\n",
        "# Brighten image by 50 (clip to max 255)\n",
        "bright_image = np.clip(image + 50, 0, 255)\n",
        "print(f\"bright_image= \\n{bright_image}\")\n",
        "\n",
        "plt.subplot(1, 2, 1)\n",
        "plt.title(\"Original\")\n",
        "plt.imshow(image, cmap='gray')\n",
        "\n",
        "plt.subplot(1, 2, 2)\n",
        "plt.title(\"Brightened\")\n",
        "plt.imshow(bright_image, cmap='gray')\n",
        "\n",
        "plt.show()"
      ]
    },
    {
      "cell_type": "markdown",
      "id": "80157e1d",
      "metadata": {
        "id": "80157e1d"
      },
      "source": [
        "## 5. Solving Systems of Linear Equations\n",
        "\n",
        "**Example:** Solve the following equations:\n",
        "\n",
        "[ 2x + y = 5\n",
        "\n",
        "x + 3y = 10 ]"
      ]
    },
    {
      "cell_type": "code",
      "execution_count": 6,
      "id": "930da616",
      "metadata": {
        "colab": {
          "base_uri": "https://localhost:8080/"
        },
        "id": "930da616",
        "outputId": "8914d8b1-1823-4383-84ff-d9c67bd776f2"
      },
      "outputs": [
        {
          "name": "stdout",
          "output_type": "stream",
          "text": [
            "Solution [x, y]: [1. 3.]\n"
          ]
        }
      ],
      "source": [
        "import numpy as np\n",
        "\n",
        "# Coefficient matrix\n",
        "A = np.array([[2, 1], [1, 3]])\n",
        "\n",
        "# Right-hand side vector\n",
        "b = np.array([5, 10])\n",
        "\n",
        "# Solve the system\n",
        "solution = np.linalg.solve(A, b)\n",
        "print(\"Solution [x, y]:\", solution)"
      ]
    }
  ],
  "metadata": {
    "colab": {
      "provenance": []
    },
    "kernelspec": {
      "display_name": "Python 3",
      "name": "python3"
    },
    "language_info": {
      "name": "python"
    }
  },
  "nbformat": 4,
  "nbformat_minor": 5
}
