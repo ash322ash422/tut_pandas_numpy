{
 "cells": [
  {
   "cell_type": "code",
   "execution_count": 1,
   "id": "9e744884-a1ad-4d86-9233-caafca873b99",
   "metadata": {},
   "outputs": [
    {
     "name": "stdout",
     "output_type": "stream",
     "text": [
      "Inputs: [2 3]\n",
      "Weights: [0.1 0.2], Bias: 0, Output: 0.6900\n",
      "Weights: [0.1 0.2], Bias: 1, Output: 0.8581\n",
      "Weights: [0.1 0.2], Bias: -2, Output: 0.2315\n",
      "Weights: [ 1. -1.], Bias: 0, Output: 0.2689\n",
      "Weights: [ 1. -1.], Bias: 1, Output: 0.5000\n",
      "Weights: [ 1. -1.], Bias: -2, Output: 0.0474\n",
      "Weights: [-0.5  2. ], Bias: 0, Output: 0.9933\n",
      "Weights: [-0.5  2. ], Bias: 1, Output: 0.9975\n",
      "Weights: [-0.5  2. ], Bias: -2, Output: 0.9526\n"
     ]
    }
   ],
   "source": [
    "import numpy as np\n",
    "\n",
    "# Activation function (sigmoid for simplicity)\n",
    "def sigmoid(x):\n",
    "    return 1 / (1 + np.exp(-x))\n",
    "\n",
    "# Simulate a single neuron\n",
    "def neuron_output(inputs, weights, bias):\n",
    "    z = np.dot(inputs, weights) + bias\n",
    "    output = sigmoid(z)\n",
    "    return output\n",
    "\n",
    "# Input features (e.g., [hours studied, hours slept])\n",
    "inputs = np.array([2, 3])\n",
    "\n",
    "# Try different weights and bias\n",
    "weights_list = [\n",
    "    np.array([0.1, 0.2]),\n",
    "    np.array([1.0, -1.0]),\n",
    "    np.array([-0.5, 2.0])\n",
    "]\n",
    "\n",
    "bias_list = [0, 1, -2]\n",
    "\n",
    "# Display outputs\n",
    "print(\"Inputs:\", inputs)\n",
    "for weights in weights_list:\n",
    "    for bias in bias_list:\n",
    "        output = neuron_output(inputs, weights, bias)\n",
    "        print(f\"Weights: {weights}, Bias: {bias}, Output: {output:.4f}\")\n"
   ]
  },
  {
   "cell_type": "code",
   "execution_count": null,
   "id": "84c06b12-5e1e-4969-aaba-6d286a7fa51f",
   "metadata": {},
   "outputs": [],
   "source": []
  }
 ],
 "metadata": {
  "kernelspec": {
   "display_name": "Python 3 (ipykernel)",
   "language": "python",
   "name": "python3"
  },
  "language_info": {
   "codemirror_mode": {
    "name": "ipython",
    "version": 3
   },
   "file_extension": ".py",
   "mimetype": "text/x-python",
   "name": "python",
   "nbconvert_exporter": "python",
   "pygments_lexer": "ipython3",
   "version": "3.11.2"
  }
 },
 "nbformat": 4,
 "nbformat_minor": 5
}
