{
 "cells": [
  {
   "cell_type": "code",
   "execution_count": 2,
   "id": "b22f34be-1537-4199-ae07-7dd033bbc5a2",
   "metadata": {},
   "outputs": [
    {
     "name": "stdout",
     "output_type": "stream",
     "text": [
      "Farenheit 98.6 to Celsius is 37.00\n",
      "Celsius 37 to Farenheit is 98.60\n",
      "############################################\n",
      "Farenheit [98.6 20.  30. ] to Celsius is [37.   -6.67 -1.11]\n",
      "Celsius [37 20 30] to Farenheit is [98.6 68.  86. ]\n"
     ]
    }
   ],
   "source": [
    "# 1.1 Method1 Convert temperatures (°F ↔ °C) for only 1 value at a time\n",
    "\n",
    "def f_to_c(fahrenheit):\n",
    "    celsius = (fahrenheit - 32) * 5/9\n",
    "    return celsius\n",
    "\n",
    "def c_to_f(celsius):\n",
    "    fahrenheit = (celsius * 9/5) + 32\n",
    "    return fahrenheit\n",
    "\n",
    "temp_f = 98.6\n",
    "temp_c = f_to_c(temp_f)\n",
    "print(f\"Farenheit {temp_f} to Celsius is {temp_c:.2f}\")\n",
    "\n",
    "\n",
    "temp_c = 37\n",
    "temp_f = c_to_f(temp_c)\n",
    "print(f\"Celsius {temp_c} to Farenheit is {temp_f:.2f}\")\n",
    "print(\"############################################\")\n",
    "\n",
    "# -------------------------------\n",
    "# 1.2 Method Convert temperatures (°F ↔ °C) for series of values\n",
    "# -------------------------------\n",
    "import numpy as np\n",
    "list_f =  [98.6, 20, 30]\n",
    "temp_f = np.array(list_f)\n",
    "temp_c = f_to_c(temp_f)\n",
    "print(f\"Farenheit {temp_f} to Celsius is {np.round(temp_c,2)}\")\n",
    "\n",
    "temp_c = np.array([37, 20, 30])\n",
    "temp_f = c_to_f(temp_c)\n",
    "print(f\"Celsius {temp_c} to Farenheit is {np.round(temp_f,2)}\")\n"
   ]
  },
  {
   "cell_type": "code",
   "execution_count": 3,
   "id": "d2d9242d-89d4-465a-b500-588b1ef80244",
   "metadata": {},
   "outputs": [
    {
     "name": "stdout",
     "output_type": "stream",
     "text": [
      "Stress: 1000000.00 Pascals\n",
      "######################\n",
      "Stress: [1000000. 1200000. 1400000.] Pascals\n"
     ]
    }
   ],
   "source": [
    "# 2.1 Calculate Stress (= F / A) for a single value\n",
    "\n",
    "\n",
    "def stress(force, area):\n",
    "    return force / area\n",
    "\n",
    "force_n = 5000  # Newtons\n",
    "area_m2 = 0.005  # m^2\n",
    "\n",
    "stress_pa = stress(force_n, area_m2)\n",
    "print(f\"Stress: {stress_pa:.2f} Pascals\")\n",
    "print(\"######################\")\n",
    "\n",
    "\n",
    "# 2.2 Calculate Stress (= F / A) for series of values\n",
    "\n",
    "\n",
    "force_n = np.array([5000,6000,7000])  # Newtons\n",
    "area_m2 = np.array([0.005,0.005,0.005])  # m^2\n",
    "\n",
    "stress_pa = stress(force_n, area_m2)\n",
    "print(f\"Stress: {np.round(stress_pa,2)} Pascals\")"
   ]
  },
  {
   "cell_type": "code",
   "execution_count": 5,
   "id": "38460d01-3064-4cde-9527-88a872131f6a",
   "metadata": {},
   "outputs": [
    {
     "name": "stdout",
     "output_type": "stream",
     "text": [
      "Side A: 3\n",
      "Side B: 4\n",
      "Hypotenuse (Diagonal): 5.0\n",
      "######################\n",
      "Side A: [3 5 8 6]\n",
      "Side B: [ 4 12 15  8]\n",
      "Hypotenuse (Diagonal): [ 5. 13. 17. 10.]\n"
     ]
    }
   ],
   "source": [
    "# 3. pythagorean Theorom: compute hypotenuse\n",
    "# a^2 + b^2 = c^2\n",
    "\n",
    "# STEP1: lets calculate for 1 value only\n",
    "def hypotenuse(a,b):\n",
    "    c = np.sqrt(a**2 + b**2)\n",
    "    return c\n",
    "    \n",
    "# Example side lengths\n",
    "a = 3\n",
    "b = 4\n",
    "\n",
    "# Calculate the hypotenuse using Pythagorean theorem\n",
    "c = hypotenuse(a,b)\n",
    "\n",
    "print(\"Side A:\", a)\n",
    "print(\"Side B:\", b)\n",
    "print(\"Hypotenuse (Diagonal):\", c)\n",
    "print(\"######################\")\n",
    "\n",
    "# STEP2: Calculate for series of values\n",
    "# Example side length\n",
    "a = np.array([3, 5, 8, 6])\n",
    "b = np.array([4, 12, 15, 8])\n",
    "\n",
    "# Calculate the hypotenuse using Pythagorean theorem\n",
    "c = hypotenuse(a,b)\n",
    "\n",
    "print(\"Side A:\", a)\n",
    "print(\"Side B:\", b)\n",
    "print(\"Hypotenuse (Diagonal):\", c)\n"
   ]
  },
  {
   "cell_type": "code",
   "execution_count": 8,
   "id": "e1c424f1-043f-4c62-901a-6870c15b50a4",
   "metadata": {},
   "outputs": [
    {
     "name": "stdout",
     "output_type": "stream",
     "text": [
      "Resistance: 6.00 Ohms\n"
     ]
    }
   ],
   "source": [
    "# LIKEWISE, you can calculate the resistance below for series of values in V,I\n",
    "\n",
    "# 4. Compute electrical resistance (Ohm's Law)\n",
    "\n",
    "\n",
    "# Ohm's Law: V = I * R  =>  R = V / I\n",
    "\n",
    "def resistance(voltage, current):\n",
    "    return voltage / current\n",
    "\n",
    "v = 12  # Volts\n",
    "i = 2   # Amps\n",
    "\n",
    "resistance_ohms = resistance(v, i)\n",
    "print(f\"Resistance: {resistance_ohms:.2f} Ohms\")"
   ]
  },
  {
   "cell_type": "code",
   "execution_count": 6,
   "id": "d2b5d847-fb88-4645-a103-6f7a73dbda0e",
   "metadata": {},
   "outputs": [
    {
     "name": "stdout",
     "output_type": "stream",
     "text": [
      "BMI: 22.86\n"
     ]
    }
   ],
   "source": [
    "# 5. Calculate BMI (Biomedical Engineering)\n",
    "\n",
    "# BMI = weight (kg) / [height (m)]^2\n",
    "\n",
    "def bmi(weight_kg, height_m):\n",
    "    return weight_kg / (height_m ** 2)\n",
    "\n",
    "wt = 70  # kg\n",
    "ht = 1.75  # meters\n",
    "\n",
    "bmi_value = bmi(wt, ht)\n",
    "print(f\"BMI: {bmi_value:.2f}\")"
   ]
  },
  {
   "cell_type": "code",
   "execution_count": null,
   "id": "d780a1e9-a12d-4c2e-9543-b2a36a140522",
   "metadata": {},
   "outputs": [],
   "source": []
  }
 ],
 "metadata": {
  "kernelspec": {
   "display_name": "Python 3 (ipykernel)",
   "language": "python",
   "name": "python3"
  },
  "language_info": {
   "codemirror_mode": {
    "name": "ipython",
    "version": 3
   },
   "file_extension": ".py",
   "mimetype": "text/x-python",
   "name": "python",
   "nbconvert_exporter": "python",
   "pygments_lexer": "ipython3",
   "version": "3.12.7"
  }
 },
 "nbformat": 4,
 "nbformat_minor": 5
}
