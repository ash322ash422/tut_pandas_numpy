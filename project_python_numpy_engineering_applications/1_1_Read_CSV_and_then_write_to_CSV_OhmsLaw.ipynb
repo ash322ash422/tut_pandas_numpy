{
 "cells": [
  {
   "cell_type": "markdown",
   "id": "f8525367-fd6e-4373-95a4-29dc7395bbc0",
   "metadata": {},
   "source": [
    "## EXAMPLE1: Read CSV, perform computation and display result \n",
    "Most uur data comes in CSV file. So lets understand how to read CSV file"
   ]
  },
  {
   "cell_type": "code",
   "execution_count": 11,
   "id": "a5015a1c-a142-4c88-8bd1-3c9c5d88b8b9",
   "metadata": {},
   "outputs": [
    {
     "name": "stdout",
     "output_type": "stream",
     "text": [
      "Resistance:\n",
      "[3.   3.   3.33 3.33 3.   2.73 3.64 2.63]\n"
     ]
    }
   ],
   "source": [
    "import pandas as pd\n",
    "import numpy as np\n",
    "\n",
    "df = pd.read_csv(\"ohms_law.csv\")\n",
    "# print(df)\n",
    "\n",
    "# convert it into numpy array\n",
    "v = np.array(df['voltage'])\n",
    "i = np.array(df['current'])\n",
    "# print(f\"voltage: {v}\")\n",
    "# print(f\"current: {i}\")\n",
    "\n",
    "\n",
    "def resistance(voltage, current):\n",
    "    return voltage / current\n",
    "\n",
    "r = resistance(v, i)\n",
    "r = np.round(r,2)\n",
    "print(f\"Resistance:\\n{r}\")"
   ]
  },
  {
   "cell_type": "markdown",
   "id": "f2d52d82-eb26-4baa-9de8-fce93af18eca",
   "metadata": {},
   "source": [
    "## EXAMPLE2: Read CSV, perform computation and store result in seperate CSV"
   ]
  },
  {
   "cell_type": "code",
   "execution_count": 13,
   "id": "63f73421-82b8-4fe1-98fd-8ebd44c0439a",
   "metadata": {},
   "outputs": [
    {
     "name": "stdout",
     "output_type": "stream",
     "text": [
      "Resistance: [3.   3.   3.33 3.33 3.   2.73 3.64 2.63]\n",
      "mean: 3.0825\n",
      "Resistance calculated and saved to 'junk.csv'\n"
     ]
    }
   ],
   "source": [
    "import pandas as pd\n",
    "import numpy as np\n",
    "\n",
    "df = pd.read_csv(\"ohms_law.csv\")\n",
    "\n",
    "# Convert columns to NumPy arrays\n",
    "v = np.array(df['voltage'])\n",
    "i = np.array(df['current'])\n",
    "\n",
    "def resistance(voltage, current):\n",
    "    return voltage / current\n",
    "\n",
    "r = resistance(v, i)\n",
    "r = np.round(r,2)\n",
    "print(f\"Resistance: {r}\")\n",
    "\n",
    "#lets compute mean,etc\n",
    "mean = np.mean(r)\n",
    "print(f\"mean: {mean}\")\n",
    "\n",
    "df['resistance'] = r # Add resistance as a new column to the DataFrame\n",
    "df.to_csv(\"junk.csv\", index=False) # Save to new CSV\n",
    "\n",
    "print(\"Resistance calculated and saved to 'junk.csv'\")"
   ]
  },
  {
   "cell_type": "code",
   "execution_count": null,
   "id": "0dde4115-10c5-42df-beda-5638afad0d8c",
   "metadata": {},
   "outputs": [],
   "source": []
  }
 ],
 "metadata": {
  "kernelspec": {
   "display_name": "Python 3 (ipykernel)",
   "language": "python",
   "name": "python3"
  },
  "language_info": {
   "codemirror_mode": {
    "name": "ipython",
    "version": 3
   },
   "file_extension": ".py",
   "mimetype": "text/x-python",
   "name": "python",
   "nbconvert_exporter": "python",
   "pygments_lexer": "ipython3",
   "version": "3.12.7"
  }
 },
 "nbformat": 4,
 "nbformat_minor": 5
}
