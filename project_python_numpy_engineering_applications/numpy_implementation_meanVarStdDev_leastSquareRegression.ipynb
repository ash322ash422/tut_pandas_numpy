{
 "cells": [
  {
   "cell_type": "markdown",
   "metadata": {},
   "source": [
    "## Basic Statistics Formulas\n",
    "\n",
    "---\n",
    "\n",
    "**Mean**\n",
    "\n",
    "The mean (average) is:\n",
    "\n",
    "$\\mu = \\frac{1}{n} \\sum_{i=1}^{n} x_i$\n",
    "\n",
    "---\n",
    "\n",
    "**Variance (Population)**\n",
    "\n",
    "The variance is:\n",
    "\n",
    "$\\sigma^2 = \\frac{1}{n} \\sum_{i=1}^{n} (x_i - \\mu)^2$\n",
    "\n",
    "---\n",
    "\n",
    "**Standard Deviation**\n",
    "\n",
    "The standard deviation is the square root of the variance:\n",
    "\n",
    "$\\sigma = \\sqrt{\\sigma^2}$\n",
    "\n",
    "---\n",
    "\n",
    "**Where:**\n",
    "\n",
    "- $n$ is the number of data points  \n",
    "- $x_i$ is each individual data point  \n",
    "- $\\mu$ is the mean  \n",
    "- $\\sigma^2$ is the variance  \n",
    "- $\\sigma$ is the standard deviation\n"
   ]
  },
  {
   "cell_type": "code",
   "execution_count": 2,
   "metadata": {
    "colab": {
     "base_uri": "https://localhost:8080/"
    },
    "id": "t1Ee2cx-gjWb",
    "outputId": "b96d9d68-7bad-4c47-d5bc-6673bf529063"
   },
   "outputs": [
    {
     "name": "stdout",
     "output_type": "stream",
     "text": [
      "Mean: 2.4454545454545453\n",
      "Variance: 0.02429752066115703\n",
      "Standard Deviation: 0.15587661999529318\n"
     ]
    }
   ],
   "source": [
    "# implement formula to calculate mean, variance and standard deviation\n",
    "\n",
    "import numpy as np\n",
    "\n",
    "# Sample data: e.g., vibration measurements in mm\n",
    "data = np.array([2.3, 2.5, 2.4, 2.6, 2.7, 2.4, 2.5, 2.6, 2.2, 2.5, 2.2])\n",
    "\n",
    "# Step 1: Calculate mean\n",
    "mean = np.mean(data)\n",
    "\n",
    "# Step 2: Calculate variance (population)\n",
    "variance = np.sum((data - mean) ** 2) / len(data)\n",
    "\n",
    "# Step 3: Calculate standard deviation\n",
    "std_dev = np.sqrt(variance)\n",
    "\n",
    "print(\"Mean:\", mean)\n",
    "print(\"Variance:\", variance)\n",
    "print(\"Standard Deviation:\", std_dev)\n"
   ]
  },
  {
   "cell_type": "markdown",
   "metadata": {
    "id": "r72-goJ6ksSv"
   },
   "source": [
    "## Least Squares Linear Regression Equations\n",
    "\n",
    "The goal is to fit a line of the form:\n",
    "\n",
    "$y = mx + c$\n",
    "\n",
    "where:  \n",
    "- $m$ is the slope of the line.  \n",
    "- $c$ is the intercept.\n",
    "\n",
    "---\n",
    "\n",
    "### **Formulas**\n",
    "\n",
    "**Slope ($m$)**\n",
    "\n",
    "$m = \\frac{n \\sum xy - \\sum x \\sum y}{n \\sum x^2 - (\\sum x)^2}$\n",
    "\n",
    "---\n",
    "\n",
    "**Intercept ($c$)**\n",
    "\n",
    "$c = \\frac{\\sum y - m \\sum x}{n}$\n",
    "\n",
    "---\n",
    "\n",
    "Where:  \n",
    "- $n$ = number of data points  \n",
    "- $x$ = independent variable (e.g., strain)  \n",
    "- $y$ = dependent variable (e.g., stress)\n"
   ]
  },
  {
   "cell_type": "code",
   "execution_count": 4,
   "metadata": {
    "colab": {
     "base_uri": "https://localhost:8080/"
    },
    "id": "n9XjItKyjKTY",
    "outputId": "0452fead-8097-428a-b8d1-3b9bd45dd063"
   },
   "outputs": [
    {
     "name": "stdout",
     "output_type": "stream",
     "text": [
      "Slope (Young's Modulus) = 2.00e+05 MPa\n",
      "Intercept = 2.00 MPa\n",
      "Predicted Stress at Strain 0.0035 = 702.00 MPa\n"
     ]
    }
   ],
   "source": [
    "# Suppose you measure the stress (force per unit area) and the corresponding strain (deformation) in a material test.\n",
    "# The relationship is approximately linear in the elastic region:\n",
    "\n",
    "# Stress = E * Strain\n",
    "# where E = Young’s Modulus (slope of the line)\n",
    "\n",
    "# Goal: Given a set of (strain, stress) pairs, fit a straight line:\n",
    "#  y=mx+c , using Least Squares Method\n",
    "\n",
    "import numpy as np\n",
    "\n",
    "def linear_regression(x_values, y_values):\n",
    "    \"\"\"\n",
    "    Perform simple linear regression (least squares) on two lists.\n",
    "\n",
    "    Args:\n",
    "        x_values (list of float): Independent variable (e.g., strain)\n",
    "        y_values (list of float): Dependent variable (e.g., stress)\n",
    "\n",
    "    Returns:\n",
    "        slope (float): Slope of the best fit line\n",
    "        intercept (float): Intercept of the best fit line\n",
    "    \"\"\"\n",
    "    # Calculate sums\n",
    "    n = len(x_values)\n",
    "    sum_x = np.sum(x_values)\n",
    "    sum_y = np.sum(y_values)\n",
    "    sum_xy = np.sum(x_values * y_values)\n",
    "    sum_x2 = np.sum(x_values**2)\n",
    "    \n",
    "    # Least squares formulas\n",
    "    m = (n * sum_xy - sum_x * sum_y) / (n * sum_x2 - sum_x**2)\n",
    "    c = (sum_y - m * sum_x) / n\n",
    "\n",
    "    return m, c\n",
    "\n",
    "\n",
    "\n",
    "# Example data\n",
    "x = np.array([0.001, 0.002, 0.003, 0.004, 0.005]) # strain\n",
    "y = np.array([200, 400, 610, 800, 1000]) # stress\n",
    "\n",
    "\n",
    "m, c = linear_regression(x, y)\n",
    "\n",
    "print(f\"Slope (Young's Modulus) = {m:.2e} MPa\")\n",
    "print(f\"Intercept = {c:.2f} MPa\")\n",
    "\n",
    "# Predict\n",
    "new_strain = 0.0035\n",
    "predicted_stress = m * new_strain + c\n",
    "print(f\"Predicted Stress at Strain {new_strain} = {predicted_stress:.2f} MPa\")\n"
   ]
  },
  {
   "cell_type": "code",
   "execution_count": null,
   "metadata": {},
   "outputs": [],
   "source": []
  }
 ],
 "metadata": {
  "colab": {
   "provenance": []
  },
  "kernelspec": {
   "display_name": "Python 3 (ipykernel)",
   "language": "python",
   "name": "python3"
  },
  "language_info": {
   "codemirror_mode": {
    "name": "ipython",
    "version": 3
   },
   "file_extension": ".py",
   "mimetype": "text/x-python",
   "name": "python",
   "nbconvert_exporter": "python",
   "pygments_lexer": "ipython3",
   "version": "3.12.7"
  }
 },
 "nbformat": 4,
 "nbformat_minor": 4
}
