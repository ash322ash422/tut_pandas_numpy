{
 "cells": [
  {
   "cell_type": "markdown",
   "id": "590c5189",
   "metadata": {},
   "source": [
    "#### Statistics\n",
    "- **Prerequisite**: you should know the definition of **mean, median, mode, standard deviation, outliers, percentile, correlation coefficient** between variables\n",
    "- Pandas dataframe allows us to  compute like mean, median, variance, standard deviation, minimum, maximum, etc"
   ]
  },
  {
   "cell_type": "code",
   "execution_count": 2,
   "id": "eeac7e81-4866-4be2-9189-743d1683c30a",
   "metadata": {},
   "outputs": [
    {
     "name": "stderr",
     "output_type": "stream",
     "text": [
      "C:\\Users\\hi\\AppData\\Local\\Temp\\ipykernel_14916\\3757733920.py:1: DeprecationWarning: \n",
      "Pyarrow will become a required dependency of pandas in the next major release of pandas (pandas 3.0),\n",
      "(to allow more performant data types, such as the Arrow string type, and better interoperability with other libraries)\n",
      "but was not found to be installed on your system.\n",
      "If this would cause problems for you,\n",
      "please provide us feedback at https://github.com/pandas-dev/pandas/issues/54466\n",
      "        \n",
      "  import pandas as pd\n"
     ]
    }
   ],
   "source": [
    "import pandas as pd\n",
    "\n",
    "import warnings\n",
    "warnings.filterwarnings(action='ignore')\n",
    "\n",
    "data_file = 'data_tips.csv' # make sure you have this file"
   ]
  },
  {
   "cell_type": "markdown",
   "id": "26e30055-c610-41af-b314-7d7aa275d809",
   "metadata": {},
   "source": [
    "## Dataframe"
   ]
  },
  {
   "cell_type": "code",
   "execution_count": 3,
   "id": "26eef7b4-85bc-4e60-bf46-41c3ff2af8e6",
   "metadata": {},
   "outputs": [
    {
     "name": "stdout",
     "output_type": "stream",
     "text": [
      "     total_bill   tip     sex smoker   day    time  size\n",
      "0         16.99  1.01  Female     No   Sun  Dinner     2\n",
      "1         10.34  1.66    Male     No   Sun  Dinner     3\n",
      "2         21.01  3.50    Male     No   Sun  Dinner     3\n",
      "3         23.68  3.31    Male     No   Sun  Dinner     2\n",
      "4         24.59  3.61  Female     No   Sun  Dinner     4\n",
      "..          ...   ...     ...    ...   ...     ...   ...\n",
      "239       29.03  5.92    Male     No   Sat  Dinner     3\n",
      "240       27.18  2.00  Female    Yes   Sat  Dinner     2\n",
      "241       22.67  2.00    Male    Yes   Sat  Dinner     2\n",
      "242       17.82  1.75    Male     No   Sat  Dinner     2\n",
      "243       18.78  3.00  Female     No  Thur  Dinner     2\n",
      "\n",
      "[244 rows x 7 columns]\n",
      "(244, 7)\n"
     ]
    }
   ],
   "source": [
    "# important ones\n",
    "df = pd.read_csv('data_tips.csv')\n",
    "\n",
    "print(df)\n",
    "\n",
    "# Lets find how many columns/rows in df\n",
    "print(df.shape) # (rows,columns)\n",
    "\n",
    "# TODO: Add description of tips"
   ]
  },
  {
   "cell_type": "code",
   "execution_count": 4,
   "id": "4178a444-03c3-434e-bfa9-036530c26ff5",
   "metadata": {},
   "outputs": [
    {
     "name": "stdout",
     "output_type": "stream",
     "text": [
      "<class 'pandas.core.frame.DataFrame'>\n",
      "RangeIndex: 244 entries, 0 to 243\n",
      "Data columns (total 7 columns):\n",
      " #   Column      Non-Null Count  Dtype  \n",
      "---  ------      --------------  -----  \n",
      " 0   total_bill  244 non-null    float64\n",
      " 1   tip         244 non-null    float64\n",
      " 2   sex         244 non-null    object \n",
      " 3   smoker      244 non-null    object \n",
      " 4   day         244 non-null    object \n",
      " 5   time        244 non-null    object \n",
      " 6   size        244 non-null    int64  \n",
      "dtypes: float64(2), int64(1), object(4)\n",
      "memory usage: 13.5+ KB\n",
      "None\n"
     ]
    }
   ],
   "source": [
    "# give info about columns\n",
    "print(df.info())"
   ]
  },
  {
   "cell_type": "code",
   "execution_count": 5,
   "id": "99a72079-d502-4fd0-84f0-135d1ff70aab",
   "metadata": {},
   "outputs": [
    {
     "name": "stdout",
     "output_type": "stream",
     "text": [
      "       total_bill         tip        size\n",
      "count  244.000000  244.000000  244.000000\n",
      "mean    19.785943    2.998279    2.569672\n",
      "std      8.902412    1.383638    0.951100\n",
      "min      3.070000    1.000000    1.000000\n",
      "25%     13.347500    2.000000    2.000000\n",
      "50%     17.795000    2.900000    2.000000\n",
      "75%     24.127500    3.562500    3.000000\n",
      "max     50.810000   10.000000    6.000000\n"
     ]
    }
   ],
   "source": [
    "# give me the stats on each numerics columns\n",
    "columns = ['total_bill', 'tip', 'size'] # numeric columns\n",
    "print(df[columns].describe()) "
   ]
  },
  {
   "cell_type": "code",
   "execution_count": 6,
   "id": "4c671f03-d9ee-4e38-8ccb-46ab2ad12bf3",
   "metadata": {},
   "outputs": [
    {
     "name": "stdout",
     "output_type": "stream",
     "text": [
      "19.78594262295082\n",
      "17.795\n",
      "8.902411954856856\n",
      "3.07\n",
      "50.81\n",
      "4827.77\n",
      "2.0\n"
     ]
    }
   ],
   "source": [
    "# Lets do Column-wise Statistics:\n",
    "\n",
    "# step1: lets do for 1 numeric column total_bill \n",
    "\n",
    "print( df['total_bill'].mean()   )\n",
    "print( df['total_bill'].median() )\n",
    "print( df['total_bill'].std()    )\n",
    "print( df['total_bill'].min()    )\n",
    "print( df['total_bill'].max()    )\n",
    "print( df['total_bill'].sum()    )\n",
    "\n",
    "#####################\n",
    "# lets find the most common ocurring tip size for column tip\n",
    "print( df['tip'].mode().iloc[0]  )"
   ]
  },
  {
   "cell_type": "code",
   "execution_count": 7,
   "id": "bdc864bd-ae6b-4db8-b0dd-e8cc8a490347",
   "metadata": {},
   "outputs": [
    {
     "name": "stdout",
     "output_type": "stream",
     "text": [
      "stats for total_bill\n",
      "19.78594262295082\n",
      "17.795\n",
      "8.902411954856856\n",
      "3.07\n",
      "50.81\n",
      "4827.77\n",
      "---DONE---\n",
      "\n",
      "stats for tip\n",
      "2.99827868852459\n",
      "2.9\n",
      "1.3836381890011822\n",
      "1.0\n",
      "10.0\n",
      "731.5799999999999\n",
      "---DONE---\n",
      "\n",
      "stats for size\n",
      "2.569672131147541\n",
      "2.0\n",
      "0.9510998047322344\n",
      "1\n",
      "6\n",
      "627\n",
      "---DONE---\n",
      "\n"
     ]
    }
   ],
   "source": [
    "# step2: lets do for multiple numeric columns = ['total_bill', 'tip', 'size'] by using for loop\n",
    "columns = ['total_bill', 'tip', 'size']\n",
    "for col in columns:\n",
    "    print(f\"stats for {col}\")\n",
    "    print( df[col].mean()   )\n",
    "    print( df[col].median() )\n",
    "    print( df[col].std()    )\n",
    "    print( df[col].min()    )\n",
    "    print( df[col].max()    )\n",
    "    print( df[col].sum()    )\n",
    "    print(f\"---DONE---\\n\")\n"
   ]
  },
  {
   "cell_type": "code",
   "execution_count": null,
   "id": "5121aa63-e40b-4cd8-9a36-5e7e163663e7",
   "metadata": {},
   "outputs": [],
   "source": []
  },
  {
   "cell_type": "code",
   "execution_count": null,
   "id": "7a52cdd4-ccb1-4fc3-9020-7a3d040f97a5",
   "metadata": {},
   "outputs": [],
   "source": []
  },
  {
   "cell_type": "code",
   "execution_count": null,
   "id": "310405d0-1d3f-41e8-9895-73bceb56b4b0",
   "metadata": {},
   "outputs": [],
   "source": []
  },
  {
   "cell_type": "code",
   "execution_count": 8,
   "id": "9619007c-1bfc-433c-86e7-eed83665bf4f",
   "metadata": {},
   "outputs": [
    {
     "name": "stdout",
     "output_type": "stream",
     "text": [
      "sex       2\n",
      "smoker    2\n",
      "day       4\n",
      "time      2\n",
      "size      6\n",
      "dtype: int64\n",
      "###########################\n",
      "sex:\n",
      "['Female' 'Male']\n",
      "--------\n",
      "\n",
      "smoker:\n",
      "['No' 'Yes']\n",
      "--------\n",
      "\n",
      "day:\n",
      "['Sun' 'Sat' 'Thur' 'Fri']\n",
      "--------\n",
      "\n",
      "time:\n",
      "['Dinner' 'Lunch']\n",
      "--------\n",
      "\n",
      "size:\n",
      "[2 3 4 1 6 5]\n",
      "--------\n",
      "\n",
      "###########################\n",
      "sex\n",
      "Male      157\n",
      "Female     87\n",
      "Name: count, dtype: int64\n",
      "***************\n",
      "\n",
      "smoker\n",
      "No     151\n",
      "Yes     93\n",
      "Name: count, dtype: int64\n",
      "***************\n",
      "\n",
      "day\n",
      "Sat     87\n",
      "Sun     76\n",
      "Thur    62\n",
      "Fri     19\n",
      "Name: count, dtype: int64\n",
      "***************\n",
      "\n",
      "time\n",
      "Dinner    176\n",
      "Lunch      68\n",
      "Name: count, dtype: int64\n",
      "***************\n",
      "\n",
      "size\n",
      "2    156\n",
      "3     38\n",
      "4     37\n",
      "5      5\n",
      "1      4\n",
      "6      4\n",
      "Name: count, dtype: int64\n",
      "***************\n",
      "\n"
     ]
    }
   ],
   "source": [
    "# show me the unique counts and the values for columns = ['sex', 'smoker', 'day', 'time', 'size']\n",
    "\n",
    "# step1: The unique counts\n",
    "columns = ['sex', 'smoker', 'day', 'time', 'size']\n",
    "unique_counts = df[columns].nunique()\n",
    "print(unique_counts)\n",
    "print(\"###########################\")\n",
    "\n",
    "# step2: The unique values\n",
    "for col in columns:\n",
    "    print(f\"{col}:\")\n",
    "    print(df[col].unique())\n",
    "    print(\"--------\\n\")\n",
    "print(\"###########################\")\n",
    "\n",
    "# step3: Now show me the individual value counts\n",
    "for col in columns:\n",
    "    print(df[col].value_counts())\n",
    "    print(\"***************\\n\")"
   ]
  },
  {
   "cell_type": "code",
   "execution_count": null,
   "id": "6d9e96b8-4ccc-4721-9403-4fc9025059fe",
   "metadata": {},
   "outputs": [],
   "source": []
  },
  {
   "cell_type": "code",
   "execution_count": 9,
   "id": "9c106a23-9a20-4277-994f-dba81123ff07",
   "metadata": {},
   "outputs": [
    {
     "name": "stdout",
     "output_type": "stream",
     "text": [
      "Q1: 13.3475\n",
      "Q2: 17.795\n",
      "Q3: 24.127499999999998\n",
      "IQR: 10.779999999999998\n",
      "lower bound: -2.8224999999999945\n",
      "upper bound: 40.29749999999999\n",
      "Total number of outliers: 9\n",
      "Outlier Data Points:\n",
      "     total_bill    tip     sex smoker   day    time  size\n",
      "59        48.27   6.73    Male     No   Sat  Dinner     4\n",
      "102       44.30   2.50  Female    Yes   Sat  Dinner     3\n",
      "142       41.19   5.00    Male     No  Thur   Lunch     5\n",
      "156       48.17   5.00    Male     No   Sun  Dinner     6\n",
      "170       50.81  10.00    Male    Yes   Sat  Dinner     3\n",
      "182       45.35   3.50    Male    Yes   Sun  Dinner     3\n",
      "184       40.55   3.00    Male    Yes   Sun  Dinner     2\n",
      "197       43.11   5.00  Female    Yes  Thur   Lunch     4\n",
      "212       48.33   9.00    Male     No   Sat  Dinner     4\n"
     ]
    }
   ],
   "source": [
    "# Now I want to find Q1, Q2, Q3, IQR and outliers.\n",
    "\n",
    "# Inter - Quantile Range (IQR - For Total Bill)\n",
    "\n",
    "Q1 = df['total_bill'].quantile(0.25)\n",
    "Q2 = df['total_bill'].quantile(0.50)\n",
    "Q3 = df['total_bill'].quantile(0.75)\n",
    "print(f\"Q1: {Q1}\")\n",
    "print(f\"Q2: {Q2}\")\n",
    "print(f\"Q3: {Q3}\")\n",
    "\n",
    "\n",
    "IQR = Q3 - Q1\n",
    "print(f\"IQR: {IQR}\")\n",
    "\n",
    "# Define the bounds for outliers\n",
    "lower_bound = Q1 - 1.5 * IQR \n",
    "upper_bound = Q3 + 1.5 * IQR \n",
    "print(f\"lower bound: {lower_bound}\")\n",
    "print(f\"upper bound: {upper_bound}\")\n",
    "\n",
    "# Find the outliers\n",
    "mask = (df['total_bill'] < lower_bound) | (df['total_bill'] > upper_bound)\n",
    "df_outliers = df[mask]\n",
    "\n",
    "# Display the outliers\n",
    "print(f\"Total number of outliers: {len(df_outliers.index)}\")\n",
    "print(f\"Outlier Data Points:\\n{df_outliers}\")"
   ]
  },
  {
   "cell_type": "code",
   "execution_count": null,
   "id": "5a890e4e-a212-4df3-9518-191bd4b38d13",
   "metadata": {},
   "outputs": [],
   "source": []
  },
  {
   "cell_type": "code",
   "execution_count": null,
   "id": "53e96f4a-63f9-4bb0-94c2-79b41959d4eb",
   "metadata": {},
   "outputs": [],
   "source": [
    "# Now I want to find Q1, Q2, Q3, IQR and outliers for each column: total_bill and tip\n",
    "\n",
    "# Inter - Quantile Range (IQR - For Total Bill)\n",
    "col = 'tip' # total_bill\n",
    "Q1 = df[col].quantile(0.25)\n",
    "Q2 = df[col].quantile(0.50)\n",
    "Q3 = df[col].quantile(0.75)\n",
    "print(f\"Q1: {Q1}\")\n",
    "print(f\"Q2: {Q2}\")\n",
    "print(f\"Q3: {Q3}\")\n",
    "\n",
    "\n",
    "IQR = Q3 - Q1\n",
    "print(f\"IQR: {IQR}\")\n",
    "\n",
    "# Define the bounds for outliers\n",
    "lower_bound = Q1 - 1.5 * IQR \n",
    "upper_bound = Q3 + 1.5 * IQR \n",
    "print(f\"lower bound: {lower_bound}\")\n",
    "print(f\"upper bound: {upper_bound}\")\n",
    "\n",
    "# Find the outliers\n",
    "mask = (df[col] < lower_bound) | (df[col] > upper_bound)\n",
    "df_outliers = df[mask]\n",
    "\n",
    "# Display the outliers\n",
    "print(f\"Total number of outliers: {len(df_outliers.index)}\")\n",
    "print(f\"Outlier Data Points:\\n{df_outliers}\")"
   ]
  },
  {
   "cell_type": "code",
   "execution_count": null,
   "id": "e3d64eb1-2320-4223-8fe0-36659d3711ec",
   "metadata": {},
   "outputs": [],
   "source": []
  },
  {
   "cell_type": "code",
   "execution_count": 11,
   "id": "991cf44c-5108-4493-8794-97dab8911c07",
   "metadata": {},
   "outputs": [
    {
     "name": "stdout",
     "output_type": "stream",
     "text": [
      "total_bill    0\n",
      "tip           0\n",
      "sex           0\n",
      "smoker        0\n",
      "day           0\n",
      "time          0\n",
      "size          0\n",
      "dtype: int64\n"
     ]
    }
   ],
   "source": [
    "# Checking for Null Values\n",
    "print(df.isnull().sum())"
   ]
  },
  {
   "cell_type": "code",
   "execution_count": null,
   "id": "cd757e69-47bf-4a23-a527-0fd8adc6137e",
   "metadata": {},
   "outputs": [],
   "source": []
  },
  {
   "cell_type": "code",
   "execution_count": 12,
   "id": "5f91c754-fd0e-431f-873a-429c3d4ea6b6",
   "metadata": {},
   "outputs": [
    {
     "name": "stdout",
     "output_type": "stream",
     "text": [
      "Correlation matrix of numeric columns:\n",
      "                  tip  total_bill      size\n",
      "tip         1.000000    0.675734  0.489299\n",
      "total_bill  0.675734    1.000000  0.598315\n",
      "size        0.489299    0.598315  1.000000\n"
     ]
    }
   ],
   "source": [
    "# I want to find correlation coeff. between features in tips dataset: -1 to 0 to +1\n",
    "\n",
    "# Select numeric columns\n",
    "numeric_cols = ['tip', 'total_bill', 'size']\n",
    "\n",
    "correlation_matrix = df[numeric_cols].corr()\n",
    "print(\"Correlation matrix of numeric columns:\\n\",correlation_matrix)"
   ]
  },
  {
   "cell_type": "code",
   "execution_count": null,
   "id": "87e7b2c7-dd61-4cee-a5e7-4b46dac6f9a1",
   "metadata": {},
   "outputs": [],
   "source": []
  },
  {
   "cell_type": "code",
   "execution_count": null,
   "id": "b8715f8b-838b-4531-868d-bb7969a1c702",
   "metadata": {},
   "outputs": [],
   "source": []
  },
  {
   "cell_type": "code",
   "execution_count": null,
   "id": "31097816-ac5f-45de-ad6b-890f92bbc954",
   "metadata": {},
   "outputs": [],
   "source": []
  },
  {
   "cell_type": "markdown",
   "id": "f138974a-e6d2-451b-99a8-e73188e2d4dc",
   "metadata": {},
   "source": [
    "### OPTIONAL"
   ]
  },
  {
   "cell_type": "code",
   "execution_count": null,
   "id": "aa14bcb0-4aaf-40a5-b35a-f42af2634b99",
   "metadata": {},
   "outputs": [],
   "source": []
  }
 ],
 "metadata": {
  "kernelspec": {
   "display_name": "Python 3 (ipykernel)",
   "language": "python",
   "name": "python3"
  },
  "language_info": {
   "codemirror_mode": {
    "name": "ipython",
    "version": 3
   },
   "file_extension": ".py",
   "mimetype": "text/x-python",
   "name": "python",
   "nbconvert_exporter": "python",
   "pygments_lexer": "ipython3",
   "version": "3.9.9"
  }
 },
 "nbformat": 4,
 "nbformat_minor": 5
}
