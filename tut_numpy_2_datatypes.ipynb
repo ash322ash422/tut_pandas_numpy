{
 "cells": [
  {
   "cell_type": "markdown",
   "id": "7ae342a2-9885-43a7-833a-d90d33def928",
   "metadata": {},
   "source": [
    "## Datatypes\n",
    "\n",
    "### Topics covered:\n",
    "- types of dtype, size of dtypes, changing dtypes\n",
    "\n",
    "Every numpy array is a grid of elements of the same type. Numpy provides a large set of numeric datatypes that you can use to construct arrays. Numpy tries to guess a datatype when you create an array, but functions that construct arrays usually also include an optional argument to explicitly specify the datatype.\n",
    "\n",
    "**Why Do We Have So Many Data Types in NumPy?**\n",
    "- Memory Efficiency: Different data types require different amounts of memory. For example, an int8 uses 1 byte, while an int64 uses 8 bytes. By choosing the appropriate data type, you can save memory, especially when working with large datasets.\n",
    "\n",
    "- Performance: Operations on smaller data types can be faster because they require less memory bandwidth and can fit more data into CPU caches. This can lead to improved performance in numerical computations.\n",
    "\n",
    "- Precision: Different data types offer varying levels of precision. For example, float32 has less precision than float64. Depending on the requirements of your calculations, you may need to choose a data type that provides the necessary precision.\n",
    "\n",
    "Here is an example:"
   ]
  },
  {
   "cell_type": "code",
   "execution_count": 2,
   "id": "e4ed45a8-cb75-40c5-a93d-c4e903088803",
   "metadata": {},
   "outputs": [],
   "source": [
    "import numpy as np"
   ]
  },
  {
   "cell_type": "code",
   "execution_count": 2,
   "id": "b8794b2f-640d-4515-89af-ce8a0f95833e",
   "metadata": {},
   "outputs": [
    {
     "name": "stdout",
     "output_type": "stream",
     "text": [
      "int32\n",
      "float64\n",
      "int64\n"
     ]
    }
   ],
   "source": [
    "x = np.array([1, 2])   # Let numpy choose the datatype\n",
    "print(x.dtype)         # Prints \"int64\"\n",
    "\n",
    "x = np.array([1.0, 2.0])   # Let numpy choose the datatype\n",
    "print(x.dtype)             # Prints \"float64\"\n",
    "\n",
    "x = np.array([1, 2], dtype=np.int64)   # Force a particular datatype\n",
    "print(x.dtype)                         # Prints \"int64\""
   ]
  },
  {
   "cell_type": "markdown",
   "id": "b3faf668-b823-448d-9ffb-036c89be01c7",
   "metadata": {},
   "source": [
    "- **unsigned data types** refer to numeric types that can only represent non-negative integers (i.e., 0 and positive numbers). They do not support negative values.\n",
    "\n",
    "**Unsigned Integer Types and Their Ranges**\n",
    "```\n",
    "  Data Type\tDescription              (Range)\n",
    "np.uint8\tUnsigned 8-bit integer\t(0 to 255)\n",
    "np.uint16\tUnsigned 16-bit integer\t(0 to 65,535)\n",
    "np.uint32\tUnsigned 32-bit integer\t(0 to 4,294,967,295)\n",
    "np.uint64\tUnsigned 64-bit integer\t(0 to 18,446,744,073,709,551,615)\n",
    "```\n",
    "\n",
    "**Signed Integer Types and Their Ranges**\n",
    "```\n",
    "Data Type   Bits    Minimum Value   Maximum Value\n",
    "np.int8      8       -128             127\n",
    "np.int16    16      -32,768          32,767\n",
    "np.int32    32      -2,147,483,648   2,147,483,647\n",
    "np.int64    64\t  -9,223,372,036,854,775,808\t9,223,372,036,854,775,807\n",
    "```"
   ]
  },
  {
   "cell_type": "code",
   "execution_count": null,
   "id": "7cb743a8-82dc-4634-a5b4-7931c0fd092e",
   "metadata": {},
   "outputs": [
    {
     "name": "stdout",
     "output_type": "stream",
     "text": [
      "Integer Array: [1 2 3]\n",
      "Data Type: int32\n",
      "Unsigned Integer Array: [1 2 3]\n",
      "Data Type: uint8\n",
      "Floating Point Array: [1. 2. 3.]\n",
      "Data Type: float64\n",
      "Complex Array: [1.+2.j 3.+4.j]\n",
      "Data Type: complex128\n",
      "Boolean Array: [ True False  True]\n",
      "Data Type: bool\n",
      "String Array: ['apple' 'banana' 'cherry']\n",
      "Data Type: <U6\n",
      "Object Array: [1 'apple' 3.14]\n",
      "Data Type: object\n"
     ]
    }
   ],
   "source": [
    "# available data types\n",
    "\n",
    "# 1. Integer Types\n",
    "# Available types: int8, int16, int32, int64\n",
    "# Create an array of int32\n",
    "a = np.array([1, 2, 3], dtype=np.int32)\n",
    "print(\"Integer Array:\", a)\n",
    "print(\"Data Type:\", a.dtype)\n",
    "\n",
    "# 2. Unsigned Integer Types: \n",
    "# Available types: uint8, uint16, uint32, uint64\n",
    "# Create an array of uint8\n",
    "a = np.array([1, 2, 3], dtype=np.uint8)\n",
    "print(\"Unsigned Integer Array:\", a)\n",
    "print(\"Data Type:\", a.dtype)\n",
    "\n",
    "# 3. Floating Point Types\n",
    "# Available types: float16, float32, float64\n",
    "# Create an array of float64\n",
    "a = np.array([1.0, 2.0, 3.0], dtype=np.float64)\n",
    "print(\"Floating Point Array:\", a)\n",
    "print(\"Data Type:\", a.dtype)\n",
    "\n",
    "# 4. Complex Types\n",
    "# Available types: complex64, complex128\n",
    "# Create an array of complex128\n",
    "a = np.array([1+2j, 3+4j], dtype=np.complex128)\n",
    "print(\"Complex Array:\", a)\n",
    "print(\"Data Type:\", a.dtype)\n",
    "\n",
    "# 5. Boolean Type\n",
    "# Available type: bool_\n",
    "# Create a boolean array\n",
    "a = np.array([True, False, True], dtype=np.bool_)\n",
    "print(\"Boolean Array:\", a)\n",
    "print(\"Data Type:\", a.dtype)\n",
    "\n",
    "# 6. String Type\n",
    "# Available type: str_\n",
    "# Create an array of strings\n",
    "a = np.array(['apple', 'banana', 'cherry'], dtype=np.str_)\n",
    "print(\"String Array:\", a)\n",
    "print(\"Data Type:\", a.dtype)\n",
    "\n",
    "# 7. Object Type\n",
    "# Available type: object_\n",
    "# Create an array of objects\n",
    "a = np.array([1, 'apple', 3.14], dtype=np.object_)\n",
    "print(\"Object Array:\", a)\n",
    "print(\"Data Type:\", a.dtype)"
   ]
  },
  {
   "cell_type": "markdown",
   "id": "29e91e91",
   "metadata": {},
   "source": [
    "## important: when number are out of range"
   ]
  },
  {
   "cell_type": "code",
   "execution_count": 3,
   "id": "9cf5bf71-bca1-477a-923c-47f374b78a67",
   "metadata": {},
   "outputs": [
    {
     "name": "stdout",
     "output_type": "stream",
     "text": [
      "[3]\n",
      "[255]\n"
     ]
    },
    {
     "ename": "OverflowError",
     "evalue": "Python integer 256 out of bounds for uint8",
     "output_type": "error",
     "traceback": [
      "\u001b[1;31m---------------------------------------------------------------------------\u001b[0m",
      "\u001b[1;31mOverflowError\u001b[0m                             Traceback (most recent call last)",
      "Cell \u001b[1;32mIn[3], line 9\u001b[0m\n\u001b[0;32m      6\u001b[0m \u001b[38;5;28mprint\u001b[39m(a)  \u001b[38;5;66;03m# Output: [255]\u001b[39;00m\n\u001b[0;32m      8\u001b[0m \u001b[38;5;66;03m#if you store higher number than 255, it will wrap the max value, which is 255. This may change in the future to fail\u001b[39;00m\n\u001b[1;32m----> 9\u001b[0m a \u001b[38;5;241m=\u001b[39m \u001b[43mnp\u001b[49m\u001b[38;5;241;43m.\u001b[39;49m\u001b[43marray\u001b[49m\u001b[43m(\u001b[49m\u001b[43m[\u001b[49m\u001b[38;5;241;43m254\u001b[39;49m\u001b[43m,\u001b[49m\u001b[43m \u001b[49m\u001b[38;5;241;43m255\u001b[39;49m\u001b[43m,\u001b[49m\u001b[43m \u001b[49m\u001b[38;5;241;43m256\u001b[39;49m\u001b[43m,\u001b[49m\u001b[43m \u001b[49m\u001b[38;5;241;43m257\u001b[39;49m\u001b[43m,\u001b[49m\u001b[43m \u001b[49m\u001b[38;5;241;43m258\u001b[39;49m\u001b[43m]\u001b[49m\u001b[43m,\u001b[49m\u001b[43m \u001b[49m\u001b[43mdtype\u001b[49m\u001b[38;5;241;43m=\u001b[39;49m\u001b[43mnp\u001b[49m\u001b[38;5;241;43m.\u001b[39;49m\u001b[43muint8\u001b[49m\u001b[43m)\u001b[49m \n\u001b[0;32m     10\u001b[0m \u001b[38;5;28mprint\u001b[39m(a)  \u001b[38;5;66;03m# output-> [254 255   0   1   2]\u001b[39;00m\n\u001b[0;32m     12\u001b[0m a \u001b[38;5;241m=\u001b[39m np\u001b[38;5;241m.\u001b[39marray([\u001b[38;5;241m-\u001b[39m\u001b[38;5;241m1\u001b[39m, \u001b[38;5;241m-\u001b[39m\u001b[38;5;241m2\u001b[39m, \u001b[38;5;241m-\u001b[39m\u001b[38;5;241m3\u001b[39m], dtype\u001b[38;5;241m=\u001b[39mnp\u001b[38;5;241m.\u001b[39muint8)\n",
      "\u001b[1;31mOverflowError\u001b[0m: Python integer 256 out of bounds for uint8"
     ]
    }
   ],
   "source": [
    "# Lets look at np.uint8 whose range is 0 - 255\n",
    "a = np.array([3], dtype=np.uint8)\n",
    "print(a)  # Output: [255]\n",
    "\n",
    "a = np.array([255], dtype=np.uint8)\n",
    "print(a)  # Output: [255]\n",
    "\n",
    "#if you store higher number than 255, it will wrap the max value, which is 255. This may change in the future to fail\n",
    "a = np.array([254, 255, 256, 257, 258], dtype=np.uint8) \n",
    "print(a)  # output-> [254 255   0   1   2]\n",
    "\n",
    "a = np.array([-1, -2, -3], dtype=np.uint8)\n",
    "print(a)  # Output: [255 254 253]"
   ]
  },
  {
   "cell_type": "code",
   "execution_count": 4,
   "id": "0fcb979d-17e6-4cc7-8c01-026e607461be",
   "metadata": {},
   "outputs": [
    {
     "name": "stdout",
     "output_type": "stream",
     "text": [
      "Integer Types:\n",
      "Size of int8: 1 bytes\n",
      "Size of int16: 2 bytes\n",
      "Size of int32: 4 bytes\n",
      "Size of int64: 8 bytes\n",
      "\n",
      "Unsigned Integer Types:\n",
      "Size of uint8: 1 bytes\n",
      "Size of uint16: 2 bytes\n",
      "Size of uint32: 4 bytes\n",
      "Size of uint64: 8 bytes\n",
      "\n",
      "Floating Point Types:\n",
      "Size of float16: 2 bytes\n",
      "Size of float32: 4 bytes\n",
      "Size of float64: 8 bytes\n",
      "\n",
      "Complex Types:\n",
      "Size of complex64: 8 bytes\n",
      "Size of complex128: 16 bytes\n",
      "\n",
      "Boolean Type:\n",
      "Size of bool: 1 bytes\n",
      "\n",
      "Object Type:\n",
      "Size of object: 8 bytes\n"
     ]
    }
   ],
   "source": [
    "# size of data types\n",
    "\n",
    "# Demonstrating the size of different NumPy data types in bytes\n",
    "\n",
    "# Integer Types\n",
    "print(\"Integer Types:\")\n",
    "print(\"Size of int8:\", np.dtype(np.int8).itemsize, \"bytes\")   # 1 byte\n",
    "print(\"Size of int16:\", np.dtype(np.int16).itemsize, \"bytes\") # 2 bytes\n",
    "print(\"Size of int32:\", np.dtype(np.int32).itemsize, \"bytes\") # 4 bytes\n",
    "print(\"Size of int64:\", np.dtype(np.int64).itemsize, \"bytes\") # 8 bytes\n",
    "\n",
    "# Unsigned Integer Types\n",
    "print(\"\\nUnsigned Integer Types:\")\n",
    "print(\"Size of uint8:\", np.dtype(np.uint8).itemsize, \"bytes\")   # 1 byte\n",
    "print(\"Size of uint16:\", np.dtype(np.uint16).itemsize, \"bytes\") # 2 bytes\n",
    "print(\"Size of uint32:\", np.dtype(np.uint32).itemsize, \"bytes\") # 4 bytes\n",
    "print(\"Size of uint64:\", np.dtype(np.uint64).itemsize, \"bytes\") # 8 bytes\n",
    "\n",
    "# Floating Point Types\n",
    "print(\"\\nFloating Point Types:\")\n",
    "print(\"Size of float16:\", np.dtype(np.float16).itemsize, \"bytes\") # 2 bytes\n",
    "print(\"Size of float32:\", np.dtype(np.float32).itemsize, \"bytes\") # 4 bytes\n",
    "print(\"Size of float64:\", np.dtype(np.float64).itemsize, \"bytes\") # 8 bytes\n",
    "\n",
    "# Complex Types\n",
    "print(\"\\nComplex Types:\")\n",
    "print(\"Size of complex64:\", np.dtype(np.complex64).itemsize, \"bytes\") # 8 bytes (2 x 4 bytes)\n",
    "print(\"Size of complex128:\", np.dtype(np.complex128).itemsize, \"bytes\") # 16 bytes (2 x 8 bytes)\n",
    "\n",
    "# Boolean Type\n",
    "print(\"\\nBoolean Type:\")\n",
    "print(\"Size of bool:\", np.dtype(np.bool_).itemsize, \"bytes\") # 1 byte\n",
    "\n",
    "# Object Type\n",
    "print(\"\\nObject Type:\")\n",
    "print(\"Size of object:\", np.dtype(np.object_).itemsize, \"bytes\") # Typically 8 bytes for pointer"
   ]
  },
  {
   "cell_type": "code",
   "execution_count": null,
   "id": "362a4e33-896b-4802-83a4-5dec37da8c7a",
   "metadata": {},
   "outputs": [
    {
     "name": "stdout",
     "output_type": "stream",
     "text": [
      "Original Array (int):\n",
      "[1 2 3 4 5]\n",
      "Data type: int64\n",
      "\n",
      "Array converted to float:\n",
      "[1. 2. 3. 4. 5.]\n",
      "Data type: float64\n",
      "\n",
      "Array converted to string:\n",
      "['1' '2' '3' '4' '5']\n",
      "Data type: <U21\n",
      "\n",
      "Original Array (float):\n",
      "[1.1 2.2 3.3]\n",
      "Data type: float64\n",
      "\n",
      "Array converted to int:\n",
      "[1 2 3]\n",
      "Data type: int64\n",
      "\n",
      "Array converted to float32:\n",
      "[1. 2. 3. 4. 5.]\n",
      "Data type: float32\n"
     ]
    }
   ],
   "source": [
    "# change data types using astype() method\n",
    "\n",
    "# Create a NumPy array with default data type (int)\n",
    "a = np.array([1, 2, 3, 4, 5])\n",
    "print(\"Original Array (int):\")\n",
    "print(a)\n",
    "print(\"Data type:\", a.dtype)\n",
    "\n",
    "# Change data type to float\n",
    "a_float = a.astype(float)\n",
    "print(\"\\nArray converted to float:\")\n",
    "print(a_float)\n",
    "print(\"Data type:\", a_float.dtype)\n",
    "\n",
    "# Change data type to string\n",
    "a_str = a.astype(str)\n",
    "print(\"\\nArray converted to string:\")\n",
    "print(a_str)\n",
    "print(\"Data type:\", a_str.dtype)\n",
    "\n",
    "# Create a float array\n",
    "a_float2 = np.array([1.1, 2.2, 3.3])\n",
    "print(\"\\nOriginal Array (float):\")\n",
    "print(a_float2)\n",
    "print(\"Data type:\", a_float2.dtype)\n",
    "\n",
    "# Change data type to integer (will truncate the decimal part)\n",
    "a_int2 = a_float2.astype(int)\n",
    "print(\"\\nArray converted to int:\")\n",
    "print(a_int2)\n",
    "print(\"Data type:\", a_int2.dtype)\n",
    "\n",
    "# Change data type to a specific NumPy type (e.g., np.float32)\n",
    "a_float32 = a.astype(np.float32)\n",
    "print(\"\\nArray converted to float32:\")\n",
    "print(a_float32)\n",
    "print(\"Data type:\", a_float32.dtype)"
   ]
  }
 ],
 "metadata": {
  "kernelspec": {
   "display_name": "Python 3 (ipykernel)",
   "language": "python",
   "name": "python3"
  },
  "language_info": {
   "codemirror_mode": {
    "name": "ipython",
    "version": 3
   },
   "file_extension": ".py",
   "mimetype": "text/x-python",
   "name": "python",
   "nbconvert_exporter": "python",
   "pygments_lexer": "ipython3",
   "version": "3.11.2"
  }
 },
 "nbformat": 4,
 "nbformat_minor": 5
}
