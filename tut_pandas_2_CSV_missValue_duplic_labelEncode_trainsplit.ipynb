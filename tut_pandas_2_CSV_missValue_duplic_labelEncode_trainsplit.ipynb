{
 "cells": [
  {
   "cell_type": "code",
   "execution_count": 1,
   "id": "eeac7e81-4866-4be2-9189-743d1683c30a",
   "metadata": {},
   "outputs": [],
   "source": [
    "import pandas as pd\n",
    "import numpy as np\n",
    "import matplotlib.pyplot as plt\n",
    "import seaborn as sns"
   ]
  },
  {
   "cell_type": "code",
   "execution_count": 2,
   "id": "b710a17a-b68e-42f7-8bad-597f3dbe1375",
   "metadata": {},
   "outputs": [
    {
     "name": "stdout",
     "output_type": "stream",
     "text": [
      "\n",
      "DataFrame1:\n",
      "        Name  Age         City  Experience  Experience2   Salary\n",
      "0     Alice   25      Chicago           2            2  70000.0\n",
      "1       Bob   30  Los Angeles           5            5  80000.0\n",
      "2   Charlie   35      Chicago           7            7      NaN\n",
      "3     David   40      Houston          10           10  90000.0\n",
      "4       Eva   22      Houston           1            1  48000.0\n",
      "5     Frank   28          NaN           3            3  72000.0\n",
      "6     Grace   32  San Antonio           6            6  85000.0\n",
      "7     Helen   26    San Diego           2            2  62000.0\n",
      "8     Helen   26    San Diego           2            2  62000.0\n",
      "9     Helen   26    San Diego           2            2  62000.0\n",
      "10    Jerry   23      Phoenix           6            6  78000.0\n"
     ]
    }
   ],
   "source": [
    "# Read from CSV\n",
    "from pathlib import Path\n",
    "data_file = Path.cwd() / 'data.csv'\n",
    "\n",
    "df = pd.read_csv(data_file)\n",
    "\n",
    "print(\"\\nDataFrame1:\\n\", df)\n",
    "# print(f\"\\nDataFrame1:\\n{}\")\n"
   ]
  },
  {
   "cell_type": "code",
   "execution_count": 3,
   "id": "f53ac4e7-4e5d-46b7-89d8-ab1c446e1d48",
   "metadata": {},
   "outputs": [
    {
     "name": "stdout",
     "output_type": "stream",
     "text": [
      "(11, 6)\n"
     ]
    }
   ],
   "source": [
    "print(df.shape) # (rows,columns)"
   ]
  },
  {
   "cell_type": "code",
   "execution_count": 4,
   "id": "21e94a9c-f185-4f92-b32a-c361ccd4403f",
   "metadata": {},
   "outputs": [
    {
     "name": "stdout",
     "output_type": "stream",
     "text": [
      "\n",
      "DataFrame2:\n",
      "        Name  Age         City  Experience  Experience2   Salary\n",
      "0     Alice   25      Chicago           2            2  70000.0\n",
      "1       Bob   30  Los Angeles           5            5     30.0\n",
      "2   Charlie   35        delhi           7            7      NaN\n",
      "3     David   40      Houston          10           10  90000.0\n",
      "4       Eva   22      Houston           1            1  48000.0\n",
      "5     Frank   28          NaN           3            3  72000.0\n",
      "6     Grace   32  San Antonio           6            6  85000.0\n",
      "7     Helen   26    San Diego           2            2  62000.0\n",
      "8     Helen   26    San Diego           2            2  62000.0\n",
      "9     Helen   26    San Diego           2            2  62000.0\n",
      "10    Jerry   23      Phoenix           6            6  78000.0\n"
     ]
    }
   ],
   "source": [
    "# change values\n",
    "df.loc[1, 'Salary'] = 30  # Set a value in Salary for 2nd entry\n",
    "df.loc[2, 'City'] = \"delhi\"  # Set a value in City for 3rd entry\n",
    "print(\"\\nDataFrame2:\\n\", df)"
   ]
  },
  {
   "cell_type": "code",
   "execution_count": 5,
   "id": "ae77e64d-00b3-4322-82bd-b09988826d4d",
   "metadata": {},
   "outputs": [
    {
     "name": "stdout",
     "output_type": "stream",
     "text": [
      "\n",
      "After salary increase:\n",
      "        Name  Age         City  Experience  Experience2   Salary  \\\n",
      "0     Alice   25      Chicago           2            2  70000.0   \n",
      "1       Bob   30  Los Angeles           5            5     30.0   \n",
      "2   Charlie   35        delhi           7            7      NaN   \n",
      "3     David   40      Houston          10           10  90000.0   \n",
      "4       Eva   22      Houston           1            1  48000.0   \n",
      "5     Frank   28          NaN           3            3  72000.0   \n",
      "6     Grace   32  San Antonio           6            6  85000.0   \n",
      "7     Helen   26    San Diego           2            2  62000.0   \n",
      "8     Helen   26    San Diego           2            2  62000.0   \n",
      "9     Helen   26    San Diego           2            2  62000.0   \n",
      "10    Jerry   23      Phoenix           6            6  78000.0   \n",
      "\n",
      "    Salary_increase  \n",
      "0           77000.0  \n",
      "1              33.0  \n",
      "2               NaN  \n",
      "3           99000.0  \n",
      "4           52800.0  \n",
      "5           79200.0  \n",
      "6           93500.0  \n",
      "7           68200.0  \n",
      "8           68200.0  \n",
      "9           68200.0  \n",
      "10          85800.0  \n"
     ]
    }
   ],
   "source": [
    "# Applying .map() to increase salary by 10%\n",
    "df['Salary_increase'] = df['Salary'].map(lambda x: x * 1.1)\n",
    "print(\"\\nAfter salary increase:\\n\",df)"
   ]
  },
  {
   "cell_type": "code",
   "execution_count": 6,
   "id": "176c5a5f-7446-433a-9080-64ed2ca60eef",
   "metadata": {},
   "outputs": [
    {
     "name": "stdout",
     "output_type": "stream",
     "text": [
      "\n",
      "After dropping a column:\n",
      "        Name  Age         City  Experience   Salary\n",
      "0     Alice   25      Chicago           2  70000.0\n",
      "1       Bob   30  Los Angeles           5     30.0\n",
      "2   Charlie   35        delhi           7      NaN\n",
      "3     David   40      Houston          10  90000.0\n",
      "4       Eva   22      Houston           1  48000.0\n",
      "5     Frank   28          NaN           3  72000.0\n",
      "6     Grace   32  San Antonio           6  85000.0\n",
      "7     Helen   26    San Diego           2  62000.0\n",
      "8     Helen   26    San Diego           2  62000.0\n",
      "9     Helen   26    San Diego           2  62000.0\n",
      "10    Jerry   23      Phoenix           6  78000.0\n"
     ]
    }
   ],
   "source": [
    "# Lets drop the above 'Salary_increase' column\n",
    "df.drop(columns=['Salary_increase','Experience2'], inplace=True)\n",
    "print(\"\\nAfter dropping a column:\\n\",df)"
   ]
  },
  {
   "cell_type": "code",
   "execution_count": 7,
   "id": "c90e8903-21c3-4d68-80a4-ad02e957896d",
   "metadata": {},
   "outputs": [
    {
     "name": "stdout",
     "output_type": "stream",
     "text": [
      "\n",
      "Missing Values:\n",
      " Name          0\n",
      "Age           0\n",
      "City          1\n",
      "Experience    0\n",
      "Salary        1\n",
      "dtype: int64\n"
     ]
    }
   ],
   "source": [
    "# Handling Missing Values\n",
    "\n",
    "missing_values = df.isnull().sum()\n",
    "print(\"\\nMissing Values:\\n\", missing_values )"
   ]
  },
  {
   "cell_type": "code",
   "execution_count": 8,
   "id": "4fad4151-3cb3-4555-8358-279ebcc41695",
   "metadata": {},
   "outputs": [
    {
     "name": "stdout",
     "output_type": "stream",
     "text": [
      "\n",
      "DataFrame after filling missing values:\n",
      "        Name  Age         City  Experience   Salary\n",
      "0     Alice   25      Chicago           2  70000.0\n",
      "1       Bob   30  Los Angeles           5     30.0\n",
      "2   Charlie   35        delhi           7  66000.0\n",
      "3     David   40      Houston          10  90000.0\n",
      "4       Eva   22      Houston           1  48000.0\n",
      "5     Frank   28      Unknown           3  72000.0\n",
      "6     Grace   32  San Antonio           6  85000.0\n",
      "7     Helen   26    San Diego           2  62000.0\n",
      "8     Helen   26    San Diego           2  62000.0\n",
      "9     Helen   26    San Diego           2  62000.0\n",
      "10    Jerry   23      Phoenix           6  78000.0\n"
     ]
    }
   ],
   "source": [
    "df = df.fillna({'Salary': df['Salary'].median(),\n",
    "                'City': 'Unknown'\n",
    "})\n",
    "print(\"\\nDataFrame after filling missing values:\\n\", df)"
   ]
  },
  {
   "cell_type": "code",
   "execution_count": 58,
   "id": "84734137-c7a8-4c2b-ad83-f83fdae755b3",
   "metadata": {},
   "outputs": [
    {
     "name": "stdout",
     "output_type": "stream",
     "text": [
      "\n",
      "Duplicate Records:\n",
      "     Name  Age       City   Salary  Experience\n",
      "8  Helen   26  San Diego  62000.0           2\n",
      "9  Helen   26  San Diego  62000.0           2\n"
     ]
    }
   ],
   "source": [
    "# Finding and Handling Duplicate Records\n",
    "duplicates = df.duplicated()\n",
    "print(\"\\nDuplicate Records:\\n\", df[duplicates])"
   ]
  },
  {
   "cell_type": "code",
   "execution_count": 59,
   "id": "627297d1-83bc-4d1d-a8dd-e3c5853d21f8",
   "metadata": {},
   "outputs": [
    {
     "name": "stdout",
     "output_type": "stream",
     "text": [
      "\n",
      "DataFrame after removing duplicates:\n",
      "        Name  Age         City   Salary  Experience\n",
      "0     Alice   25      Chicago  70000.0           2\n",
      "1       Bob   30  Los Angeles     30.0           5\n",
      "2   Charlie   35        delhi  66000.0           7\n",
      "3     David   40      Houston  90000.0          10\n",
      "4       Eva   22      Houston  48000.0           1\n",
      "5     Frank   28      Unknown  72000.0           3\n",
      "6     Grace   32  San Antonio  85000.0           6\n",
      "7     Helen   26    San Diego  62000.0           2\n",
      "10    Jerry   23      Phoenix  78000.0           6\n"
     ]
    }
   ],
   "source": [
    "# Removing duplicates\n",
    "df = df.drop_duplicates()\n",
    "print(\"\\nDataFrame after removing duplicates:\\n\", df)"
   ]
  },
  {
   "cell_type": "code",
   "execution_count": 60,
   "id": "00e88d8c-f06c-44b4-a032-3ff4ebb4d6c1",
   "metadata": {},
   "outputs": [],
   "source": [
    "#Save the clean data to CSV file\n",
    "df.to_csv(\"data_clean.csv\")"
   ]
  },
  {
   "cell_type": "code",
   "execution_count": 9,
   "id": "3e9ed467-79fd-47a9-bd43-8bd15d93089b",
   "metadata": {},
   "outputs": [
    {
     "name": "stdout",
     "output_type": "stream",
     "text": [
      "\n",
      "DataFrame after encoding City column:\n",
      "        Name  Age         City  Experience   Salary  City_encoded\n",
      "0     Alice   25      Chicago           2  70000.0             0\n",
      "1       Bob   30  Los Angeles           5     30.0             2\n",
      "2   Charlie   35        delhi           7  66000.0             7\n",
      "3     David   40      Houston          10  90000.0             1\n",
      "4       Eva   22      Houston           1  48000.0             1\n",
      "5     Frank   28      Unknown           3  72000.0             6\n",
      "6     Grace   32  San Antonio           6  85000.0             4\n",
      "7     Helen   26    San Diego           2  62000.0             5\n",
      "8     Helen   26    San Diego           2  62000.0             5\n",
      "9     Helen   26    San Diego           2  62000.0             5\n",
      "10    Jerry   23      Phoenix           6  78000.0             3\n"
     ]
    }
   ],
   "source": [
    "from sklearn.preprocessing import LabelEncoder\n",
    "\n",
    "# Encoding categorical variables\n",
    "label_encoder = LabelEncoder()\n",
    "df['City_encoded'] = label_encoder.fit_transform(df['City'])\n",
    "\n",
    "print(\"\\nDataFrame after encoding City column:\\n\", df)\n"
   ]
  },
  {
   "cell_type": "code",
   "execution_count": 10,
   "id": "9dbd0117-4ceb-46ea-949b-2236e34bde9c",
   "metadata": {},
   "outputs": [
    {
     "name": "stdout",
     "output_type": "stream",
     "text": [
      "\n",
      "DataFrame after scaling:\n",
      "        Name       Age         City  Experience    Salary  City_encoded\n",
      "0     Alice -0.669662      Chicago   -0.810885  0.297584             0\n",
      "1       Bob  0.299586  Los Angeles    0.304082 -2.757521             2\n",
      "2   Charlie  1.268833        delhi    1.047393  0.122931             7\n",
      "3     David  2.238081      Houston    2.162360  1.170845             1\n",
      "4       Eva -1.251211      Houston   -1.182540 -0.663004             1\n",
      "5     Frank -0.088113      Unknown   -0.439229  0.384910             6\n",
      "6     Grace  0.687285  San Antonio    0.675737  0.952530             4\n",
      "7     Helen -0.475812    San Diego   -0.810885 -0.051721             5\n",
      "8     Helen -0.475812    San Diego   -0.810885 -0.051721             5\n",
      "9     Helen -0.475812    San Diego   -0.810885 -0.051721             5\n",
      "10    Jerry -1.057361      Phoenix    0.675737  0.646888             3\n"
     ]
    }
   ],
   "source": [
    "from sklearn.preprocessing import StandardScaler, LabelEncoder\n",
    "\n",
    "# Feature Scaling\n",
    "scaler = StandardScaler()\n",
    "df[['Age', 'Salary', 'Experience']] = scaler.fit_transform(df[['Age', 'Salary', 'Experience']])\n",
    "print(\"\\nDataFrame after scaling:\\n\", df)\n"
   ]
  },
  {
   "cell_type": "code",
   "execution_count": 13,
   "id": "192bea23-69d7-4e09-8683-e043c8451172",
   "metadata": {},
   "outputs": [
    {
     "name": "stdout",
     "output_type": "stream",
     "text": [
      "X_train shape: (8, 3)\n",
      "X_test  shape: (3, 3)\n",
      "###############################\n",
      "\n",
      "Training Features:\n",
      "         Age  Experience  City_encoded\n",
      "9  -0.475812   -0.810885             5\n",
      "2   1.268833    1.047393             7\n",
      "6   0.687285    0.675737             4\n",
      "0  -0.669662   -0.810885             0\n",
      "1   0.299586    0.304082             2\n",
      "5  -0.088113   -0.439229             6\n",
      "7  -0.475812   -0.810885             5\n",
      "10 -1.057361    0.675737             3\n",
      "\n",
      "Testing Features:\n",
      "        Age  Experience  City_encoded\n",
      "3  2.238081    2.162360             1\n",
      "8 -0.475812   -0.810885             5\n",
      "4 -1.251211   -1.182540             1\n"
     ]
    }
   ],
   "source": [
    "# Splitting Data for Training and Testing\n",
    "from sklearn.model_selection import train_test_split\n",
    "\n",
    "X = df[['Age', 'Experience', 'City_encoded']]\n",
    "y = df['Salary']  # Assuming salary is the target variable\n",
    "\n",
    "X_train, X_test, y_train, y_test = train_test_split(X, y, test_size=0.2, random_state=4)\n",
    "\n",
    "print(f\"X_train shape: {X_train.shape}\")\n",
    "print(f\"X_test  shape: {X_test.shape}\")\n",
    "\n",
    "print(\"###############################\")\n",
    "\n",
    "print(f\"\\nTraining Features:\\n{X_train}\")\n",
    "print(f\"\\nTesting Features:\\n{X_test}\")"
   ]
  },
  {
   "cell_type": "code",
   "execution_count": null,
   "id": "3f30e001-7fae-4b0b-8c3b-292b42fa6703",
   "metadata": {},
   "outputs": [],
   "source": []
  }
 ],
 "metadata": {
  "kernelspec": {
   "display_name": "Python 3 (ipykernel)",
   "language": "python",
   "name": "python3"
  },
  "language_info": {
   "codemirror_mode": {
    "name": "ipython",
    "version": 3
   },
   "file_extension": ".py",
   "mimetype": "text/x-python",
   "name": "python",
   "nbconvert_exporter": "python",
   "pygments_lexer": "ipython3",
   "version": "3.11.2"
  }
 },
 "nbformat": 4,
 "nbformat_minor": 5
}
