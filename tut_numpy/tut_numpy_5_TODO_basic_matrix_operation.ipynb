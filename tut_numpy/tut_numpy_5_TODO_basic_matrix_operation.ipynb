{
 "cells": [
  {
   "cell_type": "markdown",
   "id": "c5ada5e5-8de8-497f-b42f-f2f200df58c0",
   "metadata": {},
   "source": [
    "# Basic matrix operation using numpy\n"
   ]
  },
  {
   "cell_type": "code",
   "execution_count": 31,
   "id": "ff00d256-b458-4a23-8a5d-b5eb98c8a336",
   "metadata": {},
   "outputs": [],
   "source": [
    "import numpy as np"
   ]
  },
  {
   "cell_type": "code",
   "execution_count": 32,
   "id": "7f4112ec-81b9-4201-bd11-1b1721b70e3a",
   "metadata": {},
   "outputs": [
    {
     "name": "stdout",
     "output_type": "stream",
     "text": [
      "Add filter (brightness boost):\n",
      " [[105 160]\n",
      " [155 220]]\n",
      "Add 50 to all pixels (brightness adjustment):\n",
      " [[150 200]\n",
      " [190 250]]\n",
      "Subtract filter (change detection):\n",
      " [[ 95 140]\n",
      " [125 180]]\n"
     ]
    }
   ],
   "source": [
    "# Here x could be an image of size 2X2.\n",
    "\n",
    "# Elementwise addition (e.g., applying a brightness mask y): Requirement is shapes of x and y should be same\n",
    "x = np.array([[100, 150],\n",
    "              [140, 200]]\n",
    ")\n",
    "\n",
    "y = np.array([[5, 10],\n",
    "              [15, 20]]\n",
    ")\n",
    "\n",
    "res = x + y\n",
    "# res = np.add(x, y)\n",
    "print(\"Add filter (brightness boost):\\n\", res)\n",
    "########################\n",
    "\n",
    "# Adding a constant (increase brightness uniformly)\n",
    "x = np.array([[100, 150],\n",
    "              [140, 200]]\n",
    ")\n",
    "\n",
    "res = x + 50\n",
    "print(\"Add 50 to all pixels (brightness adjustment):\\n\", res)\n",
    "########################\n",
    "\n",
    "# Element-wise subtraction (e.g., remove background or detect changes from 1 frame to another)\n",
    "# x could be one frame and y could be another frame\n",
    "x = np.array([[100, 150],\n",
    "              [140, 200]]\n",
    ")\n",
    "\n",
    "y = np.array([[5, 10],\n",
    "              [15, 20]]\n",
    ")\n",
    "\n",
    "res = x - y\n",
    "# res = np.subtract(x, y)\n",
    "print(\"Subtract filter (change detection):\\n\", res)"
   ]
  },
  {
   "cell_type": "code",
   "execution_count": 33,
   "id": "9a66de03-5a0f-4231-99fd-d3aed20a2320",
   "metadata": {},
   "outputs": [
    {
     "name": "stdout",
     "output_type": "stream",
     "text": [
      "Pixel-wise blending (weighted effect):\n",
      " [[50. 15.]\n",
      " [21. 40.]]\n"
     ]
    }
   ],
   "source": [
    "# Element-wise multiplication (e.g., applying a weight y or blending mask y to image x)\n",
    "\n",
    "x = np.array([[100, 150],\n",
    "              [140, 200]]\n",
    ")\n",
    "\n",
    "y = np.array([[.5, .10],\n",
    "              [.15, .20]]\n",
    ")\n",
    "\n",
    "res = x * y\n",
    "# res = np.multiply(x, y)\n",
    "print(\"Pixel-wise blending (weighted effect):\\n\", res)"
   ]
  },
  {
   "cell_type": "code",
   "execution_count": 34,
   "id": "949a569f-1bbd-4170-baf2-cf0214ed097a",
   "metadata": {},
   "outputs": [
    {
     "name": "stdout",
     "output_type": "stream",
     "text": [
      "[[ 200.         1500.        ]\n",
      " [ 866.66666667  100.        ]]\n"
     ]
    }
   ],
   "source": [
    "# Now lets perform element-wise division\n",
    "x = np.array([[100, 150],\n",
    "              [130, 20]]\n",
    ")\n",
    "\n",
    "y = np.array([[.5, .10],\n",
    "              [.15, .20]]\n",
    ")\n",
    "\n",
    "res = x / y\n",
    "# res = np.divide(x, y)\n",
    "print(res)"
   ]
  },
  {
   "cell_type": "code",
   "execution_count": null,
   "id": "9482f011-3727-4392-8445-548d02809536",
   "metadata": {},
   "outputs": [],
   "source": []
  },
  {
   "cell_type": "code",
   "execution_count": null,
   "id": "68df51e1-70f9-46d1-94f7-d0e5bcc92384",
   "metadata": {},
   "outputs": [],
   "source": []
  },
  {
   "cell_type": "code",
   "execution_count": null,
   "id": "21b79baf-5cea-4335-80b2-45a29d609809",
   "metadata": {},
   "outputs": [],
   "source": []
  },
  {
   "cell_type": "code",
   "execution_count": null,
   "id": "2980fd12-8b70-4f93-b305-99062966840d",
   "metadata": {},
   "outputs": [],
   "source": []
  },
  {
   "cell_type": "code",
   "execution_count": null,
   "id": "b229d12f-bf18-48e4-8395-dab3a1831b2b",
   "metadata": {},
   "outputs": [],
   "source": []
  },
  {
   "cell_type": "code",
   "execution_count": null,
   "id": "98496310-7f81-421a-9b07-4508d7dd909f",
   "metadata": {},
   "outputs": [],
   "source": []
  },
  {
   "cell_type": "code",
   "execution_count": null,
   "id": "da33dfbd-5ce3-4303-8df7-daf9e98624cb",
   "metadata": {},
   "outputs": [],
   "source": []
  },
  {
   "cell_type": "code",
   "execution_count": null,
   "id": "2142175a-fc47-4811-88e7-a95931f15736",
   "metadata": {},
   "outputs": [],
   "source": []
  },
  {
   "cell_type": "code",
   "execution_count": null,
   "id": "03078f61-d030-4a49-ae5b-2e6cef42c56b",
   "metadata": {},
   "outputs": [],
   "source": []
  },
  {
   "cell_type": "code",
   "execution_count": null,
   "id": "e0ff1714-a5aa-4d7d-8562-5c312b957b39",
   "metadata": {},
   "outputs": [],
   "source": []
  },
  {
   "cell_type": "code",
   "execution_count": null,
   "id": "e2cb1fbd-5bb7-48f7-b356-34b4843f71fe",
   "metadata": {},
   "outputs": [],
   "source": []
  }
 ],
 "metadata": {
  "kernelspec": {
   "display_name": "Python 3 (ipykernel)",
   "language": "python",
   "name": "python3"
  },
  "language_info": {
   "codemirror_mode": {
    "name": "ipython",
    "version": 3
   },
   "file_extension": ".py",
   "mimetype": "text/x-python",
   "name": "python",
   "nbconvert_exporter": "python",
   "pygments_lexer": "ipython3",
   "version": "3.9.9"
  }
 },
 "nbformat": 4,
 "nbformat_minor": 5
}
