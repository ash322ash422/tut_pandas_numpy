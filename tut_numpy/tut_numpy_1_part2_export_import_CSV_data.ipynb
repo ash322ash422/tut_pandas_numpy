{
 "cells": [
  {
   "cell_type": "markdown",
   "id": "dadaadea-6eeb-41dc-a003-d3e229f7915a",
   "metadata": {},
   "source": [
    "# Export and Import Data to CSV (Comma Seperated Value) file"
   ]
  },
  {
   "cell_type": "markdown",
   "id": "170684a5-0f24-463e-9b2f-909ee228076e",
   "metadata": {},
   "source": [
    "### Export data to CSV"
   ]
  },
  {
   "cell_type": "code",
   "execution_count": 22,
   "id": "3fee2010-e0f4-4c8d-b225-170e0209ea91",
   "metadata": {},
   "outputs": [],
   "source": [
    "import numpy as np"
   ]
  },
  {
   "cell_type": "code",
   "execution_count": 23,
   "id": "759ca8dd-7de7-4559-9633-a45135f5b961",
   "metadata": {},
   "outputs": [
    {
     "name": "stdout",
     "output_type": "stream",
     "text": [
      "[[4 8 9 2 9 8 8 3 9 6]\n",
      " [7 9 4 1 4 6 8 4 2 4]\n",
      " [8 1 3 2 7 4 8 8 8 2]\n",
      " [9 5 1 1 8 9 8 4 1 2]\n",
      " [3 4 9 7 4 9 6 8 2 8]\n",
      " [3 2 4 1 2 3 2 9 2 1]\n",
      " [6 5 5 5 1 4 1 9 5 2]\n",
      " [6 2 5 9 4 9 7 9 6 4]\n",
      " [9 4 9 6 4 8 7 3 7 5]\n",
      " [4 8 7 4 2 4 6 6 7 5]\n",
      " [6 7 4 5 8 7 5 2 6 6]\n",
      " [6 6 9 2 2 3 7 3 3 7]]\n"
     ]
    }
   ],
   "source": [
    "# create 2D data of shape 12X10 \n",
    "\n",
    "arr = np.random.randint(1, 10, size=(12,10))\n",
    "print(arr)"
   ]
  },
  {
   "cell_type": "code",
   "execution_count": 24,
   "id": "135c7061-19d3-4fbd-bf90-2887e4b4e6e4",
   "metadata": {},
   "outputs": [],
   "source": [
    "# Export the arr to CSV file with comma delimiter\n",
    "\n",
    "np.savetxt(\"data_raw.csv\", arr, delimiter=\",\")"
   ]
  },
  {
   "cell_type": "code",
   "execution_count": null,
   "id": "98702a0b-bfd1-49a9-9003-265e97c43ecf",
   "metadata": {},
   "outputs": [],
   "source": []
  },
  {
   "cell_type": "markdown",
   "id": "b26b1e2d-372e-47f8-b4fc-540812e9b9be",
   "metadata": {},
   "source": [
    "### Import data from CSV file"
   ]
  },
  {
   "cell_type": "code",
   "execution_count": 25,
   "id": "2b744a2e-24b3-4348-8625-6014f0ff34a5",
   "metadata": {
    "scrolled": true
   },
   "outputs": [
    {
     "name": "stdout",
     "output_type": "stream",
     "text": [
      "[[4. 8. 9. 2. 9. 8. 8. 3. 9. 6.]\n",
      " [7. 9. 4. 1. 4. 6. 8. 4. 2. 4.]\n",
      " [8. 1. 3. 2. 7. 4. 8. 8. 8. 2.]\n",
      " [9. 5. 1. 1. 8. 9. 8. 4. 1. 2.]\n",
      " [3. 4. 9. 7. 4. 9. 6. 8. 2. 8.]\n",
      " [3. 2. 4. 1. 2. 3. 2. 9. 2. 1.]\n",
      " [6. 5. 5. 5. 1. 4. 1. 9. 5. 2.]\n",
      " [6. 2. 5. 9. 4. 9. 7. 9. 6. 4.]\n",
      " [9. 4. 9. 6. 4. 8. 7. 3. 7. 5.]\n",
      " [4. 8. 7. 4. 2. 4. 6. 6. 7. 5.]\n",
      " [6. 7. 4. 5. 8. 7. 5. 2. 6. 6.]\n",
      " [6. 6. 9. 2. 2. 3. 7. 3. 3. 7.]]\n",
      "float64\n"
     ]
    }
   ],
   "source": [
    "# Now lets import the above data from CSV file that we just created\n",
    "\n",
    "data = np.genfromtxt(\"data_raw.csv\", delimiter=\",\")\n",
    "print(data)\n",
    "print(data.dtype)"
   ]
  },
  {
   "cell_type": "code",
   "execution_count": 26,
   "id": "a5c69013-9903-4a9d-a113-ae63676eee27",
   "metadata": {},
   "outputs": [
    {
     "name": "stdout",
     "output_type": "stream",
     "text": [
      "[[4 8 9 2 9 8 8 3 9 6]\n",
      " [7 9 4 1 4 6 8 4 2 4]\n",
      " [8 1 3 2 7 4 8 8 8 2]\n",
      " [9 5 1 1 8 9 8 4 1 2]\n",
      " [3 4 9 7 4 9 6 8 2 8]\n",
      " [3 2 4 1 2 3 2 9 2 1]\n",
      " [6 5 5 5 1 4 1 9 5 2]\n",
      " [6 2 5 9 4 9 7 9 6 4]\n",
      " [9 4 9 6 4 8 7 3 7 5]\n",
      " [4 8 7 4 2 4 6 6 7 5]\n",
      " [6 7 4 5 8 7 5 2 6 6]\n",
      " [6 6 9 2 2 3 7 3 3 7]]\n",
      "uint8\n"
     ]
    }
   ],
   "source": [
    "# OPTIONAL: Lets convert the above to dtype=np.uint8\n",
    "\n",
    "data = data.astype(np.uint8)\n",
    "print(data)\n",
    "print(data.dtype)"
   ]
  },
  {
   "cell_type": "code",
   "execution_count": null,
   "id": "87a5cf24-c3fa-46dd-9415-b413f431f5f2",
   "metadata": {},
   "outputs": [],
   "source": []
  },
  {
   "cell_type": "code",
   "execution_count": null,
   "id": "340249ae-d405-41e8-a814-5d59039a6b82",
   "metadata": {},
   "outputs": [],
   "source": []
  },
  {
   "cell_type": "code",
   "execution_count": null,
   "id": "7ea11476-6082-4e19-a3ae-d3deb9a26f90",
   "metadata": {},
   "outputs": [],
   "source": []
  }
 ],
 "metadata": {
  "kernelspec": {
   "display_name": "Python 3 (ipykernel)",
   "language": "python",
   "name": "python3"
  },
  "language_info": {
   "codemirror_mode": {
    "name": "ipython",
    "version": 3
   },
   "file_extension": ".py",
   "mimetype": "text/x-python",
   "name": "python",
   "nbconvert_exporter": "python",
   "pygments_lexer": "ipython3",
   "version": "3.9.9"
  }
 },
 "nbformat": 4,
 "nbformat_minor": 5
}
