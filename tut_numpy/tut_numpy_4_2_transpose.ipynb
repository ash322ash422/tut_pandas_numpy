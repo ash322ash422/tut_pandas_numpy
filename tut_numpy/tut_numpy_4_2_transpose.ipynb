{
 "cells": [
  {
   "cell_type": "markdown",
   "id": "28d0faa5-0221-465f-a9fd-cfdb1b6136f5",
   "metadata": {},
   "source": [
    "# Changing the shape of numpy arrays: Transpose\n",
    "- transpose"
   ]
  },
  {
   "cell_type": "code",
   "execution_count": 19,
   "id": "0e221d7f-cf2a-45bc-8b68-ca2172d6d8d4",
   "metadata": {},
   "outputs": [],
   "source": [
    "import numpy as np"
   ]
  },
  {
   "cell_type": "markdown",
   "id": "cde9c91e-5ab0-4cf7-9a22-ac43dd92345a",
   "metadata": {},
   "source": [
    "## Transpose\n",
    "- For 2D arrays (matrices), it swaps rows and columns.\n",
    "- For n-dimensional arrays, it reorders the dimensions based on the given axes.\n",
    "\n",
    "### Note\n",
    "- You can use **array.T** This is best for 2D array.\n",
    "- Or you can transpose using **np.transpose(array, axes=None)**. This can  be used for higher dimensions.\n",
    "\n",
    "\n",
    "### Application:\n",
    "- Preparing data for algorithms like matrix multiplication or PCA (Principal Component Analysis), which require certain shape conventions."
   ]
  },
  {
   "cell_type": "code",
   "execution_count": 20,
   "id": "b1c79a2d-5fb9-4d7a-b781-296087b12474",
   "metadata": {},
   "outputs": [
    {
     "name": "stdout",
     "output_type": "stream",
     "text": [
      "[[5 3 7]\n",
      " [2 5 9]]\n",
      "[[5 2]\n",
      " [3 5]\n",
      " [7 9]]\n"
     ]
    }
   ],
   "source": [
    "# Transpose for 2D using array.T: nXm matrix becomes mXn matrix \n",
    "\n",
    "# Using x.T. It is best for 2D and commonly used in 2D\n",
    "# e.g.1: If shape of x is 2X3, then shape of x.T becomes 3X2\n",
    "x = np.array([\n",
    "    [5, 3, 7], \n",
    "    [2, 5 ,9]] \n",
    ")\n",
    "print(x, \"\\n\")\n",
    "\n",
    "transpose = x.T\n",
    "print(transpose)  "
   ]
  },
  {
   "cell_type": "code",
   "execution_count": 21,
   "id": "845ac248-1b0d-4c32-a08d-f5df8d8e72fd",
   "metadata": {},
   "outputs": [
    {
     "name": "stdout",
     "output_type": "stream",
     "text": [
      "[[6 2 3 4]\n",
      " [3 4 5 6]\n",
      " [7 8 5 9]]\n",
      "[[6 3 7]\n",
      " [2 4 8]\n",
      " [3 5 5]\n",
      " [4 6 9]]\n"
     ]
    }
   ],
   "source": [
    "# e.g.2: If shape of x is 3X4. Then shape of x.T is 4X3\n",
    "x = np.array([[6, 2, 3, 4],\n",
    "              [3, 4, 5, 6],\n",
    "              [7, 8, 5, 9]]\n",
    ")\n",
    "print(x, \"\\n\")\n",
    "\n",
    "transpose = x.T\n",
    "print(transpose)  "
   ]
  },
  {
   "cell_type": "code",
   "execution_count": 22,
   "id": "b7bd51ea-f72c-4405-873e-f28f971e2f5d",
   "metadata": {},
   "outputs": [
    {
     "name": "stdout",
     "output_type": "stream",
     "text": [
      "[1 2 3]\n",
      "[1 2 3]\n"
     ]
    }
   ],
   "source": [
    "# e.g.3: Note that taking the transpose of a rank 1 array does nothing:\n",
    "v = np.array([1,2,3])\n",
    "print(v)    \n",
    "print(v.T)  "
   ]
  },
  {
   "cell_type": "code",
   "execution_count": 23,
   "id": "4be35232-d253-4066-a510-b24806399a2b",
   "metadata": {},
   "outputs": [
    {
     "name": "stdout",
     "output_type": "stream",
     "text": [
      "[[1 2 3]\n",
      " [4 5 6]]\n",
      "[[1 4]\n",
      " [2 5]\n",
      " [3 6]]\n"
     ]
    }
   ],
   "source": [
    "# Transpose for 2D using np.transpose(): nXm matrix becomes mXn matrix \n",
    "\n",
    "# e.g.1: If shape of x is 2X3. Then shape of np.transpose(x) is 3X2\n",
    "x = np.array([[1, 2, 3], \n",
    "              [4, 5 ,6]] \n",
    ")\n",
    "print(x)\n",
    "\n",
    "transpose = np.transpose(x)\n",
    "print(transpose)  "
   ]
  },
  {
   "cell_type": "code",
   "execution_count": 24,
   "id": "53e8d0ad-6f41-4473-92ae-a1d6729e5af9",
   "metadata": {},
   "outputs": [
    {
     "name": "stdout",
     "output_type": "stream",
     "text": [
      "[[6 2 3 4]\n",
      " [3 4 5 6]\n",
      " [7 8 5 9]]\n",
      "[[6 3 7]\n",
      " [2 4 8]\n",
      " [3 5 5]\n",
      " [4 6 9]]\n"
     ]
    }
   ],
   "source": [
    "# e.g.2: If shape of x is 3X4. Then shape of np.transpose(x) is 4X3\n",
    "x = np.array([[6, 2, 3, 4],\n",
    "              [3, 4, 5, 6],\n",
    "              [7, 8, 5, 9]]\n",
    ")\n",
    "print(x)\n",
    "\n",
    "transpose = np.transpose(x)\n",
    "print(transpose)"
   ]
  },
  {
   "cell_type": "markdown",
   "id": "d19e71b1-1903-400e-bec5-31c6f056417a",
   "metadata": {},
   "source": [
    "# STOP"
   ]
  },
  {
   "cell_type": "code",
   "execution_count": null,
   "id": "458e1405-64ba-4179-a207-3761ae006244",
   "metadata": {},
   "outputs": [],
   "source": []
  },
  {
   "cell_type": "code",
   "execution_count": null,
   "id": "f607fb34-305b-4d66-b0d9-f859337b42aa",
   "metadata": {},
   "outputs": [],
   "source": []
  },
  {
   "cell_type": "code",
   "execution_count": null,
   "id": "adc9cb16-3eb6-47ca-9b83-8d49a7e8a5ee",
   "metadata": {},
   "outputs": [],
   "source": []
  },
  {
   "cell_type": "code",
   "execution_count": null,
   "id": "6af60623-900a-41de-964f-45dac526b983",
   "metadata": {},
   "outputs": [],
   "source": []
  },
  {
   "cell_type": "code",
   "execution_count": 27,
   "id": "6d5a41ac-025e-485f-a91a-37037fedf5d2",
   "metadata": {},
   "outputs": [
    {
     "name": "stdout",
     "output_type": "stream",
     "text": [
      "a:\n",
      " [[[ 0  1  2  3]\n",
      "  [ 4  5  6  7]\n",
      "  [ 8  9 10 11]]\n",
      "\n",
      " [[12 13 14 15]\n",
      "  [16 17 18 19]\n",
      "  [20 21 22 23]]]\n",
      "(2, 3, 4)\n",
      "b:\n",
      " [[[ 0 12]\n",
      "  [ 4 16]\n",
      "  [ 8 20]]\n",
      "\n",
      " [[ 1 13]\n",
      "  [ 5 17]\n",
      "  [ 9 21]]\n",
      "\n",
      " [[ 2 14]\n",
      "  [ 6 18]\n",
      "  [10 22]]\n",
      "\n",
      " [[ 3 15]\n",
      "  [ 7 19]\n",
      "  [11 23]]]\n",
      "(4, 3, 2)\n"
     ]
    }
   ],
   "source": [
    "# ADVANCED: transpose of 3D and higher\n",
    "\n",
    "# Create a 3D array of shape 2X3X4\n",
    "a = np.arange(24).reshape(2, 3, 4) \n",
    "print(\"a:\\n\", a)\n",
    "print(a.shape)  # (2, 3, 4)\n",
    "\n",
    "# Default transpose: reverses axes order\n",
    "b = np.transpose(a)\n",
    "print(\"b:\\n\", b)\n",
    "print(b.shape)  # (4, 3, 2)"
   ]
  },
  {
   "cell_type": "code",
   "execution_count": 28,
   "id": "4b1e4433-dc79-4337-9ebf-268a0d4585a1",
   "metadata": {},
   "outputs": [
    {
     "name": "stdout",
     "output_type": "stream",
     "text": [
      "a:\n",
      " [[[ 0  1  2  3]\n",
      "  [ 4  5  6  7]\n",
      "  [ 8  9 10 11]]\n",
      "\n",
      " [[12 13 14 15]\n",
      "  [16 17 18 19]\n",
      "  [20 21 22 23]]]\n",
      "(2, 3, 4)\n",
      "c:\n",
      " [[[ 0  1  2  3]\n",
      "  [12 13 14 15]]\n",
      "\n",
      " [[ 4  5  6  7]\n",
      "  [16 17 18 19]]\n",
      "\n",
      " [[ 8  9 10 11]\n",
      "  [20 21 22 23]]]\n",
      "(3, 2, 4)\n"
     ]
    }
   ],
   "source": [
    "# ADVANCED: transpose of 3D and higher\n",
    "\n",
    "# Create a 3D array of shape 2X3X4\n",
    "a = np.arange(24).reshape(2, 3, 4) \n",
    "print(\"a:\\n\", a)\n",
    "print(a.shape)  # (2, 3, 4)\n",
    "\n",
    "# Custom axis order: I want axes ordered as 1, 0, 2\n",
    "c = np.transpose(a, axes=(1, 0, 2))\n",
    "print(\"c:\\n\", c)\n",
    "print(c.shape)  # (3, 2, 4)"
   ]
  }
 ],
 "metadata": {
  "kernelspec": {
   "display_name": "Python 3 (ipykernel)",
   "language": "python",
   "name": "python3"
  },
  "language_info": {
   "codemirror_mode": {
    "name": "ipython",
    "version": 3
   },
   "file_extension": ".py",
   "mimetype": "text/x-python",
   "name": "python",
   "nbconvert_exporter": "python",
   "pygments_lexer": "ipython3",
   "version": "3.9.9"
  }
 },
 "nbformat": 4,
 "nbformat_minor": 5
}
