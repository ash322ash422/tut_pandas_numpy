{
 "cells": [
  {
   "cell_type": "markdown",
   "metadata": {},
   "source": [
    "# Show the need for various integer and float data types by running an experiment"
   ]
  },
  {
   "cell_type": "markdown",
   "metadata": {},
   "source": [
    "## Integers Type\n",
    "\n",
    "**Unsigned Integer Types and Their Ranges**\n",
    "- **unsigned data types** refer to numeric types that can only represent **non-negative integers (i.e., 0 and positive numbers)**. \n",
    "\n",
    "```\n",
    "  Data Type\tDescription              (Range)\n",
    "np.uint8\tUnsigned 8-bit integer\t(0 to 255)\n",
    "np.uint16\tUnsigned 16-bit integer\t(0 to 65,535)\n",
    "np.uint32\tUnsigned 32-bit integer\t(0 to 4,294,967,295)\n",
    "np.uint64\tUnsigned 64-bit integer\t(0 to 18,446,744,073,709,551,615)\n",
    "```\n",
    "\n",
    "**Signed Integer Types and Their Ranges**\n",
    "\n",
    "- **signed data types** refer to numeric types that can only represent **positive and negative integers**. \n",
    "\n",
    "```\n",
    "Data Type   Bits    Minimum Value            Maximum Value\n",
    "np.int8      8      -128                        127\n",
    "np.int16    16      -32,768                     32,767\n",
    "np.int32    32      -2,147,483,648              2,147,483,647\n",
    "np.int64    64\t    -9,223,372,036,854,775,808\t9,223,372,036,854,775,807\n",
    "```\n",
    "\n",
    "## Floats Type\n",
    "```\n",
    "float16: half precision (~3 decimal digits, not always supported on all CPUs)\n",
    "float32: single precision (~7 decimal digits)\n",
    "float64: double precision (~15 decimal digits, NumPy default)\n",
    "float128: extended precision (platform dependent; may not be true 128-bit on all systems)\n",
    "```"
   ]
  },
  {
   "cell_type": "markdown",
   "metadata": {},
   "source": [
    "**Why Do We Have So Many Data Types in NumPy?**\n",
    "- **Memory Efficiency**: Different data types require different amounts of memory. For example, an **int8 uses 1 byte**, **int64 uses 8 bytes**. By choosing the appropriate data type, you can save memory, especially when working with large datasets.\n",
    "\n",
    "- **Performance**: Operations on smaller data types can be faster because they require less memory bandwidth and can fit more data into CPU caches. This can lead to improved performance in numerical computations.\n",
    "\n",
    "- **Precision**: Different data types offer varying levels of precision. For example, float32 has less precision than float64. Depending on the requirements of your calculations, you may need to choose a data type that provides the necessary precision."
   ]
  },
  {
   "cell_type": "code",
   "execution_count": 12,
   "metadata": {},
   "outputs": [],
   "source": [
    "import numpy as np\n",
    "import time"
   ]
  },
  {
   "cell_type": "markdown",
   "metadata": {},
   "source": [
    "## Memory usage"
   ]
  },
  {
   "cell_type": "code",
   "execution_count": 13,
   "metadata": {
    "colab": {
     "base_uri": "https://localhost:8080/"
    },
    "id": "Sv_6Jqqs5enF",
    "outputId": "f6af38c0-dad7-4a80-97db-d47791c35789"
   },
   "outputs": [
    {
     "name": "stdout",
     "output_type": "stream",
     "text": [
      "Memory usage for 10000 elements:\n",
      "int64 : 80000 Bytes\n",
      "int32 : 40000 Bytes\n",
      "int16 : 20000 Bytes\n",
      "uint8 : 10000 Bytes\n"
     ]
    }
   ],
   "source": [
    "# Lets say you working with 1D data that is always going to be between 0 and 200.\n",
    "\n",
    "# size of data\n",
    "N = 10000\n",
    "\n",
    "# Different data types with random integers between 0 and 200\n",
    "a_int64 = np.random.randint(0, 201, size=N, dtype=np.int64)\n",
    "a_int32 = np.random.randint(0, 201, size=N, dtype=np.int32)\n",
    "a_int16 = np.random.randint(0, 201, size=N, dtype=np.int16)\n",
    "a_uint8 = np.random.randint(0, 201, size=N, dtype=np.uint8)\n",
    "# print(a_uint8[:259])\n",
    "\n",
    "# Check memory usage\n",
    "print(f\"Memory usage for {N} elements:\")\n",
    "print(f\"int64 : {a_int64.nbytes} Bytes\")\n",
    "print(f\"int32 : {a_int32.nbytes} Bytes\")\n",
    "print(f\"int16 : {a_int16.nbytes} Bytes\")\n",
    "print(f\"uint8 : {a_uint8.nbytes} Bytes\")"
   ]
  },
  {
   "cell_type": "markdown",
   "metadata": {},
   "source": [
    "### Conclusion: If you know that numbers are going to be between 0 to 200, then use np.uint8"
   ]
  },
  {
   "cell_type": "code",
   "execution_count": null,
   "metadata": {},
   "outputs": [],
   "source": []
  },
  {
   "cell_type": "markdown",
   "metadata": {},
   "source": [
    "## Performance"
   ]
  },
  {
   "cell_type": "code",
   "execution_count": null,
   "metadata": {
    "colab": {
     "base_uri": "https://localhost:8080/"
    },
    "id": "B5rDeCYh8NI3",
    "outputId": "fc0fd8c9-7a93-4f24-b9fa-9ace93e8457c"
   },
   "outputs": [
    {
     "name": "stdout",
     "output_type": "stream",
     "text": [
      "Memory usage for 10 million elements:\n",
      "int64 : 800.00 MB\n",
      "int16 : 200.00 MB\n",
      "Computation with int64: 4.066999673843384 sec\n",
      "Computation with int16: 1.4329414367675781 sec\n"
     ]
    }
   ],
   "source": [
    "# Lets perform some numerical computation with np.int16 and np.int64 and compare time\n",
    "\n",
    "N = 100000000  # 10 million elements\n",
    "\n",
    "# Two arrays with different dtypes\n",
    "a_int64 = np.random.randint(0, 201, size=N, dtype=np.int64)\n",
    "b_int64 = np.random.randint(0, 201, size=N, dtype=np.int64)\n",
    "\n",
    "a_int16 = np.random.randint(0, 201, size=N, dtype=np.int16)\n",
    "b_int16 = np.random.randint(0, 201, size=N, dtype=np.int16)\n",
    "\n",
    "print(\"Memory usage for 10 million elements:\")\n",
    "print(f\"int64 : {a_int64.nbytes / 1e6:.2f} MB\")\n",
    "print(f\"int16 : {a_int16.nbytes / 1e6:.2f} MB\")\n",
    "\n",
    "# Heavy computation: simulate \"work\"\n",
    "def heavy_compute(x, y):\n",
    "    # dot product + elementwise math\n",
    "    return np.sum((x * y) ** 2 + np.sin(x) + np.sqrt(y))\n",
    "\n",
    "\n",
    "start = time.process_time()\n",
    "result = heavy_compute(a_int64, b_int64)\n",
    "end = time.process_time()\n",
    "print(f\"Computation with {a_int64.dtype}: {end - start} sec\")\n",
    "\n",
    "\n",
    "start = time.process_time()\n",
    "result = heavy_compute(a_int16, b_int16)\n",
    "end = time.process_time()\n",
    "print(f\"Computation with {a_int16.dtype}: {end - start} sec\")"
   ]
  },
  {
   "cell_type": "code",
   "execution_count": 15,
   "metadata": {},
   "outputs": [
    {
     "data": {
      "text/plain": [
       "2.757142857142857"
      ]
     },
     "execution_count": 15,
     "metadata": {},
     "output_type": "execute_result"
    }
   ],
   "source": [
    "# How fast\n",
    "3.86/1.4"
   ]
  },
  {
   "cell_type": "markdown",
   "metadata": {},
   "source": [
    "### Conclusion: Choosing right data type speeds up the computation"
   ]
  },
  {
   "cell_type": "code",
   "execution_count": null,
   "metadata": {},
   "outputs": [],
   "source": []
  },
  {
   "cell_type": "markdown",
   "metadata": {},
   "source": [
    "## Precision"
   ]
  },
  {
   "cell_type": "code",
   "execution_count": 16,
   "metadata": {
    "colab": {
     "base_uri": "https://localhost:8080/"
    },
    "id": "6gVYsisIAJ04",
    "outputId": "88f5643a-8a7d-478f-e34d-0969818d5e80"
   },
   "outputs": [
    {
     "name": "stdout",
     "output_type": "stream",
     "text": [
      "Compound Interest after 1000 years:\n",
      "Float16 result : 1546320017967915164762112.00\n",
      "Float64 result : 1546318920731995137900544.00\n",
      "Exact result   : 1546318920731992453545984.00\n",
      "\n",
      "Error:\n",
      "Float16 error  : 1097235922711216128.00\n",
      "Float64 error  : 2684354560.00\n"
     ]
    }
   ],
   "source": [
    "# Now lets compare Compound Interest with Float32 vs Float64\n",
    "\n",
    "# Parameters\n",
    "principal = 1000.0  # Initial amount\n",
    "rate      = 0.05    # 5% annual interest\n",
    "years     = 1000    # Simulate 1000 years for effect\n",
    "\n",
    "# Float16 simulation\n",
    "amount16 = np.float16(principal)\n",
    "for _ in range(years):\n",
    "    amount16 *= (1 + np.float32(rate))\n",
    "\n",
    "# Float64 simulation\n",
    "amount64 = np.float64(principal)\n",
    "for _ in range(years):\n",
    "    amount64 *= (1 + np.float64(rate))\n",
    "\n",
    "# Exact theoretical value\n",
    "exact = principal * (1 + rate) ** years\n",
    "\n",
    "print(f\"Compound Interest after {years} years:\")\n",
    "print(f\"Float16 result : {amount16:.2f}\")\n",
    "print(f\"Float64 result : {amount64:.2f}\")\n",
    "print(f\"Exact result   : {exact:.2f}\")\n",
    "\n",
    "print(\"\\nError:\")\n",
    "print(f\"Float16 error  : {abs(amount16 - exact):.2f}\")\n",
    "print(f\"Float64 error  : {abs(amount64 - exact):.2f}\")"
   ]
  },
  {
   "cell_type": "code",
   "execution_count": null,
   "metadata": {},
   "outputs": [],
   "source": []
  }
 ],
 "metadata": {
  "colab": {
   "provenance": []
  },
  "kernelspec": {
   "display_name": "Python 3 (ipykernel)",
   "language": "python",
   "name": "python3"
  },
  "language_info": {
   "codemirror_mode": {
    "name": "ipython",
    "version": 3
   },
   "file_extension": ".py",
   "mimetype": "text/x-python",
   "name": "python",
   "nbconvert_exporter": "python",
   "pygments_lexer": "ipython3",
   "version": "3.9.9"
  }
 },
 "nbformat": 4,
 "nbformat_minor": 4
}
