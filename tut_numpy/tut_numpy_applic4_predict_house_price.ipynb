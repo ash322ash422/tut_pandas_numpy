{
 "cells": [
  {
   "cell_type": "markdown",
   "id": "35939299-7707-43ad-8508-0ce021e01ba6",
   "metadata": {},
   "source": [
    "if y = XW , where X and W are matrices, then\n",
    "\n",
    "W = (X^T X)^(-1) X^T y"
   ]
  },
  {
   "cell_type": "code",
   "execution_count": 6,
   "id": "2d4c85ca-dfbf-47fc-998c-89a93dea555c",
   "metadata": {},
   "outputs": [
    {
     "name": "stdout",
     "output_type": "stream",
     "text": [
      "Learned weights (W):\n",
      "[[ 1.00000000e+05]\n",
      " [ 2.00000000e+02]\n",
      " [-5.81508175e-11]]\n",
      "\n",
      "Predicted prices:\n",
      "[300000. 400000. 500000. 600000. 700000.]\n"
     ]
    }
   ],
   "source": [
    "import numpy as np\n",
    "\n",
    "l = [\n",
    "    # bias term, size (sqft), num of rooms\n",
    "    [1, 1000, 3], # house1\n",
    "    [1, 1500, 4], # house2\n",
    "    [1, 2000, 3], # house3\n",
    "    [1, 2500, 5],\n",
    "    [1, 3000, 4]\n",
    "]\n",
    "X = np.array(l) # Feature matrix (with intercept term)\n",
    "\n",
    "# Target (price)\n",
    "y = np.array([300000, 400000, 500000, 600000, 700000]).reshape(-1, 1)\n",
    "\n",
    "# Calculate W using normal equation: W = (X^T X)^(-1) X^T y\n",
    "XtX = X.T @ X\n",
    "XtX_inv = np.linalg.inv(XtX)\n",
    "XtY = X.T @ y\n",
    "\n",
    "W = XtX_inv @ XtY\n",
    "\n",
    "print(\"Learned weights (W):\")\n",
    "print(W)\n",
    "# W[0] is the intercept\n",
    "# W[1] is how much price changes with each sqft\n",
    "# W[2] is how much price changes with each room\n",
    "\n",
    "# Predict prices of original houses:\n",
    "y_pred = X @ W\n",
    "print(\"\\nPredicted prices:\")\n",
    "print(y_pred.flatten())"
   ]
  },
  {
   "cell_type": "markdown",
   "id": "8b793132-808b-49cf-8e30-5dfae367c70b",
   "metadata": {},
   "source": [
    "The above means that:\n",
    "\n",
    "**𝑦_pred = 100000 + [200×size] - [5.8 * 10^(-11)×rooms]**"
   ]
  },
  {
   "cell_type": "code",
   "execution_count": 3,
   "id": "07975e33-ed10-40ef-900c-e6ef802e1a7f",
   "metadata": {},
   "outputs": [
    {
     "name": "stdout",
     "output_type": "stream",
     "text": [
      "Predicted price for 1800 sqft, 4 rooms: $460,000.00\n"
     ]
    }
   ],
   "source": [
    "# Now lets predict house price of one new house:\n",
    "# Let’s say the new house has:\n",
    "# size = 1800 sqft\n",
    "# rooms = 4\n",
    "X_new = np.array([1, 1800, 4]).reshape(1, -1)\n",
    "\n",
    "# Predict price\n",
    "y_new_pred = X_new @ W\n",
    "print(f\"Predicted price for 1800 sqft, 4 rooms: ${y_new_pred[0][0]:,.2f}\")"
   ]
  },
  {
   "cell_type": "code",
   "execution_count": null,
   "id": "d51e6190-12c8-4e1a-87d5-3daea957c947",
   "metadata": {},
   "outputs": [],
   "source": []
  }
 ],
 "metadata": {
  "kernelspec": {
   "display_name": "Python 3 (ipykernel)",
   "language": "python",
   "name": "python3"
  },
  "language_info": {
   "codemirror_mode": {
    "name": "ipython",
    "version": 3
   },
   "file_extension": ".py",
   "mimetype": "text/x-python",
   "name": "python",
   "nbconvert_exporter": "python",
   "pygments_lexer": "ipython3",
   "version": "3.11.2"
  }
 },
 "nbformat": 4,
 "nbformat_minor": 5
}
