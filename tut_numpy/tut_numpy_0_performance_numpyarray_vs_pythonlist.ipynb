{
 "cells": [
  {
   "cell_type": "markdown",
   "metadata": {},
   "source": [
    "# Need for numpy arrays for numeric computation\n",
    "- Compare numpy array over python list"
   ]
  },
  {
   "cell_type": "code",
   "execution_count": 84,
   "metadata": {
    "colab": {},
    "colab_type": "code",
    "id": "x0rxFOl2ytvN"
   },
   "outputs": [],
   "source": [
    "import numpy as np\n",
    "import time\n",
    "import random\n",
    "from sys import getsizeof"
   ]
  },
  {
   "cell_type": "markdown",
   "metadata": {},
   "source": [
    "# Size"
   ]
  },
  {
   "cell_type": "code",
   "execution_count": 86,
   "metadata": {},
   "outputs": [
    {
     "name": "stdout",
     "output_type": "stream",
     "text": [
      "[0, 1, 2, 3, 4, 5, 6, 7, 8, 9, 10, 11, 12, 13, 14, 15, 16, 17, 18, 19, 20, 21, 22, 23, 24, 25, 26, 27, 28, 29, 30, 31, 32, 33, 34, 35, 36, 37, 38, 39, 40, 41, 42, 43, 44, 45, 46, 47, 48, 49, 50, 51, 52, 53, 54, 55, 56, 57, 58, 59, 60, 61, 62, 63, 64, 65, 66, 67, 68, 69, 70, 71, 72, 73, 74, 75, 76, 77, 78, 79, 80, 81, 82, 83, 84, 85, 86, 87, 88, 89, 90, 91, 92, 93, 94, 95, 96, 97, 98, 99]\n",
      "size of list in memory : 856 bytes\n",
      "size of numpy in memory: 512 bytes\n"
     ]
    }
   ],
   "source": [
    "# size\n",
    "n_elements = 100 # 100000\n",
    "\n",
    "x_list = list(range(0, n_elements)) # or [x for x in range(n_elements)]\n",
    "print(x_list)\n",
    "\n",
    "print(\"size of list in memory :\", getsizeof(x_list), \"bytes\")\n",
    "\n",
    "x_np = np.array(x_list) \n",
    "print(\"size of numpy in memory:\", getsizeof(x_np), \"bytes\")"
   ]
  },
  {
   "cell_type": "code",
   "execution_count": null,
   "metadata": {},
   "outputs": [],
   "source": []
  },
  {
   "cell_type": "markdown",
   "metadata": {},
   "source": [
    "# Performance on element-wise addition\n",
    "Add a number to all elements of list and numpy-arrays"
   ]
  },
  {
   "cell_type": "code",
   "execution_count": 112,
   "metadata": {},
   "outputs": [
    {
     "name": "stdout",
     "output_type": "stream",
     "text": [
      "0.5625\n",
      "[0, 1, 2, 3, 4, 5, 6, 7, 8, 9]\n",
      "[100, 101, 102, 103, 104, 105, 106, 107, 108, 109]\n"
     ]
    }
   ],
   "source": [
    "# add 100 to all elements in a list\n",
    "n_elements = 10000000 # ten million\n",
    "x_list = list(range(0, n_elements)) # or [x for x in range(n_elements)]\n",
    "\n",
    "start = time.process_time()\n",
    "x_new = []\n",
    "for e in x_list:\n",
    "    x_new.append(e + 100)\n",
    "end = time.process_time()\n",
    "\n",
    "print(end - start)\n",
    "print(x_list[:10])\n",
    "print(x_new[:10])"
   ]
  },
  {
   "cell_type": "code",
   "execution_count": 100,
   "metadata": {},
   "outputs": [
    {
     "name": "stdout",
     "output_type": "stream",
     "text": [
      "0.046875\n"
     ]
    }
   ],
   "source": [
    "# add 100 to all elements in a numpy arrays\n",
    "n_elements = 10000000\n",
    "\n",
    "x_list  = list(range(0, n_elements))\n",
    "x_numpy = np.array(x_list)\n",
    "\n",
    "start = time.process_time()\n",
    "x_new = x_numpy + 100\n",
    "end   = time.process_time()\n",
    "\n",
    "print(end - start)"
   ]
  },
  {
   "cell_type": "code",
   "execution_count": 89,
   "metadata": {},
   "outputs": [
    {
     "data": {
      "text/plain": [
       "11.284403669724771"
      ]
     },
     "execution_count": 89,
     "metadata": {},
     "output_type": "execute_result"
    }
   ],
   "source": [
    "# How fast\n",
    "1.23/0.109"
   ]
  },
  {
   "cell_type": "code",
   "execution_count": null,
   "metadata": {},
   "outputs": [],
   "source": []
  },
  {
   "cell_type": "code",
   "execution_count": null,
   "metadata": {},
   "outputs": [],
   "source": []
  },
  {
   "cell_type": "markdown",
   "metadata": {},
   "source": [
    "# Performance on element-wise square\n",
    "Square all elements of list and numpy-arrays"
   ]
  },
  {
   "cell_type": "code",
   "execution_count": 90,
   "metadata": {},
   "outputs": [
    {
     "name": "stdout",
     "output_type": "stream",
     "text": [
      "2.46875\n"
     ]
    }
   ],
   "source": [
    "# square all elements of list\n",
    "n_elements = 10000000 # ten million\n",
    "x_list = list(range(0, n_elements)) # or [x for x in range(n_elements)]\n",
    "\n",
    "start = time.process_time()\n",
    "x_new = []\n",
    "for e in x_list:\n",
    "    x_new.append(e ** 2)\n",
    "end = time.process_time()\n",
    "\n",
    "print(end - start)"
   ]
  },
  {
   "cell_type": "code",
   "execution_count": 91,
   "metadata": {},
   "outputs": [
    {
     "name": "stdout",
     "output_type": "stream",
     "text": [
      "0.125\n"
     ]
    }
   ],
   "source": [
    "# square all elements of numpy array\n",
    "n_elements = 10000000\n",
    "\n",
    "x_list  = list(range(0, n_elements))\n",
    "x_numpy = np.array(x_list)\n",
    "\n",
    "start = time.process_time()\n",
    "x_new = x_numpy ** 2\n",
    "end   = time.process_time()\n",
    "\n",
    "print(end - start)"
   ]
  },
  {
   "cell_type": "code",
   "execution_count": 92,
   "metadata": {},
   "outputs": [
    {
     "data": {
      "text/plain": [
       "25.024"
      ]
     },
     "execution_count": 92,
     "metadata": {},
     "output_type": "execute_result"
    }
   ],
   "source": [
    "# How fast\n",
    "3.128/0.125"
   ]
  },
  {
   "cell_type": "code",
   "execution_count": null,
   "metadata": {},
   "outputs": [],
   "source": []
  },
  {
   "cell_type": "markdown",
   "metadata": {},
   "source": [
    "# Performance on addition of 2 vectors"
   ]
  },
  {
   "cell_type": "code",
   "execution_count": 93,
   "metadata": {},
   "outputs": [
    {
     "name": "stdout",
     "output_type": "stream",
     "text": [
      "1.0109655857086182\n"
     ]
    }
   ],
   "source": [
    "# Using Python list\n",
    "n_elements = 10000000\n",
    "list1 = list(range(n_elements))\n",
    "list2 = list(range(n_elements))\n",
    "\n",
    "start = time.time()\n",
    "result_list = [x + y for x, y in zip(list1, list2)]\n",
    "end = time.time()\n",
    "\n",
    "print(end - start)"
   ]
  },
  {
   "cell_type": "code",
   "execution_count": 94,
   "metadata": {},
   "outputs": [
    {
     "name": "stdout",
     "output_type": "stream",
     "text": [
      "0.019048690795898438\n"
     ]
    }
   ],
   "source": [
    "# Using NumPy array\n",
    "arr1 = np.arange(n_elements)\n",
    "arr2 = np.arange(n_elements)\n",
    "\n",
    "start = time.time()\n",
    "result_array = arr1 + arr2  # vectorized operation\n",
    "end = time.time()\n",
    "\n",
    "print(end - start)"
   ]
  },
  {
   "cell_type": "code",
   "execution_count": 95,
   "metadata": {},
   "outputs": [
    {
     "data": {
      "text/plain": [
       "55.50000000000001"
      ]
     },
     "execution_count": 95,
     "metadata": {},
     "output_type": "execute_result"
    }
   ],
   "source": [
    "# How fast\n",
    "1.11/0.02"
   ]
  },
  {
   "cell_type": "code",
   "execution_count": null,
   "metadata": {},
   "outputs": [],
   "source": []
  },
  {
   "cell_type": "markdown",
   "metadata": {},
   "source": [
    "# Performance on matrix multiplication"
   ]
  },
  {
   "cell_type": "code",
   "execution_count": 109,
   "metadata": {},
   "outputs": [
    {
     "name": "stdout",
     "output_type": "stream",
     "text": [
      "8.057005882263184\n"
     ]
    }
   ],
   "source": [
    "# Matrix multiplication with Python Lists\n",
    "\n",
    "N = 300 # 300 took 8 secs, 400 took 18 secs\n",
    "A_list = [[random.randint(1, 10) for _ in range(N)] for _ in range(N)]\n",
    "B_list = [[random.randint(1, 10) for _ in range(N)] for _ in range(N)]\n",
    "\n",
    "# Prepare empty result matrix\n",
    "result_list = [[0 for _ in range(N)] for _ in range(N)]\n",
    "\n",
    "start = time.time()\n",
    "for i in range(N):\n",
    "    for j in range(N):\n",
    "        for k in range(N):\n",
    "            result_list[i][j] += A_list[i][k] * B_list[k][j]\n",
    "end = time.time()\n",
    "\n",
    "print(end - start)"
   ]
  },
  {
   "cell_type": "code",
   "execution_count": 110,
   "metadata": {},
   "outputs": [
    {
     "name": "stdout",
     "output_type": "stream",
     "text": [
      "0.06003308296203613\n"
     ]
    }
   ],
   "source": [
    "#  Matrix multiplication with NumPy\n",
    "\n",
    "A_np = np.random.randint(1, 11, size=(N, N))\n",
    "B_np = np.random.randint(1, 11, size=(N, N))\n",
    "\n",
    "start = time.time()\n",
    "result_np = A_np @ B_np   # or A_np @ B_np, np.matmul(A_np, B_np)\n",
    "end = time.time()\n",
    "\n",
    "print(end - start)"
   ]
  },
  {
   "cell_type": "code",
   "execution_count": 111,
   "metadata": {},
   "outputs": [
    {
     "data": {
      "text/plain": [
       "133.33333333333334"
      ]
     },
     "execution_count": 111,
     "metadata": {},
     "output_type": "execute_result"
    }
   ],
   "source": [
    "# How fast\n",
    "8/0.06"
   ]
  },
  {
   "cell_type": "code",
   "execution_count": null,
   "metadata": {},
   "outputs": [],
   "source": []
  }
 ],
 "metadata": {
  "colab": {
   "name": "Python_Numpy.ipynb",
   "provenance": [],
   "version": "0.3.2"
  },
  "kernelspec": {
   "display_name": "Python 3 (ipykernel)",
   "language": "python",
   "name": "python3"
  },
  "language_info": {
   "codemirror_mode": {
    "name": "ipython",
    "version": 3
   },
   "file_extension": ".py",
   "mimetype": "text/x-python",
   "name": "python",
   "nbconvert_exporter": "python",
   "pygments_lexer": "ipython3",
   "version": "3.9.9"
  }
 },
 "nbformat": 4,
 "nbformat_minor": 4
}
