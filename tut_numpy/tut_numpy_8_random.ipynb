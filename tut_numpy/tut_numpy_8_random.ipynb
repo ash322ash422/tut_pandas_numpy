{
 "cells": [
  {
   "cell_type": "markdown",
   "id": "80906c65-9f0c-4f65-854c-f9de5e852a94",
   "metadata": {},
   "source": [
    "# Numpy"
   ]
  },
  {
   "cell_type": "markdown",
   "id": "d7059fb0-80ea-43f7-876a-31990baae906",
   "metadata": {},
   "source": [
    "### Topics covered:\n",
    "random library\n",
    "\n",
    "\n",
    "- np.random.rand()\n",
    "- np.random.randint()\n",
    "- np.random.choice()\n",
    "- np.random.shuffle()\n",
    "\n",
    "#### Random numbers from distribution:\n",
    "- np.random.randn()\n",
    "- np.random.normal()\n",
    "- np.random.binomial()\n",
    "- np.random.poisson()\n",
    "- np.random.uniform"
   ]
  },
  {
   "cell_type": "code",
   "execution_count": 18,
   "id": "902a8938-9799-4b90-af5c-746901d7b5fe",
   "metadata": {},
   "outputs": [],
   "source": [
    "import numpy as np"
   ]
  },
  {
   "cell_type": "code",
   "execution_count": 19,
   "id": "ed70e6ea-e5c4-4b50-ac52-03614773ce23",
   "metadata": {},
   "outputs": [
    {
     "name": "stdout",
     "output_type": "stream",
     "text": [
      "Random numbers without seed: [0.73311302 0.13156769 0.71582496 0.90903252 0.17968311]\n"
     ]
    }
   ],
   "source": [
    "# Lets generate 5 random numbers\n",
    "# step1: Each run produces different output -> not reproducible\n",
    "\n",
    "print(\"Random numbers without seed:\", np.random.rand(5))\n",
    "\n",
    "# Each time when I run my output is diff. If I want same output on each run, then this is a problem"
   ]
  },
  {
   "cell_type": "code",
   "execution_count": 20,
   "id": "572ac808-5988-458c-a223-ef5a8a82bf7d",
   "metadata": {},
   "outputs": [
    {
     "name": "stdout",
     "output_type": "stream",
     "text": [
      "Random numbers with seed 78: [0.04818123 0.68096301 0.79869607 0.80010859 0.96529725]\n"
     ]
    }
   ],
   "source": [
    "# step2: With random seed. (Each run produces same output -> reproducible)\n",
    "\n",
    "np.random.seed(78) # seed number produces unique set of numbers\n",
    "print(\"Random numbers with seed 78:\", np.random.rand(5))"
   ]
  },
  {
   "cell_type": "code",
   "execution_count": 21,
   "id": "2266fc0d-24ae-4fd7-97b0-3920956533a8",
   "metadata": {},
   "outputs": [
    {
     "name": "stdout",
     "output_type": "stream",
     "text": [
      "Random numbers with seed 43: [0.11505457 0.60906654 0.13339096 0.24058962 0.32713906]\n"
     ]
    }
   ],
   "source": [
    "# step3: Now I want different set of numbers. So change seed value\n",
    "\n",
    "np.random.seed(43)\n",
    "print(\"Random numbers with seed 43:\", np.random.rand(5))"
   ]
  },
  {
   "cell_type": "code",
   "execution_count": null,
   "id": "50c5a17d-b92c-41d1-841c-aeee9572e1b3",
   "metadata": {},
   "outputs": [],
   "source": []
  },
  {
   "cell_type": "code",
   "execution_count": 22,
   "id": "bbdc7e57-a604-4580-9151-514233160486",
   "metadata": {},
   "outputs": [
    {
     "name": "stdout",
     "output_type": "stream",
     "text": [
      "\n",
      "Random integers (1–8): [4 3 7 7 1 4 3 4 4 2 2 3 4 3 4 6 5 5 1 6 5 1 5 1 3 5 1 2 3 1 5 5 1 5 2 6 5\n",
      " 1 6 1 4 3 2 4 2 6 1 7 3 3]\n"
     ]
    }
   ],
   "source": [
    "# I want 50 random integers from 1,2,3,...7  (low, high, size)\n",
    "\n",
    "print(\"\\nRandom integers (1–8):\", np.random.randint(1, 8, size=50))"
   ]
  },
  {
   "cell_type": "code",
   "execution_count": null,
   "id": "565eb975-0846-452b-ac8b-5412beab0b6e",
   "metadata": {},
   "outputs": [],
   "source": []
  },
  {
   "cell_type": "code",
   "execution_count": null,
   "id": "aa461f04-465c-45e9-a0c8-0400b333aa86",
   "metadata": {},
   "outputs": [],
   "source": []
  },
  {
   "cell_type": "code",
   "execution_count": 23,
   "id": "44ba2f73-66fb-43ed-b191-bc93d679d8db",
   "metadata": {},
   "outputs": [
    {
     "name": "stdout",
     "output_type": "stream",
     "text": [
      "\n",
      "Random choice from list: ['banana' 'banana' 'banana' 'kiwi' 'cherry' 'apple']\n"
     ]
    }
   ],
   "source": [
    "# Random choices\n",
    "\n",
    "items = ['kiwi', 'banana', 'cherry', 'apple']\n",
    "\n",
    "# Random choice from list with replacement\n",
    "print(\"\\nRandom choice from list:\", np.random.choice(items, size=6, replace=True))"
   ]
  },
  {
   "cell_type": "code",
   "execution_count": 24,
   "id": "7ebd0ee9-ba8e-4f56-b98c-6e29af8a0e1a",
   "metadata": {},
   "outputs": [
    {
     "name": "stdout",
     "output_type": "stream",
     "text": [
      "Sample without replacement: [9 1 4 0 5 2]\n"
     ]
    }
   ],
   "source": [
    "# Without replacement (like lottery)\n",
    "print(\"Sample without replacement:\", np.random.choice(10, size=6, replace=False))"
   ]
  },
  {
   "cell_type": "code",
   "execution_count": 25,
   "id": "a2aa71df-31c6-420d-8ea9-892ab8d97d92",
   "metadata": {},
   "outputs": [
    {
     "name": "stdout",
     "output_type": "stream",
     "text": [
      "Random samples: ['H' 'H' 'T' 'T' 'H' 'T' 'T' 'H' 'H' 'H' 'T' 'H' 'H' 'H' 'H' 'T' 'H' 'T'\n",
      " 'T' 'T']\n"
     ]
    }
   ],
   "source": [
    "# Lets generate a random samples of H and T, head and tail with 70% chance of head.\n",
    "\n",
    "# Define outcome and their probabilities (H = 0.7, T = 0.3)\n",
    "outcomes      = ['H', 'T']\n",
    "probabilities = [0.7, 0.3] # This should sum to 1 else ERROR\n",
    "\n",
    "samples = np.random.choice(outcomes, size=20, p=probabilities)\n",
    "\n",
    "print(\"Random samples:\", samples)"
   ]
  },
  {
   "cell_type": "code",
   "execution_count": 26,
   "id": "31067e17-d6ec-417b-9487-9129aa026388",
   "metadata": {},
   "outputs": [
    {
     "name": "stdout",
     "output_type": "stream",
     "text": [
      "arr           : [0 1 2 3 4 5 6 7 8 9]\n",
      "Shuffled array: [2 0 7 5 9 8 4 1 6 3]\n",
      "items         : ['kiwi', 'banana', 'cherry', 'apple']\n",
      "Shuffled items: ['apple', 'cherry', 'kiwi', 'banana']\n"
     ]
    }
   ],
   "source": [
    "# lets shuffle an array of numbers\n",
    "arr = np.arange(10)\n",
    "print(\"arr           :\", arr)\n",
    "np.random.shuffle(arr)\n",
    "print(\"Shuffled array:\", arr)\n",
    "######################\n",
    "\n",
    "# Now lets shuffle an array of items\n",
    "items = ['kiwi', 'banana', 'cherry', 'apple']\n",
    "print(\"items         :\", items)\n",
    "np.random.shuffle(items)\n",
    "print(\"Shuffled items:\", items)"
   ]
  },
  {
   "cell_type": "code",
   "execution_count": null,
   "id": "c4afc492-02dd-4cac-9d36-a2dd084674a5",
   "metadata": {},
   "outputs": [],
   "source": []
  },
  {
   "cell_type": "markdown",
   "id": "420d75bd-b1aa-448c-8154-ea77007d5b0f",
   "metadata": {},
   "source": [
    "## Samples from distibution (For mathematicians)"
   ]
  },
  {
   "cell_type": "code",
   "execution_count": 27,
   "id": "4a88f03c-a83e-45c5-8afa-6e053b74bc39",
   "metadata": {},
   "outputs": [
    {
     "name": "stdout",
     "output_type": "stream",
     "text": [
      "\n",
      "Standard Normal: [-1.48604258  0.51412877  0.85179086  0.95867344 -0.62648405]\n",
      "mean: 0.04241328728053719\n",
      "std_dev: 0.9487614250166855\n"
     ]
    }
   ],
   "source": [
    "# Sampling from normal distribution (mean=0, std=1)\n",
    "\n",
    "# step 1: Lets use small size 5\n",
    "\n",
    "a_rand = np.random.randn(5)\n",
    "print(\"\\nStandard Normal:\", a_rand)\n",
    "print(\"mean:\", np.mean(a_rand))\n",
    "print(\"std_dev:\", np.std(a_rand))\n",
    "\n",
    "# The mean is not equal to 0 and std is not closer to 1. This is a problem that happens with small samples"
   ]
  },
  {
   "cell_type": "code",
   "execution_count": 28,
   "id": "457ea23d-66a4-48e1-ad15-6f16684b5e1e",
   "metadata": {},
   "outputs": [
    {
     "name": "stdout",
     "output_type": "stream",
     "text": [
      "\n",
      "Standard Normal: [ 0.30793101  0.00520568  0.69153191  0.44486216  0.09027953 -1.8583429\n",
      " -0.16658004  0.11087648 -0.69477264 -0.26917557 -1.29922515 -0.32110545\n",
      "  0.50586874  2.08905957 -1.01270925 -0.02397407 -0.96146905 -0.09256619\n",
      " -0.22373208  0.83289216  0.97411958  0.16281816 -0.11449202  1.18646843\n",
      "  0.17979165  1.51644162 -1.63403202  1.7819709  -0.6177277  -1.08639929\n",
      " -0.04475333 -1.16370242  0.5689395  -0.46264386  0.2873551  -0.97733871\n",
      " -0.22243626  0.09693177 -0.18838435  1.59160216  0.58581083  0.20367539\n",
      " -1.8565207   0.37818946  1.23614032 -0.6899718  -0.19835469 -3.02573987\n",
      " -1.24562622 -2.08403947  0.10412165 -0.15023349 -0.1058165  -0.43695414\n",
      "  1.01913632 -1.23280323 -0.07412454  0.59638918 -0.17939256 -0.09079507\n",
      " -0.82507963 -0.33496946  0.71835081 -2.01946218 -0.15802905 -0.58421513\n",
      " -0.0703065   1.77318123 -0.44662929  1.48937458  1.10030872  0.02989632\n",
      "  0.08710581  0.18123494 -0.8251718   0.62683877 -0.61269785  0.03574234\n",
      " -2.19596261 -0.86328269  0.53509936 -1.1234633   0.33396509 -0.50723046\n",
      "  0.99015017  1.25794397  0.17762492 -0.01486742  0.04043611 -0.02144477\n",
      "  1.19165658  2.50486469 -1.33346113 -1.02827265  1.36316966 -1.14227459\n",
      " -1.37202546  2.11537144 -0.27427489 -0.25014542]\n",
      "mean: -0.06708476156030986\n",
      "std_dev: 0.99870980768356\n"
     ]
    }
   ],
   "source": [
    "# step 2: Lets use big size 100\n",
    "\n",
    "a_rand = np.random.randn(100)\n",
    "print(\"\\nStandard Normal:\", a_rand)\n",
    "print(\"mean:\", np.mean(a_rand))\n",
    "print(\"std_dev:\", np.std(a_rand))\n",
    "\n",
    "# The bigger the sample is, the closer the mean would be to 0 and std would be to 1"
   ]
  },
  {
   "cell_type": "code",
   "execution_count": null,
   "id": "584cfd45-996d-4b19-b767-03f26098a483",
   "metadata": {},
   "outputs": [],
   "source": []
  },
  {
   "cell_type": "code",
   "execution_count": null,
   "id": "38e0892b-2eac-4b28-8876-9d47534b91d2",
   "metadata": {},
   "outputs": [],
   "source": []
  },
  {
   "cell_type": "code",
   "execution_count": 29,
   "id": "c78bf470-e045-4b67-89ea-104731106448",
   "metadata": {},
   "outputs": [
    {
     "name": "stdout",
     "output_type": "stream",
     "text": [
      "\n",
      "Normal (mean=50, std=10): [44.911696   55.81340729 38.66899919 67.74389225 57.53046324]\n"
     ]
    }
   ],
   "source": [
    "# Sampling from normal distribution with mean=50, std=10 and 5 samples\n",
    "\n",
    "print(\"\\nNormal (mean=50, std=10):\", np.random.normal(loc=50, scale=10, size=5))"
   ]
  },
  {
   "cell_type": "code",
   "execution_count": null,
   "id": "2c80753a-a352-4524-a385-d45588c37355",
   "metadata": {},
   "outputs": [],
   "source": []
  },
  {
   "cell_type": "code",
   "execution_count": 34,
   "id": "9735a5e2-b244-40c9-992f-494a971e52e1",
   "metadata": {},
   "outputs": [
    {
     "name": "stdout",
     "output_type": "stream",
     "text": [
      "Binomial: [6 3 6 7 4 4 8 4 7 5]\n",
      "\n",
      "Poisson: [3 2 4 3 1 2 4 1 0 7]\n",
      "\n",
      "Uniform [0,1): [0.11191962 0.26974961 0.05708686 0.53116953 0.93660569]\n",
      "\n",
      "Uniform [5,15): [ 5.39343541  6.22109914  9.52199028 14.33875018  8.16156105]\n"
     ]
    }
   ],
   "source": [
    "# Sampling from  Binomial / Poisson / Uniform distribution\n",
    "\n",
    "# Binomial distribution (n=10 trials, p=0.5, size=10 samples)\n",
    "print(\"Binomial:\", np.random.binomial(n=10, p=0.5, size=10))\n",
    "\n",
    "# Poisson distribution (lambda=3, 10 samples)\n",
    "print(\"\\nPoisson:\", np.random.poisson(lam=3, size=10))\n",
    "\n",
    "# Uniform distribution between [0, 1)\n",
    "print(\"\\nUniform [0,1):\", np.random.rand(5))\n",
    "\n",
    "# Uniform distribution between [low, high)\n",
    "print(\"\\nUniform [5,15):\", np.random.uniform(5, 15, 5))"
   ]
  },
  {
   "cell_type": "code",
   "execution_count": null,
   "id": "a1cdc198-26ad-4c57-8690-9fcfcdc89580",
   "metadata": {},
   "outputs": [],
   "source": []
  },
  {
   "cell_type": "markdown",
   "id": "ca46fdbf-06f1-45f6-9a94-b82247110710",
   "metadata": {},
   "source": [
    "# STOP"
   ]
  },
  {
   "cell_type": "code",
   "execution_count": null,
   "id": "e8656772-f4c1-4b8b-a8b7-5d80d7619802",
   "metadata": {},
   "outputs": [],
   "source": []
  },
  {
   "cell_type": "code",
   "execution_count": null,
   "id": "af4b6f96-098e-47cf-aa5a-bf2b78346ee8",
   "metadata": {},
   "outputs": [],
   "source": []
  },
  {
   "cell_type": "code",
   "execution_count": null,
   "id": "56622026-e2c8-43c0-8f00-71d3e12d2eb0",
   "metadata": {},
   "outputs": [],
   "source": []
  },
  {
   "cell_type": "code",
   "execution_count": null,
   "id": "b60050bf-62a7-49ff-8dc2-b51eed384fb3",
   "metadata": {},
   "outputs": [],
   "source": []
  },
  {
   "cell_type": "code",
   "execution_count": null,
   "id": "07eadbe5-bd05-4cf7-9f1a-151c42c7bb17",
   "metadata": {},
   "outputs": [],
   "source": []
  },
  {
   "cell_type": "code",
   "execution_count": null,
   "id": "097c83e4-ba72-4f67-911f-322a1aa1d8f2",
   "metadata": {},
   "outputs": [],
   "source": []
  },
  {
   "cell_type": "code",
   "execution_count": null,
   "id": "d764b277-68f3-4f0f-a834-1265140e0825",
   "metadata": {},
   "outputs": [],
   "source": []
  },
  {
   "cell_type": "code",
   "execution_count": 31,
   "id": "65f1a08f-e2b6-446e-966e-2d7655116cad",
   "metadata": {},
   "outputs": [
    {
     "name": "stdout",
     "output_type": "stream",
     "text": [
      "Sample values: [  829   194   980  1855    98    98  1911  1099  -137   875  -130  -133\n",
      "   574 -1580 -1392  -229  -680   646  -575 -1079  1798   106   400 -1092\n",
      "  -211   443  -818   708  -268    40  -269  2184   319  -725  1155  -888\n",
      "   541 -1627  -995   529  1070   503   216    31 -1146  -387  -128  1389\n",
      "   676 -1430]\n",
      "Sample mean: 106.96\n"
     ]
    }
   ],
   "source": [
    "# Lets generate a random sample of \"integers\" of small size 50 with a mean of 107 using NumPy.\n",
    "# Also the distribution should be normal\n",
    "# Following show to do this for small size\n",
    "\n",
    "np.random.seed(42) # for reproducibilty  \n",
    "\n",
    "# Set the desired parameters\n",
    "sample_size = 50\n",
    "desired_mean = 107\n",
    "\n",
    "# Generate random values (e.g., from a normal distribution)\n",
    "# We'll generate a sample with mean 0, then shift it to desired mean\n",
    "# scale controls how much your sample would vary around the mean\n",
    "random_sample = np.random.normal(loc=0, scale=1000, size=sample_size)\n",
    "\n",
    "# Shift the sample to have the desired mean because the above sample may not have the desired mean\n",
    "# due to small sample size.\n",
    "adjusted_sample = random_sample - np.mean(random_sample) + desired_mean\n",
    "adjusted_sample = np.round(adjusted_sample,1).astype(int)\n",
    "\n",
    "# Print the sample and its mean\n",
    "print(\"Sample values:\", adjusted_sample)\n",
    "print(\"Sample mean:\", np.mean(adjusted_sample))"
   ]
  },
  {
   "cell_type": "code",
   "execution_count": null,
   "id": "00b353a7-7773-4504-833a-612222eb4b77",
   "metadata": {},
   "outputs": [],
   "source": []
  },
  {
   "cell_type": "code",
   "execution_count": null,
   "id": "77ab2e13-43e1-4279-b39a-eed9c540e64d",
   "metadata": {},
   "outputs": [],
   "source": []
  },
  {
   "cell_type": "code",
   "execution_count": 32,
   "id": "56a0a00f-00fc-409f-8b6c-c3f6eecd90d6",
   "metadata": {},
   "outputs": [
    {
     "name": "stdout",
     "output_type": "stream",
     "text": [
      "[ 0.32408397 -0.38508228 -0.676922    0.61167629  1.03099952  0.93128012\n",
      " -0.83921752 -0.30921238  0.33126343  0.97554513]\n"
     ]
    },
    {
     "data": {
      "image/png": "[encoded data removed]",
      "text/plain": [
       "<Figure size 640x480 with 1 Axes>"
      ]
     },
     "metadata": {},
     "output_type": "display_data"
    }
   ],
   "source": [
    "# Visualization of distributions\n",
    "\n",
    "import matplotlib.pyplot as plt\n",
    "\n",
    "# Histogram of normal distribution\n",
    "data = np.random.normal(0, 1, 1000)  # mean=0, std=1, 1000 samples\n",
    "print(data[0:10])\n",
    "\n",
    "plt.hist(data, bins=30, density=True, alpha=0.6, color='g')\n",
    "plt.title(\"Histogram of Normal Distribution (mean=0, std=1)\")\n",
    "plt.show()"
   ]
  },
  {
   "cell_type": "code",
   "execution_count": null,
   "id": "62d4f90c-342b-4498-9457-8bd283a82ea5",
   "metadata": {},
   "outputs": [],
   "source": []
  },
  {
   "cell_type": "code",
   "execution_count": 33,
   "id": "c7e7e981-a6ed-4415-9067-c813c96784a3",
   "metadata": {},
   "outputs": [
    {
     "name": "stdout",
     "output_type": "stream",
     "text": [
      "\n",
      "New Generator API:\n",
      "Uniform [0,1): [0.68235186 0.05382102 0.22035987 0.18437181 0.1759059 ]\n",
      "Normal(0,1): [ 0.57710379 -0.63646365  0.54195222 -0.31659545 -0.32238912]\n",
      "Integers 1–10: [1 5 3 3 3]\n"
     ]
    }
   ],
   "source": [
    "# OPTIONAL\n",
    "# 6. Random Generator (new API in numpy >=1.17)\n",
    "# ================================\n",
    "\n",
    "rng = np.random.default_rng(seed=123)\n",
    "\n",
    "print(\"\\nNew Generator API:\")\n",
    "\n",
    "# Uniform random floats\n",
    "print(\"Uniform [0,1):\", rng.random(5))\n",
    "\n",
    "# Normal distribution\n",
    "print(\"Normal(0,1):\", rng.normal(0, 1, 5))\n",
    "\n",
    "# Integers\n",
    "print(\"Integers 1–10:\", rng.integers(1, 10, size=5))\n"
   ]
  },
  {
   "cell_type": "code",
   "execution_count": null,
   "id": "e6d1ffdf-f42c-4947-8eff-b5c934466ba5",
   "metadata": {},
   "outputs": [],
   "source": []
  },
  {
   "cell_type": "code",
   "execution_count": null,
   "id": "9f5024f8-7eeb-4798-8740-be4370f7206d",
   "metadata": {},
   "outputs": [],
   "source": []
  }
 ],
 "metadata": {
  "kernelspec": {
   "display_name": "Python 3 (ipykernel)",
   "language": "python",
   "name": "python3"
  },
  "language_info": {
   "codemirror_mode": {
    "name": "ipython",
    "version": 3
   },
   "file_extension": ".py",
   "mimetype": "text/x-python",
   "name": "python",
   "nbconvert_exporter": "python",
   "pygments_lexer": "ipython3",
   "version": "3.9.9"
  }
 },
 "nbformat": 4,
 "nbformat_minor": 5
}
