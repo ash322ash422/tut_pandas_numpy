{
 "cells": [
  {
   "cell_type": "markdown",
   "id": "e4269163-2658-4dee-9d3d-f75169d05b40",
   "metadata": {},
   "source": [
    "# Broadcasting\n",
    "Broadcasting in NumPy is a set of rules that allow array operations (like addition, multiplication, etc.) **between arrays of different shapes without making explicit copies of data**.\n",
    "\n",
    "Instead of looping manually, NumPy automatically \"stretches\" the smaller array across the larger one without really copying values, making operations efficient.\n",
    "\n",
    "\n",
    "## Broadcasting Rules\n",
    "\n",
    "When performing element-wise operations between two arrays:\n",
    "\n",
    "Compare shapes from right to left.\n",
    "\n",
    "Two dimensions are compatible when:\n",
    "- They are equal, OR\n",
    "- One of them is 1.\n",
    "\n",
    "***If dimensions don’t match and neither is 1, NumPy throws an error.***\n",
    "\n",
    "***If compatible, NumPy \"broadcasts\" (virtually repeats) the smaller array.***\n",
    "\n",
    "\n",
    "## Why Broadcasting is Useful ?\n",
    "- Eliminates explicit loops (for)\n",
    "- Saves memory (no real replication)\n",
    "- Much faster (uses vectorized C operations under the hood)"
   ]
  },
  {
   "cell_type": "code",
   "execution_count": 1,
   "id": "1d4038ab-c846-4b54-b0a2-12a06588c484",
   "metadata": {},
   "outputs": [],
   "source": [
    "import numpy as np"
   ]
  },
  {
   "cell_type": "code",
   "execution_count": 2,
   "id": "adfa8bfc-aa8d-4637-9dd8-104d7ffca267",
   "metadata": {},
   "outputs": [
    {
     "name": "stdout",
     "output_type": "stream",
     "text": [
      "[4 5 6 7]\n"
     ]
    }
   ],
   "source": [
    "# Example 1: Vector + Scalar\n",
    "\n",
    "a = np.array([1, 2, 3, 4])\n",
    "b = 3\n",
    "\n",
    "res = a + b\n",
    "print(res)"
   ]
  },
  {
   "cell_type": "markdown",
   "id": "119f1919-d5a2-463b-a41d-f413f01aa4f3",
   "metadata": {},
   "source": [
    "### The scalar 3 is broadcast to [3, 3, 3, 3]."
   ]
  },
  {
   "cell_type": "code",
   "execution_count": null,
   "id": "202bb8ed-178a-4e15-bd13-1bf60cfc81eb",
   "metadata": {},
   "outputs": [],
   "source": []
  },
  {
   "cell_type": "code",
   "execution_count": 3,
   "id": "e6556ff8-eb75-44b5-b85f-b370025da2bf",
   "metadata": {},
   "outputs": [
    {
     "name": "stdout",
     "output_type": "stream",
     "text": [
      "[[11 22 33]\n",
      " [14 25 36]]\n"
     ]
    }
   ],
   "source": [
    "# Example 2: Matrix + Vector\n",
    "\n",
    "a = np.array([[1, 2, 3],\n",
    "              [4, 5, 6]]\n",
    ") # 2x3 matrix\n",
    "\n",
    "b = np.array([10, 20, 30]) # 1X3 matrix\n",
    "\n",
    "res = a + b\n",
    "print(res)"
   ]
  },
  {
   "cell_type": "markdown",
   "id": "0c40cc40-3290-4eea-a7a8-27f74e273afa",
   "metadata": {},
   "source": [
    "### b is broadcast across each row."
   ]
  },
  {
   "cell_type": "code",
   "execution_count": null,
   "id": "c9d254a6-1a01-4e70-bf48-ef2a077be50c",
   "metadata": {},
   "outputs": [],
   "source": []
  },
  {
   "cell_type": "code",
   "execution_count": 4,
   "id": "e2b37261-1545-4c05-9988-3722f4dd2a32",
   "metadata": {},
   "outputs": [
    {
     "name": "stdout",
     "output_type": "stream",
     "text": [
      "(3,)\n",
      "[[11 21 31]\n",
      " [12 22 32]\n",
      " [13 23 33]]\n"
     ]
    }
   ],
   "source": [
    "# Example 3: Different Dimensions\n",
    "\n",
    "a = np.array([[1],\n",
    "              [2],\n",
    "              [3]]\n",
    ")   # shape (3,1)\n",
    "b = np.array([10, 20, 30])      # shape (3,)\n",
    "\n",
    "res = a + b\n",
    "print(res)"
   ]
  },
  {
   "cell_type": "markdown",
   "id": "b6d79b9d-802f-479c-9d4b-a661afee2316",
   "metadata": {},
   "source": [
    "a.shape = (3,1)\n",
    "\n",
    "b.shape = (3,) -> (1,3)\n",
    "\n",
    "Resulting shape = (3,3)"
   ]
  },
  {
   "cell_type": "code",
   "execution_count": null,
   "id": "0e9bbf9f-242a-4e2f-ad77-ed94134ffe58",
   "metadata": {},
   "outputs": [],
   "source": []
  },
  {
   "cell_type": "markdown",
   "id": "b85665e5-e9a0-42bb-9bc0-478baad8ef8a",
   "metadata": {},
   "source": [
    "\n",
    "Suppose you want to add:\n",
    "\n",
    "Shape (4,1,3)\n",
    "\n",
    "Shape ( 5,1)\n",
    "\n",
    "Steps:\n",
    "\n",
    "1) Pad shapes for alignment:\n",
    "- (4,1,3)\n",
    "- (1,5,1)\n",
    "\n",
    "2) Compare:\n",
    "- 3 vs 1 -> OK\n",
    "- 1 vs 5 -> OK\n",
    "- 4 vs 1 -> OK\n",
    "\n",
    "3) Result shape: (4,5,3)"
   ]
  },
  {
   "cell_type": "code",
   "execution_count": 6,
   "id": "e5f7eab1-191b-41a5-b810-628c29262259",
   "metadata": {},
   "outputs": [
    {
     "name": "stdout",
     "output_type": "stream",
     "text": [
      "Shape of a: (4, 1, 3)\n",
      "Shape of b: (5, 1)\n",
      "Shape of result: (4, 5, 3)\n",
      "[[[ 0  1  2]\n",
      "  [ 1  2  3]\n",
      "  [ 2  3  4]\n",
      "  [ 3  4  5]\n",
      "  [ 4  5  6]]\n",
      "\n",
      " [[ 3  4  5]\n",
      "  [ 4  5  6]\n",
      "  [ 5  6  7]\n",
      "  [ 6  7  8]\n",
      "  [ 7  8  9]]\n",
      "\n",
      " [[ 6  7  8]\n",
      "  [ 7  8  9]\n",
      "  [ 8  9 10]\n",
      "  [ 9 10 11]\n",
      "  [10 11 12]]\n",
      "\n",
      " [[ 9 10 11]\n",
      "  [10 11 12]\n",
      "  [11 12 13]\n",
      "  [12 13 14]\n",
      "  [13 14 15]]]\n"
     ]
    }
   ],
   "source": [
    "# Example of above\n",
    "\n",
    "# Shape (4,1,3)\n",
    "a = np.arange(12).reshape(4,1,3)\n",
    "\n",
    "# Shape (5,1)\n",
    "b = np.arange(5).reshape(5,1)\n",
    "\n",
    "print(\"Shape of a:\", a.shape)\n",
    "print(\"Shape of b:\", b.shape)\n",
    "\n",
    "res = a + b\n",
    "print(\"Shape of result:\", res.shape)\n",
    "print(res)\n"
   ]
  },
  {
   "cell_type": "code",
   "execution_count": null,
   "id": "2e6aa3bd-2daf-4bf2-bd80-6a8fd899cfd6",
   "metadata": {},
   "outputs": [],
   "source": []
  },
  {
   "cell_type": "code",
   "execution_count": null,
   "id": "a5684dab-f133-444c-bd91-070855d06d02",
   "metadata": {},
   "outputs": [],
   "source": []
  },
  {
   "cell_type": "code",
   "execution_count": null,
   "id": "bc1e2a90-665e-4986-8f56-e0105aee86cb",
   "metadata": {},
   "outputs": [],
   "source": []
  },
  {
   "cell_type": "code",
   "execution_count": 7,
   "id": "33969e22-d7a2-449a-8fe4-cf57a63dbcf7",
   "metadata": {},
   "outputs": [],
   "source": [
    "# When Broadcasting Fails\n",
    "\n",
    "# step1: Following fails. ValueError: operands could not be broadcast together\n",
    "a = np.array([1, 2, 3, 4])\n",
    "b = np.array([7, 7])\n",
    "\n",
    "# res = a + b  # ERROR "
   ]
  },
  {
   "cell_type": "code",
   "execution_count": 8,
   "id": "9cfcf191-b166-42c1-89b2-7a21899f469d",
   "metadata": {},
   "outputs": [
    {
     "name": "stdout",
     "output_type": "stream",
     "text": [
      "[ 8  9 10 11]\n"
     ]
    }
   ],
   "source": [
    "# step2: Following works\n",
    "a = np.array([1, 2, 3, 4])\n",
    "b = np.array([7])\n",
    "\n",
    "res = a + b   \n",
    "print(res)"
   ]
  },
  {
   "cell_type": "code",
   "execution_count": null,
   "id": "1e75ce5d-59ee-49a5-9b0f-3ee286f281b6",
   "metadata": {},
   "outputs": [],
   "source": []
  },
  {
   "cell_type": "code",
   "execution_count": null,
   "id": "6cf49719-8b70-4228-9283-ba67f9c8290f",
   "metadata": {},
   "outputs": [],
   "source": []
  }
 ],
 "metadata": {
  "kernelspec": {
   "display_name": "Python 3 (ipykernel)",
   "language": "python",
   "name": "python3"
  },
  "language_info": {
   "codemirror_mode": {
    "name": "ipython",
    "version": 3
   },
   "file_extension": ".py",
   "mimetype": "text/x-python",
   "name": "python",
   "nbconvert_exporter": "python",
   "pygments_lexer": "ipython3",
   "version": "3.9.9"
  }
 },
 "nbformat": 4,
 "nbformat_minor": 5
}
