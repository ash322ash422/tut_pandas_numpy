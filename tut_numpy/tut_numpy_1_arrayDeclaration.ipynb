{
 "cells": [
  {
   "cell_type": "markdown",
   "id": "c6dc53ad-3ae1-4f09-8ee1-f81a2e69b60f",
   "metadata": {
    "id": "c6dc53ad-3ae1-4f09-8ee1-f81a2e69b60f"
   },
   "source": [
    "# NumPy\n",
    "- Short for **Num**erical **Py**thon\n",
    "- Numpy is the core library for **scientific computing in Python and used for numerical computations**.\n",
    "\n",
    "### why do we need numpy arrays ?\n",
    "- NumPy arrays are significantly **faster for numerical operations** compared to Python lists\n",
    "- NumPy provides a rich set of mathematical functions and operations optimized for arrays, including linear algebra operations, Fourier transforms, random number generation, etc. which are not readily available or as efficient with standard Python lists.\n",
    "- NumPy's core feature is the **ndarray, a powerful N-dimensional array object that allows for efficient manipulation of large datasets**. These are **multidimensional array object**\n"
   ]
  },
  {
   "cell_type": "markdown",
   "id": "03ca8900-c0fb-4134-b398-096a68c54825",
   "metadata": {
    "id": "03ca8900-c0fb-4134-b398-096a68c54825"
   },
   "source": [
    "### Topics covered:\n",
    "- creating arrays from list or tuple\n",
    "- np methods to create arrays: zeros, ones, full, eye, random, randomint, arrange, etc\n"
   ]
  },
  {
   "cell_type": "markdown",
   "id": "34d2ec3e-7cfb-4103-98a2-9cb5c5bc2fd8",
   "metadata": {
    "id": "34d2ec3e-7cfb-4103-98a2-9cb5c5bc2fd8"
   },
   "source": [
    "## Few terms and definitions\n",
    "- A numpy array is a grid of values, all of the same type, and is indexed by a tuple of nonnegative integers. \n",
    "- **The number of dimensions is the rank of the array**\n",
    "-  The **shape** of an array is a tuple of integers giving the size of the array along each dimension.\n",
    "- A rank 1 array (also known as a 1-dimensional array) is essentially a list of values.\n",
    "\n",
    "\n",
    "**We can initialize numpy arrays from nested Python iterables like lists, tuples, etc.**\n",
    "\n",
    "**We access elements using square brackets:[]**"
   ]
  },
  {
   "cell_type": "code",
   "execution_count": null,
   "id": "d4283a50-ba55-4a73-86ee-fa71404a5bbf",
   "metadata": {},
   "outputs": [],
   "source": [
    "# !pip install numpy"
   ]
  },
  {
   "cell_type": "code",
   "execution_count": 2,
   "id": "9a49dc5a-9216-4bd3-811c-0307b4adc1ac",
   "metadata": {
    "id": "9a49dc5a-9216-4bd3-811c-0307b4adc1ac"
   },
   "outputs": [],
   "source": [
    "import numpy as np"
   ]
  },
  {
   "cell_type": "code",
   "execution_count": 8,
   "id": "0a01720d-ec45-46aa-8615-672ff2e51e3e",
   "metadata": {
    "colab": {
     "base_uri": "https://localhost:8080/"
    },
    "id": "0a01720d-ec45-46aa-8615-672ff2e51e3e",
    "outputId": "f07fdb74-ece3-4506-c4ff-3303ae7eff27"
   },
   "outputs": [
    {
     "name": "stdout",
     "output_type": "stream",
     "text": [
      "[50 30 72 65 59 22]\n",
      "<class 'numpy.ndarray'>\n",
      "1\n",
      "(6,)\n"
     ]
    }
   ],
   "source": [
    "# lets create an array of shape (6): i.e. 1D array with 6 elements\n",
    "\n",
    "l = [50, 30, 72, 65, 59, 22] # scores in 6 subjects\n",
    "a = np.array(l)   # Create a rank 1(i.e. 1D) array\n",
    "\n",
    "print(a)\n",
    "print(type(a))  #  <class 'numpy.ndarray'>\n",
    "print(a.ndim)   # lets look at dim\n",
    "print(a.shape)  # Lets look at shape, i.e. the number of elements (6,)"
   ]
  },
  {
   "cell_type": "code",
   "execution_count": 9,
   "id": "1084ca79-8e1d-48ae-8a55-cfbc114a4d27",
   "metadata": {},
   "outputs": [
    {
     "name": "stdout",
     "output_type": "stream",
     "text": [
      "[50 30 72 65 59 22]\n",
      "<class 'numpy.ndarray'>\n",
      "1\n",
      "(6,)\n"
     ]
    }
   ],
   "source": [
    "# I can create numpy array from  tuples too\n",
    "t = (50, 30, 72, 65, 59, 22)\n",
    "a = np.array(t)   # Create a rank 1(i.e. 1D) array\n",
    "\n",
    "print(a)\n",
    "print(type(a))  # <class 'numpy.ndarray'>\n",
    "print(a.ndim)   # lets look at dim\n",
    "print(a.shape)  # Lets look at shape, i.e. the number of elements (6,)"
   ]
  },
  {
   "cell_type": "code",
   "execution_count": 4,
   "id": "61b17694-dd58-412f-9f4f-1b790a97bfac",
   "metadata": {},
   "outputs": [
    {
     "name": "stdout",
     "output_type": "stream",
     "text": [
      "[[85 90 78]\n",
      " [68 76 92]]\n",
      "<class 'numpy.ndarray'>\n",
      "2\n",
      "(2, 3)\n"
     ]
    }
   ],
   "source": [
    "# Now lets create an array of dimension 2D each with 2 and 3 elements \n",
    "# Each row represents a student, each column represents a subject (Math, Science, English)\n",
    "l = [\n",
    "    [85, 90, 78],  # Student 1\n",
    "    [68, 76, 92]   # Student 2\n",
    "]\n",
    "scores = np.array(l)\n",
    "\n",
    "print(scores)\n",
    "print(scores.ndim)    # 2\n",
    "print(scores.shape)   # (2, 3)"
   ]
  },
  {
   "cell_type": "code",
   "execution_count": 5,
   "id": "2845bb0a-d813-41f1-9a20-70192864210d",
   "metadata": {},
   "outputs": [
    {
     "name": "stdout",
     "output_type": "stream",
     "text": [
      "[[[ 1  2  3  4  5]\n",
      "  [ 6  7  8  9 10]\n",
      "  [11 12 13 14 15]]\n",
      "\n",
      " [[16 17 18 19 20]\n",
      "  [21 22 23 24 25]\n",
      "  [26 27 28 29 30]]]\n",
      "3\n",
      "(2, 3, 5)\n",
      "[[[1 2]\n",
      "  [3 4]]\n",
      "\n",
      " [[5 6]\n",
      "  [7 8]]]\n",
      "<class 'numpy.ndarray'> 3\n",
      "(2, 2, 2)\n"
     ]
    }
   ],
   "source": [
    "# Creating a 3D array with shape (2, 3, 5)\n",
    "b = np.array([\n",
    "    [  # First block (depth index 0)\n",
    "        [1, 2, 3, 4, 5],      # row=0\n",
    "        [6, 7, 8, 9, 10],     # row=1\n",
    "        [11, 12, 13, 14, 15]  # row=2\n",
    "    ],\n",
    "    \n",
    "    [  # Second block (depth index 1)\n",
    "        [16, 17, 18, 19, 20], # row=0\n",
    "        [21, 22, 23, 24, 25], # row=1\n",
    "        [26, 27, 28, 29, 30]  # row=2\n",
    "    ]\n",
    "])\n",
    "\n",
    "print(b)\n",
    "print(b.ndim)    # 3\n",
    "print(b.shape)   # (2, 3, 5)"
   ]
  },
  {
   "cell_type": "code",
   "execution_count": 7,
   "id": "442880ce-66ca-4f4e-a447-a4ac894baeb6",
   "metadata": {
    "id": "442880ce-66ca-4f4e-a447-a4ac894baeb6",
    "outputId": "270b3759-5c97-4ec4-fb4b-500c85a85636"
   },
   "outputs": [
    {
     "name": "stdout",
     "output_type": "stream",
     "text": [
      "[[[1 2]\n",
      "  [5 8]\n",
      "  [3 4]]\n",
      "\n",
      " [[5 6]\n",
      "  [3 0]\n",
      "  [7 8]]]\n",
      "3\n",
      "(2, 3, 2)\n"
     ]
    }
   ],
   "source": [
    "# lets create 3D array of shape (2,3,2)\n",
    "b = np.array([\n",
    "    [ # First block (depth index 0)\n",
    "        [1, 2],\n",
    "        [5, 8],\n",
    "        [3, 4]\n",
    "    ],\n",
    "    [ # Second block (depth index 1)\n",
    "        [5, 6],\n",
    "        [3, 0],\n",
    "        [7, 8]\n",
    "    ]\n",
    "])\n",
    "print(b)\n",
    "print(b.ndim)    #  3\n",
    "print(b.shape)   # (2, 3, 2)\n",
    "##################################################"
   ]
  },
  {
   "cell_type": "code",
   "execution_count": null,
   "id": "5e199dbf-d38a-4602-8d10-3ab7f7be7b92",
   "metadata": {},
   "outputs": [],
   "source": []
  },
  {
   "cell_type": "markdown",
   "id": "50920f98-deb8-4708-add2-b053a12b2272",
   "metadata": {
    "id": "50920f98-deb8-4708-add2-b053a12b2272"
   },
   "source": [
    "**Numpy also provides many methods to create special arrays**"
   ]
  },
  {
   "cell_type": "code",
   "execution_count": 24,
   "id": "54422b87-b2b8-4e0f-95ee-272b9e04de8b",
   "metadata": {
    "id": "54422b87-b2b8-4e0f-95ee-272b9e04de8b",
    "outputId": "e663ad7f-377a-4d05-fa37-1ba3770a233a"
   },
   "outputs": [
    {
     "name": "stdout",
     "output_type": "stream",
     "text": [
      "[0. 0. 0. 0. 0. 0. 0. 0. 0. 0.]\n",
      "1\n",
      "(10,)\n",
      "#####################\n",
      "[[0. 0. 0.]\n",
      " [0. 0. 0.]\n",
      " [0. 0. 0.]]\n",
      "#####################\n",
      "[[0. 0. 0. 0. 0.]\n",
      " [0. 0. 0. 0. 0.]\n",
      " [0. 0. 0. 0. 0.]]\n"
     ]
    }
   ],
   "source": [
    "# creating matrices of all zeros\n",
    "# create a 1D array of 10 elements with all 0\n",
    "a = np.zeros((10)) \n",
    "print(a)\n",
    "print(a.ndim)\n",
    "print(a.shape)\n",
    "print(\"#####################\")\n",
    "\n",
    "# Create an 3X3 array of all zeros\n",
    "a = np.zeros((3,3))   \n",
    "print(a)              \n",
    "print(\"#####################\")\n",
    "\n",
    "# Create an 3X5 array of all zeros\n",
    "a = np.zeros((3,5))\n",
    "print(a)"
   ]
  },
  {
   "cell_type": "code",
   "execution_count": 13,
   "id": "5b412503",
   "metadata": {
    "id": "5b412503",
    "outputId": "77a58d3a-b9ee-40ff-cfed-3d59024332d9"
   },
   "outputs": [
    {
     "name": "stdout",
     "output_type": "stream",
     "text": [
      "[1. 1. 1. 1.]\n",
      "[[1. 1. 1. 1. 1.]\n",
      " [1. 1. 1. 1. 1.]\n",
      " [1. 1. 1. 1. 1.]]\n",
      "[5 5 5]\n",
      "[[9 9 9 9]\n",
      " [9 9 9 9]\n",
      " [9 9 9 9]]\n",
      "[[7 7]\n",
      " [7 7]]\n"
     ]
    }
   ],
   "source": [
    "# creating matrices of all 1 or some constant\n",
    "# create arrays of all 1\n",
    "b = np.ones((4))    \n",
    "print(b)           \n",
    "print(\"######################\")\n",
    "\n",
    "# create 3x5 array of all 1\n",
    "a = np.ones((3,5)) \n",
    "print(a)\n",
    "print(\"###############################\")\n",
    "\n",
    "# fill an array with some constant value 5\n",
    "a = np.full((3), fill_value=5)\n",
    "print(a)\n",
    "\n",
    "# fill an 3X4 array with some constant value 9\n",
    "a = np.full((3,4), fill_value=9)\n",
    "print(a)"
   ]
  },
  {
   "cell_type": "code",
   "execution_count": 25,
   "id": "4ce4633c-f23a-4c88-93d3-1351bb133045",
   "metadata": {
    "id": "4ce4633c-f23a-4c88-93d3-1351bb133045",
    "outputId": "031c0ecb-80f6-437f-9221-16b346ac5b75"
   },
   "outputs": [
    {
     "name": "stdout",
     "output_type": "stream",
     "text": [
      "[[1. 0. 0.]\n",
      " [0. 1. 0.]\n",
      " [0. 0. 1.]]\n",
      "######################\n",
      "[[1. 0. 0. 0. 0.]\n",
      " [0. 1. 0. 0. 0.]\n",
      " [0. 0. 1. 0. 0.]]\n"
     ]
    }
   ],
   "source": [
    "# creating identity matrices\n",
    "\n",
    "# Lets create an array of identity matrix\n",
    "d = np.eye(3)         \n",
    "print(d)              \n",
    "print(\"######################\")\n",
    "\n",
    "#  Lets create an 3X5 array of identity matrix\n",
    "d = np.eye(3, 5)\n",
    "print(d)"
   ]
  },
  {
   "cell_type": "code",
   "execution_count": 36,
   "id": "fdf4a151-f151-4595-a93b-bf860f12d7bb",
   "metadata": {
    "colab": {
     "base_uri": "https://localhost:8080/"
    },
    "id": "fdf4a151-f151-4595-a93b-bf860f12d7bb",
    "outputId": "9e6b347d-0009-43ca-f816-d7b52c47f4f0"
   },
   "outputs": [
    {
     "name": "stdout",
     "output_type": "stream",
     "text": [
      "[9.06828442e-01 2.72132249e-01 6.47690121e-01 5.20376995e-04\n",
      " 3.52568856e-01 3.04781258e-01 1.64655853e-01 5.34089419e-01\n",
      " 4.84829971e-01 6.92436033e-01]\n",
      "[[0.26941233 0.24412552 0.16829104 0.21876422]\n",
      " [0.558102   0.40383617 0.06489225 0.25391541]]\n",
      "[ 1 -4 -9 -8  6 -6  6 13]\n",
      "[[  6   6  -9  -9  11  12  -6 -10]\n",
      " [-10   8  -9  10   1  -5  12  -7]\n",
      " [ 12   0  13   6  -5  13  -6   9]\n",
      " [ -9  -5  11   0   5   5 -10  -2]]\n"
     ]
    }
   ],
   "source": [
    "# create array wth random numbers\n",
    "\n",
    "# Create an 1Darray of size 10 filled with random values between 0 and 1\n",
    "e = np.random.random((10))  \n",
    "print(e)\n",
    "###########################\n",
    "\n",
    "# Create an 2X4 array filled with random values between 0 and 1\n",
    "e = np.random.random( (2,4) )  \n",
    "print(e)\n",
    "###########################\n",
    "\n",
    "# Generate a 1D array with 8 elements with random integers between -10 (inclusive) and 15 (exclusive)\n",
    "e = np.random.randint(-10, 15, size=(8,))\n",
    "print(e)\n",
    "###########################\n",
    "# Generate a 2X4X8 matrix with random integers between -10 (inclusive) and 15 (exclusive)\n",
    "e = np.random.randint(-10, 15, size=(2, 4, 8))\n",
    "print(e)"
   ]
  },
  {
   "cell_type": "code",
   "execution_count": 32,
   "id": "75b6b2f9-a161-49ad-84ec-ca7f423bd2f9",
   "metadata": {
    "id": "75b6b2f9-a161-49ad-84ec-ca7f423bd2f9",
    "outputId": "bccc10fc-e774-43be-ceb6-536e46afebc4"
   },
   "outputs": [
    {
     "name": "stdout",
     "output_type": "stream",
     "text": [
      "[0 1 2 3 4]\n",
      "[2 3 4 5 6 7 8 9]\n",
      "[1 3 5 7 9]\n",
      "[0.  0.1 0.2 0.3 0.4 0.5 0.6 0.7 0.8 0.9]\n"
     ]
    }
   ],
   "source": [
    "# creating arrays using method arange(start_idx=0, stop_idx, step=1)\n",
    "\n",
    "# Example 1: # Creates an array from 0 to 4\n",
    "arr = np.arange(5)  \n",
    "print(arr)\n",
    "\n",
    "# Example 2: Creates an array from 2 to 9\n",
    "arr = np.arange(2, 10)  \n",
    "print(arr)\n",
    "\n",
    "# Example 3: Creates an array from 1 to 9 with a step of 2\n",
    "arr = np.arange(1, 10, 2)  \n",
    "print(arr)\n",
    "\n",
    "# Example 4: Creates an array of floats from 0 to 0.9 with step=0.1\n",
    "arr = np.arange(0, 1, 0.1)  \n",
    "print(arr)"
   ]
  },
  {
   "cell_type": "markdown",
   "id": "10f3bc36-bbe5-479c-aa95-68a204defc3b",
   "metadata": {},
   "source": [
    "# STOP"
   ]
  },
  {
   "cell_type": "code",
   "execution_count": null,
   "id": "e7b650c7-4076-439a-baf3-1d12966723c4",
   "metadata": {},
   "outputs": [],
   "source": []
  },
  {
   "cell_type": "markdown",
   "id": "0b92277a-1113-48c3-af3b-0a68d66608e7",
   "metadata": {
    "id": "0b92277a-1113-48c3-af3b-0a68d66608e7"
   },
   "source": []
  },
  {
   "cell_type": "markdown",
   "id": "df3d027f-c8cd-403f-ae56-e8c9504830c8",
   "metadata": {},
   "source": [
    "### resources\n",
    "\n",
    "- Good tutorial on numpy: https://www.machinelearningplus.com/python/numpy-tutorial-part1-array-python-examples/ and https://www.machinelearningplus.com/python/numpy-tutorial-python-part2/\n"
   ]
  },
  {
   "cell_type": "code",
   "execution_count": null,
   "id": "025e37d9-04e8-4580-a4a3-4941cc86998e",
   "metadata": {},
   "outputs": [],
   "source": []
  }
 ],
 "metadata": {
  "colab": {
   "provenance": []
  },
  "kernelspec": {
   "display_name": "Python 3 (ipykernel)",
   "language": "python",
   "name": "python3"
  },
  "language_info": {
   "codemirror_mode": {
    "name": "ipython",
    "version": 3
   },
   "file_extension": ".py",
   "mimetype": "text/x-python",
   "name": "python",
   "nbconvert_exporter": "python",
   "pygments_lexer": "ipython3",
   "version": "3.12.7"
  }
 },
 "nbformat": 4,
 "nbformat_minor": 5
}
