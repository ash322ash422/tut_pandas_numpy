{
 "cells": [
  {
   "cell_type": "markdown",
   "id": "7ae342a2-9885-43a7-833a-d90d33def928",
   "metadata": {},
   "source": [
    "## Datatypes\n",
    "\n",
    "### Topics covered:\n",
    "- Types of dtype\n",
    "- Size of dtypes\n",
    "- Changing dtypes\n",
    "\n",
    "Few important pointers\n",
    "- Every numpy array is a grid of elements of the **same type**.\n",
    "- Numpy provides a large set of numeric datatypes that you can use to construct arrays. Numpy **tries to guess a datatype when you create an array**, but functions that construct arrays usually also include an optional argument to **explicitly specify the datatype**.\n"
   ]
  },
  {
   "cell_type": "markdown",
   "id": "b3faf668-b823-448d-9ffb-036c89be01c7",
   "metadata": {},
   "source": [
    "# Type of data types\n",
    "\n",
    "## Integers Type\n",
    "\n",
    "**Unsigned Integer Types and Their Ranges**\n",
    "- **unsigned data types** refer to numeric types that can only represent **non-negative integers (i.e., 0 and positive numbers)**. \n",
    "\n",
    "```\n",
    "  Data Type\tDescription              (Range)\n",
    "np.uint8\tUnsigned 8-bit integer\t(0 to 255)\n",
    "np.uint16\tUnsigned 16-bit integer\t(0 to 65,535)\n",
    "np.uint32\tUnsigned 32-bit integer\t(0 to 4,294,967,295)\n",
    "np.uint64\tUnsigned 64-bit integer\t(0 to 18,446,744,073,709,551,615)\n",
    "```\n",
    "\n",
    "**Signed Integer Types and Their Ranges**\n",
    "\n",
    "- **signed data types** refer to numeric types that can only represent **positive and negative integers**. \n",
    "\n",
    "```\n",
    "Data Type   Bits    Minimum Value            Maximum Value\n",
    "np.int8      8      -128                        127\n",
    "np.int16    16      -32,768                     32,767\n",
    "np.int32    32      -2,147,483,648              2,147,483,647\n",
    "np.int64    64\t    -9,223,372,036,854,775,808\t9,223,372,036,854,775,807\n",
    "```\n",
    "\n",
    "## Floats Type\n",
    "```\n",
    "float16: half precision (~3 decimal digits, not always supported on all CPUs)\n",
    "float32: single precision (~7 decimal digits)\n",
    "float64: double precision (~15 decimal digits, NumPy default)\n",
    "float128: extended precision (platform dependent; may not be true 128-bit on all systems)\n",
    "```\n",
    "\n",
    "## Complex Numbers Type\n",
    "```\n",
    "complex64: real + imaginary, both float32\n",
    "complex128: real + imaginary, both float64\n",
    "complex256: extended precision (platform dependent)\n",
    "```\n",
    "\n",
    "## Boolean Type\n",
    "```\n",
    "bool_: stores True or False (1 byte)\n",
    "```\n",
    "\n",
    "## Text and String Types\n",
    "```\n",
    "str_: fixed-size Unicode string\n",
    "unicode_: alias for str_\n",
    "bytes_: fixed-size sequence of bytes\n",
    "object_: can hold arbitrary Python objects (slower, less memory efficient)\n",
    "```\n",
    "\n",
    "## Other Special Types\n",
    "```\n",
    "datetime64: date and time values with precision (Y, M, D, h, m, s, ms, us, ns)\n",
    "timedelta64: differences between dates/times\n",
    "void: used for raw data (records, structured dtypes)\n",
    "```"
   ]
  },
  {
   "cell_type": "markdown",
   "id": "15c13772-f1fb-4b02-a65f-2255c54bfecd",
   "metadata": {},
   "source": [
    "**Why Do We Have So Many Data Types in NumPy?**\n",
    "- **Memory Efficiency**: Different data types require different amounts of memory. For example, an **int8 uses 1 byte**, **int64 uses 8 bytes**. By choosing the appropriate data type, you can save memory, especially when working with large datasets.\n",
    "\n",
    "- **Performance**: Operations on smaller data types can be faster because they require less memory bandwidth and can fit more data into CPU caches. This can lead to improved performance in numerical computations.\n",
    "\n",
    "- **Precision**: Different data types offer varying levels of precision. For example, float32 has less precision than float64. Depending on the requirements of your calculations, you may need to choose a data type that provides the necessary precision.\n"
   ]
  },
  {
   "cell_type": "markdown",
   "id": "a7fa0bff-15c1-490c-a3eb-b9d8d21208a4",
   "metadata": {},
   "source": [
    "### Guidelines for Choosing a NumPy dtype: What kind of data do you have?\n",
    "\n",
    "Whole numbers (integers) → Use int8, int16, int32, or int64 depending on the range.\n",
    "\n",
    "Decimals (floating-point) → Use float32 or float64 depending on precision needed.\n",
    "\n",
    "True/False values → Use bool_.\n",
    "\n",
    "Text / categorical labels → Use str_, object_, or encode them to integers.\n",
    "\n",
    "### Example\n",
    "If your data is ages (0–120), np.uint8 (0–255) is enough.\n",
    "\n",
    "If your data is population counts (millions), np.int32 is safer.\n",
    "\n",
    "If you deal with financial values (billions with decimals), use np.float64."
   ]
  },
  {
   "cell_type": "code",
   "execution_count": 41,
   "id": "b3c29f4a-c93d-416e-b5bb-1074bd58554f",
   "metadata": {},
   "outputs": [],
   "source": [
    "import numpy as np"
   ]
  },
  {
   "cell_type": "code",
   "execution_count": 42,
   "id": "3fd2450a-7842-493d-bfc7-34a9fa9e37e4",
   "metadata": {},
   "outputs": [
    {
     "name": "stdout",
     "output_type": "stream",
     "text": [
      "int32\n",
      "float64\n"
     ]
    }
   ],
   "source": [
    "x = np.array([1, 2, 5, 2])   # Let numpy choose the datatype\n",
    "print(x.dtype) \n",
    "################\n",
    "\n",
    "x = np.array([1.0, 2.0, 2.0])   # Let numpy choose the datatype\n",
    "print(x.dtype)    "
   ]
  },
  {
   "cell_type": "code",
   "execution_count": 43,
   "id": "1f561a4d-6aee-4d20-8058-64d59d73ceb6",
   "metadata": {},
   "outputs": [
    {
     "name": "stdout",
     "output_type": "stream",
     "text": [
      "int8\n"
     ]
    }
   ],
   "source": [
    "# Force a particular datatype to int8\n",
    "x = np.array([1, 2, 5, 2], dtype=np.int8)   \n",
    "print(x.dtype)                    "
   ]
  },
  {
   "cell_type": "code",
   "execution_count": null,
   "id": "e1d482a5-a8ca-4935-8700-3970e3d5bbd3",
   "metadata": {},
   "outputs": [],
   "source": []
  },
  {
   "cell_type": "code",
   "execution_count": 44,
   "id": "c7dc1d2d-41ce-44c4-a0e0-4218b9855d12",
   "metadata": {},
   "outputs": [
    {
     "name": "stdout",
     "output_type": "stream",
     "text": [
      "Machine parameters for int8\n",
      "---------------------------------------------------------------\n",
      "min = -128\n",
      "max = 127\n",
      "---------------------------------------------------------------\n",
      "\n"
     ]
    }
   ],
   "source": [
    "# Les check how big/small your values can get.\n",
    "\n",
    "print(np.iinfo(np.int8))\n",
    "# print(np.iinfo(np.int16))\n",
    "# print(np.iinfo(np.int32))\n",
    "# print(np.iinfo(np.int64))\n",
    "\n",
    "# print(np.finfo(np.float16))\n",
    "# print(np.finfo(np.float32))\n",
    "# print(np.finfo(np.float64))"
   ]
  },
  {
   "cell_type": "code",
   "execution_count": 45,
   "id": "7cb743a8-82dc-4634-a5b4-7931c0fd092e",
   "metadata": {},
   "outputs": [
    {
     "name": "stdout",
     "output_type": "stream",
     "text": [
      "Integer Array: [1 2 3]\n",
      "Data Type: int8\n"
     ]
    }
   ],
   "source": [
    "# Lets see available data types\n",
    "\n",
    "# 1. Integer Types: int8, int16, int32, int64 \n",
    "# Create an array of int8\n",
    "a = np.array([1, 2, 3], dtype=np.int8)\n",
    "print(\"Integer Array:\", a)\n",
    "print(\"Data Type:\", a.dtype)"
   ]
  },
  {
   "cell_type": "code",
   "execution_count": 46,
   "id": "176a58b3-e5ed-4e4c-9d13-a9699e0e83fa",
   "metadata": {},
   "outputs": [
    {
     "name": "stdout",
     "output_type": "stream",
     "text": [
      "Unsigned Integer Array: [1 2 3]\n",
      "Data Type: uint8\n"
     ]
    }
   ],
   "source": [
    "# 2. Unsigned Integer Types: uint8, uint16, uint32, uint64\n",
    "# Create an array of uint8\n",
    "a = np.array([1, 2, 3], dtype=np.uint8)\n",
    "print(\"Unsigned Integer Array:\", a)\n",
    "print(\"Data Type:\", a.dtype)"
   ]
  },
  {
   "cell_type": "code",
   "execution_count": 47,
   "id": "8f613b0f-8b84-4072-80f3-9e20f64d05b2",
   "metadata": {},
   "outputs": [
    {
     "name": "stdout",
     "output_type": "stream",
     "text": [
      "Floating Point Array: [1. 2. 3.]\n",
      "Data Type: float64\n"
     ]
    }
   ],
   "source": [
    "# 3. Floating Point Types: float16, float32, float64\n",
    "# Create an array of float64\n",
    "a = np.array([1.0, 2.0, 3.0], dtype=np.float64)\n",
    "print(\"Floating Point Array:\", a)\n",
    "print(\"Data Type:\", a.dtype)"
   ]
  },
  {
   "cell_type": "code",
   "execution_count": 48,
   "id": "b836a90b-1c95-4082-bcb6-1d981f0d2e73",
   "metadata": {},
   "outputs": [
    {
     "name": "stdout",
     "output_type": "stream",
     "text": [
      "Complex Array: [1.+2.j 3.+4.j]\n",
      "Data Type: complex64\n"
     ]
    }
   ],
   "source": [
    "# 4. Complex Types: complex64, complex128\n",
    "# Create an array of complex64\n",
    "a = np.array([1 + 2j, 3 + 4j], dtype=np.complex64)\n",
    "print(\"Complex Array:\", a)\n",
    "print(\"Data Type:\", a.dtype)"
   ]
  },
  {
   "cell_type": "code",
   "execution_count": 49,
   "id": "49064cd4-0e4d-498e-825f-b194aad218dc",
   "metadata": {},
   "outputs": [
    {
     "name": "stdout",
     "output_type": "stream",
     "text": [
      "Boolean Array: [ True False  True]\n",
      "Data Type: bool\n"
     ]
    }
   ],
   "source": [
    "# 5. Boolean Type: bool_\n",
    "# Create a boolean array\n",
    "a = np.array([True, False, True], dtype=np.bool_)\n",
    "print(\"Boolean Array:\", a)\n",
    "print(\"Data Type:\", a.dtype)"
   ]
  },
  {
   "cell_type": "code",
   "execution_count": 50,
   "id": "386c934e-51b6-46fc-bdf7-c20058ff4676",
   "metadata": {},
   "outputs": [
    {
     "name": "stdout",
     "output_type": "stream",
     "text": [
      "String Array: ['apple' 'banana' 'cherry']\n",
      "Data Type: <U6\n",
      "Object Array: [1 'apple' 3.14]\n",
      "Data Type: object\n"
     ]
    }
   ],
   "source": [
    "# 6. String Type: str_\n",
    "# Create an array of strings\n",
    "a = np.array(['apple', 'banana', 'cherry'], dtype=np.str_)\n",
    "print(\"String Array:\", a)\n",
    "print(\"Data Type:\", a.dtype)\n",
    "\n",
    "# 7. Object Type: object_\n",
    "# Create an array of objects\n",
    "a = np.array([1, 'apple', 3.14], dtype=np.object_)\n",
    "print(\"Object Array:\", a)\n",
    "print(\"Data Type:\", a.dtype)"
   ]
  },
  {
   "cell_type": "code",
   "execution_count": null,
   "id": "b74d3084-76f5-41ad-8336-a2b6ea1c9cad",
   "metadata": {},
   "outputs": [],
   "source": []
  },
  {
   "cell_type": "code",
   "execution_count": null,
   "id": "8ace03bd-1c68-42b4-9391-d51661ec27f5",
   "metadata": {},
   "outputs": [],
   "source": []
  },
  {
   "cell_type": "code",
   "execution_count": null,
   "id": "30801a30-5553-448d-8bc2-d39bcefe5329",
   "metadata": {},
   "outputs": [],
   "source": []
  },
  {
   "cell_type": "markdown",
   "id": "ab5ad770-51a3-40f6-a54f-19d0e8c99a24",
   "metadata": {},
   "source": [
    "# Size of data types\n",
    "### Demonstrating the size of different NumPy data types in bytes"
   ]
  },
  {
   "cell_type": "code",
   "execution_count": 51,
   "id": "e96da09f-901e-429a-b37f-6354acf2cc57",
   "metadata": {},
   "outputs": [
    {
     "name": "stdout",
     "output_type": "stream",
     "text": [
      "Size of int8 : 1 bytes\n",
      "Size of int16: 2 bytes\n",
      "Size of int32: 4 bytes\n",
      "Size of int64: 8 bytes\n"
     ]
    }
   ],
   "source": [
    "# Integer Types\n",
    "print(\"Size of int8 :\", np.int8().itemsize,  \"bytes\")  \n",
    "print(\"Size of int16:\", np.int16().itemsize, \"bytes\") \n",
    "print(\"Size of int32:\", np.int32().itemsize, \"bytes\") \n",
    "print(\"Size of int64:\", np.int64().itemsize, \"bytes\")"
   ]
  },
  {
   "cell_type": "code",
   "execution_count": 52,
   "id": "d7388dbb-113a-4bc5-b355-1be0d57e725f",
   "metadata": {},
   "outputs": [
    {
     "name": "stdout",
     "output_type": "stream",
     "text": [
      "Size of uint8 : 1 bytes\n",
      "Size of uint16: 2 bytes\n",
      "Size of uint32: 4 bytes\n",
      "Size of uint64: 8 bytes\n"
     ]
    }
   ],
   "source": [
    "# Unsigned Integer Types\n",
    "print(\"Size of uint8 :\", np.uint8().itemsize,  \"bytes\")   \n",
    "print(\"Size of uint16:\", np.uint16().itemsize, \"bytes\") \n",
    "print(\"Size of uint32:\", np.uint32().itemsize, \"bytes\") \n",
    "print(\"Size of uint64:\", np.uint64().itemsize, \"bytes\") "
   ]
  },
  {
   "cell_type": "code",
   "execution_count": 53,
   "id": "c82484b3-2f5a-4065-a6b3-3c3c66708175",
   "metadata": {},
   "outputs": [
    {
     "name": "stdout",
     "output_type": "stream",
     "text": [
      "Size of float16: 2 bytes\n",
      "Size of float32: 4 bytes\n",
      "Size of float64: 8 bytes\n"
     ]
    }
   ],
   "source": [
    "# Floating Point Types\n",
    "print(\"Size of float16:\", np.float16().itemsize, \"bytes\") \n",
    "print(\"Size of float32:\", np.float32().itemsize, \"bytes\") \n",
    "print(\"Size of float64:\", np.float64().itemsize, \"bytes\") "
   ]
  },
  {
   "cell_type": "code",
   "execution_count": 54,
   "id": "63f46225-4899-4fc3-a245-ab4de67e7ca3",
   "metadata": {},
   "outputs": [
    {
     "name": "stdout",
     "output_type": "stream",
     "text": [
      "Size of complex64: 8 bytes\n",
      "Size of complex128: 16 bytes\n"
     ]
    }
   ],
   "source": [
    "# Complex Types\n",
    "print(\"Size of complex64:\",  np.complex64().itemsize,  \"bytes\") \n",
    "print(\"Size of complex128:\", np.complex128().itemsize, \"bytes\") "
   ]
  },
  {
   "cell_type": "code",
   "execution_count": 55,
   "id": "96e158c1-936e-48bf-9865-1f2dd58cdde1",
   "metadata": {},
   "outputs": [
    {
     "name": "stdout",
     "output_type": "stream",
     "text": [
      "Size of bool: 1 bytes\n",
      "Size of object: 8 bytes\n"
     ]
    }
   ],
   "source": [
    "# Boolean Type\n",
    "print(\"Size of bool:\", np.bool_().itemsize, \"bytes\") \n",
    "\n",
    "# Object Type\n",
    "print(\"Size of object:\", np.dtype(np.object_).itemsize, \"bytes\") "
   ]
  },
  {
   "cell_type": "code",
   "execution_count": null,
   "id": "08a5d134-f5c2-4504-a74f-530b2f29f74c",
   "metadata": {},
   "outputs": [],
   "source": []
  },
  {
   "cell_type": "code",
   "execution_count": null,
   "id": "902cbf52-969b-4e9c-bb48-7e3a04470284",
   "metadata": {},
   "outputs": [],
   "source": []
  },
  {
   "cell_type": "markdown",
   "id": "3ff42d9a-4543-418c-ba05-6faff9be47cd",
   "metadata": {},
   "source": [
    "# Change data types using astype() method\n",
    "- .astype() always **returns a new array**."
   ]
  },
  {
   "cell_type": "code",
   "execution_count": 61,
   "id": "362a4e33-896b-4802-83a4-5dec37da8c7a",
   "metadata": {},
   "outputs": [
    {
     "name": "stdout",
     "output_type": "stream",
     "text": [
      "Original: [1 2 3 4 5]\n",
      "int32\n",
      "New     : ['1.0' '2.0' '3.0' '4.0' '5.0']\n",
      "<U32\n"
     ]
    }
   ],
   "source": [
    "# Change data type to uint8\n",
    "\n",
    "# Create a NumPy array with default data type (int)\n",
    "a = np.array([1, 2, 3, 4, 5])\n",
    "print(\"Original:\", a)\n",
    "print(a.dtype)\n",
    "\n",
    "a = a.astype(np.uint8)   # to uint8\n",
    "# a = a.astype(np.float16) # to float\n",
    "# a = a.astype(np.float32) # to float32\n",
    "# a = a.astype(np.str_)     # to string\n",
    "\n",
    "print(\"New     :\", a)\n",
    "print(a.dtype)"
   ]
  },
  {
   "cell_type": "code",
   "execution_count": 57,
   "id": "9868f1fb-224f-4144-b6ec-0494f62c2cca",
   "metadata": {},
   "outputs": [
    {
     "name": "stdout",
     "output_type": "stream",
     "text": [
      "Original: [1.1 2.2 3.3]\n",
      "float64\n",
      "New     : [1 2 3]\n",
      "int32\n"
     ]
    }
   ],
   "source": [
    "# Change data type from float to integer (will truncate the decimal part)\n",
    "\n",
    "a = np.array([1.1, 2.2, 3.3])\n",
    "print(\"Original:\", a)\n",
    "print(a.dtype)\n",
    "\n",
    "a = a.astype(int)\n",
    "print(\"New     :\", a)\n",
    "print(a.dtype)"
   ]
  },
  {
   "cell_type": "code",
   "execution_count": 58,
   "id": "86351fc3-b61e-46fc-b2b0-3eb0c9ae7e80",
   "metadata": {},
   "outputs": [
    {
     "name": "stdout",
     "output_type": "stream",
     "text": [
      "Original: ['1' '2' '3']\n",
      "<U1\n",
      "New     : [1 2 3]\n",
      "int32\n"
     ]
    }
   ],
   "source": [
    "# Change data type from string to integer\n",
    "\n",
    "a = np.array([\"1\", \"2\", \"3\"])\n",
    "print(\"Original:\", a)\n",
    "print(a.dtype)\n",
    "\n",
    "a = a.astype(int)\n",
    "print(\"New     :\", a)\n",
    "print(a.dtype)"
   ]
  },
  {
   "cell_type": "code",
   "execution_count": null,
   "id": "0e8cb907-b25b-4626-9e19-766bdf092dba",
   "metadata": {},
   "outputs": [],
   "source": []
  }
 ],
 "metadata": {
  "kernelspec": {
   "display_name": "Python 3 (ipykernel)",
   "language": "python",
   "name": "python3"
  },
  "language_info": {
   "codemirror_mode": {
    "name": "ipython",
    "version": 3
   },
   "file_extension": ".py",
   "mimetype": "text/x-python",
   "name": "python",
   "nbconvert_exporter": "python",
   "pygments_lexer": "ipython3",
   "version": "3.9.9"
  }
 },
 "nbformat": 4,
 "nbformat_minor": 5
}
