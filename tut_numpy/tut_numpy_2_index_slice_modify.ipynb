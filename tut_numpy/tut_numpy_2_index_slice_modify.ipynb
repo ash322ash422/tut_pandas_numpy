{
 "cells": [
  {
   "cell_type": "markdown",
   "id": "eaa1a9bc-bea9-4a5f-8443-5365336be1f2",
   "metadata": {},
   "source": [
    "### Topics\n",
    "- array indexing / slicing: It is a way to access elements"
   ]
  },
  {
   "cell_type": "markdown",
   "id": "2b996936-e5a8-425b-b351-34439c190f1b",
   "metadata": {},
   "source": [
    "## Access and Modify elements"
   ]
  },
  {
   "cell_type": "code",
   "execution_count": 4,
   "id": "b532c705-9e96-41c0-b7df-7445f87672aa",
   "metadata": {},
   "outputs": [],
   "source": [
    "import numpy as np"
   ]
  },
  {
   "cell_type": "code",
   "execution_count": 5,
   "id": "1a2dc8de-4484-40fa-9bf7-70074a5fc6b0",
   "metadata": {},
   "outputs": [
    {
     "name": "stdout",
     "output_type": "stream",
     "text": [
      "60\n",
      "12\n",
      "[ 5 43 12 35]\n",
      "####################\n"
     ]
    }
   ],
   "source": [
    "# accessing elements and modifing element\n",
    "# NOTE: indexing starts with 0\n",
    "\n",
    "# 1.  Lets access 1D array of shape (4) and modify an element\n",
    "a = np.array([60, 43, 12, 35])   # Create a rank 1(i.e. 1D) array\n",
    "\n",
    "print(a[0])\n",
    "print(a[2])\n",
    "\n",
    "# Change an element of the array\n",
    "a[0] = 5\n",
    "print(a)\n",
    "print(\"####################\")"
   ]
  },
  {
   "cell_type": "code",
   "execution_count": 6,
   "id": "3d3fe85a-42cb-4846-afd8-c6c7970e042c",
   "metadata": {},
   "outputs": [
    {
     "name": "stdout",
     "output_type": "stream",
     "text": [
      "1\n",
      "1\n",
      "2\n",
      "2\n",
      "6\n",
      "6\n",
      "[[1 2 9]\n",
      " [4 5 6]]\n"
     ]
    }
   ],
   "source": [
    "# 2. access 2D array and modify elements\n",
    "# Use: b[row_index][column_index]\n",
    "# or   b[row_index, column_index]\n",
    "\n",
    "# Create a 2D array of shape 2X3\n",
    "b = np.array([[1,2,3],\n",
    "              [4,5,6]]\n",
    ")    \n",
    "\n",
    "print(b[0][0]) # row=0, col=0\n",
    "print(b[0, 0])\n",
    "\n",
    "print(b[0][1]) # row_idx=0, col_idx=1\n",
    "print(b[0, 1])\n",
    "\n",
    "print(b[1][2]) # row_idx=1, col_idx=2\n",
    "print(b[1, 2])\n",
    "\n",
    "\n",
    "# lets change an element. There are 2 ways\n",
    "# b[0][2] = 9\n",
    "b[0,2]  = 9 \n",
    "print(b)"
   ]
  },
  {
   "cell_type": "code",
   "execution_count": 13,
   "id": "5d27eedf-a8d4-4f61-9224-775005cb75a6",
   "metadata": {},
   "outputs": [
    {
     "name": "stdout",
     "output_type": "stream",
     "text": [
      "3\n",
      "(2, 3, 5)\n",
      "11\n",
      "11\n",
      "26\n",
      "19\n"
     ]
    }
   ],
   "source": [
    "# ADVANCED: 3. access 3D array and modify elements\n",
    "# Use: b[block_index][row_index][column_index]\n",
    "# or   b[block_index, row_index, column_index]\n",
    "\n",
    "# lets create a 3D array of shape 2X3X5\n",
    "b = np.array([\n",
    "    [  # First block (depth index 0)\n",
    "        [1, 2, 3, 4, 5],      # row=0\n",
    "        [6, 7, 8, 9, 10],     # row=1\n",
    "        [11, 12, 13, 14, 15]  # row=2\n",
    "    ],\n",
    "    \n",
    "    [  # Second block (depth index 1)\n",
    "        [16, 17, 18, 19, 20], # row=0\n",
    "        [21, 22, 23, 24, 25], # row=1\n",
    "        [26, 27, 28, 29, 30]  # row=2\n",
    "    ]\n",
    "])\n",
    "\n",
    "print(b[0][2][0])  # depth_idx=0, row_idx=2, col_idx=0\n",
    "print(b[0, 2, 0])  # depth_idx=0, row_idx=2, col_idx=0 \n",
    "\n",
    "print(b[1, 2, 0])  # depth_idx=1, row_idx=2, col_idx=0\n",
    "print(b[1, 0, 3])  # depth_idx=1, row_idx=0, col_idx=3\n"
   ]
  },
  {
   "cell_type": "code",
   "execution_count": null,
   "id": "b75debc9-f6a6-42fa-a9a7-9a7dc8839b0b",
   "metadata": {},
   "outputs": [],
   "source": []
  },
  {
   "cell_type": "code",
   "execution_count": null,
   "id": "0bed1a1e-95ac-4873-834e-c5a845d47cfb",
   "metadata": {},
   "outputs": [],
   "source": []
  },
  {
   "cell_type": "code",
   "execution_count": null,
   "id": "9a21b2cd-4899-43e6-b37b-7446da0d1efe",
   "metadata": {},
   "outputs": [],
   "source": []
  },
  {
   "cell_type": "markdown",
   "id": "0fc3e079-2a60-418c-a5ed-00812b4119cd",
   "metadata": {
    "id": "0fc3e079-2a60-418c-a5ed-00812b4119cd"
   },
   "source": [
    "## Array slicing\n",
    "\n",
    "**Slicing**: Similar to Python lists, numpy arrays can be sliced. \n",
    "- Since arrays may be multidimensional, you must **specify a slice for each dimension of the array**:"
   ]
  },
  {
   "cell_type": "code",
   "execution_count": 19,
   "id": "64c78a98-d693-439a-876b-3727514baa75",
   "metadata": {
    "id": "64c78a98-d693-439a-876b-3727514baa75",
    "outputId": "586e2ef2-7717-46e6-b714-50b9df5c8fe8"
   },
   "outputs": [
    {
     "name": "stdout",
     "output_type": "stream",
     "text": [
      "[[6 3 7 4 6 9 2 6]\n",
      " [7 4 3 7 7 2 5 4]\n",
      " [1 7 5 1 4 0 9 5]\n",
      " [8 0 9 2 6 3 8 2]]\n",
      "[[3 7]\n",
      " [4 3]]\n",
      "##########################\n",
      "[[7 7 2 5 4]\n",
      " [1 4 0 9 5]\n",
      " [2 6 3 8 2]]\n",
      "##########################\n",
      "Before:\n",
      " [[6 3 7 4 6 9 2 6]\n",
      " [7 4 3 7 7 2 5 4]\n",
      " [1 7 5 1 4 0 9 5]\n",
      " [8 0 9 2 6 3 8 2]]\n",
      "After:\n",
      " [[ 6  3  7  4  6  9  2  6]\n",
      " [ 7  4  3 -9  7  2  5  4]\n",
      " [ 1  7  5  1  4  0  9  5]\n",
      " [ 8  0  9  2  6  3  8  2]]\n"
     ]
    }
   ],
   "source": [
    "np.random.seed(42) # Set the seed for reproducibility\n",
    "\n",
    "# Lets create a 4X8 array with random numbers between 0 to 10\n",
    "a = np.random.randint(0, 10, size=(4, 8))\n",
    "print(a)\n",
    "\n",
    "\n",
    "# I want a subarray consisting of the first 2 rows(i.e. rows 0 and 1)\n",
    "# and columns 1 and 2. I use slicing\n",
    "b = a[0:2, 1:3]\n",
    "print(b)\n",
    "print(\"##########################\")\n",
    "\n",
    "# I want a subarray consisting of row_idx from 1 to 3 and\n",
    "# and column_idx from 3 to  and 7. I use slicing\n",
    "b = a[1:4, 3:8]\n",
    "print(b)\n",
    "print(\"##########################\")\n",
    "\n",
    "\n",
    "# A slice of an array is a view into the same data, so modifying it\n",
    "# will modify the original array.\n",
    "print(\"Before:\\n\", a)   \n",
    "b[0, 0] = -9     # b[0, 0] is the same piece of data as a[1, 3]\n",
    "print(\"After:\\n\", a)"
   ]
  },
  {
   "cell_type": "markdown",
   "id": "b9ed24ce-8869-42bc-8126-ef1991e70b03",
   "metadata": {},
   "source": [
    "# STOP"
   ]
  },
  {
   "cell_type": "code",
   "execution_count": null,
   "id": "37398cbb-97d4-416d-88fe-fcb758ac9f6b",
   "metadata": {},
   "outputs": [],
   "source": []
  },
  {
   "cell_type": "code",
   "execution_count": null,
   "id": "529ac131-febc-4783-9507-3d87a1969e90",
   "metadata": {},
   "outputs": [],
   "source": []
  },
  {
   "cell_type": "code",
   "execution_count": null,
   "id": "67db59a5-1bfe-47e9-ae63-fd4c1fb40ee5",
   "metadata": {},
   "outputs": [],
   "source": []
  },
  {
   "cell_type": "code",
   "execution_count": 9,
   "id": "21070e68-777e-49a7-b4b8-c4b22d6b346a",
   "metadata": {
    "id": "21070e68-777e-49a7-b4b8-c4b22d6b346a",
    "outputId": "98190fdc-cb58-4a13-8aa6-e51988d5daad"
   },
   "outputs": [
    {
     "name": "stdout",
     "output_type": "stream",
     "text": [
      "[5 6 7 8] (4,)\n",
      "[[5 6 7 8]] (1, 4)\n",
      "[ 2  6 10] (3,)\n",
      "[[ 2]\n",
      " [ 6]\n",
      " [10]] (3, 1)\n"
     ]
    }
   ],
   "source": [
    "# SKIP (OPTIONAL) You can also mix integer indexing with slice indexing. However, doing\n",
    "# so will yield an array of lower rank than the original array.\n",
    "\n",
    "# Create the following rank 2 array with shape (3, 4)\n",
    "a = np.array([[1,2,3,4],\n",
    "              [5,6,7,8],\n",
    "              [9,10,11,12]]\n",
    ")\n",
    "\n",
    "# Two ways of accessing the data in the middle row of the array.\n",
    "# Mixing integer indexing with slices yields an array of lower rank,\n",
    "# while using only slices yields an array of the same rank as the original array:\n",
    "row_r1 = a[1, :]    # Rank 1 view of the second row of a\n",
    "row_r2 = a[1:2, :]  # Rank 2 view of the second row of a\n",
    "print(row_r1, row_r1.shape)  # Prints \"[5 6 7 8] (4,)\"\n",
    "print(row_r2, row_r2.shape)  # Prints \"[[5 6 7 8]] (1, 4)\"\n",
    "\n",
    "# We can make the same distinction when accessing columns of an array:\n",
    "col_r1 = a[:, 1]\n",
    "col_r2 = a[:, 1:2]\n",
    "print(col_r1, col_r1.shape)  # Prints \"[ 2  6 10] (3,)\"\n",
    "print(col_r2, col_r2.shape)  # Prints \"[[ 2]\n",
    "                             #          [ 6]\n",
    "                             #          [10]] (3, 1)\""
   ]
  },
  {
   "cell_type": "markdown",
   "id": "0b4b1dec-9904-48de-bf25-e8d69a2ff5a0",
   "metadata": {
    "id": "0b4b1dec-9904-48de-bf25-e8d69a2ff5a0"
   },
   "source": [
    "Integer array indexing:\n",
    "- When you index into numpy arrays using slicing, the resulting array view will always be a subarray of the original array.\n",
    "- In contrast, integer array indexing allows you to construct arbitrary arrays using the data from another array.\n",
    "Here is an example:"
   ]
  },
  {
   "cell_type": "code",
   "execution_count": 10,
   "id": "3a054a05-102f-44ad-9342-8a88898f9d2d",
   "metadata": {
    "colab": {
     "base_uri": "https://localhost:8080/"
    },
    "id": "3a054a05-102f-44ad-9342-8a88898f9d2d",
    "outputId": "896928e3-f9ab-4111-82e3-a45a18311378"
   },
   "outputs": [
    {
     "name": "stdout",
     "output_type": "stream",
     "text": [
      "a: \n",
      "[[ 1  2  3]\n",
      " [ 4  5  6]\n",
      " [ 7  8  9]\n",
      " [10 11 12]]\n",
      "[ 1  6  7 11]\n",
      "[[11  2  3]\n",
      " [ 4  5 16]\n",
      " [17  8  9]\n",
      " [10 21 12]]\n"
     ]
    }
   ],
   "source": [
    "# (SKIP) One useful trick with integer array indexing is selecting or mutating one element from each row of a matrix:\n",
    "\n",
    "# Create a new array from which we will select elements\n",
    "a = np.array([[1,2,3],\n",
    "              [4,5,6],\n",
    "              [7,8,9],\n",
    "              [10, 11, 12]]\n",
    ")\n",
    "\n",
    "print(f\"a: \\n{a}\")\n",
    "\n",
    "# Create an array of col_indices: 0, 2, 0, 1\n",
    "col_indices = np.array([0, 2, 0, 1])\n",
    "\n",
    "# Select one element from each row of a using the indices in col_indices\n",
    "print(a[np.arange(4), col_indices])  # Prints \"[ 1  6  7 11]\"\n",
    "\n",
    "# Mutate one element from each row of a using the indices in col_indices\n",
    "a[np.arange(4), col_indices] += 10\n",
    "\n",
    "print(a)  # prints \"array([[11,  2,  3],\n",
    "          #                [ 4,  5, 16],\n",
    "          #                [17,  8,  9],\n",
    "          #                [10, 21, 12]])"
   ]
  },
  {
   "cell_type": "markdown",
   "id": "0b92277a-1113-48c3-af3b-0a68d66608e7",
   "metadata": {
    "id": "0b92277a-1113-48c3-af3b-0a68d66608e7"
   },
   "source": []
  },
  {
   "cell_type": "code",
   "execution_count": null,
   "id": "3d63e98a-5ab2-4a85-aa14-9aa80e62bbf8",
   "metadata": {},
   "outputs": [],
   "source": []
  }
 ],
 "metadata": {
  "colab": {
   "provenance": []
  },
  "kernelspec": {
   "display_name": "Python 3 (ipykernel)",
   "language": "python",
   "name": "python3"
  },
  "language_info": {
   "codemirror_mode": {
    "name": "ipython",
    "version": 3
   },
   "file_extension": ".py",
   "mimetype": "text/x-python",
   "name": "python",
   "nbconvert_exporter": "python",
   "pygments_lexer": "ipython3",
   "version": "3.9.9"
  }
 },
 "nbformat": 4,
 "nbformat_minor": 5
}
