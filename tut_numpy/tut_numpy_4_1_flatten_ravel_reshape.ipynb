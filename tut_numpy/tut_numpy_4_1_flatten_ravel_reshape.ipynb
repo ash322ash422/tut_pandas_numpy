{
 "cells": [
  {
   "cell_type": "markdown",
   "id": "28d0faa5-0221-465f-a9fd-cfdb1b6136f5",
   "metadata": {},
   "source": [
    "# changing the shape of arrays"
   ]
  },
  {
   "cell_type": "code",
   "execution_count": 16,
   "id": "0e221d7f-cf2a-45bc-8b68-ca2172d6d8d4",
   "metadata": {},
   "outputs": [],
   "source": [
    "import numpy as np"
   ]
  },
  {
   "cell_type": "markdown",
   "id": "e3686b6e-a7fe-44b9-b479-26760d9fea93",
   "metadata": {},
   "source": [
    "### flatten()\n",
    "- Convert a **multi-dimensional array into a one-dimensional array**. (A 2D array of shape 3X4 changes to 1D array of shape 12)\n",
    "- flatten() returns **copy**. So modifying the flattened array would not change the original array.\n",
    "\n",
    "#### Why do we need 1D array ?\n",
    "\n",
    "- Many Machine Learning models (e.g., logistic regression, decision trees) expect 1D feature vectors, not 2D matrices.\n",
    "- Many Convolutional Neural Network model requires 1D data \n",
    "\n",
    "**In some cases, the data is spatially distributed and we need it in 1D array**\n",
    "- Suppose Temperature Sensor Grid (e.g., Smart Building or IoT Device) is mounted on a building and uses a 3×3 array of temperature sensors placed in a room (ceiling tiles or wall grid). Each number represents temperature (°C or °F) at a specific grid point. We flatten the data and then calculate mean, std_dev, etc"
   ]
  },
  {
   "cell_type": "code",
   "execution_count": 17,
   "id": "57910916-0ed0-423a-b2e8-b21e9a0459c2",
   "metadata": {},
   "outputs": [
    {
     "name": "stdout",
     "output_type": "stream",
     "text": [
      "Original Array:\n",
      " [[5 3 3]\n",
      " [1 5 6]\n",
      " [7 8 9]]\n",
      "\n",
      "Flattened Array: [5 3 3 1 5 6 7 8 9]\n",
      "number of elements: 9\n"
     ]
    }
   ],
   "source": [
    "# flatten(): It returns copy\n",
    "\n",
    "# lets flatten 2D array to 1D array\n",
    "\n",
    "# Create a 2D NumPy array (matrix) of shape 3X3\n",
    "a = np.array([[5, 3, 3],\n",
    "              [1, 5, 6],\n",
    "              [7, 8, 9]]\n",
    ")\n",
    "\n",
    "print(\"Original Array:\\n\",a)\n",
    "\n",
    "# Flatten the 2D array into a 1D array\n",
    "flattened_array = a.flatten()\n",
    "\n",
    "print(\"\\nFlattened Array:\", flattened_array)\n",
    "print(\"\\nFlattened shape:\", flattened_array.shape)\n",
    "print(\"Number of elements:\", len(flattened_array))"
   ]
  },
  {
   "cell_type": "code",
   "execution_count": 18,
   "id": "252cc011-4892-4995-9275-a6fde969573f",
   "metadata": {},
   "outputs": [
    {
     "name": "stdout",
     "output_type": "stream",
     "text": [
      "Original Array:\n",
      " [[[ 9  5  3  4  5]\n",
      "  [ 1  7  8  9 10]\n",
      "  [11 12 13 14 15]]\n",
      "\n",
      " [[16 17 18 19 20]\n",
      "  [21 22 23 24 25]\n",
      "  [26 27 28 29 30]]]\n",
      "\n",
      "Flattened Array: [ 9  5  3  4  5  1  7  8  9 10 11 12 13 14 15 16 17 18 19 20 21 22 23 24\n",
      " 25 26 27 28 29 30]\n",
      "number of elements: 30\n"
     ]
    }
   ],
   "source": [
    "# lets flatten 3D array to 1D array: shape 2X3X5 -> shape 30\n",
    "\n",
    "# Create a 3D NumPy array (matrix) of shape 2X3X5\n",
    "a = np.array([\n",
    "    [  # First block (depth index 0)\n",
    "        [9, 5, 3, 4, 5],      # row=0\n",
    "        [1, 7, 8, 9, 10],     # row=1\n",
    "        [11, 12, 13, 14, 15]  # row=2\n",
    "    ],\n",
    "    \n",
    "    [  # Second block (depth index 1)\n",
    "        [16, 17, 18, 19, 20], # row=0\n",
    "        [21, 22, 23, 24, 25], # row=1\n",
    "        [26, 27, 28, 29, 30]  # row=2\n",
    "    ]\n",
    "])\n",
    "\n",
    "print(\"Original Array:\\n\",a)\n",
    "\n",
    "# Flatten the 2D array into a 1D array\n",
    "flattened_array = a.flatten()\n",
    "\n",
    "print(\"\\nFlattened Array:\", flattened_array)\n",
    "print(\"\\nFlattened shape:\", flattened_array.shape)\n",
    "print(\"Number of elements:\", len(flattened_array))"
   ]
  },
  {
   "cell_type": "markdown",
   "id": "d8099754-6a97-4cb3-93e5-36cca246044b",
   "metadata": {},
   "source": [
    "### ravel()\n",
    "- Convert a **multi-dimensional array into a one-dimensional array**. \n",
    "- ravel() returns a **view**: **Modifying the raveled array can therefore affect the original array**"
   ]
  },
  {
   "cell_type": "code",
   "execution_count": 19,
   "id": "a68bc36f-0c95-4589-9a73-b6c99286b492",
   "metadata": {},
   "outputs": [
    {
     "name": "stdout",
     "output_type": "stream",
     "text": [
      "array a:\n",
      " [[1 2 3]\n",
      " [4 5 6]]\n",
      "raveled array:\n",
      " [1 2 3 4 5 6]\n",
      "array a:\n",
      " [[99  2  3]\n",
      " [ 4  5  6]]\n"
     ]
    }
   ],
   "source": [
    "# ravel: Modifying the raveled array can affect the original array\n",
    "\n",
    "a = np.array([[1, 2, 3],\n",
    "              [4, 5, 6]]\n",
    ")\n",
    "print(\"array a:\\n\", a)\n",
    "\n",
    "raveled_arr = a.ravel()\n",
    "print(\"raveled array:\\n\", raveled_arr)\n",
    "\n",
    "# Modifying raveled_arr effects a\n",
    "raveled_arr[0] = 99\n",
    "print(\"array a:\\n\", a) # a is changed"
   ]
  },
  {
   "cell_type": "code",
   "execution_count": null,
   "id": "8c3cfd1b-5642-4fea-bc41-eb9b4d021289",
   "metadata": {},
   "outputs": [],
   "source": []
  },
  {
   "cell_type": "markdown",
   "id": "6c4fb272-1424-482e-bf73-0c42db6a9e41",
   "metadata": {},
   "source": [
    "## reshape()\n",
    "- It is the **opposite of the flatten()** operation in NumPy.\n",
    "- Reshapes the array to a new shape of the array, **as long as the total number of elements remains the same.**\n",
    "\n",
    "### Can we reshape an array into any shape?\n",
    "**No**. For example you cannot reshape an array of shape 8X4 into 4X5 because they both have different number of elements. You can reshape 8X4 into 16X2, 4X2X4, 2X8X2, or 2X16 because they all have same number of elements. The reshaped matrix should have same number of elements as original.\n",
    "\n",
    "### Why reshape?\n",
    "- Some machine learning libraries (like scikit-learn) expect 2D input: shape (n_samples, n_features).\n",
    "- Convert flat 1D image to 2D or 3D format\n",
    "- You need a 2D structure to do matrix multiplication, transpose, or broadcasting.\n"
   ]
  },
  {
   "cell_type": "code",
   "execution_count": 20,
   "id": "3e525096-b103-4dec-bb9c-f9e8ace20f2b",
   "metadata": {},
   "outputs": [
    {
     "name": "stdout",
     "output_type": "stream",
     "text": [
      "Flattened Array: [ 0  1  2  3  4  5  6  7  8  9 10 11 12 13 14 15 16 17]\n",
      "\n",
      "Reshaped Array (2x9):\n",
      " [[ 0  1  2  3  4  5  6  7  8]\n",
      " [ 9 10 11 12 13 14 15 16 17]]\n",
      "<class 'numpy.ndarray'> 2\n",
      "(2, 9)\n"
     ]
    }
   ],
   "source": [
    "# Reshape: lets reshape a flattened array\n",
    "\n",
    "# Create a flattened array of size 18: 0, 1, 2, ..17\n",
    "a = np.arange(18) \n",
    "print(\"Flattened Array:\", a)\n",
    "\n",
    "# Reshape into different sizes\n",
    "\n",
    "# 1. Reshape to 2D array of shape (2, 9)\n",
    "reshaped_2d_2x9 = a.reshape(2, 9)\n",
    "print(\"\\nReshaped Array (2x9):\\n\",reshaped_2d_2x9)\n",
    "print(reshaped_2d_2x9.ndim)\n",
    "print(reshaped_2d_2x9.shape) # (2, 9)          "
   ]
  },
  {
   "cell_type": "code",
   "execution_count": 21,
   "id": "9b5ecd36-51e5-4604-a380-7cb43d6740df",
   "metadata": {},
   "outputs": [
    {
     "name": "stdout",
     "output_type": "stream",
     "text": [
      "Flattened Array: [ 0  1  2  3  4  5  6  7  8  9 10 11 12 13 14 15 16 17]\n",
      "\n",
      "Reshaped Array (3x6):\n",
      " [[ 0  1  2  3  4  5]\n",
      " [ 6  7  8  9 10 11]\n",
      " [12 13 14 15 16 17]]\n"
     ]
    }
   ],
   "source": [
    "a = np.arange(18) \n",
    "print(\"Flattened Array:\", a)\n",
    "\n",
    "# 2. Reshape to 2D array of shape (3, 6)\n",
    "reshaped_2d_3x6 = a.reshape(3, 6)\n",
    "print(\"\\nReshaped Array (3x6):\\n\",reshaped_2d_3x6)"
   ]
  },
  {
   "cell_type": "code",
   "execution_count": 22,
   "id": "d873683d-86fc-4353-a02a-79330eb5328e",
   "metadata": {},
   "outputs": [
    {
     "name": "stdout",
     "output_type": "stream",
     "text": [
      "Flattened Array: [ 0  1  2  3  4  5  6  7  8  9 10 11 12 13 14 15 16 17]\n",
      "\n",
      "Reshaped Array (6x3): [[ 0  1  2]\n",
      " [ 3  4  5]\n",
      " [ 6  7  8]\n",
      " [ 9 10 11]\n",
      " [12 13 14]\n",
      " [15 16 17]]\n"
     ]
    }
   ],
   "source": [
    "a = np.arange(18) \n",
    "print(\"Flattened Array:\", a)\n",
    "\n",
    "# 3. Reshape to 2D array of shape (6, 3)\n",
    "reshaped_2d_6x3 = a.reshape(6, 3)\n",
    "print(\"\\nReshaped Array (6x3):\\n\",reshaped_2d_6x3)"
   ]
  },
  {
   "cell_type": "code",
   "execution_count": 23,
   "id": "451ce282-49b5-4e20-b1da-2015d2787169",
   "metadata": {},
   "outputs": [
    {
     "name": "stdout",
     "output_type": "stream",
     "text": [
      "Flattened Array: [ 0  1  2  3  4  5  6  7  8  9 10 11 12 13 14 15 16 17]\n",
      "\n",
      "Reshaped Array (2x3x3):\n",
      " [[[ 0  1  2]\n",
      "  [ 3  4  5]\n",
      "  [ 6  7  8]]\n",
      "\n",
      " [[ 9 10 11]\n",
      "  [12 13 14]\n",
      "  [15 16 17]]]\n"
     ]
    }
   ],
   "source": [
    "a = np.arange(18) \n",
    "print(\"Flattened Array:\", a)\n",
    "\n",
    "# 4. Reshape to 3D array of shape (2, 3, 3)\n",
    "reshaped_3d_2x3x3 = a.reshape(2, 3, 3)\n",
    "print(\"\\nReshaped Array (2x3x3):\\n\",reshaped_3d_2x3x3)"
   ]
  },
  {
   "cell_type": "code",
   "execution_count": 24,
   "id": "c462baad-62fd-4286-badd-6fa98cc7a2f0",
   "metadata": {},
   "outputs": [
    {
     "name": "stdout",
     "output_type": "stream",
     "text": [
      "Flattened Array: [ 0  1  2  3  4  5  6  7  8  9 10 11 12 13 14 15 16 17]\n",
      "\n",
      "Reshaped Array (3x2x3):\n",
      "[[[ 0  1  2]\n",
      "  [ 3  4  5]]\n",
      "\n",
      " [[ 6  7  8]\n",
      "  [ 9 10 11]]\n",
      "\n",
      " [[12 13 14]\n",
      "  [15 16 17]]]\n"
     ]
    }
   ],
   "source": [
    "a = np.arange(18) \n",
    "print(\"Flattened Array:\", a)\n",
    "\n",
    "# 5. Reshape to 3D array of shape (3, 2, 3)\n",
    "reshaped_3d_3x2x3 = a.reshape(3, 2, 3)\n",
    "print(\"\\nReshaped Array (3x2x3):\\n\", reshaped_3d_3x2x3)"
   ]
  },
  {
   "cell_type": "code",
   "execution_count": 25,
   "id": "ab651886-0fe8-40bd-b82b-51785cbf5264",
   "metadata": {},
   "outputs": [
    {
     "name": "stdout",
     "output_type": "stream",
     "text": [
      "[[1 2 3 4 5]\n",
      " [4 5 6 7 8]\n",
      " [7 8 9 3 4]]\n",
      "[1 2 3 4 5 4 5 6 7 8 7 8 9 3 4]\n",
      "[[1 2 3]\n",
      " [4 5 4]\n",
      " [5 6 7]\n",
      " [8 7 8]\n",
      " [9 3 4]]\n",
      "[[1 2 3]\n",
      " [4 5 4]\n",
      " [5 6 7]\n",
      " [8 7 8]\n",
      " [9 3 4]]\n"
     ]
    }
   ],
   "source": [
    "# Another way to flatten is to use reshape with argument -1:\n",
    "# -1 means that numpy would figure out the shape.\n",
    "\n",
    "# 2D array to 1D array:\n",
    "\n",
    "arr = np.array([[1, 2, 3, 4, 5],\n",
    "                [4, 5, 6, 7, 8],\n",
    "                [7, 8, 9, 3, 4]]\n",
    ")\n",
    "print(arr)\n",
    "\n",
    "# convert it into 1D\n",
    "reshaped = arr.reshape((-1))\n",
    "print(reshaped)\n",
    "#####################\n",
    "\n",
    "# convert it into 2D of shape 5X3\n",
    "reshaped = arr.reshape((-1, 3))\n",
    "print(reshaped)\n",
    "#######################\n",
    "\n",
    "# convert it into 2D of shape 5X3\n",
    "reshaped = arr.reshape((5, -1))\n",
    "print(reshaped)"
   ]
  },
  {
   "cell_type": "code",
   "execution_count": null,
   "id": "bb33e449-e94b-4ceb-9282-86f364e8c2b5",
   "metadata": {},
   "outputs": [],
   "source": []
  }
 ],
 "metadata": {
  "kernelspec": {
   "display_name": "Python 3 (ipykernel)",
   "language": "python",
   "name": "python3"
  },
  "language_info": {
   "codemirror_mode": {
    "name": "ipython",
    "version": 3
   },
   "file_extension": ".py",
   "mimetype": "text/x-python",
   "name": "python",
   "nbconvert_exporter": "python",
   "pygments_lexer": "ipython3",
   "version": "3.9.9"
  }
 },
 "nbformat": 4,
 "nbformat_minor": 5
}
