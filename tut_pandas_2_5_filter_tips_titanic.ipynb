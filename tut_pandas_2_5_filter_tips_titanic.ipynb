{
 "cells": [
  {
   "cell_type": "markdown",
   "id": "e2ffbad3-8eac-4b42-95cb-7c3fbda71af2",
   "metadata": {},
   "source": [
    "# Pandas\n",
    "Topics covered:\n",
    "- filtering"
   ]
  },
  {
   "cell_type": "code",
   "execution_count": 6,
   "id": "b9862a0c-15e8-4200-beb2-101cdf84777a",
   "metadata": {},
   "outputs": [],
   "source": [
    "import pandas as pd\n",
    "\n",
    "import warnings\n",
    "\n",
    "# Suppress all FutureWarnings\n",
    "warnings.simplefilter(action='ignore', category=FutureWarning)"
   ]
  },
  {
   "cell_type": "markdown",
   "id": "c3071d15-edab-4787-94da-fe190b2fca30",
   "metadata": {},
   "source": [
    "### filtering"
   ]
  },
  {
   "cell_type": "markdown",
   "id": "90ad4ba7-2d3c-4a15-ac14-beedcf1b4d6e",
   "metadata": {},
   "source": [
    "## On tips dataset\n",
    "### Explanation of tips dataset\n",
    "\n",
    "- **total_bill**: The total amount of the bill (numerical).\n",
    "- **tip**: The amount of tip left by the customer (numerical).\n",
    "- **sex**: The gender of the person paying the bill (categorical: **Male/Female**). \n",
    "- **smoker**: Indicates whether a smoker was present in the party (categorical: **Yes/No**).\n",
    "- **day**: The day of the week when the meal occurred (categorical: **Thurs, Fri, Sat, Sun**).\n",
    "- **time**: The time of day when the meal occurred (categorical: **Lunch/Dinner**).\n",
    "- **size**: The number of people in the dining party (numerical).\n"
   ]
  },
  {
   "cell_type": "code",
   "execution_count": 7,
   "id": "df46a624-d6ae-4685-8e1c-9e9769c47e6e",
   "metadata": {},
   "outputs": [
    {
     "name": "stdout",
     "output_type": "stream",
     "text": [
      "   total_bill   tip     sex smoker  day    time  size\n",
      "0       16.99  1.01  Female     No  Sun  Dinner     2\n",
      "1       10.34  1.66    Male     No  Sun  Dinner     3\n",
      "2       21.01  3.50    Male     No  Sun  Dinner     3\n",
      "3       23.68  3.31    Male     No  Sun  Dinner     2\n",
      "4       24.59  3.61  Female     No  Sun  Dinner     4\n",
      "5       25.29  4.71    Male     No  Sun  Dinner     4\n",
      "6        8.77  2.00    Male     No  Sun  Dinner     2\n",
      "7       26.88  3.12    Male     No  Sun  Dinner     4\n",
      "8       15.04  1.96    Male     No  Sun  Dinner     2\n",
      "9       14.78  3.23    Male     No  Sun  Dinner     2\n"
     ]
    }
   ],
   "source": [
    "# Load the tips dataset\n",
    "df = pd.read_csv(\"data_tips.csv\")\n",
    "print(df.head(10))"
   ]
  },
  {
   "cell_type": "code",
   "execution_count": 17,
   "id": "8e0c9840-e29b-4ce9-acc9-0017bba0a265",
   "metadata": {},
   "outputs": [
    {
     "name": "stdout",
     "output_type": "stream",
     "text": [
      "Column: sex\n",
      "['Female' 'Male']\n",
      "-----\n",
      "Column: smoker\n",
      "['No' 'Yes']\n",
      "-----\n",
      "Column: day\n",
      "['Sun' 'Sat' 'Thur' 'Fri']\n",
      "-----\n",
      "Column: time\n",
      "['Dinner' 'Lunch']\n",
      "-----\n",
      "Column: size\n",
      "[2 3 4 1 6 5]\n",
      "-----\n"
     ]
    }
   ],
   "source": [
    "# step1: Before filtering lets get to know all unique values of some of columns\n",
    "columns = ['sex', 'smoker', 'day', 'time', 'size']\n",
    "for col in columns:\n",
    "    print(f\"Column: {col}\")\n",
    "    print(df[col].unique())\n",
    "    print(\"-----\")\n"
   ]
  },
  {
   "cell_type": "code",
   "execution_count": 8,
   "id": "3b2c050b-6d63-407b-9bee-8c13887788f0",
   "metadata": {},
   "outputs": [
    {
     "name": "stdout",
     "output_type": "stream",
     "text": [
      "    total_bill   tip     sex smoker  day    time  size\n",
      "0        16.99  1.01  Female     No  Sun  Dinner     2\n",
      "4        24.59  3.61  Female     No  Sun  Dinner     4\n",
      "11       35.26  5.00  Female     No  Sun  Dinner     4\n",
      "14       14.83  3.02  Female     No  Sun  Dinner     2\n",
      "16       10.33  1.67  Female     No  Sun  Dinner     3\n",
      "#########################\n",
      "87\n"
     ]
    }
   ],
   "source": [
    "# Filter: Customers who are females\n",
    "mask = (df['sex'] == 'Female')\n",
    "\n",
    "df_filter = df[mask]\n",
    "print(df_filter.head()) # print first few records\n",
    "print(\"#########################\")\n",
    "print(len(df_filter)) # count of df_filter"
   ]
  },
  {
   "cell_type": "code",
   "execution_count": 9,
   "id": "ce6f37d9-0a7b-4d4a-bce3-4aee8a90e9d9",
   "metadata": {},
   "outputs": [
    {
     "name": "stdout",
     "output_type": "stream",
     "text": [
      "    total_bill   tip     sex smoker  day    time  size\n",
      "67        3.07  1.00  Female    Yes  Sat  Dinner     1\n",
      "72       26.86  3.14  Female    Yes  Sat  Dinner     2\n",
      "73       25.28  5.00  Female    Yes  Sat  Dinner     2\n",
      "92        5.75  1.00  Female    Yes  Fri  Dinner     2\n",
      "93       16.32  4.30  Female    Yes  Fri  Dinner     2\n",
      "#########################\n",
      "33\n"
     ]
    }
   ],
   "source": [
    "# Filter: Customers who are female smokers\n",
    "mask = (df['sex'] == 'Female') & (df['smoker'] == 'Yes')\n",
    "\n",
    "df_filter = df[mask]\n",
    "print(df_filter.head())\n",
    "print(\"#########################\")\n",
    "print(len(df_filter))"
   ]
  },
  {
   "cell_type": "code",
   "execution_count": 10,
   "id": "5e3c95b6-fe57-4dcc-92ef-a92b745fadb5",
   "metadata": {},
   "outputs": [
    {
     "name": "stdout",
     "output_type": "stream",
     "text": [
      "   total_bill   tip     sex smoker  day    time  size\n",
      "0       16.99  1.01  Female     No  Sun  Dinner     2\n",
      "1       10.34  1.66    Male     No  Sun  Dinner     3\n",
      "2       21.01  3.50    Male     No  Sun  Dinner     3\n",
      "3       23.68  3.31    Male     No  Sun  Dinner     2\n",
      "4       24.59  3.61  Female     No  Sun  Dinner     4\n",
      "#########################\n",
      "213\n"
     ]
    }
   ],
   "source": [
    "# Filter: Customers whose total bill < 30 or > 50\n",
    "mask = (df['total_bill'] < 30) | (df['total_bill'] > 50)\n",
    "\n",
    "df_filter = df[mask]\n",
    "print(df_filter.head())\n",
    "print(\"#########################\")\n",
    "print(len(df_filter))"
   ]
  },
  {
   "cell_type": "code",
   "execution_count": 11,
   "id": "ad4733ed-5fcf-4f8b-b0e2-f18a7020c712",
   "metadata": {},
   "outputs": [
    {
     "name": "stdout",
     "output_type": "stream",
     "text": [
      "    total_bill   tip     sex smoker  day    time  size  tip_percent\n",
      "6         8.77  2.00    Male     No  Sun  Dinner     2    22.805017\n",
      "9        14.78  3.23    Male     No  Sun  Dinner     2    21.853857\n",
      "14       14.83  3.02  Female     No  Sun  Dinner     2    20.364127\n",
      "17       16.29  3.71    Male     No  Sun  Dinner     3    22.774708\n",
      "18       16.97  3.50  Female     No  Sun  Dinner     3    20.624632\n",
      "#########################\n",
      "39\n"
     ]
    }
   ],
   "source": [
    "# Filter: Customers who tipped more than 20% of their total bill\n",
    "df['tip_percent'] = (df['tip'] / df['total_bill']) * 100\n",
    "mask = (df['tip_percent'] > 20)\n",
    "\n",
    "df_filter = df[mask]\n",
    "print(df_filter.head())\n",
    "print(\"#########################\")\n",
    "print(len(df_filter))"
   ]
  },
  {
   "cell_type": "code",
   "execution_count": 12,
   "id": "24d1dc7c-58be-4e65-a899-e4118e63a9db",
   "metadata": {},
   "outputs": [
    {
     "name": "stdout",
     "output_type": "stream",
     "text": [
      "    total_bill   tip   sex smoker   day   time  size  tip_percent\n",
      "77       27.20  4.00  Male     No  Thur  Lunch     4    14.705882\n",
      "78       22.76  3.00  Male     No  Thur  Lunch     2    13.181019\n",
      "79       17.29  2.71  Male     No  Thur  Lunch     2    15.673800\n",
      "80       19.44  3.00  Male    Yes  Thur  Lunch     2    15.432099\n",
      "81       16.66  3.40  Male     No  Thur  Lunch     2    20.408163\n",
      "#########################\n",
      "18\n"
     ]
    }
   ],
   "source": [
    "# Filter: Lunch time male customers with total bill between $15 and $30\n",
    "mask = (df['time'] == 'Lunch') & (df['sex'] == 'Male') & (df['total_bill'].between(15, 30))\n",
    "\n",
    "df_filter = df[mask]\n",
    "print(df_filter.head())\n",
    "print(\"#########################\")\n",
    "print(len(df_filter))"
   ]
  },
  {
   "cell_type": "code",
   "execution_count": 13,
   "id": "e7f1ac85-0c24-42e6-ac8d-e29ae860cf0e",
   "metadata": {},
   "outputs": [
    {
     "name": "stdout",
     "output_type": "stream",
     "text": [
      "     total_bill  tip     sex smoker  day    time  size  tip_percent\n",
      "73        25.28  5.0  Female    Yes  Sat  Dinner     2    19.778481\n",
      "214       28.17  6.5  Female    Yes  Sat  Dinner     3    23.074192\n",
      "#########################\n",
      "2\n"
     ]
    }
   ],
   "source": [
    "# Filter: Female smokers who dined on weekends and gave tips over $4\n",
    "mask = (\n",
    "    (df['sex'] == 'Female') &\n",
    "    (df['smoker'] == 'Yes') &\n",
    "    (df['day'].isin(['Sat', 'Sun'])) &\n",
    "    (df['tip'] > 4)\n",
    ")\n",
    "\n",
    "df_filter = df[mask]\n",
    "print(df_filter.head())\n",
    "print(\"#########################\")\n",
    "print(len(df_filter))"
   ]
  },
  {
   "cell_type": "code",
   "execution_count": 14,
   "id": "5710ddcd-55c0-4552-a992-9009ef9db148",
   "metadata": {},
   "outputs": [
    {
     "name": "stdout",
     "output_type": "stream",
     "text": [
      "    total_bill   tip     sex smoker  day    time  size  tip_percent  \\\n",
      "4        24.59  3.61  Female     No  Sun  Dinner     4    14.680765   \n",
      "5        25.29  4.71    Male     No  Sun  Dinner     4    18.623962   \n",
      "7        26.88  3.12    Male     No  Sun  Dinner     4    11.607143   \n",
      "11       35.26  5.00  Female     No  Sun  Dinner     4    14.180374   \n",
      "13       18.43  3.00    Male     No  Sun  Dinner     4    16.277808   \n",
      "\n",
      "    tip_per_person  \n",
      "4           0.9025  \n",
      "5           1.1775  \n",
      "7           0.7800  \n",
      "11          1.2500  \n",
      "13          0.7500  \n",
      "#########################\n",
      "41\n"
     ]
    }
   ],
   "source": [
    "# Filter: Tables with size >= 4 but average tip per person < $1.5\n",
    "df['tip_per_person'] = df['tip'] / df['size']\n",
    "mask = (df['size'] >= 4) & (df['tip_per_person'] < 1.5)\n",
    "\n",
    "df_filter = df[mask]\n",
    "print(df_filter.head())\n",
    "print(\"#########################\")\n",
    "print(len(df_filter))"
   ]
  },
  {
   "cell_type": "markdown",
   "id": "a49fb55c-1495-430b-b708-e7fd19b15a04",
   "metadata": {},
   "source": [
    "# STOP"
   ]
  },
  {
   "cell_type": "code",
   "execution_count": null,
   "id": "e476516b-45be-4ad6-b240-fde292a7bf0b",
   "metadata": {},
   "outputs": [],
   "source": []
  },
  {
   "cell_type": "code",
   "execution_count": null,
   "id": "637bff33-f18c-4041-9446-b73ff6fd6e9f",
   "metadata": {},
   "outputs": [],
   "source": []
  },
  {
   "cell_type": "code",
   "execution_count": null,
   "id": "851c2f8b-b013-42bc-ad37-848779c94e5b",
   "metadata": {},
   "outputs": [],
   "source": []
  },
  {
   "cell_type": "code",
   "execution_count": null,
   "id": "05229705-c20f-49b0-aff5-e2ccc5a743f4",
   "metadata": {},
   "outputs": [],
   "source": []
  },
  {
   "cell_type": "code",
   "execution_count": null,
   "id": "b4c8ffe1-b1aa-4485-9f2e-46e1a37b9462",
   "metadata": {},
   "outputs": [],
   "source": []
  },
  {
   "cell_type": "code",
   "execution_count": null,
   "id": "78da901f-a5c9-4b5d-99e2-1bf1026c39da",
   "metadata": {},
   "outputs": [],
   "source": []
  },
  {
   "cell_type": "markdown",
   "id": "76bafec9-c6da-419f-b487-4dd35cf53d8e",
   "metadata": {},
   "source": [
    "### Titanic dataset explanation\n",
    "\n",
    "| Column Name   | Description                                                          |\n",
    "| ------------- | -------------------------------------------------------------------- |\n",
    "| `survived`    | Whether the passenger survived (1) or died (0)                       |\n",
    "| `pclass`      | Passenger class (1 = 1st, 2 = 2nd, 3 = 3rd)                          |\n",
    "| `sex`         | Gender of the passenger                                              |\n",
    "| `age`         | Age in years (may contain missing values)                            |\n",
    "| `sibsp`       | Number of siblings/spouses aboard                                    |\n",
    "| `parch`       | Number of parents/children aboard                                    |\n",
    "| `fare`        | Ticket fare paid                                                     |\n",
    "| `embarked`    | Port of embarkation (C = Cherbourg, Q = Queenstown, S = Southampton) |\n",
    "| `class`       | Same as `pclass` but as string labels (\"First\", \"Second\", \"Third\")   |\n",
    "| `who`         | Gender grouping: man, woman, child                                   |\n",
    "| `adult_male`  | Boolean indicating if passenger is adult male                        |\n",
    "| `deck`        | Deck level (some missing data)                                       |\n",
    "| `embark_town` | Town of embarkation                                                  |\n",
    "| `alive`       | \"yes\" or \"no\" survival label                                         |\n",
    "| `alone`       | Boolean if passenger traveled alone                                  |\n"
   ]
  },
  {
   "cell_type": "code",
   "execution_count": 15,
   "id": "efb80c28-baaa-4b6d-828c-fe05e8ceb259",
   "metadata": {},
   "outputs": [
    {
     "ename": "FileNotFoundError",
     "evalue": "[Errno 2] No such file or directory: 'data_titanic.csv'",
     "output_type": "error",
     "traceback": [
      "\u001b[1;31m---------------------------------------------------------------------------\u001b[0m",
      "\u001b[1;31mFileNotFoundError\u001b[0m                         Traceback (most recent call last)",
      "Cell \u001b[1;32mIn[15], line 3\u001b[0m\n\u001b[0;32m      1\u001b[0m \u001b[38;5;66;03m# SKIP Load the Titanic dataset\u001b[39;00m\n\u001b[0;32m      2\u001b[0m \u001b[38;5;66;03m# df = pd.read_csv('https://raw.githubusercontent.com/ash322ash422/tut_pandas_numpy/refs/heads/master/titanic.csv', sep=',')\u001b[39;00m\n\u001b[1;32m----> 3\u001b[0m df \u001b[38;5;241m=\u001b[39m \u001b[43mpd\u001b[49m\u001b[38;5;241;43m.\u001b[39;49m\u001b[43mread_csv\u001b[49m\u001b[43m(\u001b[49m\u001b[38;5;124;43m'\u001b[39;49m\u001b[38;5;124;43mdata_titanic.csv\u001b[39;49m\u001b[38;5;124;43m'\u001b[39;49m\u001b[43m,\u001b[49m\u001b[43m \u001b[49m\u001b[43msep\u001b[49m\u001b[38;5;241;43m=\u001b[39;49m\u001b[38;5;124;43m'\u001b[39;49m\u001b[38;5;124;43m,\u001b[39;49m\u001b[38;5;124;43m'\u001b[39;49m\u001b[43m)\u001b[49m\n\u001b[0;32m      4\u001b[0m \u001b[38;5;28mprint\u001b[39m(df\u001b[38;5;241m.\u001b[39mhead())\n\u001b[0;32m      5\u001b[0m \u001b[38;5;28mprint\u001b[39m(\u001b[38;5;124m\"\u001b[39m\u001b[38;5;124m########################\u001b[39m\u001b[38;5;124m\"\u001b[39m)\n",
      "File \u001b[1;32m~\\AppData\\Local\\Programs\\Python\\Python39\\lib\\site-packages\\pandas\\io\\parsers\\readers.py:1024\u001b[0m, in \u001b[0;36mread_csv\u001b[1;34m(filepath_or_buffer, sep, delimiter, header, names, index_col, usecols, dtype, engine, converters, true_values, false_values, skipinitialspace, skiprows, skipfooter, nrows, na_values, keep_default_na, na_filter, verbose, skip_blank_lines, parse_dates, infer_datetime_format, keep_date_col, date_parser, date_format, dayfirst, cache_dates, iterator, chunksize, compression, thousands, decimal, lineterminator, quotechar, quoting, doublequote, escapechar, comment, encoding, encoding_errors, dialect, on_bad_lines, delim_whitespace, low_memory, memory_map, float_precision, storage_options, dtype_backend)\u001b[0m\n\u001b[0;32m   1011\u001b[0m kwds_defaults \u001b[38;5;241m=\u001b[39m _refine_defaults_read(\n\u001b[0;32m   1012\u001b[0m     dialect,\n\u001b[0;32m   1013\u001b[0m     delimiter,\n\u001b[1;32m   (...)\u001b[0m\n\u001b[0;32m   1020\u001b[0m     dtype_backend\u001b[38;5;241m=\u001b[39mdtype_backend,\n\u001b[0;32m   1021\u001b[0m )\n\u001b[0;32m   1022\u001b[0m kwds\u001b[38;5;241m.\u001b[39mupdate(kwds_defaults)\n\u001b[1;32m-> 1024\u001b[0m \u001b[38;5;28;01mreturn\u001b[39;00m \u001b[43m_read\u001b[49m\u001b[43m(\u001b[49m\u001b[43mfilepath_or_buffer\u001b[49m\u001b[43m,\u001b[49m\u001b[43m \u001b[49m\u001b[43mkwds\u001b[49m\u001b[43m)\u001b[49m\n",
      "File \u001b[1;32m~\\AppData\\Local\\Programs\\Python\\Python39\\lib\\site-packages\\pandas\\io\\parsers\\readers.py:618\u001b[0m, in \u001b[0;36m_read\u001b[1;34m(filepath_or_buffer, kwds)\u001b[0m\n\u001b[0;32m    615\u001b[0m _validate_names(kwds\u001b[38;5;241m.\u001b[39mget(\u001b[38;5;124m\"\u001b[39m\u001b[38;5;124mnames\u001b[39m\u001b[38;5;124m\"\u001b[39m, \u001b[38;5;28;01mNone\u001b[39;00m))\n\u001b[0;32m    617\u001b[0m \u001b[38;5;66;03m# Create the parser.\u001b[39;00m\n\u001b[1;32m--> 618\u001b[0m parser \u001b[38;5;241m=\u001b[39m TextFileReader(filepath_or_buffer, \u001b[38;5;241m*\u001b[39m\u001b[38;5;241m*\u001b[39mkwds)\n\u001b[0;32m    620\u001b[0m \u001b[38;5;28;01mif\u001b[39;00m chunksize \u001b[38;5;129;01mor\u001b[39;00m iterator:\n\u001b[0;32m    621\u001b[0m     \u001b[38;5;28;01mreturn\u001b[39;00m parser\n",
      "File \u001b[1;32m~\\AppData\\Local\\Programs\\Python\\Python39\\lib\\site-packages\\pandas\\io\\parsers\\readers.py:1618\u001b[0m, in \u001b[0;36mTextFileReader.__init__\u001b[1;34m(self, f, engine, **kwds)\u001b[0m\n\u001b[0;32m   1615\u001b[0m     \u001b[38;5;28mself\u001b[39m\u001b[38;5;241m.\u001b[39moptions[\u001b[38;5;124m\"\u001b[39m\u001b[38;5;124mhas_index_names\u001b[39m\u001b[38;5;124m\"\u001b[39m] \u001b[38;5;241m=\u001b[39m kwds[\u001b[38;5;124m\"\u001b[39m\u001b[38;5;124mhas_index_names\u001b[39m\u001b[38;5;124m\"\u001b[39m]\n\u001b[0;32m   1617\u001b[0m \u001b[38;5;28mself\u001b[39m\u001b[38;5;241m.\u001b[39mhandles: IOHandles \u001b[38;5;241m|\u001b[39m \u001b[38;5;28;01mNone\u001b[39;00m \u001b[38;5;241m=\u001b[39m \u001b[38;5;28;01mNone\u001b[39;00m\n\u001b[1;32m-> 1618\u001b[0m \u001b[38;5;28mself\u001b[39m\u001b[38;5;241m.\u001b[39m_engine \u001b[38;5;241m=\u001b[39m \u001b[38;5;28;43mself\u001b[39;49m\u001b[38;5;241;43m.\u001b[39;49m\u001b[43m_make_engine\u001b[49m\u001b[43m(\u001b[49m\u001b[43mf\u001b[49m\u001b[43m,\u001b[49m\u001b[43m \u001b[49m\u001b[38;5;28;43mself\u001b[39;49m\u001b[38;5;241;43m.\u001b[39;49m\u001b[43mengine\u001b[49m\u001b[43m)\u001b[49m\n",
      "File \u001b[1;32m~\\AppData\\Local\\Programs\\Python\\Python39\\lib\\site-packages\\pandas\\io\\parsers\\readers.py:1878\u001b[0m, in \u001b[0;36mTextFileReader._make_engine\u001b[1;34m(self, f, engine)\u001b[0m\n\u001b[0;32m   1876\u001b[0m     \u001b[38;5;28;01mif\u001b[39;00m \u001b[38;5;124m\"\u001b[39m\u001b[38;5;124mb\u001b[39m\u001b[38;5;124m\"\u001b[39m \u001b[38;5;129;01mnot\u001b[39;00m \u001b[38;5;129;01min\u001b[39;00m mode:\n\u001b[0;32m   1877\u001b[0m         mode \u001b[38;5;241m+\u001b[39m\u001b[38;5;241m=\u001b[39m \u001b[38;5;124m\"\u001b[39m\u001b[38;5;124mb\u001b[39m\u001b[38;5;124m\"\u001b[39m\n\u001b[1;32m-> 1878\u001b[0m \u001b[38;5;28mself\u001b[39m\u001b[38;5;241m.\u001b[39mhandles \u001b[38;5;241m=\u001b[39m \u001b[43mget_handle\u001b[49m\u001b[43m(\u001b[49m\n\u001b[0;32m   1879\u001b[0m \u001b[43m    \u001b[49m\u001b[43mf\u001b[49m\u001b[43m,\u001b[49m\n\u001b[0;32m   1880\u001b[0m \u001b[43m    \u001b[49m\u001b[43mmode\u001b[49m\u001b[43m,\u001b[49m\n\u001b[0;32m   1881\u001b[0m \u001b[43m    \u001b[49m\u001b[43mencoding\u001b[49m\u001b[38;5;241;43m=\u001b[39;49m\u001b[38;5;28;43mself\u001b[39;49m\u001b[38;5;241;43m.\u001b[39;49m\u001b[43moptions\u001b[49m\u001b[38;5;241;43m.\u001b[39;49m\u001b[43mget\u001b[49m\u001b[43m(\u001b[49m\u001b[38;5;124;43m\"\u001b[39;49m\u001b[38;5;124;43mencoding\u001b[39;49m\u001b[38;5;124;43m\"\u001b[39;49m\u001b[43m,\u001b[49m\u001b[43m \u001b[49m\u001b[38;5;28;43;01mNone\u001b[39;49;00m\u001b[43m)\u001b[49m\u001b[43m,\u001b[49m\n\u001b[0;32m   1882\u001b[0m \u001b[43m    \u001b[49m\u001b[43mcompression\u001b[49m\u001b[38;5;241;43m=\u001b[39;49m\u001b[38;5;28;43mself\u001b[39;49m\u001b[38;5;241;43m.\u001b[39;49m\u001b[43moptions\u001b[49m\u001b[38;5;241;43m.\u001b[39;49m\u001b[43mget\u001b[49m\u001b[43m(\u001b[49m\u001b[38;5;124;43m\"\u001b[39;49m\u001b[38;5;124;43mcompression\u001b[39;49m\u001b[38;5;124;43m\"\u001b[39;49m\u001b[43m,\u001b[49m\u001b[43m \u001b[49m\u001b[38;5;28;43;01mNone\u001b[39;49;00m\u001b[43m)\u001b[49m\u001b[43m,\u001b[49m\n\u001b[0;32m   1883\u001b[0m \u001b[43m    \u001b[49m\u001b[43mmemory_map\u001b[49m\u001b[38;5;241;43m=\u001b[39;49m\u001b[38;5;28;43mself\u001b[39;49m\u001b[38;5;241;43m.\u001b[39;49m\u001b[43moptions\u001b[49m\u001b[38;5;241;43m.\u001b[39;49m\u001b[43mget\u001b[49m\u001b[43m(\u001b[49m\u001b[38;5;124;43m\"\u001b[39;49m\u001b[38;5;124;43mmemory_map\u001b[39;49m\u001b[38;5;124;43m\"\u001b[39;49m\u001b[43m,\u001b[49m\u001b[43m \u001b[49m\u001b[38;5;28;43;01mFalse\u001b[39;49;00m\u001b[43m)\u001b[49m\u001b[43m,\u001b[49m\n\u001b[0;32m   1884\u001b[0m \u001b[43m    \u001b[49m\u001b[43mis_text\u001b[49m\u001b[38;5;241;43m=\u001b[39;49m\u001b[43mis_text\u001b[49m\u001b[43m,\u001b[49m\n\u001b[0;32m   1885\u001b[0m \u001b[43m    \u001b[49m\u001b[43merrors\u001b[49m\u001b[38;5;241;43m=\u001b[39;49m\u001b[38;5;28;43mself\u001b[39;49m\u001b[38;5;241;43m.\u001b[39;49m\u001b[43moptions\u001b[49m\u001b[38;5;241;43m.\u001b[39;49m\u001b[43mget\u001b[49m\u001b[43m(\u001b[49m\u001b[38;5;124;43m\"\u001b[39;49m\u001b[38;5;124;43mencoding_errors\u001b[39;49m\u001b[38;5;124;43m\"\u001b[39;49m\u001b[43m,\u001b[49m\u001b[43m \u001b[49m\u001b[38;5;124;43m\"\u001b[39;49m\u001b[38;5;124;43mstrict\u001b[39;49m\u001b[38;5;124;43m\"\u001b[39;49m\u001b[43m)\u001b[49m\u001b[43m,\u001b[49m\n\u001b[0;32m   1886\u001b[0m \u001b[43m    \u001b[49m\u001b[43mstorage_options\u001b[49m\u001b[38;5;241;43m=\u001b[39;49m\u001b[38;5;28;43mself\u001b[39;49m\u001b[38;5;241;43m.\u001b[39;49m\u001b[43moptions\u001b[49m\u001b[38;5;241;43m.\u001b[39;49m\u001b[43mget\u001b[49m\u001b[43m(\u001b[49m\u001b[38;5;124;43m\"\u001b[39;49m\u001b[38;5;124;43mstorage_options\u001b[39;49m\u001b[38;5;124;43m\"\u001b[39;49m\u001b[43m,\u001b[49m\u001b[43m \u001b[49m\u001b[38;5;28;43;01mNone\u001b[39;49;00m\u001b[43m)\u001b[49m\u001b[43m,\u001b[49m\n\u001b[0;32m   1887\u001b[0m \u001b[43m\u001b[49m\u001b[43m)\u001b[49m\n\u001b[0;32m   1888\u001b[0m \u001b[38;5;28;01massert\u001b[39;00m \u001b[38;5;28mself\u001b[39m\u001b[38;5;241m.\u001b[39mhandles \u001b[38;5;129;01mis\u001b[39;00m \u001b[38;5;129;01mnot\u001b[39;00m \u001b[38;5;28;01mNone\u001b[39;00m\n\u001b[0;32m   1889\u001b[0m f \u001b[38;5;241m=\u001b[39m \u001b[38;5;28mself\u001b[39m\u001b[38;5;241m.\u001b[39mhandles\u001b[38;5;241m.\u001b[39mhandle\n",
      "File \u001b[1;32m~\\AppData\\Local\\Programs\\Python\\Python39\\lib\\site-packages\\pandas\\io\\common.py:873\u001b[0m, in \u001b[0;36mget_handle\u001b[1;34m(path_or_buf, mode, encoding, compression, memory_map, is_text, errors, storage_options)\u001b[0m\n\u001b[0;32m    868\u001b[0m \u001b[38;5;28;01melif\u001b[39;00m \u001b[38;5;28misinstance\u001b[39m(handle, \u001b[38;5;28mstr\u001b[39m):\n\u001b[0;32m    869\u001b[0m     \u001b[38;5;66;03m# Check whether the filename is to be opened in binary mode.\u001b[39;00m\n\u001b[0;32m    870\u001b[0m     \u001b[38;5;66;03m# Binary mode does not support 'encoding' and 'newline'.\u001b[39;00m\n\u001b[0;32m    871\u001b[0m     \u001b[38;5;28;01mif\u001b[39;00m ioargs\u001b[38;5;241m.\u001b[39mencoding \u001b[38;5;129;01mand\u001b[39;00m \u001b[38;5;124m\"\u001b[39m\u001b[38;5;124mb\u001b[39m\u001b[38;5;124m\"\u001b[39m \u001b[38;5;129;01mnot\u001b[39;00m \u001b[38;5;129;01min\u001b[39;00m ioargs\u001b[38;5;241m.\u001b[39mmode:\n\u001b[0;32m    872\u001b[0m         \u001b[38;5;66;03m# Encoding\u001b[39;00m\n\u001b[1;32m--> 873\u001b[0m         handle \u001b[38;5;241m=\u001b[39m \u001b[38;5;28;43mopen\u001b[39;49m\u001b[43m(\u001b[49m\n\u001b[0;32m    874\u001b[0m \u001b[43m            \u001b[49m\u001b[43mhandle\u001b[49m\u001b[43m,\u001b[49m\n\u001b[0;32m    875\u001b[0m \u001b[43m            \u001b[49m\u001b[43mioargs\u001b[49m\u001b[38;5;241;43m.\u001b[39;49m\u001b[43mmode\u001b[49m\u001b[43m,\u001b[49m\n\u001b[0;32m    876\u001b[0m \u001b[43m            \u001b[49m\u001b[43mencoding\u001b[49m\u001b[38;5;241;43m=\u001b[39;49m\u001b[43mioargs\u001b[49m\u001b[38;5;241;43m.\u001b[39;49m\u001b[43mencoding\u001b[49m\u001b[43m,\u001b[49m\n\u001b[0;32m    877\u001b[0m \u001b[43m            \u001b[49m\u001b[43merrors\u001b[49m\u001b[38;5;241;43m=\u001b[39;49m\u001b[43merrors\u001b[49m\u001b[43m,\u001b[49m\n\u001b[0;32m    878\u001b[0m \u001b[43m            \u001b[49m\u001b[43mnewline\u001b[49m\u001b[38;5;241;43m=\u001b[39;49m\u001b[38;5;124;43m\"\u001b[39;49m\u001b[38;5;124;43m\"\u001b[39;49m\u001b[43m,\u001b[49m\n\u001b[0;32m    879\u001b[0m \u001b[43m        \u001b[49m\u001b[43m)\u001b[49m\n\u001b[0;32m    880\u001b[0m     \u001b[38;5;28;01melse\u001b[39;00m:\n\u001b[0;32m    881\u001b[0m         \u001b[38;5;66;03m# Binary mode\u001b[39;00m\n\u001b[0;32m    882\u001b[0m         handle \u001b[38;5;241m=\u001b[39m \u001b[38;5;28mopen\u001b[39m(handle, ioargs\u001b[38;5;241m.\u001b[39mmode)\n",
      "\u001b[1;31mFileNotFoundError\u001b[0m: [Errno 2] No such file or directory: 'data_titanic.csv'"
     ]
    }
   ],
   "source": [
    "# SKIP Load the Titanic dataset\n",
    "# df = pd.read_csv('https://raw.githubusercontent.com/ash322ash422/tut_pandas_numpy/refs/heads/master/titanic.csv', sep=',')\n",
    "df = pd.read_csv('data_titanic.csv', sep=',')\n",
    "print(df.head())\n",
    "print(\"########################\")\n",
    "\n",
    "# Filter: all passengers who are female \n",
    "mask = df['Sex'] == 'female'\n",
    "df_filter = df[mask]\n",
    "print(df_filter)\n",
    "print(\"########################\")\n",
    "\n",
    "# Filter: all passenger who survived\n",
    "mask = df['Survived'] == 1\n",
    "df_filter = df[mask]\n",
    "print(df_filter)\n",
    "print(\"########################\")\n",
    "\n",
    "# Filter: Passengers who are female and survived\n",
    "mask = (df['Sex'] == 'female') & (df['Survived'] == 1)\n",
    "df_filter = df[mask]\n",
    "print(df_filter.head())\n",
    "print(\"########################\")\n",
    "\n",
    "# Filter: Passengers who are either in first class AND over 60 years old\n",
    "mask = (df['Pclass'] == 1) & (df['Age'] > 60)\n",
    "df_filter = df[mask]\n",
    "print(df_filter)\n",
    "print(\"########################\")\n",
    "\n",
    "# Filter: passengers who are > 60 years of age\n",
    "mask = df['Age'] > 60\n",
    "df_filter = df[mask]\n",
    "print(df_filter)\n",
    "print(\"########################\")\n",
    "\n",
    "# Filter: Passengers whose age is either < 30 or > 60 , \n",
    "mask = (df['Age'] < 30) | (df['Age'] > 60)\n",
    "df_filter = df[mask]\n",
    "print(df_filter)\n",
    "print(\"########################\")\n",
    "\n",
    "# Filter: Passengers with missing age or fare > 200\n",
    "mask = (df['Age'].isnull()) | (df['Fare'] > 200)\n",
    "df_filter = df[mask]\n",
    "print(df_filter)\n",
    "print(\"########################\")\n",
    "\n",
    "# Filter: Male passengers under 18 who did not survive\n",
    "# passenger are male AND passengers age < 18 AND passenger did not survive \n",
    "mask = (df['Sex'] == 'male') & (df['Age'] < 18) & (df['Survived'] == 0)\n",
    "df_filter = df[mask]\n",
    "print(df_filter)\n",
    "print(\"########################\")\n",
    "\n",
    "# Filter: Females in 2nd or 3rd class\n",
    "# passengers are female AND (passenger are in  2nd class OR passenger are in  3rd class) # TODO\n",
    "mask = (df['Sex'] == 'female') & ((df['Pclass'] == 2) | (df['Pclass'] == 3))\n",
    "df_filter = df[mask]\n",
    "print(df_filter)\n",
    "print(\"########################\")\n",
    "\n"
   ]
  },
  {
   "cell_type": "code",
   "execution_count": null,
   "id": "624b2794-0cf0-4dcd-a05e-b52dd534e543",
   "metadata": {},
   "outputs": [],
   "source": []
  },
  {
   "cell_type": "code",
   "execution_count": null,
   "id": "4cad5bca-37bd-4221-a37e-72fd8ca78849",
   "metadata": {},
   "outputs": [],
   "source": []
  },
  {
   "cell_type": "code",
   "execution_count": null,
   "id": "e1fa078f-a197-4e2c-a683-9d72a99f1480",
   "metadata": {},
   "outputs": [],
   "source": []
  },
  {
   "cell_type": "code",
   "execution_count": null,
   "id": "7b2dc50b-c7e6-473e-a30b-e41e7208c3de",
   "metadata": {},
   "outputs": [],
   "source": []
  },
  {
   "cell_type": "code",
   "execution_count": null,
   "id": "988840e9-02f9-4b80-a3b8-9702d7dc8395",
   "metadata": {},
   "outputs": [],
   "source": []
  },
  {
   "cell_type": "code",
   "execution_count": null,
   "id": "d5baf02c-07c1-4d3d-8313-979bbd1ee285",
   "metadata": {},
   "outputs": [],
   "source": []
  },
  {
   "cell_type": "code",
   "execution_count": null,
   "id": "11f3802c-2596-46ff-a7cb-abe63a161e9d",
   "metadata": {},
   "outputs": [],
   "source": []
  },
  {
   "cell_type": "code",
   "execution_count": null,
   "id": "d548989c-452d-4ac7-bdab-6492b21e9430",
   "metadata": {},
   "outputs": [],
   "source": []
  },
  {
   "cell_type": "code",
   "execution_count": null,
   "id": "4d717312-705f-4e01-9aa7-d8e3c8c6659d",
   "metadata": {},
   "outputs": [],
   "source": []
  },
  {
   "cell_type": "code",
   "execution_count": null,
   "id": "b89fb44d-49f5-480e-a00a-563efb1a4425",
   "metadata": {},
   "outputs": [],
   "source": []
  }
 ],
 "metadata": {
  "kernelspec": {
   "display_name": "Python 3 (ipykernel)",
   "language": "python",
   "name": "python3"
  },
  "language_info": {
   "codemirror_mode": {
    "name": "ipython",
    "version": 3
   },
   "file_extension": ".py",
   "mimetype": "text/x-python",
   "name": "python",
   "nbconvert_exporter": "python",
   "pygments_lexer": "ipython3",
   "version": "3.9.9"
  }
 },
 "nbformat": 4,
 "nbformat_minor": 5
}
