{
 "cells": [
  {
   "cell_type": "markdown",
   "id": "c5ada5e5-8de8-497f-b42f-f2f200df58c0",
   "metadata": {},
   "source": [
    "### Topics covered:\n",
    "- stat operations: mean, median, min, max, std_dev, var, percentile, describe, corrcoef, cov,\n"
   ]
  },
  {
   "cell_type": "code",
   "execution_count": 3,
   "id": "272dbb10-7337-48d1-a29b-51cce3e94c42",
   "metadata": {},
   "outputs": [],
   "source": [
    "import numpy as np"
   ]
  },
  {
   "cell_type": "markdown",
   "id": "f42b2e6d-afbe-4853-b185-7f651b99d614",
   "metadata": {},
   "source": [
    "# STATS "
   ]
  },
  {
   "cell_type": "code",
   "execution_count": 25,
   "id": "1346d545-823f-4b50-98c8-03f6f01cba38",
   "metadata": {},
   "outputs": [
    {
     "name": "stdout",
     "output_type": "stream",
     "text": [
      "Mean: 5.0\n",
      "Variance: 16.4\n",
      "Standard Deviation: 4.049691346263317\n",
      "Median: 5.0\n",
      "Minimum: 0\n",
      "arg_min: 2\n",
      "Maximum: 10\n",
      "arg_max: 7\n",
      "sorted_idx: [2 3 0 1 4 9 5 6 7 8]\n",
      "25th Percentile: 1.0\n",
      "75th Percentile: 9.0\n"
     ]
    }
   ],
   "source": [
    "import numpy as np\n",
    "\n",
    "# data = np.array([12, 15, 14, 13, 20, 22, 25, 21, 19, 18, 17, 230000]) # Monthly sales data in 1000s\n",
    "# data = np.array([5, 5, 5, 5, 5, 5, 5, 5, 5, 5])\n",
    "# data = np.array([4, 3, 5, 6, 7, 3, 5, 6, 4, 5])\n",
    "data = np.array([1, 1, 0, 0, 5, 9, 9,10, 10, 5])\n",
    "\n",
    "\n",
    "# Calculate statistics\n",
    "mean_value = np.mean(data) # TODO\n",
    "print(\"Mean:\", mean_value)\n",
    "\n",
    "variance = np.var(data)\n",
    "print(\"Variance:\", variance)\n",
    "\n",
    "std_deviation = np.std(data)\n",
    "print(\"Standard Deviation:\", std_deviation) # Sales typically vary ±$std_deviationK from the mean.\n",
    "\n",
    "median_value = np.median(data)\n",
    "print(\"Median:\", median_value) # Half the months are above/below this.\n",
    "\n",
    "\n",
    "min_value = np.min(data)\n",
    "print(\"Minimum:\", min_value)\n",
    "arg_min = np.argmin(data)\n",
    "print(\"arg_min:\", arg_min)\n",
    "\n",
    "\n",
    "max_value = np.max(data)\n",
    "print(\"Maximum:\", max_value)\n",
    "arg_max = np.argmax(data)\n",
    "print(\"arg_max:\", arg_max)\n",
    "\n",
    "sorted_idx = np.argsort(data) # OPTIONAL\n",
    "print(\"sorted_idx:\", sorted_idx)\n",
    "\n",
    "percentile_25 = np.percentile(data, 25)\n",
    "print(\"25th Percentile:\", percentile_25)\n",
    "\n",
    "percentile_75 = np.percentile(data, 75)\n",
    "print(\"75th Percentile:\", percentile_75)"
   ]
  },
  {
   "cell_type": "code",
   "execution_count": 26,
   "id": "995b0c5a",
   "metadata": {},
   "outputs": [
    {
     "name": "stdout",
     "output_type": "stream",
     "text": [
      "Sample values: [114 107 115 124 106 106 125 116 104 114 104 104 111  90  92 103  99 112\n",
      " 100  95 123 107 109  95 103 110  97 113 103 106 103 127 109  98 117  97\n",
      " 111  89  96 111 116 111 108 106  94 102 104 119 112  91]\n",
      "Sample mean: 106.56\n"
     ]
    }
   ],
   "source": [
    "# APPLICATION:\n",
    "# generate a random sample of size 50 with a mean of 107 using NumPy\n",
    "\n",
    "np.random.seed(42)  \n",
    "\n",
    "# Set the desired parameters\n",
    "sample_size = 50\n",
    "desired_mean = 107\n",
    "\n",
    "# Generate random values (e.g., from a normal distribution)\n",
    "# We'll generate a sample with mean 0, then shift it to desired mean\n",
    "random_sample = np.random.normal(loc=0, scale=10, size=sample_size)\n",
    "\n",
    "# Shift the sample to have the desired mean\n",
    "adjusted_sample = random_sample - np.mean(random_sample) + desired_mean\n",
    "adjusted_sample = np.round(adjusted_sample,1).astype(int)\n",
    "\n",
    "# Print the sample and its mean\n",
    "print(\"Sample values:\", adjusted_sample)\n",
    "print(\"Sample mean:\", np.mean(adjusted_sample))\n"
   ]
  },
  {
   "cell_type": "code",
   "execution_count": 30,
   "id": "8d32b54c-7d99-49d8-bd9d-56e5c8e8443b",
   "metadata": {},
   "outputs": [
    {
     "name": "stdout",
     "output_type": "stream",
     "text": [
      "Covariance matrix: \n",
      "[[  2.5 -12.5]\n",
      " [-12.5  62.5]]\n",
      "Covariance between StudyHours and ExamScore: -12.5\n",
      "###################\n",
      "corr_matrix between x1 and x2: \n",
      "[[ 1. -1.]\n",
      " [-1.  1.]]\n"
     ]
    }
   ],
   "source": [
    "# Application1 : finding relation between 2 variable\n",
    "import numpy as np\n",
    "x1 = np.array([1, 2, 3, 4, 5]) # game_hours\n",
    "x2 = np.array([95, 90, 85, 80, 75]) # exam_scores\n",
    "\n",
    "# compute covariance matrix\n",
    "cov_matrix = np.cov(x1, x2)\n",
    "\n",
    "print(f\"Covariance matrix: \\n{cov_matrix}\")\n",
    "print(f\"Covariance between StudyHours and ExamScore: {cov_matrix[0,1]}\")\n",
    "\n",
    "print(\"###################\")\n",
    "corr_matrix = np.corrcoef(x1, x2)\n",
    "print(f\"corr_matrix between x1 and x2: \\n{corr_matrix}\")\n"
   ]
  },
  {
   "cell_type": "code",
   "execution_count": 31,
   "id": "81fc473f-6934-44e2-b9d5-51124a7761f9",
   "metadata": {},
   "outputs": [
    {
     "name": "stdout",
     "output_type": "stream",
     "text": [
      "Covariance matrix:\n",
      " [[ 250.   500.    10.  -455. ]\n",
      " [ 500.  1000.    20.  -910. ]\n",
      " [  10.    20.   182.8   -4.8]\n",
      " [-455.  -910.    -4.8  843.8]]\n",
      "##################\n",
      "corr_matrix: \n",
      "[[ 1.          1.          0.04677803 -0.99065317]\n",
      " [ 1.          1.          0.04677803 -0.99065317]\n",
      " [ 0.04677803  0.04677803  1.         -0.01222175]\n",
      " [-0.99065317 -0.99065317 -0.01222175  1.        ]]\n"
     ]
    }
   ],
   "source": [
    "# Application: finding relation between  many variable\n",
    "import numpy as np\n",
    "x1 = np.array([10, 20, 30, 40, 50])  # resistance with I=2\n",
    "x2 = np.array([20, 40, 60, 80, 100]) # voltage measured via a top quality voltmeter\n",
    "x3 = np.array([18, 40, 50, 20,  30]) # voltage measured via a sub quality voltmeter\n",
    "x4 = np.array([90, 82, 55, 40, 20]) #  some other var with -ve correlation\n",
    "\n",
    "# stack and compute covariance\n",
    "X = np.vstack((x1, x2, x3, x4))\n",
    "cov_matrix = np.cov(X)\n",
    "print(\"Covariance matrix:\\n\", cov_matrix)\n",
    "print(\"##################\")\n",
    "\n",
    "X = np.vstack((x1, x2, x3, x4))\n",
    "corr_matrix = np.corrcoef(X)\n",
    "print(f\"corr_matrix: \\n{corr_matrix}\")"
   ]
  },
  {
   "cell_type": "code",
   "execution_count": null,
   "id": "e0ff1714-a5aa-4d7d-8562-5c312b957b39",
   "metadata": {},
   "outputs": [],
   "source": []
  },
  {
   "cell_type": "markdown",
   "id": "fad80370-aaf5-48c5-a26d-38b18c2a4e53",
   "metadata": {},
   "source": [
    "## package stat and its methods"
   ]
  },
  {
   "cell_type": "code",
   "execution_count": null,
   "id": "e2cb1fbd-5bb7-48f7-b356-34b4843f71fe",
   "metadata": {},
   "outputs": [],
   "source": [
    "# SKIP\n",
    "from scipy.stats import mode # NumPy does not have a built-in mode()\n",
    "\n",
    "# how to calculate mode: the most frequent item\n",
    "# Use Cases:\n",
    "# Product reviews:\tFind the most common rating\n",
    "# Voting systems:\tDetermine the most popular choice\n",
    "# Health surveys:\tIdentify most frequently reported symptom\n",
    "# Transport:\tFind the most common route or time taken\n",
    "\n",
    "arr = np.array([1, 2, 2, 3, 4, 4, 4, 5, 5, 4, 4]) # rating for a certain  product\n",
    "\n",
    "mode_result = mode(arr, keepdims=True)\n",
    "print(\"Mode:\", mode_result.mode[0]) # most common result\n",
    "print(\"Count:\", mode_result.count[0])"
   ]
  }
 ],
 "metadata": {
  "kernelspec": {
   "display_name": "Python 3 (ipykernel)",
   "language": "python",
   "name": "python3"
  },
  "language_info": {
   "codemirror_mode": {
    "name": "ipython",
    "version": 3
   },
   "file_extension": ".py",
   "mimetype": "text/x-python",
   "name": "python",
   "nbconvert_exporter": "python",
   "pygments_lexer": "ipython3",
   "version": "3.9.9"
  }
 },
 "nbformat": 4,
 "nbformat_minor": 5
}
