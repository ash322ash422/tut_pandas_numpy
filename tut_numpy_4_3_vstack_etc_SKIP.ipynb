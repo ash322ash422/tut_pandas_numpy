{
 "cells": [
  {
   "cell_type": "markdown",
   "id": "28d0faa5-0221-465f-a9fd-cfdb1b6136f5",
   "metadata": {},
   "source": [
    "# changing the shape of arrays\n",
    "- vstack"
   ]
  },
  {
   "cell_type": "code",
   "execution_count": 19,
   "id": "0e221d7f-cf2a-45bc-8b68-ca2172d6d8d4",
   "metadata": {},
   "outputs": [],
   "source": [
    "import numpy as np"
   ]
  },
  {
   "cell_type": "markdown",
   "id": "399b6cff-1f3c-42d8-a99b-b8731002d0ad",
   "metadata": {},
   "source": [
    "### vstack()\n",
    "- **stack arrays row-wise (vertically) to create a single array**.\n",
    "- combine smaller arrays into a bigger one."
   ]
  },
  {
   "cell_type": "code",
   "execution_count": 25,
   "id": "569ad070-1f7f-4fa6-882a-9e8f58b88561",
   "metadata": {},
   "outputs": [
    {
     "name": "stdout",
     "output_type": "stream",
     "text": [
      "(4, 5)\n",
      "[[ 10  20  30  40  50]\n",
      " [ 20  40  60  80 100]\n",
      " [ 18  40  50  20  30]\n",
      " [ 90  82  55  40  20]]\n"
     ]
    }
   ],
   "source": [
    "# I want to take four 1D array of shape = 5 and turn it into 2D array of shape 4X5:\n",
    "\n",
    "x1 = np.array([10, 20, 30, 40, 50])  \n",
    "x2 = np.array([20, 40, 60, 80, 100])\n",
    "x3 = np.array([18, 40, 50, 20,  30]) \n",
    "x4 = np.array([90, 82, 55, 40, 20]) \n",
    "\n",
    "x = np.vstack((x1, x2, x3, x4))\n",
    "print(x.shape)\n",
    "print(x)"
   ]
  },
  {
   "cell_type": "code",
   "execution_count": 26,
   "id": "b05a8855-99e3-43b2-b4db-660c039030ba",
   "metadata": {},
   "outputs": [
    {
     "name": "stdout",
     "output_type": "stream",
     "text": [
      "(4, 5)\n",
      "[[ 10  20  30  40  50]\n",
      " [ 20  40  60  80 100]\n",
      " [ 18  40  50  20  30]\n",
      " [ 90  82  55  40  20]]\n"
     ]
    }
   ],
   "source": [
    "x1 = np.array([10, 20, 30, 40, 50])  \n",
    "x2 = np.array([20, 40, 60, 80, 100])\n",
    "x3 = np.array([18, 40, 50, 20, 30]) \n",
    "x4 = np.array([90, 82, 55, 40, 20]) \n",
    "\n",
    "x = np.array([x1, x2, x3, x4])   # shape (4,5)\n",
    "\n",
    "print(x.shape)  # (4, 5)\n",
    "print(x)"
   ]
  },
  {
   "cell_type": "markdown",
   "id": "92e2a0f2-e37b-4baf-937f-39f5f7a3b8e3",
   "metadata": {},
   "source": []
  },
  {
   "cell_type": "code",
   "execution_count": null,
   "id": "093c533f-d1cf-4507-a825-a6a064ac76d9",
   "metadata": {},
   "outputs": [],
   "source": []
  },
  {
   "cell_type": "code",
   "execution_count": null,
   "id": "35dac59f-839e-4bed-9d5f-30048c687983",
   "metadata": {},
   "outputs": [],
   "source": []
  },
  {
   "cell_type": "code",
   "execution_count": null,
   "id": "6af60623-900a-41de-964f-45dac526b983",
   "metadata": {},
   "outputs": [],
   "source": []
  }
 ],
 "metadata": {
  "kernelspec": {
   "display_name": "Python 3 (ipykernel)",
   "language": "python",
   "name": "python3"
  },
  "language_info": {
   "codemirror_mode": {
    "name": "ipython",
    "version": 3
   },
   "file_extension": ".py",
   "mimetype": "text/x-python",
   "name": "python",
   "nbconvert_exporter": "python",
   "pygments_lexer": "ipython3",
   "version": "3.9.9"
  }
 },
 "nbformat": 4,
 "nbformat_minor": 5
}
