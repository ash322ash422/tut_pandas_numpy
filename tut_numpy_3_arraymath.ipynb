{
 "cells": [
  {
   "cell_type": "markdown",
   "id": "c5ada5e5-8de8-497f-b42f-f2f200df58c0",
   "metadata": {},
   "source": [
    "### Topics covered:\n",
    "- math: add, subtract, multiply, divide\n",
    "- math: square, root, power, log, exp, round, ceil, floor,\n",
    "- math: prod, cumsum, cumprod, diff\n",
    "- flatten / reshape\n",
    "- unique\n",
    "- dot product, determinant, inverse, sum, transpose\n",
    "- eigen values, eigen vectors\n",
    "\n",
    "- stat operations: mean, median, min, max, std_dev, var, percentile, describe, corrcoef, cov,\n",
    "\n",
    "- isin, where\n",
    "- set operations"
   ]
  },
  {
   "cell_type": "markdown",
   "id": "c400fc41-ed89-4cb9-b5a3-7418b180a53f",
   "metadata": {},
   "source": [
    "## Array math\n",
    "Basic mathematical functions operate elementwise on arrays, and are available both as operator overloads and as functions in the numpy module:"
   ]
  },
  {
   "cell_type": "code",
   "execution_count": 18,
   "id": "272dbb10-7337-48d1-a29b-51cce3e94c42",
   "metadata": {},
   "outputs": [],
   "source": [
    "import numpy as np"
   ]
  },
  {
   "cell_type": "code",
   "execution_count": 19,
   "id": "7f4112ec-81b9-4201-bd11-1b1721b70e3a",
   "metadata": {},
   "outputs": [
    {
     "name": "stdout",
     "output_type": "stream",
     "text": [
      "[[ 6.  8.]\n",
      " [10. 12.]]\n",
      "[[ 6.  8.]\n",
      " [10. 12.]]\n",
      "[[-4. -4.]\n",
      " [-4. -4.]]\n",
      "[[-4. -4.]\n",
      " [-4. -4.]]\n",
      "[[ 5. 12.]\n",
      " [21. 32.]]\n",
      "[[ 5. 12.]\n",
      " [21. 32.]]\n",
      "[[0.2   0.333]\n",
      " [0.429 0.5  ]]\n",
      "[[0.2   0.333]\n",
      " [0.429 0.5  ]]\n"
     ]
    }
   ],
   "source": [
    "x = np.array([[1,2],\n",
    "              [3,4]], dtype=np.float64\n",
    ")\n",
    "y = np.array([[5,6],\n",
    "              [7,8]], dtype=np.float64\n",
    ")\n",
    "\n",
    "# Elementwise sum; both produce the array\n",
    "# [[ 6.0  8.0]\n",
    "#  [10.0 12.0]]\n",
    "print(x + y)\n",
    "print(np.add(x, y))\n",
    "\n",
    "# Elementwise difference; both produce the array\n",
    "# [[-4.0 -4.0]\n",
    "#  [-4.0 -4.0]]\n",
    "print(x - y)\n",
    "print(np.subtract(x, y))\n",
    "\n",
    "# Elementwise product; both produce the array\n",
    "# [[ 5.0 12.0]\n",
    "#  [21.0 32.0]]\n",
    "print(x * y)\n",
    "print(np.multiply(x, y))\n",
    "\n",
    "# Elementwise division; both produce the array\n",
    "# [[ 0.2         0.33333333]\n",
    "#  [ 0.42857143  0.5       ]]\n",
    "print(x / y)\n",
    "print(np.divide(x, y))\n"
   ]
  },
  {
   "cell_type": "code",
   "execution_count": 20,
   "id": "aa0177f0-084f-4320-9276-bf86c5881f32",
   "metadata": {},
   "outputs": [
    {
     "name": "stdout",
     "output_type": "stream",
     "text": [
      "[[1.    1.414]\n",
      " [1.732 2.   ]]\n",
      "Power: [[ 1.  4.]\n",
      " [ 9. 16.]]\n",
      "Exponential: [[ 2.718  7.389]\n",
      " [20.086 54.598]]\n",
      "Natural Logarithm: [[0.    0.693]\n",
      " [1.099 1.386]]\n",
      "Base-10 Logarithm: [[0.    0.301]\n",
      " [0.477 0.602]]\n",
      "Floor: [[1. 2.]\n",
      " [3. 4.]]\n",
      "Ceil: [[2. 3.]\n",
      " [4. 5.]]\n",
      "Round: [[2. 2.]\n",
      " [4. 4.]]\n"
     ]
    }
   ],
   "source": [
    "x = np.array([[1,2],\n",
    "              [3,4]], dtype=np.float64\n",
    ")\n",
    "\n",
    "# Elementwise square root; produces the array\n",
    "# [[ 1.          1.41421356]\n",
    "#  [ 1.73205081  2.        ]]\n",
    "print(np.sqrt(x))\n",
    "\n",
    "# Power\n",
    "power_result = np.power(x, 2)  # Raises each element to the power of 2\n",
    "print(\"Power:\", power_result)\n",
    "\n",
    "# Exponential\n",
    "exp_result = np.exp(x)  # Computes e^x for each element\n",
    "print(\"Exponential:\", exp_result)\n",
    "\n",
    "# Logarithm\n",
    "log_result = np.log(x)  # Computes the natural logarithm\n",
    "print(\"Natural Logarithm:\", log_result)\n",
    "\n",
    "log10_result = np.log10(x)  # Computes the base-10 logarithm\n",
    "print(\"Base-10 Logarithm:\", log10_result)\n",
    "\n",
    "# Rounding Functions\n",
    "floor_result = np.floor(x + 0.5)  # Rounds down\n",
    "print(\"Floor:\", floor_result)\n",
    "\n",
    "ceil_result = np.ceil(x + 0.5)    # Rounds up\n",
    "print(\"Ceil:\", ceil_result)\n",
    "\n",
    "round_result = np.round(x + 0.5)   # Rounds to nearest integer\n",
    "print(\"Round:\", round_result)"
   ]
  },
  {
   "cell_type": "code",
   "execution_count": 21,
   "id": "afe6a2e4-dd1d-40a7-8ef7-217ca40b31df",
   "metadata": {},
   "outputs": [
    {
     "name": "stdout",
     "output_type": "stream",
     "text": [
      "[8 9 4]\n",
      "[1 6 6]\n",
      "[3 2 3]\n"
     ]
    }
   ],
   "source": [
    "\n",
    "a = np.array([2, 3, 4])\n",
    "b = np.array([3, 2, 1])\n",
    "\n",
    "result = np.power(a, b)\n",
    "print(result)  # Output: [8 9 4] → [2^3, 3^2, 4^1]\n",
    "##########################################\n",
    "\n",
    "a = np.array([10, 20, 30])\n",
    "b = np.array([3, 7, 8])\n",
    "\n",
    "# rem1 = np.remainder(a, b)\n",
    "rem2 = np.mod(a, b)\n",
    "\n",
    "# print(rem1)  # Output: [1 6 6]\n",
    "print(rem2)  # Output: [1 6 6]\n",
    "\n",
    "result = np.floor_divide(a, b)\n",
    "print(result)  # Output: [3 2 3] → [10//3, 20//7, 30//8]\n"
   ]
  },
  {
   "cell_type": "code",
   "execution_count": 22,
   "id": "261da40b-e809-48c9-b24e-0426ee50ee54",
   "metadata": {},
   "outputs": [
    {
     "name": "stdout",
     "output_type": "stream",
     "text": [
      "24\n",
      "[ 1  3  6 10]\n",
      "[ 1  2  6 24]\n",
      "[5 5 5]\n",
      "[3 8]\n"
     ]
    }
   ],
   "source": [
    "arr = np.array([1, 2, 3, 4])\n",
    "\n",
    "result = np.prod(arr)\n",
    "print(result)  # Output: 24 → 1*2*3*4\n",
    "\n",
    "result = np.cumsum(arr)\n",
    "print(result)  # Output: [ 1  3  6 10]\n",
    "\n",
    "result = np.cumprod(arr)\n",
    "print(result)  # Output: [ 1  2  6 24]\n",
    "####################################\n",
    "arr = np.array([10, 15, 20, 25])\n",
    "\n",
    "result = np.diff(arr)\n",
    "print(result)  # Output: [5 5 5] → [15-10, 20-15, 25-20]\n",
    "\n",
    "####################################\n",
    "arr2 = np.array([[1, 2],\n",
    "                 [3, 4]]\n",
    ")\n",
    "print(np.prod(arr2, axis=0))  # Output: [3 8] → column-wise product\n"
   ]
  },
  {
   "cell_type": "markdown",
   "id": "cd4569f2-9341-46c4-8b6a-bf64826d8043",
   "metadata": {},
   "source": [
    "### flatten / reshape\n",
    "**flatten**: Convert a multi-dimensional array into a one-dimensional array. This is particularly useful when you want to simplify the structure of your data for processing or analysis.\n",
    "\n",
    "The opposite of the flatten() operation in NumPy is **reshape()**, which reshapes the array to a new shape of the array, as long as the total number of elements remains the same."
   ]
  },
  {
   "cell_type": "code",
   "execution_count": 23,
   "id": "db2baa76-4d39-4ffa-a0e1-46dadd9272bb",
   "metadata": {},
   "outputs": [
    {
     "name": "stdout",
     "output_type": "stream",
     "text": [
      "Original 2D Array:\n",
      "[[1 2 3]\n",
      " [4 5 6]\n",
      " [7 8 9]]\n",
      "\n",
      "Flattened Array:\n",
      "[1 2 3 4 5 6 7 8 9]\n"
     ]
    }
   ],
   "source": [
    "# lets flatten an array\n",
    "# Create a 2D NumPy array (matrix)\n",
    "array_2d = np.array([[1, 2, 3],\n",
    "                     [4, 5, 6],\n",
    "                     [7, 8, 9]])\n",
    "\n",
    "print(\"Original 2D Array:\")\n",
    "print(array_2d)\n",
    "\n",
    "# Flatten the 2D array into a 1D array\n",
    "flattened_array = array_2d.flatten()\n",
    "\n",
    "print(\"\\nFlattened Array:\")\n",
    "print(flattened_array)"
   ]
  },
  {
   "cell_type": "code",
   "execution_count": 24,
   "id": "43ad1746-853f-40ff-99ca-527b1514c33f",
   "metadata": {},
   "outputs": [
    {
     "name": "stdout",
     "output_type": "stream",
     "text": [
      "Flattened Array:\n",
      "[ 0  1  2  3  4  5  6  7  8  9 10 11 12 13 14 15 16 17]\n",
      "\n",
      "Reshaped Array (2x9):\n",
      "[[ 0  1  2  3  4  5  6  7  8]\n",
      " [ 9 10 11 12 13 14 15 16 17]]\n",
      "<class 'numpy.ndarray'> 2\n",
      "(2, 9)\n",
      "\n",
      "Reshaped Array (3x6):\n",
      "[[ 0  1  2  3  4  5]\n",
      " [ 6  7  8  9 10 11]\n",
      " [12 13 14 15 16 17]]\n",
      "\n",
      "Reshaped Array (6x3):\n",
      "[[ 0  1  2]\n",
      " [ 3  4  5]\n",
      " [ 6  7  8]\n",
      " [ 9 10 11]\n",
      " [12 13 14]\n",
      " [15 16 17]]\n",
      "\n",
      "Reshaped Array (2x3x3):\n",
      "[[[ 0  1  2]\n",
      "  [ 3  4  5]\n",
      "  [ 6  7  8]]\n",
      "\n",
      " [[ 9 10 11]\n",
      "  [12 13 14]\n",
      "  [15 16 17]]]\n",
      "\n",
      "Reshaped Array (3x2x3):\n",
      "[[[ 0  1  2]\n",
      "  [ 3  4  5]]\n",
      "\n",
      " [[ 6  7  8]\n",
      "  [ 9 10 11]]\n",
      "\n",
      " [[12 13 14]\n",
      "  [15 16 17]]]\n",
      "\n",
      "Reshaped Array (1D, same as original):\n",
      "[ 0  1  2  3  4  5  6  7  8  9 10 11 12 13 14 15 16 17]\n"
     ]
    }
   ],
   "source": [
    "# lets reshape a flattened array\n",
    "\n",
    "# Create a flattened array of size 18\n",
    "flattened_array = np.arange(18)  # This creates an array with values from 0 to 17\n",
    "print(\"Flattened Array:\")\n",
    "print(flattened_array)\n",
    "\n",
    "# Reshape into different sizes\n",
    "\n",
    "# 1. Reshape to 2D array of shape (2, 9)\n",
    "reshaped_2d_2x9 = flattened_array.reshape(2, 9)\n",
    "print(\"\\nReshaped Array (2x9):\")\n",
    "print(reshaped_2d_2x9)\n",
    "print(type(reshaped_2d_2x9), reshaped_2d_2x9.ndim) # <class 'numpy.ndarray'> 2\n",
    "print(reshaped_2d_2x9.shape) # (2, 9)          \n",
    "\n",
    "\n",
    "# 2. Reshape to 2D array of shape (3, 6)\n",
    "reshaped_2d_3x6 = flattened_array.reshape(3, 6)\n",
    "print(\"\\nReshaped Array (3x6):\")\n",
    "print(reshaped_2d_3x6)\n",
    "\n",
    "# 3. Reshape to 2D array of shape (6, 3)\n",
    "reshaped_2d_6x3 = flattened_array.reshape(6, 3)\n",
    "print(\"\\nReshaped Array (6x3):\")\n",
    "print(reshaped_2d_6x3)\n",
    "\n",
    "# 4. Reshape to 3D array of shape (2, 3, 3)\n",
    "reshaped_3d_2x3x3 = flattened_array.reshape(2, 3, 3)\n",
    "print(\"\\nReshaped Array (2x3x3):\")\n",
    "print(reshaped_3d_2x3x3)\n",
    "\n",
    "# 5. Reshape to 3D array of shape (3, 2, 3)\n",
    "reshaped_3d_3x2x3 = flattened_array.reshape(3, 2, 3)\n",
    "print(\"\\nReshaped Array (3x2x3):\")\n",
    "print(reshaped_3d_3x2x3)\n",
    "\n",
    "# 6. Reshape to 1D array (keeping it the same)\n",
    "reshaped_1d = flattened_array.reshape(18)\n",
    "print(\"\\nReshaped Array (1D, same as original):\")\n",
    "print(reshaped_1d)"
   ]
  },
  {
   "cell_type": "code",
   "execution_count": 25,
   "id": "cfde58c0-2796-4a13-b572-2ffb8cd42bd8",
   "metadata": {},
   "outputs": [
    {
     "name": "stdout",
     "output_type": "stream",
     "text": [
      "Original 2D Array:\n",
      "[[1 2 3]\n",
      " [4 2 6]\n",
      " [1 8 3]\n",
      " [4 5 6]]\n",
      "\n",
      "Unique values in the entire array:\n",
      "[1 2 3 4 5 6 8]\n",
      "\n",
      "Unique values in each column:\n",
      "Column 0: [1 4]\n",
      "Column 1: [2 5 8]\n",
      "Column 2: [3 6]\n",
      "\n",
      "Unique values in each row:\n",
      "Row 0: [1 2 3]\n",
      "Row 1: [2 4 6]\n",
      "Row 2: [1 3 8]\n",
      "Row 3: [4 5 6]\n"
     ]
    }
   ],
   "source": [
    "# find uniques values\n",
    "\n",
    "# Create a 2D NumPy array\n",
    "array_2d = np.array([[1, 2, 3],\n",
    "                     [4, 2, 6],\n",
    "                     [1, 8, 3],\n",
    "                     [4, 5, 6]])\n",
    "\n",
    "print(\"Original 2D Array:\")\n",
    "print(array_2d)\n",
    "\n",
    "# Find unique values across the entire array\n",
    "unique_values = np.unique(array_2d)\n",
    "print(\"\\nUnique values in the entire array:\")\n",
    "print(unique_values)\n",
    "\n",
    "# Find unique values in each column (axis=0)\n",
    "unique_columns = [np.unique(array_2d[:, col]) for col in range(array_2d.shape[1])]\n",
    "print(\"\\nUnique values in each column:\")\n",
    "for i, unique in enumerate(unique_columns):\n",
    "    print(f\"Column {i}: {unique}\")\n",
    "\n",
    "# Find unique values in each row (axis=1)\n",
    "unique_rows = [np.unique(array_2d[row, :]) for row in range(array_2d.shape[0])]\n",
    "print(\"\\nUnique values in each row:\")\n",
    "for i, unique in enumerate(unique_rows):\n",
    "    print(f\"Row {i}: {unique}\")"
   ]
  },
  {
   "cell_type": "markdown",
   "id": "b1accaf5-7198-43c4-a850-1de45a701653",
   "metadata": {},
   "source": [
    "## dot product, determinant, inverse, sum, transpose\n",
    "- We use the **dot function to compute inner products of vectors, to multiply a vector by a matrix, and to multiply matrices**.\n",
    "- dot is available both as a function in the numpy module and as an instance method of array objects:"
   ]
  },
  {
   "cell_type": "code",
   "execution_count": 26,
   "id": "e2daf68a-83c3-464c-b9aa-0d5265c3f785",
   "metadata": {},
   "outputs": [
    {
     "name": "stdout",
     "output_type": "stream",
     "text": [
      "219\n",
      "219\n",
      "[29 67]\n",
      "[29 67]\n",
      "[[19 22]\n",
      " [43 50]]\n",
      "[[19 22]\n",
      " [43 50]]\n"
     ]
    }
   ],
   "source": [
    "\n",
    "x = np.array([[1,2],\n",
    "              [3,4]]\n",
    ")\n",
    "y = np.array([[5,6],\n",
    "              [7,8]]\n",
    ")\n",
    "\n",
    "v = np.array([9,10])\n",
    "w = np.array([11, 12])\n",
    "\n",
    "# Inner product of vectors; both produce 219\n",
    "print(v.dot(w))\n",
    "print(np.dot(v, w))\n",
    "\n",
    "# Matrix / vector product; both produce the rank 1 array [29 67]\n",
    "print(x.dot(v))\n",
    "print(np.dot(x, v))\n",
    "\n",
    "# Matrix / matrix product; both produce the rank 2 array\n",
    "# [[19 22]\n",
    "#  [43 50]]\n",
    "print(x.dot(y))\n",
    "print(np.dot(x, y))"
   ]
  },
  {
   "cell_type": "code",
   "execution_count": 42,
   "id": "c4d9c492-33b8-4e79-8921-83eb44435f2d",
   "metadata": {},
   "outputs": [
    {
     "name": "stdout",
     "output_type": "stream",
     "text": [
      "Determinant of 2x2 matrix A: -5.0\n",
      "Determinant of 3x3 matrix A: 12.0\n"
     ]
    }
   ],
   "source": [
    "A = np.array([[1, 4], \n",
    "              [2, 3]])\n",
    "\n",
    "det_A = np.linalg.det(A)\n",
    "print(\"Determinant of 2x2 matrix A:\", round(det_A, 3))\n",
    "\n",
    "\n",
    "A = np.array([[2, 1, 0],\n",
    "              [0, 1, -1],\n",
    "              [0, 2, 4]])\n",
    "det_A = np.linalg.det(A)\n",
    "print(\"Determinant of 3x3 matrix A:\", round(det_A, 3))\n"
   ]
  },
  {
   "cell_type": "code",
   "execution_count": 44,
   "id": "7027d9db-a80f-4c51-821f-a2507460337b",
   "metadata": {},
   "outputs": [
    {
     "name": "stdout",
     "output_type": "stream",
     "text": [
      "Inverse of Matrix:\n",
      " [[-0.6  0.8]\n",
      " [ 0.4 -0.2]]\n",
      "Inverse of Matrix:\n",
      " [[ 0.5   -0.333 -0.083]\n",
      " [ 0.     0.667  0.167]\n",
      " [-0.    -0.333  0.167]]\n"
     ]
    }
   ],
   "source": [
    "# Inverse of a Matrix\n",
    "from numpy.linalg import inv\n",
    "\n",
    "A = np.array([[1, 4], \n",
    "              [2, 3]])\n",
    "inverse_matrix = inv(A)\n",
    "print(\"Inverse of Matrix:\\n\", inverse_matrix)\n",
    "\n",
    "\n",
    "A = np.array([[2, 1, 0],\n",
    "              [0, 1, -1],\n",
    "              [0, 2, 4]])\n",
    "inverse_matrix = inv(A)\n",
    "print(\"Inverse of Matrix:\\n\", inverse_matrix)\n"
   ]
  },
  {
   "cell_type": "code",
   "execution_count": 28,
   "id": "1389e778-b847-4966-ac04-cef5b20a75f6",
   "metadata": {},
   "outputs": [
    {
     "name": "stdout",
     "output_type": "stream",
     "text": [
      "10\n",
      "[4 6]\n",
      "[3 7]\n"
     ]
    }
   ],
   "source": [
    "# SUM\n",
    "x = np.array([[1,2],\n",
    "              [3,4]]\n",
    ")\n",
    "\n",
    "print(np.sum(x))  # Compute sum of all elements; prints \"10\"\n",
    "print(np.sum(x, axis=0))  # Compute sum of each column; prints \"[4 6]\"\n",
    "print(np.sum(x, axis=1))  # Compute sum of each row; prints \"[3 7]\""
   ]
  },
  {
   "cell_type": "markdown",
   "id": "98f8623e-58ab-465c-813d-7e17818fe564",
   "metadata": {},
   "source": [
    "Apart from computing mathematical functions using arrays, we frequently need to reshape or otherwise manipulate data in arrays. The simplest example of this type of operation is **transposing a matrix**; to transpose a matrix, simply use the T attribute of an array object:"
   ]
  },
  {
   "cell_type": "code",
   "execution_count": 29,
   "id": "560e6740-6a93-4495-8a60-12ae92ea0945",
   "metadata": {},
   "outputs": [
    {
     "name": "stdout",
     "output_type": "stream",
     "text": [
      "[[1 2]\n",
      " [3 4]]\n",
      "[[1 3]\n",
      " [2 4]]\n",
      "[[1 2]\n",
      " [3 4]\n",
      " [5 6]]\n",
      "[[1 3 5]\n",
      " [2 4 6]]\n",
      "[1 2 3]\n",
      "[1 2 3]\n"
     ]
    }
   ],
   "source": [
    "# Transpose\n",
    "x = np.array([[1,2],\n",
    "              [3,4]]\n",
    ")\n",
    "print(x)    # Prints \"[[1 2]\n",
    "            #          [3 4]]\"\n",
    "print(x.T)  # Prints \"[[1 3]\n",
    "            #          [2 4]]\"\n",
    "\n",
    "x = np.array([[1,2],\n",
    "              [3,4],\n",
    "              [5,6]]\n",
    ")\n",
    "print(x)    \n",
    "print(x.T)  # out-> [[1 3 5]\n",
    "            #        [2 4 6]]\n",
    "            \n",
    "\n",
    "# Note that taking the transpose of a rank 1 array does nothing:\n",
    "v = np.array([1,2,3])\n",
    "print(v)    # Prints \"[1 2 3]\"\n",
    "print(v.T)  # Prints \"[1 2 3]\""
   ]
  },
  {
   "cell_type": "markdown",
   "id": "d04ad760-fc0c-411e-bf7b-3546f2b68181",
   "metadata": {},
   "source": [
    "## eigen values and eigen vectors"
   ]
  },
  {
   "cell_type": "code",
   "execution_count": 30,
   "id": "dd18646d-2b60-4f60-8667-1c2ee54072d2",
   "metadata": {},
   "outputs": [
    {
     "name": "stdout",
     "output_type": "stream",
     "text": [
      "Matrix A:\n",
      "[[1 4]\n",
      " [2 3]]\n",
      "\n",
      "Eigenvalues:[-1.  5.]\n",
      "\n",
      "Eigenvectors (columns):\n",
      "[[-0.894 -0.707]\n",
      " [ 0.447 -0.707]]\n",
      "\n",
      "\n",
      "Eigen value: -1.0 and its corresponding eigen vector: [-0.894  0.447]\n",
      "Eigen value: 5.0 and its corresponding eigen vector: [-0.707 -0.707]\n",
      "\n",
      "Verifying First Eigenpair:\n",
      "A @ v1 = [ 0.894 -0.447]\n",
      "λ1 * v1 = [ 0.894 -0.447]\n",
      "Match? -> True\n",
      "\n",
      "Verifying Second Eigenpair:\n",
      "A @ v2 = [-3.536 -3.536]\n",
      "λ2 * v2 = [-3.536 -3.536]\n",
      "Match? -> True\n"
     ]
    }
   ],
   "source": [
    "# How to calculate eigen values/ eigen vestors and also verify for 2X2 matrix\n",
    "# TAKEN from Lang\n",
    "\n",
    "# Define a 2x2 matrix\n",
    "A = np.array([[1, 4], \n",
    "              [2, 3]])\n",
    "\n",
    "eigenvalues, eigenvectors = np.linalg.eig(A)\n",
    "\n",
    "print(f\"Matrix A:\\n{A}\")\n",
    "print(f\"\\nEigenvalues:{eigenvalues}\")\n",
    "print(f\"\\nEigenvectors (columns):\\n{eigenvectors}\\n\\n\")\n",
    "\n",
    "print(f\"Eigen value: {eigenvalues[0]} and its corresponding eigen vector: {eigenvectors[:, 0]}\")\n",
    "print(f\"Eigen value: {eigenvalues[1]} and its corresponding eigen vector: {eigenvectors[:, 1]}\")\n",
    "\n",
    "##################################\n",
    "\n",
    "# First eigenvalue and eigenvector\n",
    "lambda1 = eigenvalues[0]\n",
    "v1 = eigenvectors[:, 0]\n",
    "\n",
    "Av1 = A @ v1\n",
    "lambda1_v1 = lambda1 * v1\n",
    "\n",
    "print(\"\\nVerifying First Eigenpair:\")\n",
    "print(\"A @ v1 =\", Av1)\n",
    "print(\"λ1 * v1 =\", lambda1_v1)\n",
    "print(\"Match? ->\", np.allclose(Av1, lambda1_v1)) # Returns True if two arrays are element-wise equal within a tolerance.\n",
    "####################################\n",
    "\n",
    "# Second eigenvalue and eigenvector\n",
    "lambda2 = eigenvalues[1]\n",
    "v2 = eigenvectors[:, 1]\n",
    "\n",
    "Av2 = A @ v2\n",
    "lambda2_v2 = lambda2 * v2\n",
    "\n",
    "print(\"\\nVerifying Second Eigenpair:\")\n",
    "print(\"A @ v2 =\", Av2)\n",
    "print(\"λ2 * v2 =\", lambda2_v2)\n",
    "print(\"Match? ->\", np.allclose(Av2, lambda2_v2))\n"
   ]
  },
  {
   "cell_type": "code",
   "execution_count": 31,
   "id": "c1afe5df-9196-4ae5-a1a8-fc2a3a39c3e5",
   "metadata": {},
   "outputs": [
    {
     "name": "stdout",
     "output_type": "stream",
     "text": [
      "Matrix A:\n",
      "[[ 2  1  0]\n",
      " [ 0  1 -1]\n",
      " [ 0  2  4]]\n",
      "\n",
      "Eigenvalues:\n",
      "[2. 2. 3.]\n",
      "\n",
      "Eigenvectors (columns):\n",
      "[[ 1.     1.     0.408]\n",
      " [ 0.    -0.     0.408]\n",
      " [ 0.     0.    -0.816]]\n",
      "\n",
      "\n",
      "Eigen value: 2.0 and its corresponding eigen vector: [1. 0. 0.]\n",
      "Eigen value: 2.0 and its corresponding eigen vector: [ 1. -0.  0.]\n",
      "Eigen value: 3.0 and its corresponding eigen vector: [ 0.408  0.408 -0.816]\n",
      "\n",
      "Verifying First Eigenpair:\n",
      "A @ v1 = [2. 0. 0.]\n",
      "λ1 * v1 = [2. 0. 0.]\n",
      "Match? -> True\n",
      "\n",
      "Verifying Second Eigenpair:\n",
      "A @ v2 = [ 2. -0.  0.]\n",
      "λ2 * v2 = [ 2. -0.  0.]\n",
      "Match? -> True\n",
      "\n",
      "Verifying Third Eigenpair:\n",
      "A @ v3 = [ 1.225  1.225 -2.449]\n",
      "λ3 * v3 = [ 1.225  1.225 -2.449]\n",
      "Match? -> True\n"
     ]
    }
   ],
   "source": [
    "# How to calculate eigen values/ eigen vestors and also verify for 3X3 matrix\n",
    "# Taken from Lang\n",
    "\n",
    "# # Set print precision\n",
    "# np.set_printoptions(precision=3, suppress=True)\n",
    "\n",
    "# Define a 3x3 matrix\n",
    "A = np.array([[2, 1, 0],\n",
    "              [0, 1, -1],\n",
    "              [0, 2, 4]])\n",
    "\n",
    "eigenvalues, eigenvectors = np.linalg.eig(A)\n",
    "\n",
    "print(f\"Matrix A:\\n{A}\")\n",
    "print(f\"\\nEigenvalues:\\n{np.round(eigenvalues, 3)}\")\n",
    "print(f\"\\nEigenvectors (columns):\\n{np.round(eigenvectors, 3)}\\n\\n\")\n",
    "\n",
    "print(f\"Eigen value: {eigenvalues[0]} and its corresponding eigen vector: {eigenvectors[:, 0]}\")\n",
    "print(f\"Eigen value: {eigenvalues[1]} and its corresponding eigen vector: {eigenvectors[:, 1]}\")\n",
    "print(f\"Eigen value: {eigenvalues[2]} and its corresponding eigen vector: {eigenvectors[:, 2]}\")\n",
    "\n",
    "##################################\n",
    "\n",
    "# First eigenpair\n",
    "lambda1 = eigenvalues[0]\n",
    "v1 = eigenvectors[:, 0]\n",
    "\n",
    "Av1 = A @ v1\n",
    "lambda1_v1 = lambda1 * v1\n",
    "\n",
    "print(\"\\nVerifying First Eigenpair:\")\n",
    "print(\"A @ v1 =\", np.round(Av1, 3))\n",
    "print(\"λ1 * v1 =\", np.round(lambda1_v1, 3))\n",
    "print(\"Match? ->\", np.allclose(Av1, lambda1_v1))\n",
    "\n",
    "##################################\n",
    "\n",
    "# Second eigenpair\n",
    "lambda2 = eigenvalues[1]\n",
    "v2 = eigenvectors[:, 1]\n",
    "\n",
    "Av2 = A @ v2\n",
    "lambda2_v2 = lambda2 * v2\n",
    "\n",
    "print(\"\\nVerifying Second Eigenpair:\")\n",
    "print(\"A @ v2 =\", np.round(Av2, 3))\n",
    "print(\"λ2 * v2 =\", np.round(lambda2_v2, 3))\n",
    "print(\"Match? ->\", np.allclose(Av2, lambda2_v2))\n",
    "\n",
    "##################################\n",
    "\n",
    "# Third eigenpair\n",
    "lambda3 = eigenvalues[2]\n",
    "v3 = eigenvectors[:, 2]\n",
    "\n",
    "Av3 = A @ v3\n",
    "lambda3_v3 = lambda3 * v3\n",
    "\n",
    "print(\"\\nVerifying Third Eigenpair:\")\n",
    "print(\"A @ v3 =\", np.round(Av3, 3))\n",
    "print(\"λ3 * v3 =\", np.round(lambda3_v3, 3))\n",
    "print(\"Match? ->\", np.allclose(Av3, lambda3_v3))\n"
   ]
  },
  {
   "cell_type": "markdown",
   "id": "412e66b0-6d66-4f33-8769-368af410c278",
   "metadata": {},
   "source": [
    "## stat related methods"
   ]
  },
  {
   "cell_type": "code",
   "execution_count": 32,
   "id": "1346d545-823f-4b50-98c8-03f6f01cba38",
   "metadata": {},
   "outputs": [
    {
     "name": "stdout",
     "output_type": "stream",
     "text": [
      "Mean: 5.5\n",
      "Standard Deviation: 2.8722813232690143\n",
      "Variance: 8.25\n",
      "Median: 5.5\n",
      "Minimum: 1\n",
      "Maximum: 10\n",
      "25th Percentile: 3.25\n",
      "75th Percentile: 7.75\n"
     ]
    }
   ],
   "source": [
    "# some stats operations\n",
    "from scipy import stats\n",
    "\n",
    "# Create a sample NumPy array\n",
    "data = np.array([1, 2, 3, 4, 5, 6, 7, 8, 9, 10])\n",
    "\n",
    "# Calculate statistics\n",
    "mean_value = np.mean(data)\n",
    "std_deviation = np.std(data)\n",
    "variance = np.var(data)\n",
    "median_value = np.median(data)\n",
    "min_value = np.min(data)\n",
    "max_value = np.max(data)\n",
    "percentile_25 = np.percentile(data, 25)\n",
    "percentile_75 = np.percentile(data, 75)\n",
    "# summary = stats.describe(data)\n",
    "\n",
    "# Print results\n",
    "print(\"Mean:\", mean_value)\n",
    "print(\"Standard Deviation:\", std_deviation)\n",
    "print(\"Variance:\", variance)\n",
    "print(\"Median:\", median_value)\n",
    "print(\"Minimum:\", min_value)\n",
    "print(\"Maximum:\", max_value)\n",
    "print(\"25th Percentile:\", percentile_25)\n",
    "print(\"75th Percentile:\", percentile_75)\n",
    "# print(\"Summary Statistics:\", summary)"
   ]
  },
  {
   "cell_type": "code",
   "execution_count": 33,
   "id": "5ad079ea-61e3-48bd-8083-18cc96d5194c",
   "metadata": {},
   "outputs": [
    {
     "name": "stdout",
     "output_type": "stream",
     "text": [
      "Mode: 4\n",
      "Count: 3\n"
     ]
    }
   ],
   "source": [
    "# how to calculate mode\n",
    "arr = np.array([1, 2, 2, 3, 4, 4, 4, 5])\n",
    "\n",
    "mode_result = stats.mode(arr, keepdims=True)\n",
    "print(\"Mode:\", mode_result.mode[0])\n",
    "print(\"Count:\", mode_result.count[0])"
   ]
  },
  {
   "cell_type": "code",
   "execution_count": 34,
   "id": "95450a40-ce7d-46e2-ac98-0ddf150b246d",
   "metadata": {},
   "outputs": [
    {
     "name": "stdout",
     "output_type": "stream",
     "text": [
      "Original Array:\n",
      "[[ 10  20  30  40]\n",
      " [ 50  60  70  80]\n",
      " [ 90 100 110 120]]\n",
      "\n",
      "Mean of each column:\n",
      "[50. 60. 70. 80.]\n",
      "\n",
      "Standard Deviation of each column:\n",
      "[32.66 32.66 32.66 32.66]\n",
      "\n",
      "Variance of each column:\n",
      "[1066.667 1066.667 1066.667 1066.667]\n",
      "\n",
      "Mean of each row:\n",
      "[ 25.  65. 105.]\n",
      "\n",
      "Standard Deviation of each row:\n",
      "[11.18 11.18 11.18]\n",
      "\n",
      "Variance of each row:\n",
      "[125. 125. 125.]\n"
     ]
    }
   ],
   "source": [
    "# Create a 3x4 NumPy array\n",
    "array_2d = np.array([[10, 20, 30, 40],\n",
    "                     [50, 60, 70, 80],\n",
    "                     [90, 100, 110, 120]])\n",
    "\n",
    "print(\"Original Array:\")\n",
    "print(array_2d)\n",
    "\n",
    "# Calculate mean, standard deviation, and variance for each column (axis=0)\n",
    "mean_columns = np.mean(array_2d, axis=0)\n",
    "std_columns = np.std(array_2d, axis=0)\n",
    "var_columns = np.var(array_2d, axis=0)\n",
    "\n",
    "print(\"\\nMean of each column:\")\n",
    "print(mean_columns)\n",
    "\n",
    "print(\"\\nStandard Deviation of each column:\")\n",
    "print(std_columns)\n",
    "\n",
    "print(\"\\nVariance of each column:\")\n",
    "print(var_columns)\n",
    "\n",
    "# Calculate mean, standard deviation, and variance for each row (axis=1)\n",
    "mean_rows = np.mean(array_2d, axis=1)\n",
    "std_rows = np.std(array_2d, axis=1)\n",
    "var_rows = np.var(array_2d, axis=1)\n",
    "\n",
    "print(\"\\nMean of each row:\")\n",
    "print(mean_rows)\n",
    "\n",
    "print(\"\\nStandard Deviation of each row:\")\n",
    "print(std_rows)\n",
    "\n",
    "print(\"\\nVariance of each row:\")\n",
    "print(var_rows)"
   ]
  },
  {
   "cell_type": "code",
   "execution_count": 35,
   "id": "3d7d533d-5dcd-48ee-bf92-d084df33f664",
   "metadata": {},
   "outputs": [
    {
     "name": "stdout",
     "output_type": "stream",
     "text": [
      "Original Array:\n",
      "[[ 10  20  30  40]\n",
      " [ 50  60  70  80]\n",
      " [ 90 100 110 120]]\n",
      "\n",
      "Sum of each column:\n",
      "[150 180 210 240]\n",
      "\n",
      "Minimum of each column:\n",
      "[10 20 30 40]\n",
      "\n",
      "Maximum of each column:\n",
      "[ 90 100 110 120]\n",
      "\n",
      "Median of each column:\n",
      "[50. 60. 70. 80.]\n",
      "\n",
      "Sum of each row:\n",
      "[100 260 420]\n",
      "\n",
      "Minimum of each row:\n",
      "[10 50 90]\n",
      "\n",
      "Maximum of each row:\n",
      "[ 40  80 120]\n",
      "\n",
      "Median of each row:\n",
      "[ 25.  65. 105.]\n"
     ]
    }
   ],
   "source": [
    "# Create a 3x4 NumPy array\n",
    "array_2d = np.array([[10, 20, 30, 40],\n",
    "                     [50, 60, 70, 80],\n",
    "                     [90, 100, 110, 120]])\n",
    "\n",
    "print(\"Original Array:\")\n",
    "print(array_2d)\n",
    "\n",
    "# Calculate sum for each column (axis=0)\n",
    "sum_columns = np.sum(array_2d, axis=0)\n",
    "print(\"\\nSum of each column:\")\n",
    "print(sum_columns)\n",
    "\n",
    "# Calculate minimum for each column (axis=0)\n",
    "min_columns = np.min(array_2d, axis=0)\n",
    "print(\"\\nMinimum of each column:\")\n",
    "print(min_columns)\n",
    "\n",
    "# Calculate maximum for each column (axis=0)\n",
    "max_columns = np.max(array_2d, axis=0)\n",
    "print(\"\\nMaximum of each column:\")\n",
    "print(max_columns)\n",
    "\n",
    "# Calculate median for each column (axis=0)\n",
    "median_columns = np.median(array_2d, axis=0)\n",
    "print(\"\\nMedian of each column:\")\n",
    "print(median_columns)\n",
    "\n",
    "# Calculate sum for each row (axis=1)\n",
    "sum_rows = np.sum(array_2d, axis=1)\n",
    "print(\"\\nSum of each row:\")\n",
    "print(sum_rows)\n",
    "\n",
    "# Calculate minimum for each row (axis=1)\n",
    "min_rows = np.min(array_2d, axis=1)\n",
    "print(\"\\nMinimum of each row:\")\n",
    "print(min_rows)\n",
    "\n",
    "# Calculate maximum for each row (axis=1)\n",
    "max_rows = np.max(array_2d, axis=1)\n",
    "print(\"\\nMaximum of each row:\")\n",
    "print(max_rows)\n",
    "\n",
    "# Calculate median for each row (axis=1)\n",
    "median_rows = np.median(array_2d, axis=1)\n",
    "print(\"\\nMedian of each row:\")\n",
    "print(median_rows)"
   ]
  },
  {
   "cell_type": "code",
   "execution_count": 36,
   "id": "81fc473f-6934-44e2-b9d5-51124a7761f9",
   "metadata": {},
   "outputs": [
    {
     "name": "stdout",
     "output_type": "stream",
     "text": [
      "[[1. 1.]\n",
      " [1. 1.]]\n",
      "[[250.  125. ]\n",
      " [125.   62.5]]\n"
     ]
    }
   ],
   "source": [
    "# optional\n",
    "import numpy as np\n",
    "\n",
    "x = np.array([10, 20, 30, 40, 50])\n",
    "y = np.array([5,  10, 15, 20, 25])\n",
    "\n",
    "corr_matrix = np.corrcoef(x, y)\n",
    "print(corr_matrix)\n",
    "\n",
    "\n",
    "cov_matrix = np.cov(x, y)\n",
    "print(cov_matrix)"
   ]
  },
  {
   "cell_type": "markdown",
   "id": "233bd29f-a2ba-4733-a141-49d09913ee9f",
   "metadata": {},
   "source": [
    "## miscellaneous\n",
    "- isin\n",
    "- where\n",
    "- set operations"
   ]
  },
  {
   "cell_type": "code",
   "execution_count": 37,
   "id": "4b1af5fd-db06-46ab-823f-bd8ef552a63b",
   "metadata": {},
   "outputs": [
    {
     "name": "stdout",
     "output_type": "stream",
     "text": [
      "[False  True False  True False]\n",
      "[2 4]\n"
     ]
    }
   ],
   "source": [
    "# isin(): inbuilt method. Checks whether each element in the input array is present in a list of values.\n",
    "# It does Membership Testing\n",
    "\n",
    "# Check if elements are in a list or array\n",
    "a = np.array([1, 2, 3, 4, 5])\n",
    "b = np.array([2, 4, 6])\n",
    "\n",
    "result = np.isin(a, b) # Returns a boolean array showing whether each element of the first array exists in the second array.\n",
    "print(result)         # Output: [False  True False  True False]\n",
    "\n",
    "# To get actual matching values:\n",
    "print(a[result])      # Output: [2 4]\n"
   ]
  },
  {
   "cell_type": "markdown",
   "id": "7aafef94-7031-4ea4-b41c-9420c72b3d1b",
   "metadata": {},
   "source": [
    "### where()\n",
    "The np.where() function in NumPy allows you to find the indices of elements in an array that satisfy acertain condition. It can also be used to create new arrays based on conditions\n",
    "\n",
    "Returns indices (or applies logic) where a condition is True.\n",
    "\n",
    "You can also use: \n",
    "\n",
    "np.where(condition, x, y)  → Returns x if condition is True, else y."
   ]
  },
  {
   "cell_type": "code",
   "execution_count": 38,
   "id": "d986bd7e-8520-4bec-b326-1fe90c659741",
   "metadata": {},
   "outputs": [
    {
     "name": "stdout",
     "output_type": "stream",
     "text": [
      "Indices: (array([3, 4, 5], dtype=int64),), type: <class 'tuple'>\n",
      "Indices of elements greater than 30: [3 4 5]\n",
      "*****************************\n",
      "New Array based on condition:\n",
      "['30 or less' '30 or less' '30 or less' 'Greater than 30'\n",
      " 'Greater than 30' 'Greater than 30']\n",
      "^^^^^^^^^^^^^^^^^^^^^^^^^^^^^^^^^^^^\n",
      "Indices of elements greater than 5 in 2D array: (array([1, 2, 2, 2], dtype=int64), array([2, 0, 1, 2], dtype=int64))\n",
      "\n",
      "New 2D Array based on condition:\n",
      "[['5 or less' '5 or less' '5 or less']\n",
      " ['5 or less' '5 or less' 'Greater than 5']\n",
      " ['Greater than 5' 'Greater than 5' 'Greater than 5']]\n"
     ]
    }
   ],
   "source": [
    "# where()\n",
    "\n",
    "# Create a sample NumPy array\n",
    "array = np.array([10, 20, 30, 40, 50, 60])\n",
    "\n",
    "# Find indices where the elements are greater than 30\n",
    "indices = np.where(array > 30) # returns a 2-tuple\n",
    "print(f\"Indices: {indices}, type: {type(indices)}\")\n",
    "print(f\"Indices of elements greater than 30: {indices[0]}\")  # Output the indices\n",
    "print(\"*****************************\")\n",
    "\n",
    "# Create a new array based on a condition\n",
    "new_array = np.where(array > 30, 'Greater than 30', '30 or less')\n",
    "print(\"New Array based on condition:\")\n",
    "print(new_array)\n",
    "print(\"^^^^^^^^^^^^^^^^^^^^^^^^^^^^^^^^^^^^\")\n",
    "\n",
    "# Create a 2D NumPy array\n",
    "array_2d = np.array([[1, 2, 3],\n",
    "                     [4, 5, 6],\n",
    "                     [7, 8, 9]])\n",
    "\n",
    "# Find indices where the elements are greater than 5\n",
    "indices_2d = np.where(array_2d > 5)\n",
    "print(\"Indices of elements greater than 5 in 2D array:\", indices_2d)\n",
    "\n",
    "# Create a new array based on a condition\n",
    "new_array_2d = np.where(array_2d > 5, 'Greater than 5', '5 or less')\n",
    "print(\"\\nNew 2D Array based on condition:\")\n",
    "print(new_array_2d)"
   ]
  },
  {
   "cell_type": "code",
   "execution_count": 39,
   "id": "ab507c9b-8857-466f-928c-67219f6ad7fe",
   "metadata": {},
   "outputs": [
    {
     "name": "stdout",
     "output_type": "stream",
     "text": [
      "[3 4]\n",
      "[1 2]\n",
      "[1 2 3 4 5 6]\n"
     ]
    }
   ],
   "source": [
    "# set operations\n",
    "\n",
    "a = np.array([1, 2, 3, 4])\n",
    "b = np.array([3, 4, 5, 6])\n",
    "\n",
    "print(np.intersect1d(a, b))  # Output: [3 4]  Elements common to both arrays\n",
    "print(np.setdiff1d(a, b))  # Output: [1 2]  Elements in a that are not in b\n",
    "print(np.union1d(a, b))  # Output: [1 2 3 4 5 6] All unique elements from both arrays\n",
    "\n",
    "# and there are many others"
   ]
  },
  {
   "cell_type": "code",
   "execution_count": 40,
   "id": "f4943850-a594-4bf4-8b9c-d1f2fb283d43",
   "metadata": {},
   "outputs": [],
   "source": [
    "## others clip, swapaxes, delete, put"
   ]
  },
  {
   "cell_type": "code",
   "execution_count": null,
   "id": "028ccd3c-d9f1-4381-a011-8a1bf779b578",
   "metadata": {},
   "outputs": [],
   "source": []
  },
  {
   "cell_type": "code",
   "execution_count": null,
   "id": "94f46be3-08ad-479f-883b-d0c06f2f1a42",
   "metadata": {},
   "outputs": [],
   "source": []
  },
  {
   "cell_type": "code",
   "execution_count": null,
   "id": "e0ff1714-a5aa-4d7d-8562-5c312b957b39",
   "metadata": {},
   "outputs": [],
   "source": []
  },
  {
   "cell_type": "code",
   "execution_count": null,
   "id": "296b67c7-9555-4db6-90a3-d32a6eb557b7",
   "metadata": {},
   "outputs": [],
   "source": []
  },
  {
   "cell_type": "code",
   "execution_count": null,
   "id": "e2cb1fbd-5bb7-48f7-b356-34b4843f71fe",
   "metadata": {},
   "outputs": [],
   "source": []
  }
 ],
 "metadata": {
  "kernelspec": {
   "display_name": "Python 3 (ipykernel)",
   "language": "python",
   "name": "python3"
  },
  "language_info": {
   "codemirror_mode": {
    "name": "ipython",
    "version": 3
   },
   "file_extension": ".py",
   "mimetype": "text/x-python",
   "name": "python",
   "nbconvert_exporter": "python",
   "pygments_lexer": "ipython3",
   "version": "3.9.9"
  }
 },
 "nbformat": 4,
 "nbformat_minor": 5
}
