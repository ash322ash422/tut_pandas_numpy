{
 "cells": [
  {
   "cell_type": "markdown",
   "id": "590c5189",
   "metadata": {},
   "source": [
    "## pandas\n",
    "- Used for Exploratory Data Analysis\n",
    "- used for importing/exporting data, data cleaning, creating/deleting columns, etc\n"
   ]
  },
  {
   "cell_type": "code",
   "execution_count": 39,
   "id": "ff5b7721-98de-4df7-bfe6-cb9a2e8d73b2",
   "metadata": {},
   "outputs": [],
   "source": [
    "# make sure you have pandas installed\n",
    "# !pip install pandas"
   ]
  },
  {
   "cell_type": "code",
   "execution_count": 40,
   "id": "eeac7e81-4866-4be2-9189-743d1683c30a",
   "metadata": {},
   "outputs": [],
   "source": [
    "import pandas as pd\n",
    "\n",
    "import warnings\n",
    "warnings.filterwarnings(action='ignore')\n",
    "\n",
    "# print(pd.__version__)\n",
    "data_file = 'data.csv' # NOTE: make sure you have this file"
   ]
  },
  {
   "cell_type": "code",
   "execution_count": 41,
   "id": "bd85cb9c-bec6-45a8-87ec-13243971dd6d",
   "metadata": {},
   "outputs": [
    {
     "name": "stdout",
     "output_type": "stream",
     "text": [
      "           A      B     C  D\n",
      "0 2023-01-01  120.5   Buy  3\n",
      "1 2023-01-02  123.0  Sell  9\n",
      "2 2023-01-03  121.3  Hold  7\n",
      "3 2023-01-04  125.6   Buy  9\n",
      "4 2023-01-05  124.2  Sell  6\n",
      "       Name  Age         City  Experience  Experience2   Salary\n",
      "0     Alice   25      Chicago           2            2  70000.0\n",
      "1       Bob   30  Los Angeles           5            5  80000.0\n",
      "2   Charlie   35      Chicago           7            7      NaN\n",
      "3     David   40      Houston          10           10  90000.0\n",
      "4       Eva   22      Houston           1            1  48000.0\n",
      "5     Frank   28          NaN           3            3  72000.0\n",
      "6     Grace   32  San Antonio           6            6  85000.0\n",
      "7     Helen   26    San Diego           2            2  62000.0\n",
      "8     Helen   26    San Diego           2            2  62000.0\n",
      "9     Helen   26    San Diego           2            2  62000.0\n",
      "10    Jerry   23      Phoenix           6            6  78000.0\n",
      "####################\n",
      "<class 'pandas.core.series.Series'>\n",
      "0     25\n",
      "1     30\n",
      "2     35\n",
      "3     40\n",
      "4     22\n",
      "5     28\n",
      "6     32\n",
      "7     26\n",
      "8     26\n",
      "9     26\n",
      "10    23\n",
      "Name: Age, dtype: int64\n",
      "Generated DataFrame:\n",
      "      age  income\n",
      "bob    41      69\n",
      "sam    66      45\n",
      "hari   53      53\n"
     ]
    }
   ],
   "source": [
    "# (SKIP)\n",
    "# Create a DataFrame: Example2 hardcode the data using series\n",
    "data = {\n",
    "    'A': pd.Series(pd.date_range(\"2023-01-01\", periods=5, freq='D')),  # Time data\n",
    "    'B': pd.Series([120.5, 123.0, 121.3, 125.6, 124.2]),\n",
    "    'C': pd.Series(['Buy', 'Sell', 'Hold', 'Buy', 'Sell']),\n",
    "    'D': pd.Series(np.random.randint(1, 11, size=5))\n",
    "}\n",
    "df = pd.DataFrame(data)\n",
    "\n",
    "print(df)\n",
    "\n",
    "############################\n",
    "# (SKIP)\n",
    "# Create a DataFrame: Example 3 hardcode the data\n",
    "data = {\n",
    "    'Name': ['Alice', 'Bob', 'Charlie', 'David', 'Eva', 'Frank', 'Grace', 'Helen', 'Helen', 'Helen', 'Jerry'],\n",
    "    'Age': [25, 30, 35, 40, 22, 28, 32, 26, 26, 26, 23],\n",
    "    'City': ['Chicago', 'Los Angeles', 'Chicago', 'Houston', 'Houston', np.nan, 'San Antonio', 'San Diego', 'San Diego', 'San Diego', 'Phoenix'],\n",
    "    'Experience':  [2, 5, 7, 10, 1, 3, 6, 2, 2, 2, 6],\n",
    "    'Experience2': [2, 5, 7, 10, 1, 3, 6, 2, 2, 2, 6],\n",
    "    'Salary': [70000.0, 80000.0, np.nan, 90000.0, 48000.0, 72000.0, 85000.0, 62000.0, 62000.0, 62000.0, 78000.0]\n",
    "}\n",
    "\n",
    "df = pd.DataFrame(data)\n",
    "print(df)\n",
    "\n",
    "print(\"####################\")\n",
    "# Lets look at each column series\n",
    "series_age = df['Age']\n",
    "print(type(series_age)) # <class 'pandas.core.series.Series'>\n",
    "print(series_age)\n",
    "\n",
    "####################\n",
    "# (SKIP) \n",
    "# You can also generate DF\n",
    "row_labels = ['bob', 'sam', 'hari']\n",
    "column_headings = ['age', 'income']\n",
    "data = np.random.randint(10, 100, size=(len(row_labels), len(column_headings)))\n",
    "\n",
    "df = pd.DataFrame(data, index=row_labels, columns=column_headings)\n",
    "print(f\"Generated DataFrame:\\n{df}\")"
   ]
  },
  {
   "cell_type": "markdown",
   "id": "26e30055-c610-41af-b314-7d7aa275d809",
   "metadata": {},
   "source": [
    "## Dataframe"
   ]
  },
  {
   "cell_type": "markdown",
   "id": "b76b4139-c243-4108-a29e-c4ef74efea6d",
   "metadata": {},
   "source": [
    "### export / import data from file "
   ]
  },
  {
   "cell_type": "code",
   "execution_count": 42,
   "id": "ef3f37ac-25d6-4e69-a1d1-8a33e3b2f0a0",
   "metadata": {},
   "outputs": [
    {
     "name": "stdout",
     "output_type": "stream",
     "text": [
      "       name  age  is_working  income\n",
      "0       ash   30        True    20.4\n",
      "1     timmy   33       False    20.1\n",
      "2     jimmy   61        True    34.7\n",
      "3  Samantha   19        True    55.9\n",
      "<class 'pandas.core.frame.DataFrame'>\n"
     ]
    }
   ],
   "source": [
    "# Create a DataFrame and export the data to a file\n",
    "data = {\n",
    "    'name':       ['ash', 'timmy', 'jimmy', 'Samantha'],\n",
    "    'age':        [30,     33,       61,       19],\n",
    "    'is_working': [True,   False,   True,     True],\n",
    "    'income':     [20.4,   20.1,     34.7,     55.9] \n",
    "}\n",
    "df = pd.DataFrame(data)\n",
    "\n",
    "print(df)\n",
    "print(type(df))\n",
    "\n",
    "########################\n",
    "\n",
    "# different ways to export data to file\n",
    "df.to_csv('junk.csv', index=False) # default sep=','\n",
    "# df.to_csv('junk.csv', sep=';', index=False)\n",
    "\n",
    "# df.to_excel('junk.xlsx', index=False, sheet_name='my_sheet1')\n",
    "\n",
    "# df.to_json('junk.json', orient='records', lines=True)\n",
    "\n",
    "# df.to_pickle('junk.pkl')\n",
    "\n",
    "#########################\n",
    "# SKIP following\n",
    "# df.to_sql('my_table', conn, if_exists='replace', index=False)  # Requires SQLAlchemy or sqlite3"
   ]
  },
  {
   "cell_type": "code",
   "execution_count": 43,
   "id": "374313cb-603e-4b3c-a633-17686ba777da",
   "metadata": {},
   "outputs": [
    {
     "name": "stdout",
     "output_type": "stream",
     "text": [
      "       Name  Age         City  Exp  Exp2   Salary passport  bonus  hours\n",
      "0     Alice   25      Chicago    2     2  70000.0      a43   1000    100\n",
      "1       Bob   30  Los Angeles    5     5  80000.0      a44   3000    150\n",
      "2   Charlie   35      Chicago    7     7      NaN      a45      0    200\n",
      "3     David   40      Houston   10    10  90000.0      a46   7000    100\n",
      "4       Eva   22      Houston    1     1  48000.0      a47   2555    120\n",
      "5     Frank   28          NaN    3     3  72000.0      a48      0    100\n",
      "6     Grace   32  San Antonio    6     6  85000.0      a49      0    200\n",
      "7     Helen   26    San Diego    2     2  62000.0      a50   9000    100\n",
      "8     Helen   26    San Diego    2     2  62000.0      a51      0     80\n",
      "9     Helen   26    San Diego    2     2  62000.0      a52   3000    100\n",
      "10    Jerry   23      Phoenix    6     6  78000.0      a53      0     80\n"
     ]
    }
   ],
   "source": [
    "# I can import from CSV with comma separator\n",
    "# from pathlib import Path\n",
    "# data_file = Path.cwd() / 'data.csv'\n",
    "\n",
    "data_file = 'data.csv'\n",
    "df = pd.read_csv(data_file) # default sep=','\n",
    "\n",
    "print(df)"
   ]
  },
  {
   "cell_type": "code",
   "execution_count": 44,
   "id": "4f023039-ea39-4b48-866a-62e155afebd1",
   "metadata": {},
   "outputs": [
    {
     "name": "stdout",
     "output_type": "stream",
     "text": [
      "                 name  age place of birth\n",
      "0           Ash,Kumar   23           Moon\n",
      "1      Sameer, Khosla   32    HR, Haryana\n",
      "2         Khan, Rahim   34    NY, NewYork\n",
      "3  Shamlodhiya, Kumar   20    NY, NewYork\n"
     ]
    }
   ],
   "source": [
    "# different ways to import from local computer\n",
    "\n",
    "# read from CSV file\n",
    "df = pd.read_csv('data_semi_colon.txt', sep=';') # file has , in the data\n",
    "# df = pd.read_csv(\"data_semi-colon-california_house.csv\", sep=';')\n",
    "print(df)\n",
    "\n",
    "##############\n",
    "# read from excel file\n",
    "# df = pd.read_excel('data.xlsx', sheet_name='Sheet1')  # Requires openpyxl or xlrd\n",
    "# print(df)\n",
    "\n",
    "################\n",
    "# read from JSON file\n",
    "# df = pd.read_json('data.json',  lines=True)\n",
    "# print(df)\n",
    "\n",
    "######################\n",
    "# read from pickle file\n",
    "# df = pd.read_pickle('data.pkl')\n",
    "# print(df)"
   ]
  },
  {
   "cell_type": "code",
   "execution_count": 45,
   "id": "ce9ceb24-4542-42d9-9caa-41c0907300e7",
   "metadata": {},
   "outputs": [],
   "source": [
    "# SKIP\n",
    "# you can also read from internet\n",
    "# make sure its LEGAL\n",
    "\n",
    "# df = pd.read_csv('https://raw.githubusercontent.com/ash322ash422/tut_pandas_numpy/refs/heads/master/titanic.csv', sep=',')\n",
    "# print(df.head(5))\n",
    "\n",
    "\n",
    "# url = 'https://en.wikipedia.org/wiki/List_of_countries_and_dependencies_by_population'\n",
    "# tables = pd.read_html(url)  # returns a list of DataFrames\n",
    "# print(f\"Total tables: {len(tables)}\")\n",
    "# df = tables[2]\n",
    "# print(df.head(5))\n",
    "\n",
    "\n",
    "# url = 'https://en.wikipedia.org/wiki/Minnesota'\n",
    "# tables = pd.read_html(url)  # returns a list of DataFrames\n",
    "# print(f\"Total tables: {len(tables)}\")\n",
    "# df = tables[2]\n",
    "# print(df.head(5))\n",
    "\n",
    "\n",
    "### Following skip for now############\n",
    "# import sqlite3\n",
    "# conn = sqlite3.connect('my_database.db')\n",
    "# df = pd.read_sql('SELECT * FROM my_table', conn)\n"
   ]
  },
  {
   "cell_type": "code",
   "execution_count": 46,
   "id": "672783cf-ba13-4a5e-b01a-889f5f3c683d",
   "metadata": {},
   "outputs": [
    {
     "name": "stdout",
     "output_type": "stream",
     "text": [
      "       Name  Age         City  Exp  Exp2   Salary passport  bonus  hours\n",
      "0     Alice   25      Chicago    2     2  70000.0      a43   1000    100\n",
      "1       Bob   30  Los Angeles    5     5  80000.0      a44   3000    150\n",
      "2   Charlie   35      Chicago    7     7      NaN      a45      0    200\n",
      "3     David   40      Houston   10    10  90000.0      a46   7000    100\n",
      "4       Eva   22      Houston    1     1  48000.0      a47   2555    120\n",
      "5     Frank   28          NaN    3     3  72000.0      a48      0    100\n",
      "6     Grace   32  San Antonio    6     6  85000.0      a49      0    200\n",
      "7     Helen   26    San Diego    2     2  62000.0      a50   9000    100\n",
      "8     Helen   26    San Diego    2     2  62000.0      a51      0     80\n",
      "9     Helen   26    San Diego    2     2  62000.0      a52   3000    100\n",
      "10    Jerry   23      Phoenix    6     6  78000.0      a53      0     80\n",
      "      Name  Age         City  Exp  Exp2   Salary passport  bonus  hours\n",
      "0    Alice   25      Chicago    2     2  70000.0      a43   1000    100\n",
      "1      Bob   30  Los Angeles    5     5  80000.0      a44   3000    150\n",
      "2  Charlie   35      Chicago    7     7      NaN      a45      0    200\n",
      "     Name  Age       City  Exp  Exp2   Salary passport  bonus  hours\n",
      "8   Helen   26  San Diego    2     2  62000.0      a51      0     80\n",
      "9   Helen   26  San Diego    2     2  62000.0      a52   3000    100\n",
      "10  Jerry   23    Phoenix    6     6  78000.0      a53      0     80\n",
      "      Name  Age         City  Exp  Exp2   Salary passport  bonus  hours\n",
      "6    Grace   32  San Antonio    6     6  85000.0      a49      0    200\n",
      "8    Helen   26    San Diego    2     2  62000.0      a51      0     80\n",
      "2  Charlie   35      Chicago    7     7      NaN      a45      0    200\n",
      "    Name  Age         City  Exp  Exp2   Salary passport  bonus  hours\n",
      "1    Bob   30  Los Angeles    5     5  80000.0      a44   3000    150\n",
      "7  Helen   26    San Diego    2     2  62000.0      a50   9000    100\n",
      "     Name  Age         City  Exp  Exp2   Salary passport  bonus  hours\n",
      "6   Grace   32  San Antonio    6     6  85000.0      a49      0    200\n",
      "4     Eva   22      Houston    1     1  48000.0      a47   2555    120\n",
      "5   Frank   28          NaN    3     3  72000.0      a48      0    100\n",
      "10  Jerry   23      Phoenix    6     6  78000.0      a53      0     80\n",
      "3   David   40      Houston   10    10  90000.0      a46   7000    100\n",
      "    Name  Age       City  Exp  Exp2   Salary passport  bonus  hours\n",
      "5  Frank   28        NaN    3     3  72000.0      a48      0    100\n",
      "0  Alice   25    Chicago    2     2  70000.0      a43   1000    100\n",
      "9  Helen   26  San Diego    2     2  62000.0      a52   3000    100\n"
     ]
    }
   ],
   "source": [
    "# displaying the data\n",
    "data_file = 'data.csv'\n",
    "df = pd.read_csv(data_file)\n",
    "\n",
    "print(df)\n",
    "print(df.head(3)) # 1st 3 rows\n",
    "print(df.tail(3)) # last 3 rows\n",
    "\n",
    "print(df.sample(n=3))                  # Sample 3 random rows\n",
    "print(df.sample(frac=0.2))             # Sample 20% of the rows\n",
    "print(df.sample(n=5, replace=True))    # Sample with replacement, so duplicates can appear\n",
    "print(df.sample(n=3, random_state=42)) # Sample 3 random rows with consistent output each time it runs"
   ]
  },
  {
   "cell_type": "markdown",
   "id": "0b489aa5-f3a1-42bf-b773-85dde188e3a0",
   "metadata": {},
   "source": [
    "# STOP"
   ]
  },
  {
   "cell_type": "code",
   "execution_count": null,
   "id": "c3154864-5038-4e08-aa03-5cfeff662596",
   "metadata": {},
   "outputs": [],
   "source": []
  },
  {
   "cell_type": "code",
   "execution_count": null,
   "id": "05a6016e-a5bd-4d4c-905f-dd2d6c5e5245",
   "metadata": {},
   "outputs": [],
   "source": []
  },
  {
   "cell_type": "code",
   "execution_count": null,
   "id": "62edcbf0-56b5-42d9-95cd-a29918f08c65",
   "metadata": {},
   "outputs": [],
   "source": []
  }
 ],
 "metadata": {
  "kernelspec": {
   "display_name": "Python 3 (ipykernel)",
   "language": "python",
   "name": "python3"
  },
  "language_info": {
   "codemirror_mode": {
    "name": "ipython",
    "version": 3
   },
   "file_extension": ".py",
   "mimetype": "text/x-python",
   "name": "python",
   "nbconvert_exporter": "python",
   "pygments_lexer": "ipython3",
   "version": "3.9.9"
  }
 },
 "nbformat": 4,
 "nbformat_minor": 5
}
