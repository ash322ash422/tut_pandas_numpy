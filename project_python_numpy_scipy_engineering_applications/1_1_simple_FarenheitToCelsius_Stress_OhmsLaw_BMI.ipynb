{
 "cells": [
  {
   "cell_type": "code",
   "execution_count": 3,
   "id": "b22f34be-1537-4199-ae07-7dd033bbc5a2",
   "metadata": {},
   "outputs": [
    {
     "name": "stdout",
     "output_type": "stream",
     "text": [
      "98.6°F is 37.00°C\n",
      "37°C is 98.60°F\n"
     ]
    }
   ],
   "source": [
    "# -------------------------------\n",
    "# 1. Convert temperatures (°F ↔ °C)\n",
    "# -------------------------------\n",
    "\n",
    "def f_to_c(fahrenheit):\n",
    "    celsius = (fahrenheit - 32) * 5/9\n",
    "    return celsius\n",
    "\n",
    "def c_to_f(celsius):\n",
    "    fahrenheit = (celsius * 9/5) + 32\n",
    "    return fahrenheit\n",
    "\n",
    "temp_f = 98.6\n",
    "temp_c = f_to_c(temp_f)\n",
    "print(f\"{temp_f}°F is {temp_c:.2f}°C\")\n",
    "\n",
    "temp_c2 = 37\n",
    "temp_f2 = c_to_f(temp_c2)\n",
    "print(f\"{temp_c2}°C is {temp_f2:.2f}°F\")\n",
    "\n"
   ]
  },
  {
   "cell_type": "code",
   "execution_count": 4,
   "id": "d2d9242d-89d4-465a-b500-588b1ef80244",
   "metadata": {},
   "outputs": [
    {
     "name": "stdout",
     "output_type": "stream",
     "text": [
      "Stress: 1000000.00 Pascals\n"
     ]
    }
   ],
   "source": [
    "# -------------------------------\n",
    "# 2. Calculate Stress (σ = F / A)\n",
    "# -------------------------------\n",
    "\n",
    "def stress(force, area):\n",
    "    return force / area\n",
    "\n",
    "force_n = 5000  # Newtons\n",
    "area_m2 = 0.005  # m^2\n",
    "\n",
    "stress_pa = stress(force_n, area_m2)\n",
    "print(f\"Stress: {stress_pa:.2f} Pascals\")"
   ]
  },
  {
   "cell_type": "code",
   "execution_count": 5,
   "id": "e1c424f1-043f-4c62-901a-6870c15b50a4",
   "metadata": {},
   "outputs": [
    {
     "name": "stdout",
     "output_type": "stream",
     "text": [
      "Resistance: 6.00 Ohms\n"
     ]
    }
   ],
   "source": [
    "# -------------------------------\n",
    "# 3. Compute electrical resistance (Ohm's Law)\n",
    "# -------------------------------\n",
    "\n",
    "# Ohm's Law: V = I * R  =>  R = V / I\n",
    "\n",
    "def resistance(voltage, current):\n",
    "    return voltage / current\n",
    "\n",
    "voltage_v = 12  # Volts\n",
    "current_a = 2   # Amps\n",
    "\n",
    "resistance_ohms = resistance(voltage_v, current_a)\n",
    "print(f\"Resistance: {resistance_ohms:.2f} Ohms\")"
   ]
  },
  {
   "cell_type": "code",
   "execution_count": 6,
   "id": "d2b5d847-fb88-4645-a103-6f7a73dbda0e",
   "metadata": {},
   "outputs": [
    {
     "name": "stdout",
     "output_type": "stream",
     "text": [
      "BMI: 22.86\n"
     ]
    }
   ],
   "source": [
    "# -------------------------------\n",
    "# 4. Calculate BMI (Biomedical Engineering)\n",
    "# -------------------------------\n",
    "\n",
    "# BMI = weight (kg) / [height (m)]^2\n",
    "\n",
    "def bmi(weight_kg, height_m):\n",
    "    return weight_kg / (height_m ** 2)\n",
    "\n",
    "weight = 70  # kg\n",
    "height = 1.75  # meters\n",
    "\n",
    "bmi_value = bmi(weight, height)\n",
    "print(f\"BMI: {bmi_value:.2f}\")\n"
   ]
  },
  {
   "cell_type": "code",
   "execution_count": null,
   "id": "a0119221-f495-46e1-b2bb-c087f80a7b64",
   "metadata": {},
   "outputs": [],
   "source": []
  }
 ],
 "metadata": {
  "kernelspec": {
   "display_name": "Python 3 (ipykernel)",
   "language": "python",
   "name": "python3"
  },
  "language_info": {
   "codemirror_mode": {
    "name": "ipython",
    "version": 3
   },
   "file_extension": ".py",
   "mimetype": "text/x-python",
   "name": "python",
   "nbconvert_exporter": "python",
   "pygments_lexer": "ipython3",
   "version": "3.9.9"
  }
 },
 "nbformat": 4,
 "nbformat_minor": 5
}
