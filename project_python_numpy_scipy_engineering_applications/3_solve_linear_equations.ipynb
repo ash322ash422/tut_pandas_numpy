{
 "cells": [
  {
   "cell_type": "markdown",
   "id": "08feac93-db57-457f-84cd-1b3a3c117ce0",
   "metadata": {},
   "source": [
    "# Simple linear equation: 2 variable\n",
    "**Example System of Equations**\n",
    "\n",
    "Solve the following system for $x_1$ and $x_2$:\n",
    "\n",
    "\\[\n",
    "\\begin{cases}\n",
    "2x_1 + 3x_2 = 8 \\\\\n",
    "-1x_1 + 2x_2 = 3\n",
    "\\end{cases}\n",
    "\\]\n"
   ]
  },
  {
   "cell_type": "code",
   "execution_count": 5,
   "id": "d44d5992-bbc2-420b-9fd7-0ac5300c0dd3",
   "metadata": {},
   "outputs": [
    {
     "name": "stdout",
     "output_type": "stream",
     "text": [
      "x1 = 1.00\n",
      "x2 = 2.00\n"
     ]
    }
   ],
   "source": [
    "import numpy as np\n",
    "\n",
    "# Coefficient matrix A\n",
    "A = np.array([\n",
    "    [2, 3],\n",
    "    [-1, 2]\n",
    "])\n",
    "\n",
    "# Constants vector B\n",
    "B = np.array([8, 3])\n",
    "\n",
    "# Solve Ax = B\n",
    "solution = np.linalg.solve(A, B)\n",
    "\n",
    "print(f\"x1 = {solution[0]:.2f}\")\n",
    "print(f\"x2 = {solution[1]:.2f}\")"
   ]
  },
  {
   "cell_type": "markdown",
   "id": "b7a110a0-e3bc-4401-8761-a8a2415fc276",
   "metadata": {},
   "source": [
    "# Finding Tension in Cables Supporting a Hanging Mass\n",
    "Consider a mass *m* hanging from a point, supported by two cables. Cable 1 makes an angle $\\theta_{1}$ with the horizontal, and Cable 2 makes an angle $\\theta_{2}$ with the horizontal. The goal is to find the tension in each cable, $T_{1}$ and $T_{2}$.\n"
   ]
  },
  {
   "cell_type": "code",
   "execution_count": 2,
   "id": "8a23137c-9c0c-45cd-904d-8b824fd3bdce",
   "metadata": {},
   "outputs": [
    {
     "name": "stdout",
     "output_type": "stream",
     "text": [
      "Tension in Cable 1 (T1): 193.50\n",
      "Tension in Cable 2 (T2): 157.99\n"
     ]
    }
   ],
   "source": [
    "import numpy as np\n",
    "\n",
    "# Given values\n",
    "mass = 22  # kg or lbs, depending on the problem context\n",
    "g = 9.81  # m/s^2 (acceleration due to gravity)\n",
    "theta1_deg = 45  # degrees\n",
    "theta2_deg = 30  # degrees\n",
    "\n",
    "# Convert angles to radians\n",
    "theta1_rad = np.radians(theta1_deg)\n",
    "theta2_rad = np.radians(theta2_deg)\n",
    "\n",
    "# Calculate weight\n",
    "weight = mass * g\n",
    "\n",
    "\n",
    "# Equation 1 for x-axis: -T1*cos(theta1) + T2*cos(theta2) = 0\n",
    "# Equation 2 for y-axis: T1*sin(theta1) + T2*sin(theta2) = weight\n",
    "\n",
    "A = np.array([\n",
    "    [-np.cos(theta1_rad), np.cos(theta2_rad)],\n",
    "    [np.sin(theta1_rad), np.sin(theta2_rad)]\n",
    "])\n",
    "\n",
    "B = np.array([0, weight])\n",
    "\n",
    "# Solve for T1 and T2\n",
    "tensions = np.linalg.solve(A, B)\n",
    "\n",
    "T1 = tensions[0]\n",
    "T2 = tensions[1]\n",
    "\n",
    "print(f\"Tension in Cable 1 (T1): {T1:.2f}\")\n",
    "print(f\"Tension in Cable 2 (T2): {T2:.2f}\")"
   ]
  },
  {
   "cell_type": "markdown",
   "id": "cf8fcfd6-b008-42f6-95e5-9c0a243c70e8",
   "metadata": {},
   "source": [
    "# 3D equilibrium problem\n",
    "Solving for Unknown Forces\n",
    "Scenario:\n",
    "A beam is in static equilibrium, supported by three cables. The tensions in the three cables must sum up to balance the load and keep the beam still.\n",
    "Suppose we get following 3 equations governing the equilibrium:\n",
    "```\n",
    "x+y+z=10\n",
    "2x−y+3z=5\n",
    "−x+4y+z=7\n",
    "```\n",
    "\n",
    "Here,\n",
    "\n",
    "x = Tension in Cable 1\n",
    "\n",
    "y = Tension in Cable 2\n",
    "\n",
    "z = Tension in Cable 3"
   ]
  },
  {
   "cell_type": "code",
   "execution_count": 1,
   "id": "c58267a9-5c81-4f08-ad99-08e29f2a1ac0",
   "metadata": {},
   "outputs": [
    {
     "name": "stdout",
     "output_type": "stream",
     "text": [
      "Tensions in the cables:\n",
      "x = 7.91\n",
      "y = 4.27\n",
      "z = -2.18\n"
     ]
    }
   ],
   "source": [
    "import numpy as np\n",
    "\n",
    "# Coefficient matrix A\n",
    "A = np.array([\n",
    "    [1, 1, 1],\n",
    "    [2, -1, 3],\n",
    "    [-1, 4, 1]\n",
    "])\n",
    "\n",
    "# Constants vector B\n",
    "B = np.array([10, 5, 7])\n",
    "\n",
    "# Solve Ax = B\n",
    "solution = np.linalg.solve(A, B)\n",
    "\n",
    "# Display the solution\n",
    "print(\"Tensions in the cables:\")\n",
    "print(f\"x = {solution[0]:.2f}\")\n",
    "print(f\"y = {solution[1]:.2f}\")\n",
    "print(f\"z = {solution[2]:.2f}\")\n"
   ]
  },
  {
   "cell_type": "code",
   "execution_count": null,
   "id": "f4c7c514-179e-4d03-a6f1-8b1e063f6f72",
   "metadata": {},
   "outputs": [],
   "source": []
  }
 ],
 "metadata": {
  "kernelspec": {
   "display_name": "Python 3 (ipykernel)",
   "language": "python",
   "name": "python3"
  },
  "language_info": {
   "codemirror_mode": {
    "name": "ipython",
    "version": 3
   },
   "file_extension": ".py",
   "mimetype": "text/x-python",
   "name": "python",
   "nbconvert_exporter": "python",
   "pygments_lexer": "ipython3",
   "version": "3.9.9"
  }
 },
 "nbformat": 4,
 "nbformat_minor": 5
}
