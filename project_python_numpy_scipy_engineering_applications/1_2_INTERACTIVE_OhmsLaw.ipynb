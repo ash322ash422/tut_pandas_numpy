{
 "cells": [
  {
   "cell_type": "code",
   "execution_count": 4,
   "id": "bdef63c4-deac-498d-b99a-76b717974824",
   "metadata": {},
   "outputs": [
    {
     "data": {
      "application/vnd.jupyter.widget-view+json": {
       "model_id": "da3e654915fc4e608009da7b697a18f4",
       "version_major": 2,
       "version_minor": 0
      },
      "text/plain": [
       "interactive(children=(FloatSlider(value=5.0, description='x', max=10.0), Output()), _dom_classes=('widget-inte…"
      ]
     },
     "metadata": {},
     "output_type": "display_data"
    }
   ],
   "source": [
    "# STEP1: Test if widget is working\n",
    "# pip install ipywidgets\n",
    "\n",
    "from ipywidgets import interact, FloatSlider\n",
    "\n",
    "def test_func(x):\n",
    "    print(f\"x = {x}\")\n",
    "\n",
    "interact(test_func, x=FloatSlider(min=0, max=10, step=0.1, value=5));\n"
   ]
  },
  {
   "cell_type": "code",
   "execution_count": 3,
   "id": "fa604384-5049-4050-85fc-8e790cf0476d",
   "metadata": {},
   "outputs": [
    {
     "data": {
      "application/vnd.jupyter.widget-view+json": {
       "model_id": "e21dcc53ff64457e8d7130cecddc0d40",
       "version_major": 2,
       "version_minor": 0
      },
      "text/plain": [
       "interactive(children=(FloatSlider(value=2.0, description='Current (A)', max=10.0, min=0.1), FloatSlider(value=…"
      ]
     },
     "metadata": {},
     "output_type": "display_data"
    }
   ],
   "source": [
    "# ===============================\n",
    "# Interactive Ohm's Law Calculator\n",
    "# ===============================\n",
    "\n",
    "import matplotlib.pyplot as plt\n",
    "from ipywidgets import interact, FloatSlider\n",
    "\n",
    "# Ohm's Law function: plot V = I * R\n",
    "def ohms_law(I, R):\n",
    "    V = I * R\n",
    "\n",
    "    print(f\"Voltage (V) = Current (I) × Resistance (R)\")\n",
    "    print(f\"V = {I:.2f} A × {R:.2f} Ω = {V:.2f} V\")\n",
    "\n",
    "    # Optional: plot for different currents\n",
    "    I_values = [I]\n",
    "    V_values = [V]\n",
    "\n",
    "    plt.figure(figsize=(6, 4))\n",
    "    plt.scatter(I, V, color='red', label='Your Point')\n",
    "    plt.xlabel('Current (A)')\n",
    "    plt.ylabel('Voltage (V)')\n",
    "    plt.title('Ohm\\'s Law: V = I × R')\n",
    "\n",
    "    # Add line for context: show V for I = 0 to 10 A\n",
    "    I_line = [0, 10]\n",
    "    V_line = [0, 10 * R]\n",
    "    plt.plot(I_line, V_line, 'b-', label=f'V = I × {R:.1f} Ω')\n",
    "\n",
    "    plt.grid(True)\n",
    "    plt.legend()\n",
    "    plt.show()\n",
    "\n",
    "# Interactive sliders\n",
    "interact(\n",
    "    ohms_law,\n",
    "    I=FloatSlider(value=2, min=0.1, max=10, step=0.1, description='Current (A)'),\n",
    "    R=FloatSlider(value=5, min=1, max=100, step=1, description='Resistance (Ω)')\n",
    ");\n"
   ]
  }
 ],
 "metadata": {
  "kernelspec": {
   "display_name": "Python 3 (ipykernel)",
   "language": "python",
   "name": "python3"
  },
  "language_info": {
   "codemirror_mode": {
    "name": "ipython",
    "version": 3
   },
   "file_extension": ".py",
   "mimetype": "text/x-python",
   "name": "python",
   "nbconvert_exporter": "python",
   "pygments_lexer": "ipython3",
   "version": "3.9.9"
  }
 },
 "nbformat": 4,
 "nbformat_minor": 5
}
