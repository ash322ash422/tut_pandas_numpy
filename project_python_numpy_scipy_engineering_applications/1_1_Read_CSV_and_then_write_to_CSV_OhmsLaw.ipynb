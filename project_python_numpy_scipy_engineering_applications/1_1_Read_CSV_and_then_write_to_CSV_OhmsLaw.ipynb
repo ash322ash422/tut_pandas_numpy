{
 "cells": [
  {
   "cell_type": "markdown",
   "id": "f8525367-fd6e-4373-95a4-29dc7395bbc0",
   "metadata": {},
   "source": [
    "## EXAMPLE1: Read CSV, perform computation and display result "
   ]
  },
  {
   "cell_type": "code",
   "execution_count": 2,
   "id": "a5015a1c-a142-4c88-8bd1-3c9c5d88b8b9",
   "metadata": {},
   "outputs": [
    {
     "name": "stdout",
     "output_type": "stream",
     "text": [
      "Resistance:\n",
      "[3.   3.   3.33 3.33]\n"
     ]
    }
   ],
   "source": [
    "import pandas as pd\n",
    "import numpy as np\n",
    "\n",
    "df = pd.read_csv(\"ohms_law.csv\")\n",
    "\n",
    "# convert it into numpy array\n",
    "v = np.array(df['voltage'])\n",
    "i = np.array(df['current'])\n",
    "\n",
    "\n",
    "def resistance(voltage, current):\n",
    "    return voltage / current\n",
    "\n",
    "resistance_ohms = resistance(v, i)\n",
    "print(f\"Resistance:\\n{np.round(resistance_ohms,2)}\")"
   ]
  },
  {
   "cell_type": "markdown",
   "id": "f2d52d82-eb26-4baa-9de8-fce93af18eca",
   "metadata": {},
   "source": [
    "## EXAMPLE2: Read CSV, perform computation and store result in seperate CSV"
   ]
  },
  {
   "cell_type": "code",
   "execution_count": 4,
   "id": "63f73421-82b8-4fe1-98fd-8ebd44c0439a",
   "metadata": {},
   "outputs": [
    {
     "name": "stdout",
     "output_type": "stream",
     "text": [
      "Resistance calculated and saved to 'junk.csv'\n"
     ]
    }
   ],
   "source": [
    "import pandas as pd\n",
    "import numpy as np\n",
    "\n",
    "df = pd.read_csv(\"ohms_law.csv\")\n",
    "\n",
    "# Convert columns to NumPy arrays\n",
    "v = np.array(df['voltage'])\n",
    "i = np.array(df['current'])\n",
    "\n",
    "def resistance(voltage, current):\n",
    "    return voltage / current\n",
    "\n",
    "resistance_ohms = resistance(v, i)\n",
    "\n",
    "df['resistance'] = resistance_ohms # Add resistance as a new column to the DataFrame\n",
    "df.to_csv(\"junk.csv\", index=False) # Save to new CSV\n",
    "\n",
    "print(\"Resistance calculated and saved to 'junk.csv'\")"
   ]
  },
  {
   "cell_type": "code",
   "execution_count": null,
   "id": "0dde4115-10c5-42df-beda-5638afad0d8c",
   "metadata": {},
   "outputs": [],
   "source": []
  }
 ],
 "metadata": {
  "kernelspec": {
   "display_name": "Python 3 (ipykernel)",
   "language": "python",
   "name": "python3"
  },
  "language_info": {
   "codemirror_mode": {
    "name": "ipython",
    "version": 3
   },
   "file_extension": ".py",
   "mimetype": "text/x-python",
   "name": "python",
   "nbconvert_exporter": "python",
   "pygments_lexer": "ipython3",
   "version": "3.9.9"
  }
 },
 "nbformat": 4,
 "nbformat_minor": 5
}
