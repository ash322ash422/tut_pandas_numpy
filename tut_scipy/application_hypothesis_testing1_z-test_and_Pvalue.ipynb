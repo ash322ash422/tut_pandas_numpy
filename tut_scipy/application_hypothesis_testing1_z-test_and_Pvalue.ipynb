{
 "cells": [
  {
   "cell_type": "markdown",
   "id": "2174c80c-4ea5-4664-8bfe-5596d471b838",
   "metadata": {},
   "source": [
    "# 1\n",
    "In a population of metal components, the average lifetime without a protective paint coating is 101 months. The lifetime is normally distributed, and the population standard deviation is 15 months. An engineer claims that applying the new protective paint coating increases the mean lifetime of the component beyond 101 months.\n",
    "She tests this claim by selecting a random sample of 50 components with the coating and finds that the sample mean lifetime is 107 months. Test the engineer’s claim at α = 0.05.\n"
   ]
  },
  {
   "cell_type": "code",
   "execution_count": 1,
   "id": "29e6bb82-a33c-460e-997c-eea21b107c80",
   "metadata": {},
   "outputs": [
    {
     "name": "stdout",
     "output_type": "stream",
     "text": [
      "Z-statistic: 2.8284\n",
      "P-value: 0.0023\n",
      "Reject Null Hypothesis? Yes\n"
     ]
    }
   ],
   "source": [
    "import scipy.stats as stats\n",
    "import numpy as np\n",
    "\n",
    "# Given values\n",
    "mu_0 = 101       # null hypothesis mean\n",
    "sample_mean = 107\n",
    "sigma = 15       # population std dev\n",
    "n = 50\n",
    "alpha = 0.05\n",
    "\n",
    "# Compute Z-statistic\n",
    "z_stat = (sample_mean - mu_0) / (sigma / np.sqrt(n))\n",
    "\n",
    "# One-tailed p-value (right tail)\n",
    "p_value = 1 - stats.norm.cdf(z_stat)\n",
    "\n",
    "# Decision\n",
    "reject_null = p_value < alpha\n",
    "\n",
    "# Output\n",
    "print(f\"Z-statistic: {z_stat:.4f}\")\n",
    "print(f\"P-value: {p_value:.4f}\")\n",
    "print(\"Reject Null Hypothesis?\" , \"Yes\" if reject_null else \"No\")\n"
   ]
  },
  {
   "cell_type": "markdown",
   "id": "4c14ea7a-9a24-4881-926b-a53d56e2bfae",
   "metadata": {},
   "source": [
    "# 2\n",
    "A water treatment plant claims their new filtration system reduces contaminant levels to below 5 ppm which is the population mean. Environmental engineers want to verify that the system performs better than this standard.\n",
    "A random sample of 60 water samples is taken after treatment. The sample shows a mean contaminant level of 4.9 ppm, with a known population standard deviation of 0.8 ppm. Test the water treatment plant claim at α = 0.10. \n"
   ]
  },
  {
   "cell_type": "code",
   "execution_count": 2,
   "id": "0da36f99-e442-43d7-8bcd-9269d73d74b4",
   "metadata": {},
   "outputs": [
    {
     "name": "stdout",
     "output_type": "stream",
     "text": [
      "Z-statistic: -0.9682\n",
      "P-value: 0.1665\n",
      "Reject Null Hypothesis? No\n"
     ]
    }
   ],
   "source": [
    "import scipy.stats as stats\n",
    "import numpy as np\n",
    "\n",
    "# Given values\n",
    "mu_0 = 5         # null hypothesis mean\n",
    "sample_mean = 4.9\n",
    "sigma = 0.8      # population std dev\n",
    "n = 60\n",
    "alpha = 0.10\n",
    "\n",
    "# Compute Z-statistic\n",
    "z_stat = (sample_mean - mu_0) / (sigma / np.sqrt(n))\n",
    "\n",
    "# One-tailed p-value (left tail)\n",
    "p_value = stats.norm.cdf(z_stat)\n",
    "\n",
    "# Decision\n",
    "reject_null = p_value < alpha\n",
    "\n",
    "# Output\n",
    "print(f\"Z-statistic: {z_stat:.4f}\")\n",
    "print(f\"P-value: {p_value:.4f}\")\n",
    "print(\"Reject Null Hypothesis?\" , \"Yes\" if reject_null else \"No\")\n"
   ]
  },
  {
   "cell_type": "markdown",
   "id": "c72c5051-c13e-4ea3-a596-4d3ab7620e5b",
   "metadata": {},
   "source": [
    "# 3\n",
    "A medical researcher is interested in finding out whether a new medication will have any undesirable side effects on patients’ pulse rates. The researcher is particularly concerned with whether the pulse rate increases, decreases, or stays the same after taking the medication.\n",
    "The researcher knows that the mean pulse rate for the population under study is 82 beats per minute (bpm), with a population standard deviation of 5 bpm. To investigate, the researcher selects a random sample of 60 patients who take the medication and finds that their mean pulse rate is 80.7 bpm. Test the claim that medication does affect the mean pulse rate at α = 0.01\n"
   ]
  },
  {
   "cell_type": "code",
   "execution_count": 3,
   "id": "fed43673-5e1a-4a4d-9d21-92beb581f889",
   "metadata": {},
   "outputs": [
    {
     "name": "stdout",
     "output_type": "stream",
     "text": [
      "Z-statistic: -2.0140\n",
      "P-value: 0.0440\n",
      "Reject Null Hypothesis? No\n"
     ]
    }
   ],
   "source": [
    "import scipy.stats as stats\n",
    "import numpy as np\n",
    "\n",
    "# Given values\n",
    "mu_0 = 82          # null hypothesis mean\n",
    "sample_mean = 80.7\n",
    "sigma = 5          # population std dev\n",
    "n = 60\n",
    "alpha = 0.01\n",
    "\n",
    "# Compute Z-statistic\n",
    "z_stat = (sample_mean - mu_0) / (sigma / np.sqrt(n))\n",
    "\n",
    "# Two-tailed p-value\n",
    "p_value = 2 * (1 - stats.norm.cdf(abs(z_stat)))\n",
    "\n",
    "# Decision\n",
    "reject_null = p_value < alpha\n",
    "\n",
    "# Output\n",
    "print(f\"Z-statistic: {z_stat:.4f}\")\n",
    "print(f\"P-value: {p_value:.4f}\")\n",
    "print(\"Reject Null Hypothesis?\" , \"Yes\" if reject_null else \"No\")\n"
   ]
  },
  {
   "cell_type": "code",
   "execution_count": null,
   "id": "0626ce18-84f6-4bab-9426-4f9945a96759",
   "metadata": {},
   "outputs": [],
   "source": []
  }
 ],
 "metadata": {
  "kernelspec": {
   "display_name": "Python 3 (ipykernel)",
   "language": "python",
   "name": "python3"
  },
  "language_info": {
   "codemirror_mode": {
    "name": "ipython",
    "version": 3
   },
   "file_extension": ".py",
   "mimetype": "text/x-python",
   "name": "python",
   "nbconvert_exporter": "python",
   "pygments_lexer": "ipython3",
   "version": "3.9.9"
  }
 },
 "nbformat": 4,
 "nbformat_minor": 5
}
