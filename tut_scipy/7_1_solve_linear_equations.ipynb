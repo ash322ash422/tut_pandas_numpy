{
 "cells": [
  {
   "cell_type": "markdown",
   "id": "08feac93-db57-457f-84cd-1b3a3c117ce0",
   "metadata": {},
   "source": [
    "# Simple linear equation: 2 variable\n",
    "**Example System of Equations**\n",
    "\n",
    "Solve the following system for $x_1$ and $x_2$:\n",
    "\n",
    "\\[\n",
    "\\begin{cases}\n",
    "2x_1 + 3x_2 = 8 \\\\\n",
    "-1x_1 + 2x_2 = 3\n",
    "\\end{cases}\n",
    "\\]\n"
   ]
  },
  {
   "cell_type": "code",
   "execution_count": 3,
   "id": "d44d5992-bbc2-420b-9fd7-0ac5300c0dd3",
   "metadata": {},
   "outputs": [
    {
     "name": "stdout",
     "output_type": "stream",
     "text": [
      "x1 = 1.00\n",
      "x2 = 2.00\n"
     ]
    }
   ],
   "source": [
    "import numpy as np\n",
    "\n",
    "# Coefficient matrix A\n",
    "A = np.array([\n",
    "    [2, 3],\n",
    "    [-1, 2]\n",
    "])\n",
    "\n",
    "# Constants vector B\n",
    "B = np.array([8, 3])\n",
    "\n",
    "# Solve Ax = B\n",
    "solution = np.linalg.solve(A, B)\n",
    "\n",
    "print(f\"x1 = {solution[0]:.2f}\")\n",
    "print(f\"x2 = {solution[1]:.2f}\")"
   ]
  },
  {
   "cell_type": "markdown",
   "id": "e4567797-6cdd-4116-8567-7f5f9d9f99ef",
   "metadata": {},
   "source": [
    "# Simple linear equation: 5 variable\n",
    "**Example System of Equations**\n",
    "\n",
    "Solve the following system for $x_1$, $x_2$, .., $x_5$:\n",
    "\n",
    "\n",
    " $2x_1 + 3x_2 + 4x_3 + 8x_4 + 0x_5 = 8$\n",
    " \n",
    " $-x_1 + 2x_2 + 0x_3 - 3x_4 + 6x_5 = 3$\n",
    " \n",
    " $0x_1 + x_2 + 2x_3 + 0x_4 + x_5 = 5$\n",
    " \n",
    " $x_1 + 0x_2 + 0x_3 + 0x_4 + x_5 = 4$\n",
    " \n",
    " $3x_1 - 2x_2 + x_3 + 4x_4 - x_5 = -1$"
   ]
  },
  {
   "cell_type": "code",
   "execution_count": 4,
   "id": "daf08227-7e89-45c1-b504-c4c6f002844e",
   "metadata": {},
   "outputs": [
    {
     "name": "stdout",
     "output_type": "stream",
     "text": [
      "x1 = 5.44\n",
      "x2 = 4.70\n",
      "x3 = 0.87\n",
      "x4 = -2.56\n",
      "x5 = -1.44\n"
     ]
    }
   ],
   "source": [
    "import numpy as np\n",
    "\n",
    "# Coefficient matrix A\n",
    "A = np.array([\n",
    "    [2, 3, 4, 8, 0],\n",
    "    [-1, 2, 0, -3, 6],\n",
    "    [0, 1, 2, 0, 1],\n",
    "    [1, 0, 0, 0, 1],\n",
    "    [3, -2, 1, 4, -1]\n",
    "])\n",
    "\n",
    "\n",
    "# Constants vector B\n",
    "B = np.array([8, 3, 5, 4, -1])\n",
    "\n",
    "# Solve Ax = B\n",
    "solution = np.linalg.solve(A, B)\n",
    "\n",
    "print(f\"x1 = {solution[0]:.2f}\")\n",
    "print(f\"x2 = {solution[1]:.2f}\")\n",
    "print(f\"x3 = {solution[2]:.2f}\")\n",
    "print(f\"x4 = {solution[3]:.2f}\")\n",
    "print(f\"x5 = {solution[4]:.2f}\")"
   ]
  },
  {
   "cell_type": "markdown",
   "id": "b7a110a0-e3bc-4401-8761-a8a2415fc276",
   "metadata": {},
   "source": [
    "# APPLICATION: Finding Tension in Cables Supporting a Hanging Mass\n",
    "Consider a mass *m* hanging from a point, supported by two cables. Cable 1 makes an angle $\\theta_{1}$ with the horizontal, and Cable 2 makes an angle $\\theta_{2}$ with the horizontal. The goal is to find the tension in each cable, $T_{1}$ and $T_{2}$.\n",
    "\n",
    "![MASS HANG](images/mass_hang.png)"
   ]
  },
  {
   "cell_type": "code",
   "execution_count": 2,
   "id": "8a23137c-9c0c-45cd-904d-8b824fd3bdce",
   "metadata": {},
   "outputs": [
    {
     "name": "stdout",
     "output_type": "stream",
     "text": [
      "Tension in Cable 1 (T1): 193.50\n",
      "Tension in Cable 2 (T2): 157.99\n"
     ]
    }
   ],
   "source": [
    "# lets solve above using linalg library\n",
    "import numpy as np\n",
    "\n",
    "# Given values\n",
    "mass = 22  # kg or lbs, depending on the problem context\n",
    "g = 9.81  # m/s^2 (acceleration due to gravity)\n",
    "theta1_deg = 45  # degrees\n",
    "theta2_deg = 30  # degrees\n",
    "\n",
    "# Convert angles to radians\n",
    "theta1_rad = np.radians(theta1_deg)\n",
    "theta2_rad = np.radians(theta2_deg)\n",
    "\n",
    "# Calculate weight\n",
    "weight = mass * g\n",
    "\n",
    "\n",
    "# Equation 1 for x-axis: -T1*cos(theta1) + T2*cos(theta2) = 0\n",
    "# Equation 2 for y-axis: T1*sin(theta1) + T2*sin(theta2) = weight\n",
    "\n",
    "A = np.array([\n",
    "    [-np.cos(theta1_rad), np.cos(theta2_rad)],\n",
    "    [np.sin(theta1_rad), np.sin(theta2_rad)]\n",
    "])\n",
    "\n",
    "B = np.array([0, weight])\n",
    "\n",
    "# Solve for T1 and T2\n",
    "tensions = np.linalg.solve(A, B)\n",
    "\n",
    "T1 = tensions[0]\n",
    "T2 = tensions[1]\n",
    "\n",
    "print(f\"Tension in Cable 1 (T1): {T1:.2f}\")\n",
    "print(f\"Tension in Cable 2 (T2): {T2:.2f}\")"
   ]
  },
  {
   "cell_type": "markdown",
   "id": "cf8fcfd6-b008-42f6-95e5-9c0a243c70e8",
   "metadata": {},
   "source": [
    "# 3D equilibrium problem\n",
    "Solving for Unknown Forces\n",
    "Scenario:\n",
    "An object is in static equilibrium, supported by three cables. The tensions in the three cables must sum up to balance the load and keep the object still.\n",
    "![3D_equilibrium](images/3D_equilibrium.png)\n",
    "\n",
    "source: https://www.sjsu.edu/people/steven.vukazich/docs/95.2.10%203D%20equilibrium%20of%20a%20point.pdf\n",
    "\n",
    "We get following 3 equations governing the equilibrium:\n",
    "```\n",
    "F_AB, tension along AB\n",
    "F_AC, tension along AC\n",
    "F_AD, tension along AD\n",
    "\n",
    "-0.60F_AB + 0.324F_AC          = 0\n",
    "-0.80F_AB - 0.757F_AC - 0.862F_AD = -800\n",
    "            0.568F_AC - 0.508F_AD = 0\n",
    "\n",
    "```\n"
   ]
  },
  {
   "cell_type": "code",
   "execution_count": 6,
   "id": "c58267a9-5c81-4f08-ad99-08e29f2a1ac0",
   "metadata": {},
   "outputs": [
    {
     "name": "stdout",
     "output_type": "stream",
     "text": [
      "Tensions in the cables:\n",
      "F_AB = 200.67 KN\n",
      "F_AC = 371.61 KN\n",
      "F_AD = 415.50 KN\n"
     ]
    }
   ],
   "source": [
    "import numpy as np\n",
    "\n",
    "# # Coefficient matrix A\n",
    "# A = np.array([\n",
    "#     [1, 1, 1],\n",
    "#     [2, -1, 3],\n",
    "#     [-1, 4, 1]\n",
    "# ])\n",
    "\n",
    "# # Constants vector B\n",
    "# B = np.array([10, 5, 7])\n",
    "\n",
    "# Coefficient matrix A\n",
    "A = np.array([\n",
    "    [-0.60, 0.324, 0],\n",
    "    [-0.8, -0.757, -0.862],\n",
    "    [0, 0.568, -0.508]\n",
    "])\n",
    "\n",
    "# Constants vector B\n",
    "B = np.array([0, -800, 0])\n",
    "\n",
    "\n",
    "\n",
    "# Solve Ax = B\n",
    "solution = np.linalg.solve(A, B)\n",
    "\n",
    "# Display the solution\n",
    "print(\"Tensions in the cables:\")\n",
    "print(f\"F_AB = {solution[0]:.2f} KN\")\n",
    "print(f\"F_AC = {solution[1]:.2f} KN\")\n",
    "print(f\"F_AD = {solution[2]:.2f} KN\")\n"
   ]
  },
  {
   "cell_type": "markdown",
   "id": "d96258a6-eb5e-4eaf-8e9d-3d57b50f46c4",
   "metadata": {},
   "source": [
    "![3D_equilibrium](images/3D_equilibrium_result.png)\n",
    "source: https://www.sjsu.edu/people/steven.vukazich/docs/95.2.10%203D%20equilibrium%20of%20a%20point.pdf"
   ]
  },
  {
   "cell_type": "code",
   "execution_count": null,
   "id": "91b0bcce-49fb-411a-9cac-e481430eea3c",
   "metadata": {},
   "outputs": [],
   "source": []
  }
 ],
 "metadata": {
  "kernelspec": {
   "display_name": "Python 3 (ipykernel)",
   "language": "python",
   "name": "python3"
  },
  "language_info": {
   "codemirror_mode": {
    "name": "ipython",
    "version": 3
   },
   "file_extension": ".py",
   "mimetype": "text/x-python",
   "name": "python",
   "nbconvert_exporter": "python",
   "pygments_lexer": "ipython3",
   "version": "3.12.7"
  }
 },
 "nbformat": 4,
 "nbformat_minor": 5
}
