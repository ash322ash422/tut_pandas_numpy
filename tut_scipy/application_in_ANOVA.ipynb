{
  "cells": [
    {
      "cell_type": "code",
      "execution_count": null,
      "metadata": {
        "id": "QtDJP-3GHJRS"
      },
      "outputs": [],
      "source": [
        "# For detailed explanation see the powerpoint/one notes\n",
        "import scipy.stats as stats\n",
        "\n",
        "# Example test scores for 3 groups\n",
        "method_A = [85, 90, 88, 75, 95]\n",
        "method_B = [78, 82, 85, 80, 79]\n",
        "method_C = [92, 88, 84, 91, 87]\n",
        "\n",
        "# One-Way ANOVA\n",
        "F_statistic, p_value = stats.f_oneway(method_A, method_B, method_C)\n",
        "\n",
        "print(\"F-statistic:\", F_statistic)\n",
        "print(\"p-value:\", p_value)\n"
      ]
    }
  ],
  "metadata": {
    "colab": {
      "private_outputs": true,
      "provenance": []
    },
    "kernelspec": {
      "display_name": "Python 3",
      "name": "python3"
    },
    "language_info": {
      "name": "python"
    }
  },
  "nbformat": 4,
  "nbformat_minor": 0
}
