{
 "cells": [
  {
   "cell_type": "code",
   "execution_count": 2,
   "metadata": {
    "id": "QtDJP-3GHJRS"
   },
   "outputs": [
    {
     "name": "stdout",
     "output_type": "stream",
     "text": [
      "F-statistic: 3.2278\n",
      "P-value: 0.0756\n",
      "Reject Null Hypothesis? No\n"
     ]
    }
   ],
   "source": [
    "# For detailed explanation see the powerpoint/one notes\n",
    "import scipy.stats as stats\n",
    "\n",
    "# Test scores for each teaching method\n",
    "method_A = [85, 90, 88, 75, 95]\n",
    "method_B = [78, 82, 85, 80, 79]\n",
    "method_C = [92, 88, 84, 91, 87]\n",
    "\n",
    "# Perform one-way ANOVA\n",
    "f_stat, p_value = stats.f_oneway(method_A, method_B, method_C)\n",
    "\n",
    "# Output results\n",
    "print(f\"F-statistic: {f_stat:.4f}\")\n",
    "print(f\"P-value: {p_value:.4f}\")\n",
    "\n",
    "# Decision at alpha = 0.05\n",
    "alpha = 0.05\n",
    "print(\"Reject Null Hypothesis?\" , \"Yes\" if p_value < alpha else \"No\")\n"
   ]
  },
  {
   "cell_type": "code",
   "execution_count": null,
   "metadata": {},
   "outputs": [],
   "source": []
  }
 ],
 "metadata": {
  "colab": {
   "private_outputs": true,
   "provenance": []
  },
  "kernelspec": {
   "display_name": "Python 3 (ipykernel)",
   "language": "python",
   "name": "python3"
  },
  "language_info": {
   "codemirror_mode": {
    "name": "ipython",
    "version": 3
   },
   "file_extension": ".py",
   "mimetype": "text/x-python",
   "name": "python",
   "nbconvert_exporter": "python",
   "pygments_lexer": "ipython3",
   "version": "3.9.9"
  }
 },
 "nbformat": 4,
 "nbformat_minor": 4
}
