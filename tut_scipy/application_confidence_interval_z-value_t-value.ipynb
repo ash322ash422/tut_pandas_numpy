{
 "cells": [
  {
   "cell_type": "code",
   "execution_count": null,
   "id": "16dfdd4a-5b97-478b-9ce8-555e36334869",
   "metadata": {},
   "outputs": [],
   "source": [
    "For following , see powerpoint slides on how to solve the problems with paper and pencil"
   ]
  },
  {
   "cell_type": "markdown",
   "id": "516adefb-ddac-4a95-8af0-ac5f1f857799",
   "metadata": {},
   "source": [
    "# 1\n",
    "A quality control engineer wants to estimate the average time (in days) required to calibrate and certify a batch of precision measurement instruments in a laboratory. A random sample of 50 instruments showed an average calibration time of 54 days. Assume the population standard deviation is 6.0 days.\n",
    "- Find the 95% confidence interval for the population mean calibration time.\n",
    "- Find the 99% confidence interval for the population mean calibration time.\n",
    "\n",
    "**NOTE: We use z-value because sample size > 30**"
   ]
  },
  {
   "cell_type": "code",
   "execution_count": 4,
   "id": "b1209481-8893-4380-b8e9-3bf733f4f627",
   "metadata": {},
   "outputs": [
    {
     "name": "stdout",
     "output_type": "stream",
     "text": [
      "95% Confidence Interval: (52.34, 55.66)\n",
      "99% Confidence Interval: (51.81, 56.19)\n"
     ]
    }
   ],
   "source": [
    "import numpy as np\n",
    "from scipy.stats import norm\n",
    "\n",
    "# Given values\n",
    "sample_mean = 54\n",
    "sigma = 6.0\n",
    "n = 50\n",
    "\n",
    "# Standard error\n",
    "se = sigma / np.sqrt(n)\n",
    "\n",
    "conf = 0.95\n",
    "alpha = 1 - conf\n",
    "z_score = norm.ppf(1 - (alpha) / 2)  # z critical value\n",
    "margin_of_error = z_score * se\n",
    "ci_lower = sample_mean - margin_of_error\n",
    "ci_upper = sample_mean + margin_of_error\n",
    "print(f\"{int(conf*100)}% Confidence Interval: ({ci_lower:.2f}, {ci_upper:.2f})\")\n",
    "\n",
    "##################\n",
    "\n",
    "conf = 0.99\n",
    "alpha = 1 - conf\n",
    "z_score = norm.ppf(1 - (alpha) / 2)  # z critical value\n",
    "margin_of_error = z_score * se\n",
    "ci_lower = sample_mean - margin_of_error\n",
    "ci_upper = sample_mean + margin_of_error\n",
    "print(f\"{int(conf*100)}% Confidence Interval: ({ci_lower:.2f}, {ci_upper:.2f})\")\n",
    "\n"
   ]
  },
  {
   "cell_type": "markdown",
   "id": "7e47875c-840c-4e53-bde9-1a16fb134b61",
   "metadata": {},
   "source": [
    "# 2\n",
    "An aerospace engineer is estimating the average fuel consumption rate of an aircraft engine during cruise conditions. For flight planning and performance certification, the engineer needs 99% confidence that the estimate is within 2 gallons per hour of the true mean consumption rate. Flight test data shows a standard deviation of 4.3 gallons per hour. How many minimum samples he needs?"
   ]
  },
  {
   "cell_type": "code",
   "execution_count": 5,
   "id": "894177fe-511a-408b-9a2c-f0de997fc0a3",
   "metadata": {},
   "outputs": [
    {
     "name": "stdout",
     "output_type": "stream",
     "text": [
      "z-score=2.5758293035489004\n",
      "Minimum required sample size for 99% confidence: 31\n"
     ]
    }
   ],
   "source": [
    "from scipy.stats import norm\n",
    "import math\n",
    "\n",
    "# Given values\n",
    "confidence_level = 0.99\n",
    "sigma = 4.3\n",
    "margin_of_error = 2\n",
    "\n",
    "# Z critical value for 99% confidence\n",
    "z_score = norm.ppf(1 - (1 - confidence_level) / 2)\n",
    "print(f\"z-score={z_score}\")\n",
    "\n",
    "# Sample size calculation\n",
    "n = (z_score * sigma / margin_of_error) ** 2\n",
    "\n",
    "# Always round up to ensure the margin of error is satisfied\n",
    "n_required = math.ceil(n)\n",
    "\n",
    "print(f\"Minimum required sample size for 99% confidence: {n_required}\")\n"
   ]
  },
  {
   "cell_type": "markdown",
   "id": "4f069aac-73f2-48a3-9d58-1ca7d094b22c",
   "metadata": {},
   "source": [
    "# 3\n",
    "A quality control engineer wants to estimate the average time (in days) required to calibrate and certify a batch of precision measurement instruments in a laboratory. A random sample of 24 instruments showed an average calibration time of 54 days. Assume the samples standard deviation is 6.0 days.\n",
    "- Find the 95% confidence interval for the population mean calibration time.\n",
    "- Find the 99% confidence interval for the population mean calibration time.\n",
    " \n",
    "**NOTE: We use t-value because sample size < 30**"
   ]
  },
  {
   "cell_type": "code",
   "execution_count": 1,
   "id": "c834cf4c-7c91-4c0b-b0eb-67df5385ac93",
   "metadata": {},
   "outputs": [
    {
     "name": "stdout",
     "output_type": "stream",
     "text": [
      "95% Confidence Interval: (51.47, 56.53)\n",
      "99% Confidence Interval: (50.56, 57.44)\n"
     ]
    }
   ],
   "source": [
    "import numpy as np\n",
    "from scipy.stats import t\n",
    "\n",
    "# Given values\n",
    "sample_mean = 54\n",
    "sample_std = 6.0\n",
    "n = 24\n",
    "df = n - 1  # degrees of freedom\n",
    "\n",
    "se = sample_std / np.sqrt(n) # Standard error\n",
    "\n",
    "conf = 0.95 # Confidence levels\n",
    "alpha = 1 - conf\n",
    "t_score = t.ppf(1 - alpha / 2, df)\n",
    "margin_of_error = t_score * se\n",
    "ci_lower = sample_mean - margin_of_error\n",
    "ci_upper = sample_mean + margin_of_error\n",
    "print(f\"{int(conf*100)}% Confidence Interval: ({ci_lower:.2f}, {ci_upper:.2f})\")\n",
    "\n",
    "##################################\n",
    "\n",
    "conf = 0.99 # Confidence levels\n",
    "alpha = 1 - conf\n",
    "t_score = t.ppf(1 - alpha / 2, df)\n",
    "margin_of_error = t_score * se\n",
    "ci_lower = sample_mean - margin_of_error\n",
    "ci_upper = sample_mean + margin_of_error\n",
    "print(f\"{int(conf*100)}% Confidence Interval: ({ci_lower:.2f}, {ci_upper:.2f})\")"
   ]
  },
  {
   "cell_type": "code",
   "execution_count": null,
   "id": "e0de3524-f6cc-4e64-9b1d-73156fb35294",
   "metadata": {},
   "outputs": [],
   "source": []
  }
 ],
 "metadata": {
  "kernelspec": {
   "display_name": "Python 3 (ipykernel)",
   "language": "python",
   "name": "python3"
  },
  "language_info": {
   "codemirror_mode": {
    "name": "ipython",
    "version": 3
   },
   "file_extension": ".py",
   "mimetype": "text/x-python",
   "name": "python",
   "nbconvert_exporter": "python",
   "pygments_lexer": "ipython3",
   "version": "3.12.7"
  }
 },
 "nbformat": 4,
 "nbformat_minor": 5
}
