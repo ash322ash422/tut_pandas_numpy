{
 "cells": [
  {
   "cell_type": "markdown",
   "id": "03925534-6148-4e69-b697-fcbd4d3bee26",
   "metadata": {},
   "source": [
    "## roots\n",
    "numpy.roots works directly for polynomials and gives all roots at once, real and complex."
   ]
  },
  {
   "cell_type": "code",
   "execution_count": 11,
   "id": "dd0f9997-957a-4515-bb19-f74791461c1e",
   "metadata": {},
   "outputs": [
    {
     "name": "stdout",
     "output_type": "stream",
     "text": [
      "Roots: [2. 1.]\n"
     ]
    }
   ],
   "source": [
    "# solve : x^2 - 3x + 2 = 0, we know the roots are x=1,2\n",
    "import numpy as np\n",
    "\n",
    "# Coefficients of x^2 - 3x + 2\n",
    "coeffs = [1, -3, 2]\n",
    "\n",
    "roots = np.roots(coeffs)\n",
    "print(f\"Roots: {roots}\")"
   ]
  },
  {
   "cell_type": "code",
   "execution_count": 4,
   "id": "8a588901-d3bf-4bb8-8d5b-e89dc49eb010",
   "metadata": {},
   "outputs": [
    {
     "name": "stdout",
     "output_type": "stream",
     "text": [
      "Polynomial coefficients: [   1.  -11.   23.   83. -276.  180.]\n"
     ]
    }
   ],
   "source": [
    "# STEP1: Lets generate an equation that has roots: [2, -3, 5, 1, 6]\n",
    "import numpy as np\n",
    "\n",
    "# Given roots\n",
    "roots = [2, -3, 5, 1, 6]\n",
    "\n",
    "# Generate polynomial coefficients from roots\n",
    "coeffs = np.poly(roots)  # Returns coefficients of the polynomial\n",
    "\n",
    "print(f\"Polynomial coefficients: {coeffs}\")\n",
    "\n",
    "# # Now find the roots again (should match original)\n",
    "# calculated_roots = np.roots(coeffs)\n",
    "# print(f\"Roots: {calculated_roots}\")"
   ]
  },
  {
   "cell_type": "code",
   "execution_count": 3,
   "id": "7e25a7fe-0baf-4b0d-8ff1-bf926842ae18",
   "metadata": {},
   "outputs": [
    {
     "name": "stdout",
     "output_type": "stream",
     "text": [
      "Roots: [-3.  6.  5.  2.  1.]\n"
     ]
    }
   ],
   "source": [
    "# STEP2: Now find the roots again (should match original)\n",
    "# solve : x^5 -11x^4 + 23x^3 + 83x^2 - 276x^1 + 180 = 0\n",
    "\n",
    "# Coefficients of x^5 -11x^4 + 23x^3 + 83x^2 - 276x^1 + 180\n",
    "coeffs = [1, -11, 23, 83, -276, 180]\n",
    "\n",
    "roots = np.roots(coeffs)\n",
    "print(f\"Roots: {roots}\")\n",
    "\n",
    "# GREAT..it matches"
   ]
  },
  {
   "cell_type": "code",
   "execution_count": 12,
   "id": "4c64f444-4cf0-4d44-ac24-f7736d732e15",
   "metadata": {},
   "outputs": [
    {
     "name": "stdout",
     "output_type": "stream",
     "text": [
      "Roots: [ 1.52137971+0.j         -0.76068985+0.85787363j -0.76068985-0.85787363j]\n"
     ]
    }
   ],
   "source": [
    "# Lets solve equation that has complex roots\n",
    "# solve x^3 - x - 2=0\n",
    "\n",
    "# Coefficients of x^3 - x - 2\n",
    "coeffs = [1, 0, -1, -2]\n",
    "\n",
    "roots = np.roots(coeffs)\n",
    "print(f\"Roots: {roots}\")"
   ]
  },
  {
   "cell_type": "markdown",
   "id": "9d8962eb-d382-420f-abff-552ba1a9cf85",
   "metadata": {},
   "source": [
    "## fsolve\n",
    "\n",
    "**scipy.optimize** is a SciPy module with many tools for optimization (minimizing or maximizing functions) and solving equations.\n",
    "\n",
    "**fsolve** is a numerical solver for finding the roots of (non-linear) equations. It uses numerical methods like the **Newton-Raphson method** under the hood.\n",
    "\n",
    "**Any time you can write “I want f(x) = 0 but I can’t solve it by hand”, fsolve is your friend.**"
   ]
  },
  {
   "cell_type": "markdown",
   "id": "0921f84a-7019-43b6-b002-bd7156c2d452",
   "metadata": {},
   "source": [
    "### part1\n",
    "Lets solve quad equations whose roots we know: x=1,2\n",
    "- y =  x^2 - 3x + 2 "
   ]
  },
  {
   "cell_type": "code",
   "execution_count": 8,
   "id": "7a566790-2c0e-49dd-a8bd-a48a090dc57d",
   "metadata": {},
   "outputs": [
    {
     "data": {
      "image/png": "[encoded data removed]",
      "text/plain": [
       "<Figure size 800x500 with 1 Axes>"
      ]
     },
     "metadata": {},
     "output_type": "display_data"
    }
   ],
   "source": [
    "# Lets plot the curve first so we know how it looks\n",
    "import numpy as np\n",
    "import matplotlib.pyplot as plt\n",
    "\n",
    "# Define the quadratic function\n",
    "def quadratic(x):\n",
    "    return x**2 - 3*x + 2\n",
    "\n",
    "# Create an array of x values\n",
    "x = np.linspace(0, 4, 400)  # x from 0 to 4 with 400 points\n",
    "y = quadratic(x)\n",
    "\n",
    "# Plot the function\n",
    "plt.figure(figsize=(8, 5))\n",
    "plt.plot(x, y, label=r'$y = x^2 - 3x + 2$', color='blue')\n",
    "\n",
    "# Add x-axis and y-axis\n",
    "plt.axhline(0, color='black', linewidth=0.8)\n",
    "plt.axvline(0, color='black', linewidth=0.8)\n",
    "\n",
    "# Labels and title\n",
    "plt.title('Plot of $y = x^2 - 3x + 2$')\n",
    "plt.xlabel('x')\n",
    "plt.ylabel('y')\n",
    "\n",
    "# Add grid and legend\n",
    "plt.grid(True)\n",
    "plt.legend()\n",
    "\n",
    "# Show the plot\n",
    "plt.show()\n"
   ]
  },
  {
   "cell_type": "markdown",
   "id": "38144c77-ca3b-41b2-a956-1f85db7000c2",
   "metadata": {},
   "source": [
    "### we see that roots are 1 and 2"
   ]
  },
  {
   "cell_type": "code",
   "execution_count": 10,
   "id": "1a5baced-eaa0-4d25-9b61-5d6722486992",
   "metadata": {},
   "outputs": [
    {
     "name": "stdout",
     "output_type": "stream",
     "text": [
      "Root1: 2.0000\n",
      "Root2: 1.0000\n"
     ]
    }
   ],
   "source": [
    "# Now we solve above using fsolve\n",
    "from scipy.optimize import fsolve\n",
    "\n",
    "# Example: solve x^2 - 3x + 2 = 0\n",
    "# Here the roots are x=2,1\n",
    "def equation(x):\n",
    "    return x**2 - 3*x + 2\n",
    "\n",
    "root1 = fsolve(equation, x0=1.6) # Initial guess near x = 2\n",
    "root2 = fsolve(equation, x0=0.5) # Initial guess near x = 1\n",
    "\n",
    "print(f\"Root1: {root1[0]:.4f}\")\n",
    "print(f\"Root2: {root2[0]:.4f}\")"
   ]
  },
  {
   "cell_type": "code",
   "execution_count": 5,
   "id": "e106c823-321e-435a-bd4e-b8764e6bec0b",
   "metadata": {},
   "outputs": [
    {
     "name": "stdout",
     "output_type": "stream",
     "text": [
      "Root1: 2.0000\n",
      "Root2: 1.0000\n"
     ]
    }
   ],
   "source": [
    "# (OPTIONAL) NOTE: I can use lambda to solve above\n",
    "from scipy.optimize import fsolve\n",
    "\n",
    "# Solve x^2 - 3x + 2 = 0 using a lambda function\n",
    "root1 = fsolve(lambda x: x**2 - 3*x + 2, x0=1.6)  # Initial guess near x = 2\n",
    "root2 = fsolve(lambda x: x**2 - 3*x + 2, x0=0.5)  # Initial guess near x = 1\n",
    "\n",
    "print(f\"Root1: {root1[0]:.4f}\")\n",
    "print(f\"Root2: {root2[0]:.4f}\")\n"
   ]
  },
  {
   "cell_type": "markdown",
   "id": "d193c5ad-545c-4a69-bb2b-3ad426537e03",
   "metadata": {},
   "source": [
    "## part2\n",
    "Lets solve y = x^3 - x - 2\n",
    "\n",
    "We know that this has complex roots.\n"
   ]
  },
  {
   "cell_type": "code",
   "execution_count": 1,
   "id": "3291976c-8089-462a-b653-2d0f7cf61a07",
   "metadata": {},
   "outputs": [
    {
     "name": "stdout",
     "output_type": "stream",
     "text": [
      "Root of equation: 1.5214\n"
     ]
    }
   ],
   "source": [
    "from scipy.optimize import fsolve\n",
    "\n",
    "# Example: solve x^3 - x - 2 = 0\n",
    "def equation(x):\n",
    "    return x**3 - x - 2\n",
    "\n",
    "root = fsolve(equation, x0=1.5)  # Initial guess\n",
    "print(f\"Root of equation: {root[0]:.4f}\")\n",
    "\n",
    "# NOTE: a good starting point is important — bad guesses may lead to no solution or the wrong root."
   ]
  },
  {
   "cell_type": "markdown",
   "id": "e82540a7-77c7-4335-9f96-a5eefdb35747",
   "metadata": {},
   "source": [
    "## part3\n",
    "you have a complex equation that relates pressure and temperature via the Antoine equation:\n",
    "\n",
    "### Antoine Equation Example\n",
    "\n",
    "**Objective:** Find the boiling point of water at 1 atm using the Antoine equation.\n",
    "\n",
    "The Antoine equation is:\n",
    "\n",
    "$$\n",
    "P = 10^{\\left( A - \\frac{B}{T + C} \\right)}\n",
    "$$\n",
    "\n",
    "or\n",
    "\n",
    "$$\n",
    "10^{\\left( A - \\frac{B}{T + C} \\right)} - P = 0\n",
    "$$\n",
    "\n",
    "\n",
    "where:\n",
    "- P  = vapor pressure (mmHg)  \n",
    "- T = temperature (°C)  \n",
    "- A, B, C = substance-specific constants\n",
    "\n",
    "**For water (approximate values):**\n",
    "- A = 8.07131 \n",
    "- B = 1730.63\n",
    "- C = 233.426\n",
    "\n",
    "We want to solve for T  when P = 760  mmHg (1 atm).\n",
    "\n",
    "**NOTE: It is not easy to find T using pencil and paper because of non-linear relation between P and T**"
   ]
  },
  {
   "cell_type": "code",
   "execution_count": 6,
   "id": "f9478ac5-c317-4d37-860b-d7fc5bb0e72b",
   "metadata": {},
   "outputs": [
    {
     "name": "stdout",
     "output_type": "stream",
     "text": [
      "Boiling point: 100.00 °C\n"
     ]
    }
   ],
   "source": [
    "# version1: Here A,B,C are hard coded in function\n",
    "from scipy.optimize import fsolve\n",
    "\n",
    "def antoine_equation(T):\n",
    "    A, B, C = 8.07131, 1730.63, 233.426  # water example\n",
    "    P_given = 760  # mmHg (1 atm)\n",
    "    return 10**(A - B / (T + C)) - P_given\n",
    "\n",
    "boiling_point = fsolve(antoine_equation, x0=100)\n",
    "print(f\"Boiling point: {boiling_point[0]:.2f} °C\")\n"
   ]
  },
  {
   "cell_type": "code",
   "execution_count": 7,
   "id": "adcd2d7a-84db-429d-876a-d2385f96fb4b",
   "metadata": {},
   "outputs": [
    {
     "name": "stdin",
     "output_type": "stream",
     "text": [
      "Enter A:  8\n",
      "Enter B:  1730\n",
      "Enter C:  233\n"
     ]
    },
    {
     "name": "stdout",
     "output_type": "stream",
     "text": [
      "Boiling point: 104.94 °C\n"
     ]
    }
   ],
   "source": [
    "# version2: Here A,B,C are are supplied by user\n",
    "from scipy.optimize import fsolve\n",
    "\n",
    "# Antoine equation solver accepting A, B, C\n",
    "def antoine_equation(A, B, C, P_given=760):\n",
    "    equation = lambda T: 10**(A - B / (T + C)) - P_given\n",
    "    boiling_point = fsolve(equation, x0=100)\n",
    "    return boiling_point[0]\n",
    "\n",
    "# Example: for water: A, B, C = 8.07131, 1730.63, 233.426\n",
    "A = float(input(\"Enter A: \"))\n",
    "B = float(input(\"Enter B: \"))\n",
    "C = float(input(\"Enter C: \"))\n",
    "# A, B, C = 8.07131, 1730.63, 233.426 \n",
    "\n",
    "bp = antoine_equation(A, B, C)\n",
    "print(f\"Boiling point: {bp:.2f} °C\")\n"
   ]
  },
  {
   "cell_type": "markdown",
   "id": "c2567299-7219-4019-b923-c506e3340fd8",
   "metadata": {},
   "source": [
    "## part4\n",
    "Solve:  \n",
    "cos(x) = x\n",
    "\n",
    "=> cos(x) − x = 0"
   ]
  },
  {
   "cell_type": "code",
   "execution_count": 19,
   "id": "6c7a1168-7bf9-460d-8018-a6216da57532",
   "metadata": {},
   "outputs": [
    {
     "data": {
      "image/png": "[encoded data removed]",
      "text/plain": [
       "<Figure size 800x500 with 1 Axes>"
      ]
     },
     "metadata": {},
     "output_type": "display_data"
    }
   ],
   "source": [
    "# version1: \n",
    "# Lets plot y=cos(x) and y=x on same graph and see where they meet. This meeting point would be the solution.\n",
    "import numpy as np\n",
    "import matplotlib.pyplot as plt\n",
    "\n",
    "# Create x values\n",
    "x = np.linspace(0, 1, 400)\n",
    "y1 = np.cos(x)\n",
    "y2 = x\n",
    "\n",
    "# Plot\n",
    "plt.figure(figsize=(8, 5))\n",
    "plt.plot(x, y1, label=r'$y = \\cos(x)$', color='blue')\n",
    "plt.plot(x, y2, label=r'$y = x$', color='red')\n",
    "\n",
    "\n",
    "# Labels and styling\n",
    "plt.title('Intersection of $y = \\cos(x)$ and $y = x$')\n",
    "plt.xlabel('x')\n",
    "plt.ylabel('y')\n",
    "plt.axhline(0, color='black', linewidth=0.5)\n",
    "plt.axvline(0, color='black', linewidth=0.5)\n",
    "plt.legend()\n",
    "plt.grid(True)\n",
    "plt.show()"
   ]
  },
  {
   "cell_type": "markdown",
   "id": "33f86068-c48a-4682-8536-0eeb2a1a0cbe",
   "metadata": {},
   "source": [
    "#### seems like they meet between 0.7 and 0.8"
   ]
  },
  {
   "cell_type": "code",
   "execution_count": 8,
   "id": "8a1e09e8-1cf4-4c7a-881c-09c8ed6d0fb0",
   "metadata": {},
   "outputs": [
    {
     "name": "stdout",
     "output_type": "stream",
     "text": [
      "Root of cos(x) - x = 0: 0.7391\n"
     ]
    }
   ],
   "source": [
    "# version2: Find the accurate answer using fsolve\n",
    "from scipy.optimize import fsolve\n",
    "import numpy as np\n",
    "\n",
    "# Define the function f(x) = cos(x) - x\n",
    "def equation(x):\n",
    "    return np.cos(x) - x\n",
    "\n",
    "# Use fsolve with an initial guess near the root\n",
    "root = fsolve(equation, x0=0.5)\n",
    "\n",
    "print(f\"Root of cos(x) - x = 0: {root[0]:.4f}\")"
   ]
  },
  {
   "cell_type": "code",
   "execution_count": null,
   "id": "844ae000-7fac-423b-acb4-e7569faee450",
   "metadata": {},
   "outputs": [],
   "source": []
  }
 ],
 "metadata": {
  "kernelspec": {
   "display_name": "Python 3 (ipykernel)",
   "language": "python",
   "name": "python3"
  },
  "language_info": {
   "codemirror_mode": {
    "name": "ipython",
    "version": 3
   },
   "file_extension": ".py",
   "mimetype": "text/x-python",
   "name": "python",
   "nbconvert_exporter": "python",
   "pygments_lexer": "ipython3",
   "version": "3.12.7"
  }
 },
 "nbformat": 4,
 "nbformat_minor": 5
}
