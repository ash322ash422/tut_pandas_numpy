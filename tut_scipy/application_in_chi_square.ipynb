{
  "cells": [
    {
      "cell_type": "code",
      "execution_count": null,
      "metadata": {
        "colab": {
          "base_uri": "https://localhost:8080/"
        },
        "id": "QtDJP-3GHJRS",
        "outputId": "5bf58400-d395-43bf-d211-add3015102b8"
      },
      "outputs": [
        {
          "name": "stdout",
          "output_type": "stream",
          "text": [
            "Chi-Square Statistic: 15.041666666666668\n",
            "Degrees of Freedom: 1\n",
            "P-Value: 0.00010516355403363114\n",
            "Expected Frequencies:\n",
            " [[20. 30.]\n",
            " [20. 30.]]\n",
            "Reject the null hypothesis: There is a significant association.\n"
          ]
        }
      ],
      "source": [
        "# TEST FOR INDEPENDENCE\n",
        "import numpy as np\n",
        "from scipy.stats import chi2_contingency\n",
        "\n",
        "# Step 1: Create the contingency table (Observed frequencies)\n",
        "data = np.array([\n",
        "    # LIKE, DISLIKE product\n",
        "    [30, 20],  # Male\n",
        "    [10, 40]   # Female\n",
        "])\n",
        "\n",
        "# Step 2: Perform the Chi-Square Test\n",
        "chi2, p, dof, expected = chi2_contingency(data)\n",
        "\n",
        "# Step 3: Print results\n",
        "print(\"Chi-Square Statistic:\", chi2)\n",
        "print(\"Degrees of Freedom:\", dof)\n",
        "print(\"P-Value:\", p)\n",
        "print(\"Expected Frequencies:\\n\", expected)\n",
        "\n",
        "# Step 4: Interpret result\n",
        "alpha = 0.05\n",
        "if p < alpha:\n",
        "    print(\"Reject the null hypothesis: There is a significant association.\")\n",
        "else:\n",
        "    print(\"Fail to reject the null hypothesis: No significant association.\")\n"
      ]
    }
  ],
  "metadata": {
    "colab": {
      "provenance": []
    },
    "kernelspec": {
      "display_name": "Python 3",
      "name": "python3"
    },
    "language_info": {
      "name": "python"
    }
  },
  "nbformat": 4,
  "nbformat_minor": 0
}
