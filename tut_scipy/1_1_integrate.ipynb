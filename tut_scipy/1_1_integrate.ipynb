{
 "cells": [
  {
   "cell_type": "markdown",
   "id": "9f0ac693-f1ea-4ccb-b7ed-cc5a3f9da33d",
   "metadata": {},
   "source": [
    "# SCIPY\n",
    "SciPy is one of the most important Python libraries for scientific and engineering applications — it builds on NumPy and provides a wide range of methods for numerical integration, optimization, signal processing, interpolation, linear algebra, and more."
   ]
  },
  {
   "cell_type": "code",
   "execution_count": 1,
   "id": "a36ed9b8-8983-4583-a970-3a823a89a056",
   "metadata": {},
   "outputs": [
    {
     "name": "stdout",
     "output_type": "stream",
     "text": [
      "Integral result: 2.6667, Estimated error: 2.9606e-14\n"
     ]
    }
   ],
   "source": [
    "import numpy as np\n",
    "from scipy import integrate\n",
    "\n",
    "# Example: Integrate f(x) = x^2 from 0 to 2\n",
    "f = lambda x: x**2\n",
    "result, error = integrate.quad(f, 0, 2)\n",
    "\n",
    "print(f\"Integral result: {result:.4f}, Estimated error: {error:.4e}\")\n"
   ]
  },
  {
   "cell_type": "code",
   "execution_count": null,
   "id": "8e5bdef6-49fe-4f36-bde3-d2cd94d7a29f",
   "metadata": {},
   "outputs": [],
   "source": []
  }
 ],
 "metadata": {
  "kernelspec": {
   "display_name": "Python 3 (ipykernel)",
   "language": "python",
   "name": "python3"
  },
  "language_info": {
   "codemirror_mode": {
    "name": "ipython",
    "version": 3
   },
   "file_extension": ".py",
   "mimetype": "text/x-python",
   "name": "python",
   "nbconvert_exporter": "python",
   "pygments_lexer": "ipython3",
   "version": "3.9.9"
  }
 },
 "nbformat": 4,
 "nbformat_minor": 5
}
