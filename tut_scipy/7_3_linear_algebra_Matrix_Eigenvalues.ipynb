{
 "cells": [
  {
   "cell_type": "code",
   "execution_count": 1,
   "id": "a1a9a16e-0d56-4e4b-9234-f0ce865a0690",
   "metadata": {},
   "outputs": [
    {
     "name": "stdout",
     "output_type": "stream",
     "text": [
      "Solution x: [2. 3.]\n",
      "Inverse of A:\n",
      "[[ 0.4 -0.2]\n",
      " [-0.2  0.6]]\n",
      "Eigenvalues: [3.61803399+0.j 1.38196601+0.j]\n",
      "Eigenvectors:\n",
      "[[ 0.85065081 -0.52573111]\n",
      " [ 0.52573111  0.85065081]]\n"
     ]
    }
   ],
   "source": [
    "from scipy.linalg import solve, inv, eig\n",
    "import numpy as np\n",
    "\n",
    "# Solve Ax = b\n",
    "A = np.array([\n",
    "    [3, 1], \n",
    "    [1, 2]\n",
    "])\n",
    "b = np.array([9, 8])\n",
    "\n",
    "x = solve(A, b)\n",
    "print(f\"Solution x: {x}\")\n",
    "\n",
    "# Matrix inverse\n",
    "A_inv = inv(A)\n",
    "print(f\"Inverse of A:\\n{A_inv}\")\n",
    "\n",
    "# Eigenvalues and eigenvectors\n",
    "vals, vecs = eig(A)\n",
    "print(f\"Eigenvalues: {vals}\")\n",
    "print(f\"Eigenvectors:\\n{vecs}\")\n"
   ]
  },
  {
   "cell_type": "code",
   "execution_count": null,
   "id": "2dd7c408-91c7-414c-ae8d-bae35faee7f4",
   "metadata": {},
   "outputs": [],
   "source": []
  }
 ],
 "metadata": {
  "kernelspec": {
   "display_name": "Python 3 (ipykernel)",
   "language": "python",
   "name": "python3"
  },
  "language_info": {
   "codemirror_mode": {
    "name": "ipython",
    "version": 3
   },
   "file_extension": ".py",
   "mimetype": "text/x-python",
   "name": "python",
   "nbconvert_exporter": "python",
   "pygments_lexer": "ipython3",
   "version": "3.12.7"
  }
 },
 "nbformat": 4,
 "nbformat_minor": 5
}
