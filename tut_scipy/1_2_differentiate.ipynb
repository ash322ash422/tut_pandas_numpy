{
 "cells": [
  {
   "cell_type": "markdown",
   "id": "14c50e8f-0677-4ea6-b256-b915934c91ee",
   "metadata": {},
   "source": [
    "# differentiation\n",
    "**SciPy doesn’t have a built-in symbolic differentiation function — that’s the job of SymPy**. But SciPy does have powerful numerical differentiation tools for gradients, Jacobians, and finite differences, which are very practical for engineering and scientific computing."
   ]
  },
  {
   "cell_type": "code",
   "execution_count": 1,
   "id": "2baa9660-b348-444e-b633-62b1ad689179",
   "metadata": {},
   "outputs": [
    {
     "name": "stdout",
     "output_type": "stream",
     "text": [
      "Numerical derivative at x=3.0 is about 6.0000\n"
     ]
    },
    {
     "name": "stderr",
     "output_type": "stream",
     "text": [
      "C:\\Users\\hi\\AppData\\Local\\Temp\\ipykernel_13056\\3505833449.py:9: DeprecationWarning: scipy.misc.derivative is deprecated in SciPy v1.10.0; and will be completely removed in SciPy v1.12.0. You may consider using findiff: https://github.com/maroba/findiff or numdifftools: https://github.com/pbrod/numdifftools\n",
      "  dfdx = derivative(f, x0, dx=1e-6)\n"
     ]
    }
   ],
   "source": [
    "# Numerical Derivative with scipy.misc.derivative\n",
    "\n",
    "from scipy.misc import derivative\n",
    "\n",
    "# Example: f(x) = x^2, df/dx = 2x\n",
    "def f(x):\n",
    "    return x**2\n",
    "\n",
    "x0 = 3.0\n",
    "\n",
    "dfdx = derivative(f, x0, dx=1e-6)\n",
    "print(f\"Numerical derivative at x={x0} is about {dfdx:.4f}\")"
   ]
  },
  {
   "cell_type": "code",
   "execution_count": 5,
   "id": "ac08229a-8464-403c-8898-9f89be80259e",
   "metadata": {},
   "outputs": [
    {
     "name": "stdout",
     "output_type": "stream",
     "text": [
      "Symbolic derivative: 2*x + 3\n",
      "df/dx at x=5: 13\n",
      "df/dx at x=5 (float): 13.0000000000000\n"
     ]
    }
   ],
   "source": [
    "from sympy import symbols, diff\n",
    "\n",
    "x = symbols('x')\n",
    "f = x**2 + 3*x + 2\n",
    "\n",
    "# Symbolic derivative\n",
    "dfdx = diff(f, x)\n",
    "print(\"Symbolic derivative:\", dfdx)\n",
    "\n",
    "# Evaluate at x = 5\n",
    "numeric_value = dfdx.subs(x, 5)\n",
    "print(\"df/dx at x=5:\", numeric_value)  # exact value\n",
    "\n",
    "# Or as float\n",
    "print(\"df/dx at x=5 (float):\", numeric_value.evalf())\n"
   ]
  },
  {
   "cell_type": "code",
   "execution_count": null,
   "id": "bb0cdffc-cb72-42f2-8dc4-42862dff9c6c",
   "metadata": {},
   "outputs": [],
   "source": []
  }
 ],
 "metadata": {
  "kernelspec": {
   "display_name": "Python 3 (ipykernel)",
   "language": "python",
   "name": "python3"
  },
  "language_info": {
   "codemirror_mode": {
    "name": "ipython",
    "version": 3
   },
   "file_extension": ".py",
   "mimetype": "text/x-python",
   "name": "python",
   "nbconvert_exporter": "python",
   "pygments_lexer": "ipython3",
   "version": "3.9.9"
  }
 },
 "nbformat": 4,
 "nbformat_minor": 5
}
