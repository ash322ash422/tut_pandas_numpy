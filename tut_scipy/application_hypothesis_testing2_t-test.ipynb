{
 "cells": [
  {
   "cell_type": "markdown",
   "id": "015a0535-9ade-4aeb-9aa4-f449f087900a",
   "metadata": {},
   "source": [
    "# 1\n",
    "In a population of metal components, the average lifetime without a protective paint coating is 101 months. The lifetime is assumed to be normally distributed, but the population standard deviation is unknown.\u000b",
    "An engineer claims that applying the new protective paint coating increases the mean lifetime of the component beyond 101 months.\u000b",
    "She tests this claim by selecting a random sample of 20 components with the coating and finds that the sample mean lifetime is 107 months with a sample standard deviation of 8 months.\u000b",
    "Test the engineer’s claim at α=0.05.\n"
   ]
  },
  {
   "cell_type": "code",
   "execution_count": 2,
   "id": "783766f0-d54f-441a-b86a-e6f21587fcc8",
   "metadata": {},
   "outputs": [
    {
     "name": "stdout",
     "output_type": "stream",
     "text": [
      "t-statistic: 3.3541\n",
      "Degrees of freedom: 19\n",
      "P-value: 0.0017\n",
      "Reject Null Hypothesis? Yes\n"
     ]
    }
   ],
   "source": [
    "import scipy.stats as stats\n",
    "import numpy as np\n",
    "\n",
    "# Given values\n",
    "mu_0 = 101           # null hypothesis mean\n",
    "sample_mean = 107\n",
    "s = 8                # sample standard deviation\n",
    "n = 20\n",
    "alpha = 0.05\n",
    "\n",
    "t_stat = (sample_mean - mu_0) / (s / np.sqrt(n)) # Compute t-statistic\n",
    "\n",
    "df = n - 1 # Degrees of freedom\n",
    "\n",
    "# One-tailed p-value (right tail)\n",
    "p_value = 1 - stats.t.cdf(t_stat, df)\n",
    "\n",
    "reject_null = p_value < alpha # Decision\n",
    "\n",
    "print(f\"t-statistic: {t_stat:.4f}\")\n",
    "print(f\"Degrees of freedom: {df}\")\n",
    "print(f\"P-value: {p_value:.4f}\")\n",
    "print(\"Reject Null Hypothesis?\" , \"Yes\" if reject_null else \"No\")"
   ]
  },
  {
   "attachments": {},
   "cell_type": "markdown",
   "id": "93a475c7-2fad-4766-ac92-45f5ccc2236a",
   "metadata": {},
   "source": [
    "# 2\n",
    "A water treatment plant claims their new filtration system reduces contaminant levels to below 5 ppm (the historical population mean). Environmental engineers want to verify that the system performs better than this standard.\u000b",
    "A random sample of 15 water samples is taken after treatment. The sample shows a mean contaminant level of 4.7 ppm, with a sample standard deviation of 0.6 ppm.\n",
    "Test the water treatment plant claim at α = 0.10. "
   ]
  },
  {
   "cell_type": "code",
   "execution_count": 4,
   "id": "77850e65-a4f6-42b5-ad43-84f6dd13081d",
   "metadata": {},
   "outputs": [
    {
     "name": "stdout",
     "output_type": "stream",
     "text": [
      "t-statistic: -1.9365\n",
      "Degrees of freedom: 14\n",
      "P-value: 0.0366\n",
      "Reject Null Hypothesis? Yes\n"
     ]
    }
   ],
   "source": [
    "import scipy.stats as stats\n",
    "import numpy as np\n",
    "\n",
    "# Given values\n",
    "mu_0 = 5            # null hypothesis mean\n",
    "sample_mean = 4.7\n",
    "s = 0.6             # sample standard deviation\n",
    "n = 15\n",
    "alpha = 0.10\n",
    "\n",
    "t_stat = (sample_mean - mu_0) / (s / np.sqrt(n)) # Compute t-statistic\n",
    "df = n - 1# Degrees of freedom\n",
    "\n",
    "p_value = stats.t.cdf(t_stat, df) # One-tailed p-value (left tail)\n",
    "\n",
    "# Decision\n",
    "reject_null = p_value < alpha\n",
    "\n",
    "print(f\"t-statistic: {t_stat:.4f}\")\n",
    "print(f\"Degrees of freedom: {df}\")\n",
    "print(f\"P-value: {p_value:.4f}\")\n",
    "print(\"Reject Null Hypothesis?\" , \"Yes\" if reject_null else \"No\")"
   ]
  },
  {
   "cell_type": "markdown",
   "id": "69073bda-f69d-4f5d-9842-9263fbc9dff5",
   "metadata": {},
   "source": [
    "# 3\n",
    "A medical researcher is interested in finding out whether a new medication will have any undesirable side effects on patients’ pulse rates. The researcher is concerned whether the pulse rate increases, decreases, or stays the same after taking the medication.\u000b",
    "The mean pulse rate for the population under study is 82 bpm, but the population standard deviation is unknown.\u000b",
    "To investigate, the researcher selects a random sample of 25 patients who take the medication. The sample shows a mean pulse rate of 80.7 bpm, with a sample standard deviation of 4.5 bpm.\u000b",
    "Test the claim that the medication does affect the mean pulse rate at α=0.01.\n"
   ]
  },
  {
   "cell_type": "code",
   "execution_count": 5,
   "id": "39fdc4ee-63f9-4ed6-b961-4fe192981c72",
   "metadata": {},
   "outputs": [
    {
     "name": "stdout",
     "output_type": "stream",
     "text": [
      "t-statistic: -1.4444\n",
      "Degrees of freedom: 24\n",
      "P-value: 0.1615\n",
      "Reject Null Hypothesis? No\n"
     ]
    }
   ],
   "source": [
    "import scipy.stats as stats\n",
    "import numpy as np\n",
    "\n",
    "# Given values\n",
    "mu_0 = 82\n",
    "sample_mean = 80.7\n",
    "s = 4.5\n",
    "n = 25\n",
    "alpha = 0.01\n",
    "\n",
    "t_stat = (sample_mean - mu_0) / (s / np.sqrt(n)) # Compute t-statistic\n",
    "df = n - 1 # Degrees of freedom\n",
    "\n",
    "p_value = 2 * (1 - stats.t.cdf(abs(t_stat), df)) # Two-tailed p-value\n",
    "\n",
    "# Decision\n",
    "reject_null = p_value < alpha\n",
    "\n",
    "print(f\"t-statistic: {t_stat:.4f}\")\n",
    "print(f\"Degrees of freedom: {df}\")\n",
    "print(f\"P-value: {p_value:.4f}\")\n",
    "print(\"Reject Null Hypothesis?\" , \"Yes\" if reject_null else \"No\")\n"
   ]
  },
  {
   "cell_type": "code",
   "execution_count": null,
   "id": "bfc115c9-9998-47fc-b063-bd99c578c238",
   "metadata": {},
   "outputs": [],
   "source": []
  }
 ],
 "metadata": {
  "kernelspec": {
   "display_name": "Python 3 (ipykernel)",
   "language": "python",
   "name": "python3"
  },
  "language_info": {
   "codemirror_mode": {
    "name": "ipython",
    "version": 3
   },
   "file_extension": ".py",
   "mimetype": "text/x-python",
   "name": "python",
   "nbconvert_exporter": "python",
   "pygments_lexer": "ipython3",
   "version": "3.9.9"
  }
 },
 "nbformat": 4,
 "nbformat_minor": 5
}
