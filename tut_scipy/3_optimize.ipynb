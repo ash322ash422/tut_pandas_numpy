{
 "cells": [
  {
   "cell_type": "code",
   "execution_count": 1,
   "id": "025169a4-5a91-4d3f-b4be-131156bfd3fc",
   "metadata": {},
   "outputs": [
    {
     "name": "stdout",
     "output_type": "stream",
     "text": [
      "Minimum at x = 3.0000, f(x) = 1.0000\n"
     ]
    }
   ],
   "source": [
    "from scipy.optimize import minimize\n",
    "\n",
    "# Example: minimize f(x) = (x-3)^2 + 1\n",
    "f = lambda x: (x - 3)**2 + 1\n",
    "\n",
    "result = minimize(f, x0=0)\n",
    "\n",
    "print(f\"Minimum at x = {result.x[0]:.4f}, f(x) = {result.fun:.4f}\")\n",
    "\n",
    "# TODO PLOT IT"
   ]
  },
  {
   "cell_type": "code",
   "execution_count": null,
   "id": "f2d30213-165f-4026-90e1-ff3f5b120e91",
   "metadata": {},
   "outputs": [],
   "source": [
    "# TODO: find maximum of function"
   ]
  },
  {
   "cell_type": "code",
   "execution_count": null,
   "id": "f7a5edbb-9df0-48e1-bf6d-77d03c683b2f",
   "metadata": {},
   "outputs": [],
   "source": [
    "# TODO: find all maxima of function"
   ]
  }
 ],
 "metadata": {
  "kernelspec": {
   "display_name": "Python 3 (ipykernel)",
   "language": "python",
   "name": "python3"
  },
  "language_info": {
   "codemirror_mode": {
    "name": "ipython",
    "version": 3
   },
   "file_extension": ".py",
   "mimetype": "text/x-python",
   "name": "python",
   "nbconvert_exporter": "python",
   "pygments_lexer": "ipython3",
   "version": "3.9.9"
  }
 },
 "nbformat": 4,
 "nbformat_minor": 5
}
