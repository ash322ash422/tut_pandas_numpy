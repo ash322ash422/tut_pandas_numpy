{
 "cells": [
  {
   "cell_type": "markdown",
   "id": "590c5189",
   "metadata": {},
   "source": [
    "## pandas\n",
    "- Used for EDA\n",
    "- used for data cleaning, etc\n",
    "- importing/exporting data, creating/deleting columns,\n",
    "\n",
    "#### Topics:\n",
    "- Series: statistical operation, element-wise function, boolean function, missing value, arithmatics function, etc"
   ]
  },
  {
   "cell_type": "markdown",
   "id": "99e19d26-093c-4774-8eba-01021d30f081",
   "metadata": {},
   "source": [
    "# Series\n",
    "## Difference between pandas Series and Dataframe\n",
    "```\n",
    "Feature         Series              DataFrame\n",
    "Dimensions        1D                  2D\n",
    "Shape             (n,)             (rows, columns)\n",
    "Data Structure    Single column   Table with multiple columns\n",
    "Usage         Single column or row   Full dataset\n",
    "```"
   ]
  },
  {
   "cell_type": "code",
   "execution_count": 2,
   "id": "eeac7e81-4866-4be2-9189-743d1683c30a",
   "metadata": {},
   "outputs": [
    {
     "name": "stderr",
     "output_type": "stream",
     "text": [
      "C:\\Users\\hi\\AppData\\Local\\Temp\\ipykernel_15760\\2065006174.py:1: DeprecationWarning: \n",
      "Pyarrow will become a required dependency of pandas in the next major release of pandas (pandas 3.0),\n",
      "(to allow more performant data types, such as the Arrow string type, and better interoperability with other libraries)\n",
      "but was not found to be installed on your system.\n",
      "If this would cause problems for you,\n",
      "please provide us feedback at https://github.com/pandas-dev/pandas/issues/54466\n",
      "        \n",
      "  import pandas as pd\n"
     ]
    }
   ],
   "source": [
    "import pandas as pd\n",
    "# print(pd.__version__)\n",
    "\n",
    "import warnings\n",
    "warnings.filterwarnings(action='ignore')"
   ]
  },
  {
   "cell_type": "code",
   "execution_count": 3,
   "id": "b71e441f-0302-4044-bf71-c2b341de962f",
   "metadata": {},
   "outputs": [
    {
     "name": "stdout",
     "output_type": "stream",
     "text": [
      "0    90\n",
      "1    30\n",
      "2    40\n",
      "3    20\n",
      "4    80\n",
      "5    10\n",
      "dtype: int64\n",
      "<class 'pandas.core.series.Series'>\n"
     ]
    }
   ],
   "source": [
    "# Series declaration\n",
    "l = [90, 30, 40, 20, 80, 10] # age\n",
    "s = pd.Series(l) # From a List\n",
    "print(s)\n",
    "print(type(s)) # <class 'pandas.core.series.Series'>"
   ]
  },
  {
   "cell_type": "code",
   "execution_count": 4,
   "id": "6295015c-fa97-42be-a409-4a0694f2c84c",
   "metadata": {},
   "outputs": [
    {
     "name": "stdout",
     "output_type": "stream",
     "text": [
      "custom index: ['Emp001', 'Emp002', 'Emp003', 'Emp004', 'Emp005', 'Emp006']\n",
      "Emp001    90\n",
      "Emp002    30\n",
      "Emp003    40\n",
      "Emp004    20\n",
      "Emp005    80\n",
      "Emp006    10\n",
      "dtype: int64\n"
     ]
    }
   ],
   "source": [
    "# SKIP:\n",
    "# series declaration from a List with Custom Index\n",
    "\n",
    "l_indx = [f\"Emp{i:03d}\" for i in range(1, len(s)+1)]\n",
    "print(f\"custom index: {l_indx}\")\n",
    "s = pd.Series(l, index=l_indx)\n",
    "\n",
    "print(s)"
   ]
  },
  {
   "cell_type": "code",
   "execution_count": 5,
   "id": "1c188ee6-7aad-4140-980f-05db94c11e73",
   "metadata": {},
   "outputs": [
    {
     "name": "stdout",
     "output_type": "stream",
     "text": [
      "0    90\n",
      "1    30\n",
      "2    40\n",
      "3    20\n",
      "4    80\n",
      "5    10\n",
      "dtype: int64\n",
      "20\n",
      "1    30\n",
      "2    40\n",
      "3    20\n",
      "dtype: int64\n",
      "0    90\n",
      "1    30\n",
      "2    40\n",
      "dtype: int64\n",
      "2    40\n",
      "3    20\n",
      "4    80\n",
      "5    10\n",
      "dtype: int64\n"
     ]
    }
   ],
   "source": [
    "# accessing elements of series: indexing start with 0\n",
    "# [start_idx: stop_idx: step_size]\n",
    "# default for start_idx = 0\n",
    "# default for stop_idx = end position\n",
    "# default for step_size = 1\n",
    "\n",
    "l = [90, 30, 40, 20, 80, 10] # age\n",
    "\n",
    "s = pd.Series(l)\n",
    "print(s)\n",
    "\n",
    "print(s[3])   # element at idx=3\n",
    "print(s[1:4]) # elements from idx=1 to idx=3\n",
    "\n",
    "print(s[0:3])  # first 3 elements. s[:3] does the same \n",
    "print(s[2:])  # elements from idx=2 to the last element"
   ]
  },
  {
   "cell_type": "markdown",
   "id": "0dce97dd-25f6-4e9a-8881-2f8a88a59dd0",
   "metadata": {},
   "source": [
    "## Operation on series"
   ]
  },
  {
   "cell_type": "code",
   "execution_count": 6,
   "id": "f639fa9a-6976-41ab-a1db-578610e3ead7",
   "metadata": {},
   "outputs": [
    {
     "name": "stdout",
     "output_type": "stream",
     "text": [
      "0    35\n",
      "1    25\n",
      "2    15\n",
      "3    45\n",
      "4    25\n",
      "5    27\n",
      "6    39\n",
      "dtype: int64\n",
      "0    60\n",
      "1    40\n",
      "2    20\n",
      "3    80\n",
      "4    40\n",
      "5    44\n",
      "6    68\n",
      "dtype: int64\n",
      "0    3.0\n",
      "1    2.0\n",
      "2    1.0\n",
      "3    4.0\n",
      "4    2.0\n",
      "5    2.2\n",
      "6    3.4\n",
      "dtype: float64\n",
      "0    50\n",
      "2    30\n",
      "3    40\n",
      "dtype: int64\n"
     ]
    }
   ],
   "source": [
    "## 1. Few arithmetic Operations\" +, *, /\n",
    "l = [30, 20, 10, 40, 20, 22, 34]\n",
    "s = pd.Series(l)\n",
    "\n",
    "print(s + 5)  # Add 5 to each element. This cannot be done on list\n",
    "\n",
    "print(s * 2)  # Multiply each element by 2\n",
    "print(l * 2)  # Here we would have 2 copies of list\n",
    "\n",
    "print(s / 10)  # Divide each element by 10\n",
    "# print(l / 10)  # ERROR\n"
   ]
  },
  {
   "cell_type": "code",
   "execution_count": 11,
   "id": "5c3380c1-19c6-4bb7-9c71-2f249ed3e11a",
   "metadata": {},
   "outputs": [
    {
     "name": "stdout",
     "output_type": "stream",
     "text": [
      "0    50\n",
      "2    30\n",
      "3    40\n",
      "dtype: int64\n"
     ]
    }
   ],
   "source": [
    "# 2. Boolean Filtering: Give me all elements that are > 25\n",
    "l = [50, 20, 30, 40, 10]\n",
    "s = pd.Series(l)\n",
    "\n",
    "mask = (s > 25)# Filter elements greater than 25\n",
    "print(s[mask])   \n",
    "\n",
    "# With list I would have to create a for loop"
   ]
  },
  {
   "cell_type": "code",
   "execution_count": null,
   "id": "b72d900f-7d5b-4c60-933a-cbd22e07156b",
   "metadata": {},
   "outputs": [],
   "source": []
  },
  {
   "cell_type": "markdown",
   "id": "866971bb-9a53-4481-8cbc-b45b75fc0499",
   "metadata": {},
   "source": [
    "## Methods of series"
   ]
  },
  {
   "cell_type": "code",
   "execution_count": 7,
   "id": "8a588d57-2514-49bf-8b7f-e23610fe8549",
   "metadata": {},
   "outputs": [
    {
     "name": "stdout",
     "output_type": "stream",
     "text": [
      "24.285714285714285\n",
      "20.0\n",
      "9.759000729485331\n",
      "40\n",
      "10\n",
      "170\n"
     ]
    }
   ],
   "source": [
    "# Statistical methods\n",
    "l = [30, 20, 10, 40, 20, 30, 20]\n",
    "s = pd.Series(l)\n",
    "\n",
    "print(s.mean())      # Average. Note: List l does not have an in-built method to compute mean\n",
    "print(s.median())    # Median\n",
    "print(s.std())       # Standard deviation\n",
    "print(s.max())       # Maximum\n",
    "print(s.min())       # Minimum\n",
    "print(s.sum())       # Sum of all elements\n",
    "\n",
    "# cont..."
   ]
  },
  {
   "cell_type": "code",
   "execution_count": 8,
   "id": "a09a1b8b-31c4-4c6a-acbb-bfca45af0f94",
   "metadata": {},
   "outputs": [
    {
     "name": "stdout",
     "output_type": "stream",
     "text": [
      "0    30\n",
      "1    20\n",
      "2    10\n",
      "3    40\n",
      "4    20\n",
      "5    30\n",
      "6    20\n",
      "dtype: int64\n",
      "0     30\n",
      "1     50\n",
      "2     60\n",
      "3    100\n",
      "4    120\n",
      "5    150\n",
      "6    170\n",
      "dtype: int64\n",
      "0            30\n",
      "1           600\n",
      "2          6000\n",
      "3        240000\n",
      "4       4800000\n",
      "5     144000000\n",
      "6    2880000000\n",
      "dtype: int64\n"
     ]
    }
   ],
   "source": [
    "# cont...\n",
    "\n",
    "print(s)\n",
    "print(s.cumsum())    # cumulative sum:     30, 30 + 20, 30 + 20 + 10, ...\n",
    "print(s.cumprod())   # cumulative product: 30, 30 * 20, 30 * 20 * 10, ..."
   ]
  },
  {
   "cell_type": "code",
   "execution_count": 9,
   "id": "34b64f87-69ea-46eb-862e-210de8d7e1f3",
   "metadata": {},
   "outputs": [
    {
     "name": "stdout",
     "output_type": "stream",
     "text": [
      "0    30\n",
      "1    20\n",
      "2    10\n",
      "3    40\n",
      "4    20\n",
      "5    30\n",
      "6    20\n",
      "dtype: int64\n",
      "count     7.000000\n",
      "mean     24.285714\n",
      "std       9.759001\n",
      "min      10.000000\n",
      "25%      20.000000\n",
      "50%      20.000000\n",
      "75%      30.000000\n",
      "max      40.000000\n",
      "dtype: float64\n",
      "20.0\n",
      "3.688555567816587\n",
      "4\n",
      "[30 20 10 40]\n",
      "20    3\n",
      "30    2\n",
      "10    1\n",
      "40    1\n",
      "Name: count, dtype: int64\n",
      "2\n",
      "3\n"
     ]
    }
   ],
   "source": [
    "# cont..\n",
    "\n",
    "print(s)\n",
    "print(s.describe())\n",
    "print(s.quantile(0.25))  # 25th percentile\n",
    "\n",
    "print(s.sem())     # Standard error mean\n",
    "print(s.nunique()) # how many unique elements are there\n",
    "print(s.unique())  # show me all unique elements\n",
    "\n",
    "print(s.value_counts())  # Value counts (frequency of each unique value)\n",
    "\n",
    "print(s.idxmin())  # Index of first min value\n",
    "print(s.idxmax())  # Index of first max value"
   ]
  },
  {
   "cell_type": "code",
   "execution_count": 10,
   "id": "ce5f31db-c3ac-4d97-b39c-8fc251fbc8f7",
   "metadata": {},
   "outputs": [
    {
     "name": "stdout",
     "output_type": "stream",
     "text": [
      "0            ASH\n",
      "1          KUMAR\n",
      "2            BOB\n",
      "3    SHAMLODHIYA\n",
      "4         TANNER\n",
      "dtype: object\n",
      "0            ash\n",
      "1          kumar\n",
      "2            bob\n",
      "3    shamlodhiya\n",
      "4         tanner\n",
      "dtype: object\n",
      "0     3\n",
      "1     5\n",
      "2     3\n",
      "3    11\n",
      "4     6\n",
      "dtype: int64\n",
      "0    False\n",
      "1    False\n",
      "2     True\n",
      "3    False\n",
      "4     True\n",
      "5    False\n",
      "dtype: bool\n",
      "0    1.0\n",
      "1    2.0\n",
      "2    0.0\n",
      "3    4.0\n",
      "4    0.0\n",
      "5    1.0\n",
      "dtype: float64\n",
      "0    1.0\n",
      "1    2.0\n",
      "3    4.0\n",
      "5    1.0\n",
      "dtype: float64\n",
      "1     2\n",
      "0    10\n",
      "5    10\n",
      "3    20\n",
      "2    30\n",
      "4    90\n",
      "dtype: int64\n"
     ]
    }
   ],
   "source": [
    "############################\n",
    "# Few string Operations (for string Series)\n",
    "s = pd.Series(['ash', 'kumar', 'bob', 'shaMLOdhiya', 'taNNER'])\n",
    "print(s.str.upper())     # Convert to uppercase\n",
    "print(s.str.lower())     # Convert to lowercase\n",
    "print(s.str.len())       # Length of each string\n",
    "\n",
    "##########################\n",
    "# Handling Missing Data\n",
    "s = pd.Series([1, 2, None, 4, None, 1])\n",
    "print(s.isnull())        # Check for NaNs\n",
    "print(s.fillna(0))       # Replace NaNs with 0\n",
    "print(s.dropna())        # Drop NaNs\n",
    "\n",
    "#########################\n",
    "# Sorting\n",
    "s = pd.Series([10, 2, 30, 20, 90, 10])\n",
    "print(s.sort_values(ascending=True))   # Sort by value"
   ]
  },
  {
   "cell_type": "code",
   "execution_count": null,
   "id": "77a8d4a1-ffe4-4bc7-b640-663b36606725",
   "metadata": {},
   "outputs": [],
   "source": []
  }
 ],
 "metadata": {
  "kernelspec": {
   "display_name": "Python 3 (ipykernel)",
   "language": "python",
   "name": "python3"
  },
  "language_info": {
   "codemirror_mode": {
    "name": "ipython",
    "version": 3
   },
   "file_extension": ".py",
   "mimetype": "text/x-python",
   "name": "python",
   "nbconvert_exporter": "python",
   "pygments_lexer": "ipython3",
   "version": "3.9.9"
  }
 },
 "nbformat": 4,
 "nbformat_minor": 5
}
