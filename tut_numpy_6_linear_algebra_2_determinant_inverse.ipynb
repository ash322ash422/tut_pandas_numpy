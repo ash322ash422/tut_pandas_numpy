{
 "cells": [
  {
   "cell_type": "markdown",
   "id": "b6d30367-0726-4bfd-9aaa-e67de70cce42",
   "metadata": {},
   "source": [
    "## Linear Algebra"
   ]
  },
  {
   "cell_type": "markdown",
   "id": "c5ada5e5-8de8-497f-b42f-f2f200df58c0",
   "metadata": {},
   "source": [
    "### Topics covered:\n",
    "- np.linalg methods: determinant, inverse of square matrix"
   ]
  },
  {
   "cell_type": "markdown",
   "id": "b1accaf5-7198-43c4-a850-1de45a701653",
   "metadata": {},
   "source": [
    "##  np.linalg: determinant, inverse, \n",
    "- np.linalg provides methods to find determiant and inverse of a **square matrix**\n",
    "\n",
    "#### Application  of determinant\n",
    "- To know if a matrix is invertible (non-zero determinant -> invertible)\n",
    "- Solve A*x=b : If **det(A) != 0**, the system has a unique solution. If **det(A) = 0**, the system is singular (either no solution or infinitely many)\n",
    "- When you apply a linear transformation (e.g., stretching, rotating, shearing) to a 2D geometric shape using a matrix (T), the absolute value of the determinant of that matrix tells you how much the shape's area or volume is scaled.\n",
    "\n",
    " **New Area = ∣det(T)∣ × Original Area**"
   ]
  },
  {
   "cell_type": "code",
   "execution_count": 1,
   "id": "4e9c349a-7411-4e59-9ae7-e42bc47821c6",
   "metadata": {},
   "outputs": [],
   "source": [
    "import numpy as np\n",
    "from numpy.linalg import det\n",
    "from numpy.linalg import inv"
   ]
  },
  {
   "cell_type": "code",
   "execution_count": 2,
   "id": "c4d9c492-33b8-4e79-8921-83eb44435f2d",
   "metadata": {},
   "outputs": [
    {
     "name": "stdout",
     "output_type": "stream",
     "text": [
      "Determinant of 2x2 matrix A: 7.0\n"
     ]
    }
   ],
   "source": [
    "# Determinant of 2x2 matrix\n",
    "\n",
    "A = np.array([[2, 1], \n",
    "              [3, 5]]\n",
    ")\n",
    "\n",
    "det_A = det(A)\n",
    "print(\"Determinant of 2x2 matrix A:\", round(det_A, 3))"
   ]
  },
  {
   "cell_type": "code",
   "execution_count": 3,
   "id": "446ad273-a45e-4491-ad08-b959e1511d01",
   "metadata": {},
   "outputs": [
    {
     "name": "stdout",
     "output_type": "stream",
     "text": [
      "Determinant of 3x3 matrix A: 12.0\n"
     ]
    }
   ],
   "source": [
    "# Determinant of 3x3 matrix\n",
    "A = np.array([[2, 1, 0],\n",
    "              [0, 1, -1],\n",
    "              [0, 2, 4]]\n",
    ")\n",
    "\n",
    "det_A = det(A)\n",
    "print(\"Determinant of 3x3 matrix A:\", round(det_A, 3))"
   ]
  },
  {
   "cell_type": "code",
   "execution_count": null,
   "id": "f83a2cee-3677-480c-b4d4-04aa38f0051a",
   "metadata": {},
   "outputs": [],
   "source": []
  },
  {
   "cell_type": "code",
   "execution_count": 4,
   "id": "7027d9db-a80f-4c51-821f-a2507460337b",
   "metadata": {},
   "outputs": [
    {
     "name": "stdout",
     "output_type": "stream",
     "text": [
      "Inverse of Matrix:\n",
      " [[-2.   1. ]\n",
      " [ 1.5 -0.5]]\n",
      "\n",
      "Verification (A × A_inv should be I):\n",
      " [[1. 0.]\n",
      " [0. 1.]]\n"
     ]
    }
   ],
   "source": [
    "# Inverse of a 2X2 matrix\n",
    "A = np.array([[1, 2], \n",
    "              [3, 4]])\n",
    "A_inv = inv(A)\n",
    "print(\"Inverse of Matrix:\\n\", A_inv)\n",
    "\n",
    "# Verification: A @ A_inv should be an identity matrix\n",
    "print(\"\\nVerification (A × A_inv should be I):\\n\", np.round(A @ A_inv)) "
   ]
  },
  {
   "cell_type": "code",
   "execution_count": 5,
   "id": "aa814170-a599-43c4-ad55-6f4c3cbe239e",
   "metadata": {},
   "outputs": [
    {
     "name": "stdout",
     "output_type": "stream",
     "text": [
      "Inverse of Matrix:\n",
      " [[ 0.5        -0.33333333 -0.08333333]\n",
      " [ 0.          0.66666667  0.16666667]\n",
      " [-0.         -0.33333333  0.16666667]]\n",
      "\n",
      "Verification (A × A_inv should be I):\n",
      " [[1. 0. 0.]\n",
      " [0. 1. 0.]\n",
      " [0. 0. 1.]]\n"
     ]
    }
   ],
   "source": [
    "# Inverse of a 3X3 matrix\n",
    "\n",
    "A = np.array([[2, 1, 0],\n",
    "              [0, 1, -1],\n",
    "              [0, 2, 4]])\n",
    "A_inv = inv(A)\n",
    "print(\"Inverse of Matrix:\\n\", A_inv)\n",
    "\n",
    "# Verification: A @ A_inv should be an identity matrix\n",
    "print(\"\\nVerification (A × A_inv should be I):\\n\",np.round(A @ A_inv)) "
   ]
  },
  {
   "cell_type": "code",
   "execution_count": 7,
   "id": "accf9603-d1f9-4d45-a939-6b9265cfacab",
   "metadata": {},
   "outputs": [
    {
     "name": "stdout",
     "output_type": "stream",
     "text": [
      "[1. 2.]\n"
     ]
    }
   ],
   "source": [
    "# Application of inverse to solve 2 variable linear equation:\n",
    "\n",
    "# 1*x1  + 2*x2 = 5\n",
    "# 3*x1  + 4*x2 = 11  \n",
    "# Here we can rewrite above as A*x = b, where\n",
    "# A = [[1, 2], \n",
    "#      [3, 4]]\n",
    "# b = [5, 11]\n",
    "# So, x = A_inv * b\n",
    "# lets find x:\n",
    "A = np.array([[1, 2], \n",
    "              [3, 4]]\n",
    ")\n",
    "A_inv = inv(A)\n",
    "b = np.array([5, 11]).T # transpose because b should be 2X1 matrix\n",
    "\n",
    "x = np.matmul(A_inv,b)\n",
    "print(x)"
   ]
  },
  {
   "cell_type": "code",
   "execution_count": null,
   "id": "39353e05-d8fb-465b-84ec-037ceec91596",
   "metadata": {},
   "outputs": [],
   "source": []
  },
  {
   "cell_type": "code",
   "execution_count": null,
   "id": "bd7b3e4f-5329-44e8-a226-4233958033bc",
   "metadata": {},
   "outputs": [],
   "source": []
  },
  {
   "cell_type": "code",
   "execution_count": null,
   "id": "d7f8283d-0e75-4abb-9c96-834c22dd9bb4",
   "metadata": {},
   "outputs": [],
   "source": []
  },
  {
   "cell_type": "code",
   "execution_count": null,
   "id": "e0ff1714-a5aa-4d7d-8562-5c312b957b39",
   "metadata": {},
   "outputs": [],
   "source": []
  },
  {
   "cell_type": "code",
   "execution_count": null,
   "id": "cd43875e-9ce3-4cf0-9606-10fdd57796b6",
   "metadata": {},
   "outputs": [],
   "source": []
  }
 ],
 "metadata": {
  "kernelspec": {
   "display_name": "Python 3 (ipykernel)",
   "language": "python",
   "name": "python3"
  },
  "language_info": {
   "codemirror_mode": {
    "name": "ipython",
    "version": 3
   },
   "file_extension": ".py",
   "mimetype": "text/x-python",
   "name": "python",
   "nbconvert_exporter": "python",
   "pygments_lexer": "ipython3",
   "version": "3.9.9"
  }
 },
 "nbformat": 4,
 "nbformat_minor": 5
}
