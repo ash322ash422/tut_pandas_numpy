{
 "cells": [
  {
   "cell_type": "code",
   "execution_count": 2,
   "id": "b9862a0c-15e8-4200-beb2-101cdf84777a",
   "metadata": {},
   "outputs": [],
   "source": [
    "import pandas as pd\n",
    "import seaborn as sns\n",
    "\n",
    "import warnings\n",
    "\n",
    "# Suppress all FutureWarnings\n",
    "warnings.simplefilter(action='ignore', category=FutureWarning)"
   ]
  },
  {
   "cell_type": "markdown",
   "id": "7a57c527-8dca-4ffc-b197-70e0698c678c",
   "metadata": {},
   "source": [
    "## [concat](https://pandas.pydata.org/docs/user_guide/merging.html)\n",
    "Taken from a good source: [concat](https://pandas.pydata.org/docs/user_guide/merging.html) Look here for visual"
   ]
  },
  {
   "cell_type": "markdown",
   "id": "c98b1ef3-28bd-4f3b-abd7-e87823ea0594",
   "metadata": {},
   "source": [
    "[concat](https://pandas.pydata.org/docs/user_guide/merging.html#concat)"
   ]
  },
  {
   "cell_type": "code",
   "execution_count": 31,
   "id": "4d20336b-68ba-4a31-9eff-ee17a3c1a9aa",
   "metadata": {},
   "outputs": [
    {
     "name": "stdout",
     "output_type": "stream",
     "text": [
      "      A    B    C    D\n",
      "0    A0   B0   C0   D0\n",
      "1    A1   B1   C1   D1\n",
      "2    A2   B2   C2   D2\n",
      "3    A3   B3   C3   D3\n",
      "4    A4   B4   C4   D4\n",
      "5    A5   B5   C5   D5\n",
      "6    A6   B6   C6   D6\n",
      "7    A7   B7   C7   D7\n",
      "8    A8   B8   C8   D8\n",
      "9    A9   B9   C9   D9\n",
      "10  A10  B10  C10  D10\n",
      "11  A11  B11  C11  D11\n"
     ]
    }
   ],
   "source": [
    "df1 = pd.DataFrame(\n",
    " {\n",
    " \"A\": [\"A0\", \"A1\", \"A2\", \"A3\"],\n",
    " \"B\": [\"B0\", \"B1\", \"B2\", \"B3\"],\n",
    " \"C\": [\"C0\", \"C1\", \"C2\", \"C3\"],\n",
    " \"D\": [\"D0\", \"D1\", \"D2\", \"D3\"],\n",
    " },\n",
    " index=[0, 1, 2, 3],\n",
    ")\n",
    "\n",
    "df2 = pd.DataFrame(\n",
    " {\n",
    " \"A\": [\"A4\", \"A5\", \"A6\", \"A7\"],\n",
    " \"B\": [\"B4\", \"B5\", \"B6\", \"B7\"],\n",
    " \"C\": [\"C4\", \"C5\", \"C6\", \"C7\"],\n",
    " \"D\": [\"D4\", \"D5\", \"D6\", \"D7\"],\n",
    " },\n",
    " index=[4, 5, 6, 7],\n",
    " )\n",
    "\n",
    "df3 = pd.DataFrame(\n",
    " {\n",
    " \"A\": [\"A8\", \"A9\", \"A10\", \"A11\"],\n",
    " \"B\": [\"B8\", \"B9\", \"B10\", \"B11\"],\n",
    " \"C\": [\"C8\", \"C9\", \"C10\", \"C11\"],\n",
    " \"D\": [\"D8\", \"D9\", \"D10\", \"D11\"],\n",
    " },\n",
    " index=[8, 9, 10, 11],\n",
    ")\n",
    "\n",
    "frames = [df1, df2, df3]\n",
    "\n",
    "result =  pd.concat(frames)\n",
    "print(result)"
   ]
  },
  {
   "cell_type": "code",
   "execution_count": 7,
   "id": "a5e6e26a-b296-4a20-b305-625c7e7dbfbf",
   "metadata": {},
   "outputs": [
    {
     "name": "stdout",
     "output_type": "stream",
     "text": [
      "df1:\n",
      "    A   B   C   D\n",
      "0  A0  B0  C0  D0\n",
      "1  A1  B1  C1  D1\n",
      "2  A2  B2  C2  D2\n",
      "3  A3  B3  C3  D3\n",
      "df4:\n",
      "    B   D   F\n",
      "2  B2  D2  F2\n",
      "3  B3  D3  F3\n",
      "6  B6  D6  F6\n",
      "7  B7  D7  F7\n",
      "     A    B    C    D    B    D    F\n",
      "0   A0   B0   C0   D0  NaN  NaN  NaN\n",
      "1   A1   B1   C1   D1  NaN  NaN  NaN\n",
      "2   A2   B2   C2   D2   B2   D2   F2\n",
      "3   A3   B3   C3   D3   B3   D3   F3\n",
      "6  NaN  NaN  NaN  NaN   B6   D6   F6\n",
      "7  NaN  NaN  NaN  NaN   B7   D7   F7\n"
     ]
    }
   ],
   "source": [
    "# Joining logic of the resulting axis\n",
    "df1 = pd.DataFrame(\n",
    " {\n",
    " \"A\": [\"A0\", \"A1\", \"A2\", \"A3\"],\n",
    " \"B\": [\"B0\", \"B1\", \"B2\", \"B3\"],\n",
    " \"C\": [\"C0\", \"C1\", \"C2\", \"C3\"],\n",
    " \"D\": [\"D0\", \"D1\", \"D2\", \"D3\"],\n",
    " },\n",
    " index=[0, 1, 2, 3],\n",
    ")\n",
    "print(f\"df1:\\n{df1}\")\n",
    "\n",
    "df4 = pd.DataFrame(\n",
    "   {\n",
    "       \"B\": [\"B2\", \"B3\", \"B6\", \"B7\"],\n",
    "       \"D\": [\"D2\", \"D3\", \"D6\", \"D7\"],\n",
    "       \"F\": [\"F2\", \"F3\", \"F6\", \"F7\"],\n",
    "   },\n",
    "   index=[2, 3, 6, 7],\n",
    ")\n",
    "print(f\"df4:\\n{df4}\")\n",
    "\n",
    "result = pd.concat([df1, df4], axis=1)\n",
    "print(result)\n"
   ]
  },
  {
   "cell_type": "code",
   "execution_count": 33,
   "id": "0fb4d5ee-f6ef-4f54-8f49-67c5ac84729b",
   "metadata": {},
   "outputs": [
    {
     "name": "stdout",
     "output_type": "stream",
     "text": [
      "    A   B   C   D   B   D   F\n",
      "2  A2  B2  C2  D2  B2  D2  F2\n",
      "3  A3  B3  C3  D3  B3  D3  F3\n"
     ]
    }
   ],
   "source": [
    "# join='inner' takes the intersection of the axis values\n",
    "result = pd.concat([df1, df4], axis=1, join=\"inner\")\n",
    "print(result)"
   ]
  },
  {
   "cell_type": "code",
   "execution_count": 34,
   "id": "876a8c9b-dd65-4ba6-b6ba-7e0f478e62b8",
   "metadata": {},
   "outputs": [
    {
     "name": "stdout",
     "output_type": "stream",
     "text": [
      "    A   B   C   D    B    D    F\n",
      "0  A0  B0  C0  D0  NaN  NaN  NaN\n",
      "1  A1  B1  C1  D1  NaN  NaN  NaN\n",
      "2  A2  B2  C2  D2   B2   D2   F2\n",
      "3  A3  B3  C3  D3   B3   D3   F3\n"
     ]
    }
   ],
   "source": [
    "# To perform an effective “left” join using the exact index from the original DataFrame, result can be reindexed.\n",
    "result = pd.concat([df1, df4], axis=1).reindex(df1.index)\n",
    "print(result)"
   ]
  },
  {
   "cell_type": "code",
   "execution_count": 35,
   "id": "aa7cc137-6d34-4b0b-ba1f-15dcc9058762",
   "metadata": {},
   "outputs": [
    {
     "name": "stdout",
     "output_type": "stream",
     "text": [
      "     A   B    C   D    F\n",
      "0   A0  B0   C0  D0  NaN\n",
      "1   A1  B1   C1  D1  NaN\n",
      "2   A2  B2   C2  D2  NaN\n",
      "3   A3  B3   C3  D3  NaN\n",
      "4  NaN  B2  NaN  D2   F2\n",
      "5  NaN  B3  NaN  D3   F3\n",
      "6  NaN  B6  NaN  D6   F6\n",
      "7  NaN  B7  NaN  D7   F7\n"
     ]
    }
   ],
   "source": [
    "# Ignoring indexes on the concatenation axis\n",
    "# For DataFrame objects which don’t have a meaningful index, the ignore_index ignores overlapping indexes.\n",
    "\n",
    "result = pd.concat([df1, df4], ignore_index=True, sort=False)\n",
    "print(result)"
   ]
  },
  {
   "cell_type": "markdown",
   "id": "2b705284-ce2e-47e0-8409-89cbacfa1414",
   "metadata": {},
   "source": [
    "## merge: [merge](https://pandas.pydata.org/docs/user_guide/merging.html#merge)"
   ]
  },
  {
   "cell_type": "markdown",
   "id": "4009f868-3a87-4b17-a12f-50569b2c70c7",
   "metadata": {},
   "source": [
    "For a **many-to-many** join, if a key combination appears\n",
    "more than once in both tables, the :class:`DataFrame` will have the **Cartesian\n",
    "product** of the associated data."
   ]
  },
  {
   "cell_type": "code",
   "execution_count": 36,
   "id": "f8a9d489-d4b4-4b6d-b9db-1bf1f2aae6d8",
   "metadata": {},
   "outputs": [
    {
     "name": "stdout",
     "output_type": "stream",
     "text": [
      "  key   A   B   C   D\n",
      "0  K0  A0  B0  C0  D0\n",
      "1  K1  A1  B1  C1  D1\n",
      "2  K2  A2  B2  C2  D2\n",
      "3  K3  A3  B3  C3  D3\n"
     ]
    }
   ],
   "source": [
    "left = pd.DataFrame(\n",
    "   {\n",
    "       \"key\": [\"K0\", \"K1\", \"K2\", \"K3\"],\n",
    "       \"A\": [\"A0\", \"A1\", \"A2\", \"A3\"],\n",
    "       \"B\": [\"B0\", \"B1\", \"B2\", \"B3\"],\n",
    "   }\n",
    ")\n",
    "\n",
    "right = pd.DataFrame(\n",
    "   {\n",
    "       \"key\": [\"K0\", \"K1\", \"K2\", \"K3\"],\n",
    "       \"C\": [\"C0\", \"C1\", \"C2\", \"C3\"],\n",
    "       \"D\": [\"D0\", \"D1\", \"D2\", \"D3\"],\n",
    "   }\n",
    ")\n",
    "result = pd.merge(left, right, on=\"key\")\n",
    "print(result)\n"
   ]
  },
  {
   "cell_type": "markdown",
   "id": "151c6562-769c-4a3c-b94a-ea2c1f8aa4cc",
   "metadata": {},
   "source": [
    "## Join: [join](https://pandas.pydata.org/docs/user_guide/merging.html#dataframe-join)"
   ]
  },
  {
   "cell_type": "code",
   "execution_count": 37,
   "id": "51afe027-9799-47ac-b701-5ca4bf0c214a",
   "metadata": {},
   "outputs": [
    {
     "name": "stdout",
     "output_type": "stream",
     "text": [
      "     A   B    C    D\n",
      "K0  A0  B0   C0   D0\n",
      "K1  A1  B1  NaN  NaN\n",
      "K2  A2  B2   C2   D2\n"
     ]
    }
   ],
   "source": [
    "left = pd.DataFrame(\n",
    " {\"A\": [\"A0\", \"A1\", \"A2\"], \"B\": [\"B0\", \"B1\", \"B2\"]},\n",
    "    index=[\"K0\", \"K1\", \"K2\"]\n",
    ")\n",
    "\n",
    "right = pd.DataFrame(\n",
    "   {\"C\": [\"C0\", \"C2\", \"C3\"], \"D\": [\"D0\", \"D2\", \"D3\"]},\n",
    "   index=[\"K0\", \"K2\", \"K3\"]\n",
    " )\n",
    "\n",
    "result = left.join(right)\n",
    "\n",
    "print(result)"
   ]
  },
  {
   "cell_type": "code",
   "execution_count": 38,
   "id": "d36537a9-84ae-49c3-ab37-5d903566d516",
   "metadata": {},
   "outputs": [],
   "source": [
    "## ignore the rest"
   ]
  }
 ],
 "metadata": {
  "kernelspec": {
   "display_name": "Python 3 (ipykernel)",
   "language": "python",
   "name": "python3"
  },
  "language_info": {
   "codemirror_mode": {
    "name": "ipython",
    "version": 3
   },
   "file_extension": ".py",
   "mimetype": "text/x-python",
   "name": "python",
   "nbconvert_exporter": "python",
   "pygments_lexer": "ipython3",
   "version": "3.9.9"
  }
 },
 "nbformat": 4,
 "nbformat_minor": 5
}
