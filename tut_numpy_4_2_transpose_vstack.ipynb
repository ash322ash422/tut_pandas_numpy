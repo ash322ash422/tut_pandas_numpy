{
 "cells": [
  {
   "cell_type": "markdown",
   "id": "28d0faa5-0221-465f-a9fd-cfdb1b6136f5",
   "metadata": {},
   "source": [
    "# changing the shape of arrays"
   ]
  },
  {
   "cell_type": "code",
   "execution_count": 2,
   "id": "0e221d7f-cf2a-45bc-8b68-ca2172d6d8d4",
   "metadata": {},
   "outputs": [],
   "source": [
    "import numpy as np"
   ]
  },
  {
   "cell_type": "markdown",
   "id": "cde9c91e-5ab0-4cf7-9a22-ac43dd92345a",
   "metadata": {},
   "source": [
    "## Transpose\n",
    "- For 2D arrays (matrices), it swaps rows and columns.\n",
    "- For n-dimensional arrays, it reorders the dimensions based on the given axes.\n",
    "\n",
    "### Note\n",
    "- You can transpose using **np.transpose(a, axes=None)**\n",
    "- Or you can use **array.T** bit it does not give option to select axis. This is best for 2D array\n",
    "\n",
    "\n",
    "### Application:\n",
    "- Preparing data for algorithms like matrix multiplication or PCA (Principal Component Analysis), which require certain shape conventions."
   ]
  },
  {
   "cell_type": "code",
   "execution_count": 3,
   "id": "b1c79a2d-5fb9-4d7a-b781-296087b12474",
   "metadata": {},
   "outputs": [
    {
     "name": "stdout",
     "output_type": "stream",
     "text": [
      "[[1 2 3]\n",
      " [4 5 6]]\n",
      "[[1 4]\n",
      " [2 5]\n",
      " [3 6]]\n",
      "####################\n",
      "[[1 2]\n",
      " [3 4]\n",
      " [5 6]]\n",
      "[[1 3 5]\n",
      " [2 4 6]]\n",
      "####################\n",
      "[1 2 3]\n",
      "[1 2 3]\n"
     ]
    }
   ],
   "source": [
    "# Transpose for 2D: nXm matrix becomes mXn matrix \n",
    "\n",
    "# Using x.T. It is best for 2D and commonly used in 2D\n",
    "# If shape of x is 2X3. Then shape of x.T is 3X2\n",
    "x = np.array([\n",
    "    [1, 2, 3], \n",
    "    [4, 5 ,6]] \n",
    ")\n",
    "print(x)\n",
    "\n",
    "transpose = x.T\n",
    "print(transpose)  \n",
    "print(\"####################\")\n",
    "\n",
    "# If shape of x is 3X2. Then shape of x.T is 2X3\n",
    "x = np.array([[1,2],\n",
    "              [3,4],\n",
    "              [5,6]]\n",
    ")\n",
    "print(x)\n",
    "\n",
    "transpose = x.T\n",
    "print(transpose)  \n",
    "print(\"####################\")\n",
    "\n",
    "# Note that taking the transpose of a rank 1 array does nothing:\n",
    "v = np.array([1,2,3])\n",
    "print(v)    \n",
    "print(v.T)  "
   ]
  },
  {
   "cell_type": "code",
   "execution_count": 4,
   "id": "4be35232-d253-4066-a510-b24806399a2b",
   "metadata": {},
   "outputs": [
    {
     "name": "stdout",
     "output_type": "stream",
     "text": [
      "[[1 2 3]\n",
      " [4 5 6]]\n",
      "[[1 4]\n",
      " [2 5]\n",
      " [3 6]]\n",
      "####################\n",
      "[[1 2]\n",
      " [3 4]\n",
      " [5 6]]\n",
      "[[1 3 5]\n",
      " [2 4 6]]\n"
     ]
    }
   ],
   "source": [
    "# Transpose for 2D: nXm matrix becomes mXn matrix \n",
    "\n",
    "# Using np.transpose()\n",
    "\n",
    "# If shape of x is 2X3. Then shape of x.T is 3X2\n",
    "x = np.array([\n",
    "    [1, 2, 3], \n",
    "    [4, 5 ,6]] \n",
    ")\n",
    "print(x)\n",
    "\n",
    "transpose = np.transpose(x)\n",
    "print(transpose)  \n",
    "print(\"####################\")\n",
    "\n",
    "# If shape of x is 3X2. Then shape of x.T is 2X3\n",
    "x = np.array([[1,2],\n",
    "              [3,4],\n",
    "              [5,6]]\n",
    ")\n",
    "print(x)\n",
    "\n",
    "transpose = np.transpose(x)\n",
    "print(transpose)"
   ]
  },
  {
   "cell_type": "code",
   "execution_count": null,
   "id": "0c1090b5-64a0-467f-97d8-4b26366f1153",
   "metadata": {},
   "outputs": [],
   "source": []
  },
  {
   "cell_type": "code",
   "execution_count": 10,
   "id": "00cefa31-5607-4424-b6ba-06bc2261998f",
   "metadata": {},
   "outputs": [
    {
     "name": "stdout",
     "output_type": "stream",
     "text": [
      "a:\n",
      " [[[ 0  1  2  3]\n",
      "  [ 4  5  6  7]\n",
      "  [ 8  9 10 11]]\n",
      "\n",
      " [[12 13 14 15]\n",
      "  [16 17 18 19]\n",
      "  [20 21 22 23]]]\n",
      "(2, 3, 4)\n",
      "b:\n",
      " [[[ 0 12]\n",
      "  [ 4 16]\n",
      "  [ 8 20]]\n",
      "\n",
      " [[ 1 13]\n",
      "  [ 5 17]\n",
      "  [ 9 21]]\n",
      "\n",
      " [[ 2 14]\n",
      "  [ 6 18]\n",
      "  [10 22]]\n",
      "\n",
      " [[ 3 15]\n",
      "  [ 7 19]\n",
      "  [11 23]]]\n",
      "(4, 3, 2)\n",
      "c:\n",
      " [[[ 0  1  2  3]\n",
      "  [12 13 14 15]]\n",
      "\n",
      " [[ 4  5  6  7]\n",
      "  [16 17 18 19]]\n",
      "\n",
      " [[ 8  9 10 11]\n",
      "  [20 21 22 23]]]\n",
      "(3, 2, 4)\n"
     ]
    }
   ],
   "source": [
    "# ADVANCED: transpose of 3D and higher\n",
    "\n",
    "# Create a 3D array of shape 2X3X4\n",
    "a = np.arange(24).reshape(2, 3, 4) \n",
    "print(\"a:\\n\", a)\n",
    "print(a.shape)  # (2, 3, 4)\n",
    "\n",
    "# Default transpose: reverses axes order\n",
    "b = np.transpose(a)\n",
    "print(\"b:\\n\", b)\n",
    "print(b.shape)  # (4, 3, 2)\n",
    "\n",
    "# Custom axis order\n",
    "c = np.transpose(a, axes=(1, 0, 2))\n",
    "print(\"c:\\n\", c)\n",
    "print(c.shape)  # (3, 2, 4)"
   ]
  },
  {
   "cell_type": "code",
   "execution_count": null,
   "id": "0496f09e-c72c-4ef8-b70e-08e08ec76c9c",
   "metadata": {},
   "outputs": [],
   "source": []
  },
  {
   "cell_type": "code",
   "execution_count": null,
   "id": "53e8d0ad-6f41-4473-92ae-a1d6729e5af9",
   "metadata": {},
   "outputs": [],
   "source": []
  },
  {
   "cell_type": "markdown",
   "id": "399b6cff-1f3c-42d8-a99b-b8731002d0ad",
   "metadata": {},
   "source": [
    "### vstack()\n",
    "- **stack arrays row-wise (vertically) to create a single array**.\n",
    "- combine smaller arrays into a bigger one."
   ]
  },
  {
   "cell_type": "code",
   "execution_count": 18,
   "id": "569ad070-1f7f-4fa6-882a-9e8f58b88561",
   "metadata": {},
   "outputs": [
    {
     "name": "stdout",
     "output_type": "stream",
     "text": [
      "[[ 10  20  30  40  50]\n",
      " [ 20  40  60  80 100]\n",
      " [ 18  40  50  20  30]\n",
      " [ 90  82  55  40  20]]\n"
     ]
    }
   ],
   "source": [
    "x1 = np.array([10, 20, 30, 40, 50])  \n",
    "x2 = np.array([20, 40, 60, 80, 100])\n",
    "x3 = np.array([18, 40, 50, 20,  30]) \n",
    "x4 = np.array([90, 82, 55, 40, 20]) \n",
    "\n",
    "x = np.vstack((x1, x2, x3, x4))\n",
    "print(x)"
   ]
  },
  {
   "cell_type": "code",
   "execution_count": null,
   "id": "4b1e4433-dc79-4337-9ebf-268a0d4585a1",
   "metadata": {},
   "outputs": [],
   "source": []
  }
 ],
 "metadata": {
  "kernelspec": {
   "display_name": "Python 3 (ipykernel)",
   "language": "python",
   "name": "python3"
  },
  "language_info": {
   "codemirror_mode": {
    "name": "ipython",
    "version": 3
   },
   "file_extension": ".py",
   "mimetype": "text/x-python",
   "name": "python",
   "nbconvert_exporter": "python",
   "pygments_lexer": "ipython3",
   "version": "3.12.7"
  }
 },
 "nbformat": 4,
 "nbformat_minor": 5
}
