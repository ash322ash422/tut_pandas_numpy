{
 "cells": [
  {
   "cell_type": "markdown",
   "id": "c1e51c23-e56a-4b95-92c9-981a23cae3ab",
   "metadata": {},
   "source": [
    "# Pandas CSV Reading Performance Tips"
   ]
  },
  {
   "cell_type": "code",
   "execution_count": null,
   "id": "16538a4c-e485-4f78-ae86-289b98717708",
   "metadata": {},
   "outputs": [],
   "source": [
    "import pandas as pd\n",
    "\n",
    "# ## 1. Use dtype to specify column types\n",
    "# Avoid pandas guessing data types, which is slower and less efficient.\n",
    "# Define dtypes for each column\n",
    "dtypes = {\n",
    "    'id': 'int32',\n",
    "    'name': 'category',\n",
    "    'amount': 'float32',\n",
    "    'status': 'category'\n",
    "}\n",
    "df = pd.read_csv('data.csv', dtype=dtypes)"
   ]
  },
  {
   "cell_type": "code",
   "execution_count": null,
   "id": "a3dda149-9c24-493a-a519-d3ea49c481bc",
   "metadata": {},
   "outputs": [],
   "source": [
    "# ## 2. Use usecols to load only required columns\n",
    "df = pd.read_csv('data.csv', usecols=['id', 'amount'])"
   ]
  },
  {
   "cell_type": "code",
   "execution_count": null,
   "id": "43f8b399-d399-43d0-a95a-700cea621e2f",
   "metadata": {},
   "outputs": [],
   "source": [
    "# ## 3. Parse dates efficiently using parse_dates\n",
    "df = pd.read_csv('data.csv', parse_dates=['created_at'])"
   ]
  },
  {
   "cell_type": "code",
   "execution_count": null,
   "id": "e613bd51-701c-4f19-9b93-f955c13e76b4",
   "metadata": {},
   "outputs": [],
   "source": [
    "# ## 4. Use low_memory=False when you get mixed types warnings\n",
    "# This prevents pandas from internally chunking and guessing dtypes.\n",
    "# Better alternative: use explicit dtypes.\n",
    "df = pd.read_csv('data.csv', low_memory=False)"
   ]
  },
  {
   "cell_type": "code",
   "execution_count": null,
   "id": "a8187aef-7d0a-4a01-b6f5-66a6fe1b3d83",
   "metadata": {},
   "outputs": [],
   "source": [
    "# ## 5. Process large files in chunks using chunksize\n",
    "chunks = pd.read_csv('data.csv', chunksize=100_000)\n",
    "for chunk in chunks:\n",
    "    process(chunk)  # Replace with your processing logic"
   ]
  },
  {
   "cell_type": "code",
   "execution_count": null,
   "id": "c7a8b3e1-c22b-4349-9083-a32b4890f89e",
   "metadata": {},
   "outputs": [],
   "source": [
    "# ## 6. Use compression if reading from zipped files\n",
    "df = pd.read_csv('data.csv.gz', compression='gzip')"
   ]
  },
  {
   "cell_type": "code",
   "execution_count": null,
   "id": "9b52e700-10af-479f-a19a-c4f353839686",
   "metadata": {},
   "outputs": [],
   "source": [
    "# ## 7. Disable quoting if not needed (speeds up parsing)\n",
    "import csv\n",
    "df = pd.read_csv('data.csv', quoting=csv.QUOTE_NONE)"
   ]
  },
  {
   "cell_type": "code",
   "execution_count": null,
   "id": "f06d07fd-0d41-45ea-9e6e-c899c336e00e",
   "metadata": {},
   "outputs": [],
   "source": [
    "# ## 8. Use faster backend engines (pandas 2.0+)\n",
    "df = pd.read_csv('data.csv', engine='pyarrow')  # Alternative to engine='c'"
   ]
  }
 ],
 "metadata": {
  "kernelspec": {
   "display_name": "Python 3 (ipykernel)",
   "language": "python",
   "name": "python3"
  },
  "language_info": {
   "codemirror_mode": {
    "name": "ipython",
    "version": 3
   },
   "file_extension": ".py",
   "mimetype": "text/x-python",
   "name": "python",
   "nbconvert_exporter": "python",
   "pygments_lexer": "ipython3",
   "version": "3.11.2"
  }
 },
 "nbformat": 4,
 "nbformat_minor": 5
}
