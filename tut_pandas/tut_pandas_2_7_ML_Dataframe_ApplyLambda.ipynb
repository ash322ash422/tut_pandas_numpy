{
 "cells": [
  {
   "cell_type": "markdown",
   "id": "590c5189",
   "metadata": {},
   "source": [
    "# Pandas: apply \n",
    "#### Topics:\n",
    "- apply + lambda\n"
   ]
  },
  {
   "cell_type": "markdown",
   "id": "19ffec58-a3cd-40df-862b-1c4bf0a13b9a",
   "metadata": {},
   "source": [
    "## apply\n",
    "\n",
    "#### apply\n",
    "- Used with: **Series or DataFrame**\n",
    "- Apply a function to rows or columns (if DataFrame) or elements (if Series)\n",
    "- **More powerful than map**\n"
   ]
  },
  {
   "cell_type": "code",
   "execution_count": 42,
   "id": "eeac7e81-4866-4be2-9189-743d1683c30a",
   "metadata": {},
   "outputs": [],
   "source": [
    "import pandas as pd\n",
    "\n",
    "import warnings\n",
    "warnings.filterwarnings(action='ignore')\n",
    "\n",
    "data_file = 'data.csv'"
   ]
  },
  {
   "cell_type": "code",
   "execution_count": 32,
   "id": "4c14d359-704b-406a-aa42-e57f4396771d",
   "metadata": {},
   "outputs": [
    {
     "name": "stdout",
     "output_type": "stream",
     "text": [
      "       Name  Age         City  Exp  Exp2   Salary passport  bonus  hours\n",
      "0     Alice   25      Chicago    2     2  70000.0      a43   1000    100\n",
      "1       Bob   30  Los Angeles    5     5  80000.0      a44   3000    150\n",
      "2   Charlie   35      Chicago    7     7      NaN      a45      0    200\n",
      "3     David   40      Houston   10    10  90000.0      a46   7000    100\n",
      "4       Eva   22      Houston    1     1  48000.0      a47   2555    120\n",
      "5     Frank   28          NaN    3     3  72000.0      a48      0    100\n",
      "6     Grace   32  San Antonio    6     6  85000.0      a49      0    200\n",
      "7     Helen   26    San Diego    2     2  62000.0      a50   9000    100\n",
      "8     Helen   26    San Diego    2     2  62000.0      a51      0     80\n",
      "9     Helen   26    San Diego    2     2  62000.0      a52   3000    100\n",
      "10    Jerry   23      Phoenix    6     6  78000.0      a53      0     80\n"
     ]
    }
   ],
   "source": [
    "df = pd.read_csv('data.csv')\n",
    "print(df)"
   ]
  },
  {
   "cell_type": "code",
   "execution_count": 43,
   "id": "13b357fa-82f7-49f4-ac05-f3ecdb9de162",
   "metadata": {},
   "outputs": [
    {
     "name": "stdout",
     "output_type": "stream",
     "text": [
      "       Name  Age  Exp age_group\n",
      "0     Alice   25    2     Young\n",
      "1       Bob   30    5    Senior\n",
      "2   Charlie   35    7    Senior\n",
      "3     David   40   10    Senior\n",
      "4       Eva   22    1     Young\n",
      "5     Frank   28    3     Young\n",
      "6     Grace   32    6    Senior\n",
      "7     Helen   26    2     Young\n",
      "8     Helen   26    2     Young\n",
      "9     Helen   26    2     Young\n",
      "10    Jerry   23    6    Senior\n"
     ]
    }
   ],
   "source": [
    "# I want to create a column 'Age_group' that has values Young, Senior\n",
    "# depending on Age and experience.\n",
    "# if age < 30 and experience < 4 then Young\n",
    "# else Senior\n",
    "\n",
    "# # 1) row-wise CF\n",
    "def categ_person(row):\n",
    "    if row['Age'] < 30 and row['Exp'] < 4:\n",
    "        return 'Young'\n",
    "    else:\n",
    "        return 'Senior'\n",
    "\n",
    "df['age_group'] = df.apply(categ_person, axis=1)\n",
    "print(df[[\"Name\", \"Age\", \"Exp\", \"age_group\"]])"
   ]
  },
  {
   "cell_type": "code",
   "execution_count": 34,
   "id": "eeae6678-9978-44ea-b7fa-2ad9c41dc26b",
   "metadata": {},
   "outputs": [
    {
     "name": "stdout",
     "output_type": "stream",
     "text": [
      "       Name  Age   Salary salary_clean\n",
      "0     Alice   25  70000.0  USD 70000.0\n",
      "1       Bob   30  80000.0  USD 80000.0\n",
      "2   Charlie   35      NaN          NaN\n",
      "3     David   40  90000.0  USD 90000.0\n",
      "4       Eva   22  48000.0  USD 48000.0\n",
      "5     Frank   28  72000.0  USD 72000.0\n",
      "6     Grace   32  85000.0  USD 85000.0\n",
      "7     Helen   26  62000.0  USD 62000.0\n",
      "8     Helen   26  62000.0  USD 62000.0\n",
      "9     Helen   26  62000.0  USD 62000.0\n",
      "10    Jerry   23  78000.0  USD 78000.0\n"
     ]
    }
   ],
   "source": [
    "## 2) Column-wise custom function:\n",
    "# I want to create another column salary_clean with \"USD\" appended to the Salary column\n",
    "\n",
    "def add_usd(s):\n",
    "    if pd.notnull(s):\n",
    "        return f\"USD {s}\"\n",
    "    return s  # Keep NaN as is\n",
    "    \n",
    "df['salary_clean'] = df['Salary'].apply(add_usd) \n",
    "print(df[[\"Name\", \"Age\", \"Salary\", \"salary_clean\"]])"
   ]
  },
  {
   "cell_type": "markdown",
   "id": "7552bdab-d4ef-42a5-baa8-9aae7afacb00",
   "metadata": {},
   "source": [
    "### apply + lambda"
   ]
  },
  {
   "cell_type": "code",
   "execution_count": 41,
   "id": "7f1f6d2f-c88d-4f27-8b0f-d5e310005b56",
   "metadata": {},
   "outputs": [
    {
     "name": "stdout",
     "output_type": "stream",
     "text": [
      "       Name  Age         City  Exp  Exp2   Salary passport  bonus  hours\n",
      "0     Alice   25      Chicago    2     2  70000.0      a43   1000    100\n",
      "1       Bob   30  Los Angeles    5     5  80000.0      a44   3000    150\n",
      "2   Charlie   35      Chicago    7     7      NaN      a45      0    200\n",
      "3     David   40      Houston   10    10  90000.0      a46   7000    100\n",
      "4       Eva   22      Houston    1     1  48000.0      a47   2555    120\n",
      "5     Frank   28          NaN    3     3  72000.0      a48      0    100\n",
      "6     Grace   32  San Antonio    6     6  85000.0      a49      0    200\n",
      "7     Helen   26    San Diego    2     2  62000.0      a50   9000    100\n",
      "8     Helen   26    San Diego    2     2  62000.0      a51      0     80\n",
      "9     Helen   26    San Diego    2     2  62000.0      a52   3000    100\n",
      "10    Jerry   23      Phoenix    6     6  78000.0      a53      0     80 \n",
      "++++\n",
      "\n",
      "       Name  Age   Salary    tax1\n",
      "0     Alice   25  70000.0  7000.0\n",
      "1       Bob   30  80000.0  8000.0\n",
      "2   Charlie   35      NaN     NaN\n",
      "3     David   40  90000.0  9000.0\n",
      "4       Eva   22  48000.0  4800.0\n",
      "5     Frank   28  72000.0  7200.0\n",
      "6     Grace   32  85000.0  8500.0\n",
      "7     Helen   26  62000.0  6200.0\n",
      "8     Helen   26  62000.0  6200.0\n",
      "9     Helen   26  62000.0  6200.0\n",
      "10    Jerry   23  78000.0  7800.0\n"
     ]
    }
   ],
   "source": [
    "# Now lets use lambda\n",
    "df = pd.read_csv('data.csv')\n",
    "print(df,\"\\n++++\\n\")\n",
    "\n",
    "# step1: create a new column ,Tax, which is 10% of your salary\n",
    "# Using apply() on a Series (column-wise operation)\n",
    "def add_tax(salary):\n",
    "    return salary * 0.1\n",
    "\n",
    "df['tax1'] = df['Salary'].apply(add_tax)\n",
    "\n",
    "print(df[[\"Name\", \"Age\", \"Salary\", \"tax1\"]])"
   ]
  },
  {
   "cell_type": "code",
   "execution_count": 36,
   "id": "619afa79-ba4c-4d27-a1a0-5062c274e67b",
   "metadata": {},
   "outputs": [
    {
     "name": "stdout",
     "output_type": "stream",
     "text": [
      "       Name  Age   Salary    tax1    tax2\n",
      "0     Alice   25  70000.0  7000.0  7000.0\n",
      "1       Bob   30  80000.0  8000.0  8000.0\n",
      "2   Charlie   35      NaN     NaN     NaN\n",
      "3     David   40  90000.0  9000.0  9000.0\n",
      "4       Eva   22  48000.0  4800.0  4800.0\n",
      "5     Frank   28  72000.0  7200.0  7200.0\n",
      "6     Grace   32  85000.0  8500.0  8500.0\n",
      "7     Helen   26  62000.0  6200.0  6200.0\n",
      "8     Helen   26  62000.0  6200.0  6200.0\n",
      "9     Helen   26  62000.0  6200.0  6200.0\n",
      "10    Jerry   23  78000.0  7800.0  7800.0\n"
     ]
    }
   ],
   "source": [
    "# step2: Redo above using lambda\n",
    "df['tax2'] = df['Salary'].apply(lambda x: x * 0.1)\n",
    "\n",
    "print(df[[\"Name\", \"Age\", \"Salary\", \"tax1\", \"tax2\"]])"
   ]
  },
  {
   "cell_type": "code",
   "execution_count": null,
   "id": "3d98a1a3-dd67-4c96-aec9-6bb662abeb5b",
   "metadata": {},
   "outputs": [],
   "source": []
  },
  {
   "cell_type": "code",
   "execution_count": null,
   "id": "9252004d-600c-4646-9f4a-e0ccbec59ba0",
   "metadata": {},
   "outputs": [],
   "source": []
  },
  {
   "cell_type": "code",
   "execution_count": null,
   "id": "e73d6b7f-7032-4de4-b627-a89786cf963d",
   "metadata": {},
   "outputs": [],
   "source": []
  },
  {
   "cell_type": "code",
   "execution_count": null,
   "id": "d3273c17-8f00-4b94-8ec5-218cabb43b77",
   "metadata": {},
   "outputs": [],
   "source": []
  },
  {
   "cell_type": "code",
   "execution_count": 37,
   "id": "5548b657-d3bd-47f0-a877-b7f82e2ab668",
   "metadata": {},
   "outputs": [
    {
     "name": "stdout",
     "output_type": "stream",
     "text": [
      "       Name  Age                    info1\n",
      "0     Alice   25    Alice is 25 years old\n",
      "1       Bob   30      Bob is 30 years old\n",
      "2   Charlie   35  Charlie is 35 years old\n",
      "3     David   40    David is 40 years old\n",
      "4       Eva   22      Eva is 22 years old\n",
      "5     Frank   28    Frank is 28 years old\n",
      "6     Grace   32    Grace is 32 years old\n",
      "7     Helen   26    Helen is 26 years old\n",
      "8     Helen   26    Helen is 26 years old\n",
      "9     Helen   26    Helen is 26 years old\n",
      "10    Jerry   23    Jerry is 23 years old\n"
     ]
    }
   ],
   "source": [
    "# Using apply+lambda across rows (axis=1)\n",
    "# step1: without lambda function\n",
    "def format_info(row):\n",
    "    return f\"{row['Name']} is {row['Age']} years old\"\n",
    "\n",
    "df['info1'] = df.apply(format_info, axis=1)\n",
    "print(df[[\"Name\", \"Age\", \"info1\"]])"
   ]
  },
  {
   "cell_type": "code",
   "execution_count": 38,
   "id": "d5929b6e-6b68-4810-a5ac-10e29ef52da2",
   "metadata": {},
   "outputs": [
    {
     "name": "stdout",
     "output_type": "stream",
     "text": [
      "       Name  Age                    info1                    info2\n",
      "0     Alice   25    Alice is 25 years old    Alice is 25 years old\n",
      "1       Bob   30      Bob is 30 years old      Bob is 30 years old\n",
      "2   Charlie   35  Charlie is 35 years old  Charlie is 35 years old\n",
      "3     David   40    David is 40 years old    David is 40 years old\n",
      "4       Eva   22      Eva is 22 years old      Eva is 22 years old\n",
      "5     Frank   28    Frank is 28 years old    Frank is 28 years old\n",
      "6     Grace   32    Grace is 32 years old    Grace is 32 years old\n",
      "7     Helen   26    Helen is 26 years old    Helen is 26 years old\n",
      "8     Helen   26    Helen is 26 years old    Helen is 26 years old\n",
      "9     Helen   26    Helen is 26 years old    Helen is 26 years old\n",
      "10    Jerry   23    Jerry is 23 years old    Jerry is 23 years old\n"
     ]
    }
   ],
   "source": [
    "# step2: with lambda function\n",
    "# df['info'] = df.apply(lambda row: \"XXX\", axis=1 ) #step1\n",
    "df['info2'] = df.apply(lambda row: f\"{row['Name']} is {row['Age']} years old\", axis=1) #step2\n",
    "print(df[[\"Name\", \"Age\", \"info1\", \"info2\"]])"
   ]
  },
  {
   "cell_type": "code",
   "execution_count": 44,
   "id": "523bd45b-9399-4190-a19e-7440253b4eaa",
   "metadata": {},
   "outputs": [
    {
     "name": "stdout",
     "output_type": "stream",
     "text": [
      "       Name  Age  Exp age_group\n",
      "0     Alice   25    2     Young\n",
      "1       Bob   30    5    Senior\n",
      "2   Charlie   35    7    Senior\n",
      "3     David   40   10    Senior\n",
      "4       Eva   22    1     Young\n",
      "5     Frank   28    3     Young\n",
      "6     Grace   32    6    Senior\n",
      "7     Helen   26    2     Young\n",
      "8     Helen   26    2     Young\n",
      "9     Helen   26    2     Young\n",
      "10    Jerry   23    6    Senior\n"
     ]
    }
   ],
   "source": [
    "# if age < 30 and experience < 4 then Young\n",
    "# else Senior\n",
    "df['Age_group'] = df.apply(lambda row: 'Young' if row['Age'] < 30 and row['Exp'] < 4 else 'Senior', axis=1)\n",
    "print(df[[\"Name\", \"Age\", \"Exp\", \"age_group\"]])"
   ]
  },
  {
   "cell_type": "markdown",
   "id": "716022fc-a234-4e04-b44e-4368acad1adc",
   "metadata": {},
   "source": [
    "# STOP"
   ]
  },
  {
   "cell_type": "markdown",
   "id": "e33383ba-5be1-4981-bd0e-6360f3651cf2",
   "metadata": {},
   "source": []
  },
  {
   "cell_type": "code",
   "execution_count": null,
   "id": "da9f12c4-2bbe-4c5a-8df5-c087382c973f",
   "metadata": {},
   "outputs": [],
   "source": []
  },
  {
   "cell_type": "code",
   "execution_count": null,
   "id": "497208ef-2db8-402a-a5fc-07b295e7c6e2",
   "metadata": {},
   "outputs": [],
   "source": []
  },
  {
   "cell_type": "code",
   "execution_count": null,
   "id": "fba01c0c-4697-4fa0-b407-08e6f684c3c3",
   "metadata": {},
   "outputs": [],
   "source": []
  },
  {
   "cell_type": "code",
   "execution_count": null,
   "id": "7eff0ca8-e19e-483e-9f8a-16f10b6d1e58",
   "metadata": {},
   "outputs": [],
   "source": []
  },
  {
   "cell_type": "code",
   "execution_count": 40,
   "id": "361de145-dabd-4f79-88d1-36c852e48cc0",
   "metadata": {},
   "outputs": [],
   "source": [
    "# # SKIP\n",
    "# # (OPTIONAL) I want to see all the rows/columns\n",
    "# # step1\n",
    "# df = pd.read_csv('breast_cancer_modified.csv') # i cannot see all rows\n",
    "\n",
    "# # step2\n",
    "# pd.set_option('display.max_rows', None) # to see all the rows\n",
    "# # pd.set_option('display.max_columns', None)) # to see all the columns\n",
    "\n",
    "# df = pd.read_csv('breast_cancer_modified.csv')\n",
    "# print(df)\n",
    "\n",
    "# # step3 when everything is done then reset back.\n",
    "# pd.reset_option('display.max_rows') "
   ]
  },
  {
   "cell_type": "markdown",
   "id": "843998eb-fad8-4316-8cba-91ebb56f4489",
   "metadata": {},
   "source": [
    "# map (IGNORE), applymap (IGNORE)\n",
    "\n",
    "#### (IGNORE) map\n",
    "- Used with: **Series only (1D)**\n",
    "- Purpose: Apply a function element-wise\n",
    "\n",
    "#### (IGNORE) applymap\n",
    "- Used with: **DataFrame only (2D)**\n",
    "- Purpose: Apply a function to every single element\n",
    "- Like: Nested .apply() for all cells"
   ]
  },
  {
   "cell_type": "code",
   "execution_count": null,
   "id": "962beca3-91c6-49b3-abfe-234f481e3dc4",
   "metadata": {},
   "outputs": [],
   "source": []
  }
 ],
 "metadata": {
  "kernelspec": {
   "display_name": "Python 3 (ipykernel)",
   "language": "python",
   "name": "python3"
  },
  "language_info": {
   "codemirror_mode": {
    "name": "ipython",
    "version": 3
   },
   "file_extension": ".py",
   "mimetype": "text/x-python",
   "name": "python",
   "nbconvert_exporter": "python",
   "pygments_lexer": "ipython3",
   "version": "3.9.9"
  }
 },
 "nbformat": 4,
 "nbformat_minor": 5
}
