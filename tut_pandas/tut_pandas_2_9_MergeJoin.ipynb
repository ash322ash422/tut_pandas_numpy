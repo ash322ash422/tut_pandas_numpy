{
 "cells": [
  {
   "cell_type": "markdown",
   "id": "2b705284-ce2e-47e0-8409-89cbacfa1414",
   "metadata": {},
   "source": [
    "## merge: [merge](https://pandas.pydata.org/docs/user_guide/merging.html#merge)"
   ]
  },
  {
   "cell_type": "markdown",
   "id": "4009f868-3a87-4b17-a12f-50569b2c70c7",
   "metadata": {},
   "source": [
    "For a **many-to-many** join, if a key combination appears\n",
    "more than once in both tables, the :class:`DataFrame` will have the **Cartesian\n",
    "product** of the associated data."
   ]
  },
  {
   "cell_type": "code",
   "execution_count": null,
   "id": "893cfec6-8ba0-4ca1-b0bf-8f277d3eb998",
   "metadata": {},
   "outputs": [],
   "source": [
    "import pandas as pd\n",
    "\n",
    "import warnings\n",
    "\n",
    "# Suppress all FutureWarnings\n",
    "warnings.simplefilter(action='ignore', category=FutureWarning)"
   ]
  },
  {
   "cell_type": "code",
   "execution_count": 36,
   "id": "f8a9d489-d4b4-4b6d-b9db-1bf1f2aae6d8",
   "metadata": {},
   "outputs": [
    {
     "name": "stdout",
     "output_type": "stream",
     "text": [
      "  key   A   B   C   D\n",
      "0  K0  A0  B0  C0  D0\n",
      "1  K1  A1  B1  C1  D1\n",
      "2  K2  A2  B2  C2  D2\n",
      "3  K3  A3  B3  C3  D3\n"
     ]
    }
   ],
   "source": [
    "left = pd.DataFrame(\n",
    "   {\n",
    "       \"key\": [\"K0\", \"K1\", \"K2\", \"K3\"],\n",
    "       \"A\"  : [\"A0\", \"A1\", \"A2\", \"A3\"],\n",
    "       \"B\"  : [\"B0\", \"B1\", \"B2\", \"B3\"],\n",
    "   }\n",
    ")\n",
    "\n",
    "right = pd.DataFrame(\n",
    "   {\n",
    "       \"key\": [\"K0\", \"K1\", \"K2\", \"K3\"],\n",
    "       \"C\"  : [\"C0\", \"C1\", \"C2\", \"C3\"],\n",
    "       \"D\"  : [\"D0\", \"D1\", \"D2\", \"D3\"],\n",
    "   }\n",
    ")\n",
    "\n",
    "print(\"left:\\n\", left)\n",
    "print(\"right:\\n\", right)\n",
    "\n",
    "result = pd.merge(left, right, on=\"key\")\n",
    "print(result)"
   ]
  },
  {
   "cell_type": "code",
   "execution_count": null,
   "id": "e4cb6b81-28e7-497a-9822-6ef302074e62",
   "metadata": {},
   "outputs": [],
   "source": []
  },
  {
   "cell_type": "code",
   "execution_count": null,
   "id": "fe20d682-3e2e-4d7a-8174-e05d3a1b51bb",
   "metadata": {},
   "outputs": [],
   "source": []
  },
  {
   "cell_type": "code",
   "execution_count": null,
   "id": "5db5fa5d-743c-45e3-a71a-8d6c07d26644",
   "metadata": {},
   "outputs": [],
   "source": []
  },
  {
   "cell_type": "markdown",
   "id": "151c6562-769c-4a3c-b94a-ea2c1f8aa4cc",
   "metadata": {},
   "source": [
    "## Join: [join](https://pandas.pydata.org/docs/user_guide/merging.html#dataframe-join)"
   ]
  },
  {
   "cell_type": "code",
   "execution_count": 37,
   "id": "51afe027-9799-47ac-b701-5ca4bf0c214a",
   "metadata": {},
   "outputs": [
    {
     "name": "stdout",
     "output_type": "stream",
     "text": [
      "     A   B    C    D\n",
      "K0  A0  B0   C0   D0\n",
      "K1  A1  B1  NaN  NaN\n",
      "K2  A2  B2   C2   D2\n"
     ]
    }
   ],
   "source": [
    "left = pd.DataFrame(\n",
    " {\"A\": [\"A0\", \"A1\", \"A2\"], \"B\": [\"B0\", \"B1\", \"B2\"]},\n",
    "    index=[\"K0\", \"K1\", \"K2\"]\n",
    ")\n",
    "\n",
    "right = pd.DataFrame(\n",
    "   {\"C\": [\"C0\", \"C2\", \"C3\"], \"D\": [\"D0\", \"D2\", \"D3\"]},\n",
    "   index=[\"K0\", \"K2\", \"K3\"]\n",
    " )\n",
    "\n",
    "result = left.join(right)\n",
    "\n",
    "print(result)"
   ]
  },
  {
   "cell_type": "code",
   "execution_count": 38,
   "id": "d36537a9-84ae-49c3-ab37-5d903566d516",
   "metadata": {},
   "outputs": [],
   "source": [
    "## ignore the rest"
   ]
  }
 ],
 "metadata": {
  "kernelspec": {
   "display_name": "Python 3 (ipykernel)",
   "language": "python",
   "name": "python3"
  },
  "language_info": {
   "codemirror_mode": {
    "name": "ipython",
    "version": 3
   },
   "file_extension": ".py",
   "mimetype": "text/x-python",
   "name": "python",
   "nbconvert_exporter": "python",
   "pygments_lexer": "ipython3",
   "version": "3.9.9"
  }
 },
 "nbformat": 4,
 "nbformat_minor": 5
}
