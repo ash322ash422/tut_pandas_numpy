{
 "cells": [
  {
   "cell_type": "markdown",
   "id": "151c6562-769c-4a3c-b94a-ea2c1f8aa4cc",
   "metadata": {},
   "source": [
    "## Join: [join](https://pandas.pydata.org/docs/user_guide/merging.html#dataframe-join)\n",
    "- Official source: https://pandas.pydata.org/docs/user_guide/merging.html\n",
    "- join() combines the columns of multiple, potentially differently-indexed DataFrame into a single result DataFrame."
   ]
  },
  {
   "cell_type": "code",
   "execution_count": 8,
   "id": "893cfec6-8ba0-4ca1-b0bf-8f277d3eb998",
   "metadata": {},
   "outputs": [],
   "source": [
    "import pandas as pd\n",
    "\n",
    "import warnings\n",
    "\n",
    "# Suppress all FutureWarnings\n",
    "warnings.simplefilter(action='ignore', category=FutureWarning)"
   ]
  },
  {
   "cell_type": "code",
   "execution_count": 9,
   "id": "51afe027-9799-47ac-b701-5ca4bf0c214a",
   "metadata": {},
   "outputs": [
    {
     "name": "stdout",
     "output_type": "stream",
     "text": [
      "left:\n",
      "      A   B\n",
      "K0  A0  B0\n",
      "K1  A1  B1\n",
      "K2  A2  B2\n",
      "right:\n",
      "      C   D\n",
      "K0  C0  D0\n",
      "K2  C2  D2\n",
      "K3  C3  D3\n",
      "     A   B    C    D\n",
      "K0  A0  B0   C0   D0\n",
      "K1  A1  B1  NaN  NaN\n",
      "K2  A2  B2   C2   D2\n"
     ]
    }
   ],
   "source": [
    "left = pd.DataFrame(\n",
    " {\"A\": [\"A0\", \"A1\", \"A2\"],\n",
    "  \"B\": [\"B0\", \"B1\", \"B2\"]\n",
    " }, index=[\"K0\", \"K1\", \"K2\"]\n",
    ")\n",
    "\n",
    "right = pd.DataFrame(\n",
    "   {\"C\": [\"C0\", \"C2\", \"C3\"],\n",
    "    \"D\": [\"D0\", \"D2\", \"D3\"]\n",
    "   }, index=[\"K0\", \"K2\", \"K3\"]\n",
    ")\n",
    "\n",
    "result = left.join(right)\n",
    "\n",
    "print(\"left:\\n\", left)\n",
    "print(\"right:\\n\", right)\n",
    "print(result)"
   ]
  },
  {
   "cell_type": "code",
   "execution_count": 10,
   "id": "d36537a9-84ae-49c3-ab37-5d903566d516",
   "metadata": {},
   "outputs": [
    {
     "name": "stdout",
     "output_type": "stream",
     "text": [
      "left:\n",
      "      A   B\n",
      "K0  A0  B0\n",
      "K1  A1  B1\n",
      "K2  A2  B2\n",
      "right:\n",
      "      C   D\n",
      "K0  C0  D0\n",
      "K2  C2  D2\n",
      "K3  C3  D3\n",
      "      A    B    C    D\n",
      "K0   A0   B0   C0   D0\n",
      "K1   A1   B1  NaN  NaN\n",
      "K2   A2   B2   C2   D2\n",
      "K3  NaN  NaN   C3   D3\n"
     ]
    }
   ],
   "source": [
    "# union\n",
    "result = left.join(right, how=\"outer\")\n",
    "print(\"left:\\n\", left)\n",
    "print(\"right:\\n\", right)\n",
    "print(result)"
   ]
  },
  {
   "cell_type": "code",
   "execution_count": 11,
   "id": "6bc23c2e-7f50-45e7-b2a6-da0e3f2e896b",
   "metadata": {},
   "outputs": [
    {
     "name": "stdout",
     "output_type": "stream",
     "text": [
      "left:\n",
      "      A   B\n",
      "K0  A0  B0\n",
      "K1  A1  B1\n",
      "K2  A2  B2\n",
      "right:\n",
      "      C   D\n",
      "K0  C0  D0\n",
      "K2  C2  D2\n",
      "K3  C3  D3\n",
      "     A   B   C   D\n",
      "K0  A0  B0  C0  D0\n",
      "K2  A2  B2  C2  D2\n"
     ]
    }
   ],
   "source": [
    "# intersection of 2 dataframes\n",
    "result = left.join(right, how=\"inner\")\n",
    "print(\"left:\\n\", left)\n",
    "print(\"right:\\n\", right)\n",
    "print(result)"
   ]
  },
  {
   "cell_type": "code",
   "execution_count": null,
   "id": "e2a9d8d5-5310-416a-b724-1042ff5d9988",
   "metadata": {},
   "outputs": [],
   "source": []
  }
 ],
 "metadata": {
  "kernelspec": {
   "display_name": "Python 3 (ipykernel)",
   "language": "python",
   "name": "python3"
  },
  "language_info": {
   "codemirror_mode": {
    "name": "ipython",
    "version": 3
   },
   "file_extension": ".py",
   "mimetype": "text/x-python",
   "name": "python",
   "nbconvert_exporter": "python",
   "pygments_lexer": "ipython3",
   "version": "3.9.9"
  }
 },
 "nbformat": 4,
 "nbformat_minor": 5
}
