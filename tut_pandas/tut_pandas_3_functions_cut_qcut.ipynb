{
 "cells": [
  {
   "cell_type": "markdown",
   "id": "a3a5c73f-e8c8-462d-970b-d04c167b9e29",
   "metadata": {},
   "source": [
    "## cut()\n",
    "- Bucket continuous values into intervals. It converts numerical data into categories.\n",
    "- It produces fixed bin ranges\n"
   ]
  },
  {
   "cell_type": "code",
   "execution_count": 1,
   "id": "fad29569-d614-481f-b139-325cd001bfce",
   "metadata": {},
   "outputs": [
    {
     "name": "stderr",
     "output_type": "stream",
     "text": [
      "C:\\Users\\hi\\AppData\\Local\\Temp\\ipykernel_18648\\4080736814.py:1: DeprecationWarning: \n",
      "Pyarrow will become a required dependency of pandas in the next major release of pandas (pandas 3.0),\n",
      "(to allow more performant data types, such as the Arrow string type, and better interoperability with other libraries)\n",
      "but was not found to be installed on your system.\n",
      "If this would cause problems for you,\n",
      "please provide us feedback at https://github.com/pandas-dev/pandas/issues/54466\n",
      "        \n",
      "  import pandas as pd\n"
     ]
    }
   ],
   "source": [
    "import pandas as pd"
   ]
  },
  {
   "cell_type": "code",
   "execution_count": 6,
   "id": "f4a25462-02ca-4221-ab8c-344d506f3eef",
   "metadata": {},
   "outputs": [
    {
     "name": "stdout",
     "output_type": "stream",
     "text": [
      "    Age\n",
      "0     5\n",
      "1    10\n",
      "2    40\n",
      "3    60\n",
      "4    40\n",
      "5    90\n",
      "6    30\n",
      "7    25\n",
      "8    12\n",
      "9    11\n",
      "10   45\n",
      "11   88\n",
      "12   14\n"
     ]
    }
   ],
   "source": [
    "# Sample data\n",
    "df = pd.DataFrame({\"Age\": [5, 10, 40, 60, 40, 90, 30, 25, 12, 11, 45, 88, 14]})\n",
    "print(df)"
   ]
  },
  {
   "cell_type": "code",
   "execution_count": 8,
   "id": "96c47f05-37c0-48b3-a232-f5fe776b4291",
   "metadata": {},
   "outputs": [
    {
     "name": "stdout",
     "output_type": "stream",
     "text": [
      "0       (0, 18]\n",
      "1       (0, 18]\n",
      "2      (35, 50]\n",
      "3      (50, 65]\n",
      "4      (35, 50]\n",
      "5     (65, 100]\n",
      "6      (18, 35]\n",
      "7      (18, 35]\n",
      "8       (0, 18]\n",
      "9       (0, 18]\n",
      "10     (35, 50]\n",
      "11    (65, 100]\n",
      "12      (0, 18]\n",
      "Name: Age, dtype: category\n",
      "Categories (5, interval[int64, right]): [(0, 18] < (18, 35] < (35, 50] < (50, 65] < (65, 100]]\n"
     ]
    }
   ],
   "source": [
    "# step1: Bins with default labels\n",
    "# Define bins\n",
    "age_bins = [0, 18, 35, 50, 65, 100]\n",
    "\n",
    "# Categorize ages\n",
    "ages_cut = pd.cut(df[\"Age\"], age_bins)\n",
    "\n",
    "print(ages_cut)"
   ]
  },
  {
   "cell_type": "markdown",
   "id": "8c199bf8-ea61-48b7-a86f-733c423f532b",
   "metadata": {},
   "source": [
    "### ages_cut is a pandas Categorical object, which tells you which interval each age belongs to."
   ]
  },
  {
   "cell_type": "code",
   "execution_count": null,
   "id": "8be3e7f4-be04-45fd-be74-2ed4d517cc39",
   "metadata": {},
   "outputs": [],
   "source": []
  },
  {
   "cell_type": "code",
   "execution_count": 9,
   "id": "820c6066-e828-4110-af39-ca492423fe80",
   "metadata": {},
   "outputs": [
    {
     "name": "stdout",
     "output_type": "stream",
     "text": [
      "    Age    AgeGroup\n",
      "0     5       Child\n",
      "1    10       Child\n",
      "2    40       Adult\n",
      "3    60  Middle Age\n",
      "4    40       Adult\n",
      "5    90      Senior\n",
      "6    30       Youth\n",
      "7    25       Youth\n",
      "8    12       Child\n",
      "9    11       Child\n",
      "10   45       Adult\n",
      "11   88      Senior\n",
      "12   14       Child\n"
     ]
    }
   ],
   "source": [
    "# step1: Bins with custom labels to make it more readable\n",
    "labels = [\"Child\", \"Youth\", \"Adult\", \"Middle Age\", \"Senior\"]\n",
    "df[\"AgeGroup\"] = pd.cut(df[\"Age\"], bins=age_bins, labels=labels)\n",
    "\n",
    "print(df)"
   ]
  },
  {
   "cell_type": "code",
   "execution_count": null,
   "id": "bd16a087-3daa-4ab2-b36f-4072878223c7",
   "metadata": {},
   "outputs": [],
   "source": []
  },
  {
   "cell_type": "code",
   "execution_count": null,
   "id": "7f52390f-6489-483d-a8f6-0073dad81e4c",
   "metadata": {},
   "outputs": [],
   "source": []
  },
  {
   "cell_type": "code",
   "execution_count": null,
   "id": "9d0f7a76-332f-4e92-b366-692d883cfb48",
   "metadata": {},
   "outputs": [],
   "source": []
  },
  {
   "cell_type": "code",
   "execution_count": null,
   "id": "9b1f61c3-db91-496f-b8ea-154ea7db8885",
   "metadata": {},
   "outputs": [],
   "source": []
  },
  {
   "cell_type": "markdown",
   "id": "9a6e7e4a-6bb8-410f-bffc-ca133f522ee4",
   "metadata": {},
   "source": [
    "## qcut()\n",
    "- Bucket continuous values into intervals. It converts numerical data into categories.\n",
    "- Divides the data into quantiles (equal-sized groups).\n",
    "- Use this when you want bins with equal number of observations.\n"
   ]
  },
  {
   "cell_type": "code",
   "execution_count": 16,
   "id": "e87417cc-0f97-426e-9353-f6b24dd14b75",
   "metadata": {},
   "outputs": [
    {
     "name": "stdout",
     "output_type": "stream",
     "text": [
      "df:\n",
      "     Age\n",
      "0    48\n",
      "1     3\n",
      "2    13\n",
      "3    57\n",
      "4    99\n",
      "5    24\n",
      "6    70\n",
      "7    48\n",
      "8    42\n",
      "9    36\n",
      "10   95\n",
      "11   11\n",
      "12   21\n",
      "13   74\n",
      "14   30\n",
      "15   62\n",
      "16   93\n",
      "17   74\n",
      "18   80\n",
      "19   99\n"
     ]
    }
   ],
   "source": [
    "import numpy as np\n",
    "\n",
    "df = pd.DataFrame({\"Age\": np.random.randint(1, 100, size=20)})\n",
    "print(\"df:\\n\", df)"
   ]
  },
  {
   "cell_type": "code",
   "execution_count": 17,
   "id": "5ee71bef-d463-4371-bd79-5c1c9ca977de",
   "metadata": {},
   "outputs": [
    {
     "name": "stdout",
     "output_type": "stream",
     "text": [
      "qcut_bins:\n",
      " 0      (28.5, 52.5]\n",
      "1     (2.999, 28.5]\n",
      "2     (2.999, 28.5]\n",
      "3      (52.5, 75.5]\n",
      "4      (75.5, 99.0]\n",
      "5     (2.999, 28.5]\n",
      "6      (52.5, 75.5]\n",
      "7      (28.5, 52.5]\n",
      "8      (28.5, 52.5]\n",
      "9      (28.5, 52.5]\n",
      "10     (75.5, 99.0]\n",
      "11    (2.999, 28.5]\n",
      "12    (2.999, 28.5]\n",
      "13     (52.5, 75.5]\n",
      "14     (28.5, 52.5]\n",
      "15     (52.5, 75.5]\n",
      "16     (75.5, 99.0]\n",
      "17     (52.5, 75.5]\n",
      "18     (75.5, 99.0]\n",
      "19     (75.5, 99.0]\n",
      "Name: Age, dtype: category\n",
      "Categories (4, interval[float64, right]): [(2.999, 28.5] < (28.5, 52.5] < (52.5, 75.5] < (75.5, 99.0]]\n"
     ]
    }
   ],
   "source": [
    "# step1:\n",
    "\n",
    "# Split into 4 quantiles\n",
    "qcut_bins = pd.qcut(df[\"Age\"], q=4)\n",
    "print(\"qcut_bins:\\n\", qcut_bins)"
   ]
  },
  {
   "cell_type": "code",
   "execution_count": 18,
   "id": "b8609f10-6fa5-465a-9274-6ca0ffea0e1a",
   "metadata": {},
   "outputs": [
    {
     "name": "stdout",
     "output_type": "stream",
     "text": [
      "df:\n",
      "     Age           qcut\n",
      "0    48   (28.5, 52.5]\n",
      "1     3  (2.999, 28.5]\n",
      "2    13  (2.999, 28.5]\n",
      "3    57   (52.5, 75.5]\n",
      "4    99   (75.5, 99.0]\n",
      "5    24  (2.999, 28.5]\n",
      "6    70   (52.5, 75.5]\n",
      "7    48   (28.5, 52.5]\n",
      "8    42   (28.5, 52.5]\n",
      "9    36   (28.5, 52.5]\n",
      "10   95   (75.5, 99.0]\n",
      "11   11  (2.999, 28.5]\n",
      "12   21  (2.999, 28.5]\n",
      "13   74   (52.5, 75.5]\n",
      "14   30   (28.5, 52.5]\n",
      "15   62   (52.5, 75.5]\n",
      "16   93   (75.5, 99.0]\n",
      "17   74   (52.5, 75.5]\n",
      "18   80   (75.5, 99.0]\n",
      "19   99   (75.5, 99.0]\n"
     ]
    }
   ],
   "source": [
    "# step2: lets print the qcut_bins side by side for better visual\n",
    "df[\"qcut\"] = qcut_bins\n",
    "print(\"df:\\n\", df)"
   ]
  },
  {
   "cell_type": "markdown",
   "id": "c084a720-e89e-4225-b29a-bd1525ad3096",
   "metadata": {},
   "source": [
    "#### each bin has equal number of observations (n/q per bin)."
   ]
  },
  {
   "cell_type": "code",
   "execution_count": null,
   "id": "f3aadac0-63c5-4840-a67f-8138a03b41f7",
   "metadata": {},
   "outputs": [],
   "source": []
  },
  {
   "cell_type": "code",
   "execution_count": null,
   "id": "dab6c55d-cb65-4bf2-8ce1-15228437a833",
   "metadata": {},
   "outputs": [],
   "source": []
  },
  {
   "cell_type": "code",
   "execution_count": null,
   "id": "9cc4a0f4-831a-4862-89c5-50dc55c854b7",
   "metadata": {},
   "outputs": [],
   "source": []
  },
  {
   "cell_type": "code",
   "execution_count": null,
   "id": "b3d74617-5d7a-48df-a4b1-732dc9ec0338",
   "metadata": {},
   "outputs": [],
   "source": []
  },
  {
   "cell_type": "code",
   "execution_count": null,
   "id": "2c719c7b-4562-4f1f-a0a1-c639e7fae72c",
   "metadata": {},
   "outputs": [],
   "source": []
  },
  {
   "cell_type": "code",
   "execution_count": null,
   "id": "8f4bc6ca-25e7-4f97-b6da-a9f84da5cd5f",
   "metadata": {},
   "outputs": [],
   "source": []
  },
  {
   "cell_type": "markdown",
   "id": "27062276-3c50-4a0c-bca8-107cdbb63fa9",
   "metadata": {},
   "source": [
    "## Key differences\n",
    "```\n",
    "| Feature        | `pd.cut()`                                                 | `pd.qcut()`                                             \n",
    "| -------------- | ---------------------------------------------------------- | -----------------\n",
    "| Binning metho  | Fixed intervals (user-defined ranges)                    | Based on quantiles (data distribution)                        |\n",
    "| Bin sizes      | Equal width                                              | Equal frequency                                               |\n",
    "| When to use    | When you want specific intervals (e.g., Age: 0–18, 19–35…)| When you want each bin to have roughly same number of samples |\n",
    "| Example use case | Categorizing income into fixed ranges (0–20k, 20k–50k)  | Splitting exam scores into quartiles (top 25%, bottom 25%)    |\n",
    "```"
   ]
  },
  {
   "cell_type": "code",
   "execution_count": null,
   "id": "f19f841b-338b-47d8-853f-c747f3010eb4",
   "metadata": {},
   "outputs": [],
   "source": []
  }
 ],
 "metadata": {
  "kernelspec": {
   "display_name": "Python 3 (ipykernel)",
   "language": "python",
   "name": "python3"
  },
  "language_info": {
   "codemirror_mode": {
    "name": "ipython",
    "version": 3
   },
   "file_extension": ".py",
   "mimetype": "text/x-python",
   "name": "python",
   "nbconvert_exporter": "python",
   "pygments_lexer": "ipython3",
   "version": "3.9.9"
  }
 },
 "nbformat": 4,
 "nbformat_minor": 5
}
