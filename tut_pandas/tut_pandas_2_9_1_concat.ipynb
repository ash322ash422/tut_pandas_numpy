{
 "cells": [
  {
   "cell_type": "markdown",
   "id": "3bcdf963-f493-43da-83ef-0aee961fe40d",
   "metadata": {},
   "source": [
    "# Concat"
   ]
  },
  {
   "cell_type": "code",
   "execution_count": 18,
   "id": "b9862a0c-15e8-4200-beb2-101cdf84777a",
   "metadata": {},
   "outputs": [],
   "source": [
    "import pandas as pd\n",
    "\n",
    "import warnings\n",
    "\n",
    "# Suppress all FutureWarnings\n",
    "warnings.simplefilter(action='ignore', category=FutureWarning)"
   ]
  },
  {
   "cell_type": "markdown",
   "id": "7a57c527-8dca-4ffc-b197-70e0698c678c",
   "metadata": {},
   "source": [
    "## [concat](https://pandas.pydata.org/docs/user_guide/merging.html)\n",
    "- Taken from a good source: [concat](https://pandas.pydata.org/docs/user_guide/merging.html). Look here for visual\n",
    "- Official Source: https://pandas.pydata.org/docs/user_guide/merging.html"
   ]
  },
  {
   "cell_type": "code",
   "execution_count": 19,
   "id": "4d20336b-68ba-4a31-9eff-ee17a3c1a9aa",
   "metadata": {},
   "outputs": [
    {
     "name": "stdout",
     "output_type": "stream",
     "text": [
      "df1\n",
      "     A   B   C   D\n",
      "0  A0  B0  C0  D0\n",
      "1  A1  B1  C1  D1\n",
      "2  A2  B2  C2  D2\n",
      "3  A3  B3  C3  D3\n",
      "df2\n",
      "     A   B   C   D\n",
      "4  A4  B4  C4  D4\n",
      "5  A5  B5  C5  D5\n",
      "6  A6  B6  C6  D6\n",
      "7  A7  B7  C7  D7\n",
      "df3\n",
      "       A    B    C    D\n",
      "8    A8   B8   C8   D8\n",
      "9    A9   B9   C9   D9\n",
      "10  A10  B10  C10  D10\n",
      "11  A11  B11  C11  D11\n",
      "result:\n",
      "       A    B    C    D\n",
      "0    A0   B0   C0   D0\n",
      "1    A1   B1   C1   D1\n",
      "2    A2   B2   C2   D2\n",
      "3    A3   B3   C3   D3\n",
      "4    A4   B4   C4   D4\n",
      "5    A5   B5   C5   D5\n",
      "6    A6   B6   C6   D6\n",
      "7    A7   B7   C7   D7\n",
      "8    A8   B8   C8   D8\n",
      "9    A9   B9   C9   D9\n",
      "10  A10  B10  C10  D10\n",
      "11  A11  B11  C11  D11\n"
     ]
    }
   ],
   "source": [
    "# step1: concat - Official Source: https://pandas.pydata.org/docs/user_guide/merging.html\n",
    "df1 = pd.DataFrame(\n",
    "     {\n",
    "         \"A\": [\"A0\", \"A1\", \"A2\", \"A3\"],\n",
    "         \"B\": [\"B0\", \"B1\", \"B2\", \"B3\"],\n",
    "         \"C\": [\"C0\", \"C1\", \"C2\", \"C3\"],\n",
    "         \"D\": [\"D0\", \"D1\", \"D2\", \"D3\"],\n",
    "    }, index=[0, 1, 2, 3],\n",
    ")\n",
    "\n",
    "df2 = pd.DataFrame(\n",
    "     {\n",
    "         \"A\": [\"A4\", \"A5\", \"A6\", \"A7\"],\n",
    "         \"B\": [\"B4\", \"B5\", \"B6\", \"B7\"],\n",
    "         \"C\": [\"C4\", \"C5\", \"C6\", \"C7\"],\n",
    "         \"D\": [\"D4\", \"D5\", \"D6\", \"D7\"],\n",
    "    }, index=[4, 5, 6, 7],\n",
    " )\n",
    "\n",
    "df3 = pd.DataFrame(\n",
    "     {\n",
    "     \"A\": [\"A8\", \"A9\", \"A10\", \"A11\"],\n",
    "     \"B\": [\"B8\", \"B9\", \"B10\", \"B11\"],\n",
    "     \"C\": [\"C8\", \"C9\", \"C10\", \"C11\"],\n",
    "     \"D\": [\"D8\", \"D9\", \"D10\", \"D11\"],\n",
    "     }, index=[8, 9, 10, 11],\n",
    ")\n",
    "\n",
    "print(\"df1\\n\", df1)\n",
    "print(\"df2\\n\", df2)\n",
    "print(\"df3\\n\", df3)\n",
    "# Here columns are same.\n",
    "\n",
    "frames = [df1, df2, df3]\n",
    "\n",
    "result =  pd.concat(frames)\n",
    "print(\"result:\\n\", result)"
   ]
  },
  {
   "cell_type": "code",
   "execution_count": 26,
   "id": "de31e5bc-c851-4e2d-81db-89b3b13129c4",
   "metadata": {},
   "outputs": [
    {
     "name": "stdout",
     "output_type": "stream",
     "text": [
      "df1\n",
      "     A   B   C   D\n",
      "0  A0  B0  C0  D0\n",
      "1  A1  B1  C1  D1\n",
      "2  A2  B2  C2  D2\n",
      "3  A3  B3  C3  D3\n",
      "df2\n",
      "     A   B   C   D\n",
      "0  A4  B4  C4  D4\n",
      "1  A5  B5  C5  D5\n",
      "2  A6  B6  C6  D6\n",
      "3  A7  B7  C7  D7\n",
      "df3\n",
      "      A    B    C    D\n",
      "0   A8   B8   C8   D8\n",
      "1   A9   B9   C9   D9\n",
      "2  A10  B10  C10  D10\n",
      "3  A11  B11  C11  D11\n",
      "result:\n",
      "      A    B    C    D\n",
      "0   A0   B0   C0   D0\n",
      "1   A1   B1   C1   D1\n",
      "2   A2   B2   C2   D2\n",
      "3   A3   B3   C3   D3\n",
      "0   A4   B4   C4   D4\n",
      "1   A5   B5   C5   D5\n",
      "2   A6   B6   C6   D6\n",
      "3   A7   B7   C7   D7\n",
      "0   A8   B8   C8   D8\n",
      "1   A9   B9   C9   D9\n",
      "2  A10  B10  C10  D10\n",
      "3  A11  B11  C11  D11\n"
     ]
    }
   ],
   "source": [
    "# step2: Lets redo above without index\n",
    "df1 = pd.DataFrame(\n",
    "     {\n",
    "         \"A\": [\"A0\", \"A1\", \"A2\", \"A3\"],\n",
    "         \"B\": [\"B0\", \"B1\", \"B2\", \"B3\"],\n",
    "         \"C\": [\"C0\", \"C1\", \"C2\", \"C3\"],\n",
    "         \"D\": [\"D0\", \"D1\", \"D2\", \"D3\"],\n",
    "    }\n",
    ")\n",
    "\n",
    "df2 = pd.DataFrame(\n",
    "     {\n",
    "         \"A\": [\"A4\", \"A5\", \"A6\", \"A7\"],\n",
    "         \"B\": [\"B4\", \"B5\", \"B6\", \"B7\"],\n",
    "         \"C\": [\"C4\", \"C5\", \"C6\", \"C7\"],\n",
    "         \"D\": [\"D4\", \"D5\", \"D6\", \"D7\"],\n",
    "    }\n",
    ")\n",
    "\n",
    "df3 = pd.DataFrame(\n",
    "     {\n",
    "     \"A\": [\"A8\", \"A9\", \"A10\", \"A11\"],\n",
    "     \"B\": [\"B8\", \"B9\", \"B10\", \"B11\"],\n",
    "     \"C\": [\"C8\", \"C9\", \"C10\", \"C11\"],\n",
    "     \"D\": [\"D8\", \"D9\", \"D10\", \"D11\"],\n",
    "     }\n",
    ")\n",
    "\n",
    "print(\"df1\\n\", df1)\n",
    "print(\"df2\\n\", df2)\n",
    "print(\"df3\\n\", df3)\n",
    "\n",
    "frames = [df1, df2, df3]\n",
    "\n",
    "result =  pd.concat(frames)\n",
    "print(\"result:\\n\", result)"
   ]
  },
  {
   "cell_type": "code",
   "execution_count": 27,
   "id": "c64ed455-2fe5-4186-ae1f-f024d98b37d9",
   "metadata": {},
   "outputs": [
    {
     "name": "stdout",
     "output_type": "stream",
     "text": [
      "      A    B    C    D\n",
      "0    A0   B0   C0   D0\n",
      "1    A1   B1   C1   D1\n",
      "2    A2   B2   C2   D2\n",
      "3    A3   B3   C3   D3\n",
      "4    A4   B4   C4   D4\n",
      "5    A5   B5   C5   D5\n",
      "6    A6   B6   C6   D6\n",
      "7    A7   B7   C7   D7\n",
      "8    A8   B8   C8   D8\n",
      "9    A9   B9   C9   D9\n",
      "10  A10  B10  C10  D10\n",
      "11  A11  B11  C11  D11\n"
     ]
    }
   ],
   "source": [
    "# step3: Lets fix the index\n",
    "result = pd.concat(frames, ignore_index=True)\n",
    "print(result)"
   ]
  },
  {
   "cell_type": "code",
   "execution_count": null,
   "id": "85d4de8d-7d4d-408b-ad23-6692d5d6343b",
   "metadata": {},
   "outputs": [],
   "source": []
  },
  {
   "cell_type": "code",
   "execution_count": null,
   "id": "e6a4f5c3-7bde-4157-a1fc-90de55c7ad5b",
   "metadata": {},
   "outputs": [],
   "source": []
  },
  {
   "cell_type": "code",
   "execution_count": null,
   "id": "2d0c6bd9-c0ea-4208-b7f8-4ef51258b773",
   "metadata": {},
   "outputs": [],
   "source": []
  },
  {
   "cell_type": "markdown",
   "id": "26611c7c-d2eb-4843-9d26-821c1f90a4be",
   "metadata": {},
   "source": [
    "## join parameter\n",
    "The join keyword specifies how to handle axis values that don’t exist in the first DataFrame.\n",
    "\n",
    "### a) join='outer' takes the union of **all axis values**"
   ]
  },
  {
   "cell_type": "code",
   "execution_count": 22,
   "id": "a5e6e26a-b296-4a20-b305-625c7e7dbfbf",
   "metadata": {},
   "outputs": [
    {
     "name": "stdout",
     "output_type": "stream",
     "text": [
      "df1:\n",
      "    A   B   C   D\n",
      "0  A0  B0  C0  D0\n",
      "1  A1  B1  C1  D1\n",
      "2  A2  B2  C2  D2\n",
      "3  A3  B3  C3  D3\n",
      "df4:\n",
      "    B   D   F\n",
      "2  B2  D2  F2\n",
      "3  B3  D3  F3\n",
      "6  B6  D6  F6\n",
      "7  B7  D7  F7\n",
      "result:\n",
      "      A    B    C    D    B    D    F\n",
      "0   A0   B0   C0   D0  NaN  NaN  NaN\n",
      "1   A1   B1   C1   D1  NaN  NaN  NaN\n",
      "2   A2   B2   C2   D2   B2   D2   F2\n",
      "3   A3   B3   C3   D3   B3   D3   F3\n",
      "6  NaN  NaN  NaN  NaN   B6   D6   F6\n",
      "7  NaN  NaN  NaN  NaN   B7   D7   F7\n"
     ]
    }
   ],
   "source": [
    "# Joining logic of the resulting axis\n",
    "df1 = pd.DataFrame(\n",
    "    {\n",
    "      \"A\": [\"A0\", \"A1\", \"A2\", \"A3\"],\n",
    "      \"B\": [\"B0\", \"B1\", \"B2\", \"B3\"],\n",
    "      \"C\": [\"C0\", \"C1\", \"C2\", \"C3\"],\n",
    "      \"D\": [\"D0\", \"D1\", \"D2\", \"D3\"],\n",
    "    }, index=[0, 1, 2, 3],\n",
    ")\n",
    "print(f\"df1:\\n{df1}\")\n",
    "\n",
    "df4 = pd.DataFrame(\n",
    "   {\n",
    "     \"B\": [\"B2\", \"B3\", \"B6\", \"B7\"],\n",
    "     \"D\": [\"D2\", \"D3\", \"D6\", \"D7\"],\n",
    "     \"F\": [\"F2\", \"F3\", \"F6\", \"F7\"],\n",
    "   }, index=[2, 3, 6, 7],\n",
    ")\n",
    "print(f\"df4:\\n{df4}\")\n",
    "\n",
    "frames = [df1, df4]\n",
    "\n",
    "result = pd.concat(frames, axis=1, join=\"outer\")\n",
    "print(\"result:\\n\", result)"
   ]
  },
  {
   "cell_type": "code",
   "execution_count": null,
   "id": "019e7e5f-e9f5-4596-88f7-a58c8e001fe0",
   "metadata": {},
   "outputs": [],
   "source": []
  },
  {
   "cell_type": "markdown",
   "id": "198e4932-66cb-4fbd-addc-e3634ae8a285",
   "metadata": {},
   "source": [
    "### b) join='inner' takes the intersection of the axis values"
   ]
  },
  {
   "cell_type": "code",
   "execution_count": 23,
   "id": "3ea136a2-b9b2-40c5-8583-8d0793c9133e",
   "metadata": {},
   "outputs": [
    {
     "name": "stdout",
     "output_type": "stream",
     "text": [
      "    A   B   C   D   B   D   F\n",
      "2  A2  B2  C2  D2  B2  D2  F2\n",
      "3  A3  B3  C3  D3  B3  D3  F3\n"
     ]
    }
   ],
   "source": [
    "# join='inner' takes the intersection of the axis values. Only those rows with matching index are added\n",
    "result = pd.concat([df1, df4], axis=1, join=\"inner\")\n",
    "print(result)"
   ]
  },
  {
   "cell_type": "code",
   "execution_count": null,
   "id": "2f3261f8-4d3f-4efb-a108-16550342901b",
   "metadata": {},
   "outputs": [],
   "source": []
  },
  {
   "cell_type": "code",
   "execution_count": 24,
   "id": "a0403e57-67bb-47ea-a7ba-eab9d4c2bc36",
   "metadata": {},
   "outputs": [
    {
     "name": "stdout",
     "output_type": "stream",
     "text": [
      "df1:\n",
      "    A   B   C   D\n",
      "0  A0  B0  C0  D0\n",
      "1  A1  B1  C1  D1\n",
      "2  A2  B2  C2  D2\n",
      "3  A3  B3  C3  D3\n",
      "df4:\n",
      "    B   D   F\n",
      "2  B2  D2  F2\n",
      "3  B3  D3  F3\n",
      "6  B6  D6  F6\n",
      "7  B7  D7  F7\n",
      "result:\n",
      "      A   B    C   D    F\n",
      "0   A0  B0   C0  D0  NaN\n",
      "1   A1  B1   C1  D1  NaN\n",
      "2   A2  B2   C2  D2  NaN\n",
      "3   A3  B3   C3  D3  NaN\n",
      "2  NaN  B2  NaN  D2   F2\n",
      "3  NaN  B3  NaN  D3   F3\n",
      "6  NaN  B6  NaN  D6   F6\n",
      "7  NaN  B7  NaN  D7   F7\n"
     ]
    }
   ],
   "source": [
    "# step1: Joining logic of the resulting axis\n",
    "df1 = pd.DataFrame(\n",
    " {\n",
    " \"A\": [\"A0\", \"A1\", \"A2\", \"A3\"],\n",
    " \"B\": [\"B0\", \"B1\", \"B2\", \"B3\"],\n",
    " \"C\": [\"C0\", \"C1\", \"C2\", \"C3\"],\n",
    " \"D\": [\"D0\", \"D1\", \"D2\", \"D3\"],\n",
    " }, index=[0, 1, 2, 3],\n",
    ")\n",
    "print(f\"df1:\\n{df1}\")\n",
    "\n",
    "df4 = pd.DataFrame(\n",
    "   {\n",
    "       \"B\": [\"B2\", \"B3\", \"B6\", \"B7\"],\n",
    "       \"D\": [\"D2\", \"D3\", \"D6\", \"D7\"],\n",
    "       \"F\": [\"F2\", \"F3\", \"F6\", \"F7\"],\n",
    "   }, index=[2, 3, 6, 7],\n",
    ")\n",
    "print(f\"df4:\\n{df4}\")\n",
    "\n",
    "frames = [df1, df4]\n",
    "\n",
    "result = pd.concat(frames, axis=0)\n",
    "# result = pd.concat(frames, axis=0, ignore_index=True) # this would fix duplicate index\n",
    "\n",
    "print(\"result:\\n\", result)"
   ]
  },
  {
   "cell_type": "code",
   "execution_count": 25,
   "id": "0fb4d5ee-f6ef-4f54-8f49-67c5ac84729b",
   "metadata": {},
   "outputs": [
    {
     "name": "stdout",
     "output_type": "stream",
     "text": [
      "    A   B   C   D    B    D    F\n",
      "0  A0  B0  C0  D0  NaN  NaN  NaN\n",
      "1  A1  B1  C1  D1  NaN  NaN  NaN\n",
      "2  A2  B2  C2  D2   B2   D2   F2\n",
      "3  A3  B3  C3  D3   B3   D3   F3\n"
     ]
    }
   ],
   "source": [
    "#step2: To perform an effective “left” join using the exact index from the original DataFrame, result can be reindexed.\n",
    "result = pd.concat([df1, df4], axis=1).reindex(df1.index)\n",
    "print(result)"
   ]
  },
  {
   "cell_type": "markdown",
   "id": "57a2b375-3f0a-4244-ac8f-d7df110dd3b7",
   "metadata": {},
   "source": [
    "# STOP"
   ]
  },
  {
   "cell_type": "code",
   "execution_count": null,
   "id": "e9219a54-d22a-481e-8fd6-1ab1b13aecdc",
   "metadata": {},
   "outputs": [],
   "source": []
  },
  {
   "cell_type": "code",
   "execution_count": null,
   "id": "f51d00f4-8ebe-4b50-9688-7850bf3634e7",
   "metadata": {},
   "outputs": [],
   "source": []
  },
  {
   "cell_type": "code",
   "execution_count": null,
   "id": "4816229e-338a-41f6-ab7c-758443c720eb",
   "metadata": {},
   "outputs": [],
   "source": []
  },
  {
   "cell_type": "code",
   "execution_count": null,
   "id": "e4cb6b81-28e7-497a-9822-6ef302074e62",
   "metadata": {},
   "outputs": [],
   "source": []
  },
  {
   "cell_type": "code",
   "execution_count": null,
   "id": "fe20d682-3e2e-4d7a-8174-e05d3a1b51bb",
   "metadata": {},
   "outputs": [],
   "source": []
  },
  {
   "cell_type": "code",
   "execution_count": null,
   "id": "5db5fa5d-743c-45e3-a71a-8d6c07d26644",
   "metadata": {},
   "outputs": [],
   "source": []
  }
 ],
 "metadata": {
  "kernelspec": {
   "display_name": "Python 3 (ipykernel)",
   "language": "python",
   "name": "python3"
  },
  "language_info": {
   "codemirror_mode": {
    "name": "ipython",
    "version": 3
   },
   "file_extension": ".py",
   "mimetype": "text/x-python",
   "name": "python",
   "nbconvert_exporter": "python",
   "pygments_lexer": "ipython3",
   "version": "3.9.9"
  }
 },
 "nbformat": 4,
 "nbformat_minor": 5
}
