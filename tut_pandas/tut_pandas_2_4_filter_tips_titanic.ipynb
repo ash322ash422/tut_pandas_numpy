{
 "cells": [
  {
   "cell_type": "markdown",
   "id": "e2ffbad3-8eac-4b42-95cb-7c3fbda71af2",
   "metadata": {},
   "source": [
    "# Pandas\n",
    "Topics covered:\n",
    "- filtering"
   ]
  },
  {
   "cell_type": "code",
   "execution_count": 3,
   "id": "b9862a0c-15e8-4200-beb2-101cdf84777a",
   "metadata": {},
   "outputs": [],
   "source": [
    "import pandas as pd\n",
    "\n",
    "import warnings\n",
    "\n",
    "# Suppress all FutureWarnings\n",
    "warnings.simplefilter(action='ignore', category=FutureWarning)"
   ]
  },
  {
   "cell_type": "markdown",
   "id": "c3071d15-edab-4787-94da-fe190b2fca30",
   "metadata": {},
   "source": [
    "### filtering"
   ]
  },
  {
   "cell_type": "markdown",
   "id": "90ad4ba7-2d3c-4a15-ac14-beedcf1b4d6e",
   "metadata": {},
   "source": [
    "## On tips dataset\n",
    "### Explanation of tips dataset\n",
    "\n",
    "- **total_bill**: The total amount of the bill (numerical).\n",
    "- **tip**: The amount of tip left by the customer (numerical).\n",
    "- **sex**: The gender of the person paying the bill (categorical: **Male/Female**). \n",
    "- **smoker**: Indicates whether a smoker was present in the party (categorical: **Yes/No**).\n",
    "- **day**: The day of the week when the meal occurred (categorical: **Thurs, Fri, Sat, Sun**).\n",
    "- **time**: The time of day when the meal occurred (categorical: **Lunch/Dinner**).\n",
    "- **size**: The number of people in the dining party (numerical).\n"
   ]
  },
  {
   "cell_type": "code",
   "execution_count": 4,
   "id": "df46a624-d6ae-4685-8e1c-9e9769c47e6e",
   "metadata": {},
   "outputs": [
    {
     "name": "stdout",
     "output_type": "stream",
     "text": [
      "   total_bill   tip     sex smoker  day    time  size\n",
      "0       16.99  1.01  Female     No  Sun  Dinner     2\n",
      "1       10.34  1.66    Male     No  Sun  Dinner     3\n",
      "2       21.01  3.50    Male     No  Sun  Dinner     3\n",
      "3       23.68  3.31    Male     No  Sun  Dinner     2\n",
      "4       24.59  3.61  Female     No  Sun  Dinner     4\n",
      "5       25.29  4.71    Male     No  Sun  Dinner     4\n",
      "6        8.77  2.00    Male     No  Sun  Dinner     2\n",
      "7       26.88  3.12    Male     No  Sun  Dinner     4\n",
      "8       15.04  1.96    Male     No  Sun  Dinner     2\n",
      "9       14.78  3.23    Male     No  Sun  Dinner     2\n"
     ]
    }
   ],
   "source": [
    "# Load the tips dataset\n",
    "df = pd.read_csv(\"data_tips.csv\")\n",
    "print(df.head(10))"
   ]
  },
  {
   "cell_type": "code",
   "execution_count": 5,
   "id": "8e0c9840-e29b-4ce9-acc9-0017bba0a265",
   "metadata": {},
   "outputs": [
    {
     "name": "stdout",
     "output_type": "stream",
     "text": [
      "Column: sex\n",
      "['Female' 'Male']\n",
      "-----\n",
      "Column: smoker\n",
      "['No' 'Yes']\n",
      "-----\n",
      "Column: day\n",
      "['Sun' 'Sat' 'Thur' 'Fri']\n",
      "-----\n",
      "Column: time\n",
      "['Dinner' 'Lunch']\n",
      "-----\n",
      "Column: size\n",
      "[2 3 4 1 6 5]\n",
      "-----\n"
     ]
    }
   ],
   "source": [
    "# step1: Before filtering lets get to know all unique values of some of columns\n",
    "columns = ['sex', 'smoker', 'day', 'time', 'size']\n",
    "for col in columns:\n",
    "    print(f\"Column: {col}\")\n",
    "    print(df[col].unique())\n",
    "    print(\"-----\")\n"
   ]
  },
  {
   "cell_type": "code",
   "execution_count": 6,
   "id": "3b2c050b-6d63-407b-9bee-8c13887788f0",
   "metadata": {},
   "outputs": [
    {
     "name": "stdout",
     "output_type": "stream",
     "text": [
      "    total_bill   tip     sex smoker  day    time  size\n",
      "0        16.99  1.01  Female     No  Sun  Dinner     2\n",
      "4        24.59  3.61  Female     No  Sun  Dinner     4\n",
      "11       35.26  5.00  Female     No  Sun  Dinner     4\n",
      "14       14.83  3.02  Female     No  Sun  Dinner     2\n",
      "16       10.33  1.67  Female     No  Sun  Dinner     3\n",
      "#########################\n",
      "87\n"
     ]
    }
   ],
   "source": [
    "# Filter: Customers who are females\n",
    "mask = (df['sex'] == 'Female')\n",
    "# print(mask)\n",
    "# print(\"----\")\n",
    "\n",
    "df_filter = df[mask]\n",
    "print(df_filter.head()) # print first few records\n",
    "print(\"#########################\")\n",
    "print(len(df_filter.index)) # count of df_filter"
   ]
  },
  {
   "cell_type": "code",
   "execution_count": 7,
   "id": "ce6f37d9-0a7b-4d4a-bce3-4aee8a90e9d9",
   "metadata": {},
   "outputs": [
    {
     "name": "stdout",
     "output_type": "stream",
     "text": [
      "    total_bill   tip     sex smoker  day    time  size\n",
      "67        3.07  1.00  Female    Yes  Sat  Dinner     1\n",
      "72       26.86  3.14  Female    Yes  Sat  Dinner     2\n",
      "73       25.28  5.00  Female    Yes  Sat  Dinner     2\n",
      "92        5.75  1.00  Female    Yes  Fri  Dinner     2\n",
      "93       16.32  4.30  Female    Yes  Fri  Dinner     2\n",
      "#########################\n",
      "33\n"
     ]
    }
   ],
   "source": [
    "# Filter: Customers who are female smokers\n",
    "mask = (df['sex'] == 'Female') & (df['smoker'] == 'Yes')\n",
    "\n",
    "df_filter = df[mask]\n",
    "print(df_filter.head())\n",
    "print(\"#########################\")\n",
    "print(len(df_filter.index))"
   ]
  },
  {
   "cell_type": "code",
   "execution_count": 8,
   "id": "5e3c95b6-fe57-4dcc-92ef-a92b745fadb5",
   "metadata": {},
   "outputs": [
    {
     "name": "stdout",
     "output_type": "stream",
     "text": [
      "   total_bill   tip     sex smoker  day    time  size\n",
      "0       16.99  1.01  Female     No  Sun  Dinner     2\n",
      "1       10.34  1.66    Male     No  Sun  Dinner     3\n",
      "2       21.01  3.50    Male     No  Sun  Dinner     3\n",
      "3       23.68  3.31    Male     No  Sun  Dinner     2\n",
      "4       24.59  3.61  Female     No  Sun  Dinner     4\n",
      "#########################\n",
      "213\n"
     ]
    }
   ],
   "source": [
    "# Filter: Customers whose total bill < 30 or > 50\n",
    "mask = (df['total_bill'] < 30) | (df['total_bill'] > 50)\n",
    "\n",
    "df_filter = df[mask]\n",
    "print(df_filter.head())\n",
    "print(\"#########################\")\n",
    "print(len(df_filter.index))"
   ]
  },
  {
   "cell_type": "code",
   "execution_count": 9,
   "id": "ad4733ed-5fcf-4f8b-b0e2-f18a7020c712",
   "metadata": {},
   "outputs": [
    {
     "name": "stdout",
     "output_type": "stream",
     "text": [
      "    total_bill   tip     sex smoker  day    time  size  tip_percent\n",
      "6         8.77  2.00    Male     No  Sun  Dinner     2    22.805017\n",
      "9        14.78  3.23    Male     No  Sun  Dinner     2    21.853857\n",
      "14       14.83  3.02  Female     No  Sun  Dinner     2    20.364127\n",
      "17       16.29  3.71    Male     No  Sun  Dinner     3    22.774708\n",
      "18       16.97  3.50  Female     No  Sun  Dinner     3    20.624632\n",
      "#########################\n",
      "39\n"
     ]
    }
   ],
   "source": [
    "# Filter: Customers who tipped more than 20% of their total bill\n",
    "df['tip_percent'] = (df['tip'] / df['total_bill']) * 100\n",
    "mask = (df['tip_percent'] > 20)\n",
    "\n",
    "df_filter = df[mask]\n",
    "print(df_filter.head())\n",
    "print(\"#########################\")\n",
    "print(len(df_filter.index))"
   ]
  },
  {
   "cell_type": "code",
   "execution_count": 10,
   "id": "24d1dc7c-58be-4e65-a899-e4118e63a9db",
   "metadata": {},
   "outputs": [
    {
     "name": "stdout",
     "output_type": "stream",
     "text": [
      "    total_bill   tip   sex smoker   day   time  size  tip_percent\n",
      "77       27.20  4.00  Male     No  Thur  Lunch     4    14.705882\n",
      "78       22.76  3.00  Male     No  Thur  Lunch     2    13.181019\n",
      "79       17.29  2.71  Male     No  Thur  Lunch     2    15.673800\n",
      "80       19.44  3.00  Male    Yes  Thur  Lunch     2    15.432099\n",
      "81       16.66  3.40  Male     No  Thur  Lunch     2    20.408163\n",
      "#########################\n",
      "18\n"
     ]
    }
   ],
   "source": [
    "# Filter: Lunch time male customers with total bill between $15 and $30\n",
    "mask = (df['time'] == 'Lunch') & (df['sex'] == 'Male') & (df['total_bill'].between(15, 30))\n",
    "\n",
    "df_filter = df[mask]\n",
    "print(df_filter.head())\n",
    "print(\"#########################\")\n",
    "print(len(df_filter.index))"
   ]
  },
  {
   "cell_type": "code",
   "execution_count": 11,
   "id": "e7f1ac85-0c24-42e6-ac8d-e29ae860cf0e",
   "metadata": {},
   "outputs": [
    {
     "name": "stdout",
     "output_type": "stream",
     "text": [
      "     total_bill  tip     sex smoker  day    time  size  tip_percent\n",
      "73        25.28  5.0  Female    Yes  Sat  Dinner     2    19.778481\n",
      "214       28.17  6.5  Female    Yes  Sat  Dinner     3    23.074192\n",
      "#########################\n",
      "2\n"
     ]
    }
   ],
   "source": [
    "# Filter: Female smokers who dined on weekends and gave tips over $4\n",
    "mask = (\n",
    "    (df['sex'] == 'Female') &\n",
    "    (df['smoker'] == 'Yes') &\n",
    "    (df['day'].isin(['Sat', 'Sun'])) &\n",
    "    (df['tip'] > 4)\n",
    ")\n",
    "\n",
    "df_filter = df[mask]\n",
    "print(df_filter.head())\n",
    "print(\"#########################\")\n",
    "print(len(df_filter.index))"
   ]
  },
  {
   "cell_type": "code",
   "execution_count": 12,
   "id": "5710ddcd-55c0-4552-a992-9009ef9db148",
   "metadata": {},
   "outputs": [
    {
     "name": "stdout",
     "output_type": "stream",
     "text": [
      "    total_bill   tip     sex smoker  day    time  size  tip_percent  \\\n",
      "4        24.59  3.61  Female     No  Sun  Dinner     4    14.680765   \n",
      "5        25.29  4.71    Male     No  Sun  Dinner     4    18.623962   \n",
      "7        26.88  3.12    Male     No  Sun  Dinner     4    11.607143   \n",
      "11       35.26  5.00  Female     No  Sun  Dinner     4    14.180374   \n",
      "13       18.43  3.00    Male     No  Sun  Dinner     4    16.277808   \n",
      "\n",
      "    tip_per_person  \n",
      "4           0.9025  \n",
      "5           1.1775  \n",
      "7           0.7800  \n",
      "11          1.2500  \n",
      "13          0.7500  \n",
      "#########################\n",
      "41\n"
     ]
    }
   ],
   "source": [
    "# Filter: Tables with size >= 4 but average tip per person < $1.5\n",
    "df['tip_per_person'] = df['tip'] / df['size']\n",
    "mask = (df['size'] >= 4) & (df['tip_per_person'] < 1.5)\n",
    "\n",
    "df_filter = df[mask]\n",
    "print(df_filter.head())\n",
    "print(\"#########################\")\n",
    "print(len(df_filter.index))"
   ]
  },
  {
   "cell_type": "markdown",
   "id": "a49fb55c-1495-430b-b708-e7fd19b15a04",
   "metadata": {},
   "source": [
    "# STOP"
   ]
  },
  {
   "cell_type": "code",
   "execution_count": null,
   "id": "e476516b-45be-4ad6-b240-fde292a7bf0b",
   "metadata": {},
   "outputs": [],
   "source": []
  },
  {
   "cell_type": "code",
   "execution_count": null,
   "id": "637bff33-f18c-4041-9446-b73ff6fd6e9f",
   "metadata": {},
   "outputs": [],
   "source": []
  },
  {
   "cell_type": "code",
   "execution_count": null,
   "id": "851c2f8b-b013-42bc-ad37-848779c94e5b",
   "metadata": {},
   "outputs": [],
   "source": []
  },
  {
   "cell_type": "code",
   "execution_count": null,
   "id": "05229705-c20f-49b0-aff5-e2ccc5a743f4",
   "metadata": {},
   "outputs": [],
   "source": []
  },
  {
   "cell_type": "code",
   "execution_count": null,
   "id": "b4c8ffe1-b1aa-4485-9f2e-46e1a37b9462",
   "metadata": {},
   "outputs": [],
   "source": []
  },
  {
   "cell_type": "code",
   "execution_count": null,
   "id": "78da901f-a5c9-4b5d-99e2-1bf1026c39da",
   "metadata": {},
   "outputs": [],
   "source": []
  },
  {
   "cell_type": "markdown",
   "id": "76bafec9-c6da-419f-b487-4dd35cf53d8e",
   "metadata": {},
   "source": [
    "### Titanic dataset explanation\n",
    "\n",
    "| Column Name   | Description                                                          |\n",
    "| ------------- | -------------------------------------------------------------------- |\n",
    "| `survived`    | Whether the passenger survived (1) or died (0)                       |\n",
    "| `pclass`      | Passenger class (1 = 1st, 2 = 2nd, 3 = 3rd)                          |\n",
    "| `sex`         | Gender of the passenger                                              |\n",
    "| `age`         | Age in years (may contain missing values)                            |\n",
    "| `sibsp`       | Number of siblings/spouses aboard                                    |\n",
    "| `parch`       | Number of parents/children aboard                                    |\n",
    "| `fare`        | Ticket fare paid                                                     |\n",
    "| `embarked`    | Port of embarkation (C = Cherbourg, Q = Queenstown, S = Southampton) |\n",
    "| `class`       | Same as `pclass` but as string labels (\"First\", \"Second\", \"Third\")   |\n",
    "| `who`         | Gender grouping: man, woman, child                                   |\n",
    "| `adult_male`  | Boolean indicating if passenger is adult male                        |\n",
    "| `deck`        | Deck level (some missing data)                                       |\n",
    "| `embark_town` | Town of embarkation                                                  |\n",
    "| `alive`       | \"yes\" or \"no\" survival label                                         |\n",
    "| `alone`       | Boolean if passenger traveled alone                                  |\n"
   ]
  },
  {
   "cell_type": "code",
   "execution_count": 20,
   "id": "efb80c28-baaa-4b6d-828c-fe05e8ceb259",
   "metadata": {},
   "outputs": [
    {
     "name": "stdout",
     "output_type": "stream",
     "text": [
      "   PassengerId  Survived  Pclass  \\\n",
      "0            1         0       3   \n",
      "1            2         1       1   \n",
      "2            3         1       3   \n",
      "3            4         1       1   \n",
      "4            5         0       3   \n",
      "\n",
      "                                                Name     Sex   Age  SibSp  \\\n",
      "0                            Braund, Mr. Owen Harris    male  22.0      1   \n",
      "1  Cumings, Mrs. John Bradley (Florence Briggs Th...  female  38.0      1   \n",
      "2                             Heikkinen, Miss. Laina  female  26.0      0   \n",
      "3       Futrelle, Mrs. Jacques Heath (Lily May Peel)  female  35.0      1   \n",
      "4                           Allen, Mr. William Henry    male  35.0      0   \n",
      "\n",
      "   Parch            Ticket     Fare Cabin Embarked  \n",
      "0      0         A/5 21171   7.2500   NaN        S  \n",
      "1      0          PC 17599  71.2833   C85        C  \n",
      "2      0  STON/O2. 3101282   7.9250   NaN        S  \n",
      "3      0            113803  53.1000  C123        S  \n",
      "4      0            373450   8.0500   NaN        S  \n",
      "########################\n",
      "     PassengerId  Survived  Pclass  \\\n",
      "1              2         1       1   \n",
      "2              3         1       3   \n",
      "3              4         1       1   \n",
      "8              9         1       3   \n",
      "9             10         1       2   \n",
      "..           ...       ...     ...   \n",
      "880          881         1       2   \n",
      "882          883         0       3   \n",
      "885          886         0       3   \n",
      "887          888         1       1   \n",
      "888          889         0       3   \n",
      "\n",
      "                                                  Name     Sex   Age  SibSp  \\\n",
      "1    Cumings, Mrs. John Bradley (Florence Briggs Th...  female  38.0      1   \n",
      "2                               Heikkinen, Miss. Laina  female  26.0      0   \n",
      "3         Futrelle, Mrs. Jacques Heath (Lily May Peel)  female  35.0      1   \n",
      "8    Johnson, Mrs. Oscar W (Elisabeth Vilhelmina Berg)  female  27.0      0   \n",
      "9                  Nasser, Mrs. Nicholas (Adele Achem)  female  14.0      1   \n",
      "..                                                 ...     ...   ...    ...   \n",
      "880       Shelley, Mrs. William (Imanita Parrish Hall)  female  25.0      0   \n",
      "882                       Dahlberg, Miss. Gerda Ulrika  female  22.0      0   \n",
      "885               Rice, Mrs. William (Margaret Norton)  female  39.0      0   \n",
      "887                       Graham, Miss. Margaret Edith  female  19.0      0   \n",
      "888           Johnston, Miss. Catherine Helen \"Carrie\"  female   NaN      1   \n",
      "\n",
      "     Parch            Ticket     Fare Cabin Embarked  \n",
      "1        0          PC 17599  71.2833   C85        C  \n",
      "2        0  STON/O2. 3101282   7.9250   NaN        S  \n",
      "3        0            113803  53.1000  C123        S  \n",
      "8        2            347742  11.1333   NaN        S  \n",
      "9        0            237736  30.0708   NaN        C  \n",
      "..     ...               ...      ...   ...      ...  \n",
      "880      1            230433  26.0000   NaN        S  \n",
      "882      0              7552  10.5167   NaN        S  \n",
      "885      5            382652  29.1250   NaN        Q  \n",
      "887      0            112053  30.0000   B42        S  \n",
      "888      2        W./C. 6607  23.4500   NaN        S  \n",
      "\n",
      "[314 rows x 12 columns]\n",
      "314\n"
     ]
    }
   ],
   "source": [
    "# SKIP Load the Titanic dataset\n",
    "# df = pd.read_csv('https://raw.githubusercontent.com/ash322ash422/tut_pandas_numpy/refs/heads/master/titanic.csv', sep=',')\n",
    "df = pd.read_csv('data_titanic.csv', sep=',')\n",
    "print(df.head())\n",
    "print(\"########################\")\n",
    "\n",
    "# Filter: all passengers who are female \n",
    "mask = (df['Sex'] == 'female')\n",
    "df_filter = df[mask]\n",
    "\n",
    "print(df_filter)\n",
    "print(len(df_filter.index))"
   ]
  },
  {
   "cell_type": "code",
   "execution_count": 18,
   "id": "624b2794-0cf0-4dcd-a05e-b52dd534e543",
   "metadata": {},
   "outputs": [
    {
     "name": "stdout",
     "output_type": "stream",
     "text": [
      "     PassengerId  Survived  Pclass  \\\n",
      "1              2         1       1   \n",
      "2              3         1       3   \n",
      "3              4         1       1   \n",
      "8              9         1       3   \n",
      "9             10         1       2   \n",
      "..           ...       ...     ...   \n",
      "875          876         1       3   \n",
      "879          880         1       1   \n",
      "880          881         1       2   \n",
      "887          888         1       1   \n",
      "889          890         1       1   \n",
      "\n",
      "                                                  Name     Sex   Age  SibSp  \\\n",
      "1    Cumings, Mrs. John Bradley (Florence Briggs Th...  female  38.0      1   \n",
      "2                               Heikkinen, Miss. Laina  female  26.0      0   \n",
      "3         Futrelle, Mrs. Jacques Heath (Lily May Peel)  female  35.0      1   \n",
      "8    Johnson, Mrs. Oscar W (Elisabeth Vilhelmina Berg)  female  27.0      0   \n",
      "9                  Nasser, Mrs. Nicholas (Adele Achem)  female  14.0      1   \n",
      "..                                                 ...     ...   ...    ...   \n",
      "875                   Najib, Miss. Adele Kiamie \"Jane\"  female  15.0      0   \n",
      "879      Potter, Mrs. Thomas Jr (Lily Alexenia Wilson)  female  56.0      0   \n",
      "880       Shelley, Mrs. William (Imanita Parrish Hall)  female  25.0      0   \n",
      "887                       Graham, Miss. Margaret Edith  female  19.0      0   \n",
      "889                              Behr, Mr. Karl Howell    male  26.0      0   \n",
      "\n",
      "     Parch            Ticket     Fare Cabin Embarked  \n",
      "1        0          PC 17599  71.2833   C85        C  \n",
      "2        0  STON/O2. 3101282   7.9250   NaN        S  \n",
      "3        0            113803  53.1000  C123        S  \n",
      "8        2            347742  11.1333   NaN        S  \n",
      "9        0            237736  30.0708   NaN        C  \n",
      "..     ...               ...      ...   ...      ...  \n",
      "875      0              2667   7.2250   NaN        C  \n",
      "879      1             11767  83.1583   C50        C  \n",
      "880      1            230433  26.0000   NaN        S  \n",
      "887      0            112053  30.0000   B42        S  \n",
      "889      0            111369  30.0000  C148        C  \n",
      "\n",
      "[342 rows x 12 columns]\n",
      "########################\n"
     ]
    }
   ],
   "source": [
    "# Filter: all passenger who survived\n",
    "mask = (df['Survived'] == 1) \n",
    "df_filter = df[mask]\n",
    "\n",
    "print(df_filter)\n",
    "print(len(df_filter.index))"
   ]
  },
  {
   "cell_type": "code",
   "execution_count": 21,
   "id": "4cad5bca-37bd-4221-a37e-72fd8ca78849",
   "metadata": {},
   "outputs": [
    {
     "name": "stdout",
     "output_type": "stream",
     "text": [
      "   PassengerId  Survived  Pclass  \\\n",
      "1            2         1       1   \n",
      "2            3         1       3   \n",
      "3            4         1       1   \n",
      "8            9         1       3   \n",
      "9           10         1       2   \n",
      "\n",
      "                                                Name     Sex   Age  SibSp  \\\n",
      "1  Cumings, Mrs. John Bradley (Florence Briggs Th...  female  38.0      1   \n",
      "2                             Heikkinen, Miss. Laina  female  26.0      0   \n",
      "3       Futrelle, Mrs. Jacques Heath (Lily May Peel)  female  35.0      1   \n",
      "8  Johnson, Mrs. Oscar W (Elisabeth Vilhelmina Berg)  female  27.0      0   \n",
      "9                Nasser, Mrs. Nicholas (Adele Achem)  female  14.0      1   \n",
      "\n",
      "   Parch            Ticket     Fare Cabin Embarked  \n",
      "1      0          PC 17599  71.2833   C85        C  \n",
      "2      0  STON/O2. 3101282   7.9250   NaN        S  \n",
      "3      0            113803  53.1000  C123        S  \n",
      "8      2            347742  11.1333   NaN        S  \n",
      "9      0            237736  30.0708   NaN        C  \n",
      "233\n"
     ]
    }
   ],
   "source": [
    "# Filter: Passengers who are female surivors\n",
    "mask = (df['Sex'] == 'female') & (df['Survived'] == 1)\n",
    "df_filter = df[mask]\n",
    "\n",
    "print(df_filter.head())\n",
    "print(len(df_filter.index))"
   ]
  },
  {
   "cell_type": "code",
   "execution_count": 22,
   "id": "e1fa078f-a197-4e2c-a683-9d72a99f1480",
   "metadata": {},
   "outputs": [
    {
     "name": "stdout",
     "output_type": "stream",
     "text": [
      "     PassengerId  Survived  Pclass                                       Name  \\\n",
      "54            55         0       1             Ostby, Mr. Engelhart Cornelius   \n",
      "96            97         0       1                  Goldschmidt, Mr. George B   \n",
      "170          171         0       1                  Van der hoef, Mr. Wyckoff   \n",
      "252          253         0       1                  Stead, Mr. William Thomas   \n",
      "275          276         1       1          Andrews, Miss. Kornelia Theodosia   \n",
      "438          439         0       1                          Fortune, Mr. Mark   \n",
      "456          457         0       1                  Millet, Mr. Francis Davis   \n",
      "493          494         0       1                    Artagaveytia, Mr. Ramon   \n",
      "545          546         0       1               Nicholson, Mr. Arthur Ernest   \n",
      "555          556         0       1                         Wright, Mr. George   \n",
      "625          626         0       1                      Sutton, Mr. Frederick   \n",
      "630          631         1       1       Barkworth, Mr. Algernon Henry Wilson   \n",
      "745          746         0       1               Crosby, Capt. Edward Gifford   \n",
      "829          830         1       1  Stone, Mrs. George Nelson (Martha Evelyn)   \n",
      "\n",
      "        Sex   Age  SibSp  Parch     Ticket      Fare        Cabin Embarked  \n",
      "54     male  65.0      0      1     113509   61.9792          B30        C  \n",
      "96     male  71.0      0      0   PC 17754   34.6542           A5        C  \n",
      "170    male  61.0      0      0     111240   33.5000          B19        S  \n",
      "252    male  62.0      0      0     113514   26.5500          C87        S  \n",
      "275  female  63.0      1      0      13502   77.9583           D7        S  \n",
      "438    male  64.0      1      4      19950  263.0000  C23 C25 C27        S  \n",
      "456    male  65.0      0      0      13509   26.5500          E38        S  \n",
      "493    male  71.0      0      0   PC 17609   49.5042          NaN        C  \n",
      "545    male  64.0      0      0        693   26.0000          NaN        S  \n",
      "555    male  62.0      0      0     113807   26.5500          NaN        S  \n",
      "625    male  61.0      0      0      36963   32.3208          D50        S  \n",
      "630    male  80.0      0      0      27042   30.0000          A23        S  \n",
      "745    male  70.0      1      1  WE/P 5735   71.0000          B22        S  \n",
      "829  female  62.0      0      0     113572   80.0000          B28      NaN  \n",
      "14\n"
     ]
    }
   ],
   "source": [
    "# Filter: Passengers who are in first class and over 60 years old\n",
    "mask = (df['Pclass'] == 1) & (df['Age'] > 60)\n",
    "df_filter = df[mask]\n",
    "\n",
    "print(df_filter)\n",
    "print(len(df_filter.index))"
   ]
  },
  {
   "cell_type": "code",
   "execution_count": 23,
   "id": "7b2dc50b-c7e6-473e-a30b-e41e7208c3de",
   "metadata": {},
   "outputs": [
    {
     "name": "stdout",
     "output_type": "stream",
     "text": [
      "     PassengerId  Survived  Pclass                                       Name  \\\n",
      "33            34         0       2                      Wheadon, Mr. Edward H   \n",
      "54            55         0       1             Ostby, Mr. Engelhart Cornelius   \n",
      "96            97         0       1                  Goldschmidt, Mr. George B   \n",
      "116          117         0       3                       Connors, Mr. Patrick   \n",
      "170          171         0       1                  Van der hoef, Mr. Wyckoff   \n",
      "252          253         0       1                  Stead, Mr. William Thomas   \n",
      "275          276         1       1          Andrews, Miss. Kornelia Theodosia   \n",
      "280          281         0       3                           Duane, Mr. Frank   \n",
      "326          327         0       3                  Nysveen, Mr. Johan Hansen   \n",
      "438          439         0       1                          Fortune, Mr. Mark   \n",
      "456          457         0       1                  Millet, Mr. Francis Davis   \n",
      "483          484         1       3                     Turkula, Mrs. (Hedwig)   \n",
      "493          494         0       1                    Artagaveytia, Mr. Ramon   \n",
      "545          546         0       1               Nicholson, Mr. Arthur Ernest   \n",
      "555          556         0       1                         Wright, Mr. George   \n",
      "570          571         1       2                         Harris, Mr. George   \n",
      "625          626         0       1                      Sutton, Mr. Frederick   \n",
      "630          631         1       1       Barkworth, Mr. Algernon Henry Wilson   \n",
      "672          673         0       2                Mitchell, Mr. Henry Michael   \n",
      "745          746         0       1               Crosby, Capt. Edward Gifford   \n",
      "829          830         1       1  Stone, Mrs. George Nelson (Martha Evelyn)   \n",
      "851          852         0       3                        Svensson, Mr. Johan   \n",
      "\n",
      "        Sex   Age  SibSp  Parch       Ticket      Fare        Cabin Embarked  \n",
      "33     male  66.0      0      0   C.A. 24579   10.5000          NaN        S  \n",
      "54     male  65.0      0      1       113509   61.9792          B30        C  \n",
      "96     male  71.0      0      0     PC 17754   34.6542           A5        C  \n",
      "116    male  70.5      0      0       370369    7.7500          NaN        Q  \n",
      "170    male  61.0      0      0       111240   33.5000          B19        S  \n",
      "252    male  62.0      0      0       113514   26.5500          C87        S  \n",
      "275  female  63.0      1      0        13502   77.9583           D7        S  \n",
      "280    male  65.0      0      0       336439    7.7500          NaN        Q  \n",
      "326    male  61.0      0      0       345364    6.2375          NaN        S  \n",
      "438    male  64.0      1      4        19950  263.0000  C23 C25 C27        S  \n",
      "456    male  65.0      0      0        13509   26.5500          E38        S  \n",
      "483  female  63.0      0      0         4134    9.5875          NaN        S  \n",
      "493    male  71.0      0      0     PC 17609   49.5042          NaN        C  \n",
      "545    male  64.0      0      0          693   26.0000          NaN        S  \n",
      "555    male  62.0      0      0       113807   26.5500          NaN        S  \n",
      "570    male  62.0      0      0  S.W./PP 752   10.5000          NaN        S  \n",
      "625    male  61.0      0      0        36963   32.3208          D50        S  \n",
      "630    male  80.0      0      0        27042   30.0000          A23        S  \n",
      "672    male  70.0      0      0   C.A. 24580   10.5000          NaN        S  \n",
      "745    male  70.0      1      1    WE/P 5735   71.0000          B22        S  \n",
      "829  female  62.0      0      0       113572   80.0000          B28      NaN  \n",
      "851    male  74.0      0      0       347060    7.7750          NaN        S  \n",
      "22\n"
     ]
    }
   ],
   "source": [
    "# Filter: passengers who are > 60 years of age\n",
    "mask = df['Age'] > 60\n",
    "df_filter = df[mask]\n",
    "\n",
    "print(df_filter)\n",
    "print(len(df_filter.index))\n"
   ]
  },
  {
   "cell_type": "code",
   "execution_count": null,
   "id": "988840e9-02f9-4b80-a3b8-9702d7dc8395",
   "metadata": {},
   "outputs": [],
   "source": [
    "# Filter: Passengers whose age is either < 30 or > 60 , \n",
    "mask = (df['Age'] < 30) | (df['Age'] > 60)\n",
    "df_filter = df[mask]\n",
    "\n",
    "print(df_filter)\n",
    "print(len(df_filter.index))"
   ]
  },
  {
   "cell_type": "code",
   "execution_count": 24,
   "id": "a964fe41-6ea1-4573-a908-4484e65902e8",
   "metadata": {},
   "outputs": [
    {
     "name": "stdout",
     "output_type": "stream",
     "text": [
      "     PassengerId  Survived  Pclass                  Name   Sex   Age  SibSp  \\\n",
      "116          117         0       3  Connors, Mr. Patrick  male  70.5      0   \n",
      "280          281         0       3      Duane, Mr. Frank  male  65.0      0   \n",
      "\n",
      "     Parch  Ticket  Fare Cabin Embarked  \n",
      "116      0  370369  7.75   NaN        Q  \n",
      "280      0  336439  7.75   NaN        Q  \n",
      "2\n"
     ]
    }
   ],
   "source": [
    "# Filter: all male passenger who embarked in Queenstown with age > 65\n",
    "mask = (df['Sex'] == 'male') & (df['Embarked'] == 'Q') & (df['Age'] >= 65)\n",
    "df_filter = df[mask]\n",
    "\n",
    "print(df_filter)\n",
    "print(len(df_filter.index))"
   ]
  },
  {
   "cell_type": "code",
   "execution_count": 25,
   "id": "284c8c4a-7f24-4269-88bd-1b008c630c2e",
   "metadata": {},
   "outputs": [
    {
     "name": "stdout",
     "output_type": "stream",
     "text": [
      "     PassengerId  Survived  Pclass                       Name   Sex   Age  \\\n",
      "16            17         0       3       Rice, Master. Eugene  male   2.0   \n",
      "116          117         0       3       Connors, Mr. Patrick  male  70.5   \n",
      "171          172         0       3       Rice, Master. Arthur  male   4.0   \n",
      "278          279         0       3         Rice, Master. Eric  male   7.0   \n",
      "280          281         0       3           Duane, Mr. Frank  male  65.0   \n",
      "787          788         0       3  Rice, Master. George Hugh  male   8.0   \n",
      "\n",
      "     SibSp  Parch  Ticket    Fare Cabin Embarked  \n",
      "16       4      1  382652  29.125   NaN        Q  \n",
      "116      0      0  370369   7.750   NaN        Q  \n",
      "171      4      1  382652  29.125   NaN        Q  \n",
      "278      4      1  382652  29.125   NaN        Q  \n",
      "280      0      0  336439   7.750   NaN        Q  \n",
      "787      4      1  382652  29.125   NaN        Q  \n",
      "6\n"
     ]
    }
   ],
   "source": [
    "# Filter: all male passenger who embarked in Queenstown with age > 65 or age < 18\n",
    "mask = (df['Sex'] == 'male') & (df['Embarked'] == 'Q') & ( (df['Age'] >= 65) | (df['Age'] < 18) )\n",
    "df_filter = df[mask]\n",
    "\n",
    "print(df_filter)\n",
    "print(len(df_filter.index))"
   ]
  },
  {
   "cell_type": "code",
   "execution_count": null,
   "id": "d5baf02c-07c1-4d3d-8313-979bbd1ee285",
   "metadata": {},
   "outputs": [],
   "source": [
    "# Filter: Passengers with missing age or fare > 200\n",
    "mask = (df['Age'].isnull()) | (df['Fare'] > 200)\n",
    "df_filter = df[mask]\n",
    "print(df_filter)\n",
    "print(\"########################\")"
   ]
  },
  {
   "cell_type": "code",
   "execution_count": null,
   "id": "11f3802c-2596-46ff-a7cb-abe63a161e9d",
   "metadata": {},
   "outputs": [],
   "source": [
    "# Filter: Male passengers under 18 who did not survive\n",
    "# passenger are male AND passengers age < 18 AND passenger did not survive \n",
    "mask = (df['Sex'] == 'male') & (df['Age'] < 18) & (df['Survived'] == 0)\n",
    "df_filter = df[mask]\n",
    "print(df_filter)\n",
    "print(\"########################\")"
   ]
  },
  {
   "cell_type": "code",
   "execution_count": null,
   "id": "d548989c-452d-4ac7-bdab-6492b21e9430",
   "metadata": {},
   "outputs": [],
   "source": [
    "# Filter: Females in 2nd or 3rd class\n",
    "# passengers are female AND (passenger are in  2nd class OR passenger are in  3rd class) # TODO\n",
    "mask = (df['Sex'] == 'female') & ((df['Pclass'] == 2) | (df['Pclass'] == 3))\n",
    "df_filter = df[mask]\n",
    "print(df_filter)\n",
    "print(\"########################\")"
   ]
  },
  {
   "cell_type": "code",
   "execution_count": 34,
   "id": "4d717312-705f-4e01-9aa7-d8e3c8c6659d",
   "metadata": {},
   "outputs": [
    {
     "name": "stdout",
     "output_type": "stream",
     "text": [
      "Index(['PassengerId', 'Survived', 'Pclass', 'Name', 'Sex', 'Age', 'SibSp',\n",
      "       'Parch', 'Ticket', 'Fare', 'Cabin', 'Embarked'],\n",
      "      dtype='object')\n",
      "     PassengerId  Survived  Pclass  \\\n",
      "27            28         0       1   \n",
      "88            89         1       1   \n",
      "248          249         1       1   \n",
      "262          263         0       1   \n",
      "297          298         0       1   \n",
      "305          306         1       1   \n",
      "311          312         1       1   \n",
      "319          320         1       1   \n",
      "341          342         1       1   \n",
      "390          391         1       1   \n",
      "435          436         1       1   \n",
      "438          439         0       1   \n",
      "498          499         0       1   \n",
      "558          559         1       1   \n",
      "581          582         1       1   \n",
      "587          588         1       1   \n",
      "698          699         0       1   \n",
      "742          743         1       1   \n",
      "745          746         0       1   \n",
      "763          764         1       1   \n",
      "802          803         1       1   \n",
      "820          821         1       1   \n",
      "835          836         1       1   \n",
      "856          857         1       1   \n",
      "871          872         1       1   \n",
      "\n",
      "                                                  Name     Sex    Age  SibSp  \\\n",
      "27                      Fortune, Mr. Charles Alexander    male  19.00      3   \n",
      "88                          Fortune, Miss. Mabel Helen  female  23.00      3   \n",
      "248                      Beckwith, Mr. Richard Leonard    male  37.00      1   \n",
      "262                                  Taussig, Mr. Emil    male  52.00      1   \n",
      "297                       Allison, Miss. Helen Loraine  female   2.00      1   \n",
      "305                     Allison, Master. Hudson Trevor    male   0.92      1   \n",
      "311                         Ryerson, Miss. Emily Borie  female  18.00      2   \n",
      "319  Spedden, Mrs. Frederic Oakley (Margaretta Corn...  female  40.00      1   \n",
      "341                     Fortune, Miss. Alice Elizabeth  female  24.00      3   \n",
      "390                         Carter, Mr. William Ernest    male  36.00      1   \n",
      "435                          Carter, Miss. Lucile Polk  female  14.00      1   \n",
      "438                                  Fortune, Mr. Mark    male  64.00      1   \n",
      "498    Allison, Mrs. Hudson J C (Bessie Waldo Daniels)  female  25.00      1   \n",
      "558             Taussig, Mrs. Emil (Tillie Mandelbaum)  female  39.00      1   \n",
      "581  Thayer, Mrs. John Borland (Marian Longstreth M...  female  39.00      1   \n",
      "587                   Frolicher-Stehli, Mr. Maxmillian    male  60.00      1   \n",
      "698                           Thayer, Mr. John Borland    male  49.00      1   \n",
      "742              Ryerson, Miss. Susan Parker \"Suzette\"  female  21.00      2   \n",
      "745                       Crosby, Capt. Edward Gifford    male  70.00      1   \n",
      "763          Carter, Mrs. William Ernest (Lucile Polk)  female  36.00      1   \n",
      "802                Carter, Master. William Thornton II    male  11.00      1   \n",
      "820  Hays, Mrs. Charles Melville (Clara Jennings Gr...  female  52.00      1   \n",
      "835                        Compton, Miss. Sara Rebecca  female  39.00      1   \n",
      "856         Wick, Mrs. George Dennick (Mary Hitchcock)  female  45.00      1   \n",
      "871   Beckwith, Mrs. Richard Leonard (Sallie Monypeny)  female  47.00      1   \n",
      "\n",
      "     Parch     Ticket      Fare            Cabin Embarked  \n",
      "27       2      19950  263.0000      C23 C25 C27        S  \n",
      "88       2      19950  263.0000      C23 C25 C27        S  \n",
      "248      1      11751   52.5542              D35        S  \n",
      "262      1     110413   79.6500              E67        S  \n",
      "297      2     113781  151.5500          C22 C26        S  \n",
      "305      2     113781  151.5500          C22 C26        S  \n",
      "311      2   PC 17608  262.3750  B57 B59 B63 B66        C  \n",
      "319      1      16966  134.5000              E34        C  \n",
      "341      2      19950  263.0000      C23 C25 C27        S  \n",
      "390      2     113760  120.0000          B96 B98        S  \n",
      "435      2     113760  120.0000          B96 B98        S  \n",
      "438      4      19950  263.0000      C23 C25 C27        S  \n",
      "498      2     113781  151.5500          C22 C26        S  \n",
      "558      1     110413   79.6500              E67        S  \n",
      "581      1      17421  110.8833              C68        C  \n",
      "587      1      13567   79.2000              B41        C  \n",
      "698      1      17421  110.8833              C68        C  \n",
      "742      2   PC 17608  262.3750  B57 B59 B63 B66        C  \n",
      "745      1  WE/P 5735   71.0000              B22        S  \n",
      "763      2     113760  120.0000          B96 B98        S  \n",
      "802      2     113760  120.0000          B96 B98        S  \n",
      "820      1      12749   93.5000              B69        S  \n",
      "835      1   PC 17756   83.1583              E49        C  \n",
      "856      1      36928  164.8667              NaN        S  \n",
      "871      1      11751   52.5542              D35        S  \n",
      "891\n"
     ]
    }
   ],
   "source": [
    "# Filter: passenger with parent children and spouse and were 1st class\n",
    "print(df.columns)\n",
    "mask = ( df['Parch'] > 0 ) & ( df['SibSp'] > 0 ) & ( df['Pclass'] == 1)\n",
    "\n",
    "df_filter = df[mask]\n",
    "print(df_filter)\n",
    "print(len(df_filter.index))\n"
   ]
  },
  {
   "cell_type": "code",
   "execution_count": null,
   "id": "b89fb44d-49f5-480e-a00a-563efb1a4425",
   "metadata": {},
   "outputs": [],
   "source": []
  }
 ],
 "metadata": {
  "kernelspec": {
   "display_name": "Python 3 (ipykernel)",
   "language": "python",
   "name": "python3"
  },
  "language_info": {
   "codemirror_mode": {
    "name": "ipython",
    "version": 3
   },
   "file_extension": ".py",
   "mimetype": "text/x-python",
   "name": "python",
   "nbconvert_exporter": "python",
   "pygments_lexer": "ipython3",
   "version": "3.9.9"
  }
 },
 "nbformat": 4,
 "nbformat_minor": 5
}
