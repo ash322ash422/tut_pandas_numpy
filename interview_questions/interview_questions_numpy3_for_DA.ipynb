{
 "cells": [
  {
   "cell_type": "code",
   "execution_count": 2,
   "id": "7540a7e8-1506-48db-b25d-425e2b8172b1",
   "metadata": {},
   "outputs": [],
   "source": [
    "import numpy as np"
   ]
  },
  {
   "cell_type": "markdown",
   "id": "db5ab047-30d2-4ec7-8665-1d8ea3f21fdc",
   "metadata": {},
   "source": [
    "\n",
    "---\n",
    "\n",
    "### 1. **What is NumPy and why is it used?**\n",
    "\n",
    "**Answer:**\n",
    "NumPy (Numerical Python) is a Python library used for numerical computing. It provides support for **multi-dimensional arrays**, **mathematical functions**, **linear algebra**, **Fourier transforms**, and more. It’s faster than regular Python lists because it uses **vectorization** and **C-optimized implementations**.\n",
    "\n",
    "---\n",
    "\n",
    "### 2. **How do you create a NumPy array?**\n",
    "\n",
    "**Answer:**\n",
    "\n",
    "```python\n",
    "import numpy as np\n",
    "\n",
    "# From a list\n",
    "arr = np.array([1, 2, 3, 4])\n",
    "\n",
    "# Create 2X3 array of zeros\n",
    "zeros = np.zeros((2, 3))\n",
    "\n",
    "# Create array of ones\n",
    "ones = np.ones((3, 3))\n",
    "\n",
    "# Create array with range\n",
    "arange = np.arange(0, 10, 2)\n",
    "```\n",
    "\n",
    "\n",
    "### How do you check the shape of arrays in numpy ?\n",
    "print(arr.shape)\n",
    "\n",
    "\n",
    "---\n",
    "\n",
    "### 3. **What is the difference between a Python list and a NumPy array?**\n",
    "\n",
    "**Answer:**\n",
    "\n",
    "* **Lists** can store different data types, while **NumPy arrays** require elements of the same data type.\n",
    "* **NumPy arrays** support **vectorized operations** (element-wise), making them much faster than lists.\n",
    "* NumPy arrays consume less memory compared to lists.\n",
    "\n",
    "```\n",
    "l   = [1, \"hello\", True, 2.45, 3, 8] # contains int, str, Boolean, float\n",
    "arr = np.array(l)\n",
    "print(arr.dtype)\n",
    "```\n",
    "---\n"
   ]
  },
  {
   "cell_type": "code",
   "execution_count": null,
   "id": "6c3f0c33-3879-4a60-b489-10e194e8b1d3",
   "metadata": {},
   "outputs": [],
   "source": [
    "# different datatypes\n",
    "l   = [1, \"hello\", True, 2.45, 3, 8] # contains int, str, Boolean, float\n",
    "arr = np.array(l)\n",
    "print(arr.dtype)"
   ]
  },
  {
   "cell_type": "code",
   "execution_count": 7,
   "id": "d5d9259e-949d-4da2-b9a7-c9026f82234a",
   "metadata": {},
   "outputs": [
    {
     "name": "stdout",
     "output_type": "stream",
     "text": [
      "a*b: [ 4 10 18]\n",
      "a*b: [4, 10, 18]\n",
      "a*b: [4, 10, 18]\n"
     ]
    }
   ],
   "source": [
    "# vectorized operation\n",
    "\n",
    "la = [1, 2, 3]\n",
    "lb = [4, 5, 6]\n",
    "\n",
    "# vectorized operation in numpy\n",
    "a = np.array(la)\n",
    "b = np.array(lb)\n",
    "\n",
    "print(\"a*b:\", a*b)\n",
    "\n",
    "# same calculation in python list:\n",
    "result = [a*b for a, b in zip(la, lb)]\n",
    "print(\"a*b:\", result)\n",
    "\n",
    "result  = []\n",
    "for i in range(len(la)):\n",
    "   result.append(la[i]*lb[i])\n",
    "print(\"a*b:\", result)"
   ]
  },
  {
   "cell_type": "code",
   "execution_count": null,
   "id": "33c1f32e-90c5-4e7e-b22c-67ea8553c375",
   "metadata": {},
   "outputs": [],
   "source": []
  },
  {
   "cell_type": "code",
   "execution_count": null,
   "id": "db76ebb4-73c4-4475-8104-e65227e0f4cd",
   "metadata": {},
   "outputs": [],
   "source": [
    "\n",
    "### 4. **How do you check the shape and datatype of a NumPy array?**\n",
    "\n",
    "**Answer:**\n",
    "\n",
    "```python\n",
    "arr = np.array([[1, 2, 3], [4, 5, 6]])\n",
    "print(arr.shape)   # (2, 3)\n",
    "print(arr.dtype)   # int64 (depends on system)\n",
    "```\n",
    "\n",
    "---\n",
    "\n",
    "### 5. **How do you reshape an array in NumPy? Say from 1D to 2D**\n",
    "\n",
    "**Answer:**\n",
    "\n",
    "```python\n",
    "arr = np.arange(12)   # [0, 1, 2, ..., 11]\n",
    "reshaped = arr.reshape(3, 4)  # 3x4 matrix\n",
    "```\n",
    "\n",
    "`reshape()` changes the dimensions of an array without changing its data.\n"
   ]
  },
  {
   "cell_type": "code",
   "execution_count": 10,
   "id": "cc763536-d182-40de-ad5e-6c33b71e8a45",
   "metadata": {},
   "outputs": [
    {
     "name": "stdout",
     "output_type": "stream",
     "text": [
      "(12,)\n",
      "(3, 4)\n"
     ]
    }
   ],
   "source": [
    "# reshape 1D to 2D: Note the number of elements should be same\n",
    "arr = np.arange(12)   # [0, 1, 2, ..., 11]\n",
    "reshaped = arr.reshape(3, 4)  # 3x4 matrix\n",
    "print(arr.shape)\n",
    "print(reshaped.shape)"
   ]
  },
  {
   "cell_type": "code",
   "execution_count": 15,
   "id": "8881d098-674d-492a-8b24-31b170eb6746",
   "metadata": {},
   "outputs": [
    {
     "name": "stdout",
     "output_type": "stream",
     "text": [
      "(12,)\n",
      "(3, 4, 1)\n"
     ]
    }
   ],
   "source": [
    "# reshape 1D to 3D array: Note the number of elements should be same\n",
    "\n",
    "arr = np.arange(12)   # [0, 1, 2, ..., 11]\n",
    "# reshaped = arr.reshape(2, 6, 1)\n",
    "# reshaped = arr.reshape(2, 3, 2)\n",
    "reshaped = arr.reshape(3, 4, 1)\n",
    "# reshaped = arr.reshape(3, 4, 2) # ERROR\n",
    "\n",
    "print(arr.shape)\n",
    "print(reshaped.shape)"
   ]
  },
  {
   "cell_type": "code",
   "execution_count": null,
   "id": "425359cf-900f-479b-82a3-9e745b185247",
   "metadata": {},
   "outputs": [],
   "source": []
  },
  {
   "cell_type": "code",
   "execution_count": null,
   "id": "dbd2a1f3-ccae-4b25-97a8-18a4b205b1a1",
   "metadata": {},
   "outputs": [],
   "source": []
  },
  {
   "cell_type": "code",
   "execution_count": null,
   "id": "8a635132-5a2e-4730-94b3-7d758a2c5945",
   "metadata": {},
   "outputs": [],
   "source": [
    "\n",
    "---\n",
    "\n",
    "### 6. **How do you perform element-wise operations on NumPy arrays?**\n",
    "\n",
    "**Answer:**\n",
    "\n",
    "```python\n",
    "a = np.array([1, 2, 3])\n",
    "b = np.array([4, 5, 6])\n",
    "\n",
    "print(a + b)   # [5, 7, 9]\n",
    "print(a * b)   # [4, 10, 18]\n",
    "print(a ** 2)  # [1, 4, 9]\n",
    "```\n",
    "\n",
    "NumPy supports **broadcasting** for operations across different shapes.\n",
    "\n",
    "---\n",
    "\n",
    "### 7. **How do you compute statistical measures in NumPy (mean, median, std)?**\n",
    "\n",
    "**Answer:**\n",
    "\n",
    "```python\n",
    "arr = np.array([1, 2, 3, 4, 5])\n",
    "\n",
    "print(np.mean(arr))   # 3.0\n",
    "print(np.median(arr)) # 3.0\n",
    "print(np.std(arr))    # 1.4142...\n",
    "```\n",
    "\n",
    "---\n",
    "\n",
    "### 8. **What is broadcasting in NumPy?**\n",
    "\n",
    "**Answer:**\n",
    "Broadcasting allows NumPy to perform operations on arrays of different shapes by **automatically expanding dimensions**.\n",
    "Example:\n",
    "\n",
    "```\n",
    "a = np.array([1, 2, 3])\n",
    "b = 2\n",
    "print(a * b)   # [2, 4, 6]\n",
    "```\n",
    "\n",
    "Here, `b` is broadcasted to match `a`.\n",
    "\n",
    "---\n",
    "\n",
    "### 9. **How do you slice and index a NumPy array?**\n",
    "\n",
    "**Answer:**\n",
    "\n",
    "```python\n",
    "arr = np.array([10, 20, 30, 40, 50])\n",
    "\n",
    "print(arr[1:4])   # [20 30 40]\n",
    "print(arr[-1])    # 50\n",
    "print(arr[:3])    # [10 20 30]\n",
    "\n",
    "matrix = np.array([[1, 2, 3], [4, 5, 6]])\n",
    "print(matrix[0, 1])   # 2\n",
    "print(matrix[:, 2])   # [3 6]\n",
    "```\n",
    "\n",
    "---"
   ]
  },
  {
   "cell_type": "code",
   "execution_count": 16,
   "id": "1653e08b-dda8-4c58-8510-16c5b57f0d63",
   "metadata": {},
   "outputs": [
    {
     "name": "stdout",
     "output_type": "stream",
     "text": [
      "[20 30 40]\n",
      "50\n",
      "[10 20 30]\n",
      "2\n",
      "[3 6]\n"
     ]
    }
   ],
   "source": [
    "arr = np.array([10, 20, 30, 40, 50])\n",
    "\n",
    "print(arr[1:4])   # [20 30 40]\n",
    "print(arr[-1])    # 50\n",
    "print(arr[:3])    # [10 20 30]\n",
    "\n",
    "matrix = np.array(\n",
    "    [[1, 2, 3],\n",
    "     [4, 5, 6]]\n",
    ")\n",
    "print(matrix[0, 1])   # 2\n",
    "print(matrix[:, 2])   # [3 6]\n"
   ]
  },
  {
   "cell_type": "code",
   "execution_count": null,
   "id": "f0b46b19-23e4-44ef-9dcf-b494e84cddae",
   "metadata": {},
   "outputs": [],
   "source": []
  },
  {
   "cell_type": "code",
   "execution_count": null,
   "id": "697cefe2-9031-4934-a6d6-a6152f5f75fa",
   "metadata": {},
   "outputs": [],
   "source": [
    "### 10. **How do you find unique values and their counts in a NumPy array?**\n",
    "\n",
    "**Answer:**\n",
    "\n",
    "```python\n",
    "arr = np.array([10, 20, 20, 30, 30, 40, 30, 40])\n",
    "unique, counts = np.unique(arr, return_counts=True)\n",
    "\n",
    "print(unique)  \n",
    "print(counts)  \n",
    "```\n",
    "\n",
    "---"
   ]
  },
  {
   "cell_type": "code",
   "execution_count": 19,
   "id": "bda9fd26-7535-4bd8-ab27-33e466189a4b",
   "metadata": {},
   "outputs": [
    {
     "name": "stdout",
     "output_type": "stream",
     "text": [
      "[10 20 30 40]\n",
      "[1 2 3 2]\n"
     ]
    }
   ],
   "source": [
    "arr = np.array([10, 20, 20, 30, 30, 40, 30, 40])\n",
    "unique, counts = np.unique(arr, return_counts=True)\n",
    "\n",
    "print(unique)  \n",
    "print(counts)  "
   ]
  },
  {
   "cell_type": "code",
   "execution_count": null,
   "id": "980c321e-1f63-4220-bf71-48220ae42547",
   "metadata": {},
   "outputs": [],
   "source": []
  }
 ],
 "metadata": {
  "kernelspec": {
   "display_name": "Python 3 (ipykernel)",
   "language": "python",
   "name": "python3"
  },
  "language_info": {
   "codemirror_mode": {
    "name": "ipython",
    "version": 3
   },
   "file_extension": ".py",
   "mimetype": "text/x-python",
   "name": "python",
   "nbconvert_exporter": "python",
   "pygments_lexer": "ipython3",
   "version": "3.9.9"
  }
 },
 "nbformat": 4,
 "nbformat_minor": 5
}
