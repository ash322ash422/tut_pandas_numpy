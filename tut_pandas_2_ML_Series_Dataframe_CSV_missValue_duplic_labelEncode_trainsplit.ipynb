{
 "cells": [
  {
   "cell_type": "markdown",
   "id": "590c5189",
   "metadata": {},
   "source": [
    "## pandas\n",
    "- Used for EDA\n",
    "- used for data cleaning, etc\n",
    "- importing/exporting data, creating/deleting columns,\n",
    "\n",
    "#### Topics:\n",
    "- Series: difference between pandas **Series** and pandas **Dataframe**, access series, operation on series\n",
    "- Dataframe: data collection->read from CSV, data access ( loc, iloc )\n",
    "- statitical operation: mean, etc"
   ]
  },
  {
   "cell_type": "code",
   "execution_count": 80,
   "id": "eeac7e81-4866-4be2-9189-743d1683c30a",
   "metadata": {},
   "outputs": [
    {
     "name": "stdout",
     "output_type": "stream",
     "text": [
      "2.2.0\n"
     ]
    }
   ],
   "source": [
    "import pandas as pd\n",
    "import numpy as np\n",
    "import matplotlib.pyplot as plt\n",
    "import seaborn as sns\n",
    "\n",
    "print(pd.__version__)\n",
    "data_file = 'data.csv'"
   ]
  },
  {
   "cell_type": "markdown",
   "id": "99e19d26-093c-4774-8eba-01021d30f081",
   "metadata": {},
   "source": [
    "# Series\n",
    "## Difference between pandas Series and pandas Dataframe\n",
    "```\n",
    "Feature\t        Series              DataFrame\n",
    "Dimensions\t      1D                  2D\n",
    "Shape             (n,)             (rows, columns)\n",
    "Data Structure    Single column   Table with multiple columns\n",
    "Index             Yes               Yes (rows & columns)\n",
    "Usage         Single column or row   Full dataset\n",
    "```"
   ]
  },
  {
   "cell_type": "code",
   "execution_count": 81,
   "id": "b71e441f-0302-4044-bf71-c2b341de962f",
   "metadata": {},
   "outputs": [
    {
     "name": "stdout",
     "output_type": "stream",
     "text": [
      "<class 'pandas.core.series.Series'>\n",
      "0    10\n",
      "1    20\n",
      "2    30\n",
      "3    40\n",
      "dtype: int64\n",
      "#####################\n",
      "a    10\n",
      "b    20\n",
      "c    30\n",
      "dtype: int64\n",
      "$$$$$$$$$$$$$$$$$$$$$$$$$\n",
      "Alice      25\n",
      "Bob        30\n",
      "Charlie    35\n",
      "dtype: int64\n",
      "%%%%%%%%%%%%%%%%%%%%%%%%%%%%%\n",
      "0    19\n",
      "1    14\n",
      "2    15\n",
      "3    19\n",
      "4    17\n",
      "dtype: int32\n",
      "**********************\n",
      "<class 'pandas.core.series.Series'>\n",
      "0     25\n",
      "1     30\n",
      "2     35\n",
      "3     40\n",
      "4     22\n",
      "5     28\n",
      "6     32\n",
      "7     26\n",
      "8     26\n",
      "9     26\n",
      "10    23\n",
      "Name: Age, dtype: int64\n"
     ]
    }
   ],
   "source": [
    "# Series declaration\n",
    "\n",
    "s = pd.Series([10, 20, 30, 40]) # From a List\n",
    "print(type(s)) # <class 'pandas.core.series.Series'>\n",
    "print(s)\n",
    "\n",
    "print(\"#####################\")\n",
    "s = pd.Series([10, 20, 30], index=['a', 'b', 'c']) # From a List with Custom Index\n",
    "print(s)\n",
    "\n",
    "print(\"$$$$$$$$$$$$$$$$$$$$$$$$$\")\n",
    "data = {'Alice': 25, 'Bob': 30, 'Charlie': 35} #  From a Dictionary\n",
    "s = pd.Series(data)\n",
    "print(s)\n",
    "print(\"%%%%%%%%%%%%%%%%%%%%%%%%%%%%%\")\n",
    "s = pd.Series(np.random.randint(10,20,5))\n",
    "print(s)\n",
    "\n",
    "print(\"**********************\")\n",
    "series_age = df['Age']\n",
    "print(type(series_age)) # <class 'pandas.core.series.Series'>\n",
    "print(series_age)"
   ]
  },
  {
   "cell_type": "code",
   "execution_count": 82,
   "id": "1c188ee6-7aad-4140-980f-05db94c11e73",
   "metadata": {},
   "outputs": [
    {
     "name": "stdout",
     "output_type": "stream",
     "text": [
      "10\n",
      "0    10\n",
      "1    20\n",
      "2    30\n",
      "dtype: int64\n",
      "2    30\n",
      "3    40\n",
      "4    50\n",
      "dtype: int64\n",
      "1    20\n",
      "2    30\n",
      "dtype: int64\n"
     ]
    }
   ],
   "source": [
    "# access series\n",
    "s = pd.Series([10, 20, 30, 40, 50])\n",
    "print(s[0])\n",
    "print(s[:3])\n",
    "print(s[2:])\n",
    "print(s[1:3])\n"
   ]
  },
  {
   "cell_type": "markdown",
   "id": "0dce97dd-25f6-4e9a-8881-2f8a88a59dd0",
   "metadata": {},
   "source": [
    "### operation on series"
   ]
  },
  {
   "cell_type": "code",
   "execution_count": 83,
   "id": "f639fa9a-6976-41ab-a1db-578610e3ead7",
   "metadata": {},
   "outputs": [
    {
     "name": "stdout",
     "output_type": "stream",
     "text": [
      "0    15\n",
      "1    25\n",
      "2    35\n",
      "dtype: int64\n",
      "0    20\n",
      "1    40\n",
      "2    60\n",
      "dtype: int64\n",
      "0    1.0\n",
      "1    2.0\n",
      "2    3.0\n",
      "dtype: float64\n",
      "25.0\n",
      "25.0\n",
      "12.909944487358056\n",
      "40\n",
      "10\n",
      "100\n",
      "0     10\n",
      "1     30\n",
      "2     60\n",
      "3    100\n",
      "dtype: int64\n",
      "0        10\n",
      "1       200\n",
      "2      6000\n",
      "3    240000\n",
      "dtype: int64\n",
      "count     4.000000\n",
      "mean     25.000000\n",
      "std      12.909944\n",
      "min      10.000000\n",
      "25%      17.500000\n",
      "50%      25.000000\n",
      "75%      32.500000\n",
      "max      40.000000\n",
      "dtype: float64\n",
      "17.5\n",
      "6.454972243679028\n",
      "4\n",
      "10    1\n",
      "20    1\n",
      "30    1\n",
      "40    1\n",
      "Name: count, dtype: int64\n",
      "0\n",
      "3\n",
      "0    1.000000\n",
      "1    1.414214\n",
      "2    1.732051\n",
      "3    2.000000\n",
      "dtype: float64\n",
      "0     2.718282\n",
      "1     7.389056\n",
      "2    20.085537\n",
      "3    54.598150\n",
      "dtype: float64\n",
      "0    0.000000\n",
      "1    0.693147\n",
      "2    1.098612\n",
      "3    1.386294\n",
      "dtype: float64\n",
      "0    False\n",
      "1    False\n",
      "2     True\n",
      "3     True\n",
      "dtype: bool\n",
      "2    30\n",
      "3    40\n",
      "dtype: int64\n",
      "apple     2\n",
      "banana    1\n",
      "orange    1\n",
      "Name: count, dtype: int64\n",
      "['apple' 'banana' 'orange']\n",
      "0    10\n",
      "1    20\n",
      "2    30\n",
      "dtype: int64\n",
      "0        HELLO\n",
      "1    MY FRIEND\n",
      "dtype: object\n",
      "0    5\n",
      "1    9\n",
      "dtype: int64\n",
      "0    False\n",
      "1    False\n",
      "2     True\n",
      "3    False\n",
      "dtype: bool\n",
      "0    1.0\n",
      "1    2.0\n",
      "2    0.0\n",
      "3    4.0\n",
      "dtype: float64\n",
      "0    1.0\n",
      "1    2.0\n",
      "3    4.0\n",
      "dtype: float64\n",
      "1     2\n",
      "0    10\n",
      "2    30\n",
      "dtype: int64\n",
      "0    10\n",
      "1     2\n",
      "2    30\n",
      "dtype: int64\n",
      "a    5\n",
      "b    7\n",
      "c    9\n",
      "dtype: int64\n"
     ]
    }
   ],
   "source": [
    "# 1. Arithmetic Operations\n",
    "s = pd.Series([10, 20, 30])\n",
    "\n",
    "print(s + 5)       # Add 5 to each element\n",
    "print(s * 2)       # Multiply each element by 2\n",
    "print(s / 10)      # Divide each element by 10\n",
    "\n",
    "# 2. Statistical Operations\n",
    "s = pd.Series([10, 20, 30, 40])\n",
    "\n",
    "print(s.mean())      # Average\n",
    "print(s.median())    # Median\n",
    "print(s.std())       # Standard deviation\n",
    "print(s.max())       # Maximum\n",
    "print(s.min())       # Minimum\n",
    "print(s.sum())       # Sum of all elements\n",
    "print(s.cumsum())\n",
    "print(s.cumprod())\n",
    "print(s.describe())\n",
    "print(s.quantile(0.25))  # 25th percentile\n",
    "\n",
    "print(s.sem())  # Standard error mean\n",
    "print(s.nunique())  # Unique count\n",
    "\n",
    "print(s.value_counts())  # Value counts (frequency of each unique value)\n",
    "\n",
    "print(s.idxmin())  # Index of first min value\n",
    "print(s.idxmax())  # Index of first max value\n",
    "\n",
    "\n",
    "\n",
    "# 3. Element-wise Functions\n",
    "s = pd.Series([1, 2, 3, 4])\n",
    "print(np.sqrt(s))      # Square root\n",
    "print(np.exp(s))       # Exponential\n",
    "print(np.log(s))       # Logarithm\n",
    "\n",
    "# 4. Boolean Filtering\n",
    "s = pd.Series([10, 20, 30, 40])\n",
    "print(s>25)\n",
    "print(s[s > 25])       # Filter elements greater than 25\n",
    "\n",
    "# 5. Value Counts & Uniqueness\n",
    "s = pd.Series(['apple', 'banana', 'apple', 'orange'])\n",
    "print(s.value_counts())   # Frequency of unique values\n",
    "print(s.unique())         # Unique values\n",
    "\n",
    "# 6. Mapping / Transformation\n",
    "s = pd.Series([1, 2, 3])\n",
    "print(s.map(lambda x: x * 10))  # Apply a function to each element\n",
    "\n",
    "# 7. String Operations (for string Series)\n",
    "s = pd.Series(['hello', 'my friend'])\n",
    "print(s.str.upper())     # Convert to uppercase\n",
    "print(s.str.len())       # Length of each string\n",
    "\n",
    "# 8. Handling Missing Data\n",
    "s = pd.Series([1, 2, None, 4])\n",
    "print(s.isnull())        # Check for NaNs\n",
    "print(s.fillna(0))       # Replace NaNs with 0\n",
    "print(s.dropna())        # Drop NaNs\n",
    "\n",
    "# 9. Sorting\n",
    "s = pd.Series([10, 2, 30])\n",
    "print(s.sort_values())   # Sort by value\n",
    "print(s.sort_index())    # Sort by index\n",
    "\n",
    "# 10. Combine / Arithmetic Between Series\n",
    "s1 = pd.Series([1, 2, 3], index=['a', 'b', 'c'])\n",
    "s2 = pd.Series([4, 5, 6], index=['a', 'b', 'c'])\n",
    "print(s1 + s2)   # Aligns by index and adds"
   ]
  },
  {
   "cell_type": "markdown",
   "id": "26e30055-c610-41af-b314-7d7aa275d809",
   "metadata": {},
   "source": [
    "## Dataframe"
   ]
  },
  {
   "cell_type": "code",
   "execution_count": 84,
   "id": "f56c2239-c4e1-48c4-9822-314096b06eb0",
   "metadata": {},
   "outputs": [
    {
     "name": "stdout",
     "output_type": "stream",
     "text": [
      "           A      B     C   D\n",
      "0 2023-01-01  120.5   Buy   1\n",
      "1 2023-01-02  123.0  Sell   8\n",
      "2 2023-01-03  121.3  Hold   8\n",
      "3 2023-01-04  125.6   Buy  10\n",
      "4 2023-01-05  124.2  Sell   8\n"
     ]
    }
   ],
   "source": [
    "# Create a DataFrame: hardcode the data\n",
    "data = {\n",
    "    'A': pd.Series(pd.date_range(\"2023-01-01\", periods=5, freq='D')),  # Time data\n",
    "    'B': pd.Series([120.5, 123.0, 121.3, 125.6, 124.2]),\n",
    "    'C': pd.Series(['Buy', 'Sell', 'Hold', 'Buy', 'Sell']),\n",
    "    'D': pd.Series(np.random.randint(1, 11, size=5))\n",
    "}\n",
    "df = pd.DataFrame(data)\n",
    "\n",
    "print(df)"
   ]
  },
  {
   "cell_type": "code",
   "execution_count": 85,
   "id": "bd85cb9c-bec6-45a8-87ec-13243971dd6d",
   "metadata": {},
   "outputs": [
    {
     "name": "stdout",
     "output_type": "stream",
     "text": [
      "       Name  Age         City  Experience  Experience2   Salary\n",
      "0     Alice   25      Chicago           2            2  70000.0\n",
      "1       Bob   30  Los Angeles           5            5  80000.0\n",
      "2   Charlie   35      Chicago           7            7      NaN\n",
      "3     David   40      Houston          10           10  90000.0\n",
      "4       Eva   22      Houston           1            1  48000.0\n",
      "5     Frank   28          NaN           3            3  72000.0\n",
      "6     Grace   32  San Antonio           6            6  85000.0\n",
      "7     Helen   26    San Diego           2            2  62000.0\n",
      "8     Helen   26    San Diego           2            2  62000.0\n",
      "9     Helen   26    San Diego           2            2  62000.0\n",
      "10    Jerry   23      Phoenix           6            6  78000.0\n"
     ]
    }
   ],
   "source": [
    "\n",
    "data = {\n",
    "    'Name': ['Alice', 'Bob', 'Charlie', 'David', 'Eva', 'Frank', 'Grace', 'Helen', 'Helen', 'Helen', 'Jerry'],\n",
    "    'Age': [25, 30, 35, 40, 22, 28, 32, 26, 26, 26, 23],\n",
    "    'City': ['Chicago', 'Los Angeles', 'Chicago', 'Houston', 'Houston', np.nan, 'San Antonio', 'San Diego', 'San Diego', 'San Diego', 'Phoenix'],\n",
    "    'Experience': [2, 5, 7, 10, 1, 3, 6, 2, 2, 2, 6],\n",
    "    'Experience2': [2, 5, 7, 10, 1, 3, 6, 2, 2, 2, 6],\n",
    "    'Salary': [70000.0, 80000.0, np.nan, 90000.0, 48000.0, 72000.0, 85000.0, 62000.0, 62000.0, 62000.0, 78000.0]\n",
    "}\n",
    "\n",
    "df = pd.DataFrame(data)\n",
    "print(df)\n",
    "df.to_csv(data_file, index=False)"
   ]
  },
  {
   "cell_type": "code",
   "execution_count": 86,
   "id": "b710a17a-b68e-42f7-8bad-597f3dbe1375",
   "metadata": {},
   "outputs": [
    {
     "name": "stdout",
     "output_type": "stream",
     "text": [
      "\n",
      "DataFrame1:\n",
      "        Name  Age         City  Experience  Experience2   Salary\n",
      "0     Alice   25      Chicago           2            2  70000.0\n",
      "1       Bob   30  Los Angeles           5            5  80000.0\n",
      "2   Charlie   35      Chicago           7            7      NaN\n",
      "3     David   40      Houston          10           10  90000.0\n",
      "4       Eva   22      Houston           1            1  48000.0\n",
      "5     Frank   28          NaN           3            3  72000.0\n",
      "6     Grace   32  San Antonio           6            6  85000.0\n",
      "7     Helen   26    San Diego           2            2  62000.0\n",
      "8     Helen   26    San Diego           2            2  62000.0\n",
      "9     Helen   26    San Diego           2            2  62000.0\n",
      "10    Jerry   23      Phoenix           6            6  78000.0\n"
     ]
    }
   ],
   "source": [
    "# Or Read from CSV with comma seperator\n",
    "from pathlib import Path\n",
    "data_file = Path.cwd() / 'data.csv'\n",
    "\n",
    "df = pd.read_csv(data_file)\n",
    "\n",
    "print(\"\\nDataFrame1:\\n\", df)\n",
    "# print(f\"\\nDataFrame1:\\n{}\")"
   ]
  },
  {
   "cell_type": "markdown",
   "id": "b3ed1599-5014-4d0f-8384-cf3036d27e66",
   "metadata": {},
   "source": [
    "## loc, iloc\n",
    "- loc - Label-based selection\n",
    "- .iloc[] – Integer position-based selection"
   ]
  },
  {
   "cell_type": "code",
   "execution_count": 87,
   "id": "021b3d6a-db5f-4a71-b500-606fff62b290",
   "metadata": {},
   "outputs": [
    {
     "name": "stdout",
     "output_type": "stream",
     "text": [
      "      Name  Age     City\n",
      "a    Alice   25  Chicago\n",
      "b      Bob   30       LA\n",
      "c  Charlie   35  Chicago\n",
      "d    David   40  Houston\n",
      "e      Eva   22  Houston\n"
     ]
    }
   ],
   "source": [
    "data = {\n",
    "    'Name': ['Alice', 'Bob', 'Charlie', 'David', 'Eva'],\n",
    "    'Age': [25, 30, 35, 40, 22],\n",
    "    'City': ['Chicago', 'LA', 'Chicago', 'Houston', 'Houston']\n",
    "}\n",
    "\n",
    "df = pd.DataFrame(data, index=['a', 'b', 'c', 'd', 'e'])\n",
    "print(df)\n",
    "#############################################\n",
    "# 1. Access a single row by label:\n",
    "df.loc['b']\n",
    "\n",
    "# 2. Access multiple rows by labels:\n",
    "df.loc[['a', 'c', 'e']]\n",
    "\n",
    "# 3. Access specific rows and columns:\n",
    "df.loc[['a', 'b'], ['Name', 'City']]\n",
    "\n",
    "# 4. Filter rows with a condition:\n",
    "df.loc[df['Age'] > 30]\n",
    "df.loc[df['Age'] > 30 , ['Name', 'City']]\n",
    "###########################################\n",
    "# 1. Access a single row by index:\n",
    "df.iloc[1]  # second row\n",
    "\n",
    "# 2. Access a specific cell (row 1, column 2):\n",
    "df.iloc[1, 2]  # LA\n",
    "\n",
    "# 3. Access multiple rows and columns:\n",
    "df.iloc[0:3, 0:2]  # First 3 rows, first 2 columns\n",
    "\n",
    "# 4. Modify a value:\n",
    "df.iloc[0, 1] = 26  # Change Alice's age from 25 to 26\n"
   ]
  },
  {
   "cell_type": "markdown",
   "id": "326cd3d2-1b34-416c-a17c-601b44f2050c",
   "metadata": {},
   "source": [
    "## statistical operations\n",
    "- mean , "
   ]
  },
  {
   "cell_type": "code",
   "execution_count": 88,
   "id": "9d441392-e5b8-4139-b4df-cede9278488a",
   "metadata": {},
   "outputs": [
    {
     "name": "stdout",
     "output_type": "stream",
     "text": [
      "\n",
      "DataFrame:\n",
      "        Name  Age         City  Experience  Experience2   Salary\n",
      "0     Alice   25      Chicago           2            2  70000.0\n",
      "1       Bob   30  Los Angeles           5            5  80000.0\n",
      "2   Charlie   35      Chicago           7            7      NaN\n",
      "3     David   40      Houston          10           10  90000.0\n",
      "4       Eva   22      Houston           1            1  48000.0\n",
      "5     Frank   28          NaN           3            3  72000.0\n",
      "6     Grace   32  San Antonio           6            6  85000.0\n",
      "7     Helen   26    San Diego           2            2  62000.0\n",
      "8     Helen   26    San Diego           2            2  62000.0\n",
      "9     Helen   26    San Diego           2            2  62000.0\n",
      "10    Jerry   23      Phoenix           6            6  78000.0\n",
      "28.454545454545453\n",
      "313\n",
      "Age               28.454545\n",
      "Experience         4.181818\n",
      "Experience2        4.181818\n",
      "Salary         70900.000000\n",
      "dtype: float64\n",
      "Age               313.0\n",
      "Experience         46.0\n",
      "Experience2        46.0\n",
      "Salary         709000.0\n",
      "dtype: float64\n",
      "             Age  Experience  Experience2        Salary\n",
      "count  11.000000   11.000000    11.000000     10.000000\n",
      "mean   28.454545    4.181818     4.181818  70900.000000\n",
      "std     5.410428    2.821992     2.821992  12740.573858\n",
      "min    22.000000    1.000000     1.000000  48000.000000\n",
      "25%    25.500000    2.000000     2.000000  62000.000000\n",
      "50%    26.000000    3.000000     3.000000  71000.000000\n",
      "75%    31.000000    6.000000     6.000000  79500.000000\n",
      "max    40.000000   10.000000    10.000000  90000.000000\n"
     ]
    }
   ],
   "source": [
    "df = pd.read_csv('data.csv')\n",
    "print(\"\\nDataFrame:\\n\", df)\n",
    "\n",
    "print(df['Age'].mean())\n",
    "print(df['Age'].sum())\n",
    "\n",
    "# print(df.mean()) # # ERROR because of string columns\n",
    "print(df.mean(numeric_only=True))\n",
    "print(df.sum(numeric_only=True))\n",
    "\n",
    "print(df.describe())"
   ]
  },
  {
   "cell_type": "code",
   "execution_count": 89,
   "id": "f53ac4e7-4e5d-46b7-89d8-ab1c446e1d48",
   "metadata": {},
   "outputs": [
    {
     "name": "stdout",
     "output_type": "stream",
     "text": [
      "(11, 6)\n"
     ]
    }
   ],
   "source": [
    "print(df.shape) # (rows,columns)"
   ]
  },
  {
   "cell_type": "markdown",
   "id": "491e5e09-bc09-4e3c-9f10-0c9040caa991",
   "metadata": {},
   "source": [
    "## modify values, handle missing values, duplicates"
   ]
  },
  {
   "cell_type": "code",
   "execution_count": 90,
   "id": "21e94a9c-f185-4f92-b32a-c361ccd4403f",
   "metadata": {},
   "outputs": [
    {
     "name": "stdout",
     "output_type": "stream",
     "text": [
      "\n",
      "DataFrame2:\n",
      "        Name  Age         City  Experience  Experience2   Salary\n",
      "0     Alice   25      Chicago           2            2  70000.0\n",
      "1       Bob   30  Los Angeles           5            5     30.0\n",
      "2   Charlie   35        delhi           7            7      NaN\n",
      "3     David   40      Houston          10           10  90000.0\n",
      "4       Eva   22      Houston           1            1  48000.0\n",
      "5     Frank   28          NaN           3            3  72000.0\n",
      "6     Grace   32  San Antonio           6            6  85000.0\n",
      "7     Helen   26    San Diego           2            2  62000.0\n",
      "8     Helen   26    San Diego           2            2  62000.0\n",
      "9     Helen   26    San Diego           2            2  62000.0\n",
      "10    Jerry   23      Phoenix           6            6  78000.0\n"
     ]
    }
   ],
   "source": [
    "# change values\n",
    "df = pd.read_csv('data.csv')\n",
    "df.loc[1, 'Salary'] = 30  # Set a value in Salary for 2nd entry\n",
    "df.loc[2, 'City'] = \"delhi\"  # Set a value in City for 3rd entry\n",
    "print(\"\\nDataFrame2:\\n\", df)"
   ]
  },
  {
   "cell_type": "code",
   "execution_count": 91,
   "id": "ae77e64d-00b3-4322-82bd-b09988826d4d",
   "metadata": {},
   "outputs": [
    {
     "name": "stdout",
     "output_type": "stream",
     "text": [
      "\n",
      "After salary increase:\n",
      "        Name  Age         City  Experience  Experience2   Salary  \\\n",
      "0     Alice   25      Chicago           2            2  70000.0   \n",
      "1       Bob   30  Los Angeles           5            5     30.0   \n",
      "2   Charlie   35        delhi           7            7      NaN   \n",
      "3     David   40      Houston          10           10  90000.0   \n",
      "4       Eva   22      Houston           1            1  48000.0   \n",
      "5     Frank   28          NaN           3            3  72000.0   \n",
      "6     Grace   32  San Antonio           6            6  85000.0   \n",
      "7     Helen   26    San Diego           2            2  62000.0   \n",
      "8     Helen   26    San Diego           2            2  62000.0   \n",
      "9     Helen   26    San Diego           2            2  62000.0   \n",
      "10    Jerry   23      Phoenix           6            6  78000.0   \n",
      "\n",
      "    Salary_increase  \n",
      "0           77000.0  \n",
      "1              33.0  \n",
      "2               NaN  \n",
      "3           99000.0  \n",
      "4           52800.0  \n",
      "5           79200.0  \n",
      "6           93500.0  \n",
      "7           68200.0  \n",
      "8           68200.0  \n",
      "9           68200.0  \n",
      "10          85800.0  \n"
     ]
    }
   ],
   "source": [
    "# Applying .map() to increase salary by 10%\n",
    "df['Salary_increase'] = df['Salary'].map(lambda x: x * 1.1)\n",
    "print(\"\\nAfter salary increase:\\n\",df)"
   ]
  },
  {
   "cell_type": "code",
   "execution_count": 92,
   "id": "176c5a5f-7446-433a-9080-64ed2ca60eef",
   "metadata": {},
   "outputs": [
    {
     "name": "stdout",
     "output_type": "stream",
     "text": [
      "\n",
      "After dropping a column:\n",
      "        Name  Age         City  Experience   Salary\n",
      "0     Alice   25      Chicago           2  70000.0\n",
      "1       Bob   30  Los Angeles           5     30.0\n",
      "2   Charlie   35        delhi           7      NaN\n",
      "3     David   40      Houston          10  90000.0\n",
      "4       Eva   22      Houston           1  48000.0\n",
      "5     Frank   28          NaN           3  72000.0\n",
      "6     Grace   32  San Antonio           6  85000.0\n",
      "7     Helen   26    San Diego           2  62000.0\n",
      "8     Helen   26    San Diego           2  62000.0\n",
      "9     Helen   26    San Diego           2  62000.0\n",
      "10    Jerry   23      Phoenix           6  78000.0\n"
     ]
    }
   ],
   "source": [
    "# Lets drop the above 'Salary_increase' column\n",
    "df.drop(columns=['Salary_increase','Experience2'], inplace=True)\n",
    "print(\"\\nAfter dropping a column:\\n\",df)"
   ]
  },
  {
   "cell_type": "code",
   "execution_count": 93,
   "id": "c90e8903-21c3-4d68-80a4-ad02e957896d",
   "metadata": {},
   "outputs": [
    {
     "name": "stdout",
     "output_type": "stream",
     "text": [
      "     Name    Age   City  Experience  Salary\n",
      "0   False  False  False       False   False\n",
      "1   False  False  False       False   False\n",
      "2   False  False  False       False    True\n",
      "3   False  False  False       False   False\n",
      "4   False  False  False       False   False\n",
      "5   False  False   True       False   False\n",
      "6   False  False  False       False   False\n",
      "7   False  False  False       False   False\n",
      "8   False  False  False       False   False\n",
      "9   False  False  False       False   False\n",
      "10  False  False  False       False   False\n",
      "\n",
      "Missing Values:\n",
      " Name          0\n",
      "Age           0\n",
      "City          1\n",
      "Experience    0\n",
      "Salary        1\n",
      "dtype: int64\n"
     ]
    }
   ],
   "source": [
    "# Handling Missing Values\n",
    "df_missing_value = df.isnull()\n",
    "print(df_missing_value)\n",
    "\n",
    "missing_values = df.isnull().sum()\n",
    "print(\"\\nMissing Values:\\n\", missing_values )"
   ]
  },
  {
   "cell_type": "code",
   "execution_count": 94,
   "id": "ab9faae4-aedc-4535-a3dc-90fc2f68fc6c",
   "metadata": {},
   "outputs": [
    {
     "name": "stdout",
     "output_type": "stream",
     "text": [
      "       Name  Age         City  Experience  Experience2   Salary\n",
      "0     Alice   25      Chicago           2            2  70000.0\n",
      "1       Bob   30  Los Angeles           5            5  80000.0\n",
      "2   Charlie   35      Chicago           7            7      NaN\n",
      "3     David   40      Houston          10           10  90000.0\n",
      "4       Eva   22      Houston           1            1  48000.0\n",
      "5     Frank   28          NaN           3            3  72000.0\n",
      "6     Grace   32  San Antonio           6            6  85000.0\n",
      "7     Helen   26    San Diego           2            2  62000.0\n",
      "8     Helen   26    San Diego           2            2  62000.0\n",
      "9     Helen   26    San Diego           2            2  62000.0\n",
      "10    Jerry   23      Phoenix           6            6  78000.0\n"
     ]
    }
   ],
   "source": [
    "df = pd.read_csv('data.csv')\n",
    "\n",
    "df_clean = df.dropna() #  Drop Rows with Any Missing Values\n",
    "\n",
    "df_clean = df.dropna(axis=1) # Drop Columns with Any Missing Values\n",
    "\n",
    "df_clean = df.dropna(how='all') # Drop Rows Only If All Values Are Missing\n",
    "\n",
    "df_clean = df.dropna(subset=['Salary']) # Drop Rows Where Specific Column Has Missing Value\n",
    "\n",
    "print(df)"
   ]
  },
  {
   "cell_type": "code",
   "execution_count": 105,
   "id": "9a45343b-f419-43be-8aa0-2220b512d289",
   "metadata": {},
   "outputs": [
    {
     "name": "stdout",
     "output_type": "stream",
     "text": [
      "       Name  Age         City  Experience  Experience2   Salary\n",
      "0     Alice   25      Chicago           2            2  70000.0\n",
      "1       Bob   30  Los Angeles           5            5  80000.0\n",
      "2   Charlie   35      Chicago           7            7      NaN\n",
      "3     David   40      Houston          10           10  90000.0\n",
      "4       Eva   22      Houston           1            1  48000.0\n",
      "5     Frank   28          NaN           3            3  72000.0\n",
      "6     Grace   32  San Antonio           6            6  85000.0\n",
      "7     Helen   26    San Diego           2            2  62000.0\n",
      "8     Helen   26    San Diego           2            2  62000.0\n",
      "9     Helen   26    San Diego           2            2  62000.0\n",
      "10    Jerry   23      Phoenix           6            6  78000.0\n",
      "\n",
      "DataFrame after filling missing values:\n",
      "        Name  Age         City  Experience  Experience2   Salary\n",
      "0     Alice   25      Chicago           2            2  70000.0\n",
      "1       Bob   30  Los Angeles           5            5  80000.0\n",
      "2   Charlie   35      Chicago           7            7      0.0\n",
      "3     David   40      Houston          10           10  90000.0\n",
      "4       Eva   22      Houston           1            1  48000.0\n",
      "5     Frank   28            0           3            3  72000.0\n",
      "6     Grace   32  San Antonio           6            6  85000.0\n",
      "7     Helen   26    San Diego           2            2  62000.0\n",
      "8     Helen   26    San Diego           2            2  62000.0\n",
      "9     Helen   26    San Diego           2            2  62000.0\n",
      "10    Jerry   23      Phoenix           6            6  78000.0\n"
     ]
    }
   ],
   "source": [
    "df = pd.read_csv('data.csv')\n",
    "print(df)\n",
    "df = df.fillna(0)\n",
    "print(\"\\nDataFrame after filling missing values:\\n\", df)"
   ]
  },
  {
   "cell_type": "code",
   "execution_count": 96,
   "id": "fbc04604-18ff-4db9-b645-c059f30f35cc",
   "metadata": {},
   "outputs": [
    {
     "name": "stdout",
     "output_type": "stream",
     "text": [
      "       Name  Age         City  Experience  Experience2   Salary\n",
      "0     Alice   25      Chicago           2            2  70000.0\n",
      "1       Bob   30  Los Angeles           5            5  80000.0\n",
      "2   Charlie   35      Chicago           7            7      NaN\n",
      "3     David   40      Houston          10           10  90000.0\n",
      "4       Eva   22      Houston           1            1  48000.0\n",
      "5     Frank   28          NaN           3            3  72000.0\n",
      "6     Grace   32  San Antonio           6            6  85000.0\n",
      "7     Helen   26    San Diego           2            2  62000.0\n",
      "8     Helen   26    San Diego           2            2  62000.0\n",
      "9     Helen   26    San Diego           2            2  62000.0\n",
      "10    Jerry   23      Phoenix           6            6  78000.0\n",
      "\n",
      "DataFrame after filling missing values:\n",
      "        Name  Age         City  Experience  Experience2   Salary\n",
      "0     Alice   25      Chicago           2            2  70000.0\n",
      "1       Bob   30  Los Angeles           5            5  80000.0\n",
      "2   Charlie   35      Chicago           7            7  80000.0\n",
      "3     David   40      Houston          10           10  90000.0\n",
      "4       Eva   22      Houston           1            1  48000.0\n",
      "5     Frank   28      Houston           3            3  72000.0\n",
      "6     Grace   32  San Antonio           6            6  85000.0\n",
      "7     Helen   26    San Diego           2            2  62000.0\n",
      "8     Helen   26    San Diego           2            2  62000.0\n",
      "9     Helen   26    San Diego           2            2  62000.0\n",
      "10    Jerry   23      Phoenix           6            6  78000.0\n"
     ]
    },
    {
     "name": "stderr",
     "output_type": "stream",
     "text": [
      "C:\\Users\\hi\\AppData\\Local\\Temp\\ipykernel_16796\\477908527.py:3: FutureWarning: DataFrame.fillna with 'method' is deprecated and will raise in a future version. Use obj.ffill() or obj.bfill() instead.\n",
      "  df = df.fillna(method='ffill')\n"
     ]
    }
   ],
   "source": [
    "df = pd.read_csv('data.csv')\n",
    "print(df)\n",
    "df = df.fillna(method='ffill')\n",
    "print(\"\\nDataFrame after filling missing values:\\n\", df)"
   ]
  },
  {
   "cell_type": "code",
   "execution_count": 97,
   "id": "c6b6712a-d1a7-4228-89ea-45491293ad52",
   "metadata": {},
   "outputs": [
    {
     "name": "stdout",
     "output_type": "stream",
     "text": [
      "       Name  Age         City  Experience  Experience2   Salary\n",
      "0     Alice   25      Chicago           2            2  70000.0\n",
      "1       Bob   30  Los Angeles           5            5  80000.0\n",
      "2   Charlie   35      Chicago           7            7      NaN\n",
      "3     David   40      Houston          10           10  90000.0\n",
      "4       Eva   22      Houston           1            1  48000.0\n",
      "5     Frank   28          NaN           3            3  72000.0\n",
      "6     Grace   32  San Antonio           6            6  85000.0\n",
      "7     Helen   26    San Diego           2            2  62000.0\n",
      "8     Helen   26    San Diego           2            2  62000.0\n",
      "9     Helen   26    San Diego           2            2  62000.0\n",
      "10    Jerry   23      Phoenix           6            6  78000.0\n",
      "\n",
      "DataFrame after filling missing values:\n",
      "        Name  Age         City  Experience  Experience2   Salary\n",
      "0     Alice   25      Chicago           2            2  70000.0\n",
      "1       Bob   30  Los Angeles           5            5  80000.0\n",
      "2   Charlie   35      Chicago           7            7  90000.0\n",
      "3     David   40      Houston          10           10  90000.0\n",
      "4       Eva   22      Houston           1            1  48000.0\n",
      "5     Frank   28  San Antonio           3            3  72000.0\n",
      "6     Grace   32  San Antonio           6            6  85000.0\n",
      "7     Helen   26    San Diego           2            2  62000.0\n",
      "8     Helen   26    San Diego           2            2  62000.0\n",
      "9     Helen   26    San Diego           2            2  62000.0\n",
      "10    Jerry   23      Phoenix           6            6  78000.0\n"
     ]
    },
    {
     "name": "stderr",
     "output_type": "stream",
     "text": [
      "C:\\Users\\hi\\AppData\\Local\\Temp\\ipykernel_16796\\2954762200.py:3: FutureWarning: DataFrame.fillna with 'method' is deprecated and will raise in a future version. Use obj.ffill() or obj.bfill() instead.\n",
      "  df = df.fillna(method='bfill')\n"
     ]
    }
   ],
   "source": [
    "df = pd.read_csv('data.csv')\n",
    "print(df)\n",
    "df = df.fillna(method='bfill')\n",
    "print(\"\\nDataFrame after filling missing values:\\n\", df)"
   ]
  },
  {
   "cell_type": "code",
   "execution_count": 107,
   "id": "3a4e37c2-6b60-492e-a2e0-5a97bc8c6d21",
   "metadata": {},
   "outputs": [
    {
     "name": "stdout",
     "output_type": "stream",
     "text": [
      "       Name  Age         City  Experience  Experience2   Salary\n",
      "0     Alice   25      Chicago           2            2  70000.0\n",
      "1       Bob   30  Los Angeles           5            5  80000.0\n",
      "2   Charlie   35      Chicago           7            7      NaN\n",
      "3     David   40      Houston          10           10  90000.0\n",
      "4       Eva   22      Houston           1            1  48000.0\n",
      "5     Frank   28          NaN           3            3  72000.0\n",
      "6     Grace   32  San Antonio           6            6  85000.0\n",
      "7     Helen   26    San Diego           2            2  62000.0\n",
      "8     Helen   26    San Diego           2            2  62000.0\n",
      "9     Helen   26    San Diego           2            2  62000.0\n",
      "10    Jerry   23      Phoenix           6            6  78000.0\n",
      "\n",
      "DataFrame after filling missing values:\n",
      "        Name  Age         City  Experience  Experience2   Salary\n",
      "0     Alice   25      Chicago           2            2  70000.0\n",
      "1       Bob   30  Los Angeles           5            5  80000.0\n",
      "2   Charlie   35      Chicago           7            7  70900.0\n",
      "3     David   40      Houston          10           10  90000.0\n",
      "4       Eva   22      Houston           1            1  48000.0\n",
      "5     Frank   28          NaN           3            3  72000.0\n",
      "6     Grace   32  San Antonio           6            6  85000.0\n",
      "7     Helen   26    San Diego           2            2  62000.0\n",
      "8     Helen   26    San Diego           2            2  62000.0\n",
      "9     Helen   26    San Diego           2            2  62000.0\n",
      "10    Jerry   23      Phoenix           6            6  78000.0\n"
     ]
    }
   ],
   "source": [
    "df = pd.read_csv('data.csv')\n",
    "print(df)\n",
    "numeric_cols = df.select_dtypes(include='number').columns\n",
    "df[numeric_cols] = df[numeric_cols].fillna(df[numeric_cols].mean())\n",
    "print(\"\\nDataFrame after filling missing values:\\n\", df)"
   ]
  },
  {
   "cell_type": "code",
   "execution_count": 98,
   "id": "4fad4151-3cb3-4555-8358-279ebcc41695",
   "metadata": {},
   "outputs": [
    {
     "name": "stdout",
     "output_type": "stream",
     "text": [
      "\n",
      "DataFrame after filling missing values:\n",
      "        Name  Age         City  Experience  Experience2   Salary\n",
      "0     Alice   25      Chicago           2            2  70000.0\n",
      "1       Bob   30  Los Angeles           5            5  80000.0\n",
      "2   Charlie   35      Chicago           7            7  71000.0\n",
      "3     David   40      Houston          10           10  90000.0\n",
      "4       Eva   22      Houston           1            1  48000.0\n",
      "5     Frank   28      Unknown           3            3  72000.0\n",
      "6     Grace   32  San Antonio           6            6  85000.0\n",
      "7     Helen   26    San Diego           2            2  62000.0\n",
      "8     Helen   26    San Diego           2            2  62000.0\n",
      "9     Helen   26    San Diego           2            2  62000.0\n",
      "10    Jerry   23      Phoenix           6            6  78000.0\n"
     ]
    }
   ],
   "source": [
    "df = pd.read_csv('data.csv')\n",
    "\n",
    "df = df.fillna({'Salary': df['Salary'].median(),\n",
    "                'City': 'Unknown'\n",
    "})\n",
    "print(\"\\nDataFrame after filling missing values:\\n\", df)"
   ]
  },
  {
   "cell_type": "code",
   "execution_count": 99,
   "id": "84734137-c7a8-4c2b-ad83-f83fdae755b3",
   "metadata": {},
   "outputs": [
    {
     "name": "stdout",
     "output_type": "stream",
     "text": [
      "\n",
      "Duplicate Records:\n",
      "     Name  Age       City  Experience  Experience2   Salary\n",
      "8  Helen   26  San Diego           2            2  62000.0\n",
      "9  Helen   26  San Diego           2            2  62000.0\n"
     ]
    }
   ],
   "source": [
    "# Finding and Handling Duplicate Records\n",
    "duplicates = df.duplicated()\n",
    "print(\"\\nDuplicate Records:\\n\", df[duplicates])"
   ]
  },
  {
   "cell_type": "code",
   "execution_count": 100,
   "id": "627297d1-83bc-4d1d-a8dd-e3c5853d21f8",
   "metadata": {},
   "outputs": [
    {
     "name": "stdout",
     "output_type": "stream",
     "text": [
      "\n",
      "DataFrame after removing duplicates:\n",
      "        Name  Age         City  Experience  Experience2   Salary\n",
      "0     Alice   25      Chicago           2            2  70000.0\n",
      "1       Bob   30  Los Angeles           5            5  80000.0\n",
      "2   Charlie   35      Chicago           7            7  71000.0\n",
      "3     David   40      Houston          10           10  90000.0\n",
      "4       Eva   22      Houston           1            1  48000.0\n",
      "5     Frank   28      Unknown           3            3  72000.0\n",
      "6     Grace   32  San Antonio           6            6  85000.0\n",
      "7     Helen   26    San Diego           2            2  62000.0\n",
      "10    Jerry   23      Phoenix           6            6  78000.0\n"
     ]
    }
   ],
   "source": [
    "# Removing duplicates\n",
    "df = df.drop_duplicates()\n",
    "print(\"\\nDataFrame after removing duplicates:\\n\", df)"
   ]
  },
  {
   "cell_type": "code",
   "execution_count": 101,
   "id": "00e88d8c-f06c-44b4-a032-3ff4ebb4d6c1",
   "metadata": {},
   "outputs": [],
   "source": [
    "#Save the clean data to CSV file\n",
    "df.to_csv(\"data_clean.csv\")"
   ]
  },
  {
   "cell_type": "code",
   "execution_count": 102,
   "id": "3e9ed467-79fd-47a9-bd43-8bd15d93089b",
   "metadata": {},
   "outputs": [
    {
     "name": "stdout",
     "output_type": "stream",
     "text": [
      "\n",
      "DataFrame after encoding City column:\n",
      "        Name  Age         City  Experience  Experience2   Salary  City_encoded\n",
      "0     Alice   25      Chicago           2            2  70000.0             0\n",
      "1       Bob   30  Los Angeles           5            5  80000.0             2\n",
      "2   Charlie   35      Chicago           7            7  71000.0             0\n",
      "3     David   40      Houston          10           10  90000.0             1\n",
      "4       Eva   22      Houston           1            1  48000.0             1\n",
      "5     Frank   28      Unknown           3            3  72000.0             6\n",
      "6     Grace   32  San Antonio           6            6  85000.0             4\n",
      "7     Helen   26    San Diego           2            2  62000.0             5\n",
      "10    Jerry   23      Phoenix           6            6  78000.0             3\n"
     ]
    }
   ],
   "source": [
    "from sklearn.preprocessing import LabelEncoder\n",
    "\n",
    "# Encoding categorical variables\n",
    "label_encoder = LabelEncoder()\n",
    "df['City_encoded'] = label_encoder.fit_transform(df['City'])\n",
    "\n",
    "print(\"\\nDataFrame after encoding City column:\\n\", df)\n"
   ]
  },
  {
   "cell_type": "code",
   "execution_count": 103,
   "id": "9dbd0117-4ceb-46ea-949b-2236e34bde9c",
   "metadata": {},
   "outputs": [
    {
     "name": "stdout",
     "output_type": "stream",
     "text": [
      "\n",
      "DataFrame after scaling:\n",
      "        Name       Age         City  Experience  Experience2    Salary  \\\n",
      "0     Alice -0.719712      Chicago   -0.970143            2 -0.243491   \n",
      "1       Bob  0.179928  Los Angeles    0.121268            5  0.599362   \n",
      "2   Charlie  1.079568      Chicago    0.848875            7 -0.159206   \n",
      "3     David  1.979208      Houston    1.940285           10  1.442216   \n",
      "4       Eva -1.259496      Houston   -1.333946            1 -2.097768   \n",
      "5     Frank -0.179928      Unknown   -0.606339            3 -0.074920   \n",
      "6     Grace  0.539784  San Antonio    0.485071            6  1.020789   \n",
      "7     Helen -0.539784    San Diego   -0.970143            2 -0.917774   \n",
      "10    Jerry -1.079568      Phoenix    0.485071            6  0.430792   \n",
      "\n",
      "    City_encoded  \n",
      "0              0  \n",
      "1              2  \n",
      "2              0  \n",
      "3              1  \n",
      "4              1  \n",
      "5              6  \n",
      "6              4  \n",
      "7              5  \n",
      "10             3  \n"
     ]
    }
   ],
   "source": [
    "from sklearn.preprocessing import StandardScaler, LabelEncoder\n",
    "\n",
    "# Feature Scaling\n",
    "scaler = StandardScaler()\n",
    "df[['Age', 'Salary', 'Experience']] = scaler.fit_transform(df[['Age', 'Salary', 'Experience']])\n",
    "print(\"\\nDataFrame after scaling:\\n\", df)\n"
   ]
  },
  {
   "cell_type": "code",
   "execution_count": 104,
   "id": "192bea23-69d7-4e09-8683-e043c8451172",
   "metadata": {},
   "outputs": [
    {
     "name": "stdout",
     "output_type": "stream",
     "text": [
      "X_train shape: (7, 3)\n",
      "X_test  shape: (2, 3)\n",
      "###############################\n",
      "\n",
      "Training Features:\n",
      "         Age  Experience  City_encoded\n",
      "6   0.539784    0.485071             4\n",
      "2   1.079568    0.848875             0\n",
      "10 -1.079568    0.485071             3\n",
      "0  -0.719712   -0.970143             0\n",
      "1   0.179928    0.121268             2\n",
      "5  -0.179928   -0.606339             6\n",
      "7  -0.539784   -0.970143             5\n",
      "\n",
      "Testing Features:\n",
      "        Age  Experience  City_encoded\n",
      "3  1.979208    1.940285             1\n",
      "4 -1.259496   -1.333946             1\n"
     ]
    }
   ],
   "source": [
    "# Splitting Data for Training and Testing\n",
    "from sklearn.model_selection import train_test_split\n",
    "\n",
    "X = df[['Age', 'Experience', 'City_encoded']]\n",
    "y = df['Salary']  # Assuming salary is the target variable\n",
    "\n",
    "X_train, X_test, y_train, y_test = train_test_split(X, y, test_size=0.2, random_state=4)\n",
    "\n",
    "print(f\"X_train shape: {X_train.shape}\")\n",
    "print(f\"X_test  shape: {X_test.shape}\")\n",
    "\n",
    "print(\"###############################\")\n",
    "\n",
    "print(f\"\\nTraining Features:\\n{X_train}\")\n",
    "print(f\"\\nTesting Features:\\n{X_test}\")"
   ]
  },
  {
   "cell_type": "code",
   "execution_count": null,
   "id": "3f30e001-7fae-4b0b-8c3b-292b42fa6703",
   "metadata": {},
   "outputs": [],
   "source": []
  },
  {
   "cell_type": "code",
   "execution_count": null,
   "id": "9af9d1d7-5ca9-4ed2-8422-dccf7313c54a",
   "metadata": {},
   "outputs": [],
   "source": []
  },
  {
   "cell_type": "code",
   "execution_count": null,
   "id": "5f91c754-fd0e-431f-873a-429c3d4ea6b6",
   "metadata": {},
   "outputs": [],
   "source": []
  }
 ],
 "metadata": {
  "kernelspec": {
   "display_name": "Python 3 (ipykernel)",
   "language": "python",
   "name": "python3"
  },
  "language_info": {
   "codemirror_mode": {
    "name": "ipython",
    "version": 3
   },
   "file_extension": ".py",
   "mimetype": "text/x-python",
   "name": "python",
   "nbconvert_exporter": "python",
   "pygments_lexer": "ipython3",
   "version": "3.9.9"
  }
 },
 "nbformat": 4,
 "nbformat_minor": 5
}
