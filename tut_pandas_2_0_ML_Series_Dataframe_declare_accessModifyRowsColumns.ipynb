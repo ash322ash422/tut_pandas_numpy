{
 "cells": [
  {
   "cell_type": "markdown",
   "id": "590c5189",
   "metadata": {},
   "source": [
    "## pandas\n",
    "- Used for EDA\n",
    "- used for data cleaning, etc\n",
    "- importing/exporting data, creating/deleting columns,\n",
    "\n",
    "#### Topics:\n",
    "- Series: difference between pandas **Series** and pandas **Dataframe**, access series,\n",
    "- Series: statistical operation, element-wise function, boolean function, mapping/transformation, missing value, arithmatics function,etc\n",
    "- Dataframe: data collection->read from CSV XLSX, JSON,pickle, web\n",
    "- Dataframe: access rows / columns ( loc, iloc ) , slicing, \n",
    "- Dataframe: add columns, drop column, add row, remove row, replacing values in a column\n",
    "- Dataframe: indexng"
   ]
  },
  {
   "cell_type": "code",
   "execution_count": 102,
   "id": "eeac7e81-4866-4be2-9189-743d1683c30a",
   "metadata": {},
   "outputs": [
    {
     "name": "stdout",
     "output_type": "stream",
     "text": [
      "2.2.0\n"
     ]
    }
   ],
   "source": [
    "import pandas as pd\n",
    "import numpy as np\n",
    "\n",
    "print(pd.__version__)\n",
    "data_file = 'data.csv'"
   ]
  },
  {
   "cell_type": "markdown",
   "id": "99e19d26-093c-4774-8eba-01021d30f081",
   "metadata": {},
   "source": [
    "# Series\n",
    "## Difference between pandas Series and pandas Dataframe\n",
    "```\n",
    "Feature         Series              DataFrame\n",
    "Dimensions        1D                  2D\n",
    "Shape             (n,)             (rows, columns)\n",
    "Data Structure    Single column   Table with multiple columns\n",
    "Index             Yes               Yes (rows & columns)\n",
    "Usage         Single column or row   Full dataset\n",
    "```"
   ]
  },
  {
   "cell_type": "code",
   "execution_count": 103,
   "id": "b71e441f-0302-4044-bf71-c2b341de962f",
   "metadata": {},
   "outputs": [
    {
     "name": "stdout",
     "output_type": "stream",
     "text": [
      "<class 'pandas.core.series.Series'>\n",
      "0    10\n",
      "1    20\n",
      "2    30\n",
      "3    40\n",
      "dtype: int64\n",
      "#####################\n",
      "a    10\n",
      "b    20\n",
      "c    30\n",
      "dtype: int64\n",
      "$$$$$$$$$$$$$$$$$$$$$$$$$\n",
      "Alice      25\n",
      "Bob        30\n",
      "Charlie    35\n",
      "dtype: int64\n",
      "%%%%%%%%%%%%%%%%%%%%%%%%%%%%%\n",
      "0    15\n",
      "1    14\n",
      "2    18\n",
      "3    18\n",
      "4    10\n",
      "dtype: int32\n"
     ]
    }
   ],
   "source": [
    "# Series declaration\n",
    "\n",
    "s = pd.Series([10, 20, 30, 40]) # From a List\n",
    "print(type(s)) # <class 'pandas.core.series.Series'>\n",
    "print(s)\n",
    "\n",
    "print(\"#####################\")\n",
    "s = pd.Series([10, 20, 30], index=['a', 'b', 'c']) # From a List with Custom Index\n",
    "print(s)\n",
    "\n",
    "print(\"$$$$$$$$$$$$$$$$$$$$$$$$$\")\n",
    "data = {'Alice': 25, 'Bob': 30, 'Charlie': 35} #  From a Dictionary\n",
    "s = pd.Series(data)\n",
    "print(s)\n",
    "print(\"%%%%%%%%%%%%%%%%%%%%%%%%%%%%%\")\n",
    "s = pd.Series(np.random.randint(10,20,5))\n",
    "print(s)\n"
   ]
  },
  {
   "cell_type": "code",
   "execution_count": 104,
   "id": "1c188ee6-7aad-4140-980f-05db94c11e73",
   "metadata": {},
   "outputs": [
    {
     "name": "stdout",
     "output_type": "stream",
     "text": [
      "10\n",
      "0    10\n",
      "1    20\n",
      "2    30\n",
      "dtype: int64\n",
      "2    30\n",
      "3    40\n",
      "4    50\n",
      "dtype: int64\n",
      "1    20\n",
      "2    30\n",
      "dtype: int64\n"
     ]
    }
   ],
   "source": [
    "# access series\n",
    "s = pd.Series([10, 20, 30, 40, 50])\n",
    "print(s[0])\n",
    "print(s[:3])\n",
    "print(s[2:])\n",
    "print(s[1:3])\n"
   ]
  },
  {
   "cell_type": "markdown",
   "id": "0dce97dd-25f6-4e9a-8881-2f8a88a59dd0",
   "metadata": {},
   "source": [
    "### operation on series"
   ]
  },
  {
   "cell_type": "code",
   "execution_count": 105,
   "id": "f639fa9a-6976-41ab-a1db-578610e3ead7",
   "metadata": {},
   "outputs": [
    {
     "name": "stdout",
     "output_type": "stream",
     "text": [
      "0    15\n",
      "1    25\n",
      "2    35\n",
      "dtype: int64\n",
      "0    20\n",
      "1    40\n",
      "2    60\n",
      "dtype: int64\n",
      "0    1.0\n",
      "1    2.0\n",
      "2    3.0\n",
      "dtype: float64\n",
      "25.0\n",
      "25.0\n",
      "12.909944487358056\n",
      "40\n",
      "10\n",
      "100\n",
      "0     10\n",
      "1     30\n",
      "2     60\n",
      "3    100\n",
      "dtype: int64\n",
      "0        10\n",
      "1       200\n",
      "2      6000\n",
      "3    240000\n",
      "dtype: int64\n",
      "count     4.000000\n",
      "mean     25.000000\n",
      "std      12.909944\n",
      "min      10.000000\n",
      "25%      17.500000\n",
      "50%      25.000000\n",
      "75%      32.500000\n",
      "max      40.000000\n",
      "dtype: float64\n",
      "17.5\n",
      "6.454972243679028\n",
      "4\n",
      "10    1\n",
      "20    1\n",
      "30    1\n",
      "40    1\n",
      "Name: count, dtype: int64\n",
      "0\n",
      "3\n",
      "0    1.000000\n",
      "1    1.414214\n",
      "2    1.732051\n",
      "3    2.000000\n",
      "dtype: float64\n",
      "0     2.718282\n",
      "1     7.389056\n",
      "2    20.085537\n",
      "3    54.598150\n",
      "dtype: float64\n",
      "0    0.000000\n",
      "1    0.693147\n",
      "2    1.098612\n",
      "3    1.386294\n",
      "dtype: float64\n",
      "0    False\n",
      "1    False\n",
      "2     True\n",
      "3     True\n",
      "dtype: bool\n",
      "2    30\n",
      "3    40\n",
      "dtype: int64\n",
      "apple     2\n",
      "banana    1\n",
      "orange    1\n",
      "Name: count, dtype: int64\n",
      "['apple' 'banana' 'orange']\n",
      "0    10\n",
      "1    20\n",
      "2    30\n",
      "dtype: int64\n",
      "0        HELLO\n",
      "1    MY FRIEND\n",
      "dtype: object\n",
      "0    5\n",
      "1    9\n",
      "dtype: int64\n",
      "0    False\n",
      "1    False\n",
      "2     True\n",
      "3    False\n",
      "dtype: bool\n",
      "0    1.0\n",
      "1    2.0\n",
      "2    0.0\n",
      "3    4.0\n",
      "dtype: float64\n",
      "0    1.0\n",
      "1    2.0\n",
      "3    4.0\n",
      "dtype: float64\n",
      "1     2\n",
      "0    10\n",
      "2    30\n",
      "dtype: int64\n",
      "0    10\n",
      "1     2\n",
      "2    30\n",
      "dtype: int64\n",
      "a    5\n",
      "b    7\n",
      "c    9\n",
      "dtype: int64\n"
     ]
    }
   ],
   "source": [
    "# 1. Arithmetic Operations\n",
    "s = pd.Series([10, 20, 30])\n",
    "\n",
    "print(s + 5)       # Add 5 to each element\n",
    "print(s * 2)       # Multiply each element by 2\n",
    "print(s / 10)      # Divide each element by 10\n",
    "\n",
    "# 2. Statistical Operations\n",
    "s = pd.Series([10, 20, 30, 40])\n",
    "\n",
    "print(s.mean())      # Average\n",
    "print(s.median())    # Median\n",
    "print(s.std())       # Standard deviation\n",
    "print(s.max())       # Maximum\n",
    "print(s.min())       # Minimum\n",
    "print(s.sum())       # Sum of all elements\n",
    "print(s.cumsum())\n",
    "print(s.cumprod())\n",
    "print(s.describe())\n",
    "print(s.quantile(0.25))  # 25th percentile\n",
    "\n",
    "print(s.sem())  # Standard error mean\n",
    "print(s.nunique())  # Unique count\n",
    "\n",
    "print(s.value_counts())  # Value counts (frequency of each unique value)\n",
    "\n",
    "print(s.idxmin())  # Index of first min value\n",
    "print(s.idxmax())  # Index of first max value\n",
    "\n",
    "\n",
    "\n",
    "# 3. Element-wise Functions\n",
    "s = pd.Series([1, 2, 3, 4])\n",
    "print(np.sqrt(s))      # Square root\n",
    "print(np.exp(s))       # Exponential\n",
    "print(np.log(s))       # Logarithm\n",
    "\n",
    "# 4. Boolean Filtering\n",
    "s = pd.Series([10, 20, 30, 40])\n",
    "print(s>25)\n",
    "print(s[s > 25])       # Filter elements greater than 25\n",
    "\n",
    "# 5. Value Counts & Uniqueness\n",
    "s = pd.Series(['apple', 'banana', 'apple', 'orange'])\n",
    "print(s.value_counts())   # Frequency of unique values\n",
    "print(s.unique())         # Unique values\n",
    "\n",
    "# 6. Mapping / Transformation\n",
    "s = pd.Series([1, 2, 3])\n",
    "print(s.map(lambda x: x * 10))  # Apply a function to each element\n",
    "\n",
    "# 7. String Operations (for string Series)\n",
    "s = pd.Series(['hello', 'my friend'])\n",
    "print(s.str.upper())     # Convert to uppercase\n",
    "print(s.str.len())       # Length of each string\n",
    "\n",
    "# 8. Handling Missing Data\n",
    "s = pd.Series([1, 2, None, 4])\n",
    "print(s.isnull())        # Check for NaNs\n",
    "print(s.fillna(0))       # Replace NaNs with 0\n",
    "print(s.dropna())        # Drop NaNs\n",
    "\n",
    "# 9. Sorting\n",
    "s = pd.Series([10, 2, 30])\n",
    "print(s.sort_values())   # Sort by value\n",
    "print(s.sort_index())    # Sort by index\n",
    "\n",
    "# 10. Combine / Arithmetic Between Series\n",
    "s1 = pd.Series([1, 2, 3], index=['a', 'b', 'c'])\n",
    "s2 = pd.Series([4, 5, 6], index=['a', 'b', 'c'])\n",
    "print(s1 + s2)   # Aligns by index and adds"
   ]
  },
  {
   "cell_type": "markdown",
   "id": "26e30055-c610-41af-b314-7d7aa275d809",
   "metadata": {},
   "source": [
    "## Dataframe"
   ]
  },
  {
   "cell_type": "code",
   "execution_count": 106,
   "id": "63dacef2-a826-464a-b036-593907a2bab9",
   "metadata": {},
   "outputs": [
    {
     "name": "stdout",
     "output_type": "stream",
     "text": [
      "   A      B         C\n",
      "0  1   True       ash\n",
      "1  3  False     timmy\n",
      "2  6   True     jimmy\n",
      "3  9   True  Samantha\n"
     ]
    }
   ],
   "source": [
    "# Create a DataFrame: Exampl1 2hardcode the data\n",
    "data = {\n",
    "    'A': [1, 3, 6, 9],\n",
    "    'B': [True, False, True, True],\n",
    "    'C': ['ash', 'timmy', 'jimmy', 'Samantha'],\n",
    "    \n",
    "}\n",
    "df = pd.DataFrame(data)\n",
    "\n",
    "print(df)"
   ]
  },
  {
   "cell_type": "code",
   "execution_count": 107,
   "id": "f56c2239-c4e1-48c4-9822-314096b06eb0",
   "metadata": {},
   "outputs": [
    {
     "name": "stdout",
     "output_type": "stream",
     "text": [
      "           A      B     C   D\n",
      "0 2023-01-01  120.5   Buy   3\n",
      "1 2023-01-02  123.0  Sell  10\n",
      "2 2023-01-03  121.3  Hold   6\n",
      "3 2023-01-04  125.6   Buy   4\n",
      "4 2023-01-05  124.2  Sell   3\n"
     ]
    }
   ],
   "source": [
    "# Create a DataFrame: Example 2 hardcode the data\n",
    "data = {\n",
    "    'A': pd.Series(pd.date_range(\"2023-01-01\", periods=5, freq='D')),  # Time data\n",
    "    'B': pd.Series([120.5, 123.0, 121.3, 125.6, 124.2]),\n",
    "    'C': pd.Series(['Buy', 'Sell', 'Hold', 'Buy', 'Sell']),\n",
    "    'D': pd.Series(np.random.randint(1, 11, size=5))\n",
    "}\n",
    "df = pd.DataFrame(data)\n",
    "\n",
    "print(df)"
   ]
  },
  {
   "cell_type": "code",
   "execution_count": 108,
   "id": "bd85cb9c-bec6-45a8-87ec-13243971dd6d",
   "metadata": {},
   "outputs": [
    {
     "name": "stdout",
     "output_type": "stream",
     "text": [
      "       Name  Age         City  Experience  Experience2   Salary\n",
      "0     Alice   25      Chicago           2            2  70000.0\n",
      "1       Bob   30  Los Angeles           5            5  80000.0\n",
      "2   Charlie   35      Chicago           7            7      NaN\n",
      "3     David   40      Houston          10           10  90000.0\n",
      "4       Eva   22      Houston           1            1  48000.0\n",
      "5     Frank   28          NaN           3            3  72000.0\n",
      "6     Grace   32  San Antonio           6            6  85000.0\n",
      "7     Helen   26    San Diego           2            2  62000.0\n",
      "8     Helen   26    San Diego           2            2  62000.0\n",
      "9     Helen   26    San Diego           2            2  62000.0\n",
      "10    Jerry   23      Phoenix           6            6  78000.0\n"
     ]
    }
   ],
   "source": [
    "# Create a DataFrame: Example 3 hardcode the data\n",
    "data = {\n",
    "    'Name': ['Alice', 'Bob', 'Charlie', 'David', 'Eva', 'Frank', 'Grace', 'Helen', 'Helen', 'Helen', 'Jerry'],\n",
    "    'Age': [25, 30, 35, 40, 22, 28, 32, 26, 26, 26, 23],\n",
    "    'City': ['Chicago', 'Los Angeles', 'Chicago', 'Houston', 'Houston', np.nan, 'San Antonio', 'San Diego', 'San Diego', 'San Diego', 'Phoenix'],\n",
    "    'Experience': [2, 5, 7, 10, 1, 3, 6, 2, 2, 2, 6],\n",
    "    'Experience2': [2, 5, 7, 10, 1, 3, 6, 2, 2, 2, 6],\n",
    "    'Salary': [70000.0, 80000.0, np.nan, 90000.0, 48000.0, 72000.0, 85000.0, 62000.0, 62000.0, 62000.0, 78000.0]\n",
    "}\n",
    "\n",
    "df = pd.DataFrame(data)\n",
    "print(df)"
   ]
  },
  {
   "cell_type": "code",
   "execution_count": 109,
   "id": "c80412ca-a12f-492b-84f3-57fc8c4f8c4c",
   "metadata": {},
   "outputs": [
    {
     "name": "stdout",
     "output_type": "stream",
     "text": [
      "<class 'pandas.core.series.Series'>\n",
      "0     25\n",
      "1     30\n",
      "2     35\n",
      "3     40\n",
      "4     22\n",
      "5     28\n",
      "6     32\n",
      "7     26\n",
      "8     26\n",
      "9     26\n",
      "10    23\n",
      "Name: Age, dtype: int64\n"
     ]
    }
   ],
   "source": [
    "series_age = df['Age']\n",
    "print(type(series_age)) # <class 'pandas.core.series.Series'>\n",
    "print(series_age)"
   ]
  },
  {
   "cell_type": "code",
   "execution_count": 110,
   "id": "e3766d16-5d82-4524-8079-2ae0f539ac02",
   "metadata": {},
   "outputs": [
    {
     "name": "stdout",
     "output_type": "stream",
     "text": [
      "Generated DataFrame:\n",
      "       A   B   C   D   E\n",
      "Row1  35  74  57  91  57\n",
      "Row2  64  77  78  23  84\n",
      "Row3  59  30  84  71  54\n",
      "Row4  89  20  50  83  60\n"
     ]
    }
   ],
   "source": [
    "row_labels = ['Row1', 'Row2', 'Row3', 'Row4']\n",
    "column_headings = ['A', 'B', 'C', 'D', 'E']\n",
    "data = np.random.randint(10, 100, size=(4, 5))\n",
    "\n",
    "df = pd.DataFrame(data, index=row_labels, columns=column_headings)\n",
    "\n",
    "print(f\"Generated DataFrame:\\n{df}\")"
   ]
  },
  {
   "cell_type": "markdown",
   "id": "b76b4139-c243-4108-a29e-c4ef74efea6d",
   "metadata": {},
   "source": [
    "### importing data from file (and also exporting)"
   ]
  },
  {
   "cell_type": "code",
   "execution_count": 111,
   "id": "ef3f37ac-25d6-4e69-a1d1-8a33e3b2f0a0",
   "metadata": {},
   "outputs": [
    {
     "name": "stdout",
     "output_type": "stream",
     "text": [
      "       Name  Age         City  Experience  Experience2   Salary\n",
      "0     Alice   25      Chicago           2            2  70000.0\n",
      "1       Bob   30  Los Angeles           5            5  80000.0\n",
      "2   Charlie   35      Chicago           7            7      NaN\n",
      "3     David   40      Houston          10           10  90000.0\n",
      "4       Eva   22      Houston           1            1  48000.0\n",
      "5     Frank   28          NaN           3            3  72000.0\n",
      "6     Grace   32  San Antonio           6            6  85000.0\n",
      "7     Helen   26    San Diego           2            2  62000.0\n",
      "8     Helen   26    San Diego           2            2  62000.0\n",
      "9     Helen   26    San Diego           2            2  62000.0\n",
      "10    Jerry   23      Phoenix           6            6  78000.0\n"
     ]
    }
   ],
   "source": [
    "# import to CSV\n",
    "data = {\n",
    "    'Name': ['Alice', 'Bob', 'Charlie', 'David', 'Eva', 'Frank', 'Grace', 'Helen', 'Helen', 'Helen', 'Jerry'],\n",
    "    'Age': [25, 30, 35, 40, 22, 28, 32, 26, 26, 26, 23],\n",
    "    'City': ['Chicago', 'Los Angeles', 'Chicago', 'Houston', 'Houston', np.nan, 'San Antonio', 'San Diego', 'San Diego', 'San Diego', 'Phoenix'],\n",
    "    'Experience': [2, 5, 7, 10, 1, 3, 6, 2, 2, 2, 6],\n",
    "    'Experience2': [2, 5, 7, 10, 1, 3, 6, 2, 2, 2, 6],\n",
    "    'Salary': [70000.0, 80000.0, np.nan, 90000.0, 48000.0, 72000.0, 85000.0, 62000.0, 62000.0, 62000.0, 78000.0]\n",
    "}\n",
    "\n",
    "df = pd.DataFrame(data)\n",
    "print(df)\n",
    "\n",
    "# # different ways to export data to file\n",
    "df.to_csv(data_file, index=False)\n",
    "df.to_excel('data.xlsx', index=False, sheet_name='Sheet1')\n",
    "df.to_json('data.json', orient='records', lines=True)\n",
    "df.to_pickle('data.pkl')\n",
    "\n",
    "#Skip following\n",
    "# df.to_sql('my_table', conn, if_exists='replace', index=False)  # Requires SQLAlchemy or sqlite3\n"
   ]
  },
  {
   "cell_type": "code",
   "execution_count": 112,
   "id": "374313cb-603e-4b3c-a633-17686ba777da",
   "metadata": {},
   "outputs": [
    {
     "name": "stdout",
     "output_type": "stream",
     "text": [
      "\n",
      "DataFrame1:\n",
      "        Name  Age         City  Experience  Experience2   Salary\n",
      "0     Alice   25      Chicago           2            2  70000.0\n",
      "1       Bob   30  Los Angeles           5            5  80000.0\n",
      "2   Charlie   35      Chicago           7            7      NaN\n",
      "3     David   40      Houston          10           10  90000.0\n",
      "4       Eva   22      Houston           1            1  48000.0\n",
      "5     Frank   28          NaN           3            3  72000.0\n",
      "6     Grace   32  San Antonio           6            6  85000.0\n",
      "7     Helen   26    San Diego           2            2  62000.0\n",
      "8     Helen   26    San Diego           2            2  62000.0\n",
      "9     Helen   26    San Diego           2            2  62000.0\n",
      "10    Jerry   23      Phoenix           6            6  78000.0\n"
     ]
    }
   ],
   "source": [
    "# Or Export from CSV with comma seperator\n",
    "# from pathlib import Path\n",
    "# data_file = Path.cwd() / 'data.csv'\n",
    "\n",
    "# df = pd.read_csv(data_file)\n",
    "df = pd.read_csv(data_file)\n",
    "\n",
    "print(\"\\nDataFrame1:\\n\", df)\n",
    "# print(f\"\\nDataFrame1:\\n{}\")"
   ]
  },
  {
   "cell_type": "code",
   "execution_count": 113,
   "id": "4f023039-ea39-4b48-866a-62e155afebd1",
   "metadata": {},
   "outputs": [
    {
     "name": "stdout",
     "output_type": "stream",
     "text": [
      "   PassengerId  Survived  Pclass  \\\n",
      "0            1         0       3   \n",
      "1            2         1       1   \n",
      "2            3         1       3   \n",
      "3            4         1       1   \n",
      "4            5         0       3   \n",
      "\n",
      "                                                Name     Sex   Age  SibSp  \\\n",
      "0                            Braund, Mr. Owen Harris    male  22.0      1   \n",
      "1  Cumings, Mrs. John Bradley (Florence Briggs Th...  female  38.0      1   \n",
      "2                             Heikkinen, Miss. Laina  female  26.0      0   \n",
      "3       Futrelle, Mrs. Jacques Heath (Lily May Peel)  female  35.0      1   \n",
      "4                           Allen, Mr. William Henry    male  35.0      0   \n",
      "\n",
      "   Parch            Ticket     Fare Cabin Embarked  \n",
      "0      0         A/5 21171   7.2500   NaN        S  \n",
      "1      0          PC 17599  71.2833   C85        C  \n",
      "2      0  STON/O2. 3101282   7.9250   NaN        S  \n",
      "3      0            113803  53.1000  C123        S  \n",
      "4      0            373450   8.0500   NaN        S  \n"
     ]
    }
   ],
   "source": [
    "# different ways to import\n",
    "\n",
    "# df = pd.read_csv('semi-colon.txt', sep=';') # file has , in the data\n",
    "# print(df)\n",
    "\n",
    "df = pd.read_csv('https://raw.githubusercontent.com/ash322ash422/tut_pandas_numpy/refs/heads/master/titanic.csv', sep=',')\n",
    "print(df.head(5))\n",
    "\n",
    "# df = pd.read_excel('data.xlsx', sheet_name='Sheet1')  # Requires openpyxl or xlrd\n",
    "# print(df.head(5))\n",
    "\n",
    "\n",
    "# df = pd.read_excel('data.xlsx', names = ['a', 'b', 'c', 'd', 'e', 'f'], skiprows=[1], sheet_name='Sheet1')  # Requires openpyxl or xlrd\n",
    "# print(df.head(5))\n",
    "\n",
    "\n",
    "\n",
    "# df = pd.read_json('data.json',  lines=True)\n",
    "# print(df.head(5))\n",
    "\n",
    "# df = pd.read_pickle('data.pkl')\n",
    "# print(df.head(5))\n",
    "\n",
    "#NOTE: LEGALITY\n",
    "# url = 'https://en.wikipedia.org/wiki/List_of_countries_and_dependencies_by_population'\n",
    "# tables = pd.read_html(url)  # returns a list of DataFrames\n",
    "# print(f\"Total tables: {len(tables)}\")\n",
    "# df = tables[2]\n",
    "# print(df.head(5))\n",
    "\n",
    "# url = 'https://en.wikipedia.org/wiki/Minnesota'\n",
    "# tables = pd.read_html(url)  # returns a list of DataFrames\n",
    "# print(f\"Total tables: {len(tables)}\")\n",
    "# df = tables[2]\n",
    "# print(df.head(5))\n",
    "\n",
    "### Following skip for now############\n",
    "# import sqlite3\n",
    "# conn = sqlite3.connect('my_database.db')\n",
    "# df = pd.read_sql('SELECT * FROM my_table', conn)\n",
    "\n"
   ]
  },
  {
   "cell_type": "markdown",
   "id": "ad9bceb6-2b73-4fef-9402-2d0f5e1cd966",
   "metadata": {},
   "source": [
    "## Access columns"
   ]
  },
  {
   "cell_type": "code",
   "execution_count": 114,
   "id": "bec63e16-584d-41d5-a153-7d0acf97fce6",
   "metadata": {},
   "outputs": [
    {
     "name": "stdout",
     "output_type": "stream",
     "text": [
      "<class 'pandas.core.series.Series'>\n",
      "0     25\n",
      "1     30\n",
      "2     35\n",
      "3     40\n",
      "4     22\n",
      "5     28\n",
      "6     32\n",
      "7     26\n",
      "8     26\n",
      "9     26\n",
      "10    23\n",
      "Name: Age, dtype: int64\n",
      "<class 'pandas.core.series.Series'>\n",
      "0     25\n",
      "1     30\n",
      "2     35\n",
      "3     40\n",
      "4     22\n",
      "5     28\n",
      "6     32\n",
      "7     26\n",
      "8     26\n",
      "9     26\n",
      "10    23\n",
      "Name: Age, dtype: int64\n"
     ]
    }
   ],
   "source": [
    "df = pd.read_csv(data_file)\n",
    "\n",
    "# style1\n",
    "series_age = df['Age']\n",
    "print(type(series_age)) # <class 'pandas.core.series.Series'>\n",
    "print(series_age)\n",
    "\n",
    "# style2\n",
    "series_age = df.Age\n",
    "print(type(series_age)) # <class 'pandas.core.series.Series'>\n",
    "print(series_age)"
   ]
  },
  {
   "cell_type": "code",
   "execution_count": 115,
   "id": "c866f948-f1f9-4e59-b132-06dae3c7989e",
   "metadata": {},
   "outputs": [
    {
     "name": "stdout",
     "output_type": "stream",
     "text": [
      "       Name         City\n",
      "0     Alice      Chicago\n",
      "1       Bob  Los Angeles\n",
      "2   Charlie      Chicago\n",
      "3     David      Houston\n",
      "4       Eva      Houston\n",
      "5     Frank          NaN\n",
      "6     Grace  San Antonio\n",
      "7     Helen    San Diego\n",
      "8     Helen    San Diego\n",
      "9     Helen    San Diego\n",
      "10    Jerry      Phoenix\n"
     ]
    }
   ],
   "source": [
    "# access mutiple columns\n",
    "df_temp = df[['Name', 'City']]\n",
    "print(df_temp)"
   ]
  },
  {
   "cell_type": "code",
   "execution_count": 116,
   "id": "2da6a1e0-9718-481c-8045-6efdda5883a1",
   "metadata": {},
   "outputs": [
    {
     "name": "stdout",
     "output_type": "stream",
     "text": [
      "['Name', 'Age', 'City', 'Experience', 'Experience2', 'Salary']\n"
     ]
    }
   ],
   "source": [
    "names_of_col = df.columns.tolist()\n",
    "print(names_of_col)"
   ]
  },
  {
   "cell_type": "markdown",
   "id": "9c0792c1-9f2a-46c0-9171-5373a3b2a0d9",
   "metadata": {},
   "source": [
    "### slicing"
   ]
  },
  {
   "cell_type": "code",
   "execution_count": 117,
   "id": "38415930-977b-4bba-bc7e-e99171122b68",
   "metadata": {},
   "outputs": [
    {
     "name": "stdout",
     "output_type": "stream",
     "text": [
      "\n",
      "Slicing rows [2:9]:\n",
      "       Name  Age         City  Experience  Experience2   Salary\n",
      "2  Charlie   35      Chicago           7            7      NaN\n",
      "3    David   40      Houston          10           10  90000.0\n",
      "4      Eva   22      Houston           1            1  48000.0\n",
      "5    Frank   28          NaN           3            3  72000.0\n",
      "6    Grace   32  San Antonio           6            6  85000.0\n",
      "7    Helen   26    San Diego           2            2  62000.0\n",
      "8    Helen   26    San Diego           2            2  62000.0\n",
      "\n",
      "Slicing rows [2:9:2]:\n",
      "       Name  Age         City  Experience  Experience2   Salary\n",
      "2  Charlie   35      Chicago           7            7      NaN\n",
      "4      Eva   22      Houston           1            1  48000.0\n",
      "6    Grace   32  San Antonio           6            6  85000.0\n",
      "8    Helen   26    San Diego           2            2  62000.0\n",
      "\n",
      "Every 3rd row:\n",
      "     Name  Age         City  Experience  Experience2   Salary\n",
      "0  Alice   25      Chicago           2            2  70000.0\n",
      "3  David   40      Houston          10           10  90000.0\n",
      "6  Grace   32  San Antonio           6            6  85000.0\n",
      "9  Helen   26    San Diego           2            2  62000.0\n",
      "\n",
      "Reversed DataFrame:\n",
      "        Name  Age         City  Experience  Experience2   Salary\n",
      "10    Jerry   23      Phoenix           6            6  78000.0\n",
      "9     Helen   26    San Diego           2            2  62000.0\n",
      "8     Helen   26    San Diego           2            2  62000.0\n",
      "7     Helen   26    San Diego           2            2  62000.0\n",
      "6     Grace   32  San Antonio           6            6  85000.0\n",
      "5     Frank   28          NaN           3            3  72000.0\n",
      "4       Eva   22      Houston           1            1  48000.0\n",
      "3     David   40      Houston          10           10  90000.0\n",
      "2   Charlie   35      Chicago           7            7      NaN\n",
      "1       Bob   30  Los Angeles           5            5  80000.0\n",
      "0     Alice   25      Chicago           2            2  70000.0\n",
      "\n",
      "Out-of-bounds slicing [1:3:9] just returns matching row(s):\n",
      "   Name  Age         City  Experience  Experience2   Salary\n",
      "1  Bob   30  Los Angeles           5            5  80000.0\n"
     ]
    }
   ],
   "source": [
    "# Slice rows from index 2 to 8\n",
    "print(\"\\nSlicing rows [2:9]:\\n\", df[2:9])  # Rows 2,3,... 8\n",
    "\n",
    "# Slice rows from index 2 to 8, step 2\n",
    "print(\"\\nSlicing rows [2:9:2]:\\n\", df[2:9:2])  # Rows 2, 4, 6, 8\n",
    "\n",
    "# Slice all rows with a step of 3\n",
    "print(\"\\nEvery 3rd row:\\n\", df[::3])  # Rows 0, 3, 6, 9\n",
    "\n",
    "# Reverse the DataFrame\n",
    "print(\"\\nReversed DataFrame:\\n\", df[::-1])  # From last to first\n",
    "\n",
    "\n",
    "# Example: out-of-range slicing doesn't error\n",
    "print(\"\\nOut-of-bounds slicing [1:3:9] just returns matching row(s):\\n\", df[1:3:20])  # Row 1 only (step 9 has no effect since only one row in range)"
   ]
  },
  {
   "cell_type": "markdown",
   "id": "b3ed1599-5014-4d0f-8384-cf3036d27e66",
   "metadata": {},
   "source": [
    "## loc, iloc\n",
    "- loc - Label-based selection\n",
    "- .iloc[] – Integer position-based selection"
   ]
  },
  {
   "cell_type": "code",
   "execution_count": 118,
   "id": "021b3d6a-db5f-4a71-b500-606fff62b290",
   "metadata": {},
   "outputs": [
    {
     "name": "stdout",
     "output_type": "stream",
     "text": [
      "      Name  Age     City\n",
      "a    Alice   25  Chicago\n",
      "b      Bob   30       LA\n",
      "c  Charlie   35  Chicago\n",
      "d    David   40  Houston\n",
      "e      Eva   22  Houston\n"
     ]
    }
   ],
   "source": [
    "data = {\n",
    "    'Name': ['Alice', 'Bob', 'Charlie', 'David', 'Eva'],\n",
    "    'Age': [25, 30, 35, 40, 22],\n",
    "    'City': ['Chicago', 'LA', 'Chicago', 'Houston', 'Houston']\n",
    "}\n",
    "\n",
    "df = pd.DataFrame(data, index=['a', 'b', 'c', 'd', 'e'])\n",
    "print(df)\n",
    "#############################################\n",
    "# 1. Access a single row by label:\n",
    "df.loc['b']\n",
    "\n",
    "# 2. Access multiple rows by labels:\n",
    "df.loc[['a', 'c', 'e']]\n",
    "\n",
    "# 3. Access specific rows and columns:\n",
    "df.loc[['a', 'b'], ['Name', 'City']]\n",
    "\n",
    "# 4. Filter rows with a condition:\n",
    "df.loc[df['Age'] > 30]\n",
    "df.loc[df['Age'] > 30 , ['Name', 'City']]\n",
    "###########################################\n",
    "# 1. Access a single row by index:\n",
    "df.iloc[1]  # second row\n",
    "\n",
    "# 2. Access a specific cell (row 1, column 2):\n",
    "df.iloc[1, 2]  # LA\n",
    "\n",
    "# 3. Access multiple rows and columns:\n",
    "df.iloc[0:3, 0:2]  # First 3 rows, first 2 columns\n",
    "\n",
    "# 4. Modify a value:\n",
    "df.iloc[0, 1] = 26  # Change Alice's age from 25 to 26"
   ]
  },
  {
   "cell_type": "markdown",
   "id": "6f554580-183b-4067-befd-3ffe8a198950",
   "metadata": {},
   "source": [
    "## Add rows/ columns ; remove rows / columns "
   ]
  },
  {
   "cell_type": "code",
   "execution_count": 119,
   "id": "fca6ce91-db1e-4c87-a4fb-d8a2a1300e29",
   "metadata": {},
   "outputs": [
    {
     "name": "stdout",
     "output_type": "stream",
     "text": [
      "       Name  Age         City  Experience  Experience2   Salary\n",
      "0     Alice   25      Chicago           2            2  70000.0\n",
      "1       Bob   30  Los Angeles           5            5  80000.0\n",
      "2   Charlie   35      Chicago           7            7      NaN\n",
      "3     David   40      Houston          10           10  90000.0\n",
      "4       Eva   22      Houston           1            1  48000.0\n",
      "5     Frank   28          NaN           3            3  72000.0\n",
      "6     Grace   32  San Antonio           6            6  85000.0\n",
      "7     Helen   26    San Diego           2            2  62000.0\n",
      "8     Helen   26    San Diego           2            2  62000.0\n",
      "9     Helen   26    San Diego           2            2  62000.0\n",
      "10    Jerry   23      Phoenix           6            6  78000.0\n"
     ]
    }
   ],
   "source": [
    "df = pd.read_csv('data.csv')\n",
    "print(df)"
   ]
  },
  {
   "cell_type": "code",
   "execution_count": 120,
   "id": "37994e0e-2965-4c65-ab1e-58c7eb29ec82",
   "metadata": {},
   "outputs": [
    {
     "name": "stdout",
     "output_type": "stream",
     "text": [
      "        Name  Age         City  Experience  Experience2   Salary\n",
      "0      Alice   25      Chicago           2            2  70000.0\n",
      "1        Bob   30  Los Angeles           5            5  80000.0\n",
      "2    Charlie   35      Chicago           7            7      NaN\n",
      "3      David   40      Houston          10           10  90000.0\n",
      "4        Eva   22      Houston           1            1  48000.0\n",
      "5      Frank   28          NaN           3            3  72000.0\n",
      "6      Grace   32  San Antonio           6            6  85000.0\n",
      "7      Helen   26    San Diego           2            2  62000.0\n",
      "8      Helen   26    San Diego           2            2  62000.0\n",
      "9      Helen   26    San Diego           2            2  62000.0\n",
      "10     Jerry   23      Phoenix           6            6  78000.0\n",
      "11  Mihindou   29        Tokyo           4            4  67000.0\n"
     ]
    }
   ],
   "source": [
    "# add a recoord\n",
    "df.loc[len(df)] = ['Mihindou', 29, 'Tokyo', 4, 4, 67000.0]\n",
    "print(df)"
   ]
  },
  {
   "cell_type": "code",
   "execution_count": 121,
   "id": "c9110558-6f0e-4ed5-ae56-5f54558944d7",
   "metadata": {},
   "outputs": [
    {
     "name": "stdout",
     "output_type": "stream",
     "text": [
      "       Name  Age         City  Experience  Experience2   Salary\n",
      "0     Alice   25      Chicago           2            2  70000.0\n",
      "1       Bob   30  Los Angeles           5            5  80000.0\n",
      "2   Charlie   35      Chicago           7            7      NaN\n",
      "3     David   40      Houston          10           10  90000.0\n",
      "4       Eva   22      Houston           1            1  48000.0\n",
      "5     Frank   28          NaN           3            3  72000.0\n",
      "6     Grace   32  San Antonio           6            6  85000.0\n",
      "7     Helen   26    San Diego           2            2  62000.0\n",
      "8     Helen   26    San Diego           2            2  62000.0\n",
      "9     Helen   26    San Diego           2            2  62000.0\n",
      "10    Jerry   23      Phoenix           6            6  78000.0\n"
     ]
    }
   ],
   "source": [
    "# drop row based on index\n",
    "df = df.drop([11,])\n",
    "print(df)"
   ]
  },
  {
   "cell_type": "code",
   "execution_count": 122,
   "id": "a9e9c9bd-5104-4f2f-9a32-8fff4972e66c",
   "metadata": {},
   "outputs": [
    {
     "name": "stdout",
     "output_type": "stream",
     "text": [
      "\n",
      "After :\n",
      "        Name  Age         City  Experience  Experience2   Salary  \\\n",
      "0     Alice   25      Chicago           2            2  70000.0   \n",
      "1       Bob   30  Los Angeles           5            5  80000.0   \n",
      "2   Charlie   35      Chicago           7            7      NaN   \n",
      "3     David   40      Houston          10           10  90000.0   \n",
      "4       Eva   22      Houston           1            1  48000.0   \n",
      "5     Frank   28          NaN           3            3  72000.0   \n",
      "6     Grace   32  San Antonio           6            6  85000.0   \n",
      "7     Helen   26    San Diego           2            2  62000.0   \n",
      "8     Helen   26    San Diego           2            2  62000.0   \n",
      "9     Helen   26    San Diego           2            2  62000.0   \n",
      "10    Jerry   23      Phoenix           6            6  78000.0   \n",
      "\n",
      "                company  \n",
      "0   Lucent Technologies  \n",
      "1   Lucent Technologies  \n",
      "2   Lucent Technologies  \n",
      "3   Lucent Technologies  \n",
      "4   Lucent Technologies  \n",
      "5   Lucent Technologies  \n",
      "6   Lucent Technologies  \n",
      "7   Lucent Technologies  \n",
      "8   Lucent Technologies  \n",
      "9   Lucent Technologies  \n",
      "10  Lucent Technologies  \n"
     ]
    }
   ],
   "source": [
    "df['company'] = \"Lucent Technologies\" # create a new column with same values all across rows\n",
    "print(\"\\nAfter :\\n\",df)"
   ]
  },
  {
   "cell_type": "code",
   "execution_count": 123,
   "id": "6461527f-dde5-4abe-a764-6169b371b3d8",
   "metadata": {},
   "outputs": [
    {
     "name": "stdout",
     "output_type": "stream",
     "text": [
      "\n",
      "After dropping a column:\n",
      "        Name  Age         City  Experience   Salary\n",
      "0     Alice   25      Chicago           2  70000.0\n",
      "1       Bob   30  Los Angeles           5  80000.0\n",
      "2   Charlie   35      Chicago           7      NaN\n",
      "3     David   40      Houston          10  90000.0\n",
      "4       Eva   22      Houston           1  48000.0\n",
      "5     Frank   28          NaN           3  72000.0\n",
      "6     Grace   32  San Antonio           6  85000.0\n",
      "7     Helen   26    San Diego           2  62000.0\n",
      "8     Helen   26    San Diego           2  62000.0\n",
      "9     Helen   26    San Diego           2  62000.0\n",
      "10    Jerry   23      Phoenix           6  78000.0\n"
     ]
    }
   ],
   "source": [
    "# Lets drop the above 'Salary_increase' column\n",
    "df.drop(columns=['company','Experience2'], inplace=True)\n",
    "print(\"\\nAfter dropping a column:\\n\",df)"
   ]
  },
  {
   "cell_type": "code",
   "execution_count": 124,
   "id": "3f30e001-7fae-4b0b-8c3b-292b42fa6703",
   "metadata": {},
   "outputs": [
    {
     "name": "stdout",
     "output_type": "stream",
     "text": [
      "       Name  Age         City  Experience   Salary\n",
      "0     Alice   25      Chicago           2  70000.0\n",
      "1       Bob   30           LA           5  80000.0\n",
      "2   Charlie   35      Chicago           7      NaN\n",
      "3     David   40      Houston          10  90000.0\n",
      "4       Eva   22      Houston           1  48000.0\n",
      "5     Frank   28          NaN           3  72000.0\n",
      "6     Grace   32  San Antonio           6  85000.0\n",
      "7     Helen   26           SD           2  62000.0\n",
      "8     Helen   26           SD           2  62000.0\n",
      "9     Helen   26           SD           2  62000.0\n",
      "10    Jerry   23      Phoenix           6  78000.0\n"
     ]
    }
   ],
   "source": [
    "df['City'] = df['City'].replace({'Los Angeles': 'LA', 'San Diego': 'SD'})\n",
    "print(df)"
   ]
  },
  {
   "cell_type": "markdown",
   "id": "669072cc-30ef-4a24-91c3-5956e44dd2c4",
   "metadata": {},
   "source": [
    "## indexing"
   ]
  },
  {
   "cell_type": "code",
   "execution_count": 2,
   "id": "5f91c754-fd0e-431f-873a-429c3d4ea6b6",
   "metadata": {},
   "outputs": [
    {
     "name": "stdout",
     "output_type": "stream",
     "text": [
      "Original DataFrame:\n",
      "    Name  Age      City\n",
      "0  Rahim   25  New York\n",
      "1  Alice   30        LA\n",
      "2  Timmy   35   Chicago\n",
      "3  David   40   Houston\n",
      "000000000000000000000\n",
      "\n",
      "Set 'Name' as index:\n",
      "       Age      City\n",
      "Name                \n",
      "Rahim   25  New York\n",
      "Alice   30        LA\n",
      "Timmy   35   Chicago\n",
      "David   40   Houston\n",
      "11111111111111111111\n",
      "\n",
      "Reset index:\n",
      "    Name  Age      City\n",
      "0  Rahim   25  New York\n",
      "1  Alice   30        LA\n",
      "2  Timmy   35   Chicago\n",
      "3  David   40   Houston\n",
      "22222222222222222222222\n",
      "\n",
      "Set 'City' as index inplace:\n",
      "           Name  Age\n",
      "City                \n",
      "New York  Rahim   25\n",
      "LA        Alice   30\n",
      "Chicago   Timmy   35\n",
      "Houston   David   40\n",
      "3333333333333333333333333\n",
      "\n",
      "Manual index change:\n",
      "       Name  Age\n",
      "row1  Rahim   25\n",
      "row2  Alice   30\n",
      "row3  Timmy   35\n",
      "row4  David   40\n",
      "\n",
      "Access row using label 'Alice':\n",
      "Age     30\n",
      "City    LA\n",
      "Name: Alice, dtype: object\n",
      "\n",
      "Access row using position 0:\n",
      "Age           25\n",
      "City    New York\n",
      "Name: Rahim, dtype: object\n",
      "\n",
      "Multi-indexed DataFrame:\n",
      "                Age\n",
      "City     Name      \n",
      "New York Rahim   25\n",
      "LA       Alice   30\n",
      "Chicago  Timmy   35\n",
      "Houston  David   40\n",
      "\n",
      "Sorted by index:\n",
      "       Age      City\n",
      "Name                \n",
      "Alice   30        LA\n",
      "David   40   Houston\n",
      "Rahim   25  New York\n",
      "Timmy   35   Chicago\n"
     ]
    }
   ],
   "source": [
    "import pandas as pd\n",
    "\n",
    "# Sample DataFrame\n",
    "data = {\n",
    "    'Name': ['Rahim', 'Alice', 'Timmy', 'David'],\n",
    "    'Age': [25, 30, 35, 40],\n",
    "    'City': ['New York', 'LA', 'Chicago', 'Houston']\n",
    "}\n",
    "\n",
    "df = pd.DataFrame(data)\n",
    "print(\"Original DataFrame:\")\n",
    "print(df)\n",
    "print(\"000000000000000000000\")\n",
    "\n",
    "# 1. Set a column as the index\n",
    "df_indexed = df.set_index('Name')\n",
    "print(\"\\nSet 'Name' as index:\")\n",
    "print(df_indexed)\n",
    "print(\"11111111111111111111\")\n",
    "\n",
    "# 2. Reset index\n",
    "df_reset = df_indexed.reset_index()\n",
    "print(\"\\nReset index:\")\n",
    "print(df_reset)\n",
    "print(\"22222222222222222222222\")\n",
    "\n",
    "# 3. Set index inplace\n",
    "df.set_index('City', inplace=True)\n",
    "print(\"\\nSet 'City' as index inplace:\")\n",
    "print(df)\n",
    "print(\"3333333333333333333333333\")\n",
    "\n",
    "# 4. Change the index manually\n",
    "df.index = ['row1', 'row2', 'row3', 'row4'] \n",
    "print(\"\\nManual index change:\")\n",
    "print(df)\n",
    "\n",
    "# 5. Accessing rows using index\n",
    "df = df_reset  # Resetting to original\n",
    "\n",
    "# Set index to 'Name'\n",
    "df.set_index('Name', inplace=True)\n",
    "\n",
    "print(\"\\nAccess row using label 'Alice':\")\n",
    "print(df.loc['Alice'])\n",
    "\n",
    "print(\"\\nAccess row using position 0:\")\n",
    "print(df.iloc[0])\n",
    "\n",
    "# 6. Multi-indexing\n",
    "df_reset = df.reset_index()\n",
    "df_multi = df_reset.set_index(['City', 'Name'])\n",
    "print(\"\\nMulti-indexed DataFrame:\")\n",
    "print(df_multi)\n",
    "\n",
    "# 7. Sorting index\n",
    "df_sorted = df.sort_index()\n",
    "print(\"\\nSorted by index:\")\n",
    "print(df_sorted)\n"
   ]
  },
  {
   "cell_type": "code",
   "execution_count": null,
   "id": "88d29d23-83e6-48ff-a146-f72f178cb3ae",
   "metadata": {},
   "outputs": [],
   "source": []
  },
  {
   "cell_type": "code",
   "execution_count": null,
   "id": "62edcbf0-56b5-42d9-95cd-a29918f08c65",
   "metadata": {},
   "outputs": [],
   "source": []
  }
 ],
 "metadata": {
  "kernelspec": {
   "display_name": "Python 3 (ipykernel)",
   "language": "python",
   "name": "python3"
  },
  "language_info": {
   "codemirror_mode": {
    "name": "ipython",
    "version": 3
   },
   "file_extension": ".py",
   "mimetype": "text/x-python",
   "name": "python",
   "nbconvert_exporter": "python",
   "pygments_lexer": "ipython3",
   "version": "3.9.9"
  }
 },
 "nbformat": 4,
 "nbformat_minor": 5
}
