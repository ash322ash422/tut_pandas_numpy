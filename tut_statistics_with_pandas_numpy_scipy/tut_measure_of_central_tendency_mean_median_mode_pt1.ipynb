{
 "cells": [
  {
   "attachments": {},
   "cell_type": "markdown",
   "id": "f86310f7-6064-4a0c-bcf9-ef031127b852",
   "metadata": {},
   "source": [
    "# Measure of central tendency: Mean, Median, Mode"
   ]
  },
  {
   "cell_type": "markdown",
   "id": "a1af3c04-0e3c-42f1-8abd-483ef701ab41",
   "metadata": {},
   "source": [
    "#### Topics covered:\n",
    "- Calculate mean, median and mode of data from a CSV file"
   ]
  },
  {
   "attachments": {},
   "cell_type": "markdown",
   "id": "4136f6a7-4b13-4b5f-94a5-7462593f4247",
   "metadata": {},
   "source": [
    "## Mean\n",
    "- Mean = (Sum of data) / Total_number_of_data\n",
    "- Mean of 2, 4, 4, 5, 6, 7, 7, 120 is (2+4+4+5+6+7+7+120)/8 = 19.375 "
   ]
  },
  {
   "cell_type": "code",
   "execution_count": 25,
   "id": "70119147-df0c-4032-ad67-a30d95d79c5d",
   "metadata": {},
   "outputs": [],
   "source": [
    "import pandas as pd\n",
    "import numpy as np\n",
    "\n",
    "data_file = \"students_performance.csv\""
   ]
  },
  {
   "cell_type": "code",
   "execution_count": 17,
   "id": "aa723b2b-480c-4e6b-a4cc-b9d930e08583",
   "metadata": {},
   "outputs": [
    {
     "name": "stdout",
     "output_type": "stream",
     "text": [
      "   age_kids\n",
      "0         2\n",
      "1         4\n",
      "2         4\n",
      "3         5\n",
      "4         6\n",
      "5         7\n",
      "6         7\n",
      "7       120\n"
     ]
    }
   ],
   "source": [
    "# lets create a DF\n",
    "\n",
    "data = {\n",
    "    \"age_kids\": [2, 4, 4, 5, 6, 7, 7, 120]\n",
    "}\n",
    "df = pd.DataFrame(data)\n",
    "print(df)"
   ]
  },
  {
   "cell_type": "code",
   "execution_count": 18,
   "id": "20c58721-3f78-4fdb-a212-86d42a707099",
   "metadata": {},
   "outputs": [
    {
     "name": "stdout",
     "output_type": "stream",
     "text": [
      "19.375\n"
     ]
    }
   ],
   "source": [
    "mean = df[\"age_kids\"].mean()\n",
    "print(mean)"
   ]
  },
  {
   "cell_type": "code",
   "execution_count": null,
   "id": "7fd6941d-0410-490b-8707-7eed7f50025c",
   "metadata": {},
   "outputs": [],
   "source": []
  },
  {
   "cell_type": "code",
   "execution_count": 14,
   "id": "acdc196e-6743-493d-b7fb-b2db4af60803",
   "metadata": {},
   "outputs": [
    {
     "name": "stdout",
     "output_type": "stream",
     "text": [
      "66.089\n"
     ]
    }
   ],
   "source": [
    "# Lets read a CSV file and calculate mean of math score\n",
    "df = pd.read_csv(data_file)\n",
    "# print(df)\n",
    "\n",
    "mean = df[\"math score\"].mean()\n",
    "print(mean)"
   ]
  },
  {
   "cell_type": "code",
   "execution_count": null,
   "id": "b2cea4ee-3eb7-4b3c-9684-5ce7ad19a31a",
   "metadata": {},
   "outputs": [],
   "source": []
  },
  {
   "cell_type": "code",
   "execution_count": null,
   "id": "7069c7c2-0a01-4e9e-97b6-07c76ec2612c",
   "metadata": {},
   "outputs": [],
   "source": []
  },
  {
   "cell_type": "code",
   "execution_count": null,
   "id": "a748b3c8-0afe-4ea8-b7ae-67a67a634df8",
   "metadata": {},
   "outputs": [],
   "source": []
  },
  {
   "cell_type": "code",
   "execution_count": null,
   "id": "cd946881-574a-4883-aa13-162bc9bc4c58",
   "metadata": {},
   "outputs": [],
   "source": []
  },
  {
   "cell_type": "code",
   "execution_count": null,
   "id": "d0f8450d-105d-45dd-8de5-ffbdc301a774",
   "metadata": {},
   "outputs": [],
   "source": []
  },
  {
   "cell_type": "markdown",
   "id": "cc26a2ee-7c62-4cb2-82c2-099de0fc9339",
   "metadata": {},
   "source": [
    "## Median\n",
    "\n",
    "```\n",
    "The median is the middle value in a dataset when the values are arranged in order (ascending or descending).\n",
    "\n",
    "If the dataset has an odd number of values → the median is the middle number.\n",
    "If the dataset has an even number of values → the median is the average of the two middle numbers.\n",
    "\n",
    "E.g. Find median: 4, 120, 7, 5, 7, 6, 4\n",
    "Step1: Arrange data in ascending: 4, 4, 5, 6, 7, 7, 120\n",
    "Step2: Middle value: 6\n",
    "\n",
    "E.g. Find median: 4, 120, 7, 2, 5, 7, 6, 4\n",
    "Step1: Arrange data in ascending: 2, 4, 4, 5, 6, 7, 7, 120\n",
    "Step2: Mean of 2 middle values: (5+6)/2 = 5.5\n",
    "```"
   ]
  },
  {
   "cell_type": "code",
   "execution_count": 19,
   "id": "ae52d113-d9a4-4887-9ce3-36282548568e",
   "metadata": {},
   "outputs": [
    {
     "name": "stdout",
     "output_type": "stream",
     "text": [
      "   age_kids\n",
      "0         4\n",
      "1       120\n",
      "2         7\n",
      "3         2\n",
      "4         5\n",
      "5         7\n",
      "6         6\n",
      "7         4\n"
     ]
    }
   ],
   "source": [
    "# lets create a DF\n",
    "\n",
    "data = {\n",
    "    \"age_kids\": [4, 120, 7, 2, 5, 7, 6, 4]\n",
    "}\n",
    "df = pd.DataFrame(data)\n",
    "print(df)"
   ]
  },
  {
   "cell_type": "code",
   "execution_count": 13,
   "id": "2ff89df4-869b-4375-9b8d-9f938e1b437e",
   "metadata": {},
   "outputs": [
    {
     "name": "stdout",
     "output_type": "stream",
     "text": [
      "5.5\n"
     ]
    }
   ],
   "source": [
    "median = df[\"age_kids\"].median()\n",
    "print(median)"
   ]
  },
  {
   "cell_type": "code",
   "execution_count": null,
   "id": "ffb76782-0c60-4449-84cc-4aef8a906f6f",
   "metadata": {},
   "outputs": [],
   "source": []
  },
  {
   "cell_type": "code",
   "execution_count": 16,
   "id": "32dc23fa-187a-4710-b9a5-d236c3a97176",
   "metadata": {},
   "outputs": [
    {
     "name": "stdout",
     "output_type": "stream",
     "text": [
      "     gender race/ethnicity parental level of education         lunch  \\\n",
      "0    female        group B           bachelor's degree      standard   \n",
      "1    female        group C                some college      standard   \n",
      "2    female        group B             master's degree      standard   \n",
      "3      male        group A          associate's degree  free/reduced   \n",
      "4      male        group C                some college      standard   \n",
      "..      ...            ...                         ...           ...   \n",
      "995  female        group E             master's degree      standard   \n",
      "996    male        group C                 high school  free/reduced   \n",
      "997  female        group C                 high school  free/reduced   \n",
      "998  female        group D                some college      standard   \n",
      "999  female        group D                some college  free/reduced   \n",
      "\n",
      "    test preparation course  math score  reading score  writing score  \n",
      "0                      none          72             72             74  \n",
      "1                 completed          69             90             88  \n",
      "2                      none          90             95             93  \n",
      "3                      none          47             57             44  \n",
      "4                      none          76             78             75  \n",
      "..                      ...         ...            ...            ...  \n",
      "995               completed          88             99             95  \n",
      "996                    none          62             55             55  \n",
      "997               completed          59             71             65  \n",
      "998               completed          68             78             77  \n",
      "999                    none          77             86             86  \n",
      "\n",
      "[1000 rows x 8 columns]\n",
      "66.0\n"
     ]
    }
   ],
   "source": [
    "# Lets read a CSV file and calculate median of math score\n",
    "df = pd.read_csv(data_file)\n",
    "print(df)\n",
    "\n",
    "median = df[\"math score\"].median()\n",
    "print(median)"
   ]
  },
  {
   "cell_type": "code",
   "execution_count": null,
   "id": "a8acb7bf-5665-45f7-899c-9f788ecbbf80",
   "metadata": {},
   "outputs": [],
   "source": []
  },
  {
   "cell_type": "code",
   "execution_count": null,
   "id": "da58daf3-9c13-4b2e-ba11-68258242aded",
   "metadata": {},
   "outputs": [],
   "source": []
  },
  {
   "cell_type": "code",
   "execution_count": null,
   "id": "0587c215-7e80-4b00-a978-faf2a85e8dc8",
   "metadata": {},
   "outputs": [],
   "source": []
  },
  {
   "attachments": {},
   "cell_type": "markdown",
   "id": "dd1073fa-a69a-4e32-9af6-41ff07e8f137",
   "metadata": {},
   "source": [
    "## Mode\n",
    "\n",
    "```\n",
    "Mode in descriptive statistics is the value that appears most frequently in a dataset. Unlike the mean (average) or median (middle value), the mode tells us about the most common or popular item.\n",
    "\n",
    "A dataset can have one mode (unimodal), more than one mode (bimodal or multimodal), or no mode if all values occur with the same frequency.\n",
    "\n",
    "Unimodal: [2, 2, 4, 6, 7, 7, 7, 7, 9]   Here there is only one mode, 7\n",
    "\n",
    "Unimodal: ['L', 'L', 'XL', 'M', 'M', 'L', 'XL', 'M', 'L']   Here there is only one mode, L\n",
    "\n",
    "Bimodal: [2, 2, 4, 6, 7, 7, 7, 7, 9, 9, 9, 9]   Here there are 2 modes, 7 and 9\n",
    "\n",
    "Mode is great for categorical or discrete data where mean/median may not make sense.\n",
    "```\n",
    "\n",
    "\n"
   ]
  },
  {
   "cell_type": "code",
   "execution_count": 46,
   "id": "2e1b1e1c-e10d-4d6e-b49e-58a75f1eabd3",
   "metadata": {},
   "outputs": [
    {
     "name": "stdout",
     "output_type": "stream",
     "text": [
      "7\n"
     ]
    }
   ],
   "source": [
    "# data in numbers\n",
    "data = {\n",
    "    \"Score\": [2, 2, 4, 6, 7, 7, 7, 7, 9]\n",
    "}\n",
    "df = pd.DataFrame(data)\n",
    "# print(df)\n",
    "\n",
    "mode = df[\"Score\"].mode()\n",
    "# print(mode)\n",
    "print(mode[0])"
   ]
  },
  {
   "cell_type": "code",
   "execution_count": 43,
   "id": "7ae8157b-9c4e-436a-a64f-fed581aa892c",
   "metadata": {},
   "outputs": [
    {
     "name": "stdout",
     "output_type": "stream",
     "text": [
      "Score\n",
      "7    4\n",
      "2    2\n",
      "4    1\n",
      "6    1\n",
      "9    1\n",
      "Name: count, dtype: int64\n"
     ]
    }
   ],
   "source": [
    "# side note: You can also calculate the value counts\n",
    "print(df[\"Score\"].value_counts())"
   ]
  },
  {
   "cell_type": "code",
   "execution_count": null,
   "id": "3ebcc4be-d7d1-479b-b26b-d348fc0a21ae",
   "metadata": {},
   "outputs": [],
   "source": []
  },
  {
   "cell_type": "code",
   "execution_count": 32,
   "id": "8a748ad4-47e9-430f-a328-5686da9d5a40",
   "metadata": {},
   "outputs": [
    {
     "name": "stdout",
     "output_type": "stream",
     "text": [
      "0    L\n",
      "Name: Size, dtype: object\n"
     ]
    }
   ],
   "source": [
    "# data is in form of strings\n",
    "data = {\n",
    "    \"Size\": ['L', 'L', 'XL', 'M', 'M', 'L', 'XL', 'M', 'L']\n",
    "}\n",
    "df = pd.DataFrame(data)\n",
    "# print(df)\n",
    "\n",
    "mode = df[\"Size\"].mode()\n",
    "print(mode[0])"
   ]
  },
  {
   "cell_type": "code",
   "execution_count": null,
   "id": "6d2868d0-0684-458f-a94b-9d6b2ece0d4e",
   "metadata": {},
   "outputs": [],
   "source": []
  },
  {
   "cell_type": "code",
   "execution_count": null,
   "id": "b7c8df70-ff0a-40b3-8cbf-a3fe6aecd22b",
   "metadata": {},
   "outputs": [],
   "source": []
  },
  {
   "cell_type": "code",
   "execution_count": 47,
   "id": "16cadfa0-2075-49b0-aa54-63323e6e0203",
   "metadata": {},
   "outputs": [
    {
     "name": "stdout",
     "output_type": "stream",
     "text": [
      "0    7\n",
      "1    9\n",
      "Name: Score, dtype: int64\n"
     ]
    }
   ],
   "source": [
    "# data has 2 modes\n",
    "data = {\n",
    "    \"Score\": [2, 2, 4, 6, 7, 7, 7, 7, 9, 9, 9, 9]\n",
    "}\n",
    "df = pd.DataFrame(data)\n",
    "# print(df)\n",
    "\n",
    "mode = df[\"Score\"].mode()\n",
    "print(mode)"
   ]
  },
  {
   "cell_type": "code",
   "execution_count": null,
   "id": "b7df2376-9b8e-4e81-8f7b-bf6a1e9269bf",
   "metadata": {},
   "outputs": [],
   "source": []
  },
  {
   "cell_type": "code",
   "execution_count": 39,
   "id": "9f785911-d9d4-4368-919e-9e359d8f8ae1",
   "metadata": {},
   "outputs": [
    {
     "name": "stdout",
     "output_type": "stream",
     "text": [
      "0    group C\n",
      "Name: race/ethnicity, dtype: object\n"
     ]
    }
   ],
   "source": [
    "# Lets read a CSV file and calculate mode of race, most common occuring values\n",
    "df = pd.read_csv(data_file)\n",
    "# print(df)\n",
    "\n",
    "mode = df[\"race/ethnicity\"].mode()\n",
    "print(mode)"
   ]
  },
  {
   "cell_type": "code",
   "execution_count": 41,
   "id": "624f1aae-b9db-42cf-9450-62939ba5a4f1",
   "metadata": {},
   "outputs": [
    {
     "name": "stdout",
     "output_type": "stream",
     "text": [
      "race/ethnicity\n",
      "group C    319\n",
      "group D    262\n",
      "group B    190\n",
      "group E    140\n",
      "group A     89\n",
      "Name: count, dtype: int64\n"
     ]
    }
   ],
   "source": [
    "# side note: You can also calculate the value counts\n",
    "\n",
    "print(df[\"race/ethnicity\"].value_counts())"
   ]
  },
  {
   "cell_type": "code",
   "execution_count": null,
   "id": "292ac722-08ee-4929-b736-ffd11a3784b5",
   "metadata": {},
   "outputs": [],
   "source": []
  }
 ],
 "metadata": {
  "kernelspec": {
   "display_name": "Python 3 (ipykernel)",
   "language": "python",
   "name": "python3"
  },
  "language_info": {
   "codemirror_mode": {
    "name": "ipython",
    "version": 3
   },
   "file_extension": ".py",
   "mimetype": "text/x-python",
   "name": "python",
   "nbconvert_exporter": "python",
   "pygments_lexer": "ipython3",
   "version": "3.9.9"
  }
 },
 "nbformat": 4,
 "nbformat_minor": 5
}
