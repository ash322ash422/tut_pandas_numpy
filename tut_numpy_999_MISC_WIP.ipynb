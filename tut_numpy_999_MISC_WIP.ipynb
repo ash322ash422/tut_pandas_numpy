{
 "cells": [
  {
   "cell_type": "markdown",
   "id": "c5ada5e5-8de8-497f-b42f-f2f200df58c0",
   "metadata": {},
   "source": [
    "### Topics covered:\n",
    "- unique\n",
    "- isin\n",
    "- set operations\n",
    "\n",
    "**Other operations** (OPTIONAL)\n",
    "- clip\n",
    "- swapaxes\n",
    "- delete\n",
    "- put\n",
    "\n",
    "**TODO**\n",
    "- Broadcasting\n"
   ]
  },
  {
   "cell_type": "code",
   "execution_count": 3,
   "id": "272dbb10-7337-48d1-a29b-51cce3e94c42",
   "metadata": {},
   "outputs": [],
   "source": [
    "import numpy as np"
   ]
  },
  {
   "cell_type": "markdown",
   "id": "233bd29f-a2ba-4733-a141-49d09913ee9f",
   "metadata": {},
   "source": [
    "## miscellaneous\n",
    "- isin\n",
    "- set operations"
   ]
  },
  {
   "cell_type": "code",
   "execution_count": 32,
   "id": "4b1af5fd-db06-46ab-823f-bd8ef552a63b",
   "metadata": {},
   "outputs": [
    {
     "name": "stdout",
     "output_type": "stream",
     "text": [
      "Matched Product IDs:\n",
      "[102 104]\n"
     ]
    }
   ],
   "source": [
    "# isin(): inbuilt method. Checks whether each element in the input array is present in a list of values.\n",
    "# It does Membership Testing\n",
    "\n",
    "# Imagine you run a small store and have a list of all available product IDs,\n",
    "# and another list of product IDs purchased by a customer. You want to identify\n",
    "# which of your products this customer actually bought.\n",
    "\n",
    "# All available products in your store (product IDs)\n",
    "available_products = np.array([101, 102, 103, 104, 105])\n",
    "\n",
    "# Products purchased by a customer\n",
    "purchased_products = np.array([102, 104, 106])  # 106 is not in your current inventory\n",
    "\n",
    "# Check which available products were purchased\n",
    "matching = np.isin(available_products, purchased_products)\n",
    "\n",
    "# Get the actual product IDs that were both available and purchased\n",
    "matched_products = available_products[matching]\n",
    "print(\"Matched Product IDs:\")\n",
    "print(matched_products)  # [102 104]\n",
    "\n",
    "\n",
    "# This operation helps in:\n",
    "# 1. Inventory tracking (what's in stock and was sold)\n",
    "# 2. Customer analytics (what’s commonly bought)\n",
    "# 3. Fraud detection (purchases of unavailable items)"
   ]
  },
  {
   "cell_type": "markdown",
   "id": "7aafef94-7031-4ea4-b41c-9420c72b3d1b",
   "metadata": {},
   "source": []
  },
  {
   "cell_type": "code",
   "execution_count": 34,
   "id": "ab507c9b-8857-466f-928c-67219f6ad7fe",
   "metadata": {},
   "outputs": [
    {
     "name": "stdout",
     "output_type": "stream",
     "text": [
      "[3 4]\n",
      "[1 2]\n",
      "[1 2 3 4 5 6]\n"
     ]
    }
   ],
   "source": [
    "# SKIP set operations\n",
    "\n",
    "a = np.array([1, 2, 3, 4])\n",
    "b = np.array([3, 4, 5, 6])\n",
    "\n",
    "print(np.intersect1d(a, b))  # Output: [3 4]  Elements common to both arrays\n",
    "print(np.setdiff1d(a, b))  # Output: [1 2]  Elements in a that are not in b\n",
    "print(np.union1d(a, b))  # Output: [1 2 3 4 5 6] All unique elements from both arrays\n",
    "\n",
    "# and there are many others"
   ]
  },
  {
   "cell_type": "markdown",
   "id": "d9ae2ad6-5a45-434f-a117-8929744b4ffa",
   "metadata": {},
   "source": [
    "## other operations:"
   ]
  },
  {
   "cell_type": "markdown",
   "id": "081a4c0a-871a-4c7a-9f80-770a1c08b5df",
   "metadata": {},
   "source": []
  },
  {
   "cell_type": "code",
   "execution_count": null,
   "id": "847e092f-ace9-4d67-b2f0-4ad4c8509537",
   "metadata": {},
   "outputs": [],
   "source": []
  },
  {
   "cell_type": "markdown",
   "id": "f4fd340a-f5d9-455f-a5c7-48fb67fb613f",
   "metadata": {},
   "source": []
  },
  {
   "cell_type": "code",
   "execution_count": null,
   "id": "e0ff1714-a5aa-4d7d-8562-5c312b957b39",
   "metadata": {},
   "outputs": [],
   "source": []
  },
  {
   "cell_type": "code",
   "execution_count": null,
   "id": "296b67c7-9555-4db6-90a3-d32a6eb557b7",
   "metadata": {},
   "outputs": [],
   "source": []
  },
  {
   "cell_type": "code",
   "execution_count": null,
   "id": "e2cb1fbd-5bb7-48f7-b356-34b4843f71fe",
   "metadata": {},
   "outputs": [],
   "source": []
  }
 ],
 "metadata": {
  "kernelspec": {
   "display_name": "Python 3 (ipykernel)",
   "language": "python",
   "name": "python3"
  },
  "language_info": {
   "codemirror_mode": {
    "name": "ipython",
    "version": 3
   },
   "file_extension": ".py",
   "mimetype": "text/x-python",
   "name": "python",
   "nbconvert_exporter": "python",
   "pygments_lexer": "ipython3",
   "version": "3.12.7"
  }
 },
 "nbformat": 4,
 "nbformat_minor": 5
}
