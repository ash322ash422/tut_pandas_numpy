{
 "cells": [
  {
   "cell_type": "markdown",
   "id": "590c5189",
   "metadata": {},
   "source": [
    "## pandas\n",
    "\n",
    "#### Topics:\n",
    "\n",
    "- label encoding, etc"
   ]
  },
  {
   "cell_type": "code",
   "execution_count": 56,
   "id": "eeac7e81-4866-4be2-9189-743d1683c30a",
   "metadata": {},
   "outputs": [
    {
     "name": "stdout",
     "output_type": "stream",
     "text": [
      "2.2.0\n"
     ]
    }
   ],
   "source": [
    "import pandas as pd\n",
    "import numpy as np\n",
    "import matplotlib.pyplot as plt\n",
    "import seaborn as sns\n",
    "\n",
    "print(pd.__version__)"
   ]
  },
  {
   "cell_type": "code",
   "execution_count": 57,
   "id": "169a0664-8a00-4cf0-a48f-c2c3d2bab402",
   "metadata": {},
   "outputs": [
    {
     "name": "stdout",
     "output_type": "stream",
     "text": [
      "      Name  Age         City  Experience  Salary\n",
      "0    Alice   25      Chicago           2   70000\n",
      "1      Bob   30  Los Angeles           5   80000\n",
      "2  Charlie   35      Chicago           7   71000\n",
      "3    David   40      Houston          10   90000\n",
      "4      Eva   22      Houston           1   48000\n",
      "5    Frank   28      Unknown           3   72000\n",
      "6    Grace   32  San Antonio           6   85000\n",
      "7    Helen   26    San Diego           2   62000\n",
      "8    Jerry   23      Phoenix           6   78000\n"
     ]
    }
   ],
   "source": [
    "df = pd.read_csv('data_clean.csv')\n",
    "df = df.drop(['Experience2',], axis=1)\n",
    "print(df)"
   ]
  },
  {
   "cell_type": "code",
   "execution_count": 58,
   "id": "b25fe823-7b1e-4e2e-acdf-0e1796ae1048",
   "metadata": {},
   "outputs": [
    {
     "name": "stdout",
     "output_type": "stream",
     "text": [
      "\n",
      "DataFrame after standard scaling:\n",
      "         Age  Experience    Salary\n",
      "0 -0.719712   -0.970143 -0.243491\n",
      "1  0.179928    0.121268  0.599362\n",
      "2  1.079568    0.848875 -0.159206\n",
      "3  1.979208    1.940285  1.442216\n",
      "4 -1.259496   -1.333946 -2.097768\n",
      "5 -0.179928   -0.606339 -0.074920\n",
      "6  0.539784    0.485071  1.020789\n",
      "7 -0.539784   -0.970143 -0.917774\n",
      "8 -1.079568    0.485071  0.430792\n",
      "\n",
      "DataFrame after minmax scaling:\n",
      "         Age  Experience    Salary\n",
      "0  0.166667    0.111111  0.523810\n",
      "1  0.444444    0.444444  0.761905\n",
      "2  0.722222    0.666667  0.547619\n",
      "3  1.000000    1.000000  1.000000\n",
      "4  0.000000    0.000000  0.000000\n",
      "5  0.333333    0.222222  0.571429\n",
      "6  0.555556    0.555556  0.880952\n",
      "7  0.222222    0.111111  0.333333\n",
      "8  0.055556    0.555556  0.714286\n",
      "\n",
      "DataFrame after robust scaling:\n",
      "         Age  Experience  Salary\n",
      "0 -0.428571       -0.75    -0.2\n",
      "1  0.285714        0.00     0.8\n",
      "2  1.000000        0.50    -0.1\n",
      "3  1.714286        1.25     1.8\n",
      "4 -0.857143       -1.00    -2.4\n",
      "5  0.000000       -0.50     0.0\n",
      "6  0.571429        0.25     1.3\n",
      "7 -0.285714       -0.75    -1.0\n",
      "8 -0.714286        0.25     0.6\n",
      "\n",
      "DataFrame after maxabs scaling:\n",
      "      Age  Experience    Salary\n",
      "0  0.625         0.2  0.777778\n",
      "1  0.750         0.5  0.888889\n",
      "2  0.875         0.7  0.788889\n",
      "3  1.000         1.0  1.000000\n",
      "4  0.550         0.1  0.533333\n",
      "5  0.700         0.3  0.800000\n",
      "6  0.800         0.6  0.944444\n",
      "7  0.650         0.2  0.688889\n",
      "8  0.575         0.6  0.866667\n",
      "\n",
      "DataFrame after normalizer scaling:\n",
      "         Age  Experience  Salary\n",
      "0  0.000357    0.000029     1.0\n",
      "1  0.000375    0.000062     1.0\n",
      "2  0.000493    0.000099     1.0\n",
      "3  0.000444    0.000111     1.0\n",
      "4  0.000458    0.000021     1.0\n",
      "5  0.000389    0.000042     1.0\n",
      "6  0.000376    0.000071     1.0\n",
      "7  0.000419    0.000032     1.0\n",
      "8  0.000295    0.000077     1.0\n"
     ]
    }
   ],
   "source": [
    "# different types of feature scaling\n",
    "from sklearn.preprocessing import StandardScaler, MinMaxScaler, RobustScaler, MaxAbsScaler, Normalizer\n",
    "\n",
    "numerical_cols = ['Age', 'Experience', 'Salary']\n",
    "\n",
    "scaler = StandardScaler()\n",
    "std_scalar_data = scaler.fit_transform(df[numerical_cols])\n",
    "std_scalar_df = pd.DataFrame(std_scalar_data, columns=numerical_cols)\n",
    "print(\"\\nDataFrame after standard scaling:\\n\", std_scalar_df)\n",
    "\n",
    "\n",
    "scaler = MinMaxScaler()\n",
    "minmax_scalar_data = scaler.fit_transform(df[numerical_cols])\n",
    "minmax_scalar_df = pd.DataFrame(minmax_scalar_data, columns=numerical_cols)\n",
    "print(\"\\nDataFrame after minmax scaling:\\n\", minmax_scalar_df)\n",
    "\n",
    "\n",
    "scaler = RobustScaler()\n",
    "robust_scalar_data = scaler.fit_transform(df[numerical_cols])\n",
    "robust_scalar_df = pd.DataFrame(robust_scalar_data, columns=numerical_cols)\n",
    "print(\"\\nDataFrame after robust scaling:\\n\", robust_scalar_df)\n",
    "\n",
    "\n",
    "scaler = MaxAbsScaler()\n",
    "maxabs_scalar_data = scaler.fit_transform(df[numerical_cols])\n",
    "maxabs_scalar_df = pd.DataFrame(maxabs_scalar_data, columns=numerical_cols)\n",
    "print(\"\\nDataFrame after maxabs scaling:\\n\", maxabs_scalar_df)\n",
    "\n",
    "\n",
    "scaler = Normalizer()\n",
    "normalizer_scalar_data = scaler.fit_transform(df[numerical_cols])\n",
    "normalizer_scalar_df = pd.DataFrame(normalizer_scalar_data, columns=numerical_cols)\n",
    "print(\"\\nDataFrame after normalizer scaling:\\n\", normalizer_scalar_df)"
   ]
  },
  {
   "cell_type": "code",
   "execution_count": 59,
   "id": "64df6c22-2968-4477-ac37-3e87f6a1f95d",
   "metadata": {},
   "outputs": [
    {
     "name": "stdout",
     "output_type": "stream",
     "text": [
      "      Name         City       Age  Experience  Salary\n",
      "0    Alice      Chicago  0.000357    0.000029     1.0\n",
      "1      Bob  Los Angeles  0.000375    0.000062     1.0\n",
      "2  Charlie      Chicago  0.000493    0.000099     1.0\n",
      "3    David      Houston  0.000444    0.000111     1.0\n",
      "4      Eva      Houston  0.000458    0.000021     1.0\n",
      "5    Frank      Unknown  0.000389    0.000042     1.0\n",
      "6    Grace  San Antonio  0.000376    0.000071     1.0\n",
      "7    Helen    San Diego  0.000419    0.000032     1.0\n",
      "8    Jerry      Phoenix  0.000295    0.000077     1.0\n"
     ]
    }
   ],
   "source": [
    "# Now add the other categorical columns\n",
    "df = pd.concat([df[['Name', 'City']], normalizer_scalar_df], axis=1)\n",
    "print(df)"
   ]
  },
  {
   "cell_type": "code",
   "execution_count": 60,
   "id": "3e9ed467-79fd-47a9-bd43-8bd15d93089b",
   "metadata": {},
   "outputs": [
    {
     "name": "stdout",
     "output_type": "stream",
     "text": [
      "\n",
      "DataFrame after encoding City column:\n",
      "       Name         City       Age  Experience  Salary  City_encoded\n",
      "0    Alice      Chicago  0.000357    0.000029     1.0             0\n",
      "1      Bob  Los Angeles  0.000375    0.000062     1.0             2\n",
      "2  Charlie      Chicago  0.000493    0.000099     1.0             0\n",
      "3    David      Houston  0.000444    0.000111     1.0             1\n",
      "4      Eva      Houston  0.000458    0.000021     1.0             1\n",
      "5    Frank      Unknown  0.000389    0.000042     1.0             6\n",
      "6    Grace  San Antonio  0.000376    0.000071     1.0             4\n",
      "7    Helen    San Diego  0.000419    0.000032     1.0             5\n",
      "8    Jerry      Phoenix  0.000295    0.000077     1.0             3\n"
     ]
    }
   ],
   "source": [
    "from sklearn.preprocessing import LabelEncoder\n",
    "\n",
    "# Encoding categorical variables\n",
    "label_encoder = LabelEncoder()\n",
    "df['City_encoded'] = label_encoder.fit_transform(df['City'])\n",
    "\n",
    "print(\"\\nDataFrame after encoding City column:\\n\", df)"
   ]
  },
  {
   "cell_type": "code",
   "execution_count": 61,
   "id": "192bea23-69d7-4e09-8683-e043c8451172",
   "metadata": {},
   "outputs": [
    {
     "name": "stdout",
     "output_type": "stream",
     "text": [
      "X_train shape: (7, 3)\n",
      "X_test  shape: (2, 3)\n",
      "###############################\n",
      "\n",
      "Training Features:\n",
      "        Age  Experience  City_encoded\n",
      "6  0.000376    0.000071             4\n",
      "2  0.000493    0.000099             0\n",
      "8  0.000295    0.000077             3\n",
      "0  0.000357    0.000029             0\n",
      "1  0.000375    0.000062             2\n",
      "5  0.000389    0.000042             6\n",
      "7  0.000419    0.000032             5\n",
      "\n",
      "Testing Features:\n",
      "        Age  Experience  City_encoded\n",
      "3  0.000444    0.000111             1\n",
      "4  0.000458    0.000021             1\n"
     ]
    }
   ],
   "source": [
    "# Splitting Data for Training and Testing\n",
    "from sklearn.model_selection import train_test_split\n",
    "\n",
    "X = df[['Age', 'Experience', 'City_encoded']]\n",
    "y = df['Salary']  # Assuming salary is the target variable\n",
    "\n",
    "X_train, X_test, y_train, y_test = train_test_split(X, y, test_size=0.2, random_state=4)\n",
    "\n",
    "print(f\"X_train shape: {X_train.shape}\")\n",
    "print(f\"X_test  shape: {X_test.shape}\")\n",
    "\n",
    "print(\"###############################\")\n",
    "\n",
    "print(f\"\\nTraining Features:\\n{X_train}\")\n",
    "print(f\"\\nTesting Features:\\n{X_test}\")"
   ]
  },
  {
   "cell_type": "code",
   "execution_count": null,
   "id": "3f30e001-7fae-4b0b-8c3b-292b42fa6703",
   "metadata": {},
   "outputs": [],
   "source": []
  },
  {
   "cell_type": "code",
   "execution_count": null,
   "id": "9af9d1d7-5ca9-4ed2-8422-dccf7313c54a",
   "metadata": {},
   "outputs": [],
   "source": []
  },
  {
   "cell_type": "code",
   "execution_count": null,
   "id": "68087a74-5f27-4499-a746-af1bf7c2da74",
   "metadata": {},
   "outputs": [],
   "source": []
  }
 ],
 "metadata": {
  "kernelspec": {
   "display_name": "Python 3 (ipykernel)",
   "language": "python",
   "name": "python3"
  },
  "language_info": {
   "codemirror_mode": {
    "name": "ipython",
    "version": 3
   },
   "file_extension": ".py",
   "mimetype": "text/x-python",
   "name": "python",
   "nbconvert_exporter": "python",
   "pygments_lexer": "ipython3",
   "version": "3.9.9"
  }
 },
 "nbformat": 4,
 "nbformat_minor": 5
}
